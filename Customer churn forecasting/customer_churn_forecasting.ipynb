{
 "cells": [
  {
   "cell_type": "markdown",
   "metadata": {
    "toc": true
   },
   "source": [
    "<h1>Содержание<span class=\"tocSkip\"></span></h1>\n",
    "<div class=\"toc\"><ul class=\"toc-item\"><li><span><a href=\"#Подготовка-данных\" data-toc-modified-id=\"Подготовка-данных-1\"><span class=\"toc-item-num\">1&nbsp;&nbsp;</span>Подготовка данных</a></span></li><li><span><a href=\"#Исследование-задачи\" data-toc-modified-id=\"Исследование-задачи-2\"><span class=\"toc-item-num\">2&nbsp;&nbsp;</span>Исследование задачи</a></span><ul class=\"toc-item\"><li><span><a href=\"#Random-Forest\" data-toc-modified-id=\"Random-Forest-2.1\"><span class=\"toc-item-num\">2.1&nbsp;&nbsp;</span>Random Forest</a></span></li><li><span><a href=\"#Linear-Regression\" data-toc-modified-id=\"Linear-Regression-2.2\"><span class=\"toc-item-num\">2.2&nbsp;&nbsp;</span>Linear Regression</a></span></li><li><span><a href=\"#Анализ-результатов\" data-toc-modified-id=\"Анализ-результатов-2.3\"><span class=\"toc-item-num\">2.3&nbsp;&nbsp;</span>Анализ результатов</a></span></li><li><span><a href=\"#Вывод\" data-toc-modified-id=\"Вывод-2.4\"><span class=\"toc-item-num\">2.4&nbsp;&nbsp;</span>Вывод</a></span></li></ul></li><li><span><a href=\"#Борьба-с-дисбалансом\" data-toc-modified-id=\"Борьба-с-дисбалансом-3\"><span class=\"toc-item-num\">3&nbsp;&nbsp;</span>Борьба с дисбалансом</a></span><ul class=\"toc-item\"><li><span><a href=\"#Сбалансирование-веса-классов\" data-toc-modified-id=\"Сбалансирование-веса-классов-3.1\"><span class=\"toc-item-num\">3.1&nbsp;&nbsp;</span>Сбалансирование веса классов</a></span></li><li><span><a href=\"#Увеличение-выборки\" data-toc-modified-id=\"Увеличение-выборки-3.2\"><span class=\"toc-item-num\">3.2&nbsp;&nbsp;</span>Увеличение выборки</a></span></li><li><span><a href=\"#Уменьшение-выборки\" data-toc-modified-id=\"Уменьшение-выборки-3.3\"><span class=\"toc-item-num\">3.3&nbsp;&nbsp;</span>Уменьшение выборки</a></span></li><li><span><a href=\"#Изменение-порога-вероятности\" data-toc-modified-id=\"Изменение-порога-вероятности-3.4\"><span class=\"toc-item-num\">3.4&nbsp;&nbsp;</span>Изменение порога вероятности</a></span></li><li><span><a href=\"#Вывод\" data-toc-modified-id=\"Вывод-3.5\"><span class=\"toc-item-num\">3.5&nbsp;&nbsp;</span>Вывод</a></span></li></ul></li><li><span><a href=\"#Тестирование-модели\" data-toc-modified-id=\"Тестирование-модели-4\"><span class=\"toc-item-num\">4&nbsp;&nbsp;</span>Тестирование модели</a></span></li><li><span><a href=\"#Вывод\" data-toc-modified-id=\"Вывод-5\"><span class=\"toc-item-num\">5&nbsp;&nbsp;</span>Вывод</a></span></li></ul></div>"
   ]
  },
  {
   "cell_type": "markdown",
   "metadata": {},
   "source": [
    "# Отток клиентов"
   ]
  },
  {
   "cell_type": "markdown",
   "metadata": {},
   "source": [
    "**Задание**\n",
    "\n",
    ">Из «Бета-Банка» стали уходить клиенты. Каждый месяц. Немного, но заметно. Банковские маркетологи посчитали: сохранять текущих клиентов дешевле, чем привлекать новых.\n",
    "<br><br>\n",
    "Нужно спрогнозировать, уйдёт клиент из банка в ближайшее время или нет. Вам предоставлены исторические данные о поведении клиентов и расторжении договоров с банком. \n",
    "<br><br>\n",
    "Постройте модель с предельно большим значением *F1*-меры. Чтобы сдать проект успешно, нужно довести метрику до 0.59. Проверьте *F1*-меру на тестовой выборке самостоятельно.\n",
    "<br><br>\n",
    "Дополнительно измеряйте *AUC-ROC*, сравнивайте её значение с *F1*-мерой.\n",
    "\n",
    "**Описание данных**\n",
    "\n",
    "Источник данных: [Kaggle.com](https://www.kaggle.com/barelydedicated/bank-customer-churn-modeling \"Bank customer churn modeling\")\n",
    "\n",
    "Датасет находится в `datasets/Churn.csv`\n",
    "\n",
    "| столбец   | описание\n",
    "| --------- | :--------\n",
    "| RowNumber | индекс строки в данных\n",
    "| CustomerId | уникальный идентификатор клиента\n",
    "| Surname | фамилия\n",
    "| CreditScore | кредитный рейтинг\n",
    "| Geography | страна проживания\n",
    "| Gender | пол\n",
    "| Age | возраст\n",
    "| Tenure | сколько лет человек является клиентом банка\n",
    "| Balance | баланс на счёте\n",
    "| NumOfProducts | количество продуктов банка, используемых клиентом\n",
    "| HasCrCard | наличие кредитной карты\n",
    "| IsActiveMember | активность клиента\n",
    "| EstimatedSalary | предполагаемая зарплата\n",
    "| Exited | факт ухода клиента\n",
    "\n",
    "**Решение**"
   ]
  },
  {
   "cell_type": "markdown",
   "metadata": {},
   "source": [
    "## Подготовка данных"
   ]
  },
  {
   "cell_type": "markdown",
   "metadata": {},
   "source": [
    "Импортируем библиотеки."
   ]
  },
  {
   "cell_type": "code",
   "execution_count": 1,
   "metadata": {},
   "outputs": [],
   "source": [
    "import warnings\n",
    "import pandas as pd\n",
    "import numpy as np\n",
    "import seaborn as sns\n",
    "import matplotlib.pyplot as plt\n",
    "\n",
    "from sklearn.model_selection import train_test_split, ParameterGrid\n",
    "from sklearn.utils import shuffle\n",
    "from sklearn.preprocessing import StandardScaler, OneHotEncoder\n",
    "\n",
    "from sklearn.tree import DecisionTreeClassifier\n",
    "from sklearn.ensemble import RandomForestClassifier\n",
    "from sklearn.linear_model import LogisticRegression\n",
    "\n",
    "from sklearn.metrics import (accuracy_score, confusion_matrix,\n",
    "                             roc_auc_score, f1_score, roc_curve,\n",
    "                             precision_recall_fscore_support)"
   ]
  },
  {
   "cell_type": "markdown",
   "metadata": {},
   "source": [
    "Сохраним данные из файла CSV в переменную data и посмотрим на общую информацию о датасете."
   ]
  },
  {
   "cell_type": "code",
   "execution_count": 2,
   "metadata": {},
   "outputs": [
    {
     "name": "stdout",
     "output_type": "stream",
     "text": [
      "<class 'pandas.core.frame.DataFrame'>\n",
      "RangeIndex: 10000 entries, 0 to 9999\n",
      "Data columns (total 14 columns):\n",
      " #   Column           Non-Null Count  Dtype  \n",
      "---  ------           --------------  -----  \n",
      " 0   RowNumber        10000 non-null  int64  \n",
      " 1   CustomerId       10000 non-null  int64  \n",
      " 2   Surname          10000 non-null  object \n",
      " 3   CreditScore      10000 non-null  int64  \n",
      " 4   Geography        10000 non-null  object \n",
      " 5   Gender           10000 non-null  object \n",
      " 6   Age              10000 non-null  int64  \n",
      " 7   Tenure           9091 non-null   float64\n",
      " 8   Balance          10000 non-null  float64\n",
      " 9   NumOfProducts    10000 non-null  int64  \n",
      " 10  HasCrCard        10000 non-null  int64  \n",
      " 11  IsActiveMember   10000 non-null  int64  \n",
      " 12  EstimatedSalary  10000 non-null  float64\n",
      " 13  Exited           10000 non-null  int64  \n",
      "dtypes: float64(3), int64(8), object(3)\n",
      "memory usage: 1.1+ MB\n"
     ]
    },
    {
     "data": {
      "text/html": [
       "<div>\n",
       "<style scoped>\n",
       "    .dataframe tbody tr th:only-of-type {\n",
       "        vertical-align: middle;\n",
       "    }\n",
       "\n",
       "    .dataframe tbody tr th {\n",
       "        vertical-align: top;\n",
       "    }\n",
       "\n",
       "    .dataframe thead th {\n",
       "        text-align: right;\n",
       "    }\n",
       "</style>\n",
       "<table border=\"1\" class=\"dataframe\">\n",
       "  <thead>\n",
       "    <tr style=\"text-align: right;\">\n",
       "      <th></th>\n",
       "      <th>RowNumber</th>\n",
       "      <th>CustomerId</th>\n",
       "      <th>Surname</th>\n",
       "      <th>CreditScore</th>\n",
       "      <th>Geography</th>\n",
       "      <th>Gender</th>\n",
       "      <th>Age</th>\n",
       "      <th>Tenure</th>\n",
       "      <th>Balance</th>\n",
       "      <th>NumOfProducts</th>\n",
       "      <th>HasCrCard</th>\n",
       "      <th>IsActiveMember</th>\n",
       "      <th>EstimatedSalary</th>\n",
       "      <th>Exited</th>\n",
       "    </tr>\n",
       "  </thead>\n",
       "  <tbody>\n",
       "    <tr>\n",
       "      <th>0</th>\n",
       "      <td>1</td>\n",
       "      <td>15634602</td>\n",
       "      <td>Hargrave</td>\n",
       "      <td>619</td>\n",
       "      <td>France</td>\n",
       "      <td>Female</td>\n",
       "      <td>42</td>\n",
       "      <td>2.0</td>\n",
       "      <td>0.00</td>\n",
       "      <td>1</td>\n",
       "      <td>1</td>\n",
       "      <td>1</td>\n",
       "      <td>101348.88</td>\n",
       "      <td>1</td>\n",
       "    </tr>\n",
       "    <tr>\n",
       "      <th>1</th>\n",
       "      <td>2</td>\n",
       "      <td>15647311</td>\n",
       "      <td>Hill</td>\n",
       "      <td>608</td>\n",
       "      <td>Spain</td>\n",
       "      <td>Female</td>\n",
       "      <td>41</td>\n",
       "      <td>1.0</td>\n",
       "      <td>83807.86</td>\n",
       "      <td>1</td>\n",
       "      <td>0</td>\n",
       "      <td>1</td>\n",
       "      <td>112542.58</td>\n",
       "      <td>0</td>\n",
       "    </tr>\n",
       "    <tr>\n",
       "      <th>2</th>\n",
       "      <td>3</td>\n",
       "      <td>15619304</td>\n",
       "      <td>Onio</td>\n",
       "      <td>502</td>\n",
       "      <td>France</td>\n",
       "      <td>Female</td>\n",
       "      <td>42</td>\n",
       "      <td>8.0</td>\n",
       "      <td>159660.80</td>\n",
       "      <td>3</td>\n",
       "      <td>1</td>\n",
       "      <td>0</td>\n",
       "      <td>113931.57</td>\n",
       "      <td>1</td>\n",
       "    </tr>\n",
       "    <tr>\n",
       "      <th>3</th>\n",
       "      <td>4</td>\n",
       "      <td>15701354</td>\n",
       "      <td>Boni</td>\n",
       "      <td>699</td>\n",
       "      <td>France</td>\n",
       "      <td>Female</td>\n",
       "      <td>39</td>\n",
       "      <td>1.0</td>\n",
       "      <td>0.00</td>\n",
       "      <td>2</td>\n",
       "      <td>0</td>\n",
       "      <td>0</td>\n",
       "      <td>93826.63</td>\n",
       "      <td>0</td>\n",
       "    </tr>\n",
       "    <tr>\n",
       "      <th>4</th>\n",
       "      <td>5</td>\n",
       "      <td>15737888</td>\n",
       "      <td>Mitchell</td>\n",
       "      <td>850</td>\n",
       "      <td>Spain</td>\n",
       "      <td>Female</td>\n",
       "      <td>43</td>\n",
       "      <td>2.0</td>\n",
       "      <td>125510.82</td>\n",
       "      <td>1</td>\n",
       "      <td>1</td>\n",
       "      <td>1</td>\n",
       "      <td>79084.10</td>\n",
       "      <td>0</td>\n",
       "    </tr>\n",
       "  </tbody>\n",
       "</table>\n",
       "</div>"
      ],
      "text/plain": [
       "   RowNumber  CustomerId   Surname  CreditScore Geography  Gender  Age  \\\n",
       "0          1    15634602  Hargrave          619    France  Female   42   \n",
       "1          2    15647311      Hill          608     Spain  Female   41   \n",
       "2          3    15619304      Onio          502    France  Female   42   \n",
       "3          4    15701354      Boni          699    France  Female   39   \n",
       "4          5    15737888  Mitchell          850     Spain  Female   43   \n",
       "\n",
       "   Tenure    Balance  NumOfProducts  HasCrCard  IsActiveMember  \\\n",
       "0     2.0       0.00              1          1               1   \n",
       "1     1.0   83807.86              1          0               1   \n",
       "2     8.0  159660.80              3          1               0   \n",
       "3     1.0       0.00              2          0               0   \n",
       "4     2.0  125510.82              1          1               1   \n",
       "\n",
       "   EstimatedSalary  Exited  \n",
       "0        101348.88       1  \n",
       "1        112542.58       0  \n",
       "2        113931.57       1  \n",
       "3         93826.63       0  \n",
       "4         79084.10       0  "
      ]
     },
     "execution_count": 2,
     "metadata": {},
     "output_type": "execute_result"
    }
   ],
   "source": [
    "data = pd.read_csv('datasets/Churn.csv')\n",
    "data.info()\n",
    "data.head()"
   ]
  },
  {
   "cell_type": "markdown",
   "metadata": {},
   "source": [
    "Уже сейчас можно сделать несколько замечаний:\n",
    "- Данные в первых трех столбцах *RowNumber*, *CustomerId* и *Surname* не могут влиять на решения клиента. *RowNumber* - дублирует индекс строки, *CustomerId* представляет идентификационный номер клиента и *Surname* - фамилию клиента. Эти столбцы удалим.\n",
    "\n",
    "\n",
    "- Столбец *Tenure* содержит пропуски. Прежде, чем обучать модели на этих данных пропуски нужно обработать.\n",
    "\n",
    "\n",
    "- Столбцы *Gender* и *Geography* представляют категории, к которым относятся клиенты. Категориальные данные необходимо выразить в числовом виде."
   ]
  },
  {
   "cell_type": "markdown",
   "metadata": {},
   "source": [
    "Проверим наличие строк дубликатов. "
   ]
  },
  {
   "cell_type": "code",
   "execution_count": 3,
   "metadata": {},
   "outputs": [
    {
     "data": {
      "text/plain": [
       "0"
      ]
     },
     "execution_count": 3,
     "metadata": {},
     "output_type": "execute_result"
    }
   ],
   "source": [
    "data.duplicated().sum()"
   ]
  },
  {
   "cell_type": "markdown",
   "metadata": {},
   "source": [
    "Рассмотрим *Geography* и *Gender* подробнее."
   ]
  },
  {
   "cell_type": "code",
   "execution_count": 4,
   "metadata": {
    "scrolled": true
   },
   "outputs": [
    {
     "data": {
      "text/plain": [
       "Male      5457\n",
       "Female    4543\n",
       "Name: Gender, dtype: int64"
      ]
     },
     "metadata": {},
     "output_type": "display_data"
    },
    {
     "data": {
      "text/plain": [
       "France     5014\n",
       "Germany    2509\n",
       "Spain      2477\n",
       "Name: Geography, dtype: int64"
      ]
     },
     "metadata": {},
     "output_type": "display_data"
    }
   ],
   "source": [
    "display(data['Gender'].value_counts(), data['Geography'].value_counts())"
   ]
  },
  {
   "cell_type": "markdown",
   "metadata": {},
   "source": [
    "Уникальных значений в этих столбцах немного. Их можно закодировать методом One-Hot Encoding (OHE). Прежде, чем преобразовывать данные обратимся к еще одному столбецу - *Tenure*. Пропуски в этом столбце заполним числом, отличным от всех остальных, таким образом отметим, что эти строки не имеют значения. Заполним пропуски значением -1."
   ]
  },
  {
   "cell_type": "code",
   "execution_count": 5,
   "metadata": {},
   "outputs": [],
   "source": [
    "data['Tenure'].fillna(-1, inplace=True)"
   ]
  },
  {
   "cell_type": "markdown",
   "metadata": {},
   "source": [
    "Выделим из датасета целевой признак *Exited* и избавимся от лишних данных."
   ]
  },
  {
   "cell_type": "code",
   "execution_count": 6,
   "metadata": {},
   "outputs": [],
   "source": [
    "features = data.drop(['RowNumber', 'CustomerId', 'Surname', 'Exited'], axis=1)\n",
    "target = data['Exited']"
   ]
  },
  {
   "cell_type": "markdown",
   "metadata": {},
   "source": [
    "Исследуем зависимость признаков друг от друга. Составим матрицу корреляции признаков."
   ]
  },
  {
   "cell_type": "code",
   "execution_count": 7,
   "metadata": {
    "scrolled": true
   },
   "outputs": [
    {
     "data": {
      "text/html": [
       "<div>\n",
       "<style scoped>\n",
       "    .dataframe tbody tr th:only-of-type {\n",
       "        vertical-align: middle;\n",
       "    }\n",
       "\n",
       "    .dataframe tbody tr th {\n",
       "        vertical-align: top;\n",
       "    }\n",
       "\n",
       "    .dataframe thead th {\n",
       "        text-align: right;\n",
       "    }\n",
       "</style>\n",
       "<table border=\"1\" class=\"dataframe\">\n",
       "  <thead>\n",
       "    <tr style=\"text-align: right;\">\n",
       "      <th></th>\n",
       "      <th>CreditScore</th>\n",
       "      <th>Age</th>\n",
       "      <th>Tenure</th>\n",
       "      <th>Balance</th>\n",
       "      <th>NumOfProducts</th>\n",
       "      <th>HasCrCard</th>\n",
       "      <th>IsActiveMember</th>\n",
       "      <th>EstimatedSalary</th>\n",
       "    </tr>\n",
       "  </thead>\n",
       "  <tbody>\n",
       "    <tr>\n",
       "      <th>CreditScore</th>\n",
       "      <td>1.000000</td>\n",
       "      <td>-0.003965</td>\n",
       "      <td>0.003552</td>\n",
       "      <td>0.006268</td>\n",
       "      <td>0.012238</td>\n",
       "      <td>-0.005458</td>\n",
       "      <td>0.025651</td>\n",
       "      <td>-0.001384</td>\n",
       "    </tr>\n",
       "    <tr>\n",
       "      <th>Age</th>\n",
       "      <td>-0.003965</td>\n",
       "      <td>1.000000</td>\n",
       "      <td>-0.006315</td>\n",
       "      <td>0.028308</td>\n",
       "      <td>-0.030680</td>\n",
       "      <td>-0.011721</td>\n",
       "      <td>0.085472</td>\n",
       "      <td>-0.007201</td>\n",
       "    </tr>\n",
       "    <tr>\n",
       "      <th>Tenure</th>\n",
       "      <td>0.003552</td>\n",
       "      <td>-0.006315</td>\n",
       "      <td>1.000000</td>\n",
       "      <td>-0.005400</td>\n",
       "      <td>0.009661</td>\n",
       "      <td>0.020132</td>\n",
       "      <td>-0.024462</td>\n",
       "      <td>0.011174</td>\n",
       "    </tr>\n",
       "    <tr>\n",
       "      <th>Balance</th>\n",
       "      <td>0.006268</td>\n",
       "      <td>0.028308</td>\n",
       "      <td>-0.005400</td>\n",
       "      <td>1.000000</td>\n",
       "      <td>-0.304180</td>\n",
       "      <td>-0.014858</td>\n",
       "      <td>-0.010084</td>\n",
       "      <td>0.012797</td>\n",
       "    </tr>\n",
       "    <tr>\n",
       "      <th>NumOfProducts</th>\n",
       "      <td>0.012238</td>\n",
       "      <td>-0.030680</td>\n",
       "      <td>0.009661</td>\n",
       "      <td>-0.304180</td>\n",
       "      <td>1.000000</td>\n",
       "      <td>0.003183</td>\n",
       "      <td>0.009612</td>\n",
       "      <td>0.014204</td>\n",
       "    </tr>\n",
       "    <tr>\n",
       "      <th>HasCrCard</th>\n",
       "      <td>-0.005458</td>\n",
       "      <td>-0.011721</td>\n",
       "      <td>0.020132</td>\n",
       "      <td>-0.014858</td>\n",
       "      <td>0.003183</td>\n",
       "      <td>1.000000</td>\n",
       "      <td>-0.011866</td>\n",
       "      <td>-0.009933</td>\n",
       "    </tr>\n",
       "    <tr>\n",
       "      <th>IsActiveMember</th>\n",
       "      <td>0.025651</td>\n",
       "      <td>0.085472</td>\n",
       "      <td>-0.024462</td>\n",
       "      <td>-0.010084</td>\n",
       "      <td>0.009612</td>\n",
       "      <td>-0.011866</td>\n",
       "      <td>1.000000</td>\n",
       "      <td>-0.011421</td>\n",
       "    </tr>\n",
       "    <tr>\n",
       "      <th>EstimatedSalary</th>\n",
       "      <td>-0.001384</td>\n",
       "      <td>-0.007201</td>\n",
       "      <td>0.011174</td>\n",
       "      <td>0.012797</td>\n",
       "      <td>0.014204</td>\n",
       "      <td>-0.009933</td>\n",
       "      <td>-0.011421</td>\n",
       "      <td>1.000000</td>\n",
       "    </tr>\n",
       "  </tbody>\n",
       "</table>\n",
       "</div>"
      ],
      "text/plain": [
       "                 CreditScore       Age    Tenure   Balance  NumOfProducts  \\\n",
       "CreditScore         1.000000 -0.003965  0.003552  0.006268       0.012238   \n",
       "Age                -0.003965  1.000000 -0.006315  0.028308      -0.030680   \n",
       "Tenure              0.003552 -0.006315  1.000000 -0.005400       0.009661   \n",
       "Balance             0.006268  0.028308 -0.005400  1.000000      -0.304180   \n",
       "NumOfProducts       0.012238 -0.030680  0.009661 -0.304180       1.000000   \n",
       "HasCrCard          -0.005458 -0.011721  0.020132 -0.014858       0.003183   \n",
       "IsActiveMember      0.025651  0.085472 -0.024462 -0.010084       0.009612   \n",
       "EstimatedSalary    -0.001384 -0.007201  0.011174  0.012797       0.014204   \n",
       "\n",
       "                 HasCrCard  IsActiveMember  EstimatedSalary  \n",
       "CreditScore      -0.005458        0.025651        -0.001384  \n",
       "Age              -0.011721        0.085472        -0.007201  \n",
       "Tenure            0.020132       -0.024462         0.011174  \n",
       "Balance          -0.014858       -0.010084         0.012797  \n",
       "NumOfProducts     0.003183        0.009612         0.014204  \n",
       "HasCrCard         1.000000       -0.011866        -0.009933  \n",
       "IsActiveMember   -0.011866        1.000000        -0.011421  \n",
       "EstimatedSalary  -0.009933       -0.011421         1.000000  "
      ]
     },
     "execution_count": 7,
     "metadata": {},
     "output_type": "execute_result"
    }
   ],
   "source": [
    "features.corr()"
   ]
  },
  {
   "cell_type": "markdown",
   "metadata": {},
   "source": [
    "Сильная корреляция признаков отсутствует."
   ]
  },
  {
   "cell_type": "markdown",
   "metadata": {},
   "source": [
    "Воспользуемся техникой прямого кодирования OHE. Преобразуем категориальные признаки в числовые и кодируем признак *Tenure*."
   ]
  },
  {
   "cell_type": "code",
   "execution_count": 8,
   "metadata": {
    "scrolled": true
   },
   "outputs": [],
   "source": [
    "features = pd.get_dummies(features,\n",
    "                          drop_first=True,\n",
    "                          columns=['Tenure', 'Gender', 'Geography'])"
   ]
  },
  {
   "cell_type": "code",
   "execution_count": 9,
   "metadata": {},
   "outputs": [
    {
     "name": "stdout",
     "output_type": "stream",
     "text": [
      "features: (10000, 21) \n",
      "target: (10000,)\n"
     ]
    }
   ],
   "source": [
    "print('features:', features.shape, '\\ntarget:', target.shape)"
   ]
  },
  {
   "cell_type": "code",
   "execution_count": 10,
   "metadata": {},
   "outputs": [
    {
     "data": {
      "text/html": [
       "<div>\n",
       "<style scoped>\n",
       "    .dataframe tbody tr th:only-of-type {\n",
       "        vertical-align: middle;\n",
       "    }\n",
       "\n",
       "    .dataframe tbody tr th {\n",
       "        vertical-align: top;\n",
       "    }\n",
       "\n",
       "    .dataframe thead th {\n",
       "        text-align: right;\n",
       "    }\n",
       "</style>\n",
       "<table border=\"1\" class=\"dataframe\">\n",
       "  <thead>\n",
       "    <tr style=\"text-align: right;\">\n",
       "      <th></th>\n",
       "      <th>CreditScore</th>\n",
       "      <th>Age</th>\n",
       "      <th>Balance</th>\n",
       "      <th>NumOfProducts</th>\n",
       "      <th>HasCrCard</th>\n",
       "      <th>IsActiveMember</th>\n",
       "      <th>EstimatedSalary</th>\n",
       "      <th>Tenure_0.0</th>\n",
       "      <th>Tenure_1.0</th>\n",
       "      <th>Tenure_2.0</th>\n",
       "      <th>...</th>\n",
       "      <th>Tenure_4.0</th>\n",
       "      <th>Tenure_5.0</th>\n",
       "      <th>Tenure_6.0</th>\n",
       "      <th>Tenure_7.0</th>\n",
       "      <th>Tenure_8.0</th>\n",
       "      <th>Tenure_9.0</th>\n",
       "      <th>Tenure_10.0</th>\n",
       "      <th>Gender_Male</th>\n",
       "      <th>Geography_Germany</th>\n",
       "      <th>Geography_Spain</th>\n",
       "    </tr>\n",
       "  </thead>\n",
       "  <tbody>\n",
       "    <tr>\n",
       "      <th>0</th>\n",
       "      <td>619</td>\n",
       "      <td>42</td>\n",
       "      <td>0.00</td>\n",
       "      <td>1</td>\n",
       "      <td>1</td>\n",
       "      <td>1</td>\n",
       "      <td>101348.88</td>\n",
       "      <td>0</td>\n",
       "      <td>0</td>\n",
       "      <td>1</td>\n",
       "      <td>...</td>\n",
       "      <td>0</td>\n",
       "      <td>0</td>\n",
       "      <td>0</td>\n",
       "      <td>0</td>\n",
       "      <td>0</td>\n",
       "      <td>0</td>\n",
       "      <td>0</td>\n",
       "      <td>0</td>\n",
       "      <td>0</td>\n",
       "      <td>0</td>\n",
       "    </tr>\n",
       "    <tr>\n",
       "      <th>1</th>\n",
       "      <td>608</td>\n",
       "      <td>41</td>\n",
       "      <td>83807.86</td>\n",
       "      <td>1</td>\n",
       "      <td>0</td>\n",
       "      <td>1</td>\n",
       "      <td>112542.58</td>\n",
       "      <td>0</td>\n",
       "      <td>1</td>\n",
       "      <td>0</td>\n",
       "      <td>...</td>\n",
       "      <td>0</td>\n",
       "      <td>0</td>\n",
       "      <td>0</td>\n",
       "      <td>0</td>\n",
       "      <td>0</td>\n",
       "      <td>0</td>\n",
       "      <td>0</td>\n",
       "      <td>0</td>\n",
       "      <td>0</td>\n",
       "      <td>1</td>\n",
       "    </tr>\n",
       "    <tr>\n",
       "      <th>2</th>\n",
       "      <td>502</td>\n",
       "      <td>42</td>\n",
       "      <td>159660.80</td>\n",
       "      <td>3</td>\n",
       "      <td>1</td>\n",
       "      <td>0</td>\n",
       "      <td>113931.57</td>\n",
       "      <td>0</td>\n",
       "      <td>0</td>\n",
       "      <td>0</td>\n",
       "      <td>...</td>\n",
       "      <td>0</td>\n",
       "      <td>0</td>\n",
       "      <td>0</td>\n",
       "      <td>0</td>\n",
       "      <td>1</td>\n",
       "      <td>0</td>\n",
       "      <td>0</td>\n",
       "      <td>0</td>\n",
       "      <td>0</td>\n",
       "      <td>0</td>\n",
       "    </tr>\n",
       "    <tr>\n",
       "      <th>3</th>\n",
       "      <td>699</td>\n",
       "      <td>39</td>\n",
       "      <td>0.00</td>\n",
       "      <td>2</td>\n",
       "      <td>0</td>\n",
       "      <td>0</td>\n",
       "      <td>93826.63</td>\n",
       "      <td>0</td>\n",
       "      <td>1</td>\n",
       "      <td>0</td>\n",
       "      <td>...</td>\n",
       "      <td>0</td>\n",
       "      <td>0</td>\n",
       "      <td>0</td>\n",
       "      <td>0</td>\n",
       "      <td>0</td>\n",
       "      <td>0</td>\n",
       "      <td>0</td>\n",
       "      <td>0</td>\n",
       "      <td>0</td>\n",
       "      <td>0</td>\n",
       "    </tr>\n",
       "    <tr>\n",
       "      <th>4</th>\n",
       "      <td>850</td>\n",
       "      <td>43</td>\n",
       "      <td>125510.82</td>\n",
       "      <td>1</td>\n",
       "      <td>1</td>\n",
       "      <td>1</td>\n",
       "      <td>79084.10</td>\n",
       "      <td>0</td>\n",
       "      <td>0</td>\n",
       "      <td>1</td>\n",
       "      <td>...</td>\n",
       "      <td>0</td>\n",
       "      <td>0</td>\n",
       "      <td>0</td>\n",
       "      <td>0</td>\n",
       "      <td>0</td>\n",
       "      <td>0</td>\n",
       "      <td>0</td>\n",
       "      <td>0</td>\n",
       "      <td>0</td>\n",
       "      <td>1</td>\n",
       "    </tr>\n",
       "  </tbody>\n",
       "</table>\n",
       "<p>5 rows × 21 columns</p>\n",
       "</div>"
      ],
      "text/plain": [
       "   CreditScore  Age    Balance  NumOfProducts  HasCrCard  IsActiveMember  \\\n",
       "0          619   42       0.00              1          1               1   \n",
       "1          608   41   83807.86              1          0               1   \n",
       "2          502   42  159660.80              3          1               0   \n",
       "3          699   39       0.00              2          0               0   \n",
       "4          850   43  125510.82              1          1               1   \n",
       "\n",
       "   EstimatedSalary  Tenure_0.0  Tenure_1.0  Tenure_2.0  ...  Tenure_4.0  \\\n",
       "0        101348.88           0           0           1  ...           0   \n",
       "1        112542.58           0           1           0  ...           0   \n",
       "2        113931.57           0           0           0  ...           0   \n",
       "3         93826.63           0           1           0  ...           0   \n",
       "4         79084.10           0           0           1  ...           0   \n",
       "\n",
       "   Tenure_5.0  Tenure_6.0  Tenure_7.0  Tenure_8.0  Tenure_9.0  Tenure_10.0  \\\n",
       "0           0           0           0           0           0            0   \n",
       "1           0           0           0           0           0            0   \n",
       "2           0           0           0           1           0            0   \n",
       "3           0           0           0           0           0            0   \n",
       "4           0           0           0           0           0            0   \n",
       "\n",
       "   Gender_Male  Geography_Germany  Geography_Spain  \n",
       "0            0                  0                0  \n",
       "1            0                  0                1  \n",
       "2            0                  0                0  \n",
       "3            0                  0                0  \n",
       "4            0                  0                1  \n",
       "\n",
       "[5 rows x 21 columns]"
      ]
     },
     "execution_count": 10,
     "metadata": {},
     "output_type": "execute_result"
    }
   ],
   "source": [
    "features.head()"
   ]
  },
  {
   "cell_type": "markdown",
   "metadata": {},
   "source": [
    "Число признаков увеличилось до 21. Разделим датасет на обучающую, валидационную и тестовую выборки в соотношении 6-2-2."
   ]
  },
  {
   "cell_type": "code",
   "execution_count": 11,
   "metadata": {},
   "outputs": [],
   "source": [
    "features_train, features_test, target_train, target_test = train_test_split(\n",
    "    features, target, test_size=0.4, random_state=12345)\n",
    "\n",
    "features_valid, features_test, target_valid, target_test = train_test_split(\n",
    "    features_test, target_test, test_size=0.5, random_state=12345)"
   ]
  },
  {
   "cell_type": "markdown",
   "metadata": {},
   "source": [
    "Масштабируем численные данные методом стандартизации. "
   ]
  },
  {
   "cell_type": "code",
   "execution_count": 12,
   "metadata": {},
   "outputs": [
    {
     "data": {
      "text/plain": [
       "StandardScaler()"
      ]
     },
     "execution_count": 12,
     "metadata": {},
     "output_type": "execute_result"
    }
   ],
   "source": [
    "scaler = StandardScaler()\n",
    "scaler.fit(features_train)"
   ]
  },
  {
   "cell_type": "code",
   "execution_count": 13,
   "metadata": {
    "scrolled": true
   },
   "outputs": [],
   "source": [
    "pd.options.mode.chained_assignment = None\n",
    "\n",
    "features_train[:] = scaler.transform(features_train[:])\n",
    "features_valid[:] = scaler.transform(features_valid[:])\n",
    "features_test[:] = scaler.transform(features_test[:]) "
   ]
  },
  {
   "cell_type": "code",
   "execution_count": 14,
   "metadata": {
    "scrolled": true
   },
   "outputs": [
    {
     "name": "stdout",
     "output_type": "stream",
     "text": [
      "Shapes\n",
      "Training set: (6000, 21)\n",
      "Testing set: (2000, 21)\n",
      "Validation set: (2000, 21)\n"
     ]
    }
   ],
   "source": [
    "print('Shapes\\nTraining set: {}\\nTesting set: {}\\nValidation set: {}'\n",
    "      .format(features_train.shape, features_test.shape, features_valid.shape))"
   ]
  },
  {
   "cell_type": "markdown",
   "metadata": {},
   "source": [
    "Данные были правильно разделены в соотношении 60-20-20. Провели кодировку категориальных признаков и стандартизацию численных признаков. **Данные подготовлены для обучения моделей.**"
   ]
  },
  {
   "cell_type": "markdown",
   "metadata": {},
   "source": [
    "## Исследование задачи"
   ]
  },
  {
   "cell_type": "markdown",
   "metadata": {},
   "source": [
    "Целевой признак - *Exited*, который может принимать значения 1 или 0, что отражает факт ухода клиента из банка. **Перед нами задача бинарной классификации**. Проверим насколько сбалансированы классы в выборке."
   ]
  },
  {
   "cell_type": "code",
   "execution_count": 15,
   "metadata": {
    "scrolled": true
   },
   "outputs": [
    {
     "data": {
      "text/plain": [
       "0    80.1\n",
       "1    19.9\n",
       "Name: Exited, dtype: float64"
      ]
     },
     "execution_count": 15,
     "metadata": {},
     "output_type": "execute_result"
    }
   ],
   "source": [
    "target_train.value_counts(normalize=True).round(3) * 100"
   ]
  },
  {
   "cell_type": "markdown",
   "metadata": {},
   "source": [
    "Соотношение классов 20 - 80. Классы не являются сбалансированными. Обучим модели на несбалансированной выборке и получим метрики таких моделей. В качестве алгоритмов обучения используем Random Forest Classifier и Logistic Regression. На несбалансированной выборке будем использовать метрику F1, как определяющую качество модели."
   ]
  },
  {
   "cell_type": "markdown",
   "metadata": {},
   "source": [
    "### Random Forest"
   ]
  },
  {
   "cell_type": "markdown",
   "metadata": {},
   "source": [
    "Обучение моделей выполняется одной и той же последовательность действий. Чтобы избавиться от избыточности кода, напишем отдельную функцию для обучения моделей."
   ]
  },
  {
   "cell_type": "code",
   "execution_count": 16,
   "metadata": {},
   "outputs": [],
   "source": [
    "def train_model(model, parameters, features=features_train, target=target_train):\n",
    "    labels = ['F1', 'AUC-ROC'] + sorted(list(parameters.keys()))\n",
    "    values = []\n",
    "    \n",
    "    for params in ParameterGrid(parameters):\n",
    "        model.set_params(**params)\n",
    "        model.fit(features, target)\n",
    "        \n",
    "        probabilities = model.predict_proba(features_valid)[:, 1]\n",
    "        predictions = model.predict(features_valid)\n",
    "        \n",
    "        f1 = round(f1_score(target_valid, predictions), 4)\n",
    "        roc_auc = round(roc_auc_score(target_valid, probabilities), 4)\n",
    "        values.append([f1, roc_auc] + list(params.values()))\n",
    "    \n",
    "    result = pd.DataFrame(data=values, columns=labels).sort_values('F1', ascending=False)\n",
    "    display(result.head())\n",
    "    best_score = result.iloc[0, 0]\n",
    "    \n",
    "    # return model with params when max f1 reached, fitted on train set\n",
    "    model = model.set_params(**(result.iloc[0, 2:].astype('int', errors='ignore').to_dict()))\n",
    "    model.fit(features, target)\n",
    "    return model, best_score"
   ]
  },
  {
   "cell_type": "markdown",
   "metadata": {},
   "source": [
    "Подберем для алгоритма Random Forest гиперпараметры для количества и глубины деревьев."
   ]
  },
  {
   "cell_type": "code",
   "execution_count": 17,
   "metadata": {
    "scrolled": false
   },
   "outputs": [
    {
     "data": {
      "text/html": [
       "<div>\n",
       "<style scoped>\n",
       "    .dataframe tbody tr th:only-of-type {\n",
       "        vertical-align: middle;\n",
       "    }\n",
       "\n",
       "    .dataframe tbody tr th {\n",
       "        vertical-align: top;\n",
       "    }\n",
       "\n",
       "    .dataframe thead th {\n",
       "        text-align: right;\n",
       "    }\n",
       "</style>\n",
       "<table border=\"1\" class=\"dataframe\">\n",
       "  <thead>\n",
       "    <tr style=\"text-align: right;\">\n",
       "      <th></th>\n",
       "      <th>F1</th>\n",
       "      <th>AUC-ROC</th>\n",
       "      <th>max_depth</th>\n",
       "      <th>n_estimators</th>\n",
       "    </tr>\n",
       "  </thead>\n",
       "  <tbody>\n",
       "    <tr>\n",
       "      <th>42</th>\n",
       "      <td>0.5925</td>\n",
       "      <td>0.8344</td>\n",
       "      <td>19</td>\n",
       "      <td>30</td>\n",
       "    </tr>\n",
       "    <tr>\n",
       "      <th>55</th>\n",
       "      <td>0.5913</td>\n",
       "      <td>0.8407</td>\n",
       "      <td>22</td>\n",
       "      <td>80</td>\n",
       "    </tr>\n",
       "    <tr>\n",
       "      <th>53</th>\n",
       "      <td>0.5897</td>\n",
       "      <td>0.8399</td>\n",
       "      <td>22</td>\n",
       "      <td>60</td>\n",
       "    </tr>\n",
       "    <tr>\n",
       "      <th>54</th>\n",
       "      <td>0.5893</td>\n",
       "      <td>0.8404</td>\n",
       "      <td>22</td>\n",
       "      <td>70</td>\n",
       "    </tr>\n",
       "    <tr>\n",
       "      <th>43</th>\n",
       "      <td>0.5891</td>\n",
       "      <td>0.8404</td>\n",
       "      <td>19</td>\n",
       "      <td>40</td>\n",
       "    </tr>\n",
       "  </tbody>\n",
       "</table>\n",
       "</div>"
      ],
      "text/plain": [
       "        F1  AUC-ROC  max_depth  n_estimators\n",
       "42  0.5925   0.8344         19            30\n",
       "55  0.5913   0.8407         22            80\n",
       "53  0.5897   0.8399         22            60\n",
       "54  0.5893   0.8404         22            70\n",
       "43  0.5891   0.8404         19            40"
      ]
     },
     "metadata": {},
     "output_type": "display_data"
    }
   ],
   "source": [
    "params = {'max_depth': range(4, 24, 3),\n",
    "          'n_estimators': range(10, 81, 10)}\n",
    "\n",
    "model = RandomForestClassifier(random_state=12345)\n",
    "forest_model, forest_score = train_model(model, params)"
   ]
  },
  {
   "cell_type": "markdown",
   "metadata": {},
   "source": [
    "Максимальное значение F1 - 0.5925, достигнуто при количестве деревьев 30 и их максимальной глубине 19."
   ]
  },
  {
   "cell_type": "markdown",
   "metadata": {},
   "source": [
    "### Linear Regression"
   ]
  },
  {
   "cell_type": "markdown",
   "metadata": {},
   "source": [
    "Получим результат для модели с алгоритмом обучения Logistic Regression."
   ]
  },
  {
   "cell_type": "code",
   "execution_count": 18,
   "metadata": {},
   "outputs": [
    {
     "data": {
      "text/html": [
       "<div>\n",
       "<style scoped>\n",
       "    .dataframe tbody tr th:only-of-type {\n",
       "        vertical-align: middle;\n",
       "    }\n",
       "\n",
       "    .dataframe tbody tr th {\n",
       "        vertical-align: top;\n",
       "    }\n",
       "\n",
       "    .dataframe thead th {\n",
       "        text-align: right;\n",
       "    }\n",
       "</style>\n",
       "<table border=\"1\" class=\"dataframe\">\n",
       "  <thead>\n",
       "    <tr style=\"text-align: right;\">\n",
       "      <th></th>\n",
       "      <th>F1</th>\n",
       "      <th>AUC-ROC</th>\n",
       "      <th>solver</th>\n",
       "    </tr>\n",
       "  </thead>\n",
       "  <tbody>\n",
       "    <tr>\n",
       "      <th>0</th>\n",
       "      <td>0.3283</td>\n",
       "      <td>0.7598</td>\n",
       "      <td>liblinear</td>\n",
       "    </tr>\n",
       "  </tbody>\n",
       "</table>\n",
       "</div>"
      ],
      "text/plain": [
       "       F1  AUC-ROC     solver\n",
       "0  0.3283   0.7598  liblinear"
      ]
     },
     "metadata": {},
     "output_type": "display_data"
    }
   ],
   "source": [
    "params = {'solver': ['liblinear']}\n",
    "\n",
    "model = LogisticRegression(random_state=12345)\n",
    "regression_model, regres_score = train_model(model, params)"
   ]
  },
  {
   "cell_type": "markdown",
   "metadata": {},
   "source": [
    "Метрика F1 линейной модели значительно хуже, чем у случайного леса."
   ]
  },
  {
   "cell_type": "markdown",
   "metadata": {},
   "source": [
    "### Анализ результатов"
   ]
  },
  {
   "cell_type": "markdown",
   "metadata": {},
   "source": [
    "Метрика F1 лучше у модели с алгоритмом Random Forest с гиперпараметрами количество оценщиков 30 и глубиной деревьев 19. Создадим таблицу *scores* и запишем в нее полученное значения F1 на валидационной выборки."
   ]
  },
  {
   "cell_type": "code",
   "execution_count": 19,
   "metadata": {},
   "outputs": [
    {
     "data": {
      "text/plain": [
       "{'bootstrap': True,\n",
       " 'ccp_alpha': 0.0,\n",
       " 'class_weight': None,\n",
       " 'criterion': 'gini',\n",
       " 'max_depth': 19,\n",
       " 'max_features': 'auto',\n",
       " 'max_leaf_nodes': None,\n",
       " 'max_samples': None,\n",
       " 'min_impurity_decrease': 0.0,\n",
       " 'min_impurity_split': None,\n",
       " 'min_samples_leaf': 1,\n",
       " 'min_samples_split': 2,\n",
       " 'min_weight_fraction_leaf': 0.0,\n",
       " 'n_estimators': 30,\n",
       " 'n_jobs': None,\n",
       " 'oob_score': False,\n",
       " 'random_state': 12345,\n",
       " 'verbose': 0,\n",
       " 'warm_start': False}"
      ]
     },
     "execution_count": 19,
     "metadata": {},
     "output_type": "execute_result"
    }
   ],
   "source": [
    "scores = {}\n",
    "scores['Unbalanced']= forest_score\n",
    "forest_model.get_params()"
   ]
  },
  {
   "cell_type": "markdown",
   "metadata": {},
   "source": [
    "Сведем метрики в одну таблицу и построим матрицу ошибок для этой модели."
   ]
  },
  {
   "cell_type": "code",
   "execution_count": 20,
   "metadata": {},
   "outputs": [],
   "source": [
    "def confusion_heatmap(features, target, model, threshold=0.5):\n",
    "    probabilities = model.predict_proba(features)[:, 1]\n",
    "    predictions = probabilities > threshold\n",
    "    \n",
    "    # confusion matrix\n",
    "    confusion_data = pd.DataFrame(columns=np.unique(target), \n",
    "                                  index=np.unique(predictions), \n",
    "                                  data=confusion_matrix(target, predictions))\n",
    "    \n",
    "    # plot heatmap of confusion matrix\n",
    "    sns.heatmap(confusion_data,\n",
    "                linewidths=.5, \n",
    "                cmap='Blues', \n",
    "                annot=True, \n",
    "                fmt='2.0f', \n",
    "                center=len(target) / 10, \n",
    "                annot_kws={'fontsize':15})\n",
    "    plt.xlabel('predictions')\n",
    "    plt.ylabel('targets')\n",
    "    \n",
    "    # print metrics \n",
    "    metrics = list(precision_recall_fscore_support(target, predictions, average='binary'))[:3]\n",
    "    metrics.append(accuracy_score(target, predictions))\n",
    "    metrics.append(roc_auc_score(target, probabilities))\n",
    "    print('{:.4f} - Precision\\n{:.4f} - Recall\\n{:.4f} - F1\\n{:.4f} - Accuracy\\n{:.4f} - AUC-ROC'.format(*metrics))"
   ]
  },
  {
   "cell_type": "code",
   "execution_count": 21,
   "metadata": {
    "scrolled": false
   },
   "outputs": [
    {
     "name": "stdout",
     "output_type": "stream",
     "text": [
      "RandomForest\n",
      "0.7976 - Precision\n",
      "0.4713 - Recall\n",
      "0.5925 - F1\n",
      "0.8645 - Accuracy\n",
      "0.8344 - AUC-ROC\n"
     ]
    },
    {
     "data": {
      "image/png": "[encoded data removed]",
      "text/plain": [
       "<Figure size 432x288 with 2 Axes>"
      ]
     },
     "metadata": {
      "needs_background": "light"
     },
     "output_type": "display_data"
    }
   ],
   "source": [
    "print('RandomForest')\n",
    "confusion_heatmap(features_valid, target_valid, forest_model)"
   ]
  },
  {
   "cell_type": "markdown",
   "metadata": {},
   "source": [
    "### Вывод"
   ]
  },
  {
   "cell_type": "markdown",
   "metadata": {},
   "source": [
    "Мы получили модель, обученную алгоритмом Random Forest, с метрикой F1 на валидационной выборке равной 0.597. Метрика Recall является все еще очень низкой, это означает, что доля истинно положительных ответов меньше доли ложноотрицательных. Модель плохо предсказывает положительные исходы. Причиной является **дисбаланс классов в обучающей выборке**. Далее воспользуемся рядом методов, позволяющих избавиться от этой проблемы."
   ]
  },
  {
   "cell_type": "markdown",
   "metadata": {},
   "source": [
    "## Борьба с дисбалансом"
   ]
  },
  {
   "cell_type": "markdown",
   "metadata": {},
   "source": [
    "### Сбалансирование веса классов"
   ]
  },
  {
   "cell_type": "markdown",
   "metadata": {},
   "source": [
    "При обучении модели в параметрах алгоритма можно задать сбалансированный вес класса. Алгоритм будет задавть вес класса пропорционально частоте его появления."
   ]
  },
  {
   "cell_type": "markdown",
   "metadata": {},
   "source": [
    "Обучим алгоритм **Linear Regression**."
   ]
  },
  {
   "cell_type": "code",
   "execution_count": 22,
   "metadata": {},
   "outputs": [
    {
     "data": {
      "text/html": [
       "<div>\n",
       "<style scoped>\n",
       "    .dataframe tbody tr th:only-of-type {\n",
       "        vertical-align: middle;\n",
       "    }\n",
       "\n",
       "    .dataframe tbody tr th {\n",
       "        vertical-align: top;\n",
       "    }\n",
       "\n",
       "    .dataframe thead th {\n",
       "        text-align: right;\n",
       "    }\n",
       "</style>\n",
       "<table border=\"1\" class=\"dataframe\">\n",
       "  <thead>\n",
       "    <tr style=\"text-align: right;\">\n",
       "      <th></th>\n",
       "      <th>F1</th>\n",
       "      <th>AUC-ROC</th>\n",
       "      <th>class_weight</th>\n",
       "    </tr>\n",
       "  </thead>\n",
       "  <tbody>\n",
       "    <tr>\n",
       "      <th>0</th>\n",
       "      <td>0.4884</td>\n",
       "      <td>0.7642</td>\n",
       "      <td>balanced</td>\n",
       "    </tr>\n",
       "  </tbody>\n",
       "</table>\n",
       "</div>"
      ],
      "text/plain": [
       "       F1  AUC-ROC class_weight\n",
       "0  0.4884   0.7642     balanced"
      ]
     },
     "metadata": {},
     "output_type": "display_data"
    }
   ],
   "source": [
    "params = {'class_weight': ['balanced']}\n",
    "\n",
    "regression_model, regres_score = train_model(regression_model, params)"
   ]
  },
  {
   "cell_type": "markdown",
   "metadata": {},
   "source": [
    "Сбалансирование веса увеличило F1 модели Logistic Regression до 0.488.\n",
    "\n",
    "Попробуем обучить модель **Random Forest**."
   ]
  },
  {
   "cell_type": "code",
   "execution_count": 23,
   "metadata": {},
   "outputs": [
    {
     "data": {
      "text/html": [
       "<div>\n",
       "<style scoped>\n",
       "    .dataframe tbody tr th:only-of-type {\n",
       "        vertical-align: middle;\n",
       "    }\n",
       "\n",
       "    .dataframe tbody tr th {\n",
       "        vertical-align: top;\n",
       "    }\n",
       "\n",
       "    .dataframe thead th {\n",
       "        text-align: right;\n",
       "    }\n",
       "</style>\n",
       "<table border=\"1\" class=\"dataframe\">\n",
       "  <thead>\n",
       "    <tr style=\"text-align: right;\">\n",
       "      <th></th>\n",
       "      <th>F1</th>\n",
       "      <th>AUC-ROC</th>\n",
       "      <th>class_weight</th>\n",
       "    </tr>\n",
       "  </thead>\n",
       "  <tbody>\n",
       "    <tr>\n",
       "      <th>0</th>\n",
       "      <td>0.5784</td>\n",
       "      <td>0.8386</td>\n",
       "      <td>balanced</td>\n",
       "    </tr>\n",
       "  </tbody>\n",
       "</table>\n",
       "</div>"
      ],
      "text/plain": [
       "       F1  AUC-ROC class_weight\n",
       "0  0.5784   0.8386     balanced"
      ]
     },
     "metadata": {},
     "output_type": "display_data"
    }
   ],
   "source": [
    "params = {'class_weight': ['balanced']}\n",
    "\n",
    "forest_model, forest_score = train_model(forest_model, params)"
   ]
  },
  {
   "cell_type": "markdown",
   "metadata": {},
   "source": [
    "Максимальное значение F1 у модели случайного леса. Сохраним его в таблицу *scores*."
   ]
  },
  {
   "cell_type": "code",
   "execution_count": 24,
   "metadata": {},
   "outputs": [],
   "source": [
    "scores['Classweighted'] = forest_score"
   ]
  },
  {
   "cell_type": "code",
   "execution_count": 25,
   "metadata": {
    "scrolled": false
   },
   "outputs": [
    {
     "name": "stdout",
     "output_type": "stream",
     "text": [
      "RandomForest classweighted\n",
      "0.7950 - Precision\n",
      "0.4545 - Recall\n",
      "0.5784 - F1\n",
      "0.8615 - Accuracy\n",
      "0.8386 - AUC-ROC\n"
     ]
    },
    {
     "data": {
      "image/png": "[encoded data removed]",
      "text/plain": [
       "<Figure size 432x288 with 2 Axes>"
      ]
     },
     "metadata": {
      "needs_background": "light"
     },
     "output_type": "display_data"
    }
   ],
   "source": [
    "print('RandomForest classweighted')\n",
    "confusion_heatmap(features_valid, target_valid, forest_model)"
   ]
  },
  {
   "cell_type": "markdown",
   "metadata": {},
   "source": [
    "Мы не получили значимых изменений в предсказании."
   ]
  },
  {
   "cell_type": "markdown",
   "metadata": {},
   "source": [
    "### Увеличение выборки"
   ]
  },
  {
   "cell_type": "markdown",
   "metadata": {},
   "source": [
    "Воспользуемся методом Upsampling. Чтобы сбалансировать классы в обучающей выборке - увеличим число строк с положительным классом."
   ]
  },
  {
   "cell_type": "code",
   "execution_count": 26,
   "metadata": {},
   "outputs": [],
   "source": [
    "def upsample(features, target, repeat):\n",
    "    # split features and target by class\n",
    "    features_zeros = features[target == 0]\n",
    "    features_ones = features[target == 1]\n",
    "    target_zeros = target[target == 0]\n",
    "    target_ones = target[target == 1]\n",
    "    \n",
    "    # increase the number of rows class one by *repeat* times \n",
    "    features_upsampled = pd.concat([features_zeros] + [features_ones] * repeat)\n",
    "    target_upsampled = pd.concat([target_zeros] + [target_ones] * repeat)\n",
    "    \n",
    "    # shuffle features and target\n",
    "    features_upsampled, target_upsampled = shuffle(\n",
    "        features_upsampled, target_upsampled, random_state=12345)\n",
    "    \n",
    "    return features_upsampled, target_upsampled"
   ]
  },
  {
   "cell_type": "code",
   "execution_count": 27,
   "metadata": {},
   "outputs": [
    {
     "name": "stdout",
     "output_type": "stream",
     "text": [
      "Upsampled Training Set\n",
      "Features: (9588, 21) \n",
      "Target: (9588,)\n"
     ]
    }
   ],
   "source": [
    "features_upsampled, target_upsampled = upsample(features_train, target_train, 4)\n",
    "print('Upsampled Training Set\\nFeatures:', features_upsampled.shape, '\\nTarget:', target_upsampled.shape)"
   ]
  },
  {
   "cell_type": "code",
   "execution_count": 28,
   "metadata": {},
   "outputs": [
    {
     "data": {
      "text/plain": [
       "0    0.501043\n",
       "1    0.498957\n",
       "Name: Exited, dtype: float64"
      ]
     },
     "execution_count": 28,
     "metadata": {},
     "output_type": "execute_result"
    }
   ],
   "source": [
    "target_upsampled.value_counts(normalize=True)"
   ]
  },
  {
   "cell_type": "markdown",
   "metadata": {},
   "source": [
    "Обучающая выборка выросла более чем в половину, а соотношение классов практически сравнялось. Подберем параметры для **Random Forest** заново и определим метрики наилучшего алгоритма. За основную метрику будем считать F1."
   ]
  },
  {
   "cell_type": "code",
   "execution_count": 29,
   "metadata": {},
   "outputs": [
    {
     "data": {
      "text/html": [
       "<div>\n",
       "<style scoped>\n",
       "    .dataframe tbody tr th:only-of-type {\n",
       "        vertical-align: middle;\n",
       "    }\n",
       "\n",
       "    .dataframe tbody tr th {\n",
       "        vertical-align: top;\n",
       "    }\n",
       "\n",
       "    .dataframe thead th {\n",
       "        text-align: right;\n",
       "    }\n",
       "</style>\n",
       "<table border=\"1\" class=\"dataframe\">\n",
       "  <thead>\n",
       "    <tr style=\"text-align: right;\">\n",
       "      <th></th>\n",
       "      <th>F1</th>\n",
       "      <th>AUC-ROC</th>\n",
       "      <th>max_depth</th>\n",
       "      <th>n_estimators</th>\n",
       "    </tr>\n",
       "  </thead>\n",
       "  <tbody>\n",
       "    <tr>\n",
       "      <th>17</th>\n",
       "      <td>0.6347</td>\n",
       "      <td>0.8490</td>\n",
       "      <td>10</td>\n",
       "      <td>20</td>\n",
       "    </tr>\n",
       "    <tr>\n",
       "      <th>18</th>\n",
       "      <td>0.6328</td>\n",
       "      <td>0.8506</td>\n",
       "      <td>10</td>\n",
       "      <td>30</td>\n",
       "    </tr>\n",
       "    <tr>\n",
       "      <th>19</th>\n",
       "      <td>0.6312</td>\n",
       "      <td>0.8520</td>\n",
       "      <td>10</td>\n",
       "      <td>40</td>\n",
       "    </tr>\n",
       "    <tr>\n",
       "      <th>20</th>\n",
       "      <td>0.6292</td>\n",
       "      <td>0.8518</td>\n",
       "      <td>10</td>\n",
       "      <td>50</td>\n",
       "    </tr>\n",
       "    <tr>\n",
       "      <th>23</th>\n",
       "      <td>0.6280</td>\n",
       "      <td>0.8528</td>\n",
       "      <td>10</td>\n",
       "      <td>80</td>\n",
       "    </tr>\n",
       "  </tbody>\n",
       "</table>\n",
       "</div>"
      ],
      "text/plain": [
       "        F1  AUC-ROC  max_depth  n_estimators\n",
       "17  0.6347   0.8490         10            20\n",
       "18  0.6328   0.8506         10            30\n",
       "19  0.6312   0.8520         10            40\n",
       "20  0.6292   0.8518         10            50\n",
       "23  0.6280   0.8528         10            80"
      ]
     },
     "metadata": {},
     "output_type": "display_data"
    }
   ],
   "source": [
    "params = {'max_depth': range(4, 24, 3),\n",
    "          'n_estimators': range(10, 81, 10)}\n",
    "\n",
    "model = RandomForestClassifier(random_state=12345)\n",
    "forest_model_upsampled, forest_score = train_model(model, params, features_upsampled, target_upsampled)"
   ]
  },
  {
   "cell_type": "markdown",
   "metadata": {},
   "source": [
    "F1 модели, обученной на увеличенной выборке, вырос до 0.635, это хороший результат. Метрика AUC-ROC также показывает высокие значения."
   ]
  },
  {
   "cell_type": "markdown",
   "metadata": {},
   "source": [
    "**Linear Regression**"
   ]
  },
  {
   "cell_type": "code",
   "execution_count": 30,
   "metadata": {},
   "outputs": [
    {
     "data": {
      "text/html": [
       "<div>\n",
       "<style scoped>\n",
       "    .dataframe tbody tr th:only-of-type {\n",
       "        vertical-align: middle;\n",
       "    }\n",
       "\n",
       "    .dataframe tbody tr th {\n",
       "        vertical-align: top;\n",
       "    }\n",
       "\n",
       "    .dataframe thead th {\n",
       "        text-align: right;\n",
       "    }\n",
       "</style>\n",
       "<table border=\"1\" class=\"dataframe\">\n",
       "  <thead>\n",
       "    <tr style=\"text-align: right;\">\n",
       "      <th></th>\n",
       "      <th>F1</th>\n",
       "      <th>AUC-ROC</th>\n",
       "      <th>solver</th>\n",
       "    </tr>\n",
       "  </thead>\n",
       "  <tbody>\n",
       "    <tr>\n",
       "      <th>0</th>\n",
       "      <td>0.4901</td>\n",
       "      <td>0.7642</td>\n",
       "      <td>liblinear</td>\n",
       "    </tr>\n",
       "  </tbody>\n",
       "</table>\n",
       "</div>"
      ],
      "text/plain": [
       "       F1  AUC-ROC     solver\n",
       "0  0.4901   0.7642  liblinear"
      ]
     },
     "metadata": {},
     "output_type": "display_data"
    }
   ],
   "source": [
    "params = {'solver': ['liblinear']}\n",
    "\n",
    "model = LogisticRegression(random_state=12345)\n",
    "regression_model, regres_score = train_model(model, params, features_upsampled, target_upsampled)"
   ]
  },
  {
   "cell_type": "markdown",
   "metadata": {},
   "source": [
    "Модель, обученная алгоритмом Logistic Regression, увеличила метрику F1 до 0.49. Но для поставленной задачи это слишком мало.\n",
    "\n",
    "Сохраним метрику F1 для случайного леса в таблицу *score*."
   ]
  },
  {
   "cell_type": "code",
   "execution_count": 31,
   "metadata": {},
   "outputs": [],
   "source": [
    "scores['Upsampled'] = forest_score"
   ]
  },
  {
   "cell_type": "markdown",
   "metadata": {},
   "source": [
    "Посмотрим на метрики и матрицу ошибок модели Random Forest."
   ]
  },
  {
   "cell_type": "code",
   "execution_count": 32,
   "metadata": {},
   "outputs": [
    {
     "name": "stdout",
     "output_type": "stream",
     "text": [
      "RandomForest upsampled\n",
      "0.7950 - Precision\n",
      "0.4545 - Recall\n",
      "0.5784 - F1\n",
      "0.8615 - Accuracy\n",
      "0.8386 - AUC-ROC\n"
     ]
    },
    {
     "data": {
      "image/png": "[encoded data removed]",
      "text/plain": [
       "<Figure size 432x288 with 2 Axes>"
      ]
     },
     "metadata": {
      "needs_background": "light"
     },
     "output_type": "display_data"
    }
   ],
   "source": [
    "print('RandomForest upsampled')\n",
    "confusion_heatmap(features_valid, target_valid, forest_model)"
   ]
  },
  {
   "cell_type": "markdown",
   "metadata": {},
   "source": [
    "Выросла метрика F1, также сильно выросла полнота предсказаний. Модели правильно предсказывает больше 2/3 положительных результатов. Вместе с ростом полноты мы можем наблюдать падение точности предсказания, а именно немногим меньше половины положительных предсказаний оказались ложными."
   ]
  },
  {
   "cell_type": "markdown",
   "metadata": {},
   "source": [
    "### Уменьшение выборки"
   ]
  },
  {
   "cell_type": "markdown",
   "metadata": {},
   "source": [
    "Для балансировки классов применим другой метод - уменьшения выборки (downsampling). Уменьшим в обучающей выборке количество строк с классом 0."
   ]
  },
  {
   "cell_type": "code",
   "execution_count": 33,
   "metadata": {},
   "outputs": [],
   "source": [
    "def downsample(features, target, fraction):\n",
    "    # split features and target by class\n",
    "    features_zeros = features[target == 0]\n",
    "    features_ones = features[target == 1]\n",
    "    target_zeros = target[target == 0]\n",
    "    target_ones = target[target == 1]\n",
    "    \n",
    "    # decrease the number of rows class zero by *fraction* times \n",
    "    features_downsampled = pd.concat(\n",
    "        [features_zeros.sample(frac=fraction, random_state=12345)] + [features_ones])\n",
    "    target_downsampled = pd.concat(\n",
    "        [target_zeros.sample(frac=fraction, random_state=12345)] + [target_ones])\n",
    "    \n",
    "    # shuffle features and target\n",
    "    features_downsampled, target_downsampled = shuffle(\n",
    "        features_downsampled, target_downsampled, random_state=12345)\n",
    "    \n",
    "    return features_downsampled, target_downsampled"
   ]
  },
  {
   "cell_type": "code",
   "execution_count": 34,
   "metadata": {},
   "outputs": [
    {
     "name": "stdout",
     "output_type": "stream",
     "text": [
      "Downsampled Training Set\n",
      "Features: (2397, 21) \n",
      "Target: (2397,)\n"
     ]
    }
   ],
   "source": [
    "features_downsampled, target_downsampled = downsample(features_train, target_train, 0.25)\n",
    "print('Downsampled Training Set\\nFeatures:', features_downsampled.shape, '\\nTarget:', target_downsampled.shape)"
   ]
  },
  {
   "cell_type": "code",
   "execution_count": 35,
   "metadata": {
    "scrolled": true
   },
   "outputs": [
    {
     "data": {
      "text/plain": [
       "0    0.501043\n",
       "1    0.498957\n",
       "Name: Exited, dtype: float64"
      ]
     },
     "execution_count": 35,
     "metadata": {},
     "output_type": "execute_result"
    }
   ],
   "source": [
    "target_downsampled.value_counts(normalize=True)"
   ]
  },
  {
   "cell_type": "markdown",
   "metadata": {},
   "source": [
    "Число объектов в обучающей выборке уменьшилось более чем вдвое - 2397, а классы оказались сбалансированны. Обучим модели на новых данных."
   ]
  },
  {
   "cell_type": "markdown",
   "metadata": {},
   "source": [
    "**Random Forest**"
   ]
  },
  {
   "cell_type": "code",
   "execution_count": 36,
   "metadata": {},
   "outputs": [
    {
     "data": {
      "text/html": [
       "<div>\n",
       "<style scoped>\n",
       "    .dataframe tbody tr th:only-of-type {\n",
       "        vertical-align: middle;\n",
       "    }\n",
       "\n",
       "    .dataframe tbody tr th {\n",
       "        vertical-align: top;\n",
       "    }\n",
       "\n",
       "    .dataframe thead th {\n",
       "        text-align: right;\n",
       "    }\n",
       "</style>\n",
       "<table border=\"1\" class=\"dataframe\">\n",
       "  <thead>\n",
       "    <tr style=\"text-align: right;\">\n",
       "      <th></th>\n",
       "      <th>F1</th>\n",
       "      <th>AUC-ROC</th>\n",
       "      <th>max_depth</th>\n",
       "      <th>n_estimators</th>\n",
       "    </tr>\n",
       "  </thead>\n",
       "  <tbody>\n",
       "    <tr>\n",
       "      <th>12</th>\n",
       "      <td>0.6090</td>\n",
       "      <td>0.8458</td>\n",
       "      <td>7</td>\n",
       "      <td>50</td>\n",
       "    </tr>\n",
       "    <tr>\n",
       "      <th>9</th>\n",
       "      <td>0.6065</td>\n",
       "      <td>0.8454</td>\n",
       "      <td>7</td>\n",
       "      <td>20</td>\n",
       "    </tr>\n",
       "    <tr>\n",
       "      <th>11</th>\n",
       "      <td>0.6021</td>\n",
       "      <td>0.8442</td>\n",
       "      <td>7</td>\n",
       "      <td>40</td>\n",
       "    </tr>\n",
       "    <tr>\n",
       "      <th>19</th>\n",
       "      <td>0.5996</td>\n",
       "      <td>0.8447</td>\n",
       "      <td>10</td>\n",
       "      <td>40</td>\n",
       "    </tr>\n",
       "    <tr>\n",
       "      <th>23</th>\n",
       "      <td>0.5991</td>\n",
       "      <td>0.8466</td>\n",
       "      <td>10</td>\n",
       "      <td>80</td>\n",
       "    </tr>\n",
       "  </tbody>\n",
       "</table>\n",
       "</div>"
      ],
      "text/plain": [
       "        F1  AUC-ROC  max_depth  n_estimators\n",
       "12  0.6090   0.8458          7            50\n",
       "9   0.6065   0.8454          7            20\n",
       "11  0.6021   0.8442          7            40\n",
       "19  0.5996   0.8447         10            40\n",
       "23  0.5991   0.8466         10            80"
      ]
     },
     "metadata": {},
     "output_type": "display_data"
    }
   ],
   "source": [
    "params = {'max_depth': range(4, 24, 3),\n",
    "          'n_estimators': range(10, 81, 10)}\n",
    "\n",
    "model = RandomForestClassifier(random_state=12345)\n",
    "forest_model_downsampled, forest_score = train_model(model, params, features_downsampled, target_downsampled)"
   ]
  },
  {
   "cell_type": "markdown",
   "metadata": {},
   "source": [
    "**Logistic Regression**"
   ]
  },
  {
   "cell_type": "code",
   "execution_count": 37,
   "metadata": {},
   "outputs": [
    {
     "data": {
      "text/html": [
       "<div>\n",
       "<style scoped>\n",
       "    .dataframe tbody tr th:only-of-type {\n",
       "        vertical-align: middle;\n",
       "    }\n",
       "\n",
       "    .dataframe tbody tr th {\n",
       "        vertical-align: top;\n",
       "    }\n",
       "\n",
       "    .dataframe thead th {\n",
       "        text-align: right;\n",
       "    }\n",
       "</style>\n",
       "<table border=\"1\" class=\"dataframe\">\n",
       "  <thead>\n",
       "    <tr style=\"text-align: right;\">\n",
       "      <th></th>\n",
       "      <th>F1</th>\n",
       "      <th>AUC-ROC</th>\n",
       "      <th>solver</th>\n",
       "    </tr>\n",
       "  </thead>\n",
       "  <tbody>\n",
       "    <tr>\n",
       "      <th>0</th>\n",
       "      <td>0.482</td>\n",
       "      <td>0.762</td>\n",
       "      <td>liblinear</td>\n",
       "    </tr>\n",
       "  </tbody>\n",
       "</table>\n",
       "</div>"
      ],
      "text/plain": [
       "      F1  AUC-ROC     solver\n",
       "0  0.482    0.762  liblinear"
      ]
     },
     "metadata": {},
     "output_type": "display_data"
    }
   ],
   "source": [
    "params = {'solver': ['liblinear']}\n",
    "\n",
    "model = LogisticRegression(random_state=12345)\n",
    "regression_model, regres_score = train_model(model, params, features_downsampled, target_downsampled)"
   ]
  },
  {
   "cell_type": "markdown",
   "metadata": {},
   "source": [
    "При обучении на уменьшенной выборке метрики F1 оказались немного ниже, чем на увеличенной. Logistic Regression дает результаты худшие, чем Random Forest и хуже, чем заявленно в требованиях. Далее мы будем работать с алгоритмом Random Forest. "
   ]
  },
  {
   "cell_type": "code",
   "execution_count": 38,
   "metadata": {},
   "outputs": [],
   "source": [
    "scores['Downsampled'] = forest_score"
   ]
  },
  {
   "cell_type": "markdown",
   "metadata": {},
   "source": [
    "Посмотрим метрики и матрицу ошибок для модели Random Forest."
   ]
  },
  {
   "cell_type": "code",
   "execution_count": 39,
   "metadata": {},
   "outputs": [
    {
     "name": "stdout",
     "output_type": "stream",
     "text": [
      "RandomForest downsampled\n",
      "0.7950 - Precision\n",
      "0.4545 - Recall\n",
      "0.5784 - F1\n",
      "0.8615 - Accuracy\n",
      "0.8386 - AUC-ROC\n"
     ]
    },
    {
     "data": {
      "image/png": "[encoded data removed]",
      "text/plain": [
       "<Figure size 432x288 with 2 Axes>"
      ]
     },
     "metadata": {
      "needs_background": "light"
     },
     "output_type": "display_data"
    }
   ],
   "source": [
    "print('RandomForest downsampled')\n",
    "confusion_heatmap(features_valid, target_valid, forest_model)"
   ]
  },
  {
   "cell_type": "markdown",
   "metadata": {},
   "source": [
    "Метрика F1 стала меньше - 0.6, но полнота предсказаний увеличилась.\n",
    "\n",
    "На уменьшенной выборке модель смогла предсказать еще большую долю клиентов, которые покинули банк, но достигла этого ценой увеличения ложных срабатываний. С точки зрения бизнеса такая модель может оказаться полезнее, так как сохранит большее количество клиентов для банка. В то же время банку придется потратить больше ресурсов на удержание клиентов, так как модель чаще предсказывает уход клиента. Так как за основную метрику мы приняли F1, то на ее основе можно сделать вывод, что метод увеличения выборки дал лучший результат. Будем использовать этот метод для дальнейшего обучения моделей."
   ]
  },
  {
   "cell_type": "markdown",
   "metadata": {},
   "source": [
    "### Изменение порога вероятности"
   ]
  },
  {
   "cell_type": "markdown",
   "metadata": {},
   "source": [
    "Попробуем изменить порог вероятности положительного класса и посмотрим как разные варианты влияют на метрики модели. За алгорит обучения принимаем Random Forest, с гиперпараметрами, полученными при обучении с увеличенной выборке. Обучать модель будем на увеличенной выборке. Порог вероятности будем изменять от 0.4 до 0.7."
   ]
  },
  {
   "cell_type": "code",
   "execution_count": 40,
   "metadata": {},
   "outputs": [
    {
     "name": "stdout",
     "output_type": "stream",
     "text": [
      "Threshold = 0.40 | Precision = 0.446, Recall = 0.794, F1 = 0.57143\n",
      "Threshold = 0.42 | Precision = 0.470, Recall = 0.778, F1 = 0.58559\n",
      "Threshold = 0.44 | Precision = 0.499, Recall = 0.761, F1 = 0.60284\n",
      "Threshold = 0.46 | Precision = 0.515, Recall = 0.737, F1 = 0.60630\n",
      "Threshold = 0.48 | Precision = 0.546, Recall = 0.727, F1 = 0.62359\n",
      "Threshold = 0.50 | Precision = 0.572, Recall = 0.713, F1 = 0.63472\n",
      "Threshold = 0.52 | Precision = 0.596, Recall = 0.689, F1 = 0.63929\n",
      "Threshold = 0.54 | Precision = 0.616, Recall = 0.660, F1 = 0.63741\n",
      "Threshold = 0.56 | Precision = 0.629, Recall = 0.624, F1 = 0.62665\n",
      "Threshold = 0.58 | Precision = 0.651, Recall = 0.603, F1 = 0.62609\n",
      "Threshold = 0.60 | Precision = 0.661, Recall = 0.579, F1 = 0.61735\n",
      "Threshold = 0.62 | Precision = 0.682, Recall = 0.548, F1 = 0.60743\n",
      "Threshold = 0.64 | Precision = 0.706, Recall = 0.524, F1 = 0.60165\n",
      "Threshold = 0.66 | Precision = 0.731, Recall = 0.495, F1 = 0.59058\n",
      "Threshold = 0.68 | Precision = 0.741, Recall = 0.471, F1 = 0.57602\n"
     ]
    }
   ],
   "source": [
    "probabilities_valid = forest_model_upsampled.predict_proba(features_valid)[:, 1]\n",
    "\n",
    "for threshold in np.arange(0.4, 0.7, 0.02):\n",
    "    predicted_valid = probabilities_valid > threshold\n",
    "    metrics = tuple(precision_recall_fscore_support(target_valid, predicted_valid, average='binary'))[:3]\n",
    "\n",
    "    print(\"Threshold = {:.2f} | Precision = {:.3f}, Recall = {:.3f}, F1 = {:.5f}\".format(\n",
    "        threshold, *metrics))"
   ]
  },
  {
   "cell_type": "markdown",
   "metadata": {},
   "source": [
    "Максимальная F1 равна 0.639, приходится на порог 0.52.\n",
    "\n",
    "Построим график ошибок модели, отметим на ней кривую для случайной модели."
   ]
  },
  {
   "cell_type": "code",
   "execution_count": 41,
   "metadata": {
    "scrolled": false
   },
   "outputs": [
    {
     "data": {
      "image/png": "[encoded data removed]",
      "text/plain": [
       "<Figure size 576x432 with 1 Axes>"
      ]
     },
     "metadata": {},
     "output_type": "display_data"
    }
   ],
   "source": [
    "fpr, tpr, thresholds = roc_curve(target_valid, probabilities_valid)\n",
    "\n",
    "sns.set_style(\"whitegrid\")\n",
    "plt.figure(figsize=(8, 6))\n",
    "plt.plot(fpr, tpr, label='ROC curve')\n",
    "plt.plot([0, 1], [0, 1], linestyle = '--')\n",
    "plt.xlim([0.0, 1.0])\n",
    "plt.ylim([0.0, 1.05])\n",
    "plt.xlabel('False Positive Rate')\n",
    "plt.ylabel('True Positive Rate')\n",
    "plt.title('ROC curve')\n",
    "plt.show()"
   ]
  },
  {
   "cell_type": "markdown",
   "metadata": {},
   "source": [
    "**AUC-ROC модели на увеличенной выборке равен 0.849, максимальная F1 равна 0.639**, при пороге положительной вероятности 0.52. Полученная модель имеет хорошие предсказательные качества. Исследуем модель на тестовой выборке."
   ]
  },
  {
   "cell_type": "markdown",
   "metadata": {},
   "source": [
    "### Вывод"
   ]
  },
  {
   "cell_type": "markdown",
   "metadata": {},
   "source": [
    "Для сбалансирования классов в обучающей выборке были использованы несколько разных методов. Хороший результат показал метод увеличения выборки, метрика F1 равна 0.635. Методом варьирования порога вероятности положительного исхода метрика F1 на валидационной выборке была еще увеличена до 0.639. Метрика AUC-ROC модели показывает высокий результат. Выбранные параметры будем использовать в исследовании модели на тестовой выборке."
   ]
  },
  {
   "cell_type": "markdown",
   "metadata": {},
   "source": [
    "## Тестирование модели"
   ]
  },
  {
   "cell_type": "markdown",
   "metadata": {},
   "source": [
    "Объединим обучающую и валидационную выборки. Это позволить увеличить обучающую выборку и улучшит качество модели."
   ]
  },
  {
   "cell_type": "code",
   "execution_count": 42,
   "metadata": {},
   "outputs": [],
   "source": [
    "features_train_valid = pd.concat([features_train] + [features_valid])\n",
    "target_train_valid = pd.concat([target_train] + [target_valid])"
   ]
  },
  {
   "cell_type": "markdown",
   "metadata": {},
   "source": [
    "Сбалансируем классы методом увеличения выборки."
   ]
  },
  {
   "cell_type": "code",
   "execution_count": 43,
   "metadata": {},
   "outputs": [
    {
     "name": "stdout",
     "output_type": "stream",
     "text": [
      "Training and Valid Set\n",
      "Features: (12842, 21) \n",
      "Target: (12842,)\n"
     ]
    }
   ],
   "source": [
    "features_upsampled, target_upsampled = upsample(features_train_valid, target_train_valid, 4)\n",
    "print('Training and Valid Set\\nFeatures:', features_upsampled.shape, '\\nTarget:', target_upsampled.shape)"
   ]
  },
  {
   "cell_type": "code",
   "execution_count": 44,
   "metadata": {
    "scrolled": true
   },
   "outputs": [
    {
     "data": {
      "text/plain": [
       "1    0.502725\n",
       "0    0.497275\n",
       "Name: Exited, dtype: float64"
      ]
     },
     "execution_count": 44,
     "metadata": {},
     "output_type": "execute_result"
    }
   ],
   "source": [
    "target_upsampled.value_counts(normalize=True)"
   ]
  },
  {
   "cell_type": "markdown",
   "metadata": {},
   "source": [
    "Размер обучающей выборки увеличился до 12842 объектов, классы сбалансированы. Обучим модель Random Forest на объединенных данных."
   ]
  },
  {
   "cell_type": "code",
   "execution_count": 45,
   "metadata": {},
   "outputs": [
    {
     "name": "stdout",
     "output_type": "stream",
     "text": [
      "F1 на тестовой выборке: 0.6108\n"
     ]
    }
   ],
   "source": [
    "model = forest_model_upsampled\n",
    "model.fit(features_upsampled, target_upsampled)\n",
    "scores['Test'] = f1_score(target_test, model.predict(features_test))\n",
    "print('F1 на тестовой выборке:', round(scores['Test'], 4))"
   ]
  },
  {
   "cell_type": "markdown",
   "metadata": {},
   "source": [
    "Получим предсказания модели на тестовых данных. Зададим порог вероятности равным 0.52. Построим график ошибок, матрицу ошибок и основные метрики."
   ]
  },
  {
   "cell_type": "code",
   "execution_count": 46,
   "metadata": {},
   "outputs": [
    {
     "data": {
      "image/png": "[encoded data removed]",
      "text/plain": [
       "<Figure size 576x432 with 1 Axes>"
      ]
     },
     "metadata": {},
     "output_type": "display_data"
    }
   ],
   "source": [
    "probabilities_test = model.predict_proba(features_test)[:, 1]\n",
    "fpr, tpr, thresholds = roc_curve(target_test, probabilities_test)\n",
    "\n",
    "sns.set_style(\"whitegrid\")\n",
    "plt.figure(figsize=(8, 6))\n",
    "plt.plot(fpr, tpr, label='ROC curve')\n",
    "plt.plot([0, 1], [0, 1], linestyle = '--')\n",
    "plt.xlim([0.0, 1.0])\n",
    "plt.ylim([0.0, 1.05])\n",
    "plt.xlabel('False Positive Rate')\n",
    "plt.ylabel('True Positive Rate')\n",
    "plt.title('ROC curve')\n",
    "plt.show()"
   ]
  },
  {
   "cell_type": "code",
   "execution_count": 47,
   "metadata": {
    "scrolled": false
   },
   "outputs": [
    {
     "name": "stdout",
     "output_type": "stream",
     "text": [
      "RandomForest upsampled, Test set\n",
      "0.5796 - Precision\n",
      "0.6454 - Recall\n",
      "0.6107 - F1\n",
      "0.8260 - Accuracy\n",
      "0.8513 - AUC-ROC\n"
     ]
    },
    {
     "data": {
      "image/png": "[encoded data removed]",
      "text/plain": [
       "<Figure size 432x288 with 2 Axes>"
      ]
     },
     "metadata": {},
     "output_type": "display_data"
    }
   ],
   "source": [
    "print('RandomForest upsampled, Test set')\n",
    "confusion_heatmap(features_test, target_test, model, threshold=0.52)"
   ]
  },
  {
   "cell_type": "markdown",
   "metadata": {},
   "source": [
    "**На тестовой выборке получили метрику F1 равную 0.611**, этот результат выше 0.59 указанного в задании. Высокое значение метрики AUC-ROC подтверждает качество модели. В результате проведенной работы получили модель способную эффективно предсказывать отток клиентов из банка."
   ]
  },
  {
   "cell_type": "markdown",
   "metadata": {},
   "source": [
    "Соберем результаты F1 метрики для всех обученных моделей RandomForest и построим диаграмму."
   ]
  },
  {
   "cell_type": "code",
   "execution_count": 48,
   "metadata": {},
   "outputs": [
    {
     "data": {
      "image/png": "[encoded data removed]",
      "text/plain": [
       "<Figure size 720x432 with 1 Axes>"
      ]
     },
     "metadata": {},
     "output_type": "display_data"
    }
   ],
   "source": [
    "scores_df = pd.DataFrame(data=scores, index=['f1']).T.reset_index()\n",
    "\n",
    "plt.figure(figsize=(10, 6))\n",
    "sns.barplot(x='index', y='f1', data=scores_df)\n",
    "plt.xticks(rotation=30)\n",
    "plt.ylim(0.55, 0.65)\n",
    "plt.show()"
   ]
  },
  {
   "cell_type": "markdown",
   "metadata": {},
   "source": [
    "Составим таблицу важности признаков в полученной модели. "
   ]
  },
  {
   "cell_type": "code",
   "execution_count": 49,
   "metadata": {},
   "outputs": [],
   "source": [
    "importance = model.feature_importances_.tolist()\n",
    "features_list = features_upsampled.columns.tolist()\n",
    "\n",
    "features_importance = pd.DataFrame({'feature':features_list, 'importance':importance}).sort_values(\n",
    "    by='importance', ascending=False).reset_index(drop=True)"
   ]
  },
  {
   "cell_type": "markdown",
   "metadata": {},
   "source": [
    "Посмотрим на признаки важность которых более 1% и построим диаграмму важности признаков."
   ]
  },
  {
   "cell_type": "code",
   "execution_count": 50,
   "metadata": {},
   "outputs": [
    {
     "data": {
      "text/html": [
       "<div>\n",
       "<style scoped>\n",
       "    .dataframe tbody tr th:only-of-type {\n",
       "        vertical-align: middle;\n",
       "    }\n",
       "\n",
       "    .dataframe tbody tr th {\n",
       "        vertical-align: top;\n",
       "    }\n",
       "\n",
       "    .dataframe thead th {\n",
       "        text-align: right;\n",
       "    }\n",
       "</style>\n",
       "<table border=\"1\" class=\"dataframe\">\n",
       "  <thead>\n",
       "    <tr style=\"text-align: right;\">\n",
       "      <th></th>\n",
       "      <th>feature</th>\n",
       "      <th>importance</th>\n",
       "    </tr>\n",
       "  </thead>\n",
       "  <tbody>\n",
       "    <tr>\n",
       "      <th>0</th>\n",
       "      <td>Age</td>\n",
       "      <td>0.350875</td>\n",
       "    </tr>\n",
       "    <tr>\n",
       "      <th>1</th>\n",
       "      <td>NumOfProducts</td>\n",
       "      <td>0.231487</td>\n",
       "    </tr>\n",
       "    <tr>\n",
       "      <th>2</th>\n",
       "      <td>Balance</td>\n",
       "      <td>0.092617</td>\n",
       "    </tr>\n",
       "    <tr>\n",
       "      <th>3</th>\n",
       "      <td>IsActiveMember</td>\n",
       "      <td>0.066972</td>\n",
       "    </tr>\n",
       "    <tr>\n",
       "      <th>4</th>\n",
       "      <td>EstimatedSalary</td>\n",
       "      <td>0.058455</td>\n",
       "    </tr>\n",
       "    <tr>\n",
       "      <th>5</th>\n",
       "      <td>Geography_Germany</td>\n",
       "      <td>0.057294</td>\n",
       "    </tr>\n",
       "    <tr>\n",
       "      <th>6</th>\n",
       "      <td>CreditScore</td>\n",
       "      <td>0.057175</td>\n",
       "    </tr>\n",
       "    <tr>\n",
       "      <th>7</th>\n",
       "      <td>Gender_Male</td>\n",
       "      <td>0.026238</td>\n",
       "    </tr>\n",
       "  </tbody>\n",
       "</table>\n",
       "</div>"
      ],
      "text/plain": [
       "             feature  importance\n",
       "0                Age    0.350875\n",
       "1      NumOfProducts    0.231487\n",
       "2            Balance    0.092617\n",
       "3     IsActiveMember    0.066972\n",
       "4    EstimatedSalary    0.058455\n",
       "5  Geography_Germany    0.057294\n",
       "6        CreditScore    0.057175\n",
       "7        Gender_Male    0.026238"
      ]
     },
     "execution_count": 50,
     "metadata": {},
     "output_type": "execute_result"
    }
   ],
   "source": [
    "features_importance[features_importance['importance'] > 0.01]"
   ]
  },
  {
   "cell_type": "code",
   "execution_count": 51,
   "metadata": {
    "scrolled": false
   },
   "outputs": [
    {
     "data": {
      "image/png": "[encoded data removed]",
      "text/plain": [
       "<Figure size 864x576 with 1 Axes>"
      ]
     },
     "metadata": {},
     "output_type": "display_data"
    }
   ],
   "source": [
    "plt.figure(figsize=(12, 8))\n",
    "ax = sns.barplot(y=\"feature\", x=\"importance\", data=features_importance)"
   ]
  },
  {
   "cell_type": "markdown",
   "metadata": {},
   "source": [
    "Наиболее влиятельными признаками оказались *возраст* и *количество продуктов*, в совокупности имеют вес более 58%. Вес признака *Tenure*, который мы закодировали в 11 столбцах, оказался распределен по всем столбцам."
   ]
  },
  {
   "cell_type": "markdown",
   "metadata": {},
   "source": [
    "## Вывод"
   ]
  },
  {
   "cell_type": "markdown",
   "metadata": {},
   "source": [
    "Целевой признак в исходном наборе данных оказался несбалансирован - один класс встречался гораздо чаще, чем другой. Малое число объектов одного класса приводит к тому, что модель недообучается распознавать этот класс. В работе был применен ряд методов, выравнивающих наличие классов в выборке:\n",
    "- балансировка весов;\n",
    "- увеличение выборки с редким классом;\n",
    "- уменьшение выборки с частым классом.\n",
    "\n",
    "Лучший результат дал метод увеличения выборки. Он позволил модели более полно обучиться распознавать оба класса. Выбор типа модели производился из двух вариантов: линейной регрессии и случайного леса. **Лучшие значения метрики F1 показала модель случайного леса**.\n",
    "\n",
    "В результате была получена модель случайного леса с настроенными гиперпараметрами. Модель была обучена на увеличенной выборке. **Предсказания выполненные на тестовой выборке оценены метрикой F1 равной 0.611**. Полученную модель можно использовать для дальнейшей разработки предсказательной системы."
   ]
  },
  {
   "cell_type": "code",
   "execution_count": null,
   "metadata": {},
   "outputs": [],
   "source": []
  }
 ],
 "metadata": {
  "ExecuteTimeLog": [
   {
    "duration": 994,
    "start_time": "2021-09-28T08:10:34.336Z"
   },
   {
    "duration": 36,
    "start_time": "2021-09-28T08:10:45.285Z"
   },
   {
    "duration": 19,
    "start_time": "2021-09-28T08:11:04.080Z"
   },
   {
    "duration": 22,
    "start_time": "2021-09-28T08:14:33.043Z"
   },
   {
    "duration": 276,
    "start_time": "2021-09-28T08:15:44.115Z"
   },
   {
    "duration": 17968,
    "start_time": "2021-09-28T08:15:49.373Z"
   },
   {
    "duration": 19300,
    "start_time": "2021-09-28T08:16:26.658Z"
   },
   {
    "duration": 178,
    "start_time": "2021-09-28T08:24:08.704Z"
   },
   {
    "duration": 7,
    "start_time": "2021-09-28T08:24:15.043Z"
   },
   {
    "duration": 7,
    "start_time": "2021-09-28T08:24:25.635Z"
   },
   {
    "duration": 19,
    "start_time": "2021-09-28T08:35:01.116Z"
   },
   {
    "duration": 1251,
    "start_time": "2021-09-28T08:35:09.472Z"
   },
   {
    "duration": 1249,
    "start_time": "2021-09-28T08:35:18.811Z"
   },
   {
    "duration": 12,
    "start_time": "2021-09-28T08:35:24.777Z"
   },
   {
    "duration": 55,
    "start_time": "2021-09-28T08:35:41.098Z"
   },
   {
    "duration": 175,
    "start_time": "2021-09-28T08:35:44.469Z"
   },
   {
    "duration": 4,
    "start_time": "2021-09-28T08:37:28.659Z"
   },
   {
    "duration": 25,
    "start_time": "2021-09-28T08:37:44.363Z"
   },
   {
    "duration": 22,
    "start_time": "2021-09-28T08:37:52.413Z"
   },
   {
    "duration": 20,
    "start_time": "2021-09-28T08:38:17.962Z"
   },
   {
    "duration": 19,
    "start_time": "2021-09-28T08:38:57.808Z"
   },
   {
    "duration": 9,
    "start_time": "2021-09-28T08:40:01.149Z"
   },
   {
    "duration": 5,
    "start_time": "2021-09-28T08:41:18.682Z"
   },
   {
    "duration": 194,
    "start_time": "2021-09-28T08:43:01.320Z"
   },
   {
    "duration": 3,
    "start_time": "2021-09-28T08:43:07.383Z"
   },
   {
    "duration": 212,
    "start_time": "2021-09-28T08:43:11.267Z"
   },
   {
    "duration": 14,
    "start_time": "2021-09-28T08:43:30.376Z"
   },
   {
    "duration": 7,
    "start_time": "2021-09-28T08:43:33.278Z"
   },
   {
    "duration": 196,
    "start_time": "2021-09-28T08:43:36.540Z"
   },
   {
    "duration": 363,
    "start_time": "2021-09-28T08:44:05.709Z"
   },
   {
    "duration": 971,
    "start_time": "2021-09-28T08:44:46.257Z"
   },
   {
    "duration": 35,
    "start_time": "2021-09-28T08:44:47.230Z"
   },
   {
    "duration": 18,
    "start_time": "2021-09-28T08:44:48.067Z"
   },
   {
    "duration": 6,
    "start_time": "2021-09-28T08:44:51.216Z"
   },
   {
    "duration": 5,
    "start_time": "2021-09-28T08:44:54.562Z"
   },
   {
    "duration": 3,
    "start_time": "2021-09-28T08:45:26.502Z"
   },
   {
    "duration": 264,
    "start_time": "2021-09-28T08:45:34.716Z"
   },
   {
    "duration": 4,
    "start_time": "2021-09-28T08:45:42.214Z"
   },
   {
    "duration": 4,
    "start_time": "2021-09-28T08:45:49.915Z"
   },
   {
    "duration": 13,
    "start_time": "2021-09-28T08:45:58.088Z"
   },
   {
    "duration": 11,
    "start_time": "2021-09-28T08:46:02.051Z"
   },
   {
    "duration": 4,
    "start_time": "2021-09-28T08:46:13.168Z"
   },
   {
    "duration": 5,
    "start_time": "2021-09-28T08:46:24.910Z"
   },
   {
    "duration": 4,
    "start_time": "2021-09-28T08:46:25.493Z"
   },
   {
    "duration": 13,
    "start_time": "2021-09-28T08:46:26.842Z"
   },
   {
    "duration": 4,
    "start_time": "2021-09-28T08:46:27.665Z"
   },
   {
    "duration": 8,
    "start_time": "2021-09-28T08:46:57.053Z"
   },
   {
    "duration": 3,
    "start_time": "2021-09-28T08:46:57.876Z"
   },
   {
    "duration": 192,
    "start_time": "2021-09-28T08:47:02.195Z"
   },
   {
    "duration": 5,
    "start_time": "2021-09-28T08:47:11.567Z"
   },
   {
    "duration": 3,
    "start_time": "2021-09-28T08:47:16.636Z"
   },
   {
    "duration": 7,
    "start_time": "2021-09-28T08:47:21.445Z"
   },
   {
    "duration": 3,
    "start_time": "2021-09-28T08:48:24.948Z"
   },
   {
    "duration": 5,
    "start_time": "2021-09-28T08:48:56.347Z"
   },
   {
    "duration": 5,
    "start_time": "2021-09-28T08:49:23.110Z"
   },
   {
    "duration": 7,
    "start_time": "2021-09-28T08:59:06.110Z"
   },
   {
    "duration": 3,
    "start_time": "2021-09-28T08:59:51.029Z"
   },
   {
    "duration": 3,
    "start_time": "2021-09-28T09:00:25.055Z"
   },
   {
    "duration": 3,
    "start_time": "2021-09-28T09:01:37.899Z"
   },
   {
    "duration": 185,
    "start_time": "2021-09-28T09:06:16.940Z"
   },
   {
    "duration": 4,
    "start_time": "2021-09-28T09:10:31.099Z"
   },
   {
    "duration": 45,
    "start_time": "2021-09-28T09:10:31.105Z"
   },
   {
    "duration": 13,
    "start_time": "2021-09-28T09:10:31.152Z"
   },
   {
    "duration": 7,
    "start_time": "2021-09-28T09:10:31.167Z"
   },
   {
    "duration": 8,
    "start_time": "2021-09-28T09:10:31.175Z"
   },
   {
    "duration": 7,
    "start_time": "2021-09-28T09:10:31.185Z"
   },
   {
    "duration": 22,
    "start_time": "2021-09-28T09:10:31.193Z"
   },
   {
    "duration": 6,
    "start_time": "2021-09-28T09:10:31.216Z"
   },
   {
    "duration": 10,
    "start_time": "2021-09-28T09:10:31.224Z"
   },
   {
    "duration": 5,
    "start_time": "2021-09-28T09:10:31.236Z"
   },
   {
    "duration": 10,
    "start_time": "2021-09-28T09:10:31.243Z"
   },
   {
    "duration": 10,
    "start_time": "2021-09-28T09:10:31.254Z"
   },
   {
    "duration": 7,
    "start_time": "2021-09-28T09:10:31.265Z"
   },
   {
    "duration": 183,
    "start_time": "2021-09-28T09:10:31.274Z"
   },
   {
    "duration": 756,
    "start_time": "2021-09-28T09:10:30.703Z"
   },
   {
    "duration": 3,
    "start_time": "2021-09-28T09:10:40.373Z"
   },
   {
    "duration": 38,
    "start_time": "2021-09-28T09:10:40.378Z"
   },
   {
    "duration": 11,
    "start_time": "2021-09-28T09:10:40.418Z"
   },
   {
    "duration": 8,
    "start_time": "2021-09-28T09:10:40.431Z"
   },
   {
    "duration": 9,
    "start_time": "2021-09-28T09:10:40.440Z"
   },
   {
    "duration": 5,
    "start_time": "2021-09-28T09:10:40.451Z"
   },
   {
    "duration": 15,
    "start_time": "2021-09-28T09:10:40.458Z"
   },
   {
    "duration": 4,
    "start_time": "2021-09-28T09:10:42.897Z"
   },
   {
    "duration": 6,
    "start_time": "2021-09-28T09:11:09.246Z"
   },
   {
    "duration": 13,
    "start_time": "2021-09-28T09:11:26.793Z"
   },
   {
    "duration": 11,
    "start_time": "2021-09-28T09:12:01.006Z"
   },
   {
    "duration": 7,
    "start_time": "2021-09-28T09:12:33.607Z"
   },
   {
    "duration": 6,
    "start_time": "2021-09-28T09:12:43.237Z"
   },
   {
    "duration": 7,
    "start_time": "2021-09-28T09:12:46.742Z"
   },
   {
    "duration": 6,
    "start_time": "2021-09-28T09:13:11.529Z"
   },
   {
    "duration": 12,
    "start_time": "2021-09-28T09:13:14.646Z"
   },
   {
    "duration": 14,
    "start_time": "2021-09-28T09:13:23.926Z"
   },
   {
    "duration": 178,
    "start_time": "2021-09-28T09:14:51.030Z"
   },
   {
    "duration": 4,
    "start_time": "2021-09-28T09:14:57.073Z"
   },
   {
    "duration": 4,
    "start_time": "2021-09-28T09:15:04.357Z"
   },
   {
    "duration": 3,
    "start_time": "2021-09-28T09:15:08.854Z"
   },
   {
    "duration": 5,
    "start_time": "2021-09-28T09:15:11.009Z"
   },
   {
    "duration": 11,
    "start_time": "2021-09-28T09:15:23.661Z"
   },
   {
    "duration": 5,
    "start_time": "2021-09-28T09:16:49.624Z"
   },
   {
    "duration": 13,
    "start_time": "2021-09-28T09:17:06.185Z"
   },
   {
    "duration": 5,
    "start_time": "2021-09-28T09:17:09.151Z"
   },
   {
    "duration": 11,
    "start_time": "2021-09-28T09:17:14.579Z"
   },
   {
    "duration": 5,
    "start_time": "2021-09-28T09:17:31.601Z"
   },
   {
    "duration": 3,
    "start_time": "2021-09-28T09:17:35.547Z"
   },
   {
    "duration": 13,
    "start_time": "2021-09-28T09:17:38.222Z"
   },
   {
    "duration": 4,
    "start_time": "2021-09-28T09:17:38.767Z"
   },
   {
    "duration": 12,
    "start_time": "2021-09-28T09:17:40.746Z"
   },
   {
    "duration": 12,
    "start_time": "2021-09-28T09:18:17.213Z"
   },
   {
    "duration": 6,
    "start_time": "2021-09-28T09:19:05.637Z"
   },
   {
    "duration": 7,
    "start_time": "2021-09-28T09:19:11.600Z"
   },
   {
    "duration": 7,
    "start_time": "2021-09-28T09:20:10.424Z"
   },
   {
    "duration": 9,
    "start_time": "2021-09-28T09:20:20.923Z"
   },
   {
    "duration": 6,
    "start_time": "2021-09-28T09:21:02.705Z"
   },
   {
    "duration": 8,
    "start_time": "2021-09-28T09:21:11.967Z"
   },
   {
    "duration": 5,
    "start_time": "2021-09-28T09:21:27.696Z"
   },
   {
    "duration": 12,
    "start_time": "2021-09-28T09:21:31.912Z"
   },
   {
    "duration": 8,
    "start_time": "2021-09-28T09:21:41.790Z"
   },
   {
    "duration": 6,
    "start_time": "2021-09-28T09:21:59.181Z"
   },
   {
    "duration": 3,
    "start_time": "2021-09-28T09:22:20.667Z"
   },
   {
    "duration": 8,
    "start_time": "2021-09-28T09:22:23.940Z"
   },
   {
    "duration": 8,
    "start_time": "2021-09-28T09:22:27.345Z"
   },
   {
    "duration": 11,
    "start_time": "2021-09-28T09:22:34.017Z"
   },
   {
    "duration": 4,
    "start_time": "2021-09-28T09:22:45.809Z"
   },
   {
    "duration": 13,
    "start_time": "2021-09-28T09:22:47.976Z"
   },
   {
    "duration": 8,
    "start_time": "2021-09-28T09:25:27.841Z"
   },
   {
    "duration": 6,
    "start_time": "2021-09-28T09:25:49.201Z"
   },
   {
    "duration": 8,
    "start_time": "2021-09-28T09:25:54.520Z"
   },
   {
    "duration": 182,
    "start_time": "2021-09-28T09:26:14.097Z"
   },
   {
    "duration": 6,
    "start_time": "2021-09-28T09:26:21.536Z"
   },
   {
    "duration": 6,
    "start_time": "2021-09-28T09:26:26.173Z"
   },
   {
    "duration": 11,
    "start_time": "2021-09-28T09:26:29.321Z"
   },
   {
    "duration": 9,
    "start_time": "2021-09-28T09:26:34.336Z"
   },
   {
    "duration": 21,
    "start_time": "2021-09-28T09:28:51.870Z"
   },
   {
    "duration": 171,
    "start_time": "2021-09-28T09:28:52.217Z"
   },
   {
    "duration": 3,
    "start_time": "2021-09-28T09:29:00.076Z"
   },
   {
    "duration": 5,
    "start_time": "2021-09-28T09:29:04.721Z"
   },
   {
    "duration": 5,
    "start_time": "2021-09-28T09:29:27.212Z"
   },
   {
    "duration": 4,
    "start_time": "2021-09-28T09:29:27.796Z"
   },
   {
    "duration": 4,
    "start_time": "2021-09-28T09:31:15.001Z"
   },
   {
    "duration": 27,
    "start_time": "2021-09-28T09:31:32.098Z"
   },
   {
    "duration": 28,
    "start_time": "2021-09-28T09:32:27.488Z"
   },
   {
    "duration": 181,
    "start_time": "2021-09-28T09:34:14.701Z"
   },
   {
    "duration": 288,
    "start_time": "2021-09-28T09:35:02.259Z"
   },
   {
    "duration": 8,
    "start_time": "2021-09-28T09:37:03.619Z"
   },
   {
    "duration": 13,
    "start_time": "2021-09-28T09:37:10.379Z"
   },
   {
    "duration": 4,
    "start_time": "2021-09-28T09:37:42.395Z"
   },
   {
    "duration": 8,
    "start_time": "2021-09-28T09:37:45.081Z"
   },
   {
    "duration": 14,
    "start_time": "2021-09-28T09:37:47.190Z"
   },
   {
    "duration": 10,
    "start_time": "2021-09-28T09:38:00.567Z"
   },
   {
    "duration": 3,
    "start_time": "2021-09-28T09:38:01.210Z"
   },
   {
    "duration": 4,
    "start_time": "2021-09-28T09:38:42.808Z"
   },
   {
    "duration": 3,
    "start_time": "2021-09-28T09:38:46.137Z"
   },
   {
    "duration": 11,
    "start_time": "2021-09-28T09:38:46.995Z"
   },
   {
    "duration": 4,
    "start_time": "2021-09-28T09:38:51.595Z"
   },
   {
    "duration": 13,
    "start_time": "2021-09-28T09:39:19.455Z"
   },
   {
    "duration": 10,
    "start_time": "2021-09-28T09:39:21.923Z"
   },
   {
    "duration": 3,
    "start_time": "2021-09-28T09:39:23.251Z"
   },
   {
    "duration": 185,
    "start_time": "2021-09-28T09:39:26.665Z"
   },
   {
    "duration": 6,
    "start_time": "2021-09-28T09:39:34.055Z"
   },
   {
    "duration": 6,
    "start_time": "2021-09-28T09:56:48.501Z"
   },
   {
    "duration": 6,
    "start_time": "2021-09-28T09:56:51.861Z"
   },
   {
    "duration": 3,
    "start_time": "2021-09-28T09:56:54.232Z"
   },
   {
    "duration": 4755,
    "start_time": "2021-09-28T09:56:55.128Z"
   },
   {
    "duration": 172,
    "start_time": "2021-09-28T09:57:27.341Z"
   },
   {
    "duration": 842,
    "start_time": "2021-09-28T09:57:57.979Z"
   },
   {
    "duration": 21,
    "start_time": "2021-09-28T10:04:15.816Z"
   },
   {
    "duration": 19,
    "start_time": "2021-09-28T10:04:34.172Z"
   },
   {
    "duration": 4650,
    "start_time": "2021-09-28T10:06:08.646Z"
   },
   {
    "duration": 3,
    "start_time": "2021-09-28T10:07:13.932Z"
   },
   {
    "duration": 19,
    "start_time": "2021-09-28T10:07:52.457Z"
   },
   {
    "duration": 169,
    "start_time": "2021-09-28T10:09:37.661Z"
   },
   {
    "duration": 4824,
    "start_time": "2021-09-28T10:09:47.175Z"
   },
   {
    "duration": 192,
    "start_time": "2021-09-28T10:10:08.478Z"
   },
   {
    "duration": 167,
    "start_time": "2021-09-28T10:10:28.890Z"
   },
   {
    "duration": 3,
    "start_time": "2021-09-28T10:10:38.584Z"
   },
   {
    "duration": 31,
    "start_time": "2021-09-28T10:10:38.589Z"
   },
   {
    "duration": 7,
    "start_time": "2021-09-28T10:10:38.622Z"
   },
   {
    "duration": 11,
    "start_time": "2021-09-28T10:10:38.631Z"
   },
   {
    "duration": 9,
    "start_time": "2021-09-28T10:10:38.643Z"
   },
   {
    "duration": 5,
    "start_time": "2021-09-28T10:10:38.653Z"
   },
   {
    "duration": 5,
    "start_time": "2021-09-28T10:10:38.659Z"
   },
   {
    "duration": 36,
    "start_time": "2021-09-28T10:10:38.666Z"
   },
   {
    "duration": 3,
    "start_time": "2021-09-28T10:10:38.704Z"
   },
   {
    "duration": 13,
    "start_time": "2021-09-28T10:10:38.709Z"
   },
   {
    "duration": 7,
    "start_time": "2021-09-28T10:10:38.724Z"
   },
   {
    "duration": 3,
    "start_time": "2021-09-28T10:10:38.732Z"
   },
   {
    "duration": 8,
    "start_time": "2021-09-28T10:10:38.737Z"
   },
   {
    "duration": 6,
    "start_time": "2021-09-28T10:10:38.747Z"
   },
   {
    "duration": 4,
    "start_time": "2021-09-28T10:10:38.754Z"
   },
   {
    "duration": 4655,
    "start_time": "2021-09-28T10:10:38.759Z"
   },
   {
    "duration": 84,
    "start_time": "2021-09-28T10:10:43.416Z"
   },
   {
    "duration": 5,
    "start_time": "2021-09-28T10:10:49.622Z"
   },
   {
    "duration": 21,
    "start_time": "2021-09-28T10:10:52.706Z"
   },
   {
    "duration": 7,
    "start_time": "2021-09-28T10:11:35.997Z"
   },
   {
    "duration": 3,
    "start_time": "2021-09-28T10:11:58.843Z"
   },
   {
    "duration": 10,
    "start_time": "2021-09-28T10:12:29.566Z"
   },
   {
    "duration": 10,
    "start_time": "2021-09-28T10:13:46.569Z"
   },
   {
    "duration": 10,
    "start_time": "2021-09-28T10:14:35.160Z"
   },
   {
    "duration": 10,
    "start_time": "2021-09-28T10:14:47.682Z"
   },
   {
    "duration": 9,
    "start_time": "2021-09-28T10:15:09.316Z"
   },
   {
    "duration": 9,
    "start_time": "2021-09-28T10:15:12.969Z"
   },
   {
    "duration": 182,
    "start_time": "2021-09-28T10:17:44.705Z"
   },
   {
    "duration": 6,
    "start_time": "2021-09-28T10:19:51.571Z"
   },
   {
    "duration": 190,
    "start_time": "2021-09-28T10:22:25.989Z"
   },
   {
    "duration": 9,
    "start_time": "2021-09-28T10:22:54.007Z"
   },
   {
    "duration": 5,
    "start_time": "2021-09-28T10:23:18.965Z"
   },
   {
    "duration": 166,
    "start_time": "2021-09-28T10:23:28.501Z"
   },
   {
    "duration": 3,
    "start_time": "2021-09-28T10:23:43.300Z"
   },
   {
    "duration": 169,
    "start_time": "2021-09-28T10:23:50.340Z"
   },
   {
    "duration": 252,
    "start_time": "2021-09-28T10:24:12.329Z"
   },
   {
    "duration": 240,
    "start_time": "2021-09-28T10:24:20.517Z"
   },
   {
    "duration": 238,
    "start_time": "2021-09-28T10:24:28.423Z"
   },
   {
    "duration": 553,
    "start_time": "2021-09-28T10:24:52.534Z"
   },
   {
    "duration": 351,
    "start_time": "2021-09-28T10:25:10.593Z"
   },
   {
    "duration": 3,
    "start_time": "2021-09-28T10:25:28.105Z"
   },
   {
    "duration": 350,
    "start_time": "2021-09-28T10:25:33.083Z"
   },
   {
    "duration": 276,
    "start_time": "2021-09-28T10:26:11.713Z"
   },
   {
    "duration": 256,
    "start_time": "2021-09-28T10:26:24.452Z"
   },
   {
    "duration": 260,
    "start_time": "2021-09-28T10:26:42.659Z"
   },
   {
    "duration": 251,
    "start_time": "2021-09-28T10:28:22.716Z"
   },
   {
    "duration": 289,
    "start_time": "2021-09-28T10:28:27.376Z"
   },
   {
    "duration": 245,
    "start_time": "2021-09-28T10:28:53.915Z"
   },
   {
    "duration": 282,
    "start_time": "2021-09-28T10:29:03.784Z"
   },
   {
    "duration": 277,
    "start_time": "2021-09-28T10:29:41.187Z"
   },
   {
    "duration": 347,
    "start_time": "2021-09-28T10:30:54.416Z"
   },
   {
    "duration": 9,
    "start_time": "2021-09-28T10:31:27.399Z"
   },
   {
    "duration": 7,
    "start_time": "2021-09-28T10:32:01.871Z"
   },
   {
    "duration": 9,
    "start_time": "2021-09-28T10:32:25.042Z"
   },
   {
    "duration": 7,
    "start_time": "2021-09-28T10:44:37.611Z"
   },
   {
    "duration": 9,
    "start_time": "2021-09-28T10:44:59.571Z"
   },
   {
    "duration": 6,
    "start_time": "2021-09-28T10:45:04.325Z"
   },
   {
    "duration": 24,
    "start_time": "2021-09-28T10:46:50.753Z"
   },
   {
    "duration": 38,
    "start_time": "2021-09-28T10:47:30.462Z"
   },
   {
    "duration": 17281,
    "start_time": "2021-09-28T10:48:31.376Z"
   },
   {
    "duration": 28,
    "start_time": "2021-09-28T10:48:58.805Z"
   },
   {
    "duration": 279,
    "start_time": "2021-09-28T10:49:00.165Z"
   },
   {
    "duration": 409,
    "start_time": "2021-09-28T10:49:48.587Z"
   },
   {
    "duration": 14403,
    "start_time": "2021-09-28T10:50:11.060Z"
   },
   {
    "duration": 760,
    "start_time": "2021-09-28T10:50:24.705Z"
   },
   {
    "duration": 3,
    "start_time": "2021-09-28T10:50:26.921Z"
   },
   {
    "duration": 17133,
    "start_time": "2021-09-28T10:50:27.377Z"
   },
   {
    "duration": 400,
    "start_time": "2021-09-28T10:50:59.092Z"
   },
   {
    "duration": 410,
    "start_time": "2021-09-28T10:51:05.490Z"
   },
   {
    "duration": 401,
    "start_time": "2021-09-28T10:51:12.316Z"
   },
   {
    "duration": 4,
    "start_time": "2021-09-28T10:51:52.418Z"
   },
   {
    "duration": 11,
    "start_time": "2021-09-28T10:52:45.220Z"
   },
   {
    "duration": 9,
    "start_time": "2021-09-28T10:52:54.406Z"
   },
   {
    "duration": 6,
    "start_time": "2021-09-28T10:53:41.148Z"
   },
   {
    "duration": 403,
    "start_time": "2021-09-28T10:53:47.398Z"
   },
   {
    "duration": 6,
    "start_time": "2021-09-28T10:53:49.744Z"
   },
   {
    "duration": 406,
    "start_time": "2021-09-28T10:54:02.286Z"
   },
   {
    "duration": 7,
    "start_time": "2021-09-28T10:54:02.771Z"
   },
   {
    "duration": 8,
    "start_time": "2021-09-28T10:54:31.695Z"
   },
   {
    "duration": 407,
    "start_time": "2021-09-28T10:54:47.464Z"
   },
   {
    "duration": 8,
    "start_time": "2021-09-28T10:54:50.575Z"
   },
   {
    "duration": 4,
    "start_time": "2021-09-28T10:55:05.432Z"
   },
   {
    "duration": 43,
    "start_time": "2021-09-28T10:55:05.438Z"
   },
   {
    "duration": 8,
    "start_time": "2021-09-28T10:55:05.483Z"
   },
   {
    "duration": 12,
    "start_time": "2021-09-28T10:55:05.493Z"
   },
   {
    "duration": 13,
    "start_time": "2021-09-28T10:55:05.507Z"
   },
   {
    "duration": 10,
    "start_time": "2021-09-28T10:55:05.522Z"
   },
   {
    "duration": 5,
    "start_time": "2021-09-28T10:55:05.534Z"
   },
   {
    "duration": 12,
    "start_time": "2021-09-28T10:55:05.542Z"
   },
   {
    "duration": 4,
    "start_time": "2021-09-28T10:55:05.555Z"
   },
   {
    "duration": 16,
    "start_time": "2021-09-28T10:55:05.560Z"
   },
   {
    "duration": 27,
    "start_time": "2021-09-28T10:55:05.578Z"
   },
   {
    "duration": 3,
    "start_time": "2021-09-28T10:55:05.607Z"
   },
   {
    "duration": 9,
    "start_time": "2021-09-28T10:55:05.612Z"
   },
   {
    "duration": 5,
    "start_time": "2021-09-28T10:55:05.622Z"
   },
   {
    "duration": 16908,
    "start_time": "2021-09-28T10:55:05.629Z"
   },
   {
    "duration": 64,
    "start_time": "2021-09-28T10:55:22.539Z"
   },
   {
    "duration": 96,
    "start_time": "2021-09-28T10:55:22.605Z"
   },
   {
    "duration": 30,
    "start_time": "2021-09-28T10:55:22.703Z"
   },
   {
    "duration": 238,
    "start_time": "2021-09-28T10:55:22.734Z"
   },
   {
    "duration": 9,
    "start_time": "2021-09-28T10:55:22.974Z"
   },
   {
    "duration": 9,
    "start_time": "2021-09-28T10:55:41.637Z"
   },
   {
    "duration": 392,
    "start_time": "2021-09-28T10:55:43.926Z"
   },
   {
    "duration": 8,
    "start_time": "2021-09-28T10:55:45.224Z"
   },
   {
    "duration": 443,
    "start_time": "2021-09-28T10:56:17.865Z"
   },
   {
    "duration": 7,
    "start_time": "2021-09-28T10:56:45.477Z"
   },
   {
    "duration": 188,
    "start_time": "2021-09-28T10:57:15.011Z"
   },
   {
    "duration": 17062,
    "start_time": "2021-09-28T10:57:34.029Z"
   },
   {
    "duration": 3,
    "start_time": "2021-09-28T10:57:55.193Z"
   },
   {
    "duration": 16925,
    "start_time": "2021-09-28T10:57:55.591Z"
   },
   {
    "duration": 29,
    "start_time": "2021-09-28T10:58:36.113Z"
   },
   {
    "duration": 268,
    "start_time": "2021-09-28T10:58:36.993Z"
   },
   {
    "duration": 8,
    "start_time": "2021-09-28T10:58:47.978Z"
   },
   {
    "duration": 427,
    "start_time": "2021-09-28T10:58:54.601Z"
   },
   {
    "duration": 8,
    "start_time": "2021-09-28T10:59:21.383Z"
   },
   {
    "duration": 6,
    "start_time": "2021-09-28T10:59:22.067Z"
   },
   {
    "duration": 1188,
    "start_time": "2021-09-28T11:00:08.106Z"
   },
   {
    "duration": 31,
    "start_time": "2021-09-28T11:00:09.296Z"
   },
   {
    "duration": 5,
    "start_time": "2021-09-28T11:00:14.263Z"
   },
   {
    "duration": 4,
    "start_time": "2021-09-28T11:00:15.665Z"
   },
   {
    "duration": 12,
    "start_time": "2021-09-28T11:00:19.627Z"
   },
   {
    "duration": 4,
    "start_time": "2021-09-28T11:00:20.333Z"
   },
   {
    "duration": 14,
    "start_time": "2021-09-28T11:00:33.663Z"
   },
   {
    "duration": 8,
    "start_time": "2021-09-28T11:00:50.611Z"
   },
   {
    "duration": 3,
    "start_time": "2021-09-28T11:00:51.690Z"
   },
   {
    "duration": 10,
    "start_time": "2021-09-28T11:01:03.847Z"
   },
   {
    "duration": 3,
    "start_time": "2021-09-28T11:01:07.351Z"
   },
   {
    "duration": 17054,
    "start_time": "2021-09-28T11:01:31.691Z"
   },
   {
    "duration": 29,
    "start_time": "2021-09-28T11:02:08.574Z"
   },
   {
    "duration": 6,
    "start_time": "2021-09-28T11:02:13.467Z"
   },
   {
    "duration": 29,
    "start_time": "2021-09-28T11:02:31.480Z"
   },
   {
    "duration": 268,
    "start_time": "2021-09-28T11:02:41.718Z"
   },
   {
    "duration": 9,
    "start_time": "2021-09-28T11:02:49.550Z"
   },
   {
    "duration": 422,
    "start_time": "2021-09-28T11:03:10.858Z"
   },
   {
    "duration": 10,
    "start_time": "2021-09-28T11:03:13.399Z"
   },
   {
    "duration": 6,
    "start_time": "2021-09-28T11:03:18.054Z"
   },
   {
    "duration": 309,
    "start_time": "2021-09-28T11:09:35.964Z"
   },
   {
    "duration": 271,
    "start_time": "2021-09-28T11:09:41.411Z"
   },
   {
    "duration": 283,
    "start_time": "2021-09-28T11:09:45.129Z"
   },
   {
    "duration": 369,
    "start_time": "2021-09-28T11:09:57.681Z"
   },
   {
    "duration": 336,
    "start_time": "2021-09-28T11:10:30.646Z"
   },
   {
    "duration": 280,
    "start_time": "2021-09-28T11:11:31.411Z"
   },
   {
    "duration": 291,
    "start_time": "2021-09-28T11:11:37.370Z"
   },
   {
    "duration": 318,
    "start_time": "2021-09-28T11:11:42.236Z"
   },
   {
    "duration": 306,
    "start_time": "2021-09-28T11:11:46.157Z"
   },
   {
    "duration": 8,
    "start_time": "2021-09-28T11:12:20.968Z"
   },
   {
    "duration": 443,
    "start_time": "2021-09-28T11:12:24.701Z"
   },
   {
    "duration": 9,
    "start_time": "2021-09-28T11:12:27.977Z"
   },
   {
    "duration": 6,
    "start_time": "2021-09-28T11:12:28.987Z"
   },
   {
    "duration": 32,
    "start_time": "2021-09-28T11:12:42.477Z"
   },
   {
    "duration": 32,
    "start_time": "2021-09-28T11:12:47.789Z"
   },
   {
    "duration": 31,
    "start_time": "2021-09-28T11:13:13.662Z"
   },
   {
    "duration": 4,
    "start_time": "2021-09-28T11:15:30.022Z"
   },
   {
    "duration": 272,
    "start_time": "2021-09-28T11:15:36.194Z"
   },
   {
    "duration": 5,
    "start_time": "2021-09-28T11:15:40.437Z"
   },
   {
    "duration": 1632,
    "start_time": "2021-09-28T11:15:46.162Z"
   },
   {
    "duration": 5,
    "start_time": "2021-09-28T11:15:48.648Z"
   },
   {
    "duration": 177,
    "start_time": "2021-09-28T11:15:58.830Z"
   },
   {
    "duration": 5,
    "start_time": "2021-09-28T11:16:02.047Z"
   },
   {
    "duration": 170,
    "start_time": "2021-09-28T11:16:14.081Z"
   },
   {
    "duration": 4,
    "start_time": "2021-09-28T11:16:17.771Z"
   },
   {
    "duration": 4,
    "start_time": "2021-09-28T11:16:37.851Z"
   },
   {
    "duration": 4,
    "start_time": "2021-09-28T11:17:14.387Z"
   },
   {
    "duration": 7,
    "start_time": "2021-09-28T11:17:33.253Z"
   },
   {
    "duration": 4,
    "start_time": "2021-09-28T11:18:06.265Z"
   },
   {
    "duration": 199,
    "start_time": "2021-09-28T11:18:22.212Z"
   },
   {
    "duration": 259,
    "start_time": "2021-09-28T11:18:32.114Z"
   },
   {
    "duration": 276,
    "start_time": "2021-09-28T11:19:21.926Z"
   },
   {
    "duration": 4,
    "start_time": "2021-09-28T11:19:47.463Z"
   },
   {
    "duration": 4,
    "start_time": "2021-09-28T11:20:02.910Z"
   },
   {
    "duration": 275,
    "start_time": "2021-09-28T11:20:05.731Z"
   },
   {
    "duration": 6,
    "start_time": "2021-09-28T11:20:16.587Z"
   },
   {
    "duration": 278,
    "start_time": "2021-09-28T11:20:16.995Z"
   },
   {
    "duration": 11,
    "start_time": "2021-09-28T11:20:21.122Z"
   },
   {
    "duration": 268,
    "start_time": "2021-09-28T11:20:40.902Z"
   },
   {
    "duration": 9,
    "start_time": "2021-09-28T11:20:44.066Z"
   },
   {
    "duration": 5,
    "start_time": "2021-09-28T11:20:55.871Z"
   },
   {
    "duration": 386,
    "start_time": "2021-09-28T11:20:55.879Z"
   },
   {
    "duration": 4,
    "start_time": "2021-09-28T11:21:24.336Z"
   },
   {
    "duration": 302,
    "start_time": "2021-09-28T11:21:32.538Z"
   },
   {
    "duration": 5,
    "start_time": "2021-09-28T11:21:45.795Z"
   },
   {
    "duration": 301,
    "start_time": "2021-09-28T11:21:46.522Z"
   },
   {
    "duration": 304,
    "start_time": "2021-09-28T11:21:52.095Z"
   },
   {
    "duration": 4,
    "start_time": "2021-09-28T11:21:59.852Z"
   },
   {
    "duration": 311,
    "start_time": "2021-09-28T11:22:00.239Z"
   },
   {
    "duration": 276,
    "start_time": "2021-09-28T11:22:04.424Z"
   },
   {
    "duration": 8,
    "start_time": "2021-09-28T11:22:14.587Z"
   },
   {
    "duration": 292,
    "start_time": "2021-09-28T11:22:16.072Z"
   },
   {
    "duration": 323,
    "start_time": "2021-09-28T11:22:18.265Z"
   },
   {
    "duration": 58,
    "start_time": "2021-09-28T11:23:14.685Z"
   },
   {
    "duration": 426,
    "start_time": "2021-09-28T11:23:22.254Z"
   },
   {
    "duration": 4,
    "start_time": "2021-09-28T11:23:56.081Z"
   },
   {
    "duration": 325,
    "start_time": "2021-09-28T11:23:57.043Z"
   },
   {
    "duration": 5,
    "start_time": "2021-09-28T11:24:06.315Z"
   },
   {
    "duration": 4,
    "start_time": "2021-09-28T11:24:09.773Z"
   },
   {
    "duration": 314,
    "start_time": "2021-09-28T11:24:11.947Z"
   },
   {
    "duration": 7,
    "start_time": "2021-09-28T11:26:26.329Z"
   },
   {
    "duration": 8,
    "start_time": "2021-09-28T11:26:35.784Z"
   },
   {
    "duration": 4,
    "start_time": "2021-09-28T11:28:03.471Z"
   },
   {
    "duration": 366,
    "start_time": "2021-09-28T11:28:04.570Z"
   },
   {
    "duration": 4,
    "start_time": "2021-09-28T11:29:22.938Z"
   },
   {
    "duration": 433,
    "start_time": "2021-09-28T11:29:23.281Z"
   },
   {
    "duration": 4,
    "start_time": "2021-09-28T11:29:53.717Z"
   },
   {
    "duration": 5,
    "start_time": "2021-09-28T11:30:30.654Z"
   },
   {
    "duration": 198,
    "start_time": "2021-09-28T11:32:58.717Z"
   },
   {
    "duration": 1221,
    "start_time": "2021-09-28T11:33:23.170Z"
   },
   {
    "duration": 32,
    "start_time": "2021-09-28T11:33:24.393Z"
   },
   {
    "duration": 5,
    "start_time": "2021-09-28T11:33:28.459Z"
   },
   {
    "duration": 11,
    "start_time": "2021-09-28T11:33:35.051Z"
   },
   {
    "duration": 5,
    "start_time": "2021-09-28T11:35:00.381Z"
   },
   {
    "duration": 5,
    "start_time": "2021-09-28T11:35:13.031Z"
   },
   {
    "duration": 9,
    "start_time": "2021-09-28T12:07:52.623Z"
   },
   {
    "duration": 14,
    "start_time": "2021-09-28T12:07:53.556Z"
   },
   {
    "duration": 6,
    "start_time": "2021-09-28T12:07:54.351Z"
   },
   {
    "duration": 6,
    "start_time": "2021-09-28T12:08:05.688Z"
   },
   {
    "duration": 4,
    "start_time": "2021-09-28T12:08:07.450Z"
   },
   {
    "duration": 10,
    "start_time": "2021-09-28T12:08:11.025Z"
   },
   {
    "duration": 14,
    "start_time": "2021-09-28T12:08:16.604Z"
   },
   {
    "duration": 9,
    "start_time": "2021-09-28T12:08:19.335Z"
   },
   {
    "duration": 3,
    "start_time": "2021-09-28T12:08:21.296Z"
   },
   {
    "duration": 4,
    "start_time": "2021-09-28T12:08:55.032Z"
   },
   {
    "duration": 1219,
    "start_time": "2021-09-28T12:09:06.917Z"
   },
   {
    "duration": 4,
    "start_time": "2021-09-28T12:09:30.181Z"
   },
   {
    "duration": 4,
    "start_time": "2021-09-28T12:09:35.694Z"
   },
   {
    "duration": 393,
    "start_time": "2021-09-28T12:09:36.321Z"
   },
   {
    "duration": 6,
    "start_time": "2021-09-28T12:10:21.418Z"
   },
   {
    "duration": 169,
    "start_time": "2021-09-28T12:10:31.575Z"
   },
   {
    "duration": 4,
    "start_time": "2021-09-28T12:10:40.223Z"
   },
   {
    "duration": 7,
    "start_time": "2021-09-28T12:10:54.649Z"
   },
   {
    "duration": 562,
    "start_time": "2021-09-28T12:11:05.365Z"
   },
   {
    "duration": 4,
    "start_time": "2021-09-28T12:11:43.186Z"
   },
   {
    "duration": 372,
    "start_time": "2021-09-28T12:11:43.775Z"
   },
   {
    "duration": 6,
    "start_time": "2021-09-28T12:12:07.753Z"
   },
   {
    "duration": 25,
    "start_time": "2021-09-28T12:12:10.965Z"
   },
   {
    "duration": 7,
    "start_time": "2021-09-28T12:12:33.004Z"
   },
   {
    "duration": 4,
    "start_time": "2021-09-28T12:12:40.649Z"
   },
   {
    "duration": 491,
    "start_time": "2021-09-28T12:12:41.028Z"
   },
   {
    "duration": 5,
    "start_time": "2021-09-28T12:12:51.165Z"
   },
   {
    "duration": 413,
    "start_time": "2021-09-28T12:12:51.428Z"
   },
   {
    "duration": 200,
    "start_time": "2021-09-28T12:13:03.845Z"
   },
   {
    "duration": 5,
    "start_time": "2021-09-28T12:13:13.542Z"
   },
   {
    "duration": 6,
    "start_time": "2021-09-28T12:13:18.964Z"
   },
   {
    "duration": 4,
    "start_time": "2021-09-28T12:15:54.330Z"
   },
   {
    "duration": 5397,
    "start_time": "2021-09-28T12:15:54.746Z"
   },
   {
    "duration": 3,
    "start_time": "2021-09-28T12:16:36.817Z"
   },
   {
    "duration": 6,
    "start_time": "2021-09-28T12:16:37.043Z"
   },
   {
    "duration": 206,
    "start_time": "2021-09-28T12:16:39.905Z"
   },
   {
    "duration": 4,
    "start_time": "2021-09-28T12:16:47.905Z"
   },
   {
    "duration": 5,
    "start_time": "2021-09-28T12:16:48.533Z"
   },
   {
    "duration": 221,
    "start_time": "2021-09-28T12:16:49.363Z"
   },
   {
    "duration": 281,
    "start_time": "2021-09-28T12:17:01.190Z"
   },
   {
    "duration": 7,
    "start_time": "2021-09-28T12:17:12.450Z"
   },
   {
    "duration": 3,
    "start_time": "2021-09-28T12:17:46.976Z"
   },
   {
    "duration": 884,
    "start_time": "2021-09-28T12:17:49.386Z"
   },
   {
    "duration": 1195,
    "start_time": "2021-09-28T12:20:45.294Z"
   },
   {
    "duration": 32,
    "start_time": "2021-09-28T12:20:46.492Z"
   },
   {
    "duration": 11,
    "start_time": "2021-09-28T12:20:46.526Z"
   },
   {
    "duration": 17,
    "start_time": "2021-09-28T12:20:46.539Z"
   },
   {
    "duration": 7,
    "start_time": "2021-09-28T12:20:46.558Z"
   },
   {
    "duration": 7,
    "start_time": "2021-09-28T12:20:46.567Z"
   },
   {
    "duration": 7,
    "start_time": "2021-09-28T12:20:46.599Z"
   },
   {
    "duration": 21,
    "start_time": "2021-09-28T12:20:46.608Z"
   },
   {
    "duration": 4,
    "start_time": "2021-09-28T12:20:46.631Z"
   },
   {
    "duration": 11,
    "start_time": "2021-09-28T12:20:49.993Z"
   },
   {
    "duration": 297,
    "start_time": "2021-09-28T12:21:49.069Z"
   },
   {
    "duration": 3,
    "start_time": "2021-09-28T12:21:53.922Z"
   },
   {
    "duration": 218,
    "start_time": "2021-09-28T12:22:22.843Z"
   },
   {
    "duration": 8,
    "start_time": "2021-09-28T12:22:26.810Z"
   },
   {
    "duration": 7,
    "start_time": "2021-09-28T12:22:47.693Z"
   },
   {
    "duration": 4,
    "start_time": "2021-09-28T12:22:50.605Z"
   },
   {
    "duration": 9,
    "start_time": "2021-09-28T12:22:54.144Z"
   },
   {
    "duration": 3,
    "start_time": "2021-09-28T12:22:57.494Z"
   },
   {
    "duration": 4,
    "start_time": "2021-09-28T12:24:29.746Z"
   },
   {
    "duration": 33,
    "start_time": "2021-09-28T12:24:29.751Z"
   },
   {
    "duration": 7,
    "start_time": "2021-09-28T12:24:29.786Z"
   },
   {
    "duration": 12,
    "start_time": "2021-09-28T12:24:29.795Z"
   },
   {
    "duration": 8,
    "start_time": "2021-09-28T12:24:29.808Z"
   },
   {
    "duration": 7,
    "start_time": "2021-09-28T12:24:29.817Z"
   },
   {
    "duration": 6,
    "start_time": "2021-09-28T12:24:29.826Z"
   },
   {
    "duration": 13,
    "start_time": "2021-09-28T12:24:29.833Z"
   },
   {
    "duration": 3,
    "start_time": "2021-09-28T12:24:29.848Z"
   },
   {
    "duration": 11,
    "start_time": "2021-09-28T12:24:29.853Z"
   },
   {
    "duration": 35,
    "start_time": "2021-09-28T12:24:29.865Z"
   },
   {
    "duration": 6,
    "start_time": "2021-09-28T12:24:29.902Z"
   },
   {
    "duration": 5,
    "start_time": "2021-09-28T12:24:29.909Z"
   },
   {
    "duration": 9,
    "start_time": "2021-09-28T12:24:29.915Z"
   },
   {
    "duration": 3,
    "start_time": "2021-09-28T12:24:29.925Z"
   },
   {
    "duration": 17275,
    "start_time": "2021-09-28T12:24:29.930Z"
   },
   {
    "duration": 93,
    "start_time": "2021-09-28T12:24:47.207Z"
   },
   {
    "duration": 5,
    "start_time": "2021-09-28T12:24:47.303Z"
   },
   {
    "duration": 94,
    "start_time": "2021-09-28T12:24:47.310Z"
   },
   {
    "duration": 237,
    "start_time": "2021-09-28T12:24:47.406Z"
   },
   {
    "duration": 1511,
    "start_time": "2021-09-28T12:24:46.134Z"
   },
   {
    "duration": 1508,
    "start_time": "2021-09-28T12:24:46.138Z"
   },
   {
    "duration": 292,
    "start_time": "2021-09-28T12:25:14.710Z"
   },
   {
    "duration": 443,
    "start_time": "2021-09-28T12:25:25.597Z"
   },
   {
    "duration": 330,
    "start_time": "2021-09-28T12:25:30.427Z"
   },
   {
    "duration": 6,
    "start_time": "2021-09-28T12:26:21.431Z"
   },
   {
    "duration": 20,
    "start_time": "2021-09-28T12:26:22.102Z"
   },
   {
    "duration": 35,
    "start_time": "2021-09-28T12:26:23.318Z"
   },
   {
    "duration": 13,
    "start_time": "2021-09-28T12:26:36.377Z"
   },
   {
    "duration": 10,
    "start_time": "2021-09-28T12:26:40.407Z"
   },
   {
    "duration": 6,
    "start_time": "2021-09-28T12:27:14.761Z"
   },
   {
    "duration": 6,
    "start_time": "2021-09-28T12:27:28.619Z"
   },
   {
    "duration": 14,
    "start_time": "2021-09-28T12:27:37.264Z"
   },
   {
    "duration": 5,
    "start_time": "2021-09-28T12:27:37.996Z"
   },
   {
    "duration": 6,
    "start_time": "2021-09-28T12:27:38.608Z"
   },
   {
    "duration": 4,
    "start_time": "2021-09-28T12:27:51.660Z"
   },
   {
    "duration": 7,
    "start_time": "2021-09-28T12:28:29.435Z"
   },
   {
    "duration": 7,
    "start_time": "2021-09-28T12:28:37.619Z"
   },
   {
    "duration": 6,
    "start_time": "2021-09-28T12:28:54.794Z"
   },
   {
    "duration": 6,
    "start_time": "2021-09-28T12:29:04.269Z"
   },
   {
    "duration": 422,
    "start_time": "2021-09-28T12:31:36.200Z"
   },
   {
    "duration": 584,
    "start_time": "2021-09-28T12:32:21.871Z"
   },
   {
    "duration": 21,
    "start_time": "2021-09-28T12:33:57.469Z"
   },
   {
    "duration": 560,
    "start_time": "2021-09-28T12:34:20.255Z"
   },
   {
    "duration": 23059,
    "start_time": "2021-09-28T12:35:30.313Z"
   },
   {
    "duration": 23207,
    "start_time": "2021-09-28T12:37:44.324Z"
   },
   {
    "duration": 132541,
    "start_time": "2021-09-28T12:38:29.196Z"
   },
   {
    "duration": 26413,
    "start_time": "2021-09-28T12:41:24.564Z"
   },
   {
    "duration": 18661,
    "start_time": "2021-09-28T12:42:18.891Z"
   },
   {
    "duration": 18641,
    "start_time": "2021-09-28T12:43:38.764Z"
   },
   {
    "duration": 3,
    "start_time": "2021-09-28T12:44:28.735Z"
   },
   {
    "duration": 18387,
    "start_time": "2021-09-28T12:44:29.312Z"
   },
   {
    "duration": 349,
    "start_time": "2021-09-28T12:46:01.104Z"
   },
   {
    "duration": 1066,
    "start_time": "2021-09-28T12:46:34.539Z"
   },
   {
    "duration": 243,
    "start_time": "2021-09-28T12:46:37.924Z"
   },
   {
    "duration": 4,
    "start_time": "2021-09-28T12:48:09.358Z"
   },
   {
    "duration": 39,
    "start_time": "2021-09-28T12:48:09.363Z"
   },
   {
    "duration": 8,
    "start_time": "2021-09-28T12:48:12.222Z"
   },
   {
    "duration": 6,
    "start_time": "2021-09-28T12:52:10.855Z"
   },
   {
    "duration": 7,
    "start_time": "2021-09-28T12:52:28.093Z"
   },
   {
    "duration": 7,
    "start_time": "2021-09-28T12:52:51.417Z"
   },
   {
    "duration": 10,
    "start_time": "2021-09-28T12:52:56.102Z"
   },
   {
    "duration": 18,
    "start_time": "2021-09-28T12:57:41.861Z"
   },
   {
    "duration": 1126,
    "start_time": "2021-09-28T13:03:07.424Z"
   },
   {
    "duration": 31,
    "start_time": "2021-09-28T13:03:08.552Z"
   },
   {
    "duration": 8,
    "start_time": "2021-09-28T13:03:08.585Z"
   },
   {
    "duration": 25,
    "start_time": "2021-09-28T13:03:08.595Z"
   },
   {
    "duration": 15,
    "start_time": "2021-09-28T13:03:08.621Z"
   },
   {
    "duration": 10,
    "start_time": "2021-09-28T13:03:08.638Z"
   },
   {
    "duration": 12,
    "start_time": "2021-09-28T13:03:11.833Z"
   },
   {
    "duration": 4,
    "start_time": "2021-09-28T13:03:12.188Z"
   },
   {
    "duration": 18,
    "start_time": "2021-09-28T13:03:17.803Z"
   },
   {
    "duration": 310,
    "start_time": "2021-09-28T13:04:09.477Z"
   },
   {
    "duration": 8,
    "start_time": "2021-09-28T13:04:22.118Z"
   },
   {
    "duration": 7,
    "start_time": "2021-09-28T13:06:07.113Z"
   },
   {
    "duration": 5,
    "start_time": "2021-09-28T13:06:15.500Z"
   },
   {
    "duration": 9,
    "start_time": "2021-09-28T13:06:21.309Z"
   },
   {
    "duration": 11,
    "start_time": "2021-09-28T13:06:23.080Z"
   },
   {
    "duration": 5,
    "start_time": "2021-09-28T13:06:35.934Z"
   },
   {
    "duration": 19,
    "start_time": "2021-09-28T13:06:37.106Z"
   },
   {
    "duration": 4,
    "start_time": "2021-09-28T13:06:38.785Z"
   },
   {
    "duration": 27,
    "start_time": "2021-09-28T13:06:40.999Z"
   },
   {
    "duration": 9,
    "start_time": "2021-09-28T13:07:50.041Z"
   },
   {
    "duration": 17,
    "start_time": "2021-09-28T13:08:02.960Z"
   },
   {
    "duration": 11,
    "start_time": "2021-09-28T13:09:31.000Z"
   },
   {
    "duration": 364,
    "start_time": "2021-09-29T08:52:47.124Z"
   },
   {
    "duration": 1545,
    "start_time": "2021-09-29T08:52:51.471Z"
   },
   {
    "duration": 35,
    "start_time": "2021-09-29T08:52:53.020Z"
   },
   {
    "duration": 14,
    "start_time": "2021-09-29T08:52:53.058Z"
   },
   {
    "duration": 23,
    "start_time": "2021-09-29T08:52:53.075Z"
   },
   {
    "duration": 13,
    "start_time": "2021-09-29T08:52:53.102Z"
   },
   {
    "duration": 44,
    "start_time": "2021-09-29T08:52:53.118Z"
   },
   {
    "duration": 8,
    "start_time": "2021-09-29T08:52:53.166Z"
   },
   {
    "duration": 19,
    "start_time": "2021-09-29T08:52:53.176Z"
   },
   {
    "duration": 5,
    "start_time": "2021-09-29T08:52:53.200Z"
   },
   {
    "duration": 74,
    "start_time": "2021-09-29T08:52:53.208Z"
   },
   {
    "duration": 15,
    "start_time": "2021-09-29T08:52:53.285Z"
   },
   {
    "duration": 10,
    "start_time": "2021-09-29T08:52:57.128Z"
   },
   {
    "duration": 35,
    "start_time": "2021-09-29T08:53:10.064Z"
   },
   {
    "duration": 94,
    "start_time": "2021-09-29T08:53:14.204Z"
   },
   {
    "duration": 37,
    "start_time": "2021-09-29T08:53:17.816Z"
   },
   {
    "duration": 201,
    "start_time": "2021-09-29T08:53:28.552Z"
   },
   {
    "duration": 10,
    "start_time": "2021-09-29T08:53:31.261Z"
   },
   {
    "duration": 2002,
    "start_time": "2021-09-29T08:53:37.266Z"
   },
   {
    "duration": 38,
    "start_time": "2021-09-29T08:53:44.277Z"
   },
   {
    "duration": 39,
    "start_time": "2021-09-29T08:53:49.701Z"
   },
   {
    "duration": 28,
    "start_time": "2021-09-29T08:54:27.800Z"
   },
   {
    "duration": 66,
    "start_time": "2021-09-29T08:54:34.210Z"
   },
   {
    "duration": 34,
    "start_time": "2021-09-29T08:54:54.167Z"
   },
   {
    "duration": 41,
    "start_time": "2021-09-29T08:56:42.631Z"
   },
   {
    "duration": 5,
    "start_time": "2021-09-29T08:56:52.587Z"
   },
   {
    "duration": 14,
    "start_time": "2021-09-29T09:01:06.964Z"
   },
   {
    "duration": 4,
    "start_time": "2021-09-29T09:05:13.087Z"
   },
   {
    "duration": 241,
    "start_time": "2021-09-29T09:06:58.741Z"
   },
   {
    "duration": 194,
    "start_time": "2021-09-29T09:12:44.053Z"
   },
   {
    "duration": 4,
    "start_time": "2021-09-29T09:12:51.782Z"
   },
   {
    "duration": 42334,
    "start_time": "2021-09-29T09:12:52.119Z"
   },
   {
    "duration": 32,
    "start_time": "2021-09-29T09:14:31.917Z"
   },
   {
    "duration": 53,
    "start_time": "2021-09-29T09:14:35.658Z"
   },
   {
    "duration": 678,
    "start_time": "2021-09-29T09:14:49.496Z"
   },
   {
    "duration": 317,
    "start_time": "2021-09-29T09:15:32.444Z"
   },
   {
    "duration": 31,
    "start_time": "2021-09-29T09:15:40.126Z"
   },
   {
    "duration": 5,
    "start_time": "2021-09-29T09:15:53.982Z"
   },
   {
    "duration": 664,
    "start_time": "2021-09-29T09:16:04.957Z"
   },
   {
    "duration": 958,
    "start_time": "2021-09-29T09:16:51.228Z"
   },
   {
    "duration": 676,
    "start_time": "2021-09-29T09:17:00.349Z"
   },
   {
    "duration": 39662,
    "start_time": "2021-09-29T09:17:54.250Z"
   },
   {
    "duration": 7,
    "start_time": "2021-09-29T09:18:57.183Z"
   },
   {
    "duration": 6,
    "start_time": "2021-09-29T09:19:22.209Z"
   },
   {
    "duration": 7,
    "start_time": "2021-09-29T09:19:26.114Z"
   },
   {
    "duration": 9,
    "start_time": "2021-09-29T09:19:39.153Z"
   },
   {
    "duration": 9,
    "start_time": "2021-09-29T09:19:48.203Z"
   },
   {
    "duration": 8,
    "start_time": "2021-09-29T09:19:52.362Z"
   },
   {
    "duration": 9,
    "start_time": "2021-09-29T09:19:58.996Z"
   },
   {
    "duration": 8,
    "start_time": "2021-09-29T09:20:04.619Z"
   },
   {
    "duration": 716,
    "start_time": "2021-09-29T09:22:45.663Z"
   },
   {
    "duration": 43544,
    "start_time": "2021-09-29T09:23:35.081Z"
   },
   {
    "duration": 42541,
    "start_time": "2021-09-29T09:24:23.527Z"
   },
   {
    "duration": 72,
    "start_time": "2021-09-29T09:25:19.451Z"
   },
   {
    "duration": 400,
    "start_time": "2021-09-29T09:25:40.488Z"
   },
   {
    "duration": 73,
    "start_time": "2021-09-29T09:26:01.917Z"
   },
   {
    "duration": 41684,
    "start_time": "2021-09-29T09:27:23.514Z"
   },
   {
    "duration": 85,
    "start_time": "2021-09-29T09:28:33.640Z"
   },
   {
    "duration": 115,
    "start_time": "2021-09-29T09:28:50.457Z"
   },
   {
    "duration": 79,
    "start_time": "2021-09-29T09:28:53.270Z"
   },
   {
    "duration": 38795,
    "start_time": "2021-09-29T09:29:55.467Z"
   },
   {
    "duration": 205,
    "start_time": "2021-09-29T09:33:00.664Z"
   },
   {
    "duration": 7542,
    "start_time": "2021-09-29T09:34:04.779Z"
   },
   {
    "duration": 31,
    "start_time": "2021-09-29T09:34:23.629Z"
   },
   {
    "duration": 3,
    "start_time": "2021-09-29T09:36:12.689Z"
   },
   {
    "duration": 80,
    "start_time": "2021-09-29T09:36:17.185Z"
   },
   {
    "duration": 42,
    "start_time": "2021-09-29T09:36:24.958Z"
   },
   {
    "duration": 5870,
    "start_time": "2021-09-29T09:36:51.057Z"
   },
   {
    "duration": 48084,
    "start_time": "2021-09-29T09:37:10.602Z"
   },
   {
    "duration": 7,
    "start_time": "2021-09-29T09:38:49.459Z"
   },
   {
    "duration": 30,
    "start_time": "2021-09-29T09:39:55.933Z"
   },
   {
    "duration": 30,
    "start_time": "2021-09-29T09:40:16.670Z"
   },
   {
    "duration": 7,
    "start_time": "2021-09-29T09:40:40.479Z"
   },
   {
    "duration": 13,
    "start_time": "2021-09-29T09:41:02.348Z"
   },
   {
    "duration": 7,
    "start_time": "2021-09-29T09:41:17.132Z"
   },
   {
    "duration": 282,
    "start_time": "2021-09-29T09:41:29.007Z"
   },
   {
    "duration": 980,
    "start_time": "2021-09-29T09:41:31.127Z"
   },
   {
    "duration": 6,
    "start_time": "2021-09-29T09:41:41.309Z"
   },
   {
    "duration": 33,
    "start_time": "2021-09-29T09:42:16.655Z"
   },
   {
    "duration": -30,
    "start_time": "2021-09-29T09:42:34.659Z"
   },
   {
    "duration": 340,
    "start_time": "2021-09-29T09:42:34.880Z"
   },
   {
    "duration": 25,
    "start_time": "2021-09-29T09:42:40.428Z"
   },
   {
    "duration": 6,
    "start_time": "2021-09-29T09:44:37.386Z"
   },
   {
    "duration": 7,
    "start_time": "2021-09-29T09:50:37.102Z"
   },
   {
    "duration": 29,
    "start_time": "2021-09-29T09:50:39.557Z"
   },
   {
    "duration": 31,
    "start_time": "2021-09-29T09:50:40.852Z"
   },
   {
    "duration": 6,
    "start_time": "2021-09-29T09:50:53.973Z"
   },
   {
    "duration": 5,
    "start_time": "2021-09-29T09:50:54.872Z"
   },
   {
    "duration": 9,
    "start_time": "2021-09-29T09:51:01.177Z"
   },
   {
    "duration": 8,
    "start_time": "2021-09-29T09:51:07.595Z"
   },
   {
    "duration": 26,
    "start_time": "2021-09-29T09:51:08.679Z"
   },
   {
    "duration": 30,
    "start_time": "2021-09-29T09:51:09.463Z"
   },
   {
    "duration": 14,
    "start_time": "2021-09-29T09:51:31.881Z"
   },
   {
    "duration": 4,
    "start_time": "2021-09-29T09:51:34.483Z"
   },
   {
    "duration": 13,
    "start_time": "2021-09-29T09:51:48.290Z"
   },
   {
    "duration": 31,
    "start_time": "2021-09-29T09:52:00.282Z"
   },
   {
    "duration": 12,
    "start_time": "2021-09-29T09:52:14.174Z"
   },
   {
    "duration": 8,
    "start_time": "2021-09-29T09:52:16.911Z"
   },
   {
    "duration": 78,
    "start_time": "2021-09-29T09:52:18.237Z"
   },
   {
    "duration": 30,
    "start_time": "2021-09-29T09:52:32.987Z"
   },
   {
    "duration": 13,
    "start_time": "2021-09-29T09:52:36.466Z"
   },
   {
    "duration": 297,
    "start_time": "2021-09-29T09:52:58.926Z"
   },
   {
    "duration": 9,
    "start_time": "2021-09-29T09:53:14.202Z"
   },
   {
    "duration": 4,
    "start_time": "2021-09-29T09:53:15.431Z"
   },
   {
    "duration": 50,
    "start_time": "2021-09-29T09:53:19.617Z"
   },
   {
    "duration": 350,
    "start_time": "2021-09-29T09:53:42.083Z"
   },
   {
    "duration": 29,
    "start_time": "2021-09-29T09:53:47.514Z"
   },
   {
    "duration": 50462,
    "start_time": "2021-09-29T09:53:57.177Z"
   },
   {
    "duration": 84361,
    "start_time": "2021-09-29T09:55:08.694Z"
   },
   {
    "duration": 47396,
    "start_time": "2021-09-29T09:57:03.190Z"
   },
   {
    "duration": 3,
    "start_time": "2021-09-29T09:58:52.559Z"
   },
   {
    "duration": 46914,
    "start_time": "2021-09-29T09:58:53.056Z"
   },
   {
    "duration": 38,
    "start_time": "2021-09-29T10:05:44.843Z"
   },
   {
    "duration": 40,
    "start_time": "2021-09-29T10:06:09.462Z"
   },
   {
    "duration": 40,
    "start_time": "2021-09-29T10:06:17.626Z"
   },
   {
    "duration": 32,
    "start_time": "2021-09-29T10:06:34.815Z"
   },
   {
    "duration": 6,
    "start_time": "2021-09-29T10:12:29.505Z"
   },
   {
    "duration": 349,
    "start_time": "2021-09-29T10:13:35.654Z"
   },
   {
    "duration": 40,
    "start_time": "2021-09-29T10:13:50.325Z"
   },
   {
    "duration": 53,
    "start_time": "2021-09-29T10:15:50.967Z"
   },
   {
    "duration": 33,
    "start_time": "2021-09-29T10:16:56.794Z"
   },
   {
    "duration": 17,
    "start_time": "2021-09-29T10:17:09.455Z"
   },
   {
    "duration": 9,
    "start_time": "2021-09-29T10:17:12.008Z"
   },
   {
    "duration": 6,
    "start_time": "2021-09-29T10:18:28.102Z"
   },
   {
    "duration": 10,
    "start_time": "2021-09-29T10:18:47.063Z"
   },
   {
    "duration": 10,
    "start_time": "2021-09-29T10:19:23.434Z"
   },
   {
    "duration": 9,
    "start_time": "2021-09-29T10:19:38.702Z"
   },
   {
    "duration": 10,
    "start_time": "2021-09-29T10:20:45.475Z"
   },
   {
    "duration": 9,
    "start_time": "2021-09-29T10:20:47.914Z"
   },
   {
    "duration": 16,
    "start_time": "2021-09-29T10:21:05.481Z"
   },
   {
    "duration": 13,
    "start_time": "2021-09-29T10:21:10.678Z"
   },
   {
    "duration": 13,
    "start_time": "2021-09-29T10:21:13.382Z"
   },
   {
    "duration": 15,
    "start_time": "2021-09-29T10:21:16.031Z"
   },
   {
    "duration": 14,
    "start_time": "2021-09-29T10:21:19.490Z"
   },
   {
    "duration": 16,
    "start_time": "2021-09-29T10:21:23.070Z"
   },
   {
    "duration": 14,
    "start_time": "2021-09-29T10:21:27.523Z"
   },
   {
    "duration": 19,
    "start_time": "2021-09-29T10:21:41.414Z"
   },
   {
    "duration": 15,
    "start_time": "2021-09-29T10:21:50.074Z"
   },
   {
    "duration": 15,
    "start_time": "2021-09-29T10:21:56.549Z"
   },
   {
    "duration": 16,
    "start_time": "2021-09-29T10:22:07.593Z"
   },
   {
    "duration": 6,
    "start_time": "2021-09-29T10:24:18.664Z"
   },
   {
    "duration": 397,
    "start_time": "2021-09-29T10:25:02.457Z"
   },
   {
    "duration": 9,
    "start_time": "2021-09-29T10:25:04.967Z"
   },
   {
    "duration": 445,
    "start_time": "2021-09-29T10:25:05.321Z"
   },
   {
    "duration": 175,
    "start_time": "2021-09-29T10:26:03.685Z"
   },
   {
    "duration": 5,
    "start_time": "2021-09-29T10:26:13.813Z"
   },
   {
    "duration": 1514,
    "start_time": "2021-09-29T10:26:15.631Z"
   },
   {
    "duration": 131,
    "start_time": "2021-09-29T10:26:41.335Z"
   },
   {
    "duration": 14,
    "start_time": "2021-09-29T10:26:44.283Z"
   },
   {
    "duration": 13,
    "start_time": "2021-09-29T10:26:52.393Z"
   },
   {
    "duration": 386,
    "start_time": "2021-09-29T10:26:56.285Z"
   },
   {
    "duration": 6,
    "start_time": "2021-09-29T10:27:13.866Z"
   },
   {
    "duration": 980,
    "start_time": "2021-09-29T10:27:15.112Z"
   },
   {
    "duration": 7,
    "start_time": "2021-09-29T10:28:00.811Z"
   },
   {
    "duration": 1045,
    "start_time": "2021-09-29T10:28:01.809Z"
   },
   {
    "duration": 6,
    "start_time": "2021-09-29T10:28:08.058Z"
   },
   {
    "duration": 1167,
    "start_time": "2021-09-29T10:28:08.629Z"
   },
   {
    "duration": 7,
    "start_time": "2021-09-29T10:28:55.998Z"
   },
   {
    "duration": 902,
    "start_time": "2021-09-29T10:28:56.555Z"
   },
   {
    "duration": 7,
    "start_time": "2021-09-29T10:29:04.881Z"
   },
   {
    "duration": 438,
    "start_time": "2021-09-29T10:29:06.060Z"
   },
   {
    "duration": 6,
    "start_time": "2021-09-29T10:29:59.610Z"
   },
   {
    "duration": 417,
    "start_time": "2021-09-29T10:30:00.163Z"
   },
   {
    "duration": 6,
    "start_time": "2021-09-29T10:30:15.229Z"
   },
   {
    "duration": 424,
    "start_time": "2021-09-29T10:30:15.692Z"
   },
   {
    "duration": 7,
    "start_time": "2021-09-29T10:34:19.387Z"
   },
   {
    "duration": 38,
    "start_time": "2021-09-29T10:35:25.690Z"
   },
   {
    "duration": 6,
    "start_time": "2021-09-29T10:37:20.909Z"
   },
   {
    "duration": 3,
    "start_time": "2021-09-29T10:37:28.324Z"
   },
   {
    "duration": 4,
    "start_time": "2021-09-29T10:37:42.995Z"
   },
   {
    "duration": 8,
    "start_time": "2021-09-29T10:37:43.539Z"
   },
   {
    "duration": 585,
    "start_time": "2021-09-29T10:38:54.144Z"
   },
   {
    "duration": 465,
    "start_time": "2021-09-29T10:39:07.333Z"
   },
   {
    "duration": 569,
    "start_time": "2021-09-29T10:39:43.094Z"
   },
   {
    "duration": 561,
    "start_time": "2021-09-29T10:39:51.510Z"
   },
   {
    "duration": 7,
    "start_time": "2021-09-29T10:40:06.529Z"
   },
   {
    "duration": 488,
    "start_time": "2021-09-29T10:40:50.474Z"
   },
   {
    "duration": 556,
    "start_time": "2021-09-29T10:40:52.869Z"
   },
   {
    "duration": 795,
    "start_time": "2021-09-29T10:44:25.553Z"
   },
   {
    "duration": 855,
    "start_time": "2021-09-29T10:44:42.283Z"
   },
   {
    "duration": 493,
    "start_time": "2021-09-29T10:45:02.420Z"
   },
   {
    "duration": 529,
    "start_time": "2021-09-29T10:45:24.525Z"
   },
   {
    "duration": 512,
    "start_time": "2021-09-29T10:45:30.813Z"
   },
   {
    "duration": 861,
    "start_time": "2021-09-29T10:45:34.253Z"
   },
   {
    "duration": 507,
    "start_time": "2021-09-29T10:45:39.806Z"
   },
   {
    "duration": 513,
    "start_time": "2021-09-29T10:46:10.153Z"
   },
   {
    "duration": 387,
    "start_time": "2021-09-29T10:46:57.128Z"
   },
   {
    "duration": 6,
    "start_time": "2021-09-29T10:47:42.620Z"
   },
   {
    "duration": 14,
    "start_time": "2021-09-29T10:48:04.154Z"
   },
   {
    "duration": 9,
    "start_time": "2021-09-29T10:48:05.420Z"
   },
   {
    "duration": 76211,
    "start_time": "2021-09-29T10:49:58.087Z"
   },
   {
    "duration": 103,
    "start_time": "2021-09-29T10:53:27.776Z"
   },
   {
    "duration": 55,
    "start_time": "2021-09-29T10:54:11.613Z"
   },
   {
    "duration": 56,
    "start_time": "2021-09-29T10:55:01.407Z"
   },
   {
    "duration": 68,
    "start_time": "2021-09-29T10:55:07.414Z"
   },
   {
    "duration": 6,
    "start_time": "2021-09-29T10:56:45.635Z"
   },
   {
    "duration": 18,
    "start_time": "2021-09-29T10:56:56.667Z"
   },
   {
    "duration": 146,
    "start_time": "2021-09-29T10:57:42.726Z"
   },
   {
    "duration": 28918,
    "start_time": "2021-09-29T10:58:10.733Z"
   },
   {
    "duration": 42,
    "start_time": "2021-09-29T11:00:04.580Z"
   },
   {
    "duration": 9,
    "start_time": "2021-09-29T11:50:44.936Z"
   },
   {
    "duration": 5,
    "start_time": "2021-09-29T11:52:19.707Z"
   },
   {
    "duration": 5,
    "start_time": "2021-09-29T11:52:27.099Z"
   },
   {
    "duration": 43,
    "start_time": "2021-09-29T11:52:27.107Z"
   },
   {
    "duration": 17,
    "start_time": "2021-09-29T11:52:27.153Z"
   },
   {
    "duration": 20,
    "start_time": "2021-09-29T11:52:27.173Z"
   },
   {
    "duration": 15,
    "start_time": "2021-09-29T11:52:27.196Z"
   },
   {
    "duration": 11,
    "start_time": "2021-09-29T11:52:27.214Z"
   },
   {
    "duration": 35,
    "start_time": "2021-09-29T11:52:27.227Z"
   },
   {
    "duration": 23,
    "start_time": "2021-09-29T11:52:27.265Z"
   },
   {
    "duration": 14,
    "start_time": "2021-09-29T11:52:27.292Z"
   },
   {
    "duration": 28,
    "start_time": "2021-09-29T11:52:27.308Z"
   },
   {
    "duration": 33,
    "start_time": "2021-09-29T11:52:27.339Z"
   },
   {
    "duration": 19,
    "start_time": "2021-09-29T11:52:27.374Z"
   },
   {
    "duration": 105,
    "start_time": "2021-09-29T11:52:27.396Z"
   },
   {
    "duration": 6,
    "start_time": "2021-09-29T11:52:27.503Z"
   },
   {
    "duration": 11,
    "start_time": "2021-09-29T11:52:27.512Z"
   },
   {
    "duration": 7,
    "start_time": "2021-09-29T11:52:27.525Z"
   },
   {
    "duration": 51332,
    "start_time": "2021-09-29T11:52:27.535Z"
   },
   {
    "duration": 47,
    "start_time": "2021-09-29T11:53:55.225Z"
   },
   {
    "duration": 4,
    "start_time": "2021-09-29T11:53:58.186Z"
   },
   {
    "duration": 4,
    "start_time": "2021-09-29T11:54:24.494Z"
   },
   {
    "duration": 4,
    "start_time": "2021-09-29T11:54:57.041Z"
   },
   {
    "duration": 72,
    "start_time": "2021-09-29T11:55:08.893Z"
   },
   {
    "duration": 5,
    "start_time": "2021-09-29T11:55:10.979Z"
   },
   {
    "duration": 6,
    "start_time": "2021-09-29T11:55:20.617Z"
   },
   {
    "duration": 6,
    "start_time": "2021-09-29T11:55:21.189Z"
   },
   {
    "duration": 396,
    "start_time": "2021-09-29T11:55:24.272Z"
   },
   {
    "duration": 37,
    "start_time": "2021-09-29T11:55:51.083Z"
   },
   {
    "duration": 39,
    "start_time": "2021-09-29T11:56:03.153Z"
   },
   {
    "duration": 38,
    "start_time": "2021-09-29T11:57:47.210Z"
   },
   {
    "duration": 38,
    "start_time": "2021-09-29T11:57:56.737Z"
   },
   {
    "duration": 37,
    "start_time": "2021-09-29T11:58:06.325Z"
   },
   {
    "duration": 44,
    "start_time": "2021-09-29T11:59:05.217Z"
   },
   {
    "duration": 40,
    "start_time": "2021-09-29T11:59:09.674Z"
   },
   {
    "duration": 44,
    "start_time": "2021-09-29T11:59:29.129Z"
   },
   {
    "duration": 569,
    "start_time": "2021-09-29T12:00:51.019Z"
   },
   {
    "duration": 488,
    "start_time": "2021-09-29T12:00:53.119Z"
   },
   {
    "duration": 501,
    "start_time": "2021-09-29T12:01:45.227Z"
   },
   {
    "duration": 379,
    "start_time": "2021-09-29T12:02:57.401Z"
   },
   {
    "duration": 5,
    "start_time": "2021-09-29T12:03:08.423Z"
   },
   {
    "duration": 13,
    "start_time": "2021-09-29T12:03:08.869Z"
   },
   {
    "duration": 9,
    "start_time": "2021-09-29T12:03:09.871Z"
   },
   {
    "duration": 745,
    "start_time": "2021-09-29T12:04:32.871Z"
   },
   {
    "duration": 70359,
    "start_time": "2021-09-29T12:05:10.723Z"
   },
   {
    "duration": 68,
    "start_time": "2021-09-29T12:07:04.127Z"
   },
   {
    "duration": 6,
    "start_time": "2021-09-29T12:07:19.984Z"
   },
   {
    "duration": 12,
    "start_time": "2021-09-29T12:07:20.337Z"
   },
   {
    "duration": 8,
    "start_time": "2021-09-29T12:07:38.676Z"
   },
   {
    "duration": 96,
    "start_time": "2021-09-29T12:07:46.566Z"
   },
   {
    "duration": 18335,
    "start_time": "2021-09-29T12:08:03.457Z"
   },
   {
    "duration": 27361,
    "start_time": "2021-09-29T12:08:59.535Z"
   },
   {
    "duration": 43,
    "start_time": "2021-09-29T12:09:32.145Z"
   },
   {
    "duration": 5,
    "start_time": "2021-09-29T12:10:02.058Z"
   },
   {
    "duration": 105,
    "start_time": "2021-09-29T12:14:41.991Z"
   },
   {
    "duration": 80,
    "start_time": "2021-09-29T12:15:19.839Z"
   },
   {
    "duration": 75,
    "start_time": "2021-09-29T12:15:33.681Z"
   },
   {
    "duration": 85,
    "start_time": "2021-09-29T12:15:46.893Z"
   },
   {
    "duration": 92,
    "start_time": "2021-09-29T12:15:55.446Z"
   },
   {
    "duration": 795,
    "start_time": "2021-09-29T12:16:57.949Z"
   },
   {
    "duration": 859,
    "start_time": "2021-09-29T12:17:19.953Z"
   },
   {
    "duration": 834,
    "start_time": "2021-09-29T12:18:51.207Z"
   },
   {
    "duration": 738,
    "start_time": "2021-09-29T12:19:45.818Z"
   },
   {
    "duration": 680,
    "start_time": "2021-09-29T12:21:26.755Z"
   },
   {
    "duration": 592,
    "start_time": "2021-09-29T12:21:31.992Z"
   },
   {
    "duration": 781,
    "start_time": "2021-09-29T12:21:41.926Z"
   },
   {
    "duration": 594,
    "start_time": "2021-09-29T12:21:57.700Z"
   },
   {
    "duration": 570,
    "start_time": "2021-09-29T12:22:11.053Z"
   },
   {
    "duration": 861,
    "start_time": "2021-09-29T12:22:13.505Z"
   },
   {
    "duration": 559,
    "start_time": "2021-09-29T12:25:46.993Z"
   },
   {
    "duration": 6,
    "start_time": "2021-09-29T12:26:04.018Z"
   },
   {
    "duration": 297,
    "start_time": "2021-09-29T12:26:09.732Z"
   },
   {
    "duration": 535,
    "start_time": "2021-09-29T12:29:14.811Z"
   },
   {
    "duration": 5,
    "start_time": "2021-09-29T12:29:41.514Z"
   },
   {
    "duration": 298,
    "start_time": "2021-09-29T12:29:50.996Z"
   },
   {
    "duration": 422,
    "start_time": "2021-09-29T12:30:19.016Z"
   },
   {
    "duration": 347,
    "start_time": "2021-09-29T12:30:27.714Z"
   },
   {
    "duration": 325,
    "start_time": "2021-09-29T12:30:32.022Z"
   },
   {
    "duration": 334,
    "start_time": "2021-09-29T12:30:47.560Z"
   },
   {
    "duration": 322,
    "start_time": "2021-09-29T12:30:56.523Z"
   },
   {
    "duration": 326,
    "start_time": "2021-09-29T12:31:05.335Z"
   },
   {
    "duration": 266,
    "start_time": "2021-09-29T12:31:11.675Z"
   },
   {
    "duration": 332,
    "start_time": "2021-09-29T12:31:16.630Z"
   },
   {
    "duration": 341,
    "start_time": "2021-09-29T12:31:26.642Z"
   },
   {
    "duration": 324,
    "start_time": "2021-09-29T12:31:35.318Z"
   },
   {
    "duration": 336,
    "start_time": "2021-09-29T12:31:46.435Z"
   },
   {
    "duration": 324,
    "start_time": "2021-09-29T12:31:53.386Z"
   },
   {
    "duration": 1188,
    "start_time": "2021-09-29T12:32:09.819Z"
   },
   {
    "duration": 327,
    "start_time": "2021-09-29T12:32:34.799Z"
   },
   {
    "duration": 322,
    "start_time": "2021-09-29T12:32:39.197Z"
   },
   {
    "duration": 328,
    "start_time": "2021-09-29T12:32:42.590Z"
   },
   {
    "duration": 726,
    "start_time": "2021-09-29T12:32:47.704Z"
   },
   {
    "duration": 327,
    "start_time": "2021-09-29T12:32:52.875Z"
   },
   {
    "duration": 613,
    "start_time": "2021-09-29T12:35:41.209Z"
   },
   {
    "duration": 621,
    "start_time": "2021-09-29T12:36:08.033Z"
   },
   {
    "duration": 323,
    "start_time": "2021-09-29T12:36:17.143Z"
   },
   {
    "duration": 382,
    "start_time": "2021-09-29T12:36:21.795Z"
   },
   {
    "duration": 389,
    "start_time": "2021-09-29T12:36:37.476Z"
   },
   {
    "duration": 319,
    "start_time": "2021-09-29T12:37:03.637Z"
   },
   {
    "duration": 485,
    "start_time": "2021-09-29T12:37:12.677Z"
   },
   {
    "duration": 683,
    "start_time": "2021-09-29T12:37:32.081Z"
   },
   {
    "duration": 706,
    "start_time": "2021-09-29T12:38:00.838Z"
   },
   {
    "duration": 312,
    "start_time": "2021-09-29T12:38:14.683Z"
   },
   {
    "duration": 296,
    "start_time": "2021-09-29T12:39:14.904Z"
   },
   {
    "duration": 594,
    "start_time": "2021-09-29T12:39:29.340Z"
   },
   {
    "duration": 515,
    "start_time": "2021-09-29T12:39:36.907Z"
   },
   {
    "duration": 321,
    "start_time": "2021-09-29T12:39:45.759Z"
   },
   {
    "duration": 795,
    "start_time": "2021-09-29T12:39:56.066Z"
   },
   {
    "duration": 411,
    "start_time": "2021-09-29T12:40:01.844Z"
   },
   {
    "duration": 369,
    "start_time": "2021-09-29T12:40:05.461Z"
   },
   {
    "duration": 326,
    "start_time": "2021-09-29T12:40:08.802Z"
   },
   {
    "duration": 7,
    "start_time": "2021-09-29T12:41:26.034Z"
   },
   {
    "duration": 475,
    "start_time": "2021-09-29T12:42:09.702Z"
   },
   {
    "duration": 471,
    "start_time": "2021-09-29T12:42:18.066Z"
   },
   {
    "duration": 475,
    "start_time": "2021-09-29T12:42:26.088Z"
   },
   {
    "duration": 474,
    "start_time": "2021-09-29T12:43:18.202Z"
   },
   {
    "duration": 53,
    "start_time": "2021-09-29T12:47:24.341Z"
   },
   {
    "duration": 41,
    "start_time": "2021-09-29T12:47:33.767Z"
   },
   {
    "duration": 42,
    "start_time": "2021-09-29T12:47:42.588Z"
   },
   {
    "duration": 318,
    "start_time": "2021-09-29T12:47:58.297Z"
   },
   {
    "duration": 352,
    "start_time": "2021-09-29T12:48:09.380Z"
   },
   {
    "duration": 7,
    "start_time": "2021-09-29T12:48:39.192Z"
   },
   {
    "duration": 8,
    "start_time": "2021-09-29T12:49:19.842Z"
   },
   {
    "duration": 320,
    "start_time": "2021-09-29T12:49:48.009Z"
   },
   {
    "duration": 310,
    "start_time": "2021-09-29T12:49:59.152Z"
   },
   {
    "duration": 7,
    "start_time": "2021-09-29T12:50:10.356Z"
   },
   {
    "duration": 5,
    "start_time": "2021-09-29T12:50:11.005Z"
   },
   {
    "duration": 6,
    "start_time": "2021-09-29T12:50:23.635Z"
   },
   {
    "duration": 6,
    "start_time": "2021-09-29T12:50:29.528Z"
   },
   {
    "duration": 28,
    "start_time": "2021-09-29T12:51:10.282Z"
   },
   {
    "duration": 63,
    "start_time": "2021-09-29T12:51:42.244Z"
   },
   {
    "duration": 7,
    "start_time": "2021-09-29T12:51:58.448Z"
   },
   {
    "duration": 74,
    "start_time": "2021-09-29T12:52:00.654Z"
   },
   {
    "duration": 481,
    "start_time": "2021-09-29T12:52:09.662Z"
   },
   {
    "duration": 10,
    "start_time": "2021-09-29T12:52:23.487Z"
   },
   {
    "duration": 55,
    "start_time": "2021-09-29T12:52:56.633Z"
   },
   {
    "duration": 117,
    "start_time": "2021-09-29T12:53:39.259Z"
   },
   {
    "duration": 754,
    "start_time": "2021-09-29T12:54:34.546Z"
   },
   {
    "duration": 71,
    "start_time": "2021-09-29T12:54:39.004Z"
   },
   {
    "duration": 495,
    "start_time": "2021-09-29T12:54:43.895Z"
   },
   {
    "duration": 8,
    "start_time": "2021-09-29T12:54:49.902Z"
   },
   {
    "duration": 782,
    "start_time": "2021-09-29T12:55:03.691Z"
   },
   {
    "duration": 730,
    "start_time": "2021-09-29T12:55:12.085Z"
   },
   {
    "duration": 756,
    "start_time": "2021-09-29T12:57:30.851Z"
   },
   {
    "duration": 843,
    "start_time": "2021-09-29T12:57:41.209Z"
   },
   {
    "duration": 70,
    "start_time": "2021-09-29T12:57:54.185Z"
   },
   {
    "duration": 735,
    "start_time": "2021-09-29T12:58:11.922Z"
   },
   {
    "duration": 42,
    "start_time": "2021-09-29T12:59:24.609Z"
   },
   {
    "duration": 1564,
    "start_time": "2021-09-29T13:02:56.188Z"
   },
   {
    "duration": 38,
    "start_time": "2021-09-29T13:02:57.755Z"
   },
   {
    "duration": 13,
    "start_time": "2021-09-29T13:02:57.796Z"
   },
   {
    "duration": 23,
    "start_time": "2021-09-29T13:02:57.812Z"
   },
   {
    "duration": 40,
    "start_time": "2021-09-29T13:02:57.837Z"
   },
   {
    "duration": 18,
    "start_time": "2021-09-29T13:02:57.879Z"
   },
   {
    "duration": 14,
    "start_time": "2021-09-29T13:02:57.899Z"
   },
   {
    "duration": 28,
    "start_time": "2021-09-29T13:02:57.916Z"
   },
   {
    "duration": 8,
    "start_time": "2021-09-29T13:02:57.946Z"
   },
   {
    "duration": 37,
    "start_time": "2021-09-29T13:02:57.956Z"
   },
   {
    "duration": 14,
    "start_time": "2021-09-29T13:03:00.567Z"
   },
   {
    "duration": 7,
    "start_time": "2021-09-29T13:05:40.767Z"
   },
   {
    "duration": 47,
    "start_time": "2021-09-29T13:05:40.777Z"
   },
   {
    "duration": 13,
    "start_time": "2021-09-29T13:05:40.827Z"
   },
   {
    "duration": 34,
    "start_time": "2021-09-29T13:05:40.842Z"
   },
   {
    "duration": 11,
    "start_time": "2021-09-29T13:05:40.878Z"
   },
   {
    "duration": 7,
    "start_time": "2021-09-29T13:05:40.891Z"
   },
   {
    "duration": 16,
    "start_time": "2021-09-29T13:05:40.901Z"
   },
   {
    "duration": 19,
    "start_time": "2021-09-29T13:05:40.921Z"
   },
   {
    "duration": 5,
    "start_time": "2021-09-29T13:05:40.970Z"
   },
   {
    "duration": 24,
    "start_time": "2021-09-29T13:05:40.978Z"
   },
   {
    "duration": 15,
    "start_time": "2021-09-29T13:05:45.765Z"
   },
   {
    "duration": 11,
    "start_time": "2021-09-29T13:05:47.246Z"
   },
   {
    "duration": 75,
    "start_time": "2021-09-29T13:05:50.931Z"
   },
   {
    "duration": 4,
    "start_time": "2021-09-29T13:05:53.774Z"
   },
   {
    "duration": 30,
    "start_time": "2021-09-29T13:06:29.323Z"
   },
   {
    "duration": 32,
    "start_time": "2021-09-29T13:06:33.292Z"
   },
   {
    "duration": 7,
    "start_time": "2021-09-29T13:06:48.161Z"
   },
   {
    "duration": 80,
    "start_time": "2021-09-29T13:06:48.170Z"
   },
   {
    "duration": 35,
    "start_time": "2021-09-29T13:06:48.254Z"
   },
   {
    "duration": 30,
    "start_time": "2021-09-29T13:06:48.293Z"
   },
   {
    "duration": 28,
    "start_time": "2021-09-29T13:06:48.325Z"
   },
   {
    "duration": 20,
    "start_time": "2021-09-29T13:06:48.356Z"
   },
   {
    "duration": 26,
    "start_time": "2021-09-29T13:06:48.378Z"
   },
   {
    "duration": 19,
    "start_time": "2021-09-29T13:06:48.408Z"
   },
   {
    "duration": 15,
    "start_time": "2021-09-29T13:06:48.430Z"
   },
   {
    "duration": 40,
    "start_time": "2021-09-29T13:06:48.447Z"
   },
   {
    "duration": 13,
    "start_time": "2021-09-29T13:06:48.490Z"
   },
   {
    "duration": 11,
    "start_time": "2021-09-29T13:06:51.145Z"
   },
   {
    "duration": 45,
    "start_time": "2021-09-29T13:06:51.884Z"
   },
   {
    "duration": 5,
    "start_time": "2021-09-29T13:06:54.583Z"
   },
   {
    "duration": 21,
    "start_time": "2021-09-29T13:06:55.302Z"
   },
   {
    "duration": 9,
    "start_time": "2021-09-29T13:07:44.184Z"
   },
   {
    "duration": 5,
    "start_time": "2021-09-29T13:07:53.018Z"
   },
   {
    "duration": 14,
    "start_time": "2021-09-29T13:07:58.797Z"
   },
   {
    "duration": 3,
    "start_time": "2021-09-29T13:08:06.009Z"
   },
   {
    "duration": 578,
    "start_time": "2021-09-29T13:08:14.576Z"
   },
   {
    "duration": 5,
    "start_time": "2021-09-29T13:08:45.344Z"
   },
   {
    "duration": 35727,
    "start_time": "2021-09-29T13:08:48.360Z"
   },
   {
    "duration": 30,
    "start_time": "2021-09-29T13:09:52.132Z"
   },
   {
    "duration": 6,
    "start_time": "2021-09-29T13:10:12.597Z"
   },
   {
    "duration": 460,
    "start_time": "2021-09-29T13:10:14.784Z"
   },
   {
    "duration": 38,
    "start_time": "2021-09-29T13:10:28.063Z"
   },
   {
    "duration": 36,
    "start_time": "2021-09-29T13:10:35.759Z"
   },
   {
    "duration": 36,
    "start_time": "2021-09-29T13:10:45.946Z"
   },
   {
    "duration": 37,
    "start_time": "2021-09-29T13:10:51.970Z"
   },
   {
    "duration": 36,
    "start_time": "2021-09-29T13:10:55.163Z"
   },
   {
    "duration": 33,
    "start_time": "2021-09-29T13:10:58.311Z"
   },
   {
    "duration": 39,
    "start_time": "2021-09-29T13:11:00.862Z"
   },
   {
    "duration": 37,
    "start_time": "2021-09-29T13:11:11.287Z"
   },
   {
    "duration": 35,
    "start_time": "2021-09-29T13:11:14.103Z"
   },
   {
    "duration": 504,
    "start_time": "2021-09-29T13:11:23.532Z"
   },
   {
    "duration": 375,
    "start_time": "2021-09-29T13:11:31.339Z"
   },
   {
    "duration": 6,
    "start_time": "2021-09-29T13:11:45.761Z"
   },
   {
    "duration": 13,
    "start_time": "2021-09-29T13:11:46.547Z"
   },
   {
    "duration": 10,
    "start_time": "2021-09-29T13:11:47.403Z"
   },
   {
    "duration": 52468,
    "start_time": "2021-09-29T13:11:50.125Z"
   },
   {
    "duration": 91,
    "start_time": "2021-09-29T13:13:23.971Z"
   },
   {
    "duration": 8,
    "start_time": "2021-09-29T13:13:27.727Z"
   },
   {
    "duration": 18,
    "start_time": "2021-09-29T13:13:28.346Z"
   },
   {
    "duration": 10,
    "start_time": "2021-09-29T13:13:29.332Z"
   },
   {
    "duration": 20,
    "start_time": "2021-09-29T13:13:32.679Z"
   },
   {
    "duration": 30167,
    "start_time": "2021-09-29T13:13:39.574Z"
   },
   {
    "duration": 58,
    "start_time": "2021-09-29T13:15:08.610Z"
   },
   {
    "duration": 814,
    "start_time": "2021-09-29T13:15:13.640Z"
   },
   {
    "duration": 1198,
    "start_time": "2021-09-29T13:15:27.338Z"
   },
   {
    "duration": 53,
    "start_time": "2021-09-29T13:15:29.045Z"
   },
   {
    "duration": 76,
    "start_time": "2021-09-29T13:15:31.834Z"
   },
   {
    "duration": 501,
    "start_time": "2021-09-29T13:16:07.220Z"
   },
   {
    "duration": 1078,
    "start_time": "2021-09-29T13:16:14.460Z"
   },
   {
    "duration": 545,
    "start_time": "2021-09-29T13:16:18.302Z"
   },
   {
    "duration": 8,
    "start_time": "2021-09-29T13:16:24.407Z"
   },
   {
    "duration": 7,
    "start_time": "2021-09-29T13:16:27.759Z"
   },
   {
    "duration": 4,
    "start_time": "2021-09-29T13:16:29.012Z"
   },
   {
    "duration": 15,
    "start_time": "2021-09-29T13:16:30.016Z"
   },
   {
    "duration": 1373,
    "start_time": "2021-09-29T13:16:33.692Z"
   },
   {
    "duration": 53,
    "start_time": "2021-09-29T13:16:41.451Z"
   },
   {
    "duration": 277,
    "start_time": "2021-09-29T13:16:49.540Z"
   },
   {
    "duration": 1724,
    "start_time": "2021-09-29T13:17:24.976Z"
   },
   {
    "duration": 33,
    "start_time": "2021-09-29T13:17:28.779Z"
   },
   {
    "duration": 12,
    "start_time": "2021-09-29T13:17:29.746Z"
   },
   {
    "duration": 29,
    "start_time": "2021-09-29T13:17:33.150Z"
   },
   {
    "duration": 11,
    "start_time": "2021-09-29T13:17:48.135Z"
   },
   {
    "duration": 4,
    "start_time": "2021-09-29T13:17:49.287Z"
   },
   {
    "duration": 5,
    "start_time": "2021-09-29T13:17:53.993Z"
   },
   {
    "duration": 6,
    "start_time": "2021-09-29T13:17:56.319Z"
   },
   {
    "duration": 14,
    "start_time": "2021-09-29T13:18:00.123Z"
   },
   {
    "duration": 5,
    "start_time": "2021-09-29T13:18:01.116Z"
   },
   {
    "duration": 19,
    "start_time": "2021-09-29T13:18:08.255Z"
   },
   {
    "duration": 6,
    "start_time": "2021-09-29T13:18:22.262Z"
   },
   {
    "duration": 15,
    "start_time": "2021-09-29T13:18:23.032Z"
   },
   {
    "duration": 5,
    "start_time": "2021-09-29T13:18:24.342Z"
   },
   {
    "duration": 27,
    "start_time": "2021-09-29T13:18:27.023Z"
   },
   {
    "duration": 14,
    "start_time": "2021-09-29T13:18:44.881Z"
   },
   {
    "duration": 10,
    "start_time": "2021-09-29T13:18:57.846Z"
   },
   {
    "duration": 74,
    "start_time": "2021-09-29T13:19:12.010Z"
   },
   {
    "duration": 5,
    "start_time": "2021-09-29T13:19:31.872Z"
   },
   {
    "duration": 17,
    "start_time": "2021-09-29T13:19:41.840Z"
   },
   {
    "duration": 33209,
    "start_time": "2021-09-29T13:21:11.343Z"
   },
   {
    "duration": 1924,
    "start_time": "2021-09-29T13:23:51.046Z"
   },
   {
    "duration": 2305,
    "start_time": "2021-09-29T13:24:37.357Z"
   },
   {
    "duration": 2124,
    "start_time": "2021-09-29T13:25:10.479Z"
   },
   {
    "duration": 5,
    "start_time": "2021-09-29T13:25:16.972Z"
   },
   {
    "duration": 2264,
    "start_time": "2021-09-29T13:25:56.902Z"
   },
   {
    "duration": 5,
    "start_time": "2021-09-29T13:26:02.907Z"
   },
   {
    "duration": 114,
    "start_time": "2021-09-29T13:26:43.459Z"
   },
   {
    "duration": 34456,
    "start_time": "2021-09-29T13:30:21.753Z"
   },
   {
    "duration": 33157,
    "start_time": "2021-09-29T13:31:25.977Z"
   },
   {
    "duration": 52,
    "start_time": "2021-09-29T13:32:31.815Z"
   },
   {
    "duration": 88,
    "start_time": "2021-09-29T13:33:27.976Z"
   },
   {
    "duration": 6,
    "start_time": "2021-09-29T13:33:52.366Z"
   },
   {
    "duration": 6,
    "start_time": "2021-09-29T13:34:06.618Z"
   },
   {
    "duration": 38,
    "start_time": "2021-09-29T13:34:44.999Z"
   },
   {
    "duration": 393,
    "start_time": "2021-09-29T13:34:54.906Z"
   },
   {
    "duration": 5,
    "start_time": "2021-09-29T13:35:19.106Z"
   },
   {
    "duration": 408,
    "start_time": "2021-09-29T13:35:26.113Z"
   },
   {
    "duration": 35716,
    "start_time": "2021-09-29T13:35:39.115Z"
   },
   {
    "duration": 6,
    "start_time": "2021-09-29T13:36:18.451Z"
   },
   {
    "duration": 406,
    "start_time": "2021-09-29T13:36:18.789Z"
   },
   {
    "duration": 467,
    "start_time": "2021-09-29T13:36:45.670Z"
   },
   {
    "duration": 371,
    "start_time": "2021-09-29T13:36:47.128Z"
   },
   {
    "duration": 6,
    "start_time": "2021-09-29T13:37:36.032Z"
   },
   {
    "duration": 1145,
    "start_time": "2021-09-29T13:37:38.658Z"
   },
   {
    "duration": 7,
    "start_time": "2021-09-29T13:37:57.622Z"
   },
   {
    "duration": 984,
    "start_time": "2021-09-29T13:37:59.033Z"
   },
   {
    "duration": 6,
    "start_time": "2021-09-29T13:38:18.654Z"
   },
   {
    "duration": 1009,
    "start_time": "2021-09-29T13:38:19.892Z"
   },
   {
    "duration": 7,
    "start_time": "2021-09-29T13:38:40.303Z"
   },
   {
    "duration": 925,
    "start_time": "2021-09-29T13:38:40.669Z"
   },
   {
    "duration": 9,
    "start_time": "2021-09-29T13:39:06.777Z"
   },
   {
    "duration": 958,
    "start_time": "2021-09-29T13:39:08.071Z"
   },
   {
    "duration": 7,
    "start_time": "2021-09-29T13:39:22.307Z"
   },
   {
    "duration": 1035,
    "start_time": "2021-09-29T13:39:22.615Z"
   },
   {
    "duration": 7,
    "start_time": "2021-09-29T13:39:33.071Z"
   },
   {
    "duration": 994,
    "start_time": "2021-09-29T13:39:33.582Z"
   },
   {
    "duration": 7,
    "start_time": "2021-09-29T13:39:42.875Z"
   },
   {
    "duration": 940,
    "start_time": "2021-09-29T13:39:43.600Z"
   },
   {
    "duration": 8,
    "start_time": "2021-09-29T13:40:37.348Z"
   },
   {
    "duration": 1003,
    "start_time": "2021-09-29T13:40:37.704Z"
   },
   {
    "duration": 7,
    "start_time": "2021-09-29T13:40:55.883Z"
   },
   {
    "duration": 869,
    "start_time": "2021-09-29T13:40:56.678Z"
   },
   {
    "duration": 7,
    "start_time": "2021-09-29T13:42:35.579Z"
   },
   {
    "duration": 391,
    "start_time": "2021-09-29T13:42:35.827Z"
   },
   {
    "duration": 886,
    "start_time": "2021-09-29T13:43:38.938Z"
   },
   {
    "duration": 822,
    "start_time": "2021-09-29T13:44:47.570Z"
   },
   {
    "duration": 370,
    "start_time": "2021-09-29T13:45:12.152Z"
   },
   {
    "duration": 1090,
    "start_time": "2021-09-29T13:45:41.691Z"
   },
   {
    "duration": 799,
    "start_time": "2021-09-29T13:45:51.804Z"
   },
   {
    "duration": 7,
    "start_time": "2021-09-29T13:47:11.319Z"
   },
   {
    "duration": 1351,
    "start_time": "2021-09-29T13:47:11.788Z"
   },
   {
    "duration": 7,
    "start_time": "2021-09-29T13:47:19.011Z"
   },
   {
    "duration": 872,
    "start_time": "2021-09-29T13:47:19.252Z"
   },
   {
    "duration": 7,
    "start_time": "2021-09-29T13:47:35.270Z"
   },
   {
    "duration": 831,
    "start_time": "2021-09-29T13:47:36.290Z"
   },
   {
    "duration": 6,
    "start_time": "2021-09-29T13:48:19.758Z"
   },
   {
    "duration": 964,
    "start_time": "2021-09-29T13:48:20.355Z"
   },
   {
    "duration": 865,
    "start_time": "2021-09-29T13:48:28.569Z"
   },
   {
    "duration": 6,
    "start_time": "2021-09-29T13:48:37.998Z"
   },
   {
    "duration": 18,
    "start_time": "2021-09-29T13:48:39.080Z"
   },
   {
    "duration": 8,
    "start_time": "2021-09-29T13:48:39.724Z"
   },
   {
    "duration": 10,
    "start_time": "2021-09-29T13:49:21.383Z"
   },
   {
    "duration": 13,
    "start_time": "2021-09-29T13:49:25.276Z"
   },
   {
    "duration": 17,
    "start_time": "2021-09-29T13:49:46.858Z"
   },
   {
    "duration": 8,
    "start_time": "2021-09-29T13:49:51.401Z"
   },
   {
    "duration": 47330,
    "start_time": "2021-09-29T13:51:23.542Z"
   },
   {
    "duration": 191,
    "start_time": "2021-09-29T13:53:11.775Z"
   },
   {
    "duration": 6,
    "start_time": "2021-09-29T13:53:27.657Z"
   },
   {
    "duration": 1214,
    "start_time": "2021-09-30T09:44:30.142Z"
   },
   {
    "duration": 35,
    "start_time": "2021-09-30T09:44:34.801Z"
   },
   {
    "duration": 27,
    "start_time": "2021-09-30T09:44:44.959Z"
   },
   {
    "duration": 7,
    "start_time": "2021-09-30T09:44:48.153Z"
   },
   {
    "duration": 4,
    "start_time": "2021-09-30T09:44:51.556Z"
   },
   {
    "duration": 4,
    "start_time": "2021-09-30T09:44:53.678Z"
   },
   {
    "duration": 14,
    "start_time": "2021-09-30T09:44:57.318Z"
   },
   {
    "duration": 3,
    "start_time": "2021-09-30T09:44:58.348Z"
   },
   {
    "duration": 17,
    "start_time": "2021-09-30T09:44:59.213Z"
   },
   {
    "duration": 9,
    "start_time": "2021-09-30T09:47:04.565Z"
   },
   {
    "duration": 8,
    "start_time": "2021-09-30T09:47:09.702Z"
   },
   {
    "duration": 48,
    "start_time": "2021-09-30T09:47:09.781Z"
   },
   {
    "duration": 5,
    "start_time": "2021-09-30T09:47:16.677Z"
   },
   {
    "duration": 12,
    "start_time": "2021-09-30T09:47:20.810Z"
   },
   {
    "duration": 24517,
    "start_time": "2021-09-30T09:47:39.850Z"
   },
   {
    "duration": 26,
    "start_time": "2021-09-30T09:48:43.331Z"
   },
   {
    "duration": 7,
    "start_time": "2021-09-30T09:49:28.374Z"
   },
   {
    "duration": 8,
    "start_time": "2021-09-30T09:49:29.087Z"
   },
   {
    "duration": 1137,
    "start_time": "2021-09-30T09:49:36.711Z"
   },
   {
    "duration": 4,
    "start_time": "2021-09-30T09:50:33.156Z"
   },
   {
    "duration": 281,
    "start_time": "2021-09-30T09:50:39.399Z"
   },
   {
    "duration": 602,
    "start_time": "2021-09-30T09:51:31.733Z"
   },
   {
    "duration": 4,
    "start_time": "2021-09-30T09:52:10.519Z"
   },
   {
    "duration": 12,
    "start_time": "2021-09-30T09:52:14.561Z"
   },
   {
    "duration": 11,
    "start_time": "2021-09-30T09:52:45.119Z"
   },
   {
    "duration": 5,
    "start_time": "2021-09-30T09:52:55.599Z"
   },
   {
    "duration": 7,
    "start_time": "2021-09-30T09:53:15.585Z"
   },
   {
    "duration": 31142,
    "start_time": "2021-09-30T09:53:46.434Z"
   },
   {
    "duration": 95,
    "start_time": "2021-09-30T09:57:08.391Z"
   },
   {
    "duration": 4,
    "start_time": "2021-09-30T09:57:51.056Z"
   },
   {
    "duration": 9,
    "start_time": "2021-09-30T09:57:56.063Z"
   },
   {
    "duration": 6,
    "start_time": "2021-09-30T09:57:57.093Z"
   },
   {
    "duration": 12,
    "start_time": "2021-09-30T09:59:06.106Z"
   },
   {
    "duration": 7,
    "start_time": "2021-09-30T09:59:07.789Z"
   },
   {
    "duration": 14,
    "start_time": "2021-09-30T09:59:20.825Z"
   },
   {
    "duration": 12,
    "start_time": "2021-09-30T09:59:41.290Z"
   },
   {
    "duration": 7,
    "start_time": "2021-09-30T09:59:43.249Z"
   },
   {
    "duration": 17,
    "start_time": "2021-09-30T10:00:08.313Z"
   },
   {
    "duration": 21,
    "start_time": "2021-09-30T10:00:32.926Z"
   },
   {
    "duration": 13141,
    "start_time": "2021-09-30T10:01:04.755Z"
   },
   {
    "duration": 21,
    "start_time": "2021-09-30T10:02:48.039Z"
   },
   {
    "duration": 177,
    "start_time": "2021-09-30T10:06:16.912Z"
   },
   {
    "duration": 166,
    "start_time": "2021-09-30T10:06:36.655Z"
   },
   {
    "duration": 158,
    "start_time": "2021-09-30T10:08:02.217Z"
   },
   {
    "duration": 271,
    "start_time": "2021-09-30T10:08:56.248Z"
   },
   {
    "duration": 6,
    "start_time": "2021-09-30T10:09:14.731Z"
   },
   {
    "duration": 30591,
    "start_time": "2021-09-30T10:10:59.426Z"
   },
   {
    "duration": 5,
    "start_time": "2021-09-30T10:14:01.241Z"
   },
   {
    "duration": 4,
    "start_time": "2021-09-30T10:14:03.575Z"
   },
   {
    "duration": 7,
    "start_time": "2021-09-30T10:31:15.810Z"
   },
   {
    "duration": 7,
    "start_time": "2021-09-30T10:31:33.789Z"
   },
   {
    "duration": 6,
    "start_time": "2021-09-30T10:31:38.071Z"
   },
   {
    "duration": 7,
    "start_time": "2021-09-30T10:32:09.585Z"
   },
   {
    "duration": 16,
    "start_time": "2021-09-30T10:32:12.112Z"
   },
   {
    "duration": 6,
    "start_time": "2021-09-30T10:32:12.867Z"
   },
   {
    "duration": 4,
    "start_time": "2021-09-30T10:33:00.708Z"
   },
   {
    "duration": 6,
    "start_time": "2021-09-30T10:33:26.596Z"
   },
   {
    "duration": 4,
    "start_time": "2021-09-30T10:33:37.621Z"
   },
   {
    "duration": 901,
    "start_time": "2021-09-30T10:34:01.776Z"
   },
   {
    "duration": 198,
    "start_time": "2021-09-30T10:34:46.185Z"
   },
   {
    "duration": 167,
    "start_time": "2021-09-30T10:34:52.376Z"
   },
   {
    "duration": 13,
    "start_time": "2021-09-30T10:37:03.170Z"
   },
   {
    "duration": 363,
    "start_time": "2021-09-30T10:37:52.162Z"
   },
   {
    "duration": 12,
    "start_time": "2021-09-30T10:38:04.116Z"
   },
   {
    "duration": 14,
    "start_time": "2021-09-30T10:38:26.489Z"
   },
   {
    "duration": 388,
    "start_time": "2021-09-30T10:40:35.254Z"
   },
   {
    "duration": 366,
    "start_time": "2021-09-30T10:40:41.660Z"
   },
   {
    "duration": 31,
    "start_time": "2021-09-30T10:40:57.820Z"
   },
   {
    "duration": 400,
    "start_time": "2021-09-30T10:41:18.315Z"
   },
   {
    "duration": 15,
    "start_time": "2021-09-30T10:41:23.804Z"
   },
   {
    "duration": 15,
    "start_time": "2021-09-30T10:41:26.234Z"
   },
   {
    "duration": 264,
    "start_time": "2021-09-30T10:41:40.483Z"
   },
   {
    "duration": 257,
    "start_time": "2021-09-30T10:41:56.603Z"
   },
   {
    "duration": 15,
    "start_time": "2021-09-30T10:41:58.831Z"
   },
   {
    "duration": 300,
    "start_time": "2021-09-30T10:45:39.819Z"
   },
   {
    "duration": 46579,
    "start_time": "2021-09-30T10:45:43.404Z"
   },
   {
    "duration": 14,
    "start_time": "2021-09-30T10:47:35.409Z"
   },
   {
    "duration": 6,
    "start_time": "2021-09-30T10:47:35.940Z"
   },
   {
    "duration": 30275,
    "start_time": "2021-09-30T10:47:36.594Z"
   },
   {
    "duration": 270,
    "start_time": "2021-09-30T10:48:13.210Z"
   },
   {
    "duration": 12992,
    "start_time": "2021-09-30T10:49:16.463Z"
   },
   {
    "duration": 307,
    "start_time": "2021-09-30T10:49:33.453Z"
   },
   {
    "duration": 5,
    "start_time": "2021-09-30T10:52:08.591Z"
   },
   {
    "duration": 12,
    "start_time": "2021-09-30T10:52:08.997Z"
   },
   {
    "duration": 4,
    "start_time": "2021-09-30T10:52:09.432Z"
   },
   {
    "duration": 7,
    "start_time": "2021-09-30T10:52:09.948Z"
   },
   {
    "duration": 959,
    "start_time": "2021-09-30T10:52:10.530Z"
   },
   {
    "duration": 46,
    "start_time": "2021-09-30T10:52:14.321Z"
   },
   {
    "duration": 46,
    "start_time": "2021-09-30T10:52:16.288Z"
   },
   {
    "duration": 279,
    "start_time": "2021-09-30T10:52:19.497Z"
   },
   {
    "duration": 329,
    "start_time": "2021-09-30T10:52:39.165Z"
   },
   {
    "duration": 333,
    "start_time": "2021-09-30T10:52:49.338Z"
   },
   {
    "duration": 1242,
    "start_time": "2021-09-30T10:53:04.246Z"
   },
   {
    "duration": 34,
    "start_time": "2021-09-30T10:53:05.491Z"
   },
   {
    "duration": 15,
    "start_time": "2021-09-30T10:53:05.527Z"
   },
   {
    "duration": 9,
    "start_time": "2021-09-30T10:53:05.544Z"
   },
   {
    "duration": 5,
    "start_time": "2021-09-30T10:53:05.554Z"
   },
   {
    "duration": 27,
    "start_time": "2021-09-30T10:53:05.561Z"
   },
   {
    "duration": 23,
    "start_time": "2021-09-30T10:53:05.590Z"
   },
   {
    "duration": 3,
    "start_time": "2021-09-30T10:53:05.615Z"
   },
   {
    "duration": 20,
    "start_time": "2021-09-30T10:53:05.621Z"
   },
   {
    "duration": 14,
    "start_time": "2021-09-30T10:53:05.642Z"
   },
   {
    "duration": 8,
    "start_time": "2021-09-30T10:53:05.657Z"
   },
   {
    "duration": 61,
    "start_time": "2021-09-30T10:53:05.666Z"
   },
   {
    "duration": 3,
    "start_time": "2021-09-30T10:53:05.728Z"
   },
   {
    "duration": 10,
    "start_time": "2021-09-30T10:53:05.733Z"
   },
   {
    "duration": 23103,
    "start_time": "2021-09-30T10:53:05.744Z"
   },
   {
    "duration": 139,
    "start_time": "2021-09-30T10:53:28.848Z"
   },
   {
    "duration": 87,
    "start_time": "2021-09-30T10:53:28.989Z"
   },
   {
    "duration": 8,
    "start_time": "2021-09-30T10:53:29.083Z"
   },
   {
    "duration": 271,
    "start_time": "2021-09-30T10:53:29.093Z"
   },
   {
    "duration": 572,
    "start_time": "2021-09-30T10:53:29.377Z"
   },
   {
    "duration": 5,
    "start_time": "2021-09-30T10:53:29.951Z"
   },
   {
    "duration": 33,
    "start_time": "2021-09-30T10:53:29.957Z"
   },
   {
    "duration": 7,
    "start_time": "2021-09-30T10:53:29.993Z"
   },
   {
    "duration": 33102,
    "start_time": "2021-09-30T10:53:30.002Z"
   },
   {
    "duration": 86,
    "start_time": "2021-09-30T10:54:03.105Z"
   },
   {
    "duration": 425,
    "start_time": "2021-09-30T10:54:03.195Z"
   },
   {
    "duration": 5,
    "start_time": "2021-09-30T10:54:03.622Z"
   },
   {
    "duration": 18,
    "start_time": "2021-09-30T10:54:03.629Z"
   },
   {
    "duration": 12,
    "start_time": "2021-09-30T10:54:03.649Z"
   },
   {
    "duration": 13711,
    "start_time": "2021-09-30T10:54:03.681Z"
   },
   {
    "duration": 182,
    "start_time": "2021-09-30T10:54:17.395Z"
   },
   {
    "duration": 388,
    "start_time": "2021-09-30T10:54:17.579Z"
   },
   {
    "duration": 177,
    "start_time": "2021-09-30T10:54:17.976Z"
   },
   {
    "duration": 302,
    "start_time": "2021-09-30T10:54:18.155Z"
   },
   {
    "duration": 25,
    "start_time": "2021-09-30T10:54:18.459Z"
   },
   {
    "duration": 14,
    "start_time": "2021-09-30T10:54:18.486Z"
   },
   {
    "duration": 3,
    "start_time": "2021-09-30T10:54:18.502Z"
   },
   {
    "duration": 8,
    "start_time": "2021-09-30T10:54:18.507Z"
   },
   {
    "duration": 184,
    "start_time": "2021-09-30T10:54:18.516Z"
   },
   {
    "duration": 16,
    "start_time": "2021-09-30T10:54:18.702Z"
   },
   {
    "duration": 17,
    "start_time": "2021-09-30T10:54:18.719Z"
   },
   {
    "duration": 310,
    "start_time": "2021-09-30T10:54:18.738Z"
   },
   {
    "duration": 312,
    "start_time": "2021-09-30T10:54:19.049Z"
   },
   {
    "duration": 12,
    "start_time": "2021-09-30T10:56:09.135Z"
   },
   {
    "duration": 16,
    "start_time": "2021-09-30T10:56:13.071Z"
   },
   {
    "duration": 555,
    "start_time": "2021-09-30T10:59:11.560Z"
   },
   {
    "duration": 4,
    "start_time": "2021-09-30T10:59:24.925Z"
   },
   {
    "duration": 52,
    "start_time": "2021-09-30T10:59:24.931Z"
   },
   {
    "duration": 13,
    "start_time": "2021-09-30T10:59:24.986Z"
   },
   {
    "duration": 29,
    "start_time": "2021-09-30T10:59:25.001Z"
   },
   {
    "duration": 13,
    "start_time": "2021-09-30T10:59:25.032Z"
   },
   {
    "duration": 20,
    "start_time": "2021-09-30T10:59:25.047Z"
   },
   {
    "duration": 21,
    "start_time": "2021-09-30T10:59:25.069Z"
   },
   {
    "duration": 12,
    "start_time": "2021-09-30T10:59:27.462Z"
   },
   {
    "duration": 4,
    "start_time": "2021-09-30T10:59:29.011Z"
   },
   {
    "duration": 17,
    "start_time": "2021-09-30T10:59:29.911Z"
   },
   {
    "duration": 416,
    "start_time": "2021-09-30T10:59:57.069Z"
   },
   {
    "duration": 4,
    "start_time": "2021-09-30T10:59:57.491Z"
   },
   {
    "duration": 5,
    "start_time": "2021-09-30T11:00:02.645Z"
   },
   {
    "duration": 49,
    "start_time": "2021-09-30T11:00:02.652Z"
   },
   {
    "duration": 13,
    "start_time": "2021-09-30T11:00:02.703Z"
   },
   {
    "duration": 24,
    "start_time": "2021-09-30T11:00:02.718Z"
   },
   {
    "duration": 9,
    "start_time": "2021-09-30T11:00:02.744Z"
   },
   {
    "duration": 14,
    "start_time": "2021-09-30T11:00:02.755Z"
   },
   {
    "duration": 11,
    "start_time": "2021-09-30T11:00:02.780Z"
   },
   {
    "duration": 11,
    "start_time": "2021-09-30T11:00:04.759Z"
   },
   {
    "duration": 5,
    "start_time": "2021-09-30T11:00:05.381Z"
   },
   {
    "duration": 19,
    "start_time": "2021-09-30T11:00:05.884Z"
   },
   {
    "duration": 1339,
    "start_time": "2021-09-30T11:00:52.737Z"
   },
   {
    "duration": 38,
    "start_time": "2021-09-30T11:00:54.079Z"
   },
   {
    "duration": 16,
    "start_time": "2021-09-30T11:00:54.119Z"
   },
   {
    "duration": 11,
    "start_time": "2021-09-30T11:00:54.138Z"
   },
   {
    "duration": 7,
    "start_time": "2021-09-30T11:00:54.151Z"
   },
   {
    "duration": 23,
    "start_time": "2021-09-30T11:00:54.160Z"
   },
   {
    "duration": 10,
    "start_time": "2021-09-30T11:00:54.185Z"
   },
   {
    "duration": 14,
    "start_time": "2021-09-30T11:00:54.197Z"
   },
   {
    "duration": 4,
    "start_time": "2021-09-30T11:00:54.214Z"
   },
   {
    "duration": 20,
    "start_time": "2021-09-30T11:00:54.220Z"
   },
   {
    "duration": 38,
    "start_time": "2021-09-30T11:00:54.242Z"
   },
   {
    "duration": 10,
    "start_time": "2021-09-30T11:00:54.282Z"
   },
   {
    "duration": 66,
    "start_time": "2021-09-30T11:00:54.294Z"
   },
   {
    "duration": 4,
    "start_time": "2021-09-30T11:00:54.362Z"
   },
   {
    "duration": 20,
    "start_time": "2021-09-30T11:00:54.368Z"
   },
   {
    "duration": 24310,
    "start_time": "2021-09-30T11:00:54.393Z"
   },
   {
    "duration": 75,
    "start_time": "2021-09-30T11:01:18.705Z"
   },
   {
    "duration": 95,
    "start_time": "2021-09-30T11:01:18.783Z"
   },
   {
    "duration": 6,
    "start_time": "2021-09-30T11:01:18.880Z"
   },
   {
    "duration": 291,
    "start_time": "2021-09-30T11:01:18.887Z"
   },
   {
    "duration": 570,
    "start_time": "2021-09-30T11:01:19.180Z"
   },
   {
    "duration": 4,
    "start_time": "2021-09-30T11:01:19.751Z"
   },
   {
    "duration": 74,
    "start_time": "2021-09-30T11:01:19.757Z"
   },
   {
    "duration": 53,
    "start_time": "2021-09-30T11:01:19.832Z"
   },
   {
    "duration": 30936,
    "start_time": "2021-09-30T11:01:19.886Z"
   },
   {
    "duration": 62,
    "start_time": "2021-09-30T11:01:50.824Z"
   },
   {
    "duration": 534,
    "start_time": "2021-09-30T11:01:50.891Z"
   },
   {
    "duration": 4,
    "start_time": "2021-09-30T11:01:51.428Z"
   },
   {
    "duration": 14,
    "start_time": "2021-09-30T11:01:51.434Z"
   },
   {
    "duration": 5,
    "start_time": "2021-09-30T11:01:51.449Z"
   },
   {
    "duration": 12786,
    "start_time": "2021-09-30T11:01:51.456Z"
   },
   {
    "duration": 42,
    "start_time": "2021-09-30T11:02:04.244Z"
   },
   {
    "duration": 363,
    "start_time": "2021-09-30T11:02:04.378Z"
   },
   {
    "duration": 177,
    "start_time": "2021-09-30T11:02:04.743Z"
   },
   {
    "duration": 283,
    "start_time": "2021-09-30T11:02:04.922Z"
   },
   {
    "duration": 5,
    "start_time": "2021-09-30T11:02:05.207Z"
   },
   {
    "duration": 17,
    "start_time": "2021-09-30T11:02:05.214Z"
   },
   {
    "duration": 4,
    "start_time": "2021-09-30T11:02:05.233Z"
   },
   {
    "duration": 12,
    "start_time": "2021-09-30T11:02:05.239Z"
   },
   {
    "duration": 189,
    "start_time": "2021-09-30T11:02:05.253Z"
   },
   {
    "duration": 15,
    "start_time": "2021-09-30T11:02:05.444Z"
   },
   {
    "duration": 28,
    "start_time": "2021-09-30T11:02:05.460Z"
   },
   {
    "duration": 286,
    "start_time": "2021-09-30T11:02:05.490Z"
   },
   {
    "duration": 304,
    "start_time": "2021-09-30T11:02:05.778Z"
   },
   {
    "duration": 117,
    "start_time": "2021-09-30T11:04:46.099Z"
   },
   {
    "duration": 298,
    "start_time": "2021-09-30T12:04:34.616Z"
   },
   {
    "duration": 13,
    "start_time": "2021-09-30T12:05:00.446Z"
   },
   {
    "duration": 168,
    "start_time": "2021-09-30T12:05:13.523Z"
   },
   {
    "duration": 279,
    "start_time": "2021-09-30T12:05:19.053Z"
   },
   {
    "duration": 324,
    "start_time": "2021-09-30T12:05:22.127Z"
   },
   {
    "duration": 13,
    "start_time": "2021-09-30T12:10:57.486Z"
   },
   {
    "duration": 4,
    "start_time": "2021-09-30T12:10:58.090Z"
   },
   {
    "duration": 8,
    "start_time": "2021-09-30T12:10:59.572Z"
   },
   {
    "duration": 5,
    "start_time": "2021-09-30T12:18:11.402Z"
   },
   {
    "duration": 484,
    "start_time": "2021-09-30T12:18:26.889Z"
   },
   {
    "duration": 952,
    "start_time": "2021-09-30T12:18:42.152Z"
   },
   {
    "duration": 5,
    "start_time": "2021-09-30T12:19:37.228Z"
   },
   {
    "duration": 337,
    "start_time": "2021-09-30T12:19:43.539Z"
   },
   {
    "duration": 15,
    "start_time": "2021-09-30T12:19:56.069Z"
   },
   {
    "duration": 195,
    "start_time": "2021-09-30T12:20:08.110Z"
   },
   {
    "duration": 345,
    "start_time": "2021-09-30T12:20:10.112Z"
   },
   {
    "duration": 4,
    "start_time": "2021-09-30T12:20:12.933Z"
   },
   {
    "duration": 13,
    "start_time": "2021-09-30T12:20:14.234Z"
   },
   {
    "duration": 4,
    "start_time": "2021-09-30T12:20:14.996Z"
   },
   {
    "duration": 6,
    "start_time": "2021-09-30T12:20:15.933Z"
   },
   {
    "duration": 160,
    "start_time": "2021-09-30T12:20:21.592Z"
   },
   {
    "duration": 15,
    "start_time": "2021-09-30T12:20:23.891Z"
   },
   {
    "duration": 263,
    "start_time": "2021-09-30T12:20:24.951Z"
   },
   {
    "duration": 310,
    "start_time": "2021-09-30T12:20:26.120Z"
   },
   {
    "duration": 5,
    "start_time": "2021-09-30T12:22:29.370Z"
   },
   {
    "duration": 311,
    "start_time": "2021-09-30T12:22:34.942Z"
   },
   {
    "duration": 288,
    "start_time": "2021-09-30T12:22:52.866Z"
   },
   {
    "duration": 274,
    "start_time": "2021-09-30T12:23:00.207Z"
   },
   {
    "duration": 272,
    "start_time": "2021-09-30T12:23:05.086Z"
   },
   {
    "duration": 322,
    "start_time": "2021-09-30T12:23:10.129Z"
   },
   {
    "duration": 1265,
    "start_time": "2021-09-30T12:26:13.911Z"
   },
   {
    "duration": 36,
    "start_time": "2021-09-30T12:26:15.179Z"
   },
   {
    "duration": 16,
    "start_time": "2021-09-30T12:26:15.217Z"
   },
   {
    "duration": 18,
    "start_time": "2021-09-30T12:26:15.235Z"
   },
   {
    "duration": 9,
    "start_time": "2021-09-30T12:26:15.255Z"
   },
   {
    "duration": 4,
    "start_time": "2021-09-30T12:26:15.276Z"
   },
   {
    "duration": 9,
    "start_time": "2021-09-30T12:26:15.282Z"
   },
   {
    "duration": 49,
    "start_time": "2021-09-30T12:26:15.294Z"
   },
   {
    "duration": 59,
    "start_time": "2021-09-30T12:26:15.346Z"
   },
   {
    "duration": 24,
    "start_time": "2021-09-30T12:26:15.407Z"
   },
   {
    "duration": 29,
    "start_time": "2021-09-30T12:26:15.433Z"
   },
   {
    "duration": 8,
    "start_time": "2021-09-30T12:26:15.464Z"
   },
   {
    "duration": 57,
    "start_time": "2021-09-30T12:26:15.474Z"
   },
   {
    "duration": 3,
    "start_time": "2021-09-30T12:26:15.533Z"
   },
   {
    "duration": 19,
    "start_time": "2021-09-30T12:26:15.538Z"
   },
   {
    "duration": 22287,
    "start_time": "2021-09-30T12:26:15.559Z"
   },
   {
    "duration": 36,
    "start_time": "2021-09-30T12:26:37.848Z"
   },
   {
    "duration": 93,
    "start_time": "2021-09-30T12:26:37.886Z"
   },
   {
    "duration": 102,
    "start_time": "2021-09-30T12:26:37.981Z"
   },
   {
    "duration": 336,
    "start_time": "2021-09-30T12:26:38.085Z"
   },
   {
    "duration": 326,
    "start_time": "2021-09-30T12:26:38.422Z"
   },
   {
    "duration": 307,
    "start_time": "2021-09-30T12:26:38.750Z"
   },
   {
    "duration": 17,
    "start_time": "2021-09-30T12:26:39.061Z"
   },
   {
    "duration": 35,
    "start_time": "2021-09-30T12:26:39.081Z"
   },
   {
    "duration": 8,
    "start_time": "2021-09-30T12:26:39.119Z"
   },
   {
    "duration": 31905,
    "start_time": "2021-09-30T12:26:39.129Z"
   },
   {
    "duration": 57,
    "start_time": "2021-09-30T12:27:11.036Z"
   },
   {
    "duration": 474,
    "start_time": "2021-09-30T12:27:11.182Z"
   },
   {
    "duration": 4,
    "start_time": "2021-09-30T12:27:11.658Z"
   },
   {
    "duration": 11,
    "start_time": "2021-09-30T12:27:11.676Z"
   },
   {
    "duration": 24,
    "start_time": "2021-09-30T12:27:11.689Z"
   },
   {
    "duration": 12939,
    "start_time": "2021-09-30T12:27:11.715Z"
   },
   {
    "duration": 30,
    "start_time": "2021-09-30T12:27:24.656Z"
   },
   {
    "duration": 375,
    "start_time": "2021-09-30T12:27:24.778Z"
   },
   {
    "duration": 176,
    "start_time": "2021-09-30T12:27:25.155Z"
   },
   {
    "duration": 276,
    "start_time": "2021-09-30T12:27:25.333Z"
   },
   {
    "duration": 4,
    "start_time": "2021-09-30T12:27:25.611Z"
   },
   {
    "duration": 14,
    "start_time": "2021-09-30T12:27:25.617Z"
   },
   {
    "duration": 3,
    "start_time": "2021-09-30T12:27:25.633Z"
   },
   {
    "duration": 8,
    "start_time": "2021-09-30T12:27:25.638Z"
   },
   {
    "duration": 190,
    "start_time": "2021-09-30T12:27:25.647Z"
   },
   {
    "duration": 290,
    "start_time": "2021-09-30T12:27:25.838Z"
   },
   {
    "duration": 320,
    "start_time": "2021-09-30T12:27:26.130Z"
   },
   {
    "duration": 19,
    "start_time": "2021-09-30T12:28:59.831Z"
   },
   {
    "duration": 16,
    "start_time": "2021-09-30T12:29:08.973Z"
   },
   {
    "duration": 26,
    "start_time": "2021-09-30T12:31:55.953Z"
   },
   {
    "duration": 31,
    "start_time": "2021-09-30T12:32:21.157Z"
   },
   {
    "duration": 25,
    "start_time": "2021-09-30T12:32:25.115Z"
   },
   {
    "duration": 26,
    "start_time": "2021-09-30T12:34:48.548Z"
   },
   {
    "duration": 305,
    "start_time": "2021-09-30T12:34:51.146Z"
   },
   {
    "duration": 14,
    "start_time": "2021-09-30T12:35:48.196Z"
   },
   {
    "duration": 14,
    "start_time": "2021-09-30T12:35:59.655Z"
   },
   {
    "duration": 13,
    "start_time": "2021-09-30T12:36:19.579Z"
   },
   {
    "duration": 303,
    "start_time": "2021-09-30T12:36:29.342Z"
   },
   {
    "duration": 5,
    "start_time": "2021-09-30T12:45:43.410Z"
   },
   {
    "duration": 332,
    "start_time": "2021-09-30T12:45:43.797Z"
   },
   {
    "duration": 1179,
    "start_time": "2021-09-30T12:45:53.712Z"
   },
   {
    "duration": 35,
    "start_time": "2021-09-30T12:45:54.894Z"
   },
   {
    "duration": 16,
    "start_time": "2021-09-30T12:45:54.931Z"
   },
   {
    "duration": 11,
    "start_time": "2021-09-30T12:45:54.949Z"
   },
   {
    "duration": 20,
    "start_time": "2021-09-30T12:45:54.961Z"
   },
   {
    "duration": 7,
    "start_time": "2021-09-30T12:45:54.983Z"
   },
   {
    "duration": 7,
    "start_time": "2021-09-30T12:45:54.991Z"
   },
   {
    "duration": 15,
    "start_time": "2021-09-30T12:45:55.000Z"
   },
   {
    "duration": 3,
    "start_time": "2021-09-30T12:45:55.018Z"
   },
   {
    "duration": 17,
    "start_time": "2021-09-30T12:45:55.023Z"
   },
   {
    "duration": 35,
    "start_time": "2021-09-30T12:45:55.042Z"
   },
   {
    "duration": 8,
    "start_time": "2021-09-30T12:45:55.079Z"
   },
   {
    "duration": 46,
    "start_time": "2021-09-30T12:45:55.088Z"
   },
   {
    "duration": 3,
    "start_time": "2021-09-30T12:45:55.136Z"
   },
   {
    "duration": 8,
    "start_time": "2021-09-30T12:45:55.141Z"
   },
   {
    "duration": 21851,
    "start_time": "2021-09-30T12:45:55.176Z"
   },
   {
    "duration": 56,
    "start_time": "2021-09-30T12:46:17.028Z"
   },
   {
    "duration": 95,
    "start_time": "2021-09-30T12:46:17.086Z"
   },
   {
    "duration": 5,
    "start_time": "2021-09-30T12:46:17.183Z"
   },
   {
    "duration": 357,
    "start_time": "2021-09-30T12:46:17.190Z"
   },
   {
    "duration": 305,
    "start_time": "2021-09-30T12:46:17.550Z"
   },
   {
    "duration": 297,
    "start_time": "2021-09-30T12:46:17.857Z"
   },
   {
    "duration": 4,
    "start_time": "2021-09-30T12:46:18.156Z"
   },
   {
    "duration": 22,
    "start_time": "2021-09-30T12:46:18.161Z"
   },
   {
    "duration": 6,
    "start_time": "2021-09-30T12:46:18.185Z"
   },
   {
    "duration": 29634,
    "start_time": "2021-09-30T12:46:18.193Z"
   },
   {
    "duration": 146,
    "start_time": "2021-09-30T12:46:47.831Z"
   },
   {
    "duration": 443,
    "start_time": "2021-09-30T12:46:47.980Z"
   },
   {
    "duration": 4,
    "start_time": "2021-09-30T12:46:48.424Z"
   },
   {
    "duration": 12,
    "start_time": "2021-09-30T12:46:48.430Z"
   },
   {
    "duration": 5,
    "start_time": "2021-09-30T12:46:48.444Z"
   },
   {
    "duration": 12480,
    "start_time": "2021-09-30T12:46:48.451Z"
   },
   {
    "duration": 52,
    "start_time": "2021-09-30T12:47:00.933Z"
   },
   {
    "duration": 360,
    "start_time": "2021-09-30T12:47:01.078Z"
   },
   {
    "duration": 166,
    "start_time": "2021-09-30T12:47:01.440Z"
   },
   {
    "duration": 272,
    "start_time": "2021-09-30T12:47:01.608Z"
   },
   {
    "duration": 4,
    "start_time": "2021-09-30T12:47:01.882Z"
   },
   {
    "duration": 44,
    "start_time": "2021-09-30T12:47:01.888Z"
   },
   {
    "duration": 16,
    "start_time": "2021-09-30T12:47:01.934Z"
   },
   {
    "duration": 29,
    "start_time": "2021-09-30T12:47:01.951Z"
   },
   {
    "duration": 184,
    "start_time": "2021-09-30T12:47:01.981Z"
   },
   {
    "duration": 304,
    "start_time": "2021-09-30T12:47:02.166Z"
   },
   {
    "duration": 309,
    "start_time": "2021-09-30T12:47:02.476Z"
   },
   {
    "duration": 4,
    "start_time": "2021-09-30T12:55:11.750Z"
   },
   {
    "duration": 474,
    "start_time": "2021-09-30T12:55:46.084Z"
   },
   {
    "duration": 22,
    "start_time": "2021-09-30T12:55:51.482Z"
   },
   {
    "duration": 23,
    "start_time": "2021-09-30T12:57:21.666Z"
   },
   {
    "duration": 5,
    "start_time": "2021-09-30T12:57:41.941Z"
   },
   {
    "duration": 6,
    "start_time": "2021-09-30T12:57:50.063Z"
   },
   {
    "duration": 6,
    "start_time": "2021-09-30T12:57:57.554Z"
   },
   {
    "duration": 4,
    "start_time": "2021-09-30T13:05:57.416Z"
   },
   {
    "duration": 37,
    "start_time": "2021-09-30T13:05:57.424Z"
   },
   {
    "duration": 13,
    "start_time": "2021-09-30T13:05:57.464Z"
   },
   {
    "duration": 12,
    "start_time": "2021-09-30T13:05:57.479Z"
   },
   {
    "duration": 8,
    "start_time": "2021-09-30T13:05:57.493Z"
   },
   {
    "duration": 7,
    "start_time": "2021-09-30T13:05:57.502Z"
   },
   {
    "duration": 7,
    "start_time": "2021-09-30T13:05:57.511Z"
   },
   {
    "duration": 568,
    "start_time": "2021-09-30T13:06:00.781Z"
   },
   {
    "duration": 12756,
    "start_time": "2021-09-30T13:06:16.632Z"
   },
   {
    "duration": 15,
    "start_time": "2021-09-30T13:07:04.368Z"
   },
   {
    "duration": 16,
    "start_time": "2021-09-30T13:07:28.054Z"
   },
   {
    "duration": 13,
    "start_time": "2021-09-30T13:07:33.217Z"
   },
   {
    "duration": 14,
    "start_time": "2021-09-30T13:07:44.201Z"
   },
   {
    "duration": 17,
    "start_time": "2021-09-30T13:07:51.024Z"
   },
   {
    "duration": 14,
    "start_time": "2021-09-30T13:08:07.688Z"
   },
   {
    "duration": 1292,
    "start_time": "2021-09-30T13:12:31.589Z"
   },
   {
    "duration": 37,
    "start_time": "2021-09-30T13:12:32.883Z"
   },
   {
    "duration": 14,
    "start_time": "2021-09-30T13:12:32.922Z"
   },
   {
    "duration": 15,
    "start_time": "2021-09-30T13:12:32.938Z"
   },
   {
    "duration": 7,
    "start_time": "2021-09-30T13:12:32.955Z"
   },
   {
    "duration": 4,
    "start_time": "2021-09-30T13:12:32.976Z"
   },
   {
    "duration": 13,
    "start_time": "2021-09-30T13:12:32.981Z"
   },
   {
    "duration": 15,
    "start_time": "2021-09-30T13:12:32.997Z"
   },
   {
    "duration": 11,
    "start_time": "2021-09-30T13:12:33.014Z"
   },
   {
    "duration": 3,
    "start_time": "2021-09-30T13:12:33.027Z"
   },
   {
    "duration": 21,
    "start_time": "2021-09-30T13:12:33.031Z"
   },
   {
    "duration": 31,
    "start_time": "2021-09-30T13:12:33.054Z"
   },
   {
    "duration": 8,
    "start_time": "2021-09-30T13:12:33.086Z"
   },
   {
    "duration": 54,
    "start_time": "2021-09-30T13:12:33.096Z"
   },
   {
    "duration": 3,
    "start_time": "2021-09-30T13:12:33.151Z"
   },
   {
    "duration": 26,
    "start_time": "2021-09-30T13:12:33.156Z"
   },
   {
    "duration": 22661,
    "start_time": "2021-09-30T13:12:33.183Z"
   },
   {
    "duration": 131,
    "start_time": "2021-09-30T13:12:55.846Z"
   },
   {
    "duration": 97,
    "start_time": "2021-09-30T13:12:55.981Z"
   },
   {
    "duration": 6,
    "start_time": "2021-09-30T13:12:56.080Z"
   },
   {
    "duration": 313,
    "start_time": "2021-09-30T13:12:56.088Z"
   },
   {
    "duration": 298,
    "start_time": "2021-09-30T13:12:56.402Z"
   },
   {
    "duration": 313,
    "start_time": "2021-09-30T13:12:56.703Z"
   },
   {
    "duration": 4,
    "start_time": "2021-09-30T13:12:57.018Z"
   },
   {
    "duration": 18,
    "start_time": "2021-09-30T13:12:57.024Z"
   },
   {
    "duration": 6,
    "start_time": "2021-09-30T13:12:57.044Z"
   },
   {
    "duration": 31640,
    "start_time": "2021-09-30T13:12:57.051Z"
   },
   {
    "duration": 93,
    "start_time": "2021-09-30T13:13:28.693Z"
   },
   {
    "duration": 371,
    "start_time": "2021-09-30T13:13:28.876Z"
   },
   {
    "duration": 4,
    "start_time": "2021-09-30T13:13:29.249Z"
   },
   {
    "duration": 24,
    "start_time": "2021-09-30T13:13:29.255Z"
   },
   {
    "duration": 6,
    "start_time": "2021-09-30T13:13:29.281Z"
   },
   {
    "duration": 13243,
    "start_time": "2021-09-30T13:13:29.289Z"
   },
   {
    "duration": 144,
    "start_time": "2021-09-30T13:13:42.534Z"
   },
   {
    "duration": 384,
    "start_time": "2021-09-30T13:13:42.681Z"
   },
   {
    "duration": 170,
    "start_time": "2021-09-30T13:13:43.076Z"
   },
   {
    "duration": 285,
    "start_time": "2021-09-30T13:13:43.248Z"
   },
   {
    "duration": 4,
    "start_time": "2021-09-30T13:13:43.535Z"
   },
   {
    "duration": 24,
    "start_time": "2021-09-30T13:13:43.540Z"
   },
   {
    "duration": 12,
    "start_time": "2021-09-30T13:13:43.566Z"
   },
   {
    "duration": 7,
    "start_time": "2021-09-30T13:13:43.579Z"
   },
   {
    "duration": 172,
    "start_time": "2021-09-30T13:13:43.588Z"
   },
   {
    "duration": 295,
    "start_time": "2021-09-30T13:13:43.762Z"
   },
   {
    "duration": 299,
    "start_time": "2021-09-30T13:13:44.059Z"
   },
   {
    "duration": 57,
    "start_time": "2021-09-30T13:15:03.821Z"
   },
   {
    "duration": 45,
    "start_time": "2021-09-30T13:15:15.033Z"
   },
   {
    "duration": 82,
    "start_time": "2021-09-30T13:15:41.099Z"
   },
   {
    "duration": 57,
    "start_time": "2021-09-30T13:15:53.723Z"
   },
   {
    "duration": 27,
    "start_time": "2021-09-30T13:16:05.668Z"
   },
   {
    "duration": 1299,
    "start_time": "2021-09-30T13:17:35.466Z"
   },
   {
    "duration": 35,
    "start_time": "2021-09-30T13:17:36.767Z"
   },
   {
    "duration": 14,
    "start_time": "2021-09-30T13:17:36.804Z"
   },
   {
    "duration": 32,
    "start_time": "2021-09-30T13:17:36.820Z"
   },
   {
    "duration": 17,
    "start_time": "2021-09-30T13:17:36.854Z"
   },
   {
    "duration": 23,
    "start_time": "2021-09-30T13:17:36.873Z"
   },
   {
    "duration": 22,
    "start_time": "2021-09-30T13:17:36.898Z"
   },
   {
    "duration": 32,
    "start_time": "2021-09-30T13:17:36.923Z"
   },
   {
    "duration": 24,
    "start_time": "2021-09-30T13:17:36.957Z"
   },
   {
    "duration": 17,
    "start_time": "2021-09-30T13:17:36.983Z"
   },
   {
    "duration": 21,
    "start_time": "2021-09-30T13:17:37.002Z"
   },
   {
    "duration": 10,
    "start_time": "2021-09-30T13:17:37.025Z"
   },
   {
    "duration": 8,
    "start_time": "2021-09-30T13:17:37.036Z"
   },
   {
    "duration": 53,
    "start_time": "2021-09-30T13:17:37.045Z"
   },
   {
    "duration": 2,
    "start_time": "2021-09-30T13:17:37.100Z"
   },
   {
    "duration": 9,
    "start_time": "2021-09-30T13:17:37.104Z"
   },
   {
    "duration": 22383,
    "start_time": "2021-09-30T13:17:37.114Z"
   },
   {
    "duration": 81,
    "start_time": "2021-09-30T13:17:59.499Z"
   },
   {
    "duration": 95,
    "start_time": "2021-09-30T13:17:59.583Z"
   },
   {
    "duration": 7,
    "start_time": "2021-09-30T13:17:59.679Z"
   },
   {
    "duration": 297,
    "start_time": "2021-09-30T13:17:59.687Z"
   },
   {
    "duration": 94,
    "start_time": "2021-09-30T13:17:59.985Z"
   },
   {
    "duration": 383,
    "start_time": "2021-09-30T13:18:00.084Z"
   },
   {
    "duration": 278,
    "start_time": "2021-09-30T13:18:00.470Z"
   },
   {
    "duration": 5,
    "start_time": "2021-09-30T13:18:00.750Z"
   },
   {
    "duration": 32,
    "start_time": "2021-09-30T13:18:00.757Z"
   },
   {
    "duration": 6,
    "start_time": "2021-09-30T13:18:00.790Z"
   },
   {
    "duration": 30312,
    "start_time": "2021-09-30T13:18:00.798Z"
   },
   {
    "duration": 73,
    "start_time": "2021-09-30T13:18:31.112Z"
   },
   {
    "duration": 493,
    "start_time": "2021-09-30T13:18:31.188Z"
   },
   {
    "duration": 4,
    "start_time": "2021-09-30T13:18:31.683Z"
   },
   {
    "duration": 17,
    "start_time": "2021-09-30T13:18:31.689Z"
   },
   {
    "duration": 7,
    "start_time": "2021-09-30T13:18:31.708Z"
   },
   {
    "duration": 12882,
    "start_time": "2021-09-30T13:18:31.716Z"
   },
   {
    "duration": 78,
    "start_time": "2021-09-30T13:18:44.600Z"
   },
   {
    "duration": 387,
    "start_time": "2021-09-30T13:18:44.681Z"
   },
   {
    "duration": 165,
    "start_time": "2021-09-30T13:18:45.077Z"
   },
   {
    "duration": 279,
    "start_time": "2021-09-30T13:18:45.244Z"
   },
   {
    "duration": 4,
    "start_time": "2021-09-30T13:18:45.525Z"
   },
   {
    "duration": 16,
    "start_time": "2021-09-30T13:18:45.531Z"
   },
   {
    "duration": 3,
    "start_time": "2021-09-30T13:18:45.548Z"
   },
   {
    "duration": 24,
    "start_time": "2021-09-30T13:18:45.553Z"
   },
   {
    "duration": 166,
    "start_time": "2021-09-30T13:18:45.579Z"
   },
   {
    "duration": 280,
    "start_time": "2021-09-30T13:18:45.747Z"
   },
   {
    "duration": 319,
    "start_time": "2021-09-30T13:18:46.029Z"
   },
   {
    "duration": 323,
    "start_time": "2021-09-30T13:24:48.991Z"
   },
   {
    "duration": 310,
    "start_time": "2021-09-30T13:25:59.774Z"
   },
   {
    "duration": 329,
    "start_time": "2021-09-30T13:26:40.520Z"
   },
   {
    "duration": 271,
    "start_time": "2021-09-30T13:27:21.496Z"
   },
   {
    "duration": 1376,
    "start_time": "2021-09-30T13:27:30.739Z"
   },
   {
    "duration": 35,
    "start_time": "2021-09-30T13:27:32.117Z"
   },
   {
    "duration": 15,
    "start_time": "2021-09-30T13:27:32.154Z"
   },
   {
    "duration": 12,
    "start_time": "2021-09-30T13:27:32.177Z"
   },
   {
    "duration": 8,
    "start_time": "2021-09-30T13:27:32.191Z"
   },
   {
    "duration": 5,
    "start_time": "2021-09-30T13:27:32.201Z"
   },
   {
    "duration": 20,
    "start_time": "2021-09-30T13:27:32.208Z"
   },
   {
    "duration": 21,
    "start_time": "2021-09-30T13:27:32.231Z"
   },
   {
    "duration": 24,
    "start_time": "2021-09-30T13:27:32.255Z"
   },
   {
    "duration": 4,
    "start_time": "2021-09-30T13:27:32.280Z"
   },
   {
    "duration": 27,
    "start_time": "2021-09-30T13:27:32.286Z"
   },
   {
    "duration": 20,
    "start_time": "2021-09-30T13:27:32.315Z"
   },
   {
    "duration": 8,
    "start_time": "2021-09-30T13:27:32.336Z"
   },
   {
    "duration": 59,
    "start_time": "2021-09-30T13:27:32.346Z"
   },
   {
    "duration": 3,
    "start_time": "2021-09-30T13:27:32.407Z"
   },
   {
    "duration": 17,
    "start_time": "2021-09-30T13:27:32.412Z"
   },
   {
    "duration": 22604,
    "start_time": "2021-09-30T13:27:32.431Z"
   },
   {
    "duration": 49,
    "start_time": "2021-09-30T13:27:55.037Z"
   },
   {
    "duration": 6,
    "start_time": "2021-09-30T13:27:55.177Z"
   },
   {
    "duration": 94,
    "start_time": "2021-09-30T13:27:55.186Z"
   },
   {
    "duration": 303,
    "start_time": "2021-09-30T13:27:55.282Z"
   },
   {
    "duration": 27,
    "start_time": "2021-09-30T13:27:55.587Z"
   },
   {
    "duration": 388,
    "start_time": "2021-09-30T13:27:55.681Z"
   },
   {
    "duration": 385,
    "start_time": "2021-09-30T13:27:56.075Z"
   },
   {
    "duration": 5,
    "start_time": "2021-09-30T13:27:56.463Z"
   },
   {
    "duration": 24,
    "start_time": "2021-09-30T13:27:56.470Z"
   },
   {
    "duration": 6,
    "start_time": "2021-09-30T13:27:56.495Z"
   },
   {
    "duration": 31409,
    "start_time": "2021-09-30T13:27:56.503Z"
   },
   {
    "duration": 69,
    "start_time": "2021-09-30T13:28:27.914Z"
   },
   {
    "duration": 513,
    "start_time": "2021-09-30T13:28:27.987Z"
   },
   {
    "duration": 5,
    "start_time": "2021-09-30T13:28:28.502Z"
   },
   {
    "duration": 13,
    "start_time": "2021-09-30T13:28:28.509Z"
   },
   {
    "duration": 7,
    "start_time": "2021-09-30T13:28:28.524Z"
   },
   {
    "duration": 12718,
    "start_time": "2021-09-30T13:28:28.533Z"
   },
   {
    "duration": 31,
    "start_time": "2021-09-30T13:28:41.253Z"
   },
   {
    "duration": 459,
    "start_time": "2021-09-30T13:28:41.286Z"
   },
   {
    "duration": 169,
    "start_time": "2021-09-30T13:28:41.746Z"
   },
   {
    "duration": 276,
    "start_time": "2021-09-30T13:28:41.917Z"
   },
   {
    "duration": 5,
    "start_time": "2021-09-30T13:28:42.194Z"
   },
   {
    "duration": 28,
    "start_time": "2021-09-30T13:28:42.200Z"
   },
   {
    "duration": 15,
    "start_time": "2021-09-30T13:28:42.230Z"
   },
   {
    "duration": 28,
    "start_time": "2021-09-30T13:28:42.247Z"
   },
   {
    "duration": 164,
    "start_time": "2021-09-30T13:28:42.277Z"
   },
   {
    "duration": 288,
    "start_time": "2021-09-30T13:28:42.443Z"
   },
   {
    "duration": 317,
    "start_time": "2021-09-30T13:28:42.732Z"
   },
   {
    "duration": 1610,
    "start_time": "2021-10-02T13:37:38.234Z"
   },
   {
    "duration": 6,
    "start_time": "2021-10-02T14:09:27.305Z"
   },
   {
    "duration": 53,
    "start_time": "2021-10-02T14:09:27.314Z"
   },
   {
    "duration": 47,
    "start_time": "2021-10-02T14:09:27.371Z"
   },
   {
    "duration": 20,
    "start_time": "2021-10-02T14:09:27.421Z"
   },
   {
    "duration": 12,
    "start_time": "2021-10-02T14:09:27.443Z"
   },
   {
    "duration": 7,
    "start_time": "2021-10-02T14:09:27.458Z"
   },
   {
    "duration": 51,
    "start_time": "2021-10-02T14:09:27.469Z"
   },
   {
    "duration": 21,
    "start_time": "2021-10-02T14:09:27.524Z"
   },
   {
    "duration": 15,
    "start_time": "2021-10-02T14:09:27.547Z"
   },
   {
    "duration": 4,
    "start_time": "2021-10-02T14:09:27.565Z"
   },
   {
    "duration": 63,
    "start_time": "2021-10-02T14:09:27.572Z"
   },
   {
    "duration": 14,
    "start_time": "2021-10-02T14:09:27.638Z"
   },
   {
    "duration": 10,
    "start_time": "2021-10-02T14:09:27.655Z"
   },
   {
    "duration": 99,
    "start_time": "2021-10-02T14:09:27.667Z"
   },
   {
    "duration": 4,
    "start_time": "2021-10-02T14:09:27.768Z"
   },
   {
    "duration": 20,
    "start_time": "2021-10-02T14:09:27.774Z"
   },
   {
    "duration": 127114,
    "start_time": "2021-10-02T14:09:27.796Z"
   },
   {
    "duration": 33202,
    "start_time": "2021-10-02T14:11:42.325Z"
   },
   {
    "duration": 5,
    "start_time": "2021-10-02T14:13:21.836Z"
   },
   {
    "duration": 5,
    "start_time": "2021-10-02T14:13:40.180Z"
   },
   {
    "duration": 640,
    "start_time": "2021-10-02T14:15:15.777Z"
   },
   {
    "duration": 6,
    "start_time": "2021-10-02T14:37:55.226Z"
   },
   {
    "duration": 18064,
    "start_time": "2021-10-02T14:41:01.261Z"
   },
   {
    "duration": 5,
    "start_time": "2021-10-02T14:41:42.277Z"
   },
   {
    "duration": 732,
    "start_time": "2021-10-02T14:41:59.169Z"
   },
   {
    "duration": 454,
    "start_time": "2021-10-02T14:42:14.840Z"
   },
   {
    "duration": 13180,
    "start_time": "2021-10-02T14:42:38.970Z"
   },
   {
    "duration": 546,
    "start_time": "2021-10-02T14:43:07.436Z"
   },
   {
    "duration": 129413,
    "start_time": "2021-10-02T14:46:08.545Z"
   },
   {
    "duration": 71109,
    "start_time": "2021-10-02T14:49:07.497Z"
   },
   {
    "duration": 636,
    "start_time": "2021-10-02T14:51:03.296Z"
   },
   {
    "duration": 5,
    "start_time": "2021-10-02T14:51:11.304Z"
   },
   {
    "duration": 588,
    "start_time": "2021-10-02T14:51:32.155Z"
   },
   {
    "duration": 60720,
    "start_time": "2021-10-02T14:51:46.288Z"
   },
   {
    "duration": 736,
    "start_time": "2021-10-02T14:53:08.028Z"
   },
   {
    "duration": 5,
    "start_time": "2021-10-02T14:53:10.815Z"
   },
   {
    "duration": 5,
    "start_time": "2021-10-02T14:54:00.064Z"
   },
   {
    "duration": 769,
    "start_time": "2021-10-02T14:54:00.807Z"
   },
   {
    "duration": 724,
    "start_time": "2021-10-02T14:55:09.201Z"
   },
   {
    "duration": 5,
    "start_time": "2021-10-02T14:55:25.084Z"
   },
   {
    "duration": 13,
    "start_time": "2021-10-02T14:55:43.601Z"
   },
   {
    "duration": 11,
    "start_time": "2021-10-02T14:55:44.743Z"
   },
   {
    "duration": 68,
    "start_time": "2021-10-02T14:55:45.187Z"
   },
   {
    "duration": 5,
    "start_time": "2021-10-02T14:55:46.015Z"
   },
   {
    "duration": 720,
    "start_time": "2021-10-02T14:55:52.832Z"
   },
   {
    "duration": 60194,
    "start_time": "2021-10-02T14:56:14.231Z"
   },
   {
    "duration": 390,
    "start_time": "2021-10-02T15:46:06.363Z"
   },
   {
    "duration": 425,
    "start_time": "2021-10-02T15:46:16.313Z"
   },
   {
    "duration": 3910,
    "start_time": "2021-10-02T15:46:28.609Z"
   },
   {
    "duration": 6,
    "start_time": "2021-10-02T15:46:52.827Z"
   },
   {
    "duration": 45,
    "start_time": "2021-10-02T15:46:52.842Z"
   },
   {
    "duration": 30,
    "start_time": "2021-10-02T15:46:52.891Z"
   },
   {
    "duration": 18,
    "start_time": "2021-10-02T15:46:52.925Z"
   },
   {
    "duration": 10,
    "start_time": "2021-10-02T15:46:52.945Z"
   },
   {
    "duration": 7,
    "start_time": "2021-10-02T15:46:52.957Z"
   },
   {
    "duration": 8,
    "start_time": "2021-10-02T15:46:52.966Z"
   },
   {
    "duration": 62,
    "start_time": "2021-10-02T15:46:52.976Z"
   },
   {
    "duration": 16,
    "start_time": "2021-10-02T15:46:53.041Z"
   },
   {
    "duration": 4,
    "start_time": "2021-10-02T15:46:53.060Z"
   },
   {
    "duration": 68,
    "start_time": "2021-10-02T15:46:53.066Z"
   },
   {
    "duration": 15,
    "start_time": "2021-10-02T15:46:53.137Z"
   },
   {
    "duration": 9,
    "start_time": "2021-10-02T15:46:53.155Z"
   },
   {
    "duration": 109,
    "start_time": "2021-10-02T15:46:53.167Z"
   },
   {
    "duration": 5,
    "start_time": "2021-10-02T15:46:53.279Z"
   },
   {
    "duration": 12,
    "start_time": "2021-10-02T15:46:53.287Z"
   },
   {
    "duration": 3779,
    "start_time": "2021-10-02T15:47:02.121Z"
   },
   {
    "duration": 7880,
    "start_time": "2021-10-02T15:47:53.865Z"
   },
   {
    "duration": 733,
    "start_time": "2021-10-02T15:48:25.147Z"
   },
   {
    "duration": 759,
    "start_time": "2021-10-02T15:48:34.149Z"
   },
   {
    "duration": 106306,
    "start_time": "2021-10-02T15:49:14.858Z"
   },
   {
    "duration": 5,
    "start_time": "2021-10-02T15:51:42.486Z"
   },
   {
    "duration": 715,
    "start_time": "2021-10-02T15:52:16.786Z"
   },
   {
    "duration": 6,
    "start_time": "2021-10-02T15:52:38.498Z"
   },
   {
    "duration": 4,
    "start_time": "2021-10-02T15:52:59.042Z"
   },
   {
    "duration": 33,
    "start_time": "2021-10-02T15:53:13.054Z"
   },
   {
    "duration": 1198,
    "start_time": "2021-10-02T15:53:35.567Z"
   },
   {
    "duration": 5,
    "start_time": "2021-10-02T15:54:02.785Z"
   },
   {
    "duration": 1012,
    "start_time": "2021-10-02T15:54:55.956Z"
   },
   {
    "duration": 709,
    "start_time": "2021-10-02T15:55:01.540Z"
   },
   {
    "duration": 6,
    "start_time": "2021-10-02T15:55:15.154Z"
   },
   {
    "duration": 10,
    "start_time": "2021-10-02T15:55:32.920Z"
   },
   {
    "duration": 6,
    "start_time": "2021-10-02T15:55:40.898Z"
   },
   {
    "duration": 34274,
    "start_time": "2021-10-02T15:56:14.420Z"
   },
   {
    "duration": 6,
    "start_time": "2021-10-02T16:04:56.304Z"
   },
   {
    "duration": 5,
    "start_time": "2021-10-02T16:05:17.863Z"
   },
   {
    "duration": 7,
    "start_time": "2021-10-02T16:05:21.996Z"
   },
   {
    "duration": 6,
    "start_time": "2021-10-02T16:05:26.305Z"
   },
   {
    "duration": 456,
    "start_time": "2021-10-02T16:05:55.381Z"
   },
   {
    "duration": 628,
    "start_time": "2021-10-02T16:06:12.226Z"
   },
   {
    "duration": 5,
    "start_time": "2021-10-02T16:06:31.930Z"
   },
   {
    "duration": 645,
    "start_time": "2021-10-02T16:06:34.298Z"
   },
   {
    "duration": 3,
    "start_time": "2021-10-02T16:06:40.626Z"
   },
   {
    "duration": 645,
    "start_time": "2021-10-02T16:06:43.067Z"
   },
   {
    "duration": 4,
    "start_time": "2021-10-02T16:06:59.872Z"
   },
   {
    "duration": 482,
    "start_time": "2021-10-02T16:07:01.051Z"
   },
   {
    "duration": 527,
    "start_time": "2021-10-02T16:07:24.543Z"
   },
   {
    "duration": 456,
    "start_time": "2021-10-02T16:07:39.772Z"
   },
   {
    "duration": 467,
    "start_time": "2021-10-02T16:07:46.332Z"
   },
   {
    "duration": 5,
    "start_time": "2021-10-02T16:08:22.340Z"
   },
   {
    "duration": 48,
    "start_time": "2021-10-02T16:08:22.349Z"
   },
   {
    "duration": 21,
    "start_time": "2021-10-02T16:08:22.401Z"
   },
   {
    "duration": 21,
    "start_time": "2021-10-02T16:08:22.424Z"
   },
   {
    "duration": 13,
    "start_time": "2021-10-02T16:08:22.448Z"
   },
   {
    "duration": 5,
    "start_time": "2021-10-02T16:08:22.464Z"
   },
   {
    "duration": 48,
    "start_time": "2021-10-02T16:08:22.472Z"
   },
   {
    "duration": 21,
    "start_time": "2021-10-02T16:08:22.522Z"
   },
   {
    "duration": 15,
    "start_time": "2021-10-02T16:08:22.547Z"
   },
   {
    "duration": 5,
    "start_time": "2021-10-02T16:08:22.565Z"
   },
   {
    "duration": 72,
    "start_time": "2021-10-02T16:08:22.572Z"
   },
   {
    "duration": 15,
    "start_time": "2021-10-02T16:08:22.646Z"
   },
   {
    "duration": 10,
    "start_time": "2021-10-02T16:08:22.664Z"
   },
   {
    "duration": 106,
    "start_time": "2021-10-02T16:08:22.676Z"
   },
   {
    "duration": 5,
    "start_time": "2021-10-02T16:08:22.785Z"
   },
   {
    "duration": 31,
    "start_time": "2021-10-02T16:08:22.792Z"
   },
   {
    "duration": 1711,
    "start_time": "2021-10-02T16:08:33.105Z"
   },
   {
    "duration": 47,
    "start_time": "2021-10-02T16:08:34.820Z"
   },
   {
    "duration": 24,
    "start_time": "2021-10-02T16:08:34.871Z"
   },
   {
    "duration": 33,
    "start_time": "2021-10-02T16:08:34.899Z"
   },
   {
    "duration": 11,
    "start_time": "2021-10-02T16:08:34.936Z"
   },
   {
    "duration": 9,
    "start_time": "2021-10-02T16:08:34.949Z"
   },
   {
    "duration": 12,
    "start_time": "2021-10-02T16:08:34.961Z"
   },
   {
    "duration": 56,
    "start_time": "2021-10-02T16:08:34.977Z"
   },
   {
    "duration": 19,
    "start_time": "2021-10-02T16:08:35.037Z"
   },
   {
    "duration": 5,
    "start_time": "2021-10-02T16:08:35.058Z"
   },
   {
    "duration": 58,
    "start_time": "2021-10-02T16:08:35.066Z"
   },
   {
    "duration": 15,
    "start_time": "2021-10-02T16:08:35.126Z"
   },
   {
    "duration": 14,
    "start_time": "2021-10-02T16:08:35.144Z"
   },
   {
    "duration": 116,
    "start_time": "2021-10-02T16:08:35.161Z"
   },
   {
    "duration": 4,
    "start_time": "2021-10-02T16:08:35.279Z"
   },
   {
    "duration": 18,
    "start_time": "2021-10-02T16:08:35.285Z"
   },
   {
    "duration": 35761,
    "start_time": "2021-10-02T16:08:35.317Z"
   },
   {
    "duration": 53,
    "start_time": "2021-10-02T16:09:11.081Z"
   },
   {
    "duration": 92,
    "start_time": "2021-10-02T16:09:11.227Z"
   },
   {
    "duration": 13,
    "start_time": "2021-10-02T16:09:11.321Z"
   },
   {
    "duration": 7,
    "start_time": "2021-10-02T16:09:11.337Z"
   },
   {
    "duration": 426,
    "start_time": "2021-10-02T16:09:11.347Z"
   },
   {
    "duration": 138,
    "start_time": "2021-10-02T16:09:11.780Z"
   },
   {
    "duration": 507,
    "start_time": "2021-10-02T16:09:11.922Z"
   },
   {
    "duration": 424,
    "start_time": "2021-10-02T16:09:12.431Z"
   },
   {
    "duration": 6,
    "start_time": "2021-10-02T16:09:12.857Z"
   },
   {
    "duration": 27,
    "start_time": "2021-10-02T16:09:12.865Z"
   },
   {
    "duration": 8,
    "start_time": "2021-10-02T16:09:12.894Z"
   },
   {
    "duration": 46830,
    "start_time": "2021-10-02T16:09:12.917Z"
   },
   {
    "duration": 175,
    "start_time": "2021-10-02T16:09:59.749Z"
   },
   {
    "duration": 456,
    "start_time": "2021-10-02T16:10:00.016Z"
   },
   {
    "duration": 6,
    "start_time": "2021-10-02T16:10:00.474Z"
   },
   {
    "duration": 34,
    "start_time": "2021-10-02T16:10:00.483Z"
   },
   {
    "duration": 8,
    "start_time": "2021-10-02T16:10:00.520Z"
   },
   {
    "duration": 19173,
    "start_time": "2021-10-02T16:10:00.531Z"
   },
   {
    "duration": 112,
    "start_time": "2021-10-02T16:10:19.707Z"
   },
   {
    "duration": 512,
    "start_time": "2021-10-02T16:10:19.823Z"
   },
   {
    "duration": 266,
    "start_time": "2021-10-02T16:10:20.339Z"
   },
   {
    "duration": 478,
    "start_time": "2021-10-02T16:10:20.608Z"
   },
   {
    "duration": 7,
    "start_time": "2021-10-02T16:10:21.090Z"
   },
   {
    "duration": 33,
    "start_time": "2021-10-02T16:10:21.099Z"
   },
   {
    "duration": 5,
    "start_time": "2021-10-02T16:10:21.134Z"
   },
   {
    "duration": 12,
    "start_time": "2021-10-02T16:10:21.141Z"
   },
   {
    "duration": 282,
    "start_time": "2021-10-02T16:10:21.156Z"
   },
   {
    "duration": 466,
    "start_time": "2021-10-02T16:10:21.441Z"
   },
   {
    "duration": 412,
    "start_time": "2021-10-02T16:10:21.910Z"
   },
   {
    "duration": 4,
    "start_time": "2021-10-02T16:12:28.727Z"
   },
   {
    "duration": 528,
    "start_time": "2021-10-02T16:13:18.684Z"
   },
   {
    "duration": 409,
    "start_time": "2021-10-02T16:14:52.874Z"
   },
   {
    "duration": 517,
    "start_time": "2021-10-02T16:15:00.897Z"
   },
   {
    "duration": 4,
    "start_time": "2021-10-02T16:15:18.960Z"
   },
   {
    "duration": 4,
    "start_time": "2021-10-02T16:15:20.404Z"
   },
   {
    "duration": 403,
    "start_time": "2021-10-02T16:15:33.150Z"
   },
   {
    "duration": 15408,
    "start_time": "2021-10-02T16:15:50.962Z"
   },
   {
    "duration": 6,
    "start_time": "2021-10-02T16:16:36.088Z"
   },
   {
    "duration": 4,
    "start_time": "2021-10-02T16:16:49.391Z"
   },
   {
    "duration": 15873,
    "start_time": "2021-10-02T16:16:49.924Z"
   },
   {
    "duration": 6,
    "start_time": "2021-10-02T16:17:11.629Z"
   },
   {
    "duration": 3,
    "start_time": "2021-10-02T16:17:28.522Z"
   },
   {
    "duration": 52,
    "start_time": "2021-10-02T16:17:58.323Z"
   },
   {
    "duration": 56,
    "start_time": "2021-10-02T16:18:10.902Z"
   },
   {
    "duration": 386,
    "start_time": "2021-10-02T18:31:21.632Z"
   },
   {
    "duration": 1206,
    "start_time": "2021-10-02T18:31:26.572Z"
   },
   {
    "duration": 36,
    "start_time": "2021-10-02T18:31:27.780Z"
   },
   {
    "duration": 15,
    "start_time": "2021-10-02T18:31:27.818Z"
   },
   {
    "duration": 12,
    "start_time": "2021-10-02T18:31:27.836Z"
   },
   {
    "duration": 9,
    "start_time": "2021-10-02T18:31:27.849Z"
   },
   {
    "duration": 4,
    "start_time": "2021-10-02T18:31:27.876Z"
   },
   {
    "duration": 7,
    "start_time": "2021-10-02T18:31:27.882Z"
   },
   {
    "duration": 15,
    "start_time": "2021-10-02T18:31:27.890Z"
   },
   {
    "duration": 11,
    "start_time": "2021-10-02T18:31:27.908Z"
   },
   {
    "duration": 4,
    "start_time": "2021-10-02T18:31:27.921Z"
   },
   {
    "duration": 51,
    "start_time": "2021-10-02T18:31:27.927Z"
   },
   {
    "duration": 11,
    "start_time": "2021-10-02T18:31:27.980Z"
   },
   {
    "duration": 10,
    "start_time": "2021-10-02T18:31:27.993Z"
   },
   {
    "duration": 75,
    "start_time": "2021-10-02T18:31:28.005Z"
   },
   {
    "duration": 4,
    "start_time": "2021-10-02T18:31:28.082Z"
   },
   {
    "duration": 10,
    "start_time": "2021-10-02T18:31:28.088Z"
   },
   {
    "duration": 47510,
    "start_time": "2021-10-02T18:31:34.091Z"
   },
   {
    "duration": 37,
    "start_time": "2021-10-02T18:32:31.844Z"
   },
   {
    "duration": 4,
    "start_time": "2021-10-02T18:32:46.665Z"
   },
   {
    "duration": 22231,
    "start_time": "2021-10-02T18:33:09.040Z"
   },
   {
    "duration": 47690,
    "start_time": "2021-10-02T18:33:40.269Z"
   },
   {
    "duration": 35,
    "start_time": "2021-10-02T18:34:34.022Z"
   },
   {
    "duration": 29,
    "start_time": "2021-10-02T18:35:11.993Z"
   },
   {
    "duration": 35,
    "start_time": "2021-10-02T18:35:12.944Z"
   },
   {
    "duration": 35,
    "start_time": "2021-10-02T18:35:31.882Z"
   },
   {
    "duration": 28,
    "start_time": "2021-10-02T18:35:34.271Z"
   },
   {
    "duration": 5,
    "start_time": "2021-10-02T18:35:58.626Z"
   },
   {
    "duration": 89997,
    "start_time": "2021-10-02T18:36:17.908Z"
   },
   {
    "duration": 26,
    "start_time": "2021-10-02T18:40:27.439Z"
   },
   {
    "duration": 35,
    "start_time": "2021-10-02T18:40:28.377Z"
   },
   {
    "duration": 4,
    "start_time": "2021-10-02T18:40:33.928Z"
   },
   {
    "duration": 305,
    "start_time": "2021-10-02T18:40:57.286Z"
   },
   {
    "duration": 1537,
    "start_time": "2021-10-02T18:41:23.863Z"
   },
   {
    "duration": 26,
    "start_time": "2021-10-02T18:41:28.549Z"
   },
   {
    "duration": 26,
    "start_time": "2021-10-02T18:41:29.176Z"
   },
   {
    "duration": 5,
    "start_time": "2021-10-02T18:41:42.352Z"
   },
   {
    "duration": 48671,
    "start_time": "2021-10-02T18:41:57.830Z"
   },
   {
    "duration": 5,
    "start_time": "2021-10-02T18:42:52.019Z"
   },
   {
    "duration": 45,
    "start_time": "2021-10-02T18:43:02.387Z"
   },
   {
    "duration": 1283,
    "start_time": "2021-10-02T18:43:41.107Z"
   },
   {
    "duration": 38,
    "start_time": "2021-10-02T18:43:42.392Z"
   },
   {
    "duration": 16,
    "start_time": "2021-10-02T18:43:42.432Z"
   },
   {
    "duration": 33,
    "start_time": "2021-10-02T18:43:42.450Z"
   },
   {
    "duration": 9,
    "start_time": "2021-10-02T18:43:42.484Z"
   },
   {
    "duration": 6,
    "start_time": "2021-10-02T18:43:42.495Z"
   },
   {
    "duration": 15,
    "start_time": "2021-10-02T18:43:42.503Z"
   },
   {
    "duration": 16,
    "start_time": "2021-10-02T18:43:42.522Z"
   },
   {
    "duration": 12,
    "start_time": "2021-10-02T18:43:42.540Z"
   },
   {
    "duration": 6,
    "start_time": "2021-10-02T18:43:42.554Z"
   },
   {
    "duration": 21,
    "start_time": "2021-10-02T18:43:42.561Z"
   },
   {
    "duration": 9,
    "start_time": "2021-10-02T18:43:42.584Z"
   },
   {
    "duration": 15,
    "start_time": "2021-10-02T18:43:42.595Z"
   },
   {
    "duration": 49,
    "start_time": "2021-10-02T18:43:42.612Z"
   },
   {
    "duration": 3,
    "start_time": "2021-10-02T18:43:42.662Z"
   },
   {
    "duration": 14,
    "start_time": "2021-10-02T18:43:42.667Z"
   },
   {
    "duration": 7,
    "start_time": "2021-10-02T18:43:42.683Z"
   },
   {
    "duration": 8,
    "start_time": "2021-10-02T18:43:42.692Z"
   },
   {
    "duration": 4,
    "start_time": "2021-10-02T18:43:42.702Z"
   },
   {
    "duration": 8,
    "start_time": "2021-10-02T18:43:42.707Z"
   },
   {
    "duration": 707,
    "start_time": "2021-10-02T18:43:42.717Z"
   },
   {
    "duration": -583,
    "start_time": "2021-10-02T18:43:44.010Z"
   },
   {
    "duration": -592,
    "start_time": "2021-10-02T18:43:44.020Z"
   },
   {
    "duration": -598,
    "start_time": "2021-10-02T18:43:44.027Z"
   },
   {
    "duration": -608,
    "start_time": "2021-10-02T18:43:44.037Z"
   },
   {
    "duration": -613,
    "start_time": "2021-10-02T18:43:44.043Z"
   },
   {
    "duration": -627,
    "start_time": "2021-10-02T18:43:44.058Z"
   },
   {
    "duration": -643,
    "start_time": "2021-10-02T18:43:44.075Z"
   },
   {
    "duration": -655,
    "start_time": "2021-10-02T18:43:44.088Z"
   },
   {
    "duration": -668,
    "start_time": "2021-10-02T18:43:44.102Z"
   },
   {
    "duration": -674,
    "start_time": "2021-10-02T18:43:44.109Z"
   },
   {
    "duration": -683,
    "start_time": "2021-10-02T18:43:44.119Z"
   },
   {
    "duration": -690,
    "start_time": "2021-10-02T18:43:44.127Z"
   },
   {
    "duration": -700,
    "start_time": "2021-10-02T18:43:44.138Z"
   },
   {
    "duration": -713,
    "start_time": "2021-10-02T18:43:44.152Z"
   },
   {
    "duration": -720,
    "start_time": "2021-10-02T18:43:44.160Z"
   },
   {
    "duration": -735,
    "start_time": "2021-10-02T18:43:44.175Z"
   },
   {
    "duration": -751,
    "start_time": "2021-10-02T18:43:44.192Z"
   },
   {
    "duration": -773,
    "start_time": "2021-10-02T18:43:44.215Z"
   },
   {
    "duration": -778,
    "start_time": "2021-10-02T18:43:44.221Z"
   },
   {
    "duration": -790,
    "start_time": "2021-10-02T18:43:44.234Z"
   },
   {
    "duration": -796,
    "start_time": "2021-10-02T18:43:44.241Z"
   },
   {
    "duration": -807,
    "start_time": "2021-10-02T18:43:44.252Z"
   },
   {
    "duration": -813,
    "start_time": "2021-10-02T18:43:44.259Z"
   },
   {
    "duration": -823,
    "start_time": "2021-10-02T18:43:44.270Z"
   },
   {
    "duration": -830,
    "start_time": "2021-10-02T18:43:44.278Z"
   },
   {
    "duration": -842,
    "start_time": "2021-10-02T18:43:44.291Z"
   },
   {
    "duration": -853,
    "start_time": "2021-10-02T18:43:44.303Z"
   },
   {
    "duration": -862,
    "start_time": "2021-10-02T18:43:44.313Z"
   },
   {
    "duration": -875,
    "start_time": "2021-10-02T18:43:44.326Z"
   },
   {
    "duration": -884,
    "start_time": "2021-10-02T18:43:44.337Z"
   },
   {
    "duration": -897,
    "start_time": "2021-10-02T18:43:44.351Z"
   },
   {
    "duration": -904,
    "start_time": "2021-10-02T18:43:44.358Z"
   },
   {
    "duration": -917,
    "start_time": "2021-10-02T18:43:44.372Z"
   },
   {
    "duration": -929,
    "start_time": "2021-10-02T18:43:44.385Z"
   },
   {
    "duration": -940,
    "start_time": "2021-10-02T18:43:44.397Z"
   },
   {
    "duration": -953,
    "start_time": "2021-10-02T18:43:44.411Z"
   },
   {
    "duration": -967,
    "start_time": "2021-10-02T18:43:44.426Z"
   },
   {
    "duration": -979,
    "start_time": "2021-10-02T18:43:44.438Z"
   },
   {
    "duration": -992,
    "start_time": "2021-10-02T18:43:44.452Z"
   },
   {
    "duration": 1872,
    "start_time": "2021-10-02T18:44:02.896Z"
   },
   {
    "duration": 35,
    "start_time": "2021-10-02T18:44:04.770Z"
   },
   {
    "duration": 15,
    "start_time": "2021-10-02T18:44:04.807Z"
   },
   {
    "duration": 16,
    "start_time": "2021-10-02T18:44:04.824Z"
   },
   {
    "duration": 7,
    "start_time": "2021-10-02T18:44:04.842Z"
   },
   {
    "duration": 5,
    "start_time": "2021-10-02T18:44:04.851Z"
   },
   {
    "duration": 22,
    "start_time": "2021-10-02T18:44:04.857Z"
   },
   {
    "duration": 13,
    "start_time": "2021-10-02T18:44:04.882Z"
   },
   {
    "duration": 12,
    "start_time": "2021-10-02T18:44:04.897Z"
   },
   {
    "duration": 3,
    "start_time": "2021-10-02T18:44:04.911Z"
   },
   {
    "duration": 24,
    "start_time": "2021-10-02T18:44:04.916Z"
   },
   {
    "duration": 39,
    "start_time": "2021-10-02T18:44:04.942Z"
   },
   {
    "duration": 9,
    "start_time": "2021-10-02T18:44:04.983Z"
   },
   {
    "duration": 49,
    "start_time": "2021-10-02T18:44:04.993Z"
   },
   {
    "duration": 3,
    "start_time": "2021-10-02T18:44:05.044Z"
   },
   {
    "duration": 30,
    "start_time": "2021-10-02T18:44:05.049Z"
   },
   {
    "duration": 4,
    "start_time": "2021-10-02T18:44:05.081Z"
   },
   {
    "duration": 3,
    "start_time": "2021-10-02T18:44:05.086Z"
   },
   {
    "duration": 5,
    "start_time": "2021-10-02T18:44:05.091Z"
   },
   {
    "duration": 9,
    "start_time": "2021-10-02T18:44:05.098Z"
   },
   {
    "duration": 5,
    "start_time": "2021-10-02T18:44:05.108Z"
   },
   {
    "duration": 5,
    "start_time": "2021-10-02T18:44:05.114Z"
   },
   {
    "duration": 22463,
    "start_time": "2021-10-02T18:44:05.123Z"
   },
   {
    "duration": 94,
    "start_time": "2021-10-02T18:44:27.588Z"
   },
   {
    "duration": 94,
    "start_time": "2021-10-02T18:44:27.684Z"
   },
   {
    "duration": 5,
    "start_time": "2021-10-02T18:44:27.780Z"
   },
   {
    "duration": 6,
    "start_time": "2021-10-02T18:44:27.787Z"
   },
   {
    "duration": 302,
    "start_time": "2021-10-02T18:44:27.794Z"
   },
   {
    "duration": 85,
    "start_time": "2021-10-02T18:44:28.097Z"
   },
   {
    "duration": 381,
    "start_time": "2021-10-02T18:44:28.184Z"
   },
   {
    "duration": 285,
    "start_time": "2021-10-02T18:44:28.566Z"
   },
   {
    "duration": 4,
    "start_time": "2021-10-02T18:44:28.853Z"
   },
   {
    "duration": 28,
    "start_time": "2021-10-02T18:44:28.858Z"
   },
   {
    "duration": 6,
    "start_time": "2021-10-02T18:44:28.887Z"
   },
   {
    "duration": 30556,
    "start_time": "2021-10-02T18:44:28.895Z"
   },
   {
    "duration": 123,
    "start_time": "2021-10-02T18:44:59.453Z"
   },
   {
    "duration": 451,
    "start_time": "2021-10-02T18:44:59.579Z"
   },
   {
    "duration": 4,
    "start_time": "2021-10-02T18:45:00.032Z"
   },
   {
    "duration": 17,
    "start_time": "2021-10-02T18:45:00.037Z"
   },
   {
    "duration": 23,
    "start_time": "2021-10-02T18:45:00.056Z"
   },
   {
    "duration": 13337,
    "start_time": "2021-10-02T18:45:00.081Z"
   },
   {
    "duration": 159,
    "start_time": "2021-10-02T18:45:13.420Z"
   },
   {
    "duration": 346,
    "start_time": "2021-10-02T18:45:13.581Z"
   },
   {
    "duration": 196,
    "start_time": "2021-10-02T18:45:13.929Z"
   },
   {
    "duration": 325,
    "start_time": "2021-10-02T18:45:14.127Z"
   },
   {
    "duration": 5,
    "start_time": "2021-10-02T18:45:14.454Z"
   },
   {
    "duration": 23,
    "start_time": "2021-10-02T18:45:14.460Z"
   },
   {
    "duration": 3,
    "start_time": "2021-10-02T18:45:14.485Z"
   },
   {
    "duration": 8,
    "start_time": "2021-10-02T18:45:14.490Z"
   },
   {
    "duration": 189,
    "start_time": "2021-10-02T18:45:14.500Z"
   },
   {
    "duration": 316,
    "start_time": "2021-10-02T18:45:14.690Z"
   },
   {
    "duration": 292,
    "start_time": "2021-10-02T18:45:15.008Z"
   },
   {
    "duration": 3,
    "start_time": "2021-10-02T18:45:15.301Z"
   },
   {
    "duration": 4,
    "start_time": "2021-10-02T18:45:15.306Z"
   },
   {
    "duration": 6,
    "start_time": "2021-10-02T18:45:15.312Z"
   },
   {
    "duration": 10275,
    "start_time": "2021-10-02T18:45:15.320Z"
   },
   {
    "duration": 3,
    "start_time": "2021-10-02T18:45:25.597Z"
   },
   {
    "duration": 5,
    "start_time": "2021-10-02T18:45:25.602Z"
   },
   {
    "duration": 40,
    "start_time": "2021-10-02T18:45:25.609Z"
   },
   {
    "duration": 55,
    "start_time": "2021-10-02T18:45:25.650Z"
   },
   {
    "duration": 3,
    "start_time": "2021-10-02T18:46:42.208Z"
   },
   {
    "duration": 17927,
    "start_time": "2021-10-02T18:46:43.931Z"
   },
   {
    "duration": 4,
    "start_time": "2021-10-02T18:47:18.903Z"
   },
   {
    "duration": 4,
    "start_time": "2021-10-02T18:47:36.929Z"
   },
   {
    "duration": 3,
    "start_time": "2021-10-02T18:47:37.943Z"
   },
   {
    "duration": 17544,
    "start_time": "2021-10-02T18:47:38.784Z"
   },
   {
    "duration": 4,
    "start_time": "2021-10-02T18:48:08.621Z"
   },
   {
    "duration": 3,
    "start_time": "2021-10-02T18:48:19.755Z"
   },
   {
    "duration": 27,
    "start_time": "2021-10-02T18:48:22.309Z"
   },
   {
    "duration": 27,
    "start_time": "2021-10-02T18:48:26.190Z"
   },
   {
    "duration": 4,
    "start_time": "2021-10-02T18:48:42.881Z"
   },
   {
    "duration": 3,
    "start_time": "2021-10-02T18:49:29.480Z"
   },
   {
    "duration": 2,
    "start_time": "2021-10-02T18:49:31.211Z"
   },
   {
    "duration": 3,
    "start_time": "2021-10-02T18:49:39.182Z"
   },
   {
    "duration": 18620,
    "start_time": "2021-10-02T18:49:46.702Z"
   },
   {
    "duration": 4,
    "start_time": "2021-10-02T18:50:10.428Z"
   },
   {
    "duration": 3,
    "start_time": "2021-10-02T18:50:14.389Z"
   },
   {
    "duration": 4,
    "start_time": "2021-10-02T18:50:15.600Z"
   },
   {
    "duration": 27,
    "start_time": "2021-10-02T18:50:17.757Z"
   },
   {
    "duration": 26,
    "start_time": "2021-10-02T18:50:18.258Z"
   },
   {
    "duration": 45997,
    "start_time": "2021-10-02T18:50:47.717Z"
   },
   {
    "duration": 4,
    "start_time": "2021-10-02T18:51:37.685Z"
   },
   {
    "duration": 26,
    "start_time": "2021-10-02T18:51:53.035Z"
   },
   {
    "duration": 34,
    "start_time": "2021-10-02T18:51:56.262Z"
   },
   {
    "duration": 4,
    "start_time": "2021-10-02T18:52:25.129Z"
   },
   {
    "duration": 4,
    "start_time": "2021-10-02T18:52:30.267Z"
   },
   {
    "duration": 93076,
    "start_time": "2021-10-02T18:52:44.059Z"
   },
   {
    "duration": 4,
    "start_time": "2021-10-02T18:54:35.841Z"
   },
   {
    "duration": 28,
    "start_time": "2021-10-02T18:54:45.410Z"
   },
   {
    "duration": 44,
    "start_time": "2021-10-02T18:54:45.912Z"
   },
   {
    "duration": 43,
    "start_time": "2021-10-02T18:54:56.346Z"
   },
   {
    "duration": 5,
    "start_time": "2021-10-02T18:55:25.529Z"
   },
   {
    "duration": 61,
    "start_time": "2021-10-02T18:56:10.933Z"
   },
   {
    "duration": 165701,
    "start_time": "2021-10-02T18:58:27.644Z"
   },
   {
    "duration": 5,
    "start_time": "2021-10-02T19:01:22.251Z"
   },
   {
    "duration": 27,
    "start_time": "2021-10-02T19:01:25.950Z"
   },
   {
    "duration": 39,
    "start_time": "2021-10-02T19:01:26.629Z"
   },
   {
    "duration": 5,
    "start_time": "2021-10-02T19:01:30.298Z"
   },
   {
    "duration": 109310,
    "start_time": "2021-10-02T19:04:54.026Z"
   },
   {
    "duration": 4,
    "start_time": "2021-10-02T19:07:05.119Z"
   },
   {
    "duration": 27,
    "start_time": "2021-10-02T19:07:05.865Z"
   },
   {
    "duration": 29,
    "start_time": "2021-10-02T19:07:06.363Z"
   },
   {
    "duration": 4,
    "start_time": "2021-10-02T19:07:19.233Z"
   },
   {
    "duration": 23066,
    "start_time": "2021-10-02T19:07:44.136Z"
   },
   {
    "duration": 4,
    "start_time": "2021-10-02T19:08:11.016Z"
   },
   {
    "duration": 21,
    "start_time": "2021-10-02T19:08:14.244Z"
   },
   {
    "duration": 4,
    "start_time": "2021-10-02T19:08:19.679Z"
   },
   {
    "duration": 40395,
    "start_time": "2021-10-02T19:09:08.868Z"
   },
   {
    "duration": 52,
    "start_time": "2021-10-02T19:10:09.244Z"
   },
   {
    "duration": 435,
    "start_time": "2021-10-02T19:10:22.109Z"
   },
   {
    "duration": 56,
    "start_time": "2021-10-02T19:10:52.419Z"
   },
   {
    "duration": 64,
    "start_time": "2021-10-02T19:11:08.068Z"
   },
   {
    "duration": 65,
    "start_time": "2021-10-02T19:12:03.874Z"
   },
   {
    "duration": 97,
    "start_time": "2021-10-02T19:12:29.045Z"
   },
   {
    "duration": 99,
    "start_time": "2021-10-02T19:13:13.893Z"
   },
   {
    "duration": 21925,
    "start_time": "2021-10-02T19:13:58.948Z"
   },
   {
    "duration": 59,
    "start_time": "2021-10-02T19:14:58.968Z"
   },
   {
    "duration": 64,
    "start_time": "2021-10-02T19:15:04.193Z"
   },
   {
    "duration": 62,
    "start_time": "2021-10-02T19:15:19.844Z"
   },
   {
    "duration": 4,
    "start_time": "2021-10-02T19:15:32.164Z"
   },
   {
    "duration": 5,
    "start_time": "2021-10-02T19:15:40.488Z"
   },
   {
    "duration": 3,
    "start_time": "2021-10-02T19:21:01.484Z"
   },
   {
    "duration": 370,
    "start_time": "2021-10-02T19:22:01.265Z"
   },
   {
    "duration": 4,
    "start_time": "2021-10-02T19:22:30.397Z"
   },
   {
    "duration": 655,
    "start_time": "2021-10-02T19:24:09.048Z"
   },
   {
    "duration": 8108,
    "start_time": "2021-10-02T19:25:53.617Z"
   },
   {
    "duration": 71,
    "start_time": "2021-10-02T19:26:08.267Z"
   },
   {
    "duration": 16603,
    "start_time": "2021-10-02T19:26:39.897Z"
   },
   {
    "duration": 58,
    "start_time": "2021-10-02T19:27:05.378Z"
   },
   {
    "duration": 5397,
    "start_time": "2021-10-02T19:27:34.793Z"
   },
   {
    "duration": 53,
    "start_time": "2021-10-02T19:27:45.391Z"
   },
   {
    "duration": 59,
    "start_time": "2021-10-02T19:27:55.684Z"
   },
   {
    "duration": 21045,
    "start_time": "2021-10-02T19:28:16.833Z"
   },
   {
    "duration": 70,
    "start_time": "2021-10-02T19:29:10.060Z"
   },
   {
    "duration": 5,
    "start_time": "2021-10-02T19:29:18.478Z"
   },
   {
    "duration": 5,
    "start_time": "2021-10-02T19:29:23.011Z"
   },
   {
    "duration": 46,
    "start_time": "2021-10-02T19:29:31.758Z"
   },
   {
    "duration": 407,
    "start_time": "2021-10-02T19:31:01.860Z"
   },
   {
    "duration": 30847,
    "start_time": "2021-10-02T19:33:00.048Z"
   },
   {
    "duration": 45,
    "start_time": "2021-10-02T19:33:56.241Z"
   },
   {
    "duration": 4,
    "start_time": "2021-10-02T19:34:09.028Z"
   },
   {
    "duration": 71,
    "start_time": "2021-10-02T19:34:25.707Z"
   },
   {
    "duration": 13691,
    "start_time": "2021-10-02T19:35:12.878Z"
   },
   {
    "duration": 18615,
    "start_time": "2021-10-02T19:35:28.500Z"
   },
   {
    "duration": 4,
    "start_time": "2021-10-02T19:35:50.735Z"
   },
   {
    "duration": 302,
    "start_time": "2021-10-02T19:36:08.586Z"
   },
   {
    "duration": 479,
    "start_time": "2021-10-02T19:37:06.557Z"
   },
   {
    "duration": 4,
    "start_time": "2021-10-02T19:37:15.741Z"
   },
   {
    "duration": 119,
    "start_time": "2021-10-02T19:39:00.825Z"
   },
   {
    "duration": 323,
    "start_time": "2021-10-02T19:39:08.165Z"
   },
   {
    "duration": 4,
    "start_time": "2021-10-02T19:39:28.595Z"
   },
   {
    "duration": 727,
    "start_time": "2021-10-02T19:39:40.009Z"
   },
   {
    "duration": 4,
    "start_time": "2021-10-02T19:39:50.098Z"
   },
   {
    "duration": 4,
    "start_time": "2021-10-02T19:40:09.086Z"
   },
   {
    "duration": 12389,
    "start_time": "2021-10-02T19:43:36.134Z"
   },
   {
    "duration": 12427,
    "start_time": "2021-10-02T19:44:26.851Z"
   },
   {
    "duration": 304,
    "start_time": "2021-10-02T19:45:09.007Z"
   },
   {
    "duration": 180,
    "start_time": "2021-10-02T19:46:06.365Z"
   },
   {
    "duration": 343,
    "start_time": "2021-10-02T19:46:13.326Z"
   },
   {
    "duration": 13,
    "start_time": "2021-10-02T19:46:24.690Z"
   },
   {
    "duration": 6,
    "start_time": "2021-10-02T19:46:26.838Z"
   },
   {
    "duration": 15534,
    "start_time": "2021-10-02T19:47:27.508Z"
   },
   {
    "duration": 89,
    "start_time": "2021-10-02T19:47:54.791Z"
   },
   {
    "duration": 315,
    "start_time": "2021-10-02T19:48:29.506Z"
   },
   {
    "duration": 10510,
    "start_time": "2021-10-02T19:49:06.751Z"
   },
   {
    "duration": 295,
    "start_time": "2021-10-02T19:49:37.462Z"
   },
   {
    "duration": 27259,
    "start_time": "2021-10-02T19:50:05.305Z"
   },
   {
    "duration": 58,
    "start_time": "2021-10-02T19:50:54.487Z"
   },
   {
    "duration": 75,
    "start_time": "2021-10-02T19:51:01.684Z"
   },
   {
    "duration": 117,
    "start_time": "2021-10-02T19:51:16.571Z"
   },
   {
    "duration": 112,
    "start_time": "2021-10-02T19:51:45.425Z"
   },
   {
    "duration": 166,
    "start_time": "2021-10-02T20:01:48.246Z"
   },
   {
    "duration": 271,
    "start_time": "2021-10-02T20:01:55.561Z"
   },
   {
    "duration": 5,
    "start_time": "2021-10-02T20:02:05.169Z"
   },
   {
    "duration": 15,
    "start_time": "2021-10-02T20:02:06.753Z"
   },
   {
    "duration": 4,
    "start_time": "2021-10-02T20:02:07.370Z"
   },
   {
    "duration": 7,
    "start_time": "2021-10-02T20:02:08.148Z"
   },
   {
    "duration": 165,
    "start_time": "2021-10-02T20:02:11.468Z"
   },
   {
    "duration": 273,
    "start_time": "2021-10-02T20:02:15.589Z"
   },
   {
    "duration": 368,
    "start_time": "2021-10-02T20:02:19.936Z"
   },
   {
    "duration": 6,
    "start_time": "2021-10-02T20:02:27.951Z"
   },
   {
    "duration": 7,
    "start_time": "2021-10-02T20:02:37.092Z"
   },
   {
    "duration": 360,
    "start_time": "2021-10-02T20:04:09.123Z"
   },
   {
    "duration": 4,
    "start_time": "2021-10-02T20:04:39.652Z"
   },
   {
    "duration": 5,
    "start_time": "2021-10-02T20:04:47.135Z"
   },
   {
    "duration": 356,
    "start_time": "2021-10-02T20:05:04.721Z"
   },
   {
    "duration": 372,
    "start_time": "2021-10-02T20:07:06.803Z"
   },
   {
    "duration": 818,
    "start_time": "2021-10-02T20:07:26.426Z"
   },
   {
    "duration": 7,
    "start_time": "2021-10-02T20:07:49.875Z"
   },
   {
    "duration": 7,
    "start_time": "2021-10-02T20:07:53.247Z"
   },
   {
    "duration": 7,
    "start_time": "2021-10-02T20:08:00.049Z"
   },
   {
    "duration": 346,
    "start_time": "2021-10-02T20:08:07.923Z"
   },
   {
    "duration": 4,
    "start_time": "2021-10-02T20:09:11.104Z"
   },
   {
    "duration": 105,
    "start_time": "2021-10-02T20:09:22.109Z"
   },
   {
    "duration": 4,
    "start_time": "2021-10-02T20:10:57.465Z"
   },
   {
    "duration": 9,
    "start_time": "2021-10-02T20:10:58.932Z"
   },
   {
    "duration": 8,
    "start_time": "2021-10-02T20:12:30.833Z"
   },
   {
    "duration": 3,
    "start_time": "2021-10-02T20:12:41.637Z"
   },
   {
    "duration": 6,
    "start_time": "2021-10-02T20:12:46.841Z"
   },
   {
    "duration": 7,
    "start_time": "2021-10-02T20:13:09.304Z"
   },
   {
    "duration": 4,
    "start_time": "2021-10-02T20:13:09.774Z"
   },
   {
    "duration": 8,
    "start_time": "2021-10-02T20:13:10.723Z"
   },
   {
    "duration": 374,
    "start_time": "2021-10-02T20:13:40.517Z"
   },
   {
    "duration": 351,
    "start_time": "2021-10-02T20:14:24.176Z"
   },
   {
    "duration": 5,
    "start_time": "2021-10-02T20:14:47.242Z"
   },
   {
    "duration": 325,
    "start_time": "2021-10-02T20:14:48.211Z"
   },
   {
    "duration": 5,
    "start_time": "2021-10-02T20:14:57.327Z"
   },
   {
    "duration": 319,
    "start_time": "2021-10-02T20:14:57.783Z"
   },
   {
    "duration": 5,
    "start_time": "2021-10-02T20:15:03.054Z"
   },
   {
    "duration": 317,
    "start_time": "2021-10-02T20:15:04.321Z"
   },
   {
    "duration": 352,
    "start_time": "2021-10-02T20:15:30.657Z"
   },
   {
    "duration": 438,
    "start_time": "2021-10-02T20:18:14.771Z"
   },
   {
    "duration": 439,
    "start_time": "2021-10-02T20:18:29.602Z"
   },
   {
    "duration": 433,
    "start_time": "2021-10-02T20:18:37.381Z"
   },
   {
    "duration": 1216,
    "start_time": "2021-10-02T20:24:32.105Z"
   },
   {
    "duration": 35,
    "start_time": "2021-10-02T20:24:33.323Z"
   },
   {
    "duration": 16,
    "start_time": "2021-10-02T20:24:33.360Z"
   },
   {
    "duration": 11,
    "start_time": "2021-10-02T20:24:33.378Z"
   },
   {
    "duration": 7,
    "start_time": "2021-10-02T20:24:33.391Z"
   },
   {
    "duration": 7,
    "start_time": "2021-10-02T20:24:33.399Z"
   },
   {
    "duration": 6,
    "start_time": "2021-10-02T20:24:33.407Z"
   },
   {
    "duration": 18,
    "start_time": "2021-10-02T20:24:33.415Z"
   },
   {
    "duration": 10,
    "start_time": "2021-10-02T20:24:33.435Z"
   },
   {
    "duration": 33,
    "start_time": "2021-10-02T20:24:33.446Z"
   },
   {
    "duration": 18,
    "start_time": "2021-10-02T20:24:33.480Z"
   },
   {
    "duration": 10,
    "start_time": "2021-10-02T20:24:33.500Z"
   },
   {
    "duration": 8,
    "start_time": "2021-10-02T20:24:33.511Z"
   },
   {
    "duration": 76,
    "start_time": "2021-10-02T20:24:33.520Z"
   },
   {
    "duration": 3,
    "start_time": "2021-10-02T20:24:33.597Z"
   },
   {
    "duration": 8,
    "start_time": "2021-10-02T20:24:33.602Z"
   },
   {
    "duration": 22747,
    "start_time": "2021-10-02T20:24:33.612Z"
   },
   {
    "duration": 35,
    "start_time": "2021-10-02T20:24:56.361Z"
   },
   {
    "duration": 88,
    "start_time": "2021-10-02T20:24:56.397Z"
   },
   {
    "duration": 6,
    "start_time": "2021-10-02T20:24:56.577Z"
   },
   {
    "duration": 310,
    "start_time": "2021-10-02T20:24:56.585Z"
   },
   {
    "duration": 82,
    "start_time": "2021-10-02T20:24:56.897Z"
   },
   {
    "duration": 384,
    "start_time": "2021-10-02T20:24:56.985Z"
   },
   {
    "duration": 285,
    "start_time": "2021-10-02T20:24:57.376Z"
   },
   {
    "duration": 14,
    "start_time": "2021-10-02T20:24:57.663Z"
   },
   {
    "duration": 20,
    "start_time": "2021-10-02T20:24:57.678Z"
   },
   {
    "duration": 5,
    "start_time": "2021-10-02T20:24:57.700Z"
   },
   {
    "duration": 30176,
    "start_time": "2021-10-02T20:24:57.707Z"
   },
   {
    "duration": 100,
    "start_time": "2021-10-02T20:25:27.885Z"
   },
   {
    "duration": 369,
    "start_time": "2021-10-02T20:25:28.076Z"
   },
   {
    "duration": 5,
    "start_time": "2021-10-02T20:25:28.476Z"
   },
   {
    "duration": 22,
    "start_time": "2021-10-02T20:25:28.482Z"
   },
   {
    "duration": 18,
    "start_time": "2021-10-02T20:25:28.506Z"
   },
   {
    "duration": 12687,
    "start_time": "2021-10-02T20:25:28.526Z"
   },
   {
    "duration": 66,
    "start_time": "2021-10-02T20:25:41.215Z"
   },
   {
    "duration": 401,
    "start_time": "2021-10-02T20:25:41.284Z"
   },
   {
    "duration": 166,
    "start_time": "2021-10-02T20:25:41.687Z"
   },
   {
    "duration": 271,
    "start_time": "2021-10-02T20:25:41.855Z"
   },
   {
    "duration": 4,
    "start_time": "2021-10-02T20:25:42.127Z"
   },
   {
    "duration": 14,
    "start_time": "2021-10-02T20:25:42.133Z"
   },
   {
    "duration": 4,
    "start_time": "2021-10-02T20:25:42.149Z"
   },
   {
    "duration": 27,
    "start_time": "2021-10-02T20:25:42.154Z"
   },
   {
    "duration": 166,
    "start_time": "2021-10-02T20:25:42.182Z"
   },
   {
    "duration": 284,
    "start_time": "2021-10-02T20:25:42.350Z"
   },
   {
    "duration": 402,
    "start_time": "2021-10-02T20:25:42.636Z"
   },
   {
    "duration": 7,
    "start_time": "2021-10-02T20:25:43.039Z"
   },
   {
    "duration": 473,
    "start_time": "2021-10-02T20:25:43.048Z"
   },
   {
    "duration": 9,
    "start_time": "2021-10-02T20:30:00.839Z"
   },
   {
    "duration": 9,
    "start_time": "2021-10-02T20:30:54.434Z"
   },
   {
    "duration": 8,
    "start_time": "2021-10-02T20:31:11.989Z"
   },
   {
    "duration": 8,
    "start_time": "2021-10-02T20:31:13.271Z"
   },
   {
    "duration": 6,
    "start_time": "2021-10-02T20:31:54.472Z"
   },
   {
    "duration": 8,
    "start_time": "2021-10-02T20:31:55.106Z"
   },
   {
    "duration": 4,
    "start_time": "2021-10-02T20:33:36.838Z"
   },
   {
    "duration": 3,
    "start_time": "2021-10-02T21:08:06.373Z"
   },
   {
    "duration": 3,
    "start_time": "2021-10-02T21:08:24.367Z"
   },
   {
    "duration": 1335,
    "start_time": "2021-10-02T21:15:42.989Z"
   },
   {
    "duration": 35,
    "start_time": "2021-10-02T21:15:44.327Z"
   },
   {
    "duration": 15,
    "start_time": "2021-10-02T21:15:44.364Z"
   },
   {
    "duration": 11,
    "start_time": "2021-10-02T21:15:44.381Z"
   },
   {
    "duration": 8,
    "start_time": "2021-10-02T21:15:44.394Z"
   },
   {
    "duration": 4,
    "start_time": "2021-10-02T21:15:44.404Z"
   },
   {
    "duration": 6,
    "start_time": "2021-10-02T21:15:44.410Z"
   },
   {
    "duration": 13,
    "start_time": "2021-10-02T21:15:44.419Z"
   },
   {
    "duration": 11,
    "start_time": "2021-10-02T21:15:44.434Z"
   },
   {
    "duration": 3,
    "start_time": "2021-10-02T21:15:44.447Z"
   },
   {
    "duration": 26,
    "start_time": "2021-10-02T21:15:44.451Z"
   },
   {
    "duration": 10,
    "start_time": "2021-10-02T21:15:44.478Z"
   },
   {
    "duration": 9,
    "start_time": "2021-10-02T21:15:44.490Z"
   },
   {
    "duration": 85,
    "start_time": "2021-10-02T21:15:44.501Z"
   },
   {
    "duration": 3,
    "start_time": "2021-10-02T21:15:44.588Z"
   },
   {
    "duration": 10,
    "start_time": "2021-10-02T21:15:44.593Z"
   },
   {
    "duration": 22002,
    "start_time": "2021-10-02T21:15:44.605Z"
   },
   {
    "duration": 72,
    "start_time": "2021-10-02T21:16:06.609Z"
   },
   {
    "duration": 94,
    "start_time": "2021-10-02T21:16:06.683Z"
   },
   {
    "duration": 7,
    "start_time": "2021-10-02T21:16:06.779Z"
   },
   {
    "duration": 302,
    "start_time": "2021-10-02T21:16:06.788Z"
   },
   {
    "duration": 85,
    "start_time": "2021-10-02T21:16:07.093Z"
   },
   {
    "duration": 464,
    "start_time": "2021-10-02T21:16:07.183Z"
   },
   {
    "duration": 295,
    "start_time": "2021-10-02T21:16:07.649Z"
   },
   {
    "duration": 4,
    "start_time": "2021-10-02T21:16:07.946Z"
   },
   {
    "duration": 31,
    "start_time": "2021-10-02T21:16:07.952Z"
   },
   {
    "duration": 8,
    "start_time": "2021-10-02T21:16:07.985Z"
   },
   {
    "duration": 33052,
    "start_time": "2021-10-02T21:16:07.995Z"
   },
   {
    "duration": 51,
    "start_time": "2021-10-02T21:16:41.049Z"
   },
   {
    "duration": 550,
    "start_time": "2021-10-02T21:16:41.102Z"
   },
   {
    "duration": 5,
    "start_time": "2021-10-02T21:16:41.653Z"
   },
   {
    "duration": 26,
    "start_time": "2021-10-02T21:16:41.659Z"
   },
   {
    "duration": 6,
    "start_time": "2021-10-02T21:16:41.687Z"
   },
   {
    "duration": 12968,
    "start_time": "2021-10-02T21:16:41.695Z"
   },
   {
    "duration": 112,
    "start_time": "2021-10-02T21:16:54.665Z"
   },
   {
    "duration": 378,
    "start_time": "2021-10-02T21:16:54.779Z"
   },
   {
    "duration": 184,
    "start_time": "2021-10-02T21:16:55.158Z"
   },
   {
    "duration": 278,
    "start_time": "2021-10-02T21:16:55.344Z"
   },
   {
    "duration": 4,
    "start_time": "2021-10-02T21:16:55.624Z"
   },
   {
    "duration": 14,
    "start_time": "2021-10-02T21:16:55.630Z"
   },
   {
    "duration": 11,
    "start_time": "2021-10-02T21:16:55.646Z"
   },
   {
    "duration": 22,
    "start_time": "2021-10-02T21:16:55.659Z"
   },
   {
    "duration": 178,
    "start_time": "2021-10-02T21:16:55.683Z"
   },
   {
    "duration": 283,
    "start_time": "2021-10-02T21:16:55.863Z"
   },
   {
    "duration": 343,
    "start_time": "2021-10-02T21:16:56.148Z"
   },
   {
    "duration": 7,
    "start_time": "2021-10-02T21:16:56.493Z"
   },
   {
    "duration": 7,
    "start_time": "2021-10-02T21:16:56.502Z"
   },
   {
    "duration": 447,
    "start_time": "2021-10-02T21:16:56.511Z"
   },
   {
    "duration": 4,
    "start_time": "2021-10-02T21:17:39.929Z"
   },
   {
    "duration": 448,
    "start_time": "2021-10-02T21:18:01.040Z"
   },
   {
    "duration": 348,
    "start_time": "2021-10-02T21:19:00.498Z"
   },
   {
    "duration": 8,
    "start_time": "2021-10-02T21:19:20.156Z"
   },
   {
    "duration": 2856,
    "start_time": "2021-10-02T21:19:28.213Z"
   },
   {
    "duration": 343,
    "start_time": "2021-10-02T21:19:45.751Z"
   },
   {
    "duration": 348,
    "start_time": "2021-10-02T21:20:09.307Z"
   },
   {
    "duration": 10,
    "start_time": "2021-10-02T21:20:14.642Z"
   },
   {
    "duration": 5,
    "start_time": "2021-10-02T21:23:46.494Z"
   },
   {
    "duration": 396,
    "start_time": "2021-10-02T21:24:01.626Z"
   },
   {
    "duration": 4,
    "start_time": "2021-10-02T21:24:09.933Z"
   },
   {
    "duration": 5,
    "start_time": "2021-10-02T21:24:16.404Z"
   },
   {
    "duration": 4,
    "start_time": "2021-10-02T21:24:24.560Z"
   },
   {
    "duration": 5,
    "start_time": "2021-10-02T21:24:41.071Z"
   },
   {
    "duration": 10,
    "start_time": "2021-10-02T21:25:18.153Z"
   },
   {
    "duration": 4,
    "start_time": "2021-10-02T21:26:18.453Z"
   },
   {
    "duration": 7,
    "start_time": "2021-10-02T21:26:28.106Z"
   },
   {
    "duration": 246,
    "start_time": "2021-10-02T21:27:10.049Z"
   },
   {
    "duration": 194,
    "start_time": "2021-10-02T21:27:19.004Z"
   },
   {
    "duration": 1222,
    "start_time": "2021-10-02T21:29:48.339Z"
   },
   {
    "duration": 34,
    "start_time": "2021-10-02T21:29:49.563Z"
   },
   {
    "duration": 14,
    "start_time": "2021-10-02T21:29:49.599Z"
   },
   {
    "duration": 11,
    "start_time": "2021-10-02T21:29:49.615Z"
   },
   {
    "duration": 6,
    "start_time": "2021-10-02T21:29:49.628Z"
   },
   {
    "duration": 4,
    "start_time": "2021-10-02T21:29:49.636Z"
   },
   {
    "duration": 5,
    "start_time": "2021-10-02T21:29:49.641Z"
   },
   {
    "duration": 38,
    "start_time": "2021-10-02T21:29:49.649Z"
   },
   {
    "duration": 10,
    "start_time": "2021-10-02T21:29:49.689Z"
   },
   {
    "duration": 4,
    "start_time": "2021-10-02T21:29:49.700Z"
   },
   {
    "duration": 18,
    "start_time": "2021-10-02T21:29:49.705Z"
   },
   {
    "duration": 10,
    "start_time": "2021-10-02T21:29:49.724Z"
   },
   {
    "duration": 8,
    "start_time": "2021-10-02T21:29:49.735Z"
   },
   {
    "duration": 48,
    "start_time": "2021-10-02T21:29:49.777Z"
   },
   {
    "duration": 3,
    "start_time": "2021-10-02T21:29:49.827Z"
   },
   {
    "duration": 8,
    "start_time": "2021-10-02T21:29:49.831Z"
   },
   {
    "duration": 21655,
    "start_time": "2021-10-02T21:29:49.841Z"
   },
   {
    "duration": 84,
    "start_time": "2021-10-02T21:30:11.498Z"
   },
   {
    "duration": 94,
    "start_time": "2021-10-02T21:30:11.585Z"
   },
   {
    "duration": 9,
    "start_time": "2021-10-02T21:30:11.681Z"
   },
   {
    "duration": 305,
    "start_time": "2021-10-02T21:30:11.692Z"
   },
   {
    "duration": 81,
    "start_time": "2021-10-02T21:30:11.999Z"
   },
   {
    "duration": 402,
    "start_time": "2021-10-02T21:30:12.086Z"
   },
   {
    "duration": 285,
    "start_time": "2021-10-02T21:30:12.491Z"
   },
   {
    "duration": 5,
    "start_time": "2021-10-02T21:30:12.778Z"
   },
   {
    "duration": 16,
    "start_time": "2021-10-02T21:30:12.785Z"
   },
   {
    "duration": 7,
    "start_time": "2021-10-02T21:30:12.803Z"
   },
   {
    "duration": 30185,
    "start_time": "2021-10-02T21:30:12.812Z"
   },
   {
    "duration": 80,
    "start_time": "2021-10-02T21:30:42.998Z"
   },
   {
    "duration": 453,
    "start_time": "2021-10-02T21:30:43.081Z"
   },
   {
    "duration": 5,
    "start_time": "2021-10-02T21:30:43.536Z"
   },
   {
    "duration": 14,
    "start_time": "2021-10-02T21:30:43.543Z"
   },
   {
    "duration": 7,
    "start_time": "2021-10-02T21:30:43.577Z"
   },
   {
    "duration": 13590,
    "start_time": "2021-10-02T21:30:43.586Z"
   },
   {
    "duration": 22,
    "start_time": "2021-10-02T21:30:57.178Z"
   },
   {
    "duration": 398,
    "start_time": "2021-10-02T21:30:57.279Z"
   },
   {
    "duration": 171,
    "start_time": "2021-10-02T21:30:57.679Z"
   },
   {
    "duration": 273,
    "start_time": "2021-10-02T21:30:57.852Z"
   },
   {
    "duration": 4,
    "start_time": "2021-10-02T21:30:58.127Z"
   },
   {
    "duration": 23,
    "start_time": "2021-10-02T21:30:58.133Z"
   },
   {
    "duration": 11,
    "start_time": "2021-10-02T21:30:58.157Z"
   },
   {
    "duration": 10,
    "start_time": "2021-10-02T21:30:58.170Z"
   },
   {
    "duration": 178,
    "start_time": "2021-10-02T21:30:58.182Z"
   },
   {
    "duration": 281,
    "start_time": "2021-10-02T21:30:58.362Z"
   },
   {
    "duration": 310,
    "start_time": "2021-10-02T21:30:58.644Z"
   },
   {
    "duration": 4,
    "start_time": "2021-10-02T21:30:58.956Z"
   },
   {
    "duration": 7,
    "start_time": "2021-10-02T21:30:58.977Z"
   },
   {
    "duration": 236,
    "start_time": "2021-10-02T21:30:58.986Z"
   },
   {
    "duration": 7,
    "start_time": "2021-10-02T21:30:59.223Z"
   },
   {
    "duration": 7,
    "start_time": "2021-10-02T21:30:59.232Z"
   },
   {
    "duration": 437,
    "start_time": "2021-10-02T21:30:59.241Z"
   },
   {
    "duration": 218,
    "start_time": "2021-10-02T21:34:57.576Z"
   },
   {
    "duration": 206,
    "start_time": "2021-10-02T21:35:06.053Z"
   },
   {
    "duration": 193,
    "start_time": "2021-10-02T21:35:12.925Z"
   },
   {
    "duration": 443,
    "start_time": "2021-10-02T21:36:23.815Z"
   },
   {
    "duration": 4,
    "start_time": "2021-10-02T21:36:31.916Z"
   },
   {
    "duration": 274,
    "start_time": "2021-10-02T21:36:32.376Z"
   },
   {
    "duration": 4,
    "start_time": "2021-10-02T21:36:44.721Z"
   },
   {
    "duration": 193,
    "start_time": "2021-10-02T21:36:45.053Z"
   },
   {
    "duration": 1210,
    "start_time": "2021-10-02T21:36:56.555Z"
   },
   {
    "duration": 35,
    "start_time": "2021-10-02T21:36:57.766Z"
   },
   {
    "duration": 15,
    "start_time": "2021-10-02T21:36:57.803Z"
   },
   {
    "duration": 12,
    "start_time": "2021-10-02T21:36:57.820Z"
   },
   {
    "duration": 7,
    "start_time": "2021-10-02T21:36:57.834Z"
   },
   {
    "duration": 4,
    "start_time": "2021-10-02T21:36:57.842Z"
   },
   {
    "duration": 31,
    "start_time": "2021-10-02T21:36:57.848Z"
   },
   {
    "duration": 15,
    "start_time": "2021-10-02T21:36:57.881Z"
   },
   {
    "duration": 11,
    "start_time": "2021-10-02T21:36:57.898Z"
   },
   {
    "duration": 3,
    "start_time": "2021-10-02T21:36:57.911Z"
   },
   {
    "duration": 18,
    "start_time": "2021-10-02T21:36:57.916Z"
   },
   {
    "duration": 43,
    "start_time": "2021-10-02T21:36:57.936Z"
   },
   {
    "duration": 8,
    "start_time": "2021-10-02T21:36:57.981Z"
   },
   {
    "duration": 48,
    "start_time": "2021-10-02T21:36:57.991Z"
   },
   {
    "duration": 3,
    "start_time": "2021-10-02T21:36:58.041Z"
   },
   {
    "duration": 9,
    "start_time": "2021-10-02T21:36:58.045Z"
   },
   {
    "duration": 22162,
    "start_time": "2021-10-02T21:36:58.077Z"
   },
   {
    "duration": 44,
    "start_time": "2021-10-02T21:37:20.241Z"
   },
   {
    "duration": 95,
    "start_time": "2021-10-02T21:37:20.287Z"
   },
   {
    "duration": 96,
    "start_time": "2021-10-02T21:37:20.385Z"
   },
   {
    "duration": 274,
    "start_time": "2021-10-02T21:37:20.483Z"
   },
   {
    "duration": 101,
    "start_time": "2021-10-02T21:37:20.776Z"
   },
   {
    "duration": 394,
    "start_time": "2021-10-02T21:37:20.882Z"
   },
   {
    "duration": 270,
    "start_time": "2021-10-02T21:37:21.279Z"
   },
   {
    "duration": 4,
    "start_time": "2021-10-02T21:37:21.551Z"
   },
   {
    "duration": 25,
    "start_time": "2021-10-02T21:37:21.558Z"
   },
   {
    "duration": 7,
    "start_time": "2021-10-02T21:37:21.585Z"
   },
   {
    "duration": 30422,
    "start_time": "2021-10-02T21:37:21.593Z"
   },
   {
    "duration": 68,
    "start_time": "2021-10-02T21:37:52.017Z"
   },
   {
    "duration": 447,
    "start_time": "2021-10-02T21:37:52.178Z"
   },
   {
    "duration": 4,
    "start_time": "2021-10-02T21:37:52.627Z"
   },
   {
    "duration": 18,
    "start_time": "2021-10-02T21:37:52.633Z"
   },
   {
    "duration": 6,
    "start_time": "2021-10-02T21:37:52.652Z"
   },
   {
    "duration": 12708,
    "start_time": "2021-10-02T21:37:52.659Z"
   },
   {
    "duration": 100,
    "start_time": "2021-10-02T21:38:05.377Z"
   },
   {
    "duration": 387,
    "start_time": "2021-10-02T21:38:05.480Z"
   },
   {
    "duration": 166,
    "start_time": "2021-10-02T21:38:05.877Z"
   },
   {
    "duration": 281,
    "start_time": "2021-10-02T21:38:06.045Z"
   },
   {
    "duration": 5,
    "start_time": "2021-10-02T21:38:06.328Z"
   },
   {
    "duration": 25,
    "start_time": "2021-10-02T21:38:06.335Z"
   },
   {
    "duration": 3,
    "start_time": "2021-10-02T21:38:06.362Z"
   },
   {
    "duration": 22,
    "start_time": "2021-10-02T21:38:06.367Z"
   },
   {
    "duration": 174,
    "start_time": "2021-10-02T21:38:06.390Z"
   },
   {
    "duration": 274,
    "start_time": "2021-10-02T21:38:06.566Z"
   },
   {
    "duration": 308,
    "start_time": "2021-10-02T21:38:06.842Z"
   },
   {
    "duration": 4,
    "start_time": "2021-10-02T21:38:07.152Z"
   },
   {
    "duration": 25,
    "start_time": "2021-10-02T21:38:07.157Z"
   },
   {
    "duration": 222,
    "start_time": "2021-10-02T21:38:07.184Z"
   },
   {
    "duration": 8,
    "start_time": "2021-10-02T21:38:07.408Z"
   },
   {
    "duration": 18,
    "start_time": "2021-10-02T21:38:07.417Z"
   },
   {
    "duration": 442,
    "start_time": "2021-10-02T21:38:07.436Z"
   }
  ],
  "kernelspec": {
   "display_name": "Python 3",
   "language": "python",
   "name": "python3"
  },
  "language_info": {
   "codemirror_mode": {
    "name": "ipython",
    "version": 3
   },
   "file_extension": ".py",
   "mimetype": "text/x-python",
   "name": "python",
   "nbconvert_exporter": "python",
   "pygments_lexer": "ipython3",
   "version": "3.8.8"
  },
  "toc": {
   "base_numbering": 1,
   "nav_menu": {},
   "number_sections": true,
   "sideBar": true,
   "skip_h1_title": true,
   "title_cell": "Содержание",
   "title_sidebar": "Contents",
   "toc_cell": true,
   "toc_position": {},
   "toc_section_display": true,
   "toc_window_display": false
  }
 },
 "nbformat": 4,
 "nbformat_minor": 2
}
