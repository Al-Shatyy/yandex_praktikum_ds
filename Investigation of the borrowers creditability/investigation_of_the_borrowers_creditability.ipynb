{
 "cells": [
  {
   "cell_type": "markdown",
   "metadata": {},
   "source": [
    "# Исследование надёжности заёмщиков\n",
    "\n",
    "Заказчик — кредитный отдел банка. Нужно разобраться, влияет ли семейное положение и количество детей клиента на факт погашения кредита в срок. Входные данные от банка — статистика о платёжеспособности клиентов.\n",
    "\n",
    "Результаты исследования будут учтены при построении модели **кредитного скоринга** — специальной системы, которая оценивает способность потенциального заёмщика вернуть кредит банку.\n",
    "\n",
    "**Описание данных:**\n",
    "\n",
    "<table align='left'>\n",
    "    <tr><td><i>children</i></td><td>количество детей в семье</td></tr>\n",
    "    <tr><td><i>days_employed</i></td><td>общий трудовой стаж в днях</td></tr>\n",
    "    <tr><td><i>dob_years</i></td><td>возраст клиента в годах</td></tr>\n",
    "    <tr><td><i>education</i></td><td>уровень образования клиента</td></tr>\n",
    "    <tr><td><i>education_id</i></td><td>идентификатор уровня образования</td></tr>\n",
    "    <tr><td><i>family_status</i></td><td>семейное положение</td></tr>\n",
    "    <tr><td><i>family_status_id</i></td><td>идентификатор семейного положения</td></tr>\n",
    "    <tr><td><i>gender</i></td><td>пол клиента</td></tr>\n",
    "    <tr><td><i>income_type</i></td><td>тип занятости</td></tr>\n",
    "    <tr><td><i>debt</i></td><td>имел ли задолженность по возврату кредитов</td></tr>\n",
    "    <tr><td><i>total_income</i></td><td>ежемесячный доход</td></tr>\n",
    "    <tr><td><i>purpose</i></td><td>цель получения кредита</td></tr>\n",
    "</table>"
   ]
  },
  {
   "cell_type": "markdown",
   "metadata": {},
   "source": [
    "## Загрузка данных\n",
    "\n",
    "Импортируем библиотеку pandas и сохраним CSV-файл в переменную *data*."
   ]
  },
  {
   "cell_type": "code",
   "execution_count": 52,
   "metadata": {},
   "outputs": [],
   "source": [
    "import pandas as pd\n",
    "import matplotlib.pyplot as plt\n",
    "from pymystem3 import Mystem\n",
    "from collections import Counter"
   ]
  },
  {
   "cell_type": "code",
   "execution_count": 53,
   "metadata": {
    "scrolled": false
   },
   "outputs": [],
   "source": [
    "data = pd.read_csv('datasets/data.csv')"
   ]
  },
  {
   "cell_type": "markdown",
   "metadata": {},
   "source": [
    "Проверим корректность загрузки данных и изучим общую информацию о таблице. "
   ]
  },
  {
   "cell_type": "code",
   "execution_count": 54,
   "metadata": {},
   "outputs": [
    {
     "data": {
      "text/html": [
       "<div>\n",
       "<style scoped>\n",
       "    .dataframe tbody tr th:only-of-type {\n",
       "        vertical-align: middle;\n",
       "    }\n",
       "\n",
       "    .dataframe tbody tr th {\n",
       "        vertical-align: top;\n",
       "    }\n",
       "\n",
       "    .dataframe thead th {\n",
       "        text-align: right;\n",
       "    }\n",
       "</style>\n",
       "<table border=\"1\" class=\"dataframe\">\n",
       "  <thead>\n",
       "    <tr style=\"text-align: right;\">\n",
       "      <th></th>\n",
       "      <th>children</th>\n",
       "      <th>days_employed</th>\n",
       "      <th>dob_years</th>\n",
       "      <th>education</th>\n",
       "      <th>education_id</th>\n",
       "      <th>family_status</th>\n",
       "      <th>family_status_id</th>\n",
       "      <th>gender</th>\n",
       "      <th>income_type</th>\n",
       "      <th>debt</th>\n",
       "      <th>total_income</th>\n",
       "      <th>purpose</th>\n",
       "    </tr>\n",
       "  </thead>\n",
       "  <tbody>\n",
       "    <tr>\n",
       "      <th>0</th>\n",
       "      <td>1</td>\n",
       "      <td>-8437.673028</td>\n",
       "      <td>42</td>\n",
       "      <td>высшее</td>\n",
       "      <td>0</td>\n",
       "      <td>женат / замужем</td>\n",
       "      <td>0</td>\n",
       "      <td>F</td>\n",
       "      <td>сотрудник</td>\n",
       "      <td>0</td>\n",
       "      <td>253875.639453</td>\n",
       "      <td>покупка жилья</td>\n",
       "    </tr>\n",
       "    <tr>\n",
       "      <th>1</th>\n",
       "      <td>1</td>\n",
       "      <td>-4024.803754</td>\n",
       "      <td>36</td>\n",
       "      <td>среднее</td>\n",
       "      <td>1</td>\n",
       "      <td>женат / замужем</td>\n",
       "      <td>0</td>\n",
       "      <td>F</td>\n",
       "      <td>сотрудник</td>\n",
       "      <td>0</td>\n",
       "      <td>112080.014102</td>\n",
       "      <td>приобретение автомобиля</td>\n",
       "    </tr>\n",
       "    <tr>\n",
       "      <th>2</th>\n",
       "      <td>0</td>\n",
       "      <td>-5623.422610</td>\n",
       "      <td>33</td>\n",
       "      <td>Среднее</td>\n",
       "      <td>1</td>\n",
       "      <td>женат / замужем</td>\n",
       "      <td>0</td>\n",
       "      <td>M</td>\n",
       "      <td>сотрудник</td>\n",
       "      <td>0</td>\n",
       "      <td>145885.952297</td>\n",
       "      <td>покупка жилья</td>\n",
       "    </tr>\n",
       "    <tr>\n",
       "      <th>3</th>\n",
       "      <td>3</td>\n",
       "      <td>-4124.747207</td>\n",
       "      <td>32</td>\n",
       "      <td>среднее</td>\n",
       "      <td>1</td>\n",
       "      <td>женат / замужем</td>\n",
       "      <td>0</td>\n",
       "      <td>M</td>\n",
       "      <td>сотрудник</td>\n",
       "      <td>0</td>\n",
       "      <td>267628.550329</td>\n",
       "      <td>дополнительное образование</td>\n",
       "    </tr>\n",
       "    <tr>\n",
       "      <th>4</th>\n",
       "      <td>0</td>\n",
       "      <td>340266.072047</td>\n",
       "      <td>53</td>\n",
       "      <td>среднее</td>\n",
       "      <td>1</td>\n",
       "      <td>гражданский брак</td>\n",
       "      <td>1</td>\n",
       "      <td>F</td>\n",
       "      <td>пенсионер</td>\n",
       "      <td>0</td>\n",
       "      <td>158616.077870</td>\n",
       "      <td>сыграть свадьбу</td>\n",
       "    </tr>\n",
       "    <tr>\n",
       "      <th>5</th>\n",
       "      <td>0</td>\n",
       "      <td>-926.185831</td>\n",
       "      <td>27</td>\n",
       "      <td>высшее</td>\n",
       "      <td>0</td>\n",
       "      <td>гражданский брак</td>\n",
       "      <td>1</td>\n",
       "      <td>M</td>\n",
       "      <td>компаньон</td>\n",
       "      <td>0</td>\n",
       "      <td>255763.565419</td>\n",
       "      <td>покупка жилья</td>\n",
       "    </tr>\n",
       "    <tr>\n",
       "      <th>6</th>\n",
       "      <td>0</td>\n",
       "      <td>-2879.202052</td>\n",
       "      <td>43</td>\n",
       "      <td>высшее</td>\n",
       "      <td>0</td>\n",
       "      <td>женат / замужем</td>\n",
       "      <td>0</td>\n",
       "      <td>F</td>\n",
       "      <td>компаньон</td>\n",
       "      <td>0</td>\n",
       "      <td>240525.971920</td>\n",
       "      <td>операции с жильем</td>\n",
       "    </tr>\n",
       "    <tr>\n",
       "      <th>7</th>\n",
       "      <td>0</td>\n",
       "      <td>-152.779569</td>\n",
       "      <td>50</td>\n",
       "      <td>СРЕДНЕЕ</td>\n",
       "      <td>1</td>\n",
       "      <td>женат / замужем</td>\n",
       "      <td>0</td>\n",
       "      <td>M</td>\n",
       "      <td>сотрудник</td>\n",
       "      <td>0</td>\n",
       "      <td>135823.934197</td>\n",
       "      <td>образование</td>\n",
       "    </tr>\n",
       "  </tbody>\n",
       "</table>\n",
       "</div>"
      ],
      "text/plain": [
       "   children  days_employed  dob_years education  education_id  \\\n",
       "0         1   -8437.673028         42    высшее             0   \n",
       "1         1   -4024.803754         36   среднее             1   \n",
       "2         0   -5623.422610         33   Среднее             1   \n",
       "3         3   -4124.747207         32   среднее             1   \n",
       "4         0  340266.072047         53   среднее             1   \n",
       "5         0    -926.185831         27    высшее             0   \n",
       "6         0   -2879.202052         43    высшее             0   \n",
       "7         0    -152.779569         50   СРЕДНЕЕ             1   \n",
       "\n",
       "      family_status  family_status_id gender income_type  debt   total_income  \\\n",
       "0   женат / замужем                 0      F   сотрудник     0  253875.639453   \n",
       "1   женат / замужем                 0      F   сотрудник     0  112080.014102   \n",
       "2   женат / замужем                 0      M   сотрудник     0  145885.952297   \n",
       "3   женат / замужем                 0      M   сотрудник     0  267628.550329   \n",
       "4  гражданский брак                 1      F   пенсионер     0  158616.077870   \n",
       "5  гражданский брак                 1      M   компаньон     0  255763.565419   \n",
       "6   женат / замужем                 0      F   компаньон     0  240525.971920   \n",
       "7   женат / замужем                 0      M   сотрудник     0  135823.934197   \n",
       "\n",
       "                      purpose  \n",
       "0               покупка жилья  \n",
       "1     приобретение автомобиля  \n",
       "2               покупка жилья  \n",
       "3  дополнительное образование  \n",
       "4             сыграть свадьбу  \n",
       "5               покупка жилья  \n",
       "6           операции с жильем  \n",
       "7                 образование  "
      ]
     },
     "execution_count": 54,
     "metadata": {},
     "output_type": "execute_result"
    }
   ],
   "source": [
    "data.head(8)"
   ]
  },
  {
   "cell_type": "code",
   "execution_count": 55,
   "metadata": {
    "scrolled": true
   },
   "outputs": [
    {
     "name": "stdout",
     "output_type": "stream",
     "text": [
      "<class 'pandas.core.frame.DataFrame'>\n",
      "RangeIndex: 21525 entries, 0 to 21524\n",
      "Data columns (total 12 columns):\n",
      " #   Column            Non-Null Count  Dtype  \n",
      "---  ------            --------------  -----  \n",
      " 0   children          21525 non-null  int64  \n",
      " 1   days_employed     19351 non-null  float64\n",
      " 2   dob_years         21525 non-null  int64  \n",
      " 3   education         21525 non-null  object \n",
      " 4   education_id      21525 non-null  int64  \n",
      " 5   family_status     21525 non-null  object \n",
      " 6   family_status_id  21525 non-null  int64  \n",
      " 7   gender            21525 non-null  object \n",
      " 8   income_type       21525 non-null  object \n",
      " 9   debt              21525 non-null  int64  \n",
      " 10  total_income      19351 non-null  float64\n",
      " 11  purpose           21525 non-null  object \n",
      "dtypes: float64(2), int64(5), object(5)\n",
      "memory usage: 2.0+ MB\n"
     ]
    }
   ],
   "source": [
    "data.info()"
   ]
  },
  {
   "cell_type": "markdown",
   "metadata": {},
   "source": [
    "Таблица с клиентами содержит 21525 записей. В столбцах *days_employed*, *total_income* имеются пропуски данных. Также можно заметить, что столбец *days_employed* содержит некорректные данные. Рассмотрим столбец *days_employed* - определим некоторые статистики этого столбца:"
   ]
  },
  {
   "cell_type": "code",
   "execution_count": 56,
   "metadata": {
    "scrolled": true
   },
   "outputs": [
    {
     "name": "stdout",
     "output_type": "stream",
     "text": [
      "Число клиентов со стажем больше их возраста: 3445\n",
      "Процент некорректных данных по числу дней занятости: 16.0%\n"
     ]
    }
   ],
   "source": [
    "overemployed_clients = data[data['days_employed'] > (data['dob_years'] * 365)]['days_employed'].count()\n",
    "\n",
    "print('Число клиентов со стажем больше их возраста:', overemployed_clients)\n",
    "print('Процент некорректных данных по числу дней занятости: {:.1%}'.format(overemployed_clients / data.shape[0]))"
   ]
  },
  {
   "cell_type": "markdown",
   "metadata": {},
   "source": [
    "**Вывод**"
   ]
  },
  {
   "cell_type": "markdown",
   "metadata": {},
   "source": [
    "Всего в таблице 21525 строк. Из общей информации и первых строк таблицы видно, что:\n",
    "\n",
    "* В столбцах *days_employed* и *total_income* отсутствуют значения, причем число таких значений одинаково.\n",
    "\n",
    "* Значения столбца *days_employed* представляют собой отрицательные числа и числа, которые заведомо не могут быть верными (340266 дней ~ 932 года). Можно предположить, что отрицательные значения следует взять по модулю, тогда они будут отражать истинные значения.\n",
    "\n",
    "* Значения в *education* представлены в разном регистре.\n",
    "\n",
    "* Тип данных в столбце *total_income* приведем к целочисленному.\n",
    "\n",
    "* Столбцы *family_status* - *family_status_id*, *education* - *education_id* обозначают статус клиента и идентификатор статуса. Столбец с текстовым содержанием статуса выделим в отдельный словарь.\n",
    "\n",
    "* Столбец *purpose* имеет значения совпадающие по смыслу, но записанные разными словами и их формами. Обобщим список целей.\n",
    "\n",
    "Таблица с данными клиентов банка имеет все данные для решения поставленной задачи. Значения таблицы необходимо привести к нужному типу данных, заполнить пропуски. Некоторые столбцы нужно вывести в отдельные словари."
   ]
  },
  {
   "cell_type": "markdown",
   "metadata": {},
   "source": [
    "## Предобработка данных"
   ]
  },
  {
   "cell_type": "markdown",
   "metadata": {},
   "source": [
    "### Обработка пропусков"
   ]
  },
  {
   "cell_type": "markdown",
   "metadata": {},
   "source": [
    "Исследуем пропуски в таблице данных."
   ]
  },
  {
   "cell_type": "code",
   "execution_count": 57,
   "metadata": {
    "scrolled": true
   },
   "outputs": [
    {
     "data": {
      "text/html": [
       "<div>\n",
       "<style scoped>\n",
       "    .dataframe tbody tr th:only-of-type {\n",
       "        vertical-align: middle;\n",
       "    }\n",
       "\n",
       "    .dataframe tbody tr th {\n",
       "        vertical-align: top;\n",
       "    }\n",
       "\n",
       "    .dataframe thead th {\n",
       "        text-align: right;\n",
       "    }\n",
       "</style>\n",
       "<table border=\"1\" class=\"dataframe\">\n",
       "  <thead>\n",
       "    <tr style=\"text-align: right;\">\n",
       "      <th></th>\n",
       "      <th>count</th>\n",
       "      <th>percent</th>\n",
       "    </tr>\n",
       "  </thead>\n",
       "  <tbody>\n",
       "    <tr>\n",
       "      <th>days_employed</th>\n",
       "      <td>2174</td>\n",
       "      <td>10.1</td>\n",
       "    </tr>\n",
       "    <tr>\n",
       "      <th>total_income</th>\n",
       "      <td>2174</td>\n",
       "      <td>10.1</td>\n",
       "    </tr>\n",
       "  </tbody>\n",
       "</table>\n",
       "</div>"
      ],
      "text/plain": [
       "               count  percent\n",
       "days_employed   2174     10.1\n",
       "total_income    2174     10.1"
      ]
     },
     "execution_count": 57,
     "metadata": {},
     "output_type": "execute_result"
    }
   ],
   "source": [
    "missing_values = pd.DataFrame(data=data.isna().sum(), columns=['count'])\n",
    "missing_values['percent'] = round(missing_values['count'] / data.shape[0] * 100, 2)\n",
    "missing_values[missing_values['count'] > 0]"
   ]
  },
  {
   "cell_type": "code",
   "execution_count": 58,
   "metadata": {},
   "outputs": [
    {
     "name": "stdout",
     "output_type": "stream",
     "text": [
      "Число строк с пропусками в обоих столбцах: 2174\n"
     ]
    },
    {
     "data": {
      "text/html": [
       "<div>\n",
       "<style scoped>\n",
       "    .dataframe tbody tr th:only-of-type {\n",
       "        vertical-align: middle;\n",
       "    }\n",
       "\n",
       "    .dataframe tbody tr th {\n",
       "        vertical-align: top;\n",
       "    }\n",
       "\n",
       "    .dataframe thead th {\n",
       "        text-align: right;\n",
       "    }\n",
       "</style>\n",
       "<table border=\"1\" class=\"dataframe\">\n",
       "  <thead>\n",
       "    <tr style=\"text-align: right;\">\n",
       "      <th></th>\n",
       "      <th>children</th>\n",
       "      <th>days_employed</th>\n",
       "      <th>dob_years</th>\n",
       "      <th>education</th>\n",
       "      <th>education_id</th>\n",
       "      <th>family_status</th>\n",
       "      <th>family_status_id</th>\n",
       "      <th>gender</th>\n",
       "      <th>income_type</th>\n",
       "      <th>debt</th>\n",
       "      <th>total_income</th>\n",
       "      <th>purpose</th>\n",
       "    </tr>\n",
       "  </thead>\n",
       "  <tbody>\n",
       "    <tr>\n",
       "      <th>12</th>\n",
       "      <td>0</td>\n",
       "      <td>NaN</td>\n",
       "      <td>65</td>\n",
       "      <td>среднее</td>\n",
       "      <td>1</td>\n",
       "      <td>гражданский брак</td>\n",
       "      <td>1</td>\n",
       "      <td>M</td>\n",
       "      <td>пенсионер</td>\n",
       "      <td>0</td>\n",
       "      <td>NaN</td>\n",
       "      <td>сыграть свадьбу</td>\n",
       "    </tr>\n",
       "    <tr>\n",
       "      <th>26</th>\n",
       "      <td>0</td>\n",
       "      <td>NaN</td>\n",
       "      <td>41</td>\n",
       "      <td>среднее</td>\n",
       "      <td>1</td>\n",
       "      <td>женат / замужем</td>\n",
       "      <td>0</td>\n",
       "      <td>M</td>\n",
       "      <td>госслужащий</td>\n",
       "      <td>0</td>\n",
       "      <td>NaN</td>\n",
       "      <td>образование</td>\n",
       "    </tr>\n",
       "    <tr>\n",
       "      <th>29</th>\n",
       "      <td>0</td>\n",
       "      <td>NaN</td>\n",
       "      <td>63</td>\n",
       "      <td>среднее</td>\n",
       "      <td>1</td>\n",
       "      <td>Не женат / не замужем</td>\n",
       "      <td>4</td>\n",
       "      <td>F</td>\n",
       "      <td>пенсионер</td>\n",
       "      <td>0</td>\n",
       "      <td>NaN</td>\n",
       "      <td>строительство жилой недвижимости</td>\n",
       "    </tr>\n",
       "    <tr>\n",
       "      <th>41</th>\n",
       "      <td>0</td>\n",
       "      <td>NaN</td>\n",
       "      <td>50</td>\n",
       "      <td>среднее</td>\n",
       "      <td>1</td>\n",
       "      <td>женат / замужем</td>\n",
       "      <td>0</td>\n",
       "      <td>F</td>\n",
       "      <td>госслужащий</td>\n",
       "      <td>0</td>\n",
       "      <td>NaN</td>\n",
       "      <td>сделка с подержанным автомобилем</td>\n",
       "    </tr>\n",
       "    <tr>\n",
       "      <th>55</th>\n",
       "      <td>0</td>\n",
       "      <td>NaN</td>\n",
       "      <td>54</td>\n",
       "      <td>среднее</td>\n",
       "      <td>1</td>\n",
       "      <td>гражданский брак</td>\n",
       "      <td>1</td>\n",
       "      <td>F</td>\n",
       "      <td>пенсионер</td>\n",
       "      <td>1</td>\n",
       "      <td>NaN</td>\n",
       "      <td>сыграть свадьбу</td>\n",
       "    </tr>\n",
       "  </tbody>\n",
       "</table>\n",
       "</div>"
      ],
      "text/plain": [
       "    children  days_employed  dob_years education  education_id  \\\n",
       "12         0            NaN         65   среднее             1   \n",
       "26         0            NaN         41   среднее             1   \n",
       "29         0            NaN         63   среднее             1   \n",
       "41         0            NaN         50   среднее             1   \n",
       "55         0            NaN         54   среднее             1   \n",
       "\n",
       "            family_status  family_status_id gender  income_type  debt  \\\n",
       "12       гражданский брак                 1      M    пенсионер     0   \n",
       "26        женат / замужем                 0      M  госслужащий     0   \n",
       "29  Не женат / не замужем                 4      F    пенсионер     0   \n",
       "41        женат / замужем                 0      F  госслужащий     0   \n",
       "55       гражданский брак                 1      F    пенсионер     1   \n",
       "\n",
       "    total_income                           purpose  \n",
       "12           NaN                   сыграть свадьбу  \n",
       "26           NaN                       образование  \n",
       "29           NaN  строительство жилой недвижимости  \n",
       "41           NaN  сделка с подержанным автомобилем  \n",
       "55           NaN                   сыграть свадьбу  "
      ]
     },
     "execution_count": 58,
     "metadata": {},
     "output_type": "execute_result"
    }
   ],
   "source": [
    "print('Число строк с пропусками в обоих столбцах:', \n",
    "      data[data['days_employed'].isnull() & data['total_income'].isnull()].shape[0])\n",
    "\n",
    "data[data['days_employed'].isna()].head(5)"
   ]
  },
  {
   "cell_type": "markdown",
   "metadata": {},
   "source": [
    "Доля пропусков в столбцах *total_income* и *days_employed* составляет около 10% от всего набора данных. Пропуски в обои столбцах наблюдаются в одних и тех же строках. Можно попробовать восстановить пропущенные данные по другим имеющимся. Строки в которых отсутсвуют сведения о доходах клиентов имеют информацию о типе занятости. Попробуем восстановить информацию о доходах по этому признаку."
   ]
  },
  {
   "cell_type": "markdown",
   "metadata": {},
   "source": [
    "#### Работа со столбцом *income_type*"
   ]
  },
  {
   "cell_type": "markdown",
   "metadata": {},
   "source": [
    "Найдем медианные значения доходов клиентов по каждому типу занятости. И заменим значения NaN в столбце *total_income* на медиану, соответствующую значению в *income_type*. "
   ]
  },
  {
   "cell_type": "code",
   "execution_count": 59,
   "metadata": {},
   "outputs": [
    {
     "name": "stdout",
     "output_type": "stream",
     "text": [
      "Медианное значение дохода для различных групп занятости: income_type\n",
      "предприниматель    499163.144947\n",
      "компаньон          172357.950966\n",
      "госслужащий        150447.935283\n",
      "сотрудник          142594.396847\n",
      "безработный        131339.751676\n",
      "пенсионер          118514.486412\n",
      "студент             98201.625314\n",
      "в декрете           53829.130729\n",
      "Name: total_income, dtype: float64\n"
     ]
    }
   ],
   "source": [
    "income_types_grouped = data.groupby('income_type')['total_income'].median()\n",
    "income_types_list = data['income_type'].unique()\n",
    "print('Медианное значение дохода для различных групп занятости:', income_types_grouped.sort_values(ascending=False))"
   ]
  },
  {
   "cell_type": "code",
   "execution_count": 60,
   "metadata": {},
   "outputs": [],
   "source": [
    "for income_type in income_types_list:\n",
    "    data.loc[data['income_type'] == income_type, 'total_income'] = \\\n",
    "    data['total_income'].fillna(income_types_grouped[income_type])"
   ]
  },
  {
   "cell_type": "markdown",
   "metadata": {},
   "source": [
    "Проверим информацию о таблице и убедимся, что пропуски заполнены."
   ]
  },
  {
   "cell_type": "code",
   "execution_count": 61,
   "metadata": {
    "scrolled": false
   },
   "outputs": [
    {
     "data": {
      "text/html": [
       "<div>\n",
       "<style scoped>\n",
       "    .dataframe tbody tr th:only-of-type {\n",
       "        vertical-align: middle;\n",
       "    }\n",
       "\n",
       "    .dataframe tbody tr th {\n",
       "        vertical-align: top;\n",
       "    }\n",
       "\n",
       "    .dataframe thead th {\n",
       "        text-align: right;\n",
       "    }\n",
       "</style>\n",
       "<table border=\"1\" class=\"dataframe\">\n",
       "  <thead>\n",
       "    <tr style=\"text-align: right;\">\n",
       "      <th></th>\n",
       "      <th>count</th>\n",
       "    </tr>\n",
       "  </thead>\n",
       "  <tbody>\n",
       "    <tr>\n",
       "      <th>days_employed</th>\n",
       "      <td>2174</td>\n",
       "    </tr>\n",
       "    <tr>\n",
       "      <th>total_income</th>\n",
       "      <td>0</td>\n",
       "    </tr>\n",
       "  </tbody>\n",
       "</table>\n",
       "</div>"
      ],
      "text/plain": [
       "               count\n",
       "days_employed   2174\n",
       "total_income       0"
      ]
     },
     "execution_count": 61,
     "metadata": {},
     "output_type": "execute_result"
    }
   ],
   "source": [
    "missing_values = pd.DataFrame(data=data.isna().sum(), columns=['count'])\n",
    "missing_values.loc[['days_employed', 'total_income']]"
   ]
  },
  {
   "cell_type": "markdown",
   "metadata": {},
   "source": [
    "Возможная причина отсутствия значений это - непредоставление заемщиком сведений о доходах в банк."
   ]
  },
  {
   "cell_type": "markdown",
   "metadata": {},
   "source": [
    "#### Работа со столбцом *days_employed*"
   ]
  },
  {
   "cell_type": "markdown",
   "metadata": {},
   "source": [
    "Исследуем значения столбца *days_employed*. Возьмем значения дней по модулю и проверим описание распределения дней в таблице."
   ]
  },
  {
   "cell_type": "code",
   "execution_count": 62,
   "metadata": {},
   "outputs": [
    {
     "data": {
      "text/plain": [
       "count     19351.000000\n",
       "mean      66914.728907\n",
       "std      139030.880527\n",
       "min          24.141633\n",
       "25%         927.009265\n",
       "50%        2194.220567\n",
       "75%        5537.882441\n",
       "max      401755.400475\n",
       "Name: days_employed, dtype: float64"
      ]
     },
     "execution_count": 62,
     "metadata": {},
     "output_type": "execute_result"
    }
   ],
   "source": [
    "data['days_employed'] = data['days_employed'].apply(abs)\n",
    "data['days_employed'].describe()"
   ]
  },
  {
   "cell_type": "markdown",
   "metadata": {},
   "source": [
    "Среднее значение больше медианного примерно в 30 раз."
   ]
  },
  {
   "cell_type": "code",
   "execution_count": 63,
   "metadata": {
    "scrolled": true
   },
   "outputs": [
    {
     "name": "stdout",
     "output_type": "stream",
     "text": [
      "Медиана: ~ 6.0 лет\n",
      "Среднее: ~ 183.0 лет\n"
     ]
    }
   ],
   "source": [
    "print('Медиана: ~', data['days_employed'].median() // 365, 'лет')\n",
    "print('Среднее: ~', data['days_employed'].mean() // 365, 'лет')"
   ]
  },
  {
   "cell_type": "markdown",
   "metadata": {},
   "source": [
    "Построим график распределения значений столбца."
   ]
  },
  {
   "cell_type": "code",
   "execution_count": 64,
   "metadata": {},
   "outputs": [
    {
     "data": {
      "image/png": "[encoded data removed]",
      "text/plain": [
       "<Figure size 648x360 with 1 Axes>"
      ]
     },
     "metadata": {
      "needs_background": "light"
     },
     "output_type": "display_data"
    }
   ],
   "source": [
    "fig = plt.figure(figsize=(9, 5))\n",
    "plt.hist(data['days_employed'], bins=100)\n",
    "plt.xlabel('days_employed')\n",
    "plt.ylabel('count')\n",
    "plt.title('\"days_employed\" distribution')\n",
    "plt.grid()\n",
    "plt.show()"
   ]
  },
  {
   "cell_type": "markdown",
   "metadata": {},
   "source": [
    "На графике распределения обнаружены две группы значений. \"Правая\", начинающаяся примерно от 320,000 явно аномальная. Исходя из порядка разницы между значениями, можно сделать предположение, что \"аномальные\" значения выражены в часах. "
   ]
  },
  {
   "cell_type": "code",
   "execution_count": 65,
   "metadata": {},
   "outputs": [
    {
     "data": {
      "text/html": [
       "<div>\n",
       "<style scoped>\n",
       "    .dataframe tbody tr th:only-of-type {\n",
       "        vertical-align: middle;\n",
       "    }\n",
       "\n",
       "    .dataframe tbody tr th {\n",
       "        vertical-align: top;\n",
       "    }\n",
       "\n",
       "    .dataframe thead th {\n",
       "        text-align: right;\n",
       "    }\n",
       "</style>\n",
       "<table border=\"1\" class=\"dataframe\">\n",
       "  <thead>\n",
       "    <tr style=\"text-align: right;\">\n",
       "      <th></th>\n",
       "      <th>children</th>\n",
       "      <th>days_employed</th>\n",
       "      <th>dob_years</th>\n",
       "      <th>education</th>\n",
       "      <th>education_id</th>\n",
       "      <th>family_status</th>\n",
       "      <th>family_status_id</th>\n",
       "      <th>gender</th>\n",
       "      <th>income_type</th>\n",
       "      <th>debt</th>\n",
       "      <th>total_income</th>\n",
       "      <th>purpose</th>\n",
       "    </tr>\n",
       "  </thead>\n",
       "  <tbody>\n",
       "    <tr>\n",
       "      <th>16335</th>\n",
       "      <td>1</td>\n",
       "      <td>18388.949901</td>\n",
       "      <td>61</td>\n",
       "      <td>среднее</td>\n",
       "      <td>1</td>\n",
       "      <td>женат / замужем</td>\n",
       "      <td>0</td>\n",
       "      <td>F</td>\n",
       "      <td>сотрудник</td>\n",
       "      <td>0</td>\n",
       "      <td>186178.934089</td>\n",
       "      <td>операции с недвижимостью</td>\n",
       "    </tr>\n",
       "    <tr>\n",
       "      <th>20444</th>\n",
       "      <td>0</td>\n",
       "      <td>328728.720605</td>\n",
       "      <td>72</td>\n",
       "      <td>среднее</td>\n",
       "      <td>1</td>\n",
       "      <td>вдовец / вдова</td>\n",
       "      <td>2</td>\n",
       "      <td>F</td>\n",
       "      <td>пенсионер</td>\n",
       "      <td>0</td>\n",
       "      <td>96519.339647</td>\n",
       "      <td>покупка жилья для семьи</td>\n",
       "    </tr>\n",
       "    <tr>\n",
       "      <th>9328</th>\n",
       "      <td>2</td>\n",
       "      <td>328734.923996</td>\n",
       "      <td>41</td>\n",
       "      <td>высшее</td>\n",
       "      <td>0</td>\n",
       "      <td>женат / замужем</td>\n",
       "      <td>0</td>\n",
       "      <td>M</td>\n",
       "      <td>пенсионер</td>\n",
       "      <td>0</td>\n",
       "      <td>126997.497760</td>\n",
       "      <td>операции со своей недвижимостью</td>\n",
       "    </tr>\n",
       "    <tr>\n",
       "      <th>17782</th>\n",
       "      <td>0</td>\n",
       "      <td>328771.341387</td>\n",
       "      <td>56</td>\n",
       "      <td>среднее</td>\n",
       "      <td>1</td>\n",
       "      <td>женат / замужем</td>\n",
       "      <td>0</td>\n",
       "      <td>F</td>\n",
       "      <td>пенсионер</td>\n",
       "      <td>0</td>\n",
       "      <td>68648.047062</td>\n",
       "      <td>операции с коммерческой недвижимостью</td>\n",
       "    </tr>\n",
       "    <tr>\n",
       "      <th>14783</th>\n",
       "      <td>0</td>\n",
       "      <td>328795.726728</td>\n",
       "      <td>62</td>\n",
       "      <td>высшее</td>\n",
       "      <td>0</td>\n",
       "      <td>женат / замужем</td>\n",
       "      <td>0</td>\n",
       "      <td>F</td>\n",
       "      <td>пенсионер</td>\n",
       "      <td>0</td>\n",
       "      <td>79940.196752</td>\n",
       "      <td>на покупку своего автомобиля</td>\n",
       "    </tr>\n",
       "  </tbody>\n",
       "</table>\n",
       "</div>"
      ],
      "text/plain": [
       "       children  days_employed  dob_years education  education_id  \\\n",
       "16335         1   18388.949901         61   среднее             1   \n",
       "20444         0  328728.720605         72   среднее             1   \n",
       "9328          2  328734.923996         41    высшее             0   \n",
       "17782         0  328771.341387         56   среднее             1   \n",
       "14783         0  328795.726728         62    высшее             0   \n",
       "\n",
       "         family_status  family_status_id gender income_type  debt  \\\n",
       "16335  женат / замужем                 0      F   сотрудник     0   \n",
       "20444   вдовец / вдова                 2      F   пенсионер     0   \n",
       "9328   женат / замужем                 0      M   пенсионер     0   \n",
       "17782  женат / замужем                 0      F   пенсионер     0   \n",
       "14783  женат / замужем                 0      F   пенсионер     0   \n",
       "\n",
       "        total_income                                purpose  \n",
       "16335  186178.934089               операции с недвижимостью  \n",
       "20444   96519.339647                покупка жилья для семьи  \n",
       "9328   126997.497760        операции со своей недвижимостью  \n",
       "17782   68648.047062  операции с коммерческой недвижимостью  \n",
       "14783   79940.196752           на покупку своего автомобиля  "
      ]
     },
     "execution_count": 65,
     "metadata": {},
     "output_type": "execute_result"
    }
   ],
   "source": [
    "data[data['days_employed'] > 18000].sort_values(by='days_employed').head()"
   ]
  },
  {
   "cell_type": "markdown",
   "metadata": {},
   "source": [
    "Конвертируем аномальные значения в дни, разделив на 24. "
   ]
  },
  {
   "cell_type": "code",
   "execution_count": 66,
   "metadata": {},
   "outputs": [],
   "source": [
    "normal_max = 20000  # обозначим 20,000 как максимальное нормальное значение\n",
    "data['days_employed'] = data.days_employed.apply(lambda i: i if i <= normal_max else i / 24)"
   ]
  },
  {
   "cell_type": "markdown",
   "metadata": {},
   "source": [
    "В столбце *days_employed* также отсутствуют некоторые значения. Заменим отсутствующие на средние взяв их по возрасту."
   ]
  },
  {
   "cell_type": "code",
   "execution_count": 67,
   "metadata": {
    "scrolled": true
   },
   "outputs": [],
   "source": [
    "d_emp_mean_by_age = data.groupby('dob_years')['days_employed'].mean()"
   ]
  },
  {
   "cell_type": "code",
   "execution_count": 68,
   "metadata": {},
   "outputs": [],
   "source": [
    "def nan_to_mean(row):\n",
    "    days_employed = row['days_employed']\n",
    "    age = row['dob_years']\n",
    "    \n",
    "    if (days_employed > age * 365) or pd.isnull(days_employed):\n",
    "        return d_emp_mean_by_age[age]\n",
    "    return days_employed"
   ]
  },
  {
   "cell_type": "code",
   "execution_count": 69,
   "metadata": {},
   "outputs": [],
   "source": [
    "data['days_employed'] = data.apply(nan_to_mean, axis=1)"
   ]
  },
  {
   "cell_type": "markdown",
   "metadata": {},
   "source": [
    "Проверим остались ли пропуски в таблице data."
   ]
  },
  {
   "cell_type": "code",
   "execution_count": 70,
   "metadata": {},
   "outputs": [
    {
     "data": {
      "text/html": [
       "<div>\n",
       "<style scoped>\n",
       "    .dataframe tbody tr th:only-of-type {\n",
       "        vertical-align: middle;\n",
       "    }\n",
       "\n",
       "    .dataframe tbody tr th {\n",
       "        vertical-align: top;\n",
       "    }\n",
       "\n",
       "    .dataframe thead th {\n",
       "        text-align: right;\n",
       "    }\n",
       "</style>\n",
       "<table border=\"1\" class=\"dataframe\">\n",
       "  <thead>\n",
       "    <tr style=\"text-align: right;\">\n",
       "      <th></th>\n",
       "      <th>count</th>\n",
       "    </tr>\n",
       "  </thead>\n",
       "  <tbody>\n",
       "    <tr>\n",
       "      <th>children</th>\n",
       "      <td>0</td>\n",
       "    </tr>\n",
       "    <tr>\n",
       "      <th>days_employed</th>\n",
       "      <td>0</td>\n",
       "    </tr>\n",
       "    <tr>\n",
       "      <th>dob_years</th>\n",
       "      <td>0</td>\n",
       "    </tr>\n",
       "    <tr>\n",
       "      <th>education</th>\n",
       "      <td>0</td>\n",
       "    </tr>\n",
       "    <tr>\n",
       "      <th>education_id</th>\n",
       "      <td>0</td>\n",
       "    </tr>\n",
       "    <tr>\n",
       "      <th>family_status</th>\n",
       "      <td>0</td>\n",
       "    </tr>\n",
       "    <tr>\n",
       "      <th>family_status_id</th>\n",
       "      <td>0</td>\n",
       "    </tr>\n",
       "    <tr>\n",
       "      <th>gender</th>\n",
       "      <td>0</td>\n",
       "    </tr>\n",
       "    <tr>\n",
       "      <th>income_type</th>\n",
       "      <td>0</td>\n",
       "    </tr>\n",
       "    <tr>\n",
       "      <th>debt</th>\n",
       "      <td>0</td>\n",
       "    </tr>\n",
       "    <tr>\n",
       "      <th>total_income</th>\n",
       "      <td>0</td>\n",
       "    </tr>\n",
       "    <tr>\n",
       "      <th>purpose</th>\n",
       "      <td>0</td>\n",
       "    </tr>\n",
       "  </tbody>\n",
       "</table>\n",
       "</div>"
      ],
      "text/plain": [
       "                  count\n",
       "children              0\n",
       "days_employed         0\n",
       "dob_years             0\n",
       "education             0\n",
       "education_id          0\n",
       "family_status         0\n",
       "family_status_id      0\n",
       "gender                0\n",
       "income_type           0\n",
       "debt                  0\n",
       "total_income          0\n",
       "purpose               0"
      ]
     },
     "execution_count": 70,
     "metadata": {},
     "output_type": "execute_result"
    }
   ],
   "source": [
    "pd.DataFrame(data.isnull().sum(), columns=['count'])"
   ]
  },
  {
   "cell_type": "markdown",
   "metadata": {},
   "source": [
    "#### Преобразования столбца *dob_years*"
   ]
  },
  {
   "cell_type": "markdown",
   "metadata": {},
   "source": [
    "Просмотрим значения столбца."
   ]
  },
  {
   "cell_type": "code",
   "execution_count": 71,
   "metadata": {},
   "outputs": [
    {
     "data": {
      "text/plain": [
       "count    21525.000000\n",
       "mean        43.293380\n",
       "std         12.574584\n",
       "min          0.000000\n",
       "25%         33.000000\n",
       "50%         42.000000\n",
       "75%         53.000000\n",
       "max         75.000000\n",
       "Name: dob_years, dtype: float64"
      ]
     },
     "execution_count": 71,
     "metadata": {},
     "output_type": "execute_result"
    }
   ],
   "source": [
    "data['dob_years'].describe()"
   ]
  },
  {
   "cell_type": "code",
   "execution_count": 72,
   "metadata": {
    "scrolled": true
   },
   "outputs": [
    {
     "data": {
      "image/png": "[encoded data removed]",
      "text/plain": [
       "<Figure size 648x360 with 1 Axes>"
      ]
     },
     "metadata": {
      "needs_background": "light"
     },
     "output_type": "display_data"
    }
   ],
   "source": [
    "fig = plt.figure(figsize=(9, 5))\n",
    "plt.hist(data['dob_years'], bins=75, rwidth=0.8)\n",
    "plt.title('Age distribution')\n",
    "plt.xlabel('age')\n",
    "plt.ylabel('count')\n",
    "plt.grid()\n",
    "plt.show()"
   ]
  },
  {
   "cell_type": "markdown",
   "metadata": {},
   "source": [
    "Возраст некоторых клиентов оказался равен нулю. Заполним нули средним возрастом по типу дохода."
   ]
  },
  {
   "cell_type": "code",
   "execution_count": 73,
   "metadata": {
    "scrolled": false
   },
   "outputs": [
    {
     "data": {
      "text/plain": [
       "income_type\n",
       "безработный        38.000000\n",
       "в декрете          39.000000\n",
       "госслужащий        40.804542\n",
       "компаньон          39.854294\n",
       "пенсионер          59.370959\n",
       "предприниматель    42.500000\n",
       "сотрудник          40.018980\n",
       "студент            22.000000\n",
       "Name: dob_years, dtype: float64"
      ]
     },
     "execution_count": 73,
     "metadata": {},
     "output_type": "execute_result"
    }
   ],
   "source": [
    "age_mean = data[data['dob_years'] > 0].groupby('income_type')['dob_years'].mean()\n",
    "age_mean"
   ]
  },
  {
   "cell_type": "markdown",
   "metadata": {},
   "source": [
    "Тип дохода достаточно хорошо отражает возраст клиента. Применим функцию для замены нулей средним значением."
   ]
  },
  {
   "cell_type": "code",
   "execution_count": 74,
   "metadata": {},
   "outputs": [],
   "source": [
    "def zero_to_mean(row):\n",
    "    if row['dob_years'] == 0:\n",
    "        return int(age_mean[row['income_type']])\n",
    "    return row['dob_years']"
   ]
  },
  {
   "cell_type": "code",
   "execution_count": 75,
   "metadata": {},
   "outputs": [],
   "source": [
    "data['dob_years'] = data.apply(zero_to_mean, axis=1)"
   ]
  },
  {
   "cell_type": "markdown",
   "metadata": {},
   "source": [
    "Проверим еще раз условие неравенства общего стажа и возраста клиента."
   ]
  },
  {
   "cell_type": "code",
   "execution_count": 76,
   "metadata": {
    "scrolled": true
   },
   "outputs": [
    {
     "name": "stdout",
     "output_type": "stream",
     "text": [
      "Число значений больше возраста: 0\n"
     ]
    }
   ],
   "source": [
    "print('Число значений больше возраста:', data[data['days_employed'] > (data['dob_years'] * 365)]['days_employed'].count())"
   ]
  },
  {
   "cell_type": "markdown",
   "metadata": {},
   "source": [
    "#### Проверка значений в столбце *children*"
   ]
  },
  {
   "cell_type": "code",
   "execution_count": 77,
   "metadata": {
    "scrolled": true
   },
   "outputs": [
    {
     "data": {
      "text/plain": [
       " 0     14149\n",
       " 1      4818\n",
       " 2      2055\n",
       " 3       330\n",
       " 20       76\n",
       "-1        47\n",
       " 4        41\n",
       " 5         9\n",
       "Name: children, dtype: int64"
      ]
     },
     "execution_count": 77,
     "metadata": {},
     "output_type": "execute_result"
    }
   ],
   "source": [
    "data['children'].value_counts()"
   ]
  },
  {
   "cell_type": "markdown",
   "metadata": {},
   "source": [
    "Сразу заметны два аномальных значения: 20 и -1. В сумме эти значения составляют около 0,5% от общего числа значений. Можно предположить, что 20 это ошибочная запись 2, а -1 это ошибочная запись 1. Заменим аномальные величины на соответствующие им."
   ]
  },
  {
   "cell_type": "code",
   "execution_count": 78,
   "metadata": {
    "scrolled": false
   },
   "outputs": [
    {
     "data": {
      "text/plain": [
       "0    14149\n",
       "1     4865\n",
       "2     2131\n",
       "3      330\n",
       "4       41\n",
       "5        9\n",
       "Name: children, dtype: int64"
      ]
     },
     "execution_count": 78,
     "metadata": {},
     "output_type": "execute_result"
    }
   ],
   "source": [
    "data['children'] = data['children'].replace(20, 2)\n",
    "data['children'] = data['children'].replace(-1, 1)\n",
    "\n",
    "data['children'].value_counts()"
   ]
  },
  {
   "cell_type": "markdown",
   "metadata": {},
   "source": [
    "### Замена типа данных"
   ]
  },
  {
   "cell_type": "code",
   "execution_count": 79,
   "metadata": {},
   "outputs": [
    {
     "data": {
      "text/plain": [
       "children              int64\n",
       "days_employed       float64\n",
       "dob_years             int64\n",
       "education            object\n",
       "education_id          int64\n",
       "family_status        object\n",
       "family_status_id      int64\n",
       "gender               object\n",
       "income_type          object\n",
       "debt                  int64\n",
       "total_income        float64\n",
       "purpose              object\n",
       "dtype: object"
      ]
     },
     "execution_count": 79,
     "metadata": {},
     "output_type": "execute_result"
    }
   ],
   "source": [
    "data.dtypes"
   ]
  },
  {
   "cell_type": "markdown",
   "metadata": {},
   "source": [
    "Столбец *total_income* представлен вещественным типом данных. Доли от единицы не отражают доходы клиентов банка. Тип данных в этом столбце заменим на целочисленный."
   ]
  },
  {
   "cell_type": "code",
   "execution_count": 80,
   "metadata": {},
   "outputs": [
    {
     "data": {
      "text/plain": [
       "dtype('int32')"
      ]
     },
     "execution_count": 80,
     "metadata": {},
     "output_type": "execute_result"
    }
   ],
   "source": [
    "data['total_income'] = data['total_income'].astype('int')\n",
    "data['total_income'].dtypes"
   ]
  },
  {
   "cell_type": "markdown",
   "metadata": {},
   "source": [
    "Также заменим тип данных в столбце *days_employed* на целочисленный."
   ]
  },
  {
   "cell_type": "code",
   "execution_count": 81,
   "metadata": {},
   "outputs": [
    {
     "data": {
      "text/plain": [
       "dtype('int32')"
      ]
     },
     "execution_count": 81,
     "metadata": {},
     "output_type": "execute_result"
    }
   ],
   "source": [
    "data['days_employed'] = data['days_employed'].astype('int')\n",
    "data['days_employed'].dtypes"
   ]
  },
  {
   "cell_type": "markdown",
   "metadata": {},
   "source": [
    "### Обработка дубликатов"
   ]
  },
  {
   "cell_type": "markdown",
   "metadata": {},
   "source": [
    "Прежде чем искать дубликаты, необходимо привести значения в столбце *education* к нижнему регистру."
   ]
  },
  {
   "cell_type": "code",
   "execution_count": 82,
   "metadata": {},
   "outputs": [
    {
     "data": {
      "text/plain": [
       "среднее                15233\n",
       "высшее                  5260\n",
       "неоконченное высшее      744\n",
       "начальное                282\n",
       "ученая степень             6\n",
       "Name: education, dtype: int64"
      ]
     },
     "execution_count": 82,
     "metadata": {},
     "output_type": "execute_result"
    }
   ],
   "source": [
    "data['education'] = data['education'].str.lower()\n",
    "data['education'].value_counts()"
   ]
  },
  {
   "cell_type": "markdown",
   "metadata": {},
   "source": [
    "Проверим наличие дубликатов в таблице."
   ]
  },
  {
   "cell_type": "code",
   "execution_count": 83,
   "metadata": {
    "scrolled": true
   },
   "outputs": [
    {
     "name": "stdout",
     "output_type": "stream",
     "text": [
      "Количество дубликатов: 71\n"
     ]
    }
   ],
   "source": [
    "print('Количество дубликатов:', data.duplicated().sum())"
   ]
  },
  {
   "cell_type": "markdown",
   "metadata": {},
   "source": [
    "Удалим обнаруженные дубликаты методом .drop_duplicates() и проверим исполнение метода."
   ]
  },
  {
   "cell_type": "code",
   "execution_count": 84,
   "metadata": {},
   "outputs": [
    {
     "name": "stdout",
     "output_type": "stream",
     "text": [
      "Количество дубликатов: 0\n"
     ]
    }
   ],
   "source": [
    "data = data.drop_duplicates().reset_index(drop=True)\n",
    "print('Количество дубликатов:', data.duplicated().sum())"
   ]
  },
  {
   "cell_type": "markdown",
   "metadata": {},
   "source": [
    "### Обработка столбца *purpose*"
   ]
  },
  {
   "cell_type": "markdown",
   "metadata": {},
   "source": [
    "В столбце *purpose* содержится информация о цели кредита. Для разных записей одна и та же по смыслу цель может быть записана по разному. Определим список целей кредита и приведем значения *purpose* к значениям списка."
   ]
  },
  {
   "cell_type": "markdown",
   "metadata": {},
   "source": [
    "Воспользуемся библиотекой pymystem3 и лемматизируем значения в *purpose*. Лемматизация - процесс, в результате которого будет получен список изначальных форм каждого слова в предложении.\n",
    "\n",
    "Библиотека pymystem3 отличается большим временем инициализации функции лемматизации. Чтобы максимально сократить время процесса, объединим все значения столбца *purpose* в одну строку, но разделим значения для разных объектов значением \"br\". Одновременно создадим переменную типа Counter, в которой посчитаем количество появлений каждого слова."
   ]
  },
  {
   "cell_type": "code",
   "execution_count": 85,
   "metadata": {},
   "outputs": [],
   "source": [
    "m = Mystem()\n",
    "purpose_lemmas = m.lemmatize(' br '.join(data['purpose'].values))\n",
    "\n",
    "purpose = [[]]\n",
    "purpose_count = Counter()\n",
    "stop_words = ('с', 'на', 'со', 'для')\n",
    "\n",
    "for word in purpose_lemmas[::2]:\n",
    "    if word == 'br':\n",
    "        purpose.append([])\n",
    "    elif word not in stop_words:\n",
    "        purpose[-1].append(word)\n",
    "        purpose_count += Counter([word])\n",
    "\n",
    "# Присвоим лемматизированые значения\n",
    "data['purpose'] = purpose"
   ]
  },
  {
   "cell_type": "markdown",
   "metadata": {},
   "source": [
    "Покажем 10 самых употребляемых слов."
   ]
  },
  {
   "cell_type": "code",
   "execution_count": 86,
   "metadata": {},
   "outputs": [
    {
     "data": {
      "text/plain": [
       "[('недвижимость', 6351),\n",
       " ('покупка', 5897),\n",
       " ('жилье', 4460),\n",
       " ('автомобиль', 4306),\n",
       " ('образование', 4013),\n",
       " ('операция', 2604),\n",
       " ('свадьба', 2324),\n",
       " ('свой', 2230),\n",
       " ('строительство', 1878),\n",
       " ('высокий', 1374)]"
      ]
     },
     "execution_count": 86,
     "metadata": {},
     "output_type": "execute_result"
    }
   ],
   "source": [
    "purpose_count.most_common(10)"
   ]
  },
  {
   "cell_type": "markdown",
   "metadata": {},
   "source": [
    "Из списка выше можно определить список целей, которые указывают клиенты."
   ]
  },
  {
   "cell_type": "code",
   "execution_count": 87,
   "metadata": {
    "scrolled": false
   },
   "outputs": [],
   "source": [
    "general_purpose_list = {'недвижимость', 'жилье', 'автомобиль', 'образование', 'свадьба'}"
   ]
  },
  {
   "cell_type": "markdown",
   "metadata": {},
   "source": [
    "Заменим леммы в столбце *purpose* на одно из значений списка целей. Заметим, что цели \"недвижимость\" и \"жилье\" являются одним и тем же, значение \"жилье\" можно заменить на \"недвижимость\"."
   ]
  },
  {
   "cell_type": "code",
   "execution_count": 88,
   "metadata": {},
   "outputs": [],
   "source": [
    "def lemmas_to_category(row):\n",
    "    purpose = set(row['purpose']).intersection(general_purpose_list).pop()\n",
    "    if purpose == 'жилье':\n",
    "        purpose = 'недвижимость'\n",
    "    return purpose"
   ]
  },
  {
   "cell_type": "code",
   "execution_count": 89,
   "metadata": {},
   "outputs": [
    {
     "data": {
      "text/html": [
       "<div>\n",
       "<style scoped>\n",
       "    .dataframe tbody tr th:only-of-type {\n",
       "        vertical-align: middle;\n",
       "    }\n",
       "\n",
       "    .dataframe tbody tr th {\n",
       "        vertical-align: top;\n",
       "    }\n",
       "\n",
       "    .dataframe thead th {\n",
       "        text-align: right;\n",
       "    }\n",
       "</style>\n",
       "<table border=\"1\" class=\"dataframe\">\n",
       "  <thead>\n",
       "    <tr style=\"text-align: right;\">\n",
       "      <th></th>\n",
       "      <th>children</th>\n",
       "      <th>days_employed</th>\n",
       "      <th>dob_years</th>\n",
       "      <th>education</th>\n",
       "      <th>education_id</th>\n",
       "      <th>family_status</th>\n",
       "      <th>family_status_id</th>\n",
       "      <th>gender</th>\n",
       "      <th>income_type</th>\n",
       "      <th>debt</th>\n",
       "      <th>total_income</th>\n",
       "      <th>purpose</th>\n",
       "    </tr>\n",
       "  </thead>\n",
       "  <tbody>\n",
       "    <tr>\n",
       "      <th>0</th>\n",
       "      <td>1</td>\n",
       "      <td>8437</td>\n",
       "      <td>42</td>\n",
       "      <td>высшее</td>\n",
       "      <td>0</td>\n",
       "      <td>женат / замужем</td>\n",
       "      <td>0</td>\n",
       "      <td>F</td>\n",
       "      <td>сотрудник</td>\n",
       "      <td>0</td>\n",
       "      <td>253875</td>\n",
       "      <td>недвижимость</td>\n",
       "    </tr>\n",
       "    <tr>\n",
       "      <th>1</th>\n",
       "      <td>1</td>\n",
       "      <td>4024</td>\n",
       "      <td>36</td>\n",
       "      <td>среднее</td>\n",
       "      <td>1</td>\n",
       "      <td>женат / замужем</td>\n",
       "      <td>0</td>\n",
       "      <td>F</td>\n",
       "      <td>сотрудник</td>\n",
       "      <td>0</td>\n",
       "      <td>112080</td>\n",
       "      <td>автомобиль</td>\n",
       "    </tr>\n",
       "    <tr>\n",
       "      <th>2</th>\n",
       "      <td>0</td>\n",
       "      <td>5623</td>\n",
       "      <td>33</td>\n",
       "      <td>среднее</td>\n",
       "      <td>1</td>\n",
       "      <td>женат / замужем</td>\n",
       "      <td>0</td>\n",
       "      <td>M</td>\n",
       "      <td>сотрудник</td>\n",
       "      <td>0</td>\n",
       "      <td>145885</td>\n",
       "      <td>недвижимость</td>\n",
       "    </tr>\n",
       "    <tr>\n",
       "      <th>3</th>\n",
       "      <td>3</td>\n",
       "      <td>4124</td>\n",
       "      <td>32</td>\n",
       "      <td>среднее</td>\n",
       "      <td>1</td>\n",
       "      <td>женат / замужем</td>\n",
       "      <td>0</td>\n",
       "      <td>M</td>\n",
       "      <td>сотрудник</td>\n",
       "      <td>0</td>\n",
       "      <td>267628</td>\n",
       "      <td>образование</td>\n",
       "    </tr>\n",
       "    <tr>\n",
       "      <th>4</th>\n",
       "      <td>0</td>\n",
       "      <td>14177</td>\n",
       "      <td>53</td>\n",
       "      <td>среднее</td>\n",
       "      <td>1</td>\n",
       "      <td>гражданский брак</td>\n",
       "      <td>1</td>\n",
       "      <td>F</td>\n",
       "      <td>пенсионер</td>\n",
       "      <td>0</td>\n",
       "      <td>158616</td>\n",
       "      <td>свадьба</td>\n",
       "    </tr>\n",
       "  </tbody>\n",
       "</table>\n",
       "</div>"
      ],
      "text/plain": [
       "   children  days_employed  dob_years education  education_id  \\\n",
       "0         1           8437         42    высшее             0   \n",
       "1         1           4024         36   среднее             1   \n",
       "2         0           5623         33   среднее             1   \n",
       "3         3           4124         32   среднее             1   \n",
       "4         0          14177         53   среднее             1   \n",
       "\n",
       "      family_status  family_status_id gender income_type  debt  total_income  \\\n",
       "0   женат / замужем                 0      F   сотрудник     0        253875   \n",
       "1   женат / замужем                 0      F   сотрудник     0        112080   \n",
       "2   женат / замужем                 0      M   сотрудник     0        145885   \n",
       "3   женат / замужем                 0      M   сотрудник     0        267628   \n",
       "4  гражданский брак                 1      F   пенсионер     0        158616   \n",
       "\n",
       "        purpose  \n",
       "0  недвижимость  \n",
       "1    автомобиль  \n",
       "2  недвижимость  \n",
       "3   образование  \n",
       "4       свадьба  "
      ]
     },
     "execution_count": 89,
     "metadata": {},
     "output_type": "execute_result"
    }
   ],
   "source": [
    "data['purpose'] = data.apply(lemmas_to_category, axis=1)\n",
    "data.head(5)"
   ]
  },
  {
   "cell_type": "markdown",
   "metadata": {},
   "source": [
    "Проверим, что все строки имеют одну из целей в нашем списке."
   ]
  },
  {
   "cell_type": "code",
   "execution_count": 90,
   "metadata": {},
   "outputs": [
    {
     "data": {
      "text/plain": [
       "недвижимость    10811\n",
       "автомобиль       4306\n",
       "образование      4013\n",
       "свадьба          2324\n",
       "Name: purpose, dtype: int64"
      ]
     },
     "execution_count": 90,
     "metadata": {},
     "output_type": "execute_result"
    }
   ],
   "source": [
    "data['purpose'].value_counts()"
   ]
  },
  {
   "cell_type": "markdown",
   "metadata": {},
   "source": [
    "**Вывод**"
   ]
  },
  {
   "cell_type": "markdown",
   "metadata": {},
   "source": [
    "Столбец *purpose* лемматизирован. Из лемматизированных списков удалось выявить разделение целей кредита на 4 категории: недвижимость, автомобиль, образование и свадьба. "
   ]
  },
  {
   "cell_type": "markdown",
   "metadata": {},
   "source": [
    "### Категоризация данных"
   ]
  },
  {
   "cell_type": "markdown",
   "metadata": {},
   "source": [
    "#### *education*, *family_status*, *income_type*, *purpose*"
   ]
  },
  {
   "cell_type": "markdown",
   "metadata": {},
   "source": [
    "Выделим словарь для значений *education*"
   ]
  },
  {
   "cell_type": "code",
   "execution_count": 91,
   "metadata": {},
   "outputs": [
    {
     "data": {
      "text/html": [
       "<div>\n",
       "<style scoped>\n",
       "    .dataframe tbody tr th:only-of-type {\n",
       "        vertical-align: middle;\n",
       "    }\n",
       "\n",
       "    .dataframe tbody tr th {\n",
       "        vertical-align: top;\n",
       "    }\n",
       "\n",
       "    .dataframe thead th {\n",
       "        text-align: right;\n",
       "    }\n",
       "</style>\n",
       "<table border=\"1\" class=\"dataframe\">\n",
       "  <thead>\n",
       "    <tr style=\"text-align: right;\">\n",
       "      <th></th>\n",
       "      <th>education_id</th>\n",
       "      <th>education</th>\n",
       "    </tr>\n",
       "  </thead>\n",
       "  <tbody>\n",
       "    <tr>\n",
       "      <th>0</th>\n",
       "      <td>0</td>\n",
       "      <td>высшее</td>\n",
       "    </tr>\n",
       "    <tr>\n",
       "      <th>1</th>\n",
       "      <td>1</td>\n",
       "      <td>среднее</td>\n",
       "    </tr>\n",
       "    <tr>\n",
       "      <th>2</th>\n",
       "      <td>2</td>\n",
       "      <td>неоконченное высшее</td>\n",
       "    </tr>\n",
       "    <tr>\n",
       "      <th>3</th>\n",
       "      <td>3</td>\n",
       "      <td>начальное</td>\n",
       "    </tr>\n",
       "    <tr>\n",
       "      <th>4</th>\n",
       "      <td>4</td>\n",
       "      <td>ученая степень</td>\n",
       "    </tr>\n",
       "  </tbody>\n",
       "</table>\n",
       "</div>"
      ],
      "text/plain": [
       "   education_id            education\n",
       "0             0               высшее\n",
       "1             1              среднее\n",
       "2             2  неоконченное высшее\n",
       "3             3            начальное\n",
       "4             4       ученая степень"
      ]
     },
     "execution_count": 91,
     "metadata": {},
     "output_type": "execute_result"
    }
   ],
   "source": [
    "education_dict = data[['education_id', 'education']].drop_duplicates().reset_index(drop=True)\n",
    "education_dict"
   ]
  },
  {
   "cell_type": "markdown",
   "metadata": {},
   "source": [
    "Выделим словарь для значений *family_status*"
   ]
  },
  {
   "cell_type": "code",
   "execution_count": 92,
   "metadata": {
    "scrolled": true
   },
   "outputs": [
    {
     "data": {
      "text/html": [
       "<div>\n",
       "<style scoped>\n",
       "    .dataframe tbody tr th:only-of-type {\n",
       "        vertical-align: middle;\n",
       "    }\n",
       "\n",
       "    .dataframe tbody tr th {\n",
       "        vertical-align: top;\n",
       "    }\n",
       "\n",
       "    .dataframe thead th {\n",
       "        text-align: right;\n",
       "    }\n",
       "</style>\n",
       "<table border=\"1\" class=\"dataframe\">\n",
       "  <thead>\n",
       "    <tr style=\"text-align: right;\">\n",
       "      <th></th>\n",
       "      <th>family_status_id</th>\n",
       "      <th>family_status</th>\n",
       "    </tr>\n",
       "  </thead>\n",
       "  <tbody>\n",
       "    <tr>\n",
       "      <th>0</th>\n",
       "      <td>0</td>\n",
       "      <td>женат / замужем</td>\n",
       "    </tr>\n",
       "    <tr>\n",
       "      <th>1</th>\n",
       "      <td>1</td>\n",
       "      <td>гражданский брак</td>\n",
       "    </tr>\n",
       "    <tr>\n",
       "      <th>2</th>\n",
       "      <td>2</td>\n",
       "      <td>вдовец / вдова</td>\n",
       "    </tr>\n",
       "    <tr>\n",
       "      <th>3</th>\n",
       "      <td>3</td>\n",
       "      <td>в разводе</td>\n",
       "    </tr>\n",
       "    <tr>\n",
       "      <th>4</th>\n",
       "      <td>4</td>\n",
       "      <td>Не женат / не замужем</td>\n",
       "    </tr>\n",
       "  </tbody>\n",
       "</table>\n",
       "</div>"
      ],
      "text/plain": [
       "   family_status_id          family_status\n",
       "0                 0        женат / замужем\n",
       "1                 1       гражданский брак\n",
       "2                 2         вдовец / вдова\n",
       "3                 3              в разводе\n",
       "4                 4  Не женат / не замужем"
      ]
     },
     "execution_count": 92,
     "metadata": {},
     "output_type": "execute_result"
    }
   ],
   "source": [
    "family_status_dict = data[['family_status_id', 'family_status']].drop_duplicates().reset_index(drop=True)\n",
    "family_status_dict"
   ]
  },
  {
   "cell_type": "markdown",
   "metadata": {},
   "source": [
    "Выделим словарь для значений *income_type*"
   ]
  },
  {
   "cell_type": "code",
   "execution_count": 93,
   "metadata": {},
   "outputs": [
    {
     "data": {
      "text/html": [
       "<div>\n",
       "<style scoped>\n",
       "    .dataframe tbody tr th:only-of-type {\n",
       "        vertical-align: middle;\n",
       "    }\n",
       "\n",
       "    .dataframe tbody tr th {\n",
       "        vertical-align: top;\n",
       "    }\n",
       "\n",
       "    .dataframe thead th {\n",
       "        text-align: right;\n",
       "    }\n",
       "</style>\n",
       "<table border=\"1\" class=\"dataframe\">\n",
       "  <thead>\n",
       "    <tr style=\"text-align: right;\">\n",
       "      <th></th>\n",
       "      <th>income_type_id</th>\n",
       "      <th>income_type</th>\n",
       "    </tr>\n",
       "  </thead>\n",
       "  <tbody>\n",
       "    <tr>\n",
       "      <th>0</th>\n",
       "      <td>0</td>\n",
       "      <td>сотрудник</td>\n",
       "    </tr>\n",
       "    <tr>\n",
       "      <th>1</th>\n",
       "      <td>1</td>\n",
       "      <td>компаньон</td>\n",
       "    </tr>\n",
       "    <tr>\n",
       "      <th>2</th>\n",
       "      <td>2</td>\n",
       "      <td>пенсионер</td>\n",
       "    </tr>\n",
       "    <tr>\n",
       "      <th>3</th>\n",
       "      <td>3</td>\n",
       "      <td>госслужащий</td>\n",
       "    </tr>\n",
       "    <tr>\n",
       "      <th>4</th>\n",
       "      <td>4</td>\n",
       "      <td>предприниматель</td>\n",
       "    </tr>\n",
       "    <tr>\n",
       "      <th>5</th>\n",
       "      <td>5</td>\n",
       "      <td>безработный</td>\n",
       "    </tr>\n",
       "    <tr>\n",
       "      <th>6</th>\n",
       "      <td>6</td>\n",
       "      <td>в декрете</td>\n",
       "    </tr>\n",
       "    <tr>\n",
       "      <th>7</th>\n",
       "      <td>7</td>\n",
       "      <td>студент</td>\n",
       "    </tr>\n",
       "  </tbody>\n",
       "</table>\n",
       "</div>"
      ],
      "text/plain": [
       "   income_type_id      income_type\n",
       "0               0        сотрудник\n",
       "1               1        компаньон\n",
       "2               2        пенсионер\n",
       "3               3      госслужащий\n",
       "4               4  предприниматель\n",
       "5               5      безработный\n",
       "6               6        в декрете\n",
       "7               7          студент"
      ]
     },
     "execution_count": 93,
     "metadata": {},
     "output_type": "execute_result"
    }
   ],
   "source": [
    "df_dict = {'income_type_id': list(range(data['income_type'].value_counts().shape[0])),\n",
    "           'income_type': data['income_type'].value_counts().index}\n",
    "income_type_dict = pd.DataFrame(df_dict)\n",
    "income_type_dict"
   ]
  },
  {
   "cell_type": "markdown",
   "metadata": {},
   "source": [
    "Выделим словарь для значений *purpose*"
   ]
  },
  {
   "cell_type": "code",
   "execution_count": 94,
   "metadata": {},
   "outputs": [
    {
     "data": {
      "text/plain": [
       "{'автомобиль', 'жилье', 'недвижимость', 'образование', 'свадьба'}"
      ]
     },
     "execution_count": 94,
     "metadata": {},
     "output_type": "execute_result"
    }
   ],
   "source": [
    "general_purpose_list"
   ]
  },
  {
   "cell_type": "code",
   "execution_count": 95,
   "metadata": {
    "scrolled": true
   },
   "outputs": [
    {
     "data": {
      "text/html": [
       "<div>\n",
       "<style scoped>\n",
       "    .dataframe tbody tr th:only-of-type {\n",
       "        vertical-align: middle;\n",
       "    }\n",
       "\n",
       "    .dataframe tbody tr th {\n",
       "        vertical-align: top;\n",
       "    }\n",
       "\n",
       "    .dataframe thead th {\n",
       "        text-align: right;\n",
       "    }\n",
       "</style>\n",
       "<table border=\"1\" class=\"dataframe\">\n",
       "  <thead>\n",
       "    <tr style=\"text-align: right;\">\n",
       "      <th></th>\n",
       "      <th>purpose_id</th>\n",
       "      <th>purpose</th>\n",
       "    </tr>\n",
       "  </thead>\n",
       "  <tbody>\n",
       "    <tr>\n",
       "      <th>0</th>\n",
       "      <td>0</td>\n",
       "      <td>автомобиль</td>\n",
       "    </tr>\n",
       "    <tr>\n",
       "      <th>1</th>\n",
       "      <td>1</td>\n",
       "      <td>образование</td>\n",
       "    </tr>\n",
       "    <tr>\n",
       "      <th>2</th>\n",
       "      <td>2</td>\n",
       "      <td>недвижимость</td>\n",
       "    </tr>\n",
       "    <tr>\n",
       "      <th>3</th>\n",
       "      <td>3</td>\n",
       "      <td>свадьба</td>\n",
       "    </tr>\n",
       "  </tbody>\n",
       "</table>\n",
       "</div>"
      ],
      "text/plain": [
       "   purpose_id       purpose\n",
       "0           0    автомобиль\n",
       "1           1   образование\n",
       "2           2  недвижимость\n",
       "3           3       свадьба"
      ]
     },
     "execution_count": 95,
     "metadata": {},
     "output_type": "execute_result"
    }
   ],
   "source": [
    "general_purpose_list.remove('жилье')\n",
    "df_dict = {'purpose_id':[0, 1, 2, 3], 'purpose':list(general_purpose_list)}\n",
    "purpose_dict = pd.DataFrame(df_dict)\n",
    "purpose_dict"
   ]
  },
  {
   "cell_type": "markdown",
   "metadata": {},
   "source": [
    "#### *total_income*"
   ]
  },
  {
   "cell_type": "markdown",
   "metadata": {},
   "source": [
    "Исследуем значения *total_income*."
   ]
  },
  {
   "cell_type": "code",
   "execution_count": 96,
   "metadata": {},
   "outputs": [
    {
     "data": {
      "text/plain": [
       "count    2.145400e+04\n",
       "mean     1.653196e+05\n",
       "std      9.818730e+04\n",
       "min      2.066700e+04\n",
       "25%      1.076230e+05\n",
       "50%      1.425940e+05\n",
       "75%      1.958202e+05\n",
       "max      2.265604e+06\n",
       "Name: total_income, dtype: float64"
      ]
     },
     "metadata": {},
     "output_type": "display_data"
    },
    {
     "data": {
      "image/png": "[encoded data removed]",
      "text/plain": [
       "<Figure size 864x576 with 2 Axes>"
      ]
     },
     "metadata": {
      "needs_background": "light"
     },
     "output_type": "display_data"
    }
   ],
   "source": [
    "display(data['total_income'].describe())\n",
    "\n",
    "fig, ax = plt.subplots(2, 1, figsize=(12, 8), gridspec_kw=dict(height_ratios=[3, 1]))\n",
    "\n",
    "ax[0].hist(data['total_income'], bins=200, rwidth=0.8)\n",
    "ax[0].grid()\n",
    "ax[0].set_xlim(0, 1e6)\n",
    "ax[0].set_title('Total income distribution')\n",
    "ax[0].set_ylabel('count')\n",
    "\n",
    "ax[1].boxplot(data['total_income'], vert=False, widths=0.7)\n",
    "ax[1].grid()\n",
    "ax[1].set_xlim(0, 1e6)\n",
    "ax[1].set_xlabel('total_income')\n",
    "\n",
    "plt.show()"
   ]
  },
  {
   "cell_type": "markdown",
   "metadata": {},
   "source": [
    "Разделим доход клиентов на четыре группы и напишем  функцию, которая определит группу для каждого клиента по его доходу. "
   ]
  },
  {
   "cell_type": "code",
   "execution_count": 97,
   "metadata": {},
   "outputs": [
    {
     "data": {
      "text/html": [
       "<div>\n",
       "<style scoped>\n",
       "    .dataframe tbody tr th:only-of-type {\n",
       "        vertical-align: middle;\n",
       "    }\n",
       "\n",
       "    .dataframe tbody tr th {\n",
       "        vertical-align: top;\n",
       "    }\n",
       "\n",
       "    .dataframe thead th {\n",
       "        text-align: right;\n",
       "    }\n",
       "</style>\n",
       "<table border=\"1\" class=\"dataframe\">\n",
       "  <thead>\n",
       "    <tr style=\"text-align: right;\">\n",
       "      <th></th>\n",
       "      <th>income_status_id</th>\n",
       "      <th>income_status</th>\n",
       "    </tr>\n",
       "  </thead>\n",
       "  <tbody>\n",
       "    <tr>\n",
       "      <th>0</th>\n",
       "      <td>0</td>\n",
       "      <td>до 100000</td>\n",
       "    </tr>\n",
       "    <tr>\n",
       "      <th>1</th>\n",
       "      <td>1</td>\n",
       "      <td>от 100 до 200 тыс.</td>\n",
       "    </tr>\n",
       "    <tr>\n",
       "      <th>2</th>\n",
       "      <td>2</td>\n",
       "      <td>от 200 до 400 тыс.</td>\n",
       "    </tr>\n",
       "    <tr>\n",
       "      <th>3</th>\n",
       "      <td>3</td>\n",
       "      <td>больше 400 тыс.</td>\n",
       "    </tr>\n",
       "  </tbody>\n",
       "</table>\n",
       "</div>"
      ],
      "text/plain": [
       "   income_status_id       income_status\n",
       "0                 0           до 100000\n",
       "1                 1  от 100 до 200 тыс.\n",
       "2                 2  от 200 до 400 тыс.\n",
       "3                 3     больше 400 тыс."
      ]
     },
     "execution_count": 97,
     "metadata": {},
     "output_type": "execute_result"
    }
   ],
   "source": [
    "income_list = ['до 100000', 'от 100 до 200 тыс.', 'от 200 до 400 тыс.', 'больше 400 тыс.']\n",
    "\n",
    "def income_category(row):\n",
    "    income = row['total_income']\n",
    "    \n",
    "    if income > 400000:\n",
    "        return income_list[3]\n",
    "    \n",
    "    elif income > 200000:\n",
    "        return income_list[2]\n",
    "    \n",
    "    elif income > 100000:\n",
    "        return income_list[1]\n",
    "    \n",
    "    elif income > 0:\n",
    "        return income_list[0]\n",
    "\n",
    "data['income_status'] = data.apply(income_category, axis=1)\n",
    "\n",
    "df_dict = {'income_status_id':[0, 1, 2, 3], 'income_status':income_list}\n",
    "income_dict = pd.DataFrame(df_dict)\n",
    "income_dict"
   ]
  },
  {
   "cell_type": "code",
   "execution_count": 98,
   "metadata": {},
   "outputs": [
    {
     "data": {
      "text/plain": [
       "от 100 до 200 тыс.    11924\n",
       "от 200 до 400 тыс.     4538\n",
       "до 100000              4463\n",
       "больше 400 тыс.         529\n",
       "Name: income_status, dtype: int64"
      ]
     },
     "execution_count": 98,
     "metadata": {},
     "output_type": "execute_result"
    }
   ],
   "source": [
    "data['income_status'].value_counts()"
   ]
  },
  {
   "cell_type": "code",
   "execution_count": 99,
   "metadata": {},
   "outputs": [
    {
     "data": {
      "text/html": [
       "<div>\n",
       "<style scoped>\n",
       "    .dataframe tbody tr th:only-of-type {\n",
       "        vertical-align: middle;\n",
       "    }\n",
       "\n",
       "    .dataframe tbody tr th {\n",
       "        vertical-align: top;\n",
       "    }\n",
       "\n",
       "    .dataframe thead th {\n",
       "        text-align: right;\n",
       "    }\n",
       "</style>\n",
       "<table border=\"1\" class=\"dataframe\">\n",
       "  <thead>\n",
       "    <tr style=\"text-align: right;\">\n",
       "      <th></th>\n",
       "      <th>children</th>\n",
       "      <th>days_employed</th>\n",
       "      <th>dob_years</th>\n",
       "      <th>education</th>\n",
       "      <th>education_id</th>\n",
       "      <th>family_status</th>\n",
       "      <th>family_status_id</th>\n",
       "      <th>gender</th>\n",
       "      <th>income_type</th>\n",
       "      <th>debt</th>\n",
       "      <th>total_income</th>\n",
       "      <th>purpose</th>\n",
       "      <th>income_status</th>\n",
       "    </tr>\n",
       "  </thead>\n",
       "  <tbody>\n",
       "    <tr>\n",
       "      <th>0</th>\n",
       "      <td>1</td>\n",
       "      <td>8437</td>\n",
       "      <td>42</td>\n",
       "      <td>высшее</td>\n",
       "      <td>0</td>\n",
       "      <td>женат / замужем</td>\n",
       "      <td>0</td>\n",
       "      <td>F</td>\n",
       "      <td>сотрудник</td>\n",
       "      <td>0</td>\n",
       "      <td>253875</td>\n",
       "      <td>недвижимость</td>\n",
       "      <td>от 200 до 400 тыс.</td>\n",
       "    </tr>\n",
       "    <tr>\n",
       "      <th>1</th>\n",
       "      <td>1</td>\n",
       "      <td>4024</td>\n",
       "      <td>36</td>\n",
       "      <td>среднее</td>\n",
       "      <td>1</td>\n",
       "      <td>женат / замужем</td>\n",
       "      <td>0</td>\n",
       "      <td>F</td>\n",
       "      <td>сотрудник</td>\n",
       "      <td>0</td>\n",
       "      <td>112080</td>\n",
       "      <td>автомобиль</td>\n",
       "      <td>от 100 до 200 тыс.</td>\n",
       "    </tr>\n",
       "    <tr>\n",
       "      <th>2</th>\n",
       "      <td>0</td>\n",
       "      <td>5623</td>\n",
       "      <td>33</td>\n",
       "      <td>среднее</td>\n",
       "      <td>1</td>\n",
       "      <td>женат / замужем</td>\n",
       "      <td>0</td>\n",
       "      <td>M</td>\n",
       "      <td>сотрудник</td>\n",
       "      <td>0</td>\n",
       "      <td>145885</td>\n",
       "      <td>недвижимость</td>\n",
       "      <td>от 100 до 200 тыс.</td>\n",
       "    </tr>\n",
       "    <tr>\n",
       "      <th>3</th>\n",
       "      <td>3</td>\n",
       "      <td>4124</td>\n",
       "      <td>32</td>\n",
       "      <td>среднее</td>\n",
       "      <td>1</td>\n",
       "      <td>женат / замужем</td>\n",
       "      <td>0</td>\n",
       "      <td>M</td>\n",
       "      <td>сотрудник</td>\n",
       "      <td>0</td>\n",
       "      <td>267628</td>\n",
       "      <td>образование</td>\n",
       "      <td>от 200 до 400 тыс.</td>\n",
       "    </tr>\n",
       "    <tr>\n",
       "      <th>4</th>\n",
       "      <td>0</td>\n",
       "      <td>14177</td>\n",
       "      <td>53</td>\n",
       "      <td>среднее</td>\n",
       "      <td>1</td>\n",
       "      <td>гражданский брак</td>\n",
       "      <td>1</td>\n",
       "      <td>F</td>\n",
       "      <td>пенсионер</td>\n",
       "      <td>0</td>\n",
       "      <td>158616</td>\n",
       "      <td>свадьба</td>\n",
       "      <td>от 100 до 200 тыс.</td>\n",
       "    </tr>\n",
       "  </tbody>\n",
       "</table>\n",
       "</div>"
      ],
      "text/plain": [
       "   children  days_employed  dob_years education  education_id  \\\n",
       "0         1           8437         42    высшее             0   \n",
       "1         1           4024         36   среднее             1   \n",
       "2         0           5623         33   среднее             1   \n",
       "3         3           4124         32   среднее             1   \n",
       "4         0          14177         53   среднее             1   \n",
       "\n",
       "      family_status  family_status_id gender income_type  debt  total_income  \\\n",
       "0   женат / замужем                 0      F   сотрудник     0        253875   \n",
       "1   женат / замужем                 0      F   сотрудник     0        112080   \n",
       "2   женат / замужем                 0      M   сотрудник     0        145885   \n",
       "3   женат / замужем                 0      M   сотрудник     0        267628   \n",
       "4  гражданский брак                 1      F   пенсионер     0        158616   \n",
       "\n",
       "        purpose       income_status  \n",
       "0  недвижимость  от 200 до 400 тыс.  \n",
       "1    автомобиль  от 100 до 200 тыс.  \n",
       "2  недвижимость  от 100 до 200 тыс.  \n",
       "3   образование  от 200 до 400 тыс.  \n",
       "4       свадьба  от 100 до 200 тыс.  "
      ]
     },
     "execution_count": 99,
     "metadata": {},
     "output_type": "execute_result"
    }
   ],
   "source": [
    "data.head()"
   ]
  },
  {
   "cell_type": "markdown",
   "metadata": {},
   "source": [
    "Добавим идентификаторы дохода клиента, цели кредита и типа занятости *income_status_id*  в таблицу *data*."
   ]
  },
  {
   "cell_type": "code",
   "execution_count": 100,
   "metadata": {},
   "outputs": [
    {
     "data": {
      "text/html": [
       "<div>\n",
       "<style scoped>\n",
       "    .dataframe tbody tr th:only-of-type {\n",
       "        vertical-align: middle;\n",
       "    }\n",
       "\n",
       "    .dataframe tbody tr th {\n",
       "        vertical-align: top;\n",
       "    }\n",
       "\n",
       "    .dataframe thead th {\n",
       "        text-align: right;\n",
       "    }\n",
       "</style>\n",
       "<table border=\"1\" class=\"dataframe\">\n",
       "  <thead>\n",
       "    <tr style=\"text-align: right;\">\n",
       "      <th></th>\n",
       "      <th>children</th>\n",
       "      <th>days_employed</th>\n",
       "      <th>dob_years</th>\n",
       "      <th>education</th>\n",
       "      <th>education_id</th>\n",
       "      <th>family_status</th>\n",
       "      <th>family_status_id</th>\n",
       "      <th>gender</th>\n",
       "      <th>income_type</th>\n",
       "      <th>debt</th>\n",
       "      <th>total_income</th>\n",
       "      <th>purpose</th>\n",
       "      <th>income_status</th>\n",
       "      <th>income_status_id</th>\n",
       "      <th>purpose_id</th>\n",
       "      <th>income_type_id</th>\n",
       "    </tr>\n",
       "  </thead>\n",
       "  <tbody>\n",
       "    <tr>\n",
       "      <th>0</th>\n",
       "      <td>1</td>\n",
       "      <td>8437</td>\n",
       "      <td>42</td>\n",
       "      <td>высшее</td>\n",
       "      <td>0</td>\n",
       "      <td>женат / замужем</td>\n",
       "      <td>0</td>\n",
       "      <td>F</td>\n",
       "      <td>сотрудник</td>\n",
       "      <td>0</td>\n",
       "      <td>253875</td>\n",
       "      <td>недвижимость</td>\n",
       "      <td>от 200 до 400 тыс.</td>\n",
       "      <td>2</td>\n",
       "      <td>2</td>\n",
       "      <td>0</td>\n",
       "    </tr>\n",
       "    <tr>\n",
       "      <th>1</th>\n",
       "      <td>1</td>\n",
       "      <td>4024</td>\n",
       "      <td>36</td>\n",
       "      <td>среднее</td>\n",
       "      <td>1</td>\n",
       "      <td>женат / замужем</td>\n",
       "      <td>0</td>\n",
       "      <td>F</td>\n",
       "      <td>сотрудник</td>\n",
       "      <td>0</td>\n",
       "      <td>112080</td>\n",
       "      <td>автомобиль</td>\n",
       "      <td>от 100 до 200 тыс.</td>\n",
       "      <td>1</td>\n",
       "      <td>0</td>\n",
       "      <td>0</td>\n",
       "    </tr>\n",
       "    <tr>\n",
       "      <th>2</th>\n",
       "      <td>0</td>\n",
       "      <td>5623</td>\n",
       "      <td>33</td>\n",
       "      <td>среднее</td>\n",
       "      <td>1</td>\n",
       "      <td>женат / замужем</td>\n",
       "      <td>0</td>\n",
       "      <td>M</td>\n",
       "      <td>сотрудник</td>\n",
       "      <td>0</td>\n",
       "      <td>145885</td>\n",
       "      <td>недвижимость</td>\n",
       "      <td>от 100 до 200 тыс.</td>\n",
       "      <td>1</td>\n",
       "      <td>2</td>\n",
       "      <td>0</td>\n",
       "    </tr>\n",
       "    <tr>\n",
       "      <th>3</th>\n",
       "      <td>3</td>\n",
       "      <td>4124</td>\n",
       "      <td>32</td>\n",
       "      <td>среднее</td>\n",
       "      <td>1</td>\n",
       "      <td>женат / замужем</td>\n",
       "      <td>0</td>\n",
       "      <td>M</td>\n",
       "      <td>сотрудник</td>\n",
       "      <td>0</td>\n",
       "      <td>267628</td>\n",
       "      <td>образование</td>\n",
       "      <td>от 200 до 400 тыс.</td>\n",
       "      <td>2</td>\n",
       "      <td>1</td>\n",
       "      <td>0</td>\n",
       "    </tr>\n",
       "    <tr>\n",
       "      <th>4</th>\n",
       "      <td>0</td>\n",
       "      <td>14177</td>\n",
       "      <td>53</td>\n",
       "      <td>среднее</td>\n",
       "      <td>1</td>\n",
       "      <td>гражданский брак</td>\n",
       "      <td>1</td>\n",
       "      <td>F</td>\n",
       "      <td>пенсионер</td>\n",
       "      <td>0</td>\n",
       "      <td>158616</td>\n",
       "      <td>свадьба</td>\n",
       "      <td>от 100 до 200 тыс.</td>\n",
       "      <td>1</td>\n",
       "      <td>3</td>\n",
       "      <td>2</td>\n",
       "    </tr>\n",
       "  </tbody>\n",
       "</table>\n",
       "</div>"
      ],
      "text/plain": [
       "   children  days_employed  dob_years education  education_id  \\\n",
       "0         1           8437         42    высшее             0   \n",
       "1         1           4024         36   среднее             1   \n",
       "2         0           5623         33   среднее             1   \n",
       "3         3           4124         32   среднее             1   \n",
       "4         0          14177         53   среднее             1   \n",
       "\n",
       "      family_status  family_status_id gender income_type  debt  total_income  \\\n",
       "0   женат / замужем                 0      F   сотрудник     0        253875   \n",
       "1   женат / замужем                 0      F   сотрудник     0        112080   \n",
       "2   женат / замужем                 0      M   сотрудник     0        145885   \n",
       "3   женат / замужем                 0      M   сотрудник     0        267628   \n",
       "4  гражданский брак                 1      F   пенсионер     0        158616   \n",
       "\n",
       "        purpose       income_status  income_status_id  purpose_id  \\\n",
       "0  недвижимость  от 200 до 400 тыс.                 2           2   \n",
       "1    автомобиль  от 100 до 200 тыс.                 1           0   \n",
       "2  недвижимость  от 100 до 200 тыс.                 1           2   \n",
       "3   образование  от 200 до 400 тыс.                 2           1   \n",
       "4       свадьба  от 100 до 200 тыс.                 1           3   \n",
       "\n",
       "   income_type_id  \n",
       "0               0  \n",
       "1               0  \n",
       "2               0  \n",
       "3               0  \n",
       "4               2  "
      ]
     },
     "execution_count": 100,
     "metadata": {},
     "output_type": "execute_result"
    }
   ],
   "source": [
    "data = data.merge(income_dict, on='income_status', how='left')\n",
    "data = data.merge(purpose_dict, on='purpose', how='left')\n",
    "data = data.merge(income_type_dict, on='income_type', how='left')\n",
    "data.head()"
   ]
  },
  {
   "cell_type": "markdown",
   "metadata": {},
   "source": [
    "Удалим из таблицы столбцы, дублирующие словари."
   ]
  },
  {
   "cell_type": "code",
   "execution_count": 101,
   "metadata": {},
   "outputs": [],
   "source": [
    "data.drop(['education', 'family_status', 'purpose', 'income_status', 'income_type'], axis=1, inplace=True)"
   ]
  },
  {
   "cell_type": "code",
   "execution_count": 102,
   "metadata": {},
   "outputs": [
    {
     "data": {
      "text/html": [
       "<div>\n",
       "<style scoped>\n",
       "    .dataframe tbody tr th:only-of-type {\n",
       "        vertical-align: middle;\n",
       "    }\n",
       "\n",
       "    .dataframe tbody tr th {\n",
       "        vertical-align: top;\n",
       "    }\n",
       "\n",
       "    .dataframe thead th {\n",
       "        text-align: right;\n",
       "    }\n",
       "</style>\n",
       "<table border=\"1\" class=\"dataframe\">\n",
       "  <thead>\n",
       "    <tr style=\"text-align: right;\">\n",
       "      <th></th>\n",
       "      <th>children</th>\n",
       "      <th>days_employed</th>\n",
       "      <th>dob_years</th>\n",
       "      <th>education_id</th>\n",
       "      <th>family_status_id</th>\n",
       "      <th>gender</th>\n",
       "      <th>debt</th>\n",
       "      <th>total_income</th>\n",
       "      <th>income_status_id</th>\n",
       "      <th>purpose_id</th>\n",
       "      <th>income_type_id</th>\n",
       "    </tr>\n",
       "  </thead>\n",
       "  <tbody>\n",
       "    <tr>\n",
       "      <th>0</th>\n",
       "      <td>1</td>\n",
       "      <td>8437</td>\n",
       "      <td>42</td>\n",
       "      <td>0</td>\n",
       "      <td>0</td>\n",
       "      <td>F</td>\n",
       "      <td>0</td>\n",
       "      <td>253875</td>\n",
       "      <td>2</td>\n",
       "      <td>2</td>\n",
       "      <td>0</td>\n",
       "    </tr>\n",
       "    <tr>\n",
       "      <th>1</th>\n",
       "      <td>1</td>\n",
       "      <td>4024</td>\n",
       "      <td>36</td>\n",
       "      <td>1</td>\n",
       "      <td>0</td>\n",
       "      <td>F</td>\n",
       "      <td>0</td>\n",
       "      <td>112080</td>\n",
       "      <td>1</td>\n",
       "      <td>0</td>\n",
       "      <td>0</td>\n",
       "    </tr>\n",
       "    <tr>\n",
       "      <th>2</th>\n",
       "      <td>0</td>\n",
       "      <td>5623</td>\n",
       "      <td>33</td>\n",
       "      <td>1</td>\n",
       "      <td>0</td>\n",
       "      <td>M</td>\n",
       "      <td>0</td>\n",
       "      <td>145885</td>\n",
       "      <td>1</td>\n",
       "      <td>2</td>\n",
       "      <td>0</td>\n",
       "    </tr>\n",
       "    <tr>\n",
       "      <th>3</th>\n",
       "      <td>3</td>\n",
       "      <td>4124</td>\n",
       "      <td>32</td>\n",
       "      <td>1</td>\n",
       "      <td>0</td>\n",
       "      <td>M</td>\n",
       "      <td>0</td>\n",
       "      <td>267628</td>\n",
       "      <td>2</td>\n",
       "      <td>1</td>\n",
       "      <td>0</td>\n",
       "    </tr>\n",
       "    <tr>\n",
       "      <th>4</th>\n",
       "      <td>0</td>\n",
       "      <td>14177</td>\n",
       "      <td>53</td>\n",
       "      <td>1</td>\n",
       "      <td>1</td>\n",
       "      <td>F</td>\n",
       "      <td>0</td>\n",
       "      <td>158616</td>\n",
       "      <td>1</td>\n",
       "      <td>3</td>\n",
       "      <td>2</td>\n",
       "    </tr>\n",
       "  </tbody>\n",
       "</table>\n",
       "</div>"
      ],
      "text/plain": [
       "   children  days_employed  dob_years  education_id  family_status_id gender  \\\n",
       "0         1           8437         42             0                 0      F   \n",
       "1         1           4024         36             1                 0      F   \n",
       "2         0           5623         33             1                 0      M   \n",
       "3         3           4124         32             1                 0      M   \n",
       "4         0          14177         53             1                 1      F   \n",
       "\n",
       "   debt  total_income  income_status_id  purpose_id  income_type_id  \n",
       "0     0        253875                 2           2               0  \n",
       "1     0        112080                 1           0               0  \n",
       "2     0        145885                 1           2               0  \n",
       "3     0        267628                 2           1               0  \n",
       "4     0        158616                 1           3               2  "
      ]
     },
     "execution_count": 102,
     "metadata": {},
     "output_type": "execute_result"
    }
   ],
   "source": [
    "data.head()"
   ]
  },
  {
   "cell_type": "markdown",
   "metadata": {},
   "source": [
    "**Вывод**"
   ]
  },
  {
   "cell_type": "markdown",
   "metadata": {},
   "source": [
    "Предобработка данных завершена, можно переходить к ответам на поставленные вопросы, используя преобразованные данные.\n",
    "Были проведены следующие операции:\n",
    "\n",
    "- исключены дубликаты строк;\n",
    "- заполнены пропуски \"востановленными\" значениями;\n",
    "- приведены типы данных к удобным для анализа;\n",
    "- категориальные значения выделены в отдельные словари и в таблице заменены на числовые значения. "
   ]
  },
  {
   "cell_type": "markdown",
   "metadata": {},
   "source": [
    "## Ответьте на вопросы"
   ]
  },
  {
   "cell_type": "markdown",
   "metadata": {},
   "source": [
    "### Есть ли зависимость между наличием детей и возвратом кредита в срок?"
   ]
  },
  {
   "cell_type": "markdown",
   "metadata": {},
   "source": [
    "Составим сводную таблицу по столбцам *children* и *debt*. Сгруппируем по числу детей заемщика и посчитаем процент и количество должников по каждой группе."
   ]
  },
  {
   "cell_type": "code",
   "execution_count": 103,
   "metadata": {},
   "outputs": [
    {
     "data": {
      "text/html": [
       "<style  type=\"text/css\" >\n",
       "</style><table id=\"T_9348e_\" ><thead>    <tr>        <th class=\"blank level0\" ></th>        <th class=\"col_heading level0 col0\" >mean</th>        <th class=\"col_heading level0 col1\" >count</th>    </tr>    <tr>        <th class=\"blank level1\" ></th>        <th class=\"col_heading level1 col0\" >debt</th>        <th class=\"col_heading level1 col1\" >debt</th>    </tr>    <tr>        <th class=\"index_name level0\" >children</th>        <th class=\"blank\" ></th>        <th class=\"blank\" ></th>    </tr></thead><tbody>\n",
       "                <tr>\n",
       "                        <th id=\"T_9348e_level0_row0\" class=\"row_heading level0 row0\" >4</th>\n",
       "                        <td id=\"T_9348e_row0_col0\" class=\"data row0 col0\" >9.76%</td>\n",
       "                        <td id=\"T_9348e_row0_col1\" class=\"data row0 col1\" >41</td>\n",
       "            </tr>\n",
       "            <tr>\n",
       "                        <th id=\"T_9348e_level0_row1\" class=\"row_heading level0 row1\" >2</th>\n",
       "                        <td id=\"T_9348e_row1_col0\" class=\"data row1 col0\" >9.49%</td>\n",
       "                        <td id=\"T_9348e_row1_col1\" class=\"data row1 col1\" >2128</td>\n",
       "            </tr>\n",
       "            <tr>\n",
       "                        <th id=\"T_9348e_level0_row2\" class=\"row_heading level0 row2\" >1</th>\n",
       "                        <td id=\"T_9348e_row2_col0\" class=\"data row2 col0\" >9.17%</td>\n",
       "                        <td id=\"T_9348e_row2_col1\" class=\"data row2 col1\" >4855</td>\n",
       "            </tr>\n",
       "            <tr>\n",
       "                        <th id=\"T_9348e_level0_row3\" class=\"row_heading level0 row3\" >3</th>\n",
       "                        <td id=\"T_9348e_row3_col0\" class=\"data row3 col0\" >8.18%</td>\n",
       "                        <td id=\"T_9348e_row3_col1\" class=\"data row3 col1\" >330</td>\n",
       "            </tr>\n",
       "            <tr>\n",
       "                        <th id=\"T_9348e_level0_row4\" class=\"row_heading level0 row4\" >0</th>\n",
       "                        <td id=\"T_9348e_row4_col0\" class=\"data row4 col0\" >7.54%</td>\n",
       "                        <td id=\"T_9348e_row4_col1\" class=\"data row4 col1\" >14091</td>\n",
       "            </tr>\n",
       "            <tr>\n",
       "                        <th id=\"T_9348e_level0_row5\" class=\"row_heading level0 row5\" >5</th>\n",
       "                        <td id=\"T_9348e_row5_col0\" class=\"data row5 col0\" >0.00%</td>\n",
       "                        <td id=\"T_9348e_row5_col1\" class=\"data row5 col1\" >9</td>\n",
       "            </tr>\n",
       "    </tbody></table>"
      ],
      "text/plain": [
       "<pandas.io.formats.style.Styler at 0x2102a280370>"
      ]
     },
     "execution_count": 103,
     "metadata": {},
     "output_type": "execute_result"
    }
   ],
   "source": [
    "data.pivot_table(index='children', values='debt', aggfunc=['mean', 'count'])\\\n",
    "    .sort_values(by=('mean', 'debt'), ascending=False)\\\n",
    "    .style.format({('mean', 'debt'):'{:.2%}'})"
   ]
  },
  {
   "cell_type": "markdown",
   "metadata": {},
   "source": [
    "**Ответ**\n",
    "\n",
    "Минимальный процент невозвратных кредитов имеется у клиентов без детей. Далее по мере __увеличения количества детей процент задолженностей растет__. Из общей тенденции выделяется выборка клиентов с тремя детьми, показатель задолженности несколько ниже, чем у клиентов с двумя и четыремя детьми. Выборка клиентов с пятью детьми представлена девятью записями для анализа зависимости это слишком малое число."
   ]
  },
  {
   "cell_type": "markdown",
   "metadata": {},
   "source": [
    "### Есть ли зависимость между семейным положением и возвратом кредита в срок?"
   ]
  },
  {
   "cell_type": "markdown",
   "metadata": {},
   "source": [
    "Составим сводную таблицу по столбцам *family_status* и *debt*. Сгруппируем по статусу заемщика и посчитаем процент и количество должников по каждой группе."
   ]
  },
  {
   "cell_type": "code",
   "execution_count": 112,
   "metadata": {},
   "outputs": [
    {
     "data": {
      "text/html": [
       "<style  type=\"text/css\" >\n",
       "</style><table id=\"T_4dcfa_\" ><thead>    <tr>        <th class=\"blank level0\" ></th>        <th class=\"col_heading level0 col0\" >mean</th>        <th class=\"col_heading level0 col1\" >count</th>    </tr>    <tr>        <th class=\"blank level1\" ></th>        <th class=\"col_heading level1 col0\" >debt</th>        <th class=\"col_heading level1 col1\" >debt</th>    </tr>    <tr>        <th class=\"index_name level0\" >family_status</th>        <th class=\"blank\" ></th>        <th class=\"blank\" ></th>    </tr></thead><tbody>\n",
       "                <tr>\n",
       "                        <th id=\"T_4dcfa_level0_row0\" class=\"row_heading level0 row0\" >Не женат / не замужем</th>\n",
       "                        <td id=\"T_4dcfa_row0_col0\" class=\"data row0 col0\" >9.75%</td>\n",
       "                        <td id=\"T_4dcfa_row0_col1\" class=\"data row0 col1\" >2810</td>\n",
       "            </tr>\n",
       "            <tr>\n",
       "                        <th id=\"T_4dcfa_level0_row1\" class=\"row_heading level0 row1\" >гражданский брак</th>\n",
       "                        <td id=\"T_4dcfa_row1_col0\" class=\"data row1 col0\" >9.35%</td>\n",
       "                        <td id=\"T_4dcfa_row1_col1\" class=\"data row1 col1\" >4151</td>\n",
       "            </tr>\n",
       "            <tr>\n",
       "                        <th id=\"T_4dcfa_level0_row2\" class=\"row_heading level0 row2\" >женат / замужем</th>\n",
       "                        <td id=\"T_4dcfa_row2_col0\" class=\"data row2 col0\" >7.55%</td>\n",
       "                        <td id=\"T_4dcfa_row2_col1\" class=\"data row2 col1\" >12339</td>\n",
       "            </tr>\n",
       "            <tr>\n",
       "                        <th id=\"T_4dcfa_level0_row3\" class=\"row_heading level0 row3\" >в разводе</th>\n",
       "                        <td id=\"T_4dcfa_row3_col0\" class=\"data row3 col0\" >7.11%</td>\n",
       "                        <td id=\"T_4dcfa_row3_col1\" class=\"data row3 col1\" >1195</td>\n",
       "            </tr>\n",
       "            <tr>\n",
       "                        <th id=\"T_4dcfa_level0_row4\" class=\"row_heading level0 row4\" >вдовец / вдова</th>\n",
       "                        <td id=\"T_4dcfa_row4_col0\" class=\"data row4 col0\" >6.57%</td>\n",
       "                        <td id=\"T_4dcfa_row4_col1\" class=\"data row4 col1\" >959</td>\n",
       "            </tr>\n",
       "    </tbody></table>"
      ],
      "text/plain": [
       "<pandas.io.formats.style.Styler at 0x21029d0e6d0>"
      ]
     },
     "execution_count": 112,
     "metadata": {},
     "output_type": "execute_result"
    }
   ],
   "source": [
    "data.merge(family_status_dict, on='family_status_id', how='left')\\\n",
    "    .pivot_table(index='family_status', values='debt', aggfunc=['mean', 'count'])\\\n",
    "    .sort_values(by=('mean', 'debt'), ascending=False)\\\n",
    "    .style.format({('mean', 'debt'):'{:.2%}'})"
   ]
  },
  {
   "cell_type": "markdown",
   "metadata": {},
   "source": [
    "**Ответ**"
   ]
  },
  {
   "cell_type": "markdown",
   "metadata": {},
   "source": [
    "Среди клиентов никогда не регистрировавших брак - \"не женат/не замужем\", \"гражданский брак\" - прослеживается больший процент задолженности по кредиту - 9.75 и 9.35 процентов соответственно. Среди заемщиков заключавших брак ранее процент невозврата кредита меньше 6.57 - 7.55 %. Самый низкий показатель у \"вдовцов/вдов\", частично, можно объяснить малой выборкой, а высокую надежность клиентов находящихся в браке более высокой ответственностью заемщика, а также возможностью отдавать кредит супругам вместе."
   ]
  },
  {
   "cell_type": "markdown",
   "metadata": {},
   "source": [
    "### Есть ли зависимость между уровнем дохода и возвратом кредита в срок?"
   ]
  },
  {
   "cell_type": "markdown",
   "metadata": {},
   "source": [
    "Составим сводную таблицу по столбцам *income_status* и *debt*. Сгруппируем по доходу заемщика и посчитаем процент и количество должников по каждой группе."
   ]
  },
  {
   "cell_type": "code",
   "execution_count": 115,
   "metadata": {},
   "outputs": [
    {
     "data": {
      "text/html": [
       "<style  type=\"text/css\" >\n",
       "</style><table id=\"T_48383_\" ><thead>    <tr>        <th class=\"blank level0\" ></th>        <th class=\"col_heading level0 col0\" >mean</th>        <th class=\"col_heading level0 col1\" >count</th>    </tr>    <tr>        <th class=\"blank level1\" ></th>        <th class=\"col_heading level1 col0\" >debt</th>        <th class=\"col_heading level1 col1\" >debt</th>    </tr>    <tr>        <th class=\"index_name level0\" >income_status</th>        <th class=\"blank\" ></th>        <th class=\"blank\" ></th>    </tr></thead><tbody>\n",
       "                <tr>\n",
       "                        <th id=\"T_48383_level0_row0\" class=\"row_heading level0 row0\" >от 100 до 200 тыс.</th>\n",
       "                        <td id=\"T_48383_row0_col0\" class=\"data row0 col0\" >8.63%</td>\n",
       "                        <td id=\"T_48383_row0_col1\" class=\"data row0 col1\" >11924</td>\n",
       "            </tr>\n",
       "            <tr>\n",
       "                        <th id=\"T_48383_level0_row1\" class=\"row_heading level0 row1\" >до 100000</th>\n",
       "                        <td id=\"T_48383_row1_col0\" class=\"data row1 col0\" >7.93%</td>\n",
       "                        <td id=\"T_48383_row1_col1\" class=\"data row1 col1\" >4463</td>\n",
       "            </tr>\n",
       "            <tr>\n",
       "                        <th id=\"T_48383_level0_row2\" class=\"row_heading level0 row2\" >от 200 до 400 тыс.</th>\n",
       "                        <td id=\"T_48383_row2_col0\" class=\"data row2 col0\" >7.21%</td>\n",
       "                        <td id=\"T_48383_row2_col1\" class=\"data row2 col1\" >4538</td>\n",
       "            </tr>\n",
       "            <tr>\n",
       "                        <th id=\"T_48383_level0_row3\" class=\"row_heading level0 row3\" >больше 400 тыс.</th>\n",
       "                        <td id=\"T_48383_row3_col0\" class=\"data row3 col0\" >5.86%</td>\n",
       "                        <td id=\"T_48383_row3_col1\" class=\"data row3 col1\" >529</td>\n",
       "            </tr>\n",
       "    </tbody></table>"
      ],
      "text/plain": [
       "<pandas.io.formats.style.Styler at 0x210216cacd0>"
      ]
     },
     "execution_count": 115,
     "metadata": {},
     "output_type": "execute_result"
    }
   ],
   "source": [
    "data.merge(income_dict, on='income_status_id', how='left')\\\n",
    "    .pivot_table(index='income_status', values='debt', aggfunc=['mean', 'count'])\\\n",
    "    .sort_values(by=('mean', 'debt'), ascending=False)\\\n",
    "    .style.format({('mean', 'debt'):'{:.2%}'})"
   ]
  },
  {
   "cell_type": "markdown",
   "metadata": {},
   "source": [
    "**Ответ**"
   ]
  },
  {
   "cell_type": "markdown",
   "metadata": {},
   "source": [
    "Наибольшей надежностью отличаются заемщики с доходами в категориях от 200 тыс. и выше (7.03%, 7.15%). Больший процент невозврата в категории до 100 тыс. (7.93%). Максимальный процент задолжнности у клиентов, чьи доходы от 100 до 200 тыс. Эта категория клиентов оказалась самой активной. "
   ]
  },
  {
   "cell_type": "markdown",
   "metadata": {},
   "source": [
    "### Как разные цели кредита влияют на его возврат в срок?"
   ]
  },
  {
   "cell_type": "markdown",
   "metadata": {},
   "source": [
    "Составим сводную таблицу по столбцам *purpose* и *debt*. Сгруппируем по цели кредита и посчитаем процент и количество должников по каждой группе."
   ]
  },
  {
   "cell_type": "code",
   "execution_count": 116,
   "metadata": {},
   "outputs": [
    {
     "data": {
      "text/html": [
       "<style  type=\"text/css\" >\n",
       "</style><table id=\"T_d27eb_\" ><thead>    <tr>        <th class=\"blank level0\" ></th>        <th class=\"col_heading level0 col0\" >mean</th>        <th class=\"col_heading level0 col1\" >count</th>    </tr>    <tr>        <th class=\"blank level1\" ></th>        <th class=\"col_heading level1 col0\" >debt</th>        <th class=\"col_heading level1 col1\" >debt</th>    </tr>    <tr>        <th class=\"index_name level0\" >purpose</th>        <th class=\"blank\" ></th>        <th class=\"blank\" ></th>    </tr></thead><tbody>\n",
       "                <tr>\n",
       "                        <th id=\"T_d27eb_level0_row0\" class=\"row_heading level0 row0\" >автомобиль</th>\n",
       "                        <td id=\"T_d27eb_row0_col0\" class=\"data row0 col0\" >9.36%</td>\n",
       "                        <td id=\"T_d27eb_row0_col1\" class=\"data row0 col1\" >4306</td>\n",
       "            </tr>\n",
       "            <tr>\n",
       "                        <th id=\"T_d27eb_level0_row1\" class=\"row_heading level0 row1\" >образование</th>\n",
       "                        <td id=\"T_d27eb_row1_col0\" class=\"data row1 col0\" >9.22%</td>\n",
       "                        <td id=\"T_d27eb_row1_col1\" class=\"data row1 col1\" >4013</td>\n",
       "            </tr>\n",
       "            <tr>\n",
       "                        <th id=\"T_d27eb_level0_row2\" class=\"row_heading level0 row2\" >свадьба</th>\n",
       "                        <td id=\"T_d27eb_row2_col0\" class=\"data row2 col0\" >8.00%</td>\n",
       "                        <td id=\"T_d27eb_row2_col1\" class=\"data row2 col1\" >2324</td>\n",
       "            </tr>\n",
       "            <tr>\n",
       "                        <th id=\"T_d27eb_level0_row3\" class=\"row_heading level0 row3\" >недвижимость</th>\n",
       "                        <td id=\"T_d27eb_row3_col0\" class=\"data row3 col0\" >7.23%</td>\n",
       "                        <td id=\"T_d27eb_row3_col1\" class=\"data row3 col1\" >10811</td>\n",
       "            </tr>\n",
       "    </tbody></table>"
      ],
      "text/plain": [
       "<pandas.io.formats.style.Styler at 0x21021a82220>"
      ]
     },
     "execution_count": 116,
     "metadata": {},
     "output_type": "execute_result"
    }
   ],
   "source": [
    "data.merge(purpose_dict, on='purpose_id', how='left')\\\n",
    "    .pivot_table(index='purpose', values='debt', aggfunc=['mean', 'count'])\\\n",
    "    .sort_values(by=('mean', 'debt'), ascending=False)\\\n",
    "    .style.format({('mean', 'debt'):'{:.2%}'})"
   ]
  },
  {
   "cell_type": "markdown",
   "metadata": {},
   "source": [
    "**Ответ**"
   ]
  },
  {
   "cell_type": "markdown",
   "metadata": {},
   "source": [
    "Самый низкий процент долга по кредиту при цели кредита \"жилье\" (7.23%). Немного менее надежны выданные кредиты на свадьбу (8%). Наибольший процент долга у кредитов с целями \"автомобиль\" и \"образование\" (9.36% и 9.22%). \n",
    "\n",
    "Надежность кредитов с целями \"свадьба\" можно объяснить тем, что такой кредит берут клиенты вступающие в брак, а значит имеющие больше шансов успешно вернуть кредит, если расплачиваются за него супруги вместе. Похожие причины можно указать и для кредитов с целью \"жилье\"."
   ]
  },
  {
   "cell_type": "markdown",
   "metadata": {},
   "source": [
    "## Общий вывод"
   ]
  },
  {
   "cell_type": "markdown",
   "metadata": {},
   "source": [
    "Проведено исследование клиентов банка. По результатам этого исследования были установленны зависимости надежности заемщиков от ряда параметров - количество детей, семейное положение, общий доход и цель кредита. \n",
    "\n",
    "В частности было установлено, что наиболее надежны заемщики без детей, а с увеличением их числа увеличивается процент должников по кредиту. Семейное положение тоже влияет на надежность клиента - более надежны заемщики назодящиеся или когда-либо находившиеся в браке. В зависмости от дохода заемщика - надежность увелиивается с увеличением дохода клиента. Наибольший процент долгов по кредиту в категории от 100 до 200 тыс. И наиболее рисковые кредиты выдают на цели \"автомобиль\" и \"образование\".\n",
    "\n",
    "Представленные данные можно использовать для дальнейших исследований и построения моделей кредитного скоринга."
   ]
  }
 ],
 "metadata": {
  "ExecuteTimeLog": [
   {
    "duration": 825,
    "start_time": "2021-07-25T17:23:55.244Z"
   },
   {
    "duration": 91,
    "start_time": "2021-07-25T17:26:05.149Z"
   },
   {
    "duration": 9666,
    "start_time": "2021-07-25T17:35:58.020Z"
   },
   {
    "duration": -12,
    "start_time": "2021-07-25T17:36:18.256Z"
   },
   {
    "duration": 73,
    "start_time": "2021-07-25T17:36:24.384Z"
   },
   {
    "duration": 77,
    "start_time": "2021-07-25T17:36:32.061Z"
   },
   {
    "duration": 69,
    "start_time": "2021-07-25T17:36:39.612Z"
   },
   {
    "duration": 79,
    "start_time": "2021-07-25T17:36:57.317Z"
   },
   {
    "duration": 82,
    "start_time": "2021-07-25T17:37:55.846Z"
   },
   {
    "duration": 72,
    "start_time": "2021-07-25T17:38:24.996Z"
   },
   {
    "duration": 428,
    "start_time": "2021-07-25T17:39:32.333Z"
   },
   {
    "duration": 76,
    "start_time": "2021-07-25T17:39:52.358Z"
   },
   {
    "duration": 93,
    "start_time": "2021-07-25T17:40:40.758Z"
   },
   {
    "duration": 101,
    "start_time": "2021-07-25T17:41:01.465Z"
   },
   {
    "duration": 127,
    "start_time": "2021-07-25T17:41:15.396Z"
   },
   {
    "duration": 147,
    "start_time": "2021-07-25T17:43:26.472Z"
   },
   {
    "duration": 108,
    "start_time": "2021-07-25T18:11:27.904Z"
   },
   {
    "duration": 133,
    "start_time": "2021-07-25T18:12:59.647Z"
   },
   {
    "duration": 152,
    "start_time": "2021-07-25T18:16:30.632Z"
   },
   {
    "duration": 838,
    "start_time": "2021-07-25T18:22:07.939Z"
   },
   {
    "duration": 112,
    "start_time": "2021-07-25T18:22:20.654Z"
   },
   {
    "duration": 117,
    "start_time": "2021-07-25T18:22:59.803Z"
   },
   {
    "duration": 131,
    "start_time": "2021-07-25T18:23:13.851Z"
   },
   {
    "duration": 120,
    "start_time": "2021-07-25T18:23:47.811Z"
   },
   {
    "duration": 156,
    "start_time": "2021-07-25T18:24:29.125Z"
   },
   {
    "duration": 777,
    "start_time": "2021-07-25T18:24:55.452Z"
   },
   {
    "duration": 121,
    "start_time": "2021-07-25T18:25:00.957Z"
   },
   {
    "duration": 108,
    "start_time": "2021-07-25T18:25:13.273Z"
   },
   {
    "duration": 112,
    "start_time": "2021-07-25T18:25:19.035Z"
   },
   {
    "duration": 122,
    "start_time": "2021-07-25T18:25:33.240Z"
   },
   {
    "duration": 145,
    "start_time": "2021-07-25T18:25:54.735Z"
   },
   {
    "duration": 111,
    "start_time": "2021-07-25T18:26:08.022Z"
   },
   {
    "duration": 105,
    "start_time": "2021-07-25T18:26:28.897Z"
   },
   {
    "duration": 111,
    "start_time": "2021-07-25T18:29:18.661Z"
   },
   {
    "duration": 76,
    "start_time": "2021-07-25T18:31:19.574Z"
   },
   {
    "duration": 85,
    "start_time": "2021-07-25T18:31:31.874Z"
   },
   {
    "duration": 91,
    "start_time": "2021-07-25T18:31:46.130Z"
   },
   {
    "duration": 87,
    "start_time": "2021-07-25T18:31:53.616Z"
   },
   {
    "duration": 12,
    "start_time": "2021-07-25T18:34:15.682Z"
   },
   {
    "duration": 486,
    "start_time": "2021-07-25T18:35:40.065Z"
   },
   {
    "duration": 371,
    "start_time": "2021-07-25T18:35:54.141Z"
   },
   {
    "duration": 13,
    "start_time": "2021-07-25T18:36:00.958Z"
   },
   {
    "duration": 15,
    "start_time": "2021-07-25T18:36:51.228Z"
   },
   {
    "duration": 15,
    "start_time": "2021-07-25T18:36:57.395Z"
   },
   {
    "duration": 27,
    "start_time": "2021-07-25T18:37:37.513Z"
   },
   {
    "duration": 18,
    "start_time": "2021-07-25T18:38:59.065Z"
   },
   {
    "duration": 21,
    "start_time": "2021-07-25T18:39:09.561Z"
   },
   {
    "duration": 19,
    "start_time": "2021-07-25T18:40:03.411Z"
   },
   {
    "duration": 10,
    "start_time": "2021-07-25T18:40:17.916Z"
   },
   {
    "duration": 6,
    "start_time": "2021-07-25T18:40:22.420Z"
   },
   {
    "duration": 7,
    "start_time": "2021-07-25T18:40:26.963Z"
   },
   {
    "duration": 16,
    "start_time": "2021-07-25T18:43:04.304Z"
   },
   {
    "duration": 8,
    "start_time": "2021-07-25T18:43:12.685Z"
   },
   {
    "duration": 16,
    "start_time": "2021-07-25T18:46:42.642Z"
   },
   {
    "duration": 15,
    "start_time": "2021-07-25T18:49:32.351Z"
   },
   {
    "duration": 14,
    "start_time": "2021-07-25T18:50:05.785Z"
   },
   {
    "duration": 680,
    "start_time": "2021-07-25T18:50:18.932Z"
   },
   {
    "duration": 16,
    "start_time": "2021-07-25T18:50:32.083Z"
   },
   {
    "duration": 19,
    "start_time": "2021-07-25T18:51:15.442Z"
   },
   {
    "duration": 21,
    "start_time": "2021-07-25T18:51:30.705Z"
   },
   {
    "duration": 17,
    "start_time": "2021-07-25T18:51:40.828Z"
   },
   {
    "duration": 22,
    "start_time": "2021-07-25T18:51:47.243Z"
   },
   {
    "duration": 17,
    "start_time": "2021-07-25T18:51:55.874Z"
   },
   {
    "duration": 17,
    "start_time": "2021-07-25T18:52:38.984Z"
   },
   {
    "duration": 20,
    "start_time": "2021-07-25T18:52:45.668Z"
   },
   {
    "duration": 20,
    "start_time": "2021-07-25T18:52:52.908Z"
   },
   {
    "duration": 17,
    "start_time": "2021-07-25T18:55:56.336Z"
   },
   {
    "duration": 18,
    "start_time": "2021-07-25T18:56:02.772Z"
   },
   {
    "duration": 15,
    "start_time": "2021-07-25T18:56:54.344Z"
   },
   {
    "duration": 19,
    "start_time": "2021-07-25T18:57:59.850Z"
   },
   {
    "duration": 47,
    "start_time": "2021-07-25T19:01:23.909Z"
   },
   {
    "duration": 22,
    "start_time": "2021-07-25T19:01:35.975Z"
   },
   {
    "duration": 21,
    "start_time": "2021-07-25T19:01:53.176Z"
   },
   {
    "duration": 26,
    "start_time": "2021-07-25T19:02:07.621Z"
   },
   {
    "duration": 39,
    "start_time": "2021-07-25T19:02:31.417Z"
   },
   {
    "duration": 33,
    "start_time": "2021-07-25T19:02:47.207Z"
   },
   {
    "duration": 425,
    "start_time": "2021-07-25T19:05:12.503Z"
   },
   {
    "duration": 34,
    "start_time": "2021-07-25T19:05:29.733Z"
   },
   {
    "duration": 33,
    "start_time": "2021-07-25T19:05:51.952Z"
   },
   {
    "duration": 31,
    "start_time": "2021-07-25T19:10:31.605Z"
   },
   {
    "duration": 985,
    "start_time": "2021-07-25T19:10:41.575Z"
   },
   {
    "duration": 44,
    "start_time": "2021-07-25T19:10:50.893Z"
   },
   {
    "duration": 903,
    "start_time": "2021-07-25T19:12:15.886Z"
   },
   {
    "duration": 34,
    "start_time": "2021-07-25T19:14:00.191Z"
   },
   {
    "duration": 13,
    "start_time": "2021-07-25T19:14:26.887Z"
   },
   {
    "duration": 90,
    "start_time": "2021-07-25T19:14:31.768Z"
   },
   {
    "duration": 29,
    "start_time": "2021-07-25T19:14:37.098Z"
   },
   {
    "duration": 15,
    "start_time": "2021-07-25T19:15:26.204Z"
   },
   {
    "duration": 92,
    "start_time": "2021-07-25T19:15:29.820Z"
   },
   {
    "duration": 26,
    "start_time": "2021-07-25T19:15:32.226Z"
   },
   {
    "duration": 91,
    "start_time": "2021-07-25T19:16:07.531Z"
   },
   {
    "duration": 28,
    "start_time": "2021-07-25T19:16:10.098Z"
   },
   {
    "duration": 89,
    "start_time": "2021-07-25T19:16:43.995Z"
   },
   {
    "duration": 39,
    "start_time": "2021-07-25T19:16:45.680Z"
   },
   {
    "duration": 98,
    "start_time": "2021-07-25T19:17:01.373Z"
   },
   {
    "duration": 15,
    "start_time": "2021-07-25T19:17:03.352Z"
   },
   {
    "duration": 11,
    "start_time": "2021-07-25T19:17:22.560Z"
   },
   {
    "duration": 16,
    "start_time": "2021-07-25T19:22:51.109Z"
   },
   {
    "duration": 24,
    "start_time": "2021-07-25T19:23:15.383Z"
   },
   {
    "duration": 9,
    "start_time": "2021-07-25T19:24:00.968Z"
   },
   {
    "duration": 447,
    "start_time": "2021-07-25T19:26:17.751Z"
   },
   {
    "duration": 33,
    "start_time": "2021-07-25T19:27:26.562Z"
   },
   {
    "duration": 35,
    "start_time": "2021-07-25T19:27:32.362Z"
   },
   {
    "duration": 21,
    "start_time": "2021-07-25T19:27:55.717Z"
   },
   {
    "duration": 22,
    "start_time": "2021-07-25T19:28:03.069Z"
   },
   {
    "duration": 25,
    "start_time": "2021-07-25T19:28:08.611Z"
   },
   {
    "duration": 28,
    "start_time": "2021-07-25T19:29:39.830Z"
   },
   {
    "duration": 37,
    "start_time": "2021-07-25T19:30:12.223Z"
   },
   {
    "duration": 90,
    "start_time": "2021-07-25T19:32:35.195Z"
   },
   {
    "duration": 81,
    "start_time": "2021-07-25T19:32:47.929Z"
   },
   {
    "duration": 1140,
    "start_time": "2021-07-25T19:35:05.283Z"
   },
   {
    "duration": 12,
    "start_time": "2021-07-25T19:38:38.658Z"
   },
   {
    "duration": 855,
    "start_time": "2021-07-25T19:56:47.475Z"
   },
   {
    "duration": 15,
    "start_time": "2021-07-25T19:56:50.590Z"
   },
   {
    "duration": 21,
    "start_time": "2021-07-25T19:56:54.340Z"
   },
   {
    "duration": 22,
    "start_time": "2021-07-25T20:00:35.910Z"
   },
   {
    "duration": 30,
    "start_time": "2021-07-25T20:01:12.396Z"
   },
   {
    "duration": 30,
    "start_time": "2021-07-25T20:08:19.409Z"
   },
   {
    "duration": 418,
    "start_time": "2021-07-26T17:26:47.657Z"
   },
   {
    "duration": 854,
    "start_time": "2021-07-26T17:27:08.326Z"
   },
   {
    "duration": 31,
    "start_time": "2021-07-26T17:27:11.591Z"
   },
   {
    "duration": 11,
    "start_time": "2021-07-26T17:27:23.604Z"
   },
   {
    "duration": 21,
    "start_time": "2021-07-26T17:31:13.266Z"
   },
   {
    "duration": 22,
    "start_time": "2021-07-26T17:34:12.068Z"
   },
   {
    "duration": 21,
    "start_time": "2021-07-26T17:34:23.288Z"
   },
   {
    "duration": 33,
    "start_time": "2021-07-26T17:35:00.079Z"
   },
   {
    "duration": 15,
    "start_time": "2021-07-26T17:39:29.108Z"
   },
   {
    "duration": 798,
    "start_time": "2021-07-26T17:39:41.365Z"
   },
   {
    "duration": 20,
    "start_time": "2021-07-26T17:39:44.260Z"
   },
   {
    "duration": 32,
    "start_time": "2021-07-26T17:39:46.642Z"
   },
   {
    "duration": 13,
    "start_time": "2021-07-26T17:39:52.091Z"
   },
   {
    "duration": 6,
    "start_time": "2021-07-26T17:39:54.944Z"
   },
   {
    "duration": 17,
    "start_time": "2021-07-26T17:39:57.724Z"
   },
   {
    "duration": 15,
    "start_time": "2021-07-26T17:51:00.679Z"
   },
   {
    "duration": 14,
    "start_time": "2021-07-26T17:51:13.510Z"
   },
   {
    "duration": 5,
    "start_time": "2021-07-26T17:51:29.331Z"
   },
   {
    "duration": 16,
    "start_time": "2021-07-26T17:51:32.519Z"
   },
   {
    "duration": 13,
    "start_time": "2021-07-26T17:52:25.183Z"
   },
   {
    "duration": 447,
    "start_time": "2021-07-26T17:53:44.053Z"
   },
   {
    "duration": 340,
    "start_time": "2021-07-26T17:54:11.207Z"
   },
   {
    "duration": 5,
    "start_time": "2021-07-26T17:54:19.121Z"
   },
   {
    "duration": 5,
    "start_time": "2021-07-26T17:54:50.333Z"
   },
   {
    "duration": 389,
    "start_time": "2021-07-26T17:55:04.613Z"
   },
   {
    "duration": 777,
    "start_time": "2021-07-26T17:55:11.208Z"
   },
   {
    "duration": 14,
    "start_time": "2021-07-26T17:55:11.988Z"
   },
   {
    "duration": 52,
    "start_time": "2021-07-26T17:55:12.005Z"
   },
   {
    "duration": 11,
    "start_time": "2021-07-26T17:55:12.059Z"
   },
   {
    "duration": 7,
    "start_time": "2021-07-26T17:55:12.072Z"
   },
   {
    "duration": 15,
    "start_time": "2021-07-26T17:55:12.082Z"
   },
   {
    "duration": 13,
    "start_time": "2021-07-26T17:55:16.485Z"
   },
   {
    "duration": 6,
    "start_time": "2021-07-26T17:55:19.395Z"
   },
   {
    "duration": 5,
    "start_time": "2021-07-26T17:55:21.049Z"
   },
   {
    "duration": 371,
    "start_time": "2021-07-26T17:55:28.645Z"
   },
   {
    "duration": 6,
    "start_time": "2021-07-26T17:55:34.152Z"
   },
   {
    "duration": 24,
    "start_time": "2021-07-26T17:58:04.484Z"
   },
   {
    "duration": 21,
    "start_time": "2021-07-26T17:58:20.767Z"
   },
   {
    "duration": 20,
    "start_time": "2021-07-26T17:58:26.765Z"
   },
   {
    "duration": 771,
    "start_time": "2021-07-26T18:03:37.086Z"
   },
   {
    "duration": 16,
    "start_time": "2021-07-26T18:03:39.953Z"
   },
   {
    "duration": 31,
    "start_time": "2021-07-26T18:19:32.254Z"
   },
   {
    "duration": 35,
    "start_time": "2021-07-26T18:20:16.836Z"
   },
   {
    "duration": 37,
    "start_time": "2021-07-26T18:20:29.594Z"
   },
   {
    "duration": 25,
    "start_time": "2021-07-26T18:20:51.424Z"
   },
   {
    "duration": 815,
    "start_time": "2021-07-26T18:23:50.466Z"
   },
   {
    "duration": 18,
    "start_time": "2021-07-26T18:23:51.283Z"
   },
   {
    "duration": 18,
    "start_time": "2021-07-26T18:23:51.305Z"
   },
   {
    "duration": 20,
    "start_time": "2021-07-26T18:23:55.891Z"
   },
   {
    "duration": 66,
    "start_time": "2021-07-26T18:37:46.663Z"
   },
   {
    "duration": 14,
    "start_time": "2021-07-26T18:37:46.732Z"
   },
   {
    "duration": 11,
    "start_time": "2021-07-26T18:37:46.756Z"
   },
   {
    "duration": 18,
    "start_time": "2021-07-26T18:37:46.769Z"
   },
   {
    "duration": 21,
    "start_time": "2021-07-26T18:37:48.394Z"
   },
   {
    "duration": 9,
    "start_time": "2021-07-26T18:38:29.192Z"
   },
   {
    "duration": 8,
    "start_time": "2021-07-26T18:38:53.945Z"
   },
   {
    "duration": 431,
    "start_time": "2021-07-26T18:41:23.121Z"
   },
   {
    "duration": 342,
    "start_time": "2021-07-26T18:41:30.485Z"
   },
   {
    "duration": 59,
    "start_time": "2021-07-26T18:41:37.473Z"
   },
   {
    "duration": 14,
    "start_time": "2021-07-26T18:41:37.535Z"
   },
   {
    "duration": 15,
    "start_time": "2021-07-26T18:41:37.552Z"
   },
   {
    "duration": 15,
    "start_time": "2021-07-26T18:41:37.570Z"
   },
   {
    "duration": 17,
    "start_time": "2021-07-26T18:41:37.587Z"
   },
   {
    "duration": 7,
    "start_time": "2021-07-26T18:41:37.607Z"
   },
   {
    "duration": 6,
    "start_time": "2021-07-26T18:41:37.655Z"
   },
   {
    "duration": 14,
    "start_time": "2021-07-26T18:41:37.663Z"
   },
   {
    "duration": 338,
    "start_time": "2021-07-26T18:41:37.680Z"
   },
   {
    "duration": 335,
    "start_time": "2021-07-26T18:41:40.981Z"
   },
   {
    "duration": 7,
    "start_time": "2021-07-26T18:41:54.897Z"
   },
   {
    "duration": 6,
    "start_time": "2021-07-26T18:42:31.687Z"
   },
   {
    "duration": 6,
    "start_time": "2021-07-26T18:42:36.211Z"
   },
   {
    "duration": 5,
    "start_time": "2021-07-26T18:42:38.253Z"
   },
   {
    "duration": 6,
    "start_time": "2021-07-26T18:42:43.747Z"
   },
   {
    "duration": 23,
    "start_time": "2021-07-26T18:44:34.701Z"
   },
   {
    "duration": 22,
    "start_time": "2021-07-26T18:45:39.370Z"
   },
   {
    "duration": 44,
    "start_time": "2021-07-26T18:47:33.346Z"
   },
   {
    "duration": 32,
    "start_time": "2021-07-26T18:49:57.372Z"
   },
   {
    "duration": 28,
    "start_time": "2021-07-26T18:50:10.811Z"
   },
   {
    "duration": 65,
    "start_time": "2021-07-26T18:50:40.694Z"
   },
   {
    "duration": 19,
    "start_time": "2021-07-26T18:50:40.761Z"
   },
   {
    "duration": 13,
    "start_time": "2021-07-26T18:50:40.784Z"
   },
   {
    "duration": 56,
    "start_time": "2021-07-26T18:50:40.800Z"
   },
   {
    "duration": 12,
    "start_time": "2021-07-26T18:50:40.858Z"
   },
   {
    "duration": 11,
    "start_time": "2021-07-26T18:50:40.874Z"
   },
   {
    "duration": 7,
    "start_time": "2021-07-26T18:50:40.888Z"
   },
   {
    "duration": 63,
    "start_time": "2021-07-26T18:50:40.899Z"
   },
   {
    "duration": 6,
    "start_time": "2021-07-26T18:50:40.964Z"
   },
   {
    "duration": 5,
    "start_time": "2021-07-26T18:50:40.973Z"
   },
   {
    "duration": 7,
    "start_time": "2021-07-26T18:50:40.980Z"
   },
   {
    "duration": 30,
    "start_time": "2021-07-26T18:50:43.360Z"
   },
   {
    "duration": 27,
    "start_time": "2021-07-26T18:50:46.122Z"
   },
   {
    "duration": 16,
    "start_time": "2021-07-26T18:53:54.339Z"
   },
   {
    "duration": 21,
    "start_time": "2021-07-26T18:57:20.574Z"
   },
   {
    "duration": 25,
    "start_time": "2021-07-26T18:57:32.416Z"
   },
   {
    "duration": 23,
    "start_time": "2021-07-26T18:58:34.477Z"
   },
   {
    "duration": 24,
    "start_time": "2021-07-26T18:58:37.398Z"
   },
   {
    "duration": 45,
    "start_time": "2021-07-26T18:58:40.601Z"
   },
   {
    "duration": 120,
    "start_time": "2021-07-26T19:10:48.112Z"
   },
   {
    "duration": 362,
    "start_time": "2021-07-26T19:11:01.187Z"
   },
   {
    "duration": 6047,
    "start_time": "2021-07-26T19:11:15.469Z"
   },
   {
    "duration": 5203,
    "start_time": "2021-07-26T19:13:57.842Z"
   },
   {
    "duration": 5124,
    "start_time": "2021-07-26T19:14:07.463Z"
   },
   {
    "duration": 21,
    "start_time": "2021-07-26T19:14:22.079Z"
   },
   {
    "duration": 5623,
    "start_time": "2021-07-26T19:15:55.048Z"
   },
   {
    "duration": 20,
    "start_time": "2021-07-26T19:16:04.538Z"
   },
   {
    "duration": 17,
    "start_time": "2021-07-26T19:16:08.805Z"
   },
   {
    "duration": 5130,
    "start_time": "2021-07-26T19:16:23.293Z"
   },
   {
    "duration": 21,
    "start_time": "2021-07-26T19:16:31.829Z"
   },
   {
    "duration": 5128,
    "start_time": "2021-07-26T19:16:37.919Z"
   },
   {
    "duration": 21,
    "start_time": "2021-07-26T19:16:43.602Z"
   },
   {
    "duration": 5228,
    "start_time": "2021-07-26T19:17:24.403Z"
   },
   {
    "duration": 19,
    "start_time": "2021-07-26T19:17:31.340Z"
   },
   {
    "duration": 18,
    "start_time": "2021-07-26T19:20:04.320Z"
   },
   {
    "duration": 1564,
    "start_time": "2021-07-26T19:20:08.696Z"
   },
   {
    "duration": 5057,
    "start_time": "2021-07-26T19:20:19.316Z"
   },
   {
    "duration": 22,
    "start_time": "2021-07-26T19:20:26.700Z"
   },
   {
    "duration": 1275,
    "start_time": "2021-07-26T19:22:32.516Z"
   },
   {
    "duration": 5179,
    "start_time": "2021-07-26T19:23:44.681Z"
   },
   {
    "duration": 20,
    "start_time": "2021-07-26T19:23:51.880Z"
   },
   {
    "duration": 5583,
    "start_time": "2021-07-26T19:25:52.834Z"
   },
   {
    "duration": 6615,
    "start_time": "2021-07-26T19:27:32.594Z"
   },
   {
    "duration": 359,
    "start_time": "2021-07-26T19:28:14.460Z"
   },
   {
    "duration": 408,
    "start_time": "2021-07-26T19:28:38.642Z"
   },
   {
    "duration": 576,
    "start_time": "2021-07-27T07:19:40.142Z"
   },
   {
    "duration": 10,
    "start_time": "2021-07-27T07:19:40.720Z"
   },
   {
    "duration": 8,
    "start_time": "2021-07-27T07:19:40.822Z"
   },
   {
    "duration": 18,
    "start_time": "2021-07-27T07:19:41.342Z"
   },
   {
    "duration": 15,
    "start_time": "2021-07-27T07:19:42.102Z"
   },
   {
    "duration": 6,
    "start_time": "2021-07-27T07:19:42.386Z"
   },
   {
    "duration": 5,
    "start_time": "2021-07-27T07:19:42.396Z"
   },
   {
    "duration": 10,
    "start_time": "2021-07-27T07:19:42.405Z"
   },
   {
    "duration": 4,
    "start_time": "2021-07-27T07:19:42.417Z"
   },
   {
    "duration": 4,
    "start_time": "2021-07-27T07:19:42.427Z"
   },
   {
    "duration": 4,
    "start_time": "2021-07-27T07:19:42.469Z"
   },
   {
    "duration": 17,
    "start_time": "2021-07-27T07:19:42.475Z"
   },
   {
    "duration": 18,
    "start_time": "2021-07-27T07:19:42.493Z"
   },
   {
    "duration": 31,
    "start_time": "2021-07-27T07:19:42.559Z"
   },
   {
    "duration": 920,
    "start_time": "2021-07-27T07:19:44.172Z"
   },
   {
    "duration": 854,
    "start_time": "2021-07-27T07:20:46.347Z"
   },
   {
    "duration": 896,
    "start_time": "2021-07-27T07:21:50.762Z"
   },
   {
    "duration": 13,
    "start_time": "2021-07-27T07:44:18.503Z"
   },
   {
    "duration": 48,
    "start_time": "2021-07-27T07:44:18.518Z"
   },
   {
    "duration": 9,
    "start_time": "2021-07-27T07:44:18.568Z"
   },
   {
    "duration": 7,
    "start_time": "2021-07-27T07:44:18.578Z"
   },
   {
    "duration": 10,
    "start_time": "2021-07-27T07:44:18.586Z"
   },
   {
    "duration": 8,
    "start_time": "2021-07-27T07:44:18.598Z"
   },
   {
    "duration": 8,
    "start_time": "2021-07-27T07:44:18.607Z"
   },
   {
    "duration": 5,
    "start_time": "2021-07-27T07:44:18.616Z"
   },
   {
    "duration": 18,
    "start_time": "2021-07-27T07:44:18.622Z"
   },
   {
    "duration": 6,
    "start_time": "2021-07-27T07:44:18.641Z"
   },
   {
    "duration": 9,
    "start_time": "2021-07-27T07:44:18.648Z"
   },
   {
    "duration": 9,
    "start_time": "2021-07-27T07:44:18.658Z"
   },
   {
    "duration": 19,
    "start_time": "2021-07-27T07:44:18.668Z"
   },
   {
    "duration": 19,
    "start_time": "2021-07-27T07:44:18.688Z"
   },
   {
    "duration": 26,
    "start_time": "2021-07-27T07:44:18.708Z"
   },
   {
    "duration": 3986,
    "start_time": "2021-07-27T07:44:26.692Z"
   },
   {
    "duration": 271,
    "start_time": "2021-07-27T07:59:37.559Z"
   },
   {
    "duration": 22,
    "start_time": "2021-07-27T07:59:47.412Z"
   },
   {
    "duration": 5838,
    "start_time": "2021-07-27T08:04:26.441Z"
   },
   {
    "duration": 861,
    "start_time": "2021-07-27T15:32:01.770Z"
   },
   {
    "duration": 19,
    "start_time": "2021-07-27T15:32:04.258Z"
   },
   {
    "duration": 62,
    "start_time": "2021-07-27T15:36:36.791Z"
   },
   {
    "duration": 15,
    "start_time": "2021-07-27T15:36:36.855Z"
   },
   {
    "duration": 10,
    "start_time": "2021-07-27T15:36:36.873Z"
   },
   {
    "duration": 30,
    "start_time": "2021-07-27T15:36:36.887Z"
   },
   {
    "duration": 52,
    "start_time": "2021-07-27T15:36:36.920Z"
   },
   {
    "duration": 10,
    "start_time": "2021-07-27T15:36:36.976Z"
   },
   {
    "duration": 8,
    "start_time": "2021-07-27T15:36:36.989Z"
   },
   {
    "duration": 66,
    "start_time": "2021-07-27T15:36:37.003Z"
   },
   {
    "duration": 9,
    "start_time": "2021-07-27T15:36:37.073Z"
   },
   {
    "duration": 8,
    "start_time": "2021-07-27T15:36:37.085Z"
   },
   {
    "duration": 6,
    "start_time": "2021-07-27T15:36:37.097Z"
   },
   {
    "duration": 82,
    "start_time": "2021-07-27T15:36:37.106Z"
   },
   {
    "duration": 39,
    "start_time": "2021-07-27T15:36:37.191Z"
   },
   {
    "duration": 96,
    "start_time": "2021-07-27T15:36:37.233Z"
   },
   {
    "duration": 6428,
    "start_time": "2021-07-27T15:36:38.675Z"
   },
   {
    "duration": 7913,
    "start_time": "2021-07-27T15:37:39.788Z"
   },
   {
    "duration": -33,
    "start_time": "2021-07-27T15:37:58.418Z"
   },
   {
    "duration": 7682,
    "start_time": "2021-07-27T15:38:02.422Z"
   },
   {
    "duration": 6,
    "start_time": "2021-07-27T15:38:13.258Z"
   },
   {
    "duration": 5,
    "start_time": "2021-07-27T15:38:25.836Z"
   },
   {
    "duration": 5,
    "start_time": "2021-07-27T15:38:31.919Z"
   },
   {
    "duration": 5,
    "start_time": "2021-07-27T15:53:17.313Z"
   },
   {
    "duration": 4,
    "start_time": "2021-07-27T15:53:19.098Z"
   },
   {
    "duration": 536,
    "start_time": "2021-07-27T15:53:21.992Z"
   },
   {
    "duration": 22,
    "start_time": "2021-07-27T15:53:23.854Z"
   },
   {
    "duration": 406,
    "start_time": "2021-07-27T15:55:52.163Z"
   },
   {
    "duration": 420,
    "start_time": "2021-07-27T15:56:24.123Z"
   },
   {
    "duration": 18,
    "start_time": "2021-07-27T15:56:27.181Z"
   },
   {
    "duration": 64,
    "start_time": "2021-07-27T15:56:34.818Z"
   },
   {
    "duration": 13,
    "start_time": "2021-07-27T15:56:34.885Z"
   },
   {
    "duration": 11,
    "start_time": "2021-07-27T15:56:34.901Z"
   },
   {
    "duration": 15,
    "start_time": "2021-07-27T15:56:34.914Z"
   },
   {
    "duration": 13,
    "start_time": "2021-07-27T15:56:34.968Z"
   },
   {
    "duration": 8,
    "start_time": "2021-07-27T15:56:34.984Z"
   },
   {
    "duration": 6,
    "start_time": "2021-07-27T15:56:34.994Z"
   },
   {
    "duration": 68,
    "start_time": "2021-07-27T15:56:35.004Z"
   },
   {
    "duration": 7,
    "start_time": "2021-07-27T15:56:35.074Z"
   },
   {
    "duration": 10,
    "start_time": "2021-07-27T15:56:35.083Z"
   },
   {
    "duration": 9,
    "start_time": "2021-07-27T15:56:35.095Z"
   },
   {
    "duration": 63,
    "start_time": "2021-07-27T15:56:35.106Z"
   },
   {
    "duration": 26,
    "start_time": "2021-07-27T15:56:35.171Z"
   },
   {
    "duration": 72,
    "start_time": "2021-07-27T15:56:35.200Z"
   },
   {
    "duration": 5779,
    "start_time": "2021-07-27T15:56:35.274Z"
   },
   {
    "duration": 43,
    "start_time": "2021-07-27T15:56:41.056Z"
   },
   {
    "duration": 7,
    "start_time": "2021-07-27T15:56:41.101Z"
   },
   {
    "duration": 22,
    "start_time": "2021-07-27T15:56:44.952Z"
   },
   {
    "duration": 578,
    "start_time": "2021-07-27T15:57:07.529Z"
   },
   {
    "duration": 19,
    "start_time": "2021-07-27T15:57:09.571Z"
   },
   {
    "duration": 8,
    "start_time": "2021-07-27T16:16:06.160Z"
   },
   {
    "duration": 23,
    "start_time": "2021-07-27T16:20:23.450Z"
   },
   {
    "duration": 9,
    "start_time": "2021-07-27T16:20:31.992Z"
   },
   {
    "duration": 34,
    "start_time": "2021-07-27T16:20:44.880Z"
   },
   {
    "duration": 8,
    "start_time": "2021-07-27T16:20:47.316Z"
   },
   {
    "duration": 9,
    "start_time": "2021-07-27T16:21:43.155Z"
   },
   {
    "duration": 14,
    "start_time": "2021-07-27T16:23:04.722Z"
   },
   {
    "duration": 10,
    "start_time": "2021-07-27T16:23:25.928Z"
   },
   {
    "duration": 10,
    "start_time": "2021-07-27T16:23:29.613Z"
   },
   {
    "duration": 28,
    "start_time": "2021-07-27T16:23:47.162Z"
   },
   {
    "duration": 64,
    "start_time": "2021-07-27T16:23:57.225Z"
   },
   {
    "duration": 13,
    "start_time": "2021-07-27T16:24:19.231Z"
   },
   {
    "duration": 28,
    "start_time": "2021-07-27T16:24:30.029Z"
   },
   {
    "duration": 10,
    "start_time": "2021-07-27T16:24:35.699Z"
   },
   {
    "duration": 63,
    "start_time": "2021-07-27T16:24:40.313Z"
   },
   {
    "duration": 11,
    "start_time": "2021-07-27T16:25:12.967Z"
   },
   {
    "duration": 7,
    "start_time": "2021-07-27T16:26:28.173Z"
   },
   {
    "duration": 10,
    "start_time": "2021-07-27T16:26:36.441Z"
   },
   {
    "duration": 11,
    "start_time": "2021-07-27T16:26:39.104Z"
   },
   {
    "duration": 8,
    "start_time": "2021-07-27T16:26:47.885Z"
   },
   {
    "duration": 65,
    "start_time": "2021-07-27T16:27:23.763Z"
   },
   {
    "duration": 19,
    "start_time": "2021-07-27T16:27:25.737Z"
   },
   {
    "duration": 12,
    "start_time": "2021-07-27T16:27:28.067Z"
   },
   {
    "duration": 16,
    "start_time": "2021-07-27T16:27:45.465Z"
   },
   {
    "duration": 14,
    "start_time": "2021-07-27T16:28:14.615Z"
   },
   {
    "duration": 8,
    "start_time": "2021-07-27T16:28:22.167Z"
   },
   {
    "duration": 6,
    "start_time": "2021-07-27T16:28:29.451Z"
   },
   {
    "duration": 15,
    "start_time": "2021-07-27T16:28:33.493Z"
   },
   {
    "duration": 13,
    "start_time": "2021-07-27T16:28:44.741Z"
   },
   {
    "duration": 9,
    "start_time": "2021-07-27T16:28:59.997Z"
   },
   {
    "duration": 7,
    "start_time": "2021-07-27T16:29:41.745Z"
   },
   {
    "duration": 11,
    "start_time": "2021-07-27T16:29:48.239Z"
   },
   {
    "duration": 8,
    "start_time": "2021-07-27T16:29:58.798Z"
   },
   {
    "duration": 11,
    "start_time": "2021-07-27T16:32:06.721Z"
   },
   {
    "duration": 363,
    "start_time": "2021-07-27T16:32:50.421Z"
   },
   {
    "duration": 329,
    "start_time": "2021-07-27T16:32:56.769Z"
   },
   {
    "duration": 8,
    "start_time": "2021-07-27T16:33:08.517Z"
   },
   {
    "duration": 28,
    "start_time": "2021-07-27T16:36:59.212Z"
   },
   {
    "duration": 25,
    "start_time": "2021-07-27T16:38:18.409Z"
   },
   {
    "duration": 26,
    "start_time": "2021-07-27T16:38:29.392Z"
   },
   {
    "duration": 20,
    "start_time": "2021-07-27T16:39:57.244Z"
   },
   {
    "duration": 17,
    "start_time": "2021-07-27T16:40:01.966Z"
   },
   {
    "duration": 37,
    "start_time": "2021-07-27T16:40:16.932Z"
   },
   {
    "duration": 27,
    "start_time": "2021-07-27T16:40:32.692Z"
   },
   {
    "duration": 66,
    "start_time": "2021-07-27T16:41:59.930Z"
   },
   {
    "duration": 18,
    "start_time": "2021-07-27T16:41:59.998Z"
   },
   {
    "duration": 16,
    "start_time": "2021-07-27T16:42:00.020Z"
   },
   {
    "duration": 44,
    "start_time": "2021-07-27T16:42:00.039Z"
   },
   {
    "duration": 18,
    "start_time": "2021-07-27T16:42:00.086Z"
   },
   {
    "duration": 14,
    "start_time": "2021-07-27T16:42:00.107Z"
   },
   {
    "duration": 8,
    "start_time": "2021-07-27T16:42:00.167Z"
   },
   {
    "duration": 17,
    "start_time": "2021-07-27T16:42:00.180Z"
   },
   {
    "duration": 11,
    "start_time": "2021-07-27T16:42:00.201Z"
   },
   {
    "duration": 60,
    "start_time": "2021-07-27T16:42:00.215Z"
   },
   {
    "duration": 10,
    "start_time": "2021-07-27T16:42:00.277Z"
   },
   {
    "duration": 15,
    "start_time": "2021-07-27T16:42:00.289Z"
   },
   {
    "duration": 12,
    "start_time": "2021-07-27T16:42:00.307Z"
   },
   {
    "duration": 65,
    "start_time": "2021-07-27T16:42:00.321Z"
   },
   {
    "duration": 27,
    "start_time": "2021-07-27T16:42:03.108Z"
   },
   {
    "duration": 37,
    "start_time": "2021-07-27T16:42:23.958Z"
   },
   {
    "duration": 13,
    "start_time": "2021-07-27T16:42:47.397Z"
   },
   {
    "duration": 11,
    "start_time": "2021-07-27T16:43:34.201Z"
   },
   {
    "duration": 30,
    "start_time": "2021-07-27T16:43:36.179Z"
   },
   {
    "duration": 29,
    "start_time": "2021-07-27T16:43:39.747Z"
   },
   {
    "duration": 62,
    "start_time": "2021-07-27T16:43:49.995Z"
   },
   {
    "duration": 15,
    "start_time": "2021-07-27T16:43:50.059Z"
   },
   {
    "duration": 12,
    "start_time": "2021-07-27T16:43:50.077Z"
   },
   {
    "duration": 18,
    "start_time": "2021-07-27T16:43:50.093Z"
   },
   {
    "duration": 60,
    "start_time": "2021-07-27T16:43:50.113Z"
   },
   {
    "duration": 8,
    "start_time": "2021-07-27T16:43:50.176Z"
   },
   {
    "duration": 6,
    "start_time": "2021-07-27T16:43:50.186Z"
   },
   {
    "duration": 14,
    "start_time": "2021-07-27T16:43:50.196Z"
   },
   {
    "duration": 8,
    "start_time": "2021-07-27T16:43:50.212Z"
   },
   {
    "duration": 11,
    "start_time": "2021-07-27T16:43:50.267Z"
   },
   {
    "duration": 7,
    "start_time": "2021-07-27T16:43:50.281Z"
   },
   {
    "duration": 7,
    "start_time": "2021-07-27T16:43:50.291Z"
   },
   {
    "duration": 9,
    "start_time": "2021-07-27T16:43:50.301Z"
   },
   {
    "duration": 76,
    "start_time": "2021-07-27T16:43:50.313Z"
   },
   {
    "duration": 30,
    "start_time": "2021-07-27T16:43:50.392Z"
   },
   {
    "duration": 20,
    "start_time": "2021-07-27T16:43:55.230Z"
   },
   {
    "duration": 21,
    "start_time": "2021-07-27T16:43:57.232Z"
   },
   {
    "duration": 65,
    "start_time": "2021-07-27T16:44:00.911Z"
   },
   {
    "duration": 15,
    "start_time": "2021-07-27T16:44:00.979Z"
   },
   {
    "duration": 12,
    "start_time": "2021-07-27T16:44:00.998Z"
   },
   {
    "duration": 57,
    "start_time": "2021-07-27T16:44:01.013Z"
   },
   {
    "duration": 17,
    "start_time": "2021-07-27T16:44:01.073Z"
   },
   {
    "duration": 11,
    "start_time": "2021-07-27T16:44:01.092Z"
   },
   {
    "duration": 11,
    "start_time": "2021-07-27T16:44:01.106Z"
   },
   {
    "duration": 57,
    "start_time": "2021-07-27T16:44:01.120Z"
   },
   {
    "duration": 10,
    "start_time": "2021-07-27T16:44:01.180Z"
   },
   {
    "duration": 13,
    "start_time": "2021-07-27T16:44:01.192Z"
   },
   {
    "duration": 7,
    "start_time": "2021-07-27T16:44:01.208Z"
   },
   {
    "duration": 52,
    "start_time": "2021-07-27T16:44:01.217Z"
   },
   {
    "duration": 10,
    "start_time": "2021-07-27T16:44:01.272Z"
   },
   {
    "duration": 28,
    "start_time": "2021-07-27T16:44:01.284Z"
   },
   {
    "duration": 57,
    "start_time": "2021-07-27T16:44:01.315Z"
   },
   {
    "duration": 22,
    "start_time": "2021-07-27T16:44:03.158Z"
   },
   {
    "duration": 24,
    "start_time": "2021-07-27T16:45:24.560Z"
   },
   {
    "duration": 25,
    "start_time": "2021-07-27T16:45:31.231Z"
   },
   {
    "duration": 21,
    "start_time": "2021-07-27T16:45:44.757Z"
   },
   {
    "duration": 44,
    "start_time": "2021-07-27T16:45:57.739Z"
   },
   {
    "duration": 70,
    "start_time": "2021-07-27T16:47:03.884Z"
   },
   {
    "duration": 25,
    "start_time": "2021-07-27T16:47:03.957Z"
   },
   {
    "duration": 12,
    "start_time": "2021-07-27T16:47:03.986Z"
   },
   {
    "duration": 65,
    "start_time": "2021-07-27T16:47:04.002Z"
   },
   {
    "duration": 16,
    "start_time": "2021-07-27T16:47:04.071Z"
   },
   {
    "duration": 11,
    "start_time": "2021-07-27T16:47:04.090Z"
   },
   {
    "duration": 7,
    "start_time": "2021-07-27T16:47:04.105Z"
   },
   {
    "duration": 17,
    "start_time": "2021-07-27T16:47:04.170Z"
   },
   {
    "duration": 12,
    "start_time": "2021-07-27T16:47:04.190Z"
   },
   {
    "duration": 14,
    "start_time": "2021-07-27T16:47:04.205Z"
   },
   {
    "duration": 9,
    "start_time": "2021-07-27T16:47:04.269Z"
   },
   {
    "duration": 9,
    "start_time": "2021-07-27T16:47:04.282Z"
   },
   {
    "duration": 11,
    "start_time": "2021-07-27T16:47:04.294Z"
   },
   {
    "duration": 78,
    "start_time": "2021-07-27T16:47:04.307Z"
   },
   {
    "duration": 29,
    "start_time": "2021-07-27T16:47:04.388Z"
   },
   {
    "duration": 87,
    "start_time": "2021-07-27T16:47:04.420Z"
   },
   {
    "duration": 7282,
    "start_time": "2021-07-27T16:47:04.510Z"
   },
   {
    "duration": 46,
    "start_time": "2021-07-27T16:47:11.794Z"
   },
   {
    "duration": 6,
    "start_time": "2021-07-27T16:47:11.842Z"
   },
   {
    "duration": 5,
    "start_time": "2021-07-27T16:47:11.866Z"
   },
   {
    "duration": 594,
    "start_time": "2021-07-27T16:47:11.874Z"
   },
   {
    "duration": 20,
    "start_time": "2021-07-27T16:47:12.470Z"
   },
   {
    "duration": 3982,
    "start_time": "2021-07-27T16:48:49.051Z"
   },
   {
    "duration": 57,
    "start_time": "2021-07-27T16:48:53.036Z"
   },
   {
    "duration": 1516,
    "start_time": "2021-07-27T16:49:04.266Z"
   },
   {
    "duration": 15,
    "start_time": "2021-07-27T16:49:05.785Z"
   },
   {
    "duration": 10,
    "start_time": "2021-07-27T16:49:05.803Z"
   },
   {
    "duration": 51,
    "start_time": "2021-07-27T16:49:05.817Z"
   },
   {
    "duration": 13,
    "start_time": "2021-07-27T16:49:05.870Z"
   },
   {
    "duration": 8,
    "start_time": "2021-07-27T16:49:05.886Z"
   },
   {
    "duration": 6,
    "start_time": "2021-07-27T16:49:05.897Z"
   },
   {
    "duration": 67,
    "start_time": "2021-07-27T16:49:05.907Z"
   },
   {
    "duration": 11,
    "start_time": "2021-07-27T16:49:05.978Z"
   },
   {
    "duration": 15,
    "start_time": "2021-07-27T16:49:05.992Z"
   },
   {
    "duration": 7,
    "start_time": "2021-07-27T16:49:06.011Z"
   },
   {
    "duration": 6,
    "start_time": "2021-07-27T16:49:06.069Z"
   },
   {
    "duration": 8,
    "start_time": "2021-07-27T16:49:06.078Z"
   },
   {
    "duration": 83,
    "start_time": "2021-07-27T16:49:06.089Z"
   },
   {
    "duration": 28,
    "start_time": "2021-07-27T16:49:06.175Z"
   },
   {
    "duration": 76,
    "start_time": "2021-07-27T16:49:06.205Z"
   },
   {
    "duration": 5908,
    "start_time": "2021-07-27T16:49:08.810Z"
   },
   {
    "duration": 4,
    "start_time": "2021-07-27T16:49:33.061Z"
   },
   {
    "duration": 4,
    "start_time": "2021-07-27T16:49:36.188Z"
   },
   {
    "duration": 9823,
    "start_time": "2021-07-27T16:49:52.369Z"
   },
   {
    "duration": -72,
    "start_time": "2021-07-27T16:50:02.266Z"
   },
   {
    "duration": 5,
    "start_time": "2021-07-27T16:50:49.083Z"
   },
   {
    "duration": 9539,
    "start_time": "2021-07-27T16:50:52.655Z"
   },
   {
    "duration": 62,
    "start_time": "2021-07-27T16:51:14.498Z"
   },
   {
    "duration": 15,
    "start_time": "2021-07-27T16:51:14.563Z"
   },
   {
    "duration": 11,
    "start_time": "2021-07-27T16:51:14.581Z"
   },
   {
    "duration": 16,
    "start_time": "2021-07-27T16:51:14.595Z"
   },
   {
    "duration": 62,
    "start_time": "2021-07-27T16:51:14.613Z"
   },
   {
    "duration": 8,
    "start_time": "2021-07-27T16:51:14.677Z"
   },
   {
    "duration": 7,
    "start_time": "2021-07-27T16:51:14.687Z"
   },
   {
    "duration": 72,
    "start_time": "2021-07-27T16:51:14.697Z"
   },
   {
    "duration": 8,
    "start_time": "2021-07-27T16:51:14.771Z"
   },
   {
    "duration": 13,
    "start_time": "2021-07-27T16:51:14.781Z"
   },
   {
    "duration": 7,
    "start_time": "2021-07-27T16:51:14.796Z"
   },
   {
    "duration": 62,
    "start_time": "2021-07-27T16:51:14.805Z"
   },
   {
    "duration": 5,
    "start_time": "2021-07-27T16:51:14.870Z"
   },
   {
    "duration": 28,
    "start_time": "2021-07-27T16:51:14.877Z"
   },
   {
    "duration": 74,
    "start_time": "2021-07-27T16:51:14.907Z"
   },
   {
    "duration": 44,
    "start_time": "2021-07-27T16:51:14.984Z"
   },
   {
    "duration": 4628,
    "start_time": "2021-07-27T16:53:52.262Z"
   },
   {
    "duration": 41,
    "start_time": "2021-07-27T16:54:23.944Z"
   },
   {
    "duration": 9,
    "start_time": "2021-07-27T16:55:29.028Z"
   },
   {
    "duration": 335,
    "start_time": "2021-07-27T16:55:37.986Z"
   },
   {
    "duration": 8457,
    "start_time": "2021-07-27T16:56:04.261Z"
   },
   {
    "duration": 6,
    "start_time": "2021-07-27T16:57:19.367Z"
   },
   {
    "duration": 8497,
    "start_time": "2021-07-27T16:58:21.527Z"
   },
   {
    "duration": 38,
    "start_time": "2021-07-27T17:00:28.080Z"
   },
   {
    "duration": 4,
    "start_time": "2021-07-27T17:08:49.106Z"
   },
   {
    "duration": 658,
    "start_time": "2021-07-27T17:08:51.246Z"
   },
   {
    "duration": 4,
    "start_time": "2021-07-27T17:09:07.172Z"
   },
   {
    "duration": 1159,
    "start_time": "2021-07-27T17:09:08.914Z"
   },
   {
    "duration": 21,
    "start_time": "2021-07-27T17:09:13.189Z"
   },
   {
    "duration": 766,
    "start_time": "2021-07-27T17:09:21.921Z"
   },
   {
    "duration": 770,
    "start_time": "2021-07-27T17:09:33.036Z"
   },
   {
    "duration": 21,
    "start_time": "2021-07-27T17:09:45.082Z"
   },
   {
    "duration": 2817,
    "start_time": "2021-07-27T17:10:07.108Z"
   },
   {
    "duration": 1057,
    "start_time": "2021-07-27T17:10:19.034Z"
   },
   {
    "duration": 10,
    "start_time": "2021-07-27T17:10:38.096Z"
   },
   {
    "duration": -7,
    "start_time": "2021-07-27T17:16:59.602Z"
   },
   {
    "duration": -42,
    "start_time": "2021-07-27T17:16:59.639Z"
   },
   {
    "duration": -46,
    "start_time": "2021-07-27T17:16:59.645Z"
   },
   {
    "duration": -54,
    "start_time": "2021-07-27T17:16:59.655Z"
   },
   {
    "duration": -55,
    "start_time": "2021-07-27T17:16:59.658Z"
   },
   {
    "duration": -59,
    "start_time": "2021-07-27T17:16:59.664Z"
   },
   {
    "duration": -61,
    "start_time": "2021-07-27T17:16:59.667Z"
   },
   {
    "duration": -60,
    "start_time": "2021-07-27T17:16:59.668Z"
   },
   {
    "duration": -61,
    "start_time": "2021-07-27T17:16:59.671Z"
   },
   {
    "duration": -63,
    "start_time": "2021-07-27T17:16:59.675Z"
   },
   {
    "duration": -67,
    "start_time": "2021-07-27T17:16:59.681Z"
   },
   {
    "duration": -67,
    "start_time": "2021-07-27T17:16:59.683Z"
   },
   {
    "duration": -68,
    "start_time": "2021-07-27T17:16:59.686Z"
   },
   {
    "duration": -69,
    "start_time": "2021-07-27T17:16:59.688Z"
   },
   {
    "duration": -69,
    "start_time": "2021-07-27T17:16:59.690Z"
   },
   {
    "duration": -70,
    "start_time": "2021-07-27T17:16:59.693Z"
   },
   {
    "duration": -75,
    "start_time": "2021-07-27T17:16:59.699Z"
   },
   {
    "duration": -76,
    "start_time": "2021-07-27T17:16:59.702Z"
   },
   {
    "duration": -77,
    "start_time": "2021-07-27T17:16:59.705Z"
   },
   {
    "duration": -78,
    "start_time": "2021-07-27T17:16:59.708Z"
   },
   {
    "duration": -45,
    "start_time": "2021-07-27T17:16:59.712Z"
   },
   {
    "duration": -48,
    "start_time": "2021-07-27T17:16:59.718Z"
   },
   {
    "duration": -49,
    "start_time": "2021-07-27T17:16:59.721Z"
   },
   {
    "duration": 10331,
    "start_time": "2021-07-27T17:17:07.472Z"
   },
   {
    "duration": 7362,
    "start_time": "2021-07-27T17:17:18.316Z"
   },
   {
    "duration": 12,
    "start_time": "2021-07-27T17:17:45.084Z"
   },
   {
    "duration": 318,
    "start_time": "2021-07-27T17:18:32.988Z"
   },
   {
    "duration": 20,
    "start_time": "2021-07-27T17:18:41.116Z"
   },
   {
    "duration": 17,
    "start_time": "2021-07-27T17:19:58.078Z"
   },
   {
    "duration": 21,
    "start_time": "2021-07-27T17:20:00.462Z"
   },
   {
    "duration": 18,
    "start_time": "2021-07-27T17:20:47.642Z"
   },
   {
    "duration": 20,
    "start_time": "2021-07-27T17:20:59.032Z"
   },
   {
    "duration": 20,
    "start_time": "2021-07-27T17:21:03.490Z"
   },
   {
    "duration": 16,
    "start_time": "2021-07-27T17:21:07.658Z"
   },
   {
    "duration": 15,
    "start_time": "2021-07-27T17:21:42.411Z"
   },
   {
    "duration": 1042,
    "start_time": "2021-07-27T17:24:12.358Z"
   },
   {
    "duration": 759,
    "start_time": "2021-07-27T17:24:23.458Z"
   },
   {
    "duration": 335,
    "start_time": "2021-07-27T17:29:09.735Z"
   },
   {
    "duration": 339,
    "start_time": "2021-07-27T17:29:29.939Z"
   },
   {
    "duration": 270,
    "start_time": "2021-07-27T17:33:04.893Z"
   },
   {
    "duration": 85,
    "start_time": "2021-07-27T17:33:12.894Z"
   },
   {
    "duration": 11,
    "start_time": "2021-07-27T17:34:25.595Z"
   },
   {
    "duration": 46,
    "start_time": "2021-07-27T17:37:30.961Z"
   },
   {
    "duration": 361,
    "start_time": "2021-07-27T17:44:03.843Z"
   },
   {
    "duration": 28,
    "start_time": "2021-07-27T17:45:07.518Z"
   },
   {
    "duration": 26,
    "start_time": "2021-07-27T17:45:15.519Z"
   },
   {
    "duration": 339,
    "start_time": "2021-07-27T17:45:54.009Z"
   },
   {
    "duration": 322,
    "start_time": "2021-07-27T17:47:24.299Z"
   },
   {
    "duration": 63,
    "start_time": "2021-07-27T17:47:39.481Z"
   },
   {
    "duration": 326,
    "start_time": "2021-07-27T17:50:51.430Z"
   },
   {
    "duration": 19,
    "start_time": "2021-07-27T17:53:42.478Z"
   },
   {
    "duration": 23,
    "start_time": "2021-07-27T17:54:53.309Z"
   },
   {
    "duration": 33,
    "start_time": "2021-07-27T17:55:04.552Z"
   },
   {
    "duration": 22,
    "start_time": "2021-07-27T17:56:05.574Z"
   },
   {
    "duration": 22,
    "start_time": "2021-07-27T17:56:15.821Z"
   },
   {
    "duration": 22,
    "start_time": "2021-07-27T17:56:30.832Z"
   },
   {
    "duration": 23,
    "start_time": "2021-07-27T17:56:36.816Z"
   },
   {
    "duration": 25,
    "start_time": "2021-07-27T17:57:25.674Z"
   },
   {
    "duration": 24,
    "start_time": "2021-07-27T17:58:11.614Z"
   },
   {
    "duration": 25,
    "start_time": "2021-07-27T17:58:23.071Z"
   },
   {
    "duration": 24,
    "start_time": "2021-07-27T17:59:22.231Z"
   },
   {
    "duration": 4,
    "start_time": "2021-07-27T18:01:59.736Z"
   },
   {
    "duration": 7,
    "start_time": "2021-07-27T18:02:03.971Z"
   },
   {
    "duration": 8,
    "start_time": "2021-07-27T18:02:18.713Z"
   },
   {
    "duration": 26,
    "start_time": "2021-07-27T18:02:46.919Z"
   },
   {
    "duration": 332,
    "start_time": "2021-07-27T18:04:24.431Z"
   },
   {
    "duration": 8,
    "start_time": "2021-07-27T18:04:33.849Z"
   },
   {
    "duration": 27,
    "start_time": "2021-07-27T18:05:08.603Z"
   },
   {
    "duration": 4,
    "start_time": "2021-07-27T18:06:20.854Z"
   },
   {
    "duration": 5358,
    "start_time": "2021-07-27T18:06:48.056Z"
   },
   {
    "duration": 28,
    "start_time": "2021-07-27T18:07:15.550Z"
   },
   {
    "duration": 6,
    "start_time": "2021-07-27T18:07:40.011Z"
   },
   {
    "duration": 7,
    "start_time": "2021-07-27T18:08:01.839Z"
   },
   {
    "duration": 7638,
    "start_time": "2021-07-27T18:08:15.972Z"
   },
   {
    "duration": 7671,
    "start_time": "2021-07-27T18:08:27.476Z"
   },
   {
    "duration": 25,
    "start_time": "2021-07-27T18:08:44.518Z"
   },
   {
    "duration": 32,
    "start_time": "2021-07-27T18:10:27.162Z"
   },
   {
    "duration": 352,
    "start_time": "2021-07-27T18:13:18.720Z"
   },
   {
    "duration": 40,
    "start_time": "2021-07-27T18:13:36.238Z"
   },
   {
    "duration": 526,
    "start_time": "2021-07-27T18:14:37.070Z"
   },
   {
    "duration": 327,
    "start_time": "2021-07-27T18:14:51.607Z"
   },
   {
    "duration": 17,
    "start_time": "2021-07-27T18:15:00.523Z"
   },
   {
    "duration": 69,
    "start_time": "2021-07-27T18:15:08.698Z"
   },
   {
    "duration": 16,
    "start_time": "2021-07-27T18:15:08.770Z"
   },
   {
    "duration": 20,
    "start_time": "2021-07-27T18:15:08.790Z"
   },
   {
    "duration": 54,
    "start_time": "2021-07-27T18:15:08.813Z"
   },
   {
    "duration": 13,
    "start_time": "2021-07-27T18:15:08.869Z"
   },
   {
    "duration": 8,
    "start_time": "2021-07-27T18:15:08.884Z"
   },
   {
    "duration": 9,
    "start_time": "2021-07-27T18:15:08.894Z"
   },
   {
    "duration": 13,
    "start_time": "2021-07-27T18:15:08.907Z"
   },
   {
    "duration": 8,
    "start_time": "2021-07-27T18:15:08.969Z"
   },
   {
    "duration": 15,
    "start_time": "2021-07-27T18:15:08.979Z"
   },
   {
    "duration": 7,
    "start_time": "2021-07-27T18:15:08.996Z"
   },
   {
    "duration": 13,
    "start_time": "2021-07-27T18:15:09.005Z"
   },
   {
    "duration": 47,
    "start_time": "2021-07-27T18:15:09.021Z"
   },
   {
    "duration": 26,
    "start_time": "2021-07-27T18:15:09.071Z"
   },
   {
    "duration": 29,
    "start_time": "2021-07-27T18:15:09.099Z"
   },
   {
    "duration": 81,
    "start_time": "2021-07-27T18:15:09.131Z"
   },
   {
    "duration": 4555,
    "start_time": "2021-07-27T18:15:09.214Z"
   },
   {
    "duration": 53,
    "start_time": "2021-07-27T18:15:13.771Z"
   },
   {
    "duration": 4,
    "start_time": "2021-07-27T18:15:13.827Z"
   },
   {
    "duration": 34,
    "start_time": "2021-07-27T18:15:13.834Z"
   },
   {
    "duration": 1178,
    "start_time": "2021-07-27T18:15:13.871Z"
   },
   {
    "duration": 21,
    "start_time": "2021-07-27T18:15:15.051Z"
   },
   {
    "duration": 16,
    "start_time": "2021-07-27T18:15:15.076Z"
   },
   {
    "duration": 15,
    "start_time": "2021-07-27T18:15:15.095Z"
   },
   {
    "duration": 17,
    "start_time": "2021-07-27T18:15:22.311Z"
   },
   {
    "duration": 39,
    "start_time": "2021-07-27T18:15:28.923Z"
   },
   {
    "duration": 326,
    "start_time": "2021-07-27T18:15:59.511Z"
   },
   {
    "duration": 63,
    "start_time": "2021-07-27T18:16:11.272Z"
   },
   {
    "duration": 38,
    "start_time": "2021-07-27T18:16:11.338Z"
   },
   {
    "duration": 19,
    "start_time": "2021-07-27T18:16:11.379Z"
   },
   {
    "duration": 20,
    "start_time": "2021-07-27T18:16:11.401Z"
   },
   {
    "duration": 16,
    "start_time": "2021-07-27T18:16:11.469Z"
   },
   {
    "duration": 10,
    "start_time": "2021-07-27T18:16:11.488Z"
   },
   {
    "duration": 7,
    "start_time": "2021-07-27T18:16:11.501Z"
   },
   {
    "duration": 16,
    "start_time": "2021-07-27T18:16:11.567Z"
   },
   {
    "duration": 10,
    "start_time": "2021-07-27T18:16:11.588Z"
   },
   {
    "duration": 11,
    "start_time": "2021-07-27T18:16:11.601Z"
   },
   {
    "duration": 55,
    "start_time": "2021-07-27T18:16:11.615Z"
   },
   {
    "duration": 5,
    "start_time": "2021-07-27T18:16:11.673Z"
   },
   {
    "duration": 6,
    "start_time": "2021-07-27T18:16:11.680Z"
   },
   {
    "duration": 26,
    "start_time": "2021-07-27T18:16:11.688Z"
   },
   {
    "duration": 73,
    "start_time": "2021-07-27T18:16:11.717Z"
   },
   {
    "duration": 47,
    "start_time": "2021-07-27T18:16:11.792Z"
   },
   {
    "duration": 4579,
    "start_time": "2021-07-27T18:16:11.841Z"
   },
   {
    "duration": 49,
    "start_time": "2021-07-27T18:16:16.423Z"
   },
   {
    "duration": 5,
    "start_time": "2021-07-27T18:16:16.474Z"
   },
   {
    "duration": 6,
    "start_time": "2021-07-27T18:16:16.482Z"
   },
   {
    "duration": 1182,
    "start_time": "2021-07-27T18:16:16.491Z"
   },
   {
    "duration": 11,
    "start_time": "2021-07-27T18:16:17.675Z"
   },
   {
    "duration": 17,
    "start_time": "2021-07-27T18:16:17.691Z"
   },
   {
    "duration": 59,
    "start_time": "2021-07-27T18:16:17.710Z"
   },
   {
    "duration": 11,
    "start_time": "2021-07-27T18:16:17.771Z"
   },
   {
    "duration": 322,
    "start_time": "2021-07-27T18:16:17.785Z"
   },
   {
    "duration": 722,
    "start_time": "2021-07-27T18:16:32.676Z"
   },
   {
    "duration": 65,
    "start_time": "2021-07-27T18:17:01.983Z"
   },
   {
    "duration": 23,
    "start_time": "2021-07-27T18:17:02.050Z"
   },
   {
    "duration": 20,
    "start_time": "2021-07-27T18:17:02.076Z"
   },
   {
    "duration": 17,
    "start_time": "2021-07-27T18:17:02.099Z"
   },
   {
    "duration": 50,
    "start_time": "2021-07-27T18:17:02.119Z"
   },
   {
    "duration": 8,
    "start_time": "2021-07-27T18:17:02.171Z"
   },
   {
    "duration": 18,
    "start_time": "2021-07-27T18:17:02.182Z"
   },
   {
    "duration": 21,
    "start_time": "2021-07-27T18:17:02.204Z"
   },
   {
    "duration": 40,
    "start_time": "2021-07-27T18:17:02.229Z"
   },
   {
    "duration": 31,
    "start_time": "2021-07-27T18:17:02.271Z"
   },
   {
    "duration": 8,
    "start_time": "2021-07-27T18:17:02.305Z"
   },
   {
    "duration": 19,
    "start_time": "2021-07-27T18:17:02.315Z"
   },
   {
    "duration": 10,
    "start_time": "2021-07-27T18:17:02.337Z"
   },
   {
    "duration": 28,
    "start_time": "2021-07-27T18:17:02.367Z"
   },
   {
    "duration": 29,
    "start_time": "2021-07-27T18:17:02.398Z"
   },
   {
    "duration": 86,
    "start_time": "2021-07-27T18:17:02.430Z"
   },
   {
    "duration": 4624,
    "start_time": "2021-07-27T18:17:02.519Z"
   },
   {
    "duration": 53,
    "start_time": "2021-07-27T18:17:07.146Z"
   },
   {
    "duration": 7,
    "start_time": "2021-07-27T18:17:07.202Z"
   },
   {
    "duration": 13,
    "start_time": "2021-07-27T18:17:07.212Z"
   },
   {
    "duration": 1205,
    "start_time": "2021-07-27T18:17:07.228Z"
   },
   {
    "duration": 11,
    "start_time": "2021-07-27T18:17:08.437Z"
   },
   {
    "duration": 31,
    "start_time": "2021-07-27T18:17:08.452Z"
   },
   {
    "duration": 15,
    "start_time": "2021-07-27T18:17:08.485Z"
   },
   {
    "duration": 15,
    "start_time": "2021-07-27T18:17:18.090Z"
   },
   {
    "duration": 4,
    "start_time": "2021-07-27T18:17:28.549Z"
   },
   {
    "duration": 17,
    "start_time": "2021-07-27T18:17:31.899Z"
   },
   {
    "duration": 38,
    "start_time": "2021-07-27T18:17:36.803Z"
   },
   {
    "duration": 20,
    "start_time": "2021-07-27T18:17:45.591Z"
   },
   {
    "duration": 11,
    "start_time": "2021-07-27T18:18:21.384Z"
   },
   {
    "duration": 7,
    "start_time": "2021-07-27T18:19:41.902Z"
   },
   {
    "duration": 16,
    "start_time": "2021-07-27T18:20:42.138Z"
   },
   {
    "duration": 10,
    "start_time": "2021-07-27T18:21:14.788Z"
   },
   {
    "duration": 12,
    "start_time": "2021-07-27T18:21:20.608Z"
   },
   {
    "duration": 11,
    "start_time": "2021-07-27T18:21:41.455Z"
   },
   {
    "duration": 13,
    "start_time": "2021-07-27T18:21:59.578Z"
   },
   {
    "duration": 13,
    "start_time": "2021-07-27T18:22:09.696Z"
   },
   {
    "duration": 21,
    "start_time": "2021-07-27T18:22:38.690Z"
   },
   {
    "duration": 511,
    "start_time": "2021-07-27T18:23:27.095Z"
   },
   {
    "duration": 311,
    "start_time": "2021-07-27T18:24:29.424Z"
   },
   {
    "duration": 4151,
    "start_time": "2021-07-27T18:29:15.796Z"
   },
   {
    "duration": 310,
    "start_time": "2021-07-27T18:30:32.372Z"
   },
   {
    "duration": 483,
    "start_time": "2021-07-27T18:32:16.342Z"
   },
   {
    "duration": 398,
    "start_time": "2021-07-27T18:33:36.590Z"
   },
   {
    "duration": 431,
    "start_time": "2021-07-27T18:35:50.124Z"
   },
   {
    "duration": 406,
    "start_time": "2021-07-27T18:41:30.522Z"
   },
   {
    "duration": 15,
    "start_time": "2021-07-27T18:43:11.250Z"
   },
   {
    "duration": 315,
    "start_time": "2021-07-27T18:44:32.258Z"
   },
   {
    "duration": 16,
    "start_time": "2021-07-27T18:44:43.077Z"
   },
   {
    "duration": 307,
    "start_time": "2021-07-27T18:45:53.728Z"
   },
   {
    "duration": 335,
    "start_time": "2021-07-27T18:46:02.177Z"
   },
   {
    "duration": 65,
    "start_time": "2021-07-27T18:47:05.558Z"
   },
   {
    "duration": 45,
    "start_time": "2021-07-27T18:47:05.625Z"
   },
   {
    "duration": 19,
    "start_time": "2021-07-27T18:47:05.673Z"
   },
   {
    "duration": 15,
    "start_time": "2021-07-27T18:47:05.695Z"
   },
   {
    "duration": 56,
    "start_time": "2021-07-27T18:47:05.713Z"
   },
   {
    "duration": 8,
    "start_time": "2021-07-27T18:47:05.771Z"
   },
   {
    "duration": 7,
    "start_time": "2021-07-27T18:47:05.781Z"
   },
   {
    "duration": 12,
    "start_time": "2021-07-27T18:47:05.792Z"
   },
   {
    "duration": 8,
    "start_time": "2021-07-27T18:47:05.807Z"
   },
   {
    "duration": 10,
    "start_time": "2021-07-27T18:47:05.868Z"
   },
   {
    "duration": 6,
    "start_time": "2021-07-27T18:47:05.881Z"
   },
   {
    "duration": 8,
    "start_time": "2021-07-27T18:47:05.889Z"
   },
   {
    "duration": 9,
    "start_time": "2021-07-27T18:47:05.900Z"
   },
   {
    "duration": 74,
    "start_time": "2021-07-27T18:47:05.912Z"
   },
   {
    "duration": 29,
    "start_time": "2021-07-27T18:47:05.988Z"
   },
   {
    "duration": 72,
    "start_time": "2021-07-27T18:47:06.020Z"
   },
   {
    "duration": 4645,
    "start_time": "2021-07-27T18:47:06.094Z"
   },
   {
    "duration": 51,
    "start_time": "2021-07-27T18:47:10.742Z"
   },
   {
    "duration": 4,
    "start_time": "2021-07-27T18:47:10.796Z"
   },
   {
    "duration": 7,
    "start_time": "2021-07-27T18:47:10.802Z"
   },
   {
    "duration": 1185,
    "start_time": "2021-07-27T18:47:10.811Z"
   },
   {
    "duration": 13,
    "start_time": "2021-07-27T18:47:11.998Z"
   },
   {
    "duration": 53,
    "start_time": "2021-07-27T18:47:12.016Z"
   },
   {
    "duration": 15,
    "start_time": "2021-07-27T18:47:12.072Z"
   },
   {
    "duration": 11,
    "start_time": "2021-07-27T18:47:12.090Z"
   },
   {
    "duration": 85,
    "start_time": "2021-07-27T18:47:12.103Z"
   },
   {
    "duration": 342,
    "start_time": "2021-07-27T18:47:26.401Z"
   },
   {
    "duration": 306,
    "start_time": "2021-07-27T18:48:45.726Z"
   },
   {
    "duration": 63,
    "start_time": "2021-07-27T18:49:01.750Z"
   },
   {
    "duration": 15,
    "start_time": "2021-07-27T18:49:01.815Z"
   },
   {
    "duration": 53,
    "start_time": "2021-07-27T18:49:01.833Z"
   },
   {
    "duration": 24,
    "start_time": "2021-07-27T18:49:01.889Z"
   },
   {
    "duration": 20,
    "start_time": "2021-07-27T18:49:01.915Z"
   },
   {
    "duration": 30,
    "start_time": "2021-07-27T18:49:01.937Z"
   },
   {
    "duration": 6,
    "start_time": "2021-07-27T18:49:01.969Z"
   },
   {
    "duration": 32,
    "start_time": "2021-07-27T18:49:01.979Z"
   },
   {
    "duration": 8,
    "start_time": "2021-07-27T18:49:02.014Z"
   },
   {
    "duration": 48,
    "start_time": "2021-07-27T18:49:02.025Z"
   },
   {
    "duration": 20,
    "start_time": "2021-07-27T18:49:02.075Z"
   },
   {
    "duration": 11,
    "start_time": "2021-07-27T18:49:02.097Z"
   },
   {
    "duration": 11,
    "start_time": "2021-07-27T18:49:02.110Z"
   },
   {
    "duration": 57,
    "start_time": "2021-07-27T18:49:02.124Z"
   },
   {
    "duration": 28,
    "start_time": "2021-07-27T18:49:02.183Z"
   },
   {
    "duration": 79,
    "start_time": "2021-07-27T18:49:02.214Z"
   },
   {
    "duration": 4683,
    "start_time": "2021-07-27T18:49:02.295Z"
   },
   {
    "duration": 38,
    "start_time": "2021-07-27T18:49:06.980Z"
   },
   {
    "duration": 13,
    "start_time": "2021-07-27T18:49:07.021Z"
   },
   {
    "duration": 30,
    "start_time": "2021-07-27T18:49:07.037Z"
   },
   {
    "duration": 1181,
    "start_time": "2021-07-27T18:49:07.070Z"
   },
   {
    "duration": 20,
    "start_time": "2021-07-27T18:49:08.254Z"
   },
   {
    "duration": 20,
    "start_time": "2021-07-27T18:49:08.278Z"
   },
   {
    "duration": 17,
    "start_time": "2021-07-27T18:49:08.301Z"
   },
   {
    "duration": 52,
    "start_time": "2021-07-27T18:49:08.320Z"
   },
   {
    "duration": 39,
    "start_time": "2021-07-27T18:49:15.501Z"
   },
   {
    "duration": 425,
    "start_time": "2021-07-27T18:49:28.870Z"
   },
   {
    "duration": 22,
    "start_time": "2021-07-27T18:49:45.381Z"
   },
   {
    "duration": 43,
    "start_time": "2021-07-27T18:49:50.713Z"
   },
   {
    "duration": 13,
    "start_time": "2021-07-27T18:50:18.047Z"
   },
   {
    "duration": 17,
    "start_time": "2021-07-27T18:50:30.122Z"
   },
   {
    "duration": 327,
    "start_time": "2021-07-27T18:50:43.680Z"
   },
   {
    "duration": 6,
    "start_time": "2021-07-27T18:51:05.726Z"
   },
   {
    "duration": 17,
    "start_time": "2021-07-27T18:51:08.128Z"
   },
   {
    "duration": 6,
    "start_time": "2021-07-27T18:51:38.870Z"
   },
   {
    "duration": 14,
    "start_time": "2021-07-27T18:51:40.673Z"
   },
   {
    "duration": 29,
    "start_time": "2021-07-27T18:51:52.131Z"
   },
   {
    "duration": 300,
    "start_time": "2021-07-27T18:51:55.764Z"
   },
   {
    "duration": 27,
    "start_time": "2021-07-27T18:52:31.709Z"
   },
   {
    "duration": 374,
    "start_time": "2021-07-27T18:53:22.380Z"
   },
   {
    "duration": 28,
    "start_time": "2021-07-27T18:53:59.983Z"
   },
   {
    "duration": 35,
    "start_time": "2021-07-27T18:55:07.830Z"
   },
   {
    "duration": 35,
    "start_time": "2021-07-27T18:55:21.916Z"
   },
   {
    "duration": 294,
    "start_time": "2021-07-27T18:56:06.049Z"
   },
   {
    "duration": 34,
    "start_time": "2021-07-27T18:56:34.764Z"
   },
   {
    "duration": 7335,
    "start_time": "2021-07-27T19:05:12.099Z"
   },
   {
    "duration": 72,
    "start_time": "2021-07-27T19:05:27.299Z"
   },
   {
    "duration": 8,
    "start_time": "2021-07-27T19:05:30.674Z"
   },
   {
    "duration": 12,
    "start_time": "2021-07-27T19:05:37.235Z"
   },
   {
    "duration": 807,
    "start_time": "2021-07-27T19:05:44.602Z"
   },
   {
    "duration": 22,
    "start_time": "2021-07-27T19:05:47.074Z"
   },
   {
    "duration": 21,
    "start_time": "2021-07-27T19:05:50.368Z"
   },
   {
    "duration": 11,
    "start_time": "2021-07-27T19:06:09.926Z"
   },
   {
    "duration": 33,
    "start_time": "2021-07-27T19:06:19.065Z"
   },
   {
    "duration": 11,
    "start_time": "2021-07-27T19:07:17.630Z"
   },
   {
    "duration": 633,
    "start_time": "2021-07-28T15:57:44.415Z"
   },
   {
    "duration": 12,
    "start_time": "2021-07-28T15:57:45.050Z"
   },
   {
    "duration": 24,
    "start_time": "2021-07-28T15:57:45.065Z"
   },
   {
    "duration": 12,
    "start_time": "2021-07-28T15:57:45.090Z"
   },
   {
    "duration": 10,
    "start_time": "2021-07-28T15:57:45.104Z"
   },
   {
    "duration": 6,
    "start_time": "2021-07-28T15:57:45.116Z"
   },
   {
    "duration": 9,
    "start_time": "2021-07-28T15:57:47.814Z"
   },
   {
    "duration": 22,
    "start_time": "2021-07-28T15:58:03.569Z"
   },
   {
    "duration": 5,
    "start_time": "2021-07-28T16:03:28.346Z"
   },
   {
    "duration": 4,
    "start_time": "2021-07-28T16:03:50.580Z"
   },
   {
    "duration": 9,
    "start_time": "2021-07-28T16:03:57.535Z"
   },
   {
    "duration": 5,
    "start_time": "2021-07-28T16:04:50.561Z"
   },
   {
    "duration": 238,
    "start_time": "2021-07-28T16:05:03.421Z"
   },
   {
    "duration": 5012,
    "start_time": "2021-07-28T16:05:15.005Z"
   },
   {
    "duration": 6,
    "start_time": "2021-07-28T16:05:29.117Z"
   },
   {
    "duration": 9,
    "start_time": "2021-07-28T16:06:33.493Z"
   },
   {
    "duration": 50,
    "start_time": "2021-07-28T16:07:10.416Z"
   },
   {
    "duration": 10,
    "start_time": "2021-07-28T16:07:10.468Z"
   },
   {
    "duration": 12,
    "start_time": "2021-07-28T16:07:10.480Z"
   },
   {
    "duration": 11,
    "start_time": "2021-07-28T16:07:10.494Z"
   },
   {
    "duration": 11,
    "start_time": "2021-07-28T16:07:10.507Z"
   },
   {
    "duration": 6,
    "start_time": "2021-07-28T16:07:10.519Z"
   },
   {
    "duration": 20,
    "start_time": "2021-07-28T16:07:10.526Z"
   },
   {
    "duration": 7,
    "start_time": "2021-07-28T16:07:15.047Z"
   },
   {
    "duration": 6,
    "start_time": "2021-07-28T16:07:23.749Z"
   },
   {
    "duration": 6,
    "start_time": "2021-07-28T16:07:28.505Z"
   },
   {
    "duration": 6,
    "start_time": "2021-07-28T16:07:34.035Z"
   },
   {
    "duration": 24,
    "start_time": "2021-07-28T16:08:16.932Z"
   },
   {
    "duration": 22,
    "start_time": "2021-07-28T16:08:20.220Z"
   },
   {
    "duration": 5,
    "start_time": "2021-07-28T16:08:39.946Z"
   },
   {
    "duration": 4,
    "start_time": "2021-07-28T16:09:38.701Z"
   },
   {
    "duration": 227,
    "start_time": "2021-07-28T16:09:51.513Z"
   },
   {
    "duration": 5,
    "start_time": "2021-07-28T16:10:42.495Z"
   },
   {
    "duration": 5,
    "start_time": "2021-07-28T16:11:08.064Z"
   },
   {
    "duration": 5,
    "start_time": "2021-07-28T16:11:12.031Z"
   },
   {
    "duration": 8,
    "start_time": "2021-07-28T16:14:48.285Z"
   },
   {
    "duration": 7,
    "start_time": "2021-07-28T16:17:15.534Z"
   },
   {
    "duration": 7,
    "start_time": "2021-07-28T16:17:39.574Z"
   },
   {
    "duration": 4315,
    "start_time": "2021-07-28T16:21:39.564Z"
   },
   {
    "duration": 22,
    "start_time": "2021-07-28T16:23:11.774Z"
   },
   {
    "duration": 59,
    "start_time": "2021-07-28T16:24:05.388Z"
   },
   {
    "duration": 85,
    "start_time": "2021-07-28T16:24:10.736Z"
   },
   {
    "duration": 59,
    "start_time": "2021-07-28T16:24:16.648Z"
   },
   {
    "duration": 59,
    "start_time": "2021-07-28T16:25:01.945Z"
   },
   {
    "duration": 756,
    "start_time": "2021-07-28T16:25:34.054Z"
   },
   {
    "duration": 717,
    "start_time": "2021-07-28T16:25:46.610Z"
   },
   {
    "duration": 769,
    "start_time": "2021-07-28T16:26:01.630Z"
   },
   {
    "duration": 36,
    "start_time": "2021-07-28T16:26:30.841Z"
   },
   {
    "duration": 9,
    "start_time": "2021-07-28T16:27:14.924Z"
   },
   {
    "duration": 7,
    "start_time": "2021-07-28T16:27:21.434Z"
   },
   {
    "duration": 26,
    "start_time": "2021-07-28T16:27:32.210Z"
   },
   {
    "duration": 27,
    "start_time": "2021-07-28T16:27:55.108Z"
   },
   {
    "duration": 52,
    "start_time": "2021-07-28T16:28:42.954Z"
   },
   {
    "duration": 10,
    "start_time": "2021-07-28T16:28:43.008Z"
   },
   {
    "duration": 12,
    "start_time": "2021-07-28T16:28:43.021Z"
   },
   {
    "duration": 13,
    "start_time": "2021-07-28T16:28:43.034Z"
   },
   {
    "duration": 42,
    "start_time": "2021-07-28T16:28:43.049Z"
   },
   {
    "duration": 6,
    "start_time": "2021-07-28T16:28:43.092Z"
   },
   {
    "duration": 22,
    "start_time": "2021-07-28T16:28:43.100Z"
   },
   {
    "duration": 38,
    "start_time": "2021-07-28T16:28:59.181Z"
   },
   {
    "duration": 22,
    "start_time": "2021-07-28T16:29:01.988Z"
   },
   {
    "duration": 38,
    "start_time": "2021-07-28T16:29:32.338Z"
   },
   {
    "duration": 27,
    "start_time": "2021-07-28T16:29:55.900Z"
   },
   {
    "duration": 10,
    "start_time": "2021-07-28T16:29:57.843Z"
   },
   {
    "duration": 51,
    "start_time": "2021-07-28T16:30:06.009Z"
   },
   {
    "duration": 12,
    "start_time": "2021-07-28T16:30:06.062Z"
   },
   {
    "duration": 14,
    "start_time": "2021-07-28T16:30:06.076Z"
   },
   {
    "duration": 13,
    "start_time": "2021-07-28T16:30:06.092Z"
   },
   {
    "duration": 12,
    "start_time": "2021-07-28T16:30:06.107Z"
   },
   {
    "duration": 5,
    "start_time": "2021-07-28T16:30:06.121Z"
   },
   {
    "duration": 22,
    "start_time": "2021-07-28T16:30:06.128Z"
   },
   {
    "duration": 26,
    "start_time": "2021-07-28T16:30:16.798Z"
   },
   {
    "duration": 10,
    "start_time": "2021-07-28T16:30:20.798Z"
   },
   {
    "duration": 8,
    "start_time": "2021-07-28T16:30:25.230Z"
   },
   {
    "duration": 6,
    "start_time": "2021-07-28T16:30:31.202Z"
   },
   {
    "duration": 5,
    "start_time": "2021-07-28T16:30:57.760Z"
   },
   {
    "duration": 55,
    "start_time": "2021-07-28T16:31:01.546Z"
   },
   {
    "duration": 11,
    "start_time": "2021-07-28T16:31:01.602Z"
   },
   {
    "duration": 21,
    "start_time": "2021-07-28T16:31:01.615Z"
   },
   {
    "duration": 23,
    "start_time": "2021-07-28T16:31:01.638Z"
   },
   {
    "duration": 23,
    "start_time": "2021-07-28T16:31:01.663Z"
   },
   {
    "duration": 14,
    "start_time": "2021-07-28T16:31:01.688Z"
   },
   {
    "duration": 32,
    "start_time": "2021-07-28T16:31:01.704Z"
   },
   {
    "duration": 119,
    "start_time": "2021-07-28T16:31:04.746Z"
   },
   {
    "duration": 9,
    "start_time": "2021-07-28T16:31:08.080Z"
   },
   {
    "duration": 14,
    "start_time": "2021-07-28T16:31:11.182Z"
   },
   {
    "duration": 13,
    "start_time": "2021-07-28T16:31:16.386Z"
   },
   {
    "duration": 49,
    "start_time": "2021-07-28T16:31:55.822Z"
   },
   {
    "duration": 10,
    "start_time": "2021-07-28T16:31:55.873Z"
   },
   {
    "duration": 13,
    "start_time": "2021-07-28T16:31:55.885Z"
   },
   {
    "duration": 14,
    "start_time": "2021-07-28T16:31:55.900Z"
   },
   {
    "duration": 11,
    "start_time": "2021-07-28T16:31:55.916Z"
   },
   {
    "duration": 7,
    "start_time": "2021-07-28T16:31:55.929Z"
   },
   {
    "duration": 68,
    "start_time": "2021-07-28T16:31:55.938Z"
   },
   {
    "duration": 188,
    "start_time": "2021-07-28T16:32:43.591Z"
   },
   {
    "duration": 520,
    "start_time": "2021-07-28T16:33:04.361Z"
   },
   {
    "duration": 50,
    "start_time": "2021-07-28T16:34:40.563Z"
   },
   {
    "duration": 11,
    "start_time": "2021-07-28T16:34:40.615Z"
   },
   {
    "duration": 12,
    "start_time": "2021-07-28T16:34:40.628Z"
   },
   {
    "duration": 10,
    "start_time": "2021-07-28T16:34:40.642Z"
   },
   {
    "duration": 35,
    "start_time": "2021-07-28T16:34:40.653Z"
   },
   {
    "duration": 5,
    "start_time": "2021-07-28T16:34:40.690Z"
   },
   {
    "duration": 20,
    "start_time": "2021-07-28T16:34:40.697Z"
   },
   {
    "duration": 111,
    "start_time": "2021-07-28T16:34:42.447Z"
   },
   {
    "duration": 105,
    "start_time": "2021-07-28T16:35:05.739Z"
   },
   {
    "duration": 8,
    "start_time": "2021-07-28T16:35:11.171Z"
   },
   {
    "duration": 7,
    "start_time": "2021-07-28T16:35:25.290Z"
   },
   {
    "duration": 51,
    "start_time": "2021-07-28T16:35:49.311Z"
   },
   {
    "duration": 10,
    "start_time": "2021-07-28T16:35:49.364Z"
   },
   {
    "duration": 12,
    "start_time": "2021-07-28T16:35:49.376Z"
   },
   {
    "duration": 11,
    "start_time": "2021-07-28T16:35:49.389Z"
   },
   {
    "duration": 8,
    "start_time": "2021-07-28T16:35:49.401Z"
   },
   {
    "duration": 5,
    "start_time": "2021-07-28T16:35:49.411Z"
   },
   {
    "duration": 23,
    "start_time": "2021-07-28T16:35:49.417Z"
   },
   {
    "duration": 74,
    "start_time": "2021-07-28T16:35:51.491Z"
   },
   {
    "duration": 53,
    "start_time": "2021-07-28T16:35:59.353Z"
   },
   {
    "duration": 61,
    "start_time": "2021-07-28T16:36:04.887Z"
   },
   {
    "duration": 114,
    "start_time": "2021-07-28T16:36:10.185Z"
   },
   {
    "duration": 8,
    "start_time": "2021-07-28T16:36:14.265Z"
   },
   {
    "duration": 51,
    "start_time": "2021-07-28T16:36:34.121Z"
   },
   {
    "duration": 12,
    "start_time": "2021-07-28T16:36:34.174Z"
   },
   {
    "duration": 13,
    "start_time": "2021-07-28T16:36:34.189Z"
   },
   {
    "duration": 13,
    "start_time": "2021-07-28T16:36:34.204Z"
   },
   {
    "duration": 11,
    "start_time": "2021-07-28T16:36:34.219Z"
   },
   {
    "duration": 53,
    "start_time": "2021-07-28T16:36:34.232Z"
   },
   {
    "duration": 22,
    "start_time": "2021-07-28T16:36:34.287Z"
   },
   {
    "duration": 109,
    "start_time": "2021-07-28T16:36:44.696Z"
   },
   {
    "duration": 10,
    "start_time": "2021-07-28T16:36:48.116Z"
   },
   {
    "duration": 6,
    "start_time": "2021-07-28T16:43:07.839Z"
   },
   {
    "duration": 6,
    "start_time": "2021-07-28T16:43:23.417Z"
   },
   {
    "duration": 20,
    "start_time": "2021-07-28T16:44:01.123Z"
   },
   {
    "duration": 51,
    "start_time": "2021-07-28T17:08:19.805Z"
   },
   {
    "duration": 11,
    "start_time": "2021-07-28T17:08:19.857Z"
   },
   {
    "duration": 12,
    "start_time": "2021-07-28T17:08:19.870Z"
   },
   {
    "duration": 13,
    "start_time": "2021-07-28T17:08:19.884Z"
   },
   {
    "duration": 10,
    "start_time": "2021-07-28T17:08:19.899Z"
   },
   {
    "duration": 5,
    "start_time": "2021-07-28T17:08:19.911Z"
   },
   {
    "duration": 23,
    "start_time": "2021-07-28T17:08:19.918Z"
   },
   {
    "duration": 160,
    "start_time": "2021-07-28T17:08:19.944Z"
   },
   {
    "duration": 9,
    "start_time": "2021-07-28T17:08:20.106Z"
   },
   {
    "duration": 8,
    "start_time": "2021-07-28T17:08:20.117Z"
   },
   {
    "duration": 10,
    "start_time": "2021-07-28T17:08:20.126Z"
   },
   {
    "duration": 5,
    "start_time": "2021-07-28T17:08:20.138Z"
   },
   {
    "duration": 10,
    "start_time": "2021-07-28T17:08:20.145Z"
   },
   {
    "duration": 30,
    "start_time": "2021-07-28T17:08:20.157Z"
   },
   {
    "duration": 19,
    "start_time": "2021-07-28T17:08:20.189Z"
   },
   {
    "duration": 19,
    "start_time": "2021-07-28T17:08:20.210Z"
   },
   {
    "duration": 79,
    "start_time": "2021-07-28T17:08:20.231Z"
   },
   {
    "duration": 3734,
    "start_time": "2021-07-28T17:08:20.312Z"
   },
   {
    "duration": 1251,
    "start_time": "2021-07-28T17:08:32.184Z"
   },
   {
    "duration": 24,
    "start_time": "2021-07-28T17:08:47.818Z"
   },
   {
    "duration": 3,
    "start_time": "2021-07-28T17:17:25.199Z"
   },
   {
    "duration": 370,
    "start_time": "2021-07-28T17:17:26.709Z"
   },
   {
    "duration": 52,
    "start_time": "2021-07-28T17:17:31.108Z"
   },
   {
    "duration": 11,
    "start_time": "2021-07-28T17:17:31.161Z"
   },
   {
    "duration": 14,
    "start_time": "2021-07-28T17:17:31.175Z"
   },
   {
    "duration": 15,
    "start_time": "2021-07-28T17:17:31.192Z"
   },
   {
    "duration": 13,
    "start_time": "2021-07-28T17:17:31.209Z"
   },
   {
    "duration": 8,
    "start_time": "2021-07-28T17:17:31.224Z"
   },
   {
    "duration": 66,
    "start_time": "2021-07-28T17:17:31.234Z"
   },
   {
    "duration": 133,
    "start_time": "2021-07-28T17:17:31.304Z"
   },
   {
    "duration": 12,
    "start_time": "2021-07-28T17:17:31.439Z"
   },
   {
    "duration": 25,
    "start_time": "2021-07-28T17:17:31.453Z"
   },
   {
    "duration": 10,
    "start_time": "2021-07-28T17:17:31.481Z"
   },
   {
    "duration": 11,
    "start_time": "2021-07-28T17:17:31.494Z"
   },
   {
    "duration": 7,
    "start_time": "2021-07-28T17:17:31.507Z"
   },
   {
    "duration": 7,
    "start_time": "2021-07-28T17:17:31.516Z"
   },
   {
    "duration": 23,
    "start_time": "2021-07-28T17:17:31.525Z"
   },
   {
    "duration": 48,
    "start_time": "2021-07-28T17:17:31.550Z"
   },
   {
    "duration": 31,
    "start_time": "2021-07-28T17:17:31.600Z"
   },
   {
    "duration": 3621,
    "start_time": "2021-07-28T17:17:31.634Z"
   },
   {
    "duration": 38,
    "start_time": "2021-07-28T17:17:35.257Z"
   },
   {
    "duration": 5,
    "start_time": "2021-07-28T17:17:35.296Z"
   },
   {
    "duration": 9,
    "start_time": "2021-07-28T17:17:35.303Z"
   },
   {
    "duration": 654,
    "start_time": "2021-07-28T17:17:43.019Z"
   },
   {
    "duration": 8,
    "start_time": "2021-07-28T17:17:49.660Z"
   },
   {
    "duration": 53,
    "start_time": "2021-07-28T17:24:24.276Z"
   },
   {
    "duration": 10,
    "start_time": "2021-07-28T17:24:24.331Z"
   },
   {
    "duration": 53,
    "start_time": "2021-07-28T17:24:24.343Z"
   },
   {
    "duration": 11,
    "start_time": "2021-07-28T17:24:24.398Z"
   },
   {
    "duration": 22,
    "start_time": "2021-07-28T17:24:24.411Z"
   },
   {
    "duration": 24,
    "start_time": "2021-07-28T17:24:24.435Z"
   },
   {
    "duration": 38,
    "start_time": "2021-07-28T17:24:24.461Z"
   },
   {
    "duration": 133,
    "start_time": "2021-07-28T17:24:24.502Z"
   },
   {
    "duration": 9,
    "start_time": "2021-07-28T17:24:24.637Z"
   },
   {
    "duration": 18,
    "start_time": "2021-07-28T17:24:24.648Z"
   },
   {
    "duration": 18,
    "start_time": "2021-07-28T17:24:24.668Z"
   },
   {
    "duration": 6,
    "start_time": "2021-07-28T17:24:24.688Z"
   },
   {
    "duration": 11,
    "start_time": "2021-07-28T17:24:24.695Z"
   },
   {
    "duration": 12,
    "start_time": "2021-07-28T17:24:24.708Z"
   },
   {
    "duration": 29,
    "start_time": "2021-07-28T17:24:24.722Z"
   },
   {
    "duration": 46,
    "start_time": "2021-07-28T17:24:24.753Z"
   },
   {
    "duration": 33,
    "start_time": "2021-07-28T17:24:24.800Z"
   },
   {
    "duration": 3616,
    "start_time": "2021-07-28T17:24:24.834Z"
   },
   {
    "duration": 36,
    "start_time": "2021-07-28T17:24:28.452Z"
   },
   {
    "duration": 5,
    "start_time": "2021-07-28T17:24:28.489Z"
   },
   {
    "duration": 5,
    "start_time": "2021-07-28T17:24:28.495Z"
   },
   {
    "duration": 662,
    "start_time": "2021-07-28T17:24:28.502Z"
   },
   {
    "duration": 7,
    "start_time": "2021-07-28T17:24:29.167Z"
   },
   {
    "duration": 20,
    "start_time": "2021-07-28T17:24:29.175Z"
   },
   {
    "duration": 11,
    "start_time": "2021-07-28T17:24:29.197Z"
   },
   {
    "duration": 7,
    "start_time": "2021-07-28T17:24:29.209Z"
   },
   {
    "duration": 28,
    "start_time": "2021-07-28T17:24:29.218Z"
   },
   {
    "duration": 257,
    "start_time": "2021-07-28T17:24:41.773Z"
   },
   {
    "duration": 231,
    "start_time": "2021-07-28T17:26:04.289Z"
   },
   {
    "duration": 243,
    "start_time": "2021-07-28T17:27:29.579Z"
   },
   {
    "duration": 13,
    "start_time": "2021-07-28T17:27:32.842Z"
   },
   {
    "duration": 33,
    "start_time": "2021-07-28T17:27:35.929Z"
   },
   {
    "duration": 52,
    "start_time": "2021-07-28T17:28:24.660Z"
   },
   {
    "duration": 11,
    "start_time": "2021-07-28T17:28:24.714Z"
   },
   {
    "duration": 20,
    "start_time": "2021-07-28T17:28:24.727Z"
   },
   {
    "duration": 40,
    "start_time": "2021-07-28T17:28:24.749Z"
   },
   {
    "duration": 10,
    "start_time": "2021-07-28T17:28:24.790Z"
   },
   {
    "duration": 5,
    "start_time": "2021-07-28T17:28:24.802Z"
   },
   {
    "duration": 21,
    "start_time": "2021-07-28T17:28:24.809Z"
   },
   {
    "duration": 152,
    "start_time": "2021-07-28T17:28:24.833Z"
   },
   {
    "duration": 9,
    "start_time": "2021-07-28T17:28:24.987Z"
   },
   {
    "duration": 5,
    "start_time": "2021-07-28T17:28:24.998Z"
   },
   {
    "duration": 7,
    "start_time": "2021-07-28T17:28:25.005Z"
   },
   {
    "duration": 5,
    "start_time": "2021-07-28T17:28:25.014Z"
   },
   {
    "duration": 11,
    "start_time": "2021-07-28T17:28:25.020Z"
   },
   {
    "duration": 5,
    "start_time": "2021-07-28T17:28:25.033Z"
   },
   {
    "duration": 58,
    "start_time": "2021-07-28T17:28:25.039Z"
   },
   {
    "duration": 17,
    "start_time": "2021-07-28T17:28:25.099Z"
   },
   {
    "duration": 29,
    "start_time": "2021-07-28T17:28:25.117Z"
   },
   {
    "duration": 3362,
    "start_time": "2021-07-28T17:28:25.147Z"
   },
   {
    "duration": 23,
    "start_time": "2021-07-28T17:28:28.510Z"
   },
   {
    "duration": 7,
    "start_time": "2021-07-28T17:28:28.534Z"
   },
   {
    "duration": 6,
    "start_time": "2021-07-28T17:28:28.543Z"
   },
   {
    "duration": 642,
    "start_time": "2021-07-28T17:28:28.550Z"
   },
   {
    "duration": 7,
    "start_time": "2021-07-28T17:28:29.195Z"
   },
   {
    "duration": 15,
    "start_time": "2021-07-28T17:28:29.203Z"
   },
   {
    "duration": 10,
    "start_time": "2021-07-28T17:28:29.220Z"
   },
   {
    "duration": 7,
    "start_time": "2021-07-28T17:28:29.231Z"
   },
   {
    "duration": 62,
    "start_time": "2021-07-28T17:28:29.239Z"
   },
   {
    "duration": 233,
    "start_time": "2021-07-28T17:28:35.160Z"
   },
   {
    "duration": 13,
    "start_time": "2021-07-28T17:28:41.308Z"
   },
   {
    "duration": 54,
    "start_time": "2021-07-28T17:29:19.410Z"
   },
   {
    "duration": 15,
    "start_time": "2021-07-28T17:29:19.467Z"
   },
   {
    "duration": 18,
    "start_time": "2021-07-28T17:29:19.484Z"
   },
   {
    "duration": 10,
    "start_time": "2021-07-28T17:29:19.505Z"
   },
   {
    "duration": 11,
    "start_time": "2021-07-28T17:29:19.517Z"
   },
   {
    "duration": 6,
    "start_time": "2021-07-28T17:29:19.529Z"
   },
   {
    "duration": 59,
    "start_time": "2021-07-28T17:29:19.537Z"
   },
   {
    "duration": 115,
    "start_time": "2021-07-28T17:29:19.598Z"
   },
   {
    "duration": 9,
    "start_time": "2021-07-28T17:29:19.715Z"
   },
   {
    "duration": 5,
    "start_time": "2021-07-28T17:29:19.726Z"
   },
   {
    "duration": 6,
    "start_time": "2021-07-28T17:29:19.733Z"
   },
   {
    "duration": 5,
    "start_time": "2021-07-28T17:29:19.741Z"
   },
   {
    "duration": 38,
    "start_time": "2021-07-28T17:29:19.747Z"
   },
   {
    "duration": 6,
    "start_time": "2021-07-28T17:29:19.787Z"
   },
   {
    "duration": 17,
    "start_time": "2021-07-28T17:29:19.794Z"
   },
   {
    "duration": 19,
    "start_time": "2021-07-28T17:29:19.813Z"
   },
   {
    "duration": 57,
    "start_time": "2021-07-28T17:29:19.834Z"
   },
   {
    "duration": 3353,
    "start_time": "2021-07-28T17:29:19.893Z"
   },
   {
    "duration": 43,
    "start_time": "2021-07-28T17:29:23.248Z"
   },
   {
    "duration": 3,
    "start_time": "2021-07-28T17:29:23.294Z"
   },
   {
    "duration": 4,
    "start_time": "2021-07-28T17:29:23.299Z"
   },
   {
    "duration": 688,
    "start_time": "2021-07-28T17:29:23.305Z"
   },
   {
    "duration": 7,
    "start_time": "2021-07-28T17:29:23.996Z"
   },
   {
    "duration": 14,
    "start_time": "2021-07-28T17:29:24.004Z"
   },
   {
    "duration": 10,
    "start_time": "2021-07-28T17:29:24.020Z"
   },
   {
    "duration": 7,
    "start_time": "2021-07-28T17:29:24.031Z"
   },
   {
    "duration": 27,
    "start_time": "2021-07-28T17:29:24.039Z"
   },
   {
    "duration": 327,
    "start_time": "2021-07-28T17:29:24.068Z"
   },
   {
    "duration": 13,
    "start_time": "2021-07-28T17:29:24.397Z"
   },
   {
    "duration": 31,
    "start_time": "2021-07-28T17:29:24.411Z"
   },
   {
    "duration": 17,
    "start_time": "2021-07-28T17:32:40.734Z"
   },
   {
    "duration": 190,
    "start_time": "2021-07-28T17:34:20.871Z"
   },
   {
    "duration": 13,
    "start_time": "2021-07-28T17:34:56.453Z"
   },
   {
    "duration": 13,
    "start_time": "2021-07-28T17:35:05.700Z"
   },
   {
    "duration": 238,
    "start_time": "2021-07-28T17:36:12.838Z"
   },
   {
    "duration": 195,
    "start_time": "2021-07-28T17:36:48.415Z"
   },
   {
    "duration": 1821,
    "start_time": "2021-07-28T17:36:56.289Z"
   },
   {
    "duration": 1766,
    "start_time": "2021-07-28T17:37:15.526Z"
   },
   {
    "duration": 183,
    "start_time": "2021-07-28T17:38:08.398Z"
   },
   {
    "duration": 14,
    "start_time": "2021-07-28T17:38:33.394Z"
   },
   {
    "duration": 16,
    "start_time": "2021-07-28T17:39:04.467Z"
   },
   {
    "duration": 22,
    "start_time": "2021-07-28T17:39:23.303Z"
   },
   {
    "duration": 12,
    "start_time": "2021-07-28T17:39:35.130Z"
   },
   {
    "duration": 13,
    "start_time": "2021-07-28T17:39:38.988Z"
   },
   {
    "duration": 14,
    "start_time": "2021-07-28T17:39:59.493Z"
   },
   {
    "duration": 16,
    "start_time": "2021-07-28T17:40:42.418Z"
   },
   {
    "duration": 199,
    "start_time": "2021-07-28T17:42:49.426Z"
   },
   {
    "duration": 196,
    "start_time": "2021-07-28T17:43:09.732Z"
   },
   {
    "duration": 186,
    "start_time": "2021-07-28T17:43:28.909Z"
   },
   {
    "duration": 213,
    "start_time": "2021-07-28T17:43:36.703Z"
   },
   {
    "duration": 195,
    "start_time": "2021-07-28T17:44:01.041Z"
   },
   {
    "duration": 199,
    "start_time": "2021-07-28T17:44:07.175Z"
   },
   {
    "duration": 709,
    "start_time": "2021-07-28T17:44:53.683Z"
   },
   {
    "duration": 16,
    "start_time": "2021-07-28T17:45:09.239Z"
   },
   {
    "duration": 16,
    "start_time": "2021-07-28T17:47:48.875Z"
   },
   {
    "duration": 17,
    "start_time": "2021-07-28T17:50:40.995Z"
   },
   {
    "duration": 18,
    "start_time": "2021-07-28T17:50:58.028Z"
   },
   {
    "duration": 205,
    "start_time": "2021-07-28T17:51:30.278Z"
   },
   {
    "duration": 21,
    "start_time": "2021-07-28T17:51:52.426Z"
   },
   {
    "duration": 21,
    "start_time": "2021-07-28T17:51:58.372Z"
   },
   {
    "duration": 21,
    "start_time": "2021-07-28T17:52:20.665Z"
   },
   {
    "duration": 20,
    "start_time": "2021-07-28T17:53:05.289Z"
   },
   {
    "duration": 190,
    "start_time": "2021-07-28T17:53:17.931Z"
   },
   {
    "duration": 52,
    "start_time": "2021-07-28T17:53:32.959Z"
   },
   {
    "duration": 10,
    "start_time": "2021-07-28T17:53:33.013Z"
   },
   {
    "duration": 12,
    "start_time": "2021-07-28T17:53:33.025Z"
   },
   {
    "duration": 48,
    "start_time": "2021-07-28T17:53:33.039Z"
   },
   {
    "duration": 9,
    "start_time": "2021-07-28T17:53:33.089Z"
   },
   {
    "duration": 5,
    "start_time": "2021-07-28T17:53:33.100Z"
   },
   {
    "duration": 19,
    "start_time": "2021-07-28T17:53:33.107Z"
   },
   {
    "duration": 142,
    "start_time": "2021-07-28T17:53:33.128Z"
   },
   {
    "duration": 13,
    "start_time": "2021-07-28T17:53:33.272Z"
   },
   {
    "duration": 6,
    "start_time": "2021-07-28T17:53:33.287Z"
   },
   {
    "duration": 15,
    "start_time": "2021-07-28T17:53:33.294Z"
   },
   {
    "duration": 4,
    "start_time": "2021-07-28T17:53:33.311Z"
   },
   {
    "duration": 4,
    "start_time": "2021-07-28T17:53:33.317Z"
   },
   {
    "duration": 5,
    "start_time": "2021-07-28T17:53:33.323Z"
   },
   {
    "duration": 16,
    "start_time": "2021-07-28T17:53:33.330Z"
   },
   {
    "duration": 52,
    "start_time": "2021-07-28T17:53:33.348Z"
   },
   {
    "duration": 29,
    "start_time": "2021-07-28T17:53:33.402Z"
   },
   {
    "duration": 3527,
    "start_time": "2021-07-28T17:53:33.432Z"
   },
   {
    "duration": 34,
    "start_time": "2021-07-28T17:53:36.960Z"
   },
   {
    "duration": 13,
    "start_time": "2021-07-28T17:53:36.995Z"
   },
   {
    "duration": 9,
    "start_time": "2021-07-28T17:53:37.010Z"
   },
   {
    "duration": 639,
    "start_time": "2021-07-28T17:53:37.020Z"
   },
   {
    "duration": 7,
    "start_time": "2021-07-28T17:53:37.662Z"
   },
   {
    "duration": 21,
    "start_time": "2021-07-28T17:53:37.671Z"
   },
   {
    "duration": 10,
    "start_time": "2021-07-28T17:53:37.694Z"
   },
   {
    "duration": 6,
    "start_time": "2021-07-28T17:53:37.706Z"
   },
   {
    "duration": 73,
    "start_time": "2021-07-28T17:53:37.713Z"
   },
   {
    "duration": 254,
    "start_time": "2021-07-28T17:53:37.787Z"
   },
   {
    "duration": 12,
    "start_time": "2021-07-28T17:53:38.042Z"
   },
   {
    "duration": 44,
    "start_time": "2021-07-28T17:53:38.056Z"
   },
   {
    "duration": 7,
    "start_time": "2021-07-28T17:53:38.102Z"
   },
   {
    "duration": 8,
    "start_time": "2021-07-28T17:53:38.111Z"
   },
   {
    "duration": 213,
    "start_time": "2021-07-28T17:53:51.895Z"
   },
   {
    "duration": 17,
    "start_time": "2021-07-28T17:54:04.156Z"
   },
   {
    "duration": 22,
    "start_time": "2021-07-28T17:54:09.271Z"
   },
   {
    "duration": 10,
    "start_time": "2021-07-28T17:54:37.019Z"
   },
   {
    "duration": 181,
    "start_time": "2021-07-28T17:56:33.259Z"
   },
   {
    "duration": 20,
    "start_time": "2021-07-28T17:56:54.438Z"
   },
   {
    "duration": 192,
    "start_time": "2021-07-28T17:58:23.721Z"
   },
   {
    "duration": 31,
    "start_time": "2021-07-28T17:58:47.778Z"
   },
   {
    "duration": 20,
    "start_time": "2021-07-28T18:00:04.640Z"
   },
   {
    "duration": 5257,
    "start_time": "2021-07-28T18:38:56.285Z"
   },
   {
    "duration": 49,
    "start_time": "2021-07-28T18:43:43.731Z"
   },
   {
    "duration": 10,
    "start_time": "2021-07-28T18:43:43.782Z"
   },
   {
    "duration": 97,
    "start_time": "2021-07-28T18:43:43.794Z"
   },
   {
    "duration": 14,
    "start_time": "2021-07-28T18:43:43.893Z"
   },
   {
    "duration": 16,
    "start_time": "2021-07-28T18:43:43.908Z"
   },
   {
    "duration": 7,
    "start_time": "2021-07-28T18:43:43.925Z"
   },
   {
    "duration": 51,
    "start_time": "2021-07-28T18:43:43.934Z"
   },
   {
    "duration": 123,
    "start_time": "2021-07-28T18:43:43.988Z"
   },
   {
    "duration": 13,
    "start_time": "2021-07-28T18:43:44.113Z"
   },
   {
    "duration": 7,
    "start_time": "2021-07-28T18:43:44.129Z"
   },
   {
    "duration": 10,
    "start_time": "2021-07-28T18:43:44.138Z"
   },
   {
    "duration": 5,
    "start_time": "2021-07-28T18:43:44.150Z"
   },
   {
    "duration": 35,
    "start_time": "2021-07-28T18:43:44.157Z"
   },
   {
    "duration": 10,
    "start_time": "2021-07-28T18:43:44.194Z"
   },
   {
    "duration": 19,
    "start_time": "2021-07-28T18:43:44.206Z"
   },
   {
    "duration": 18,
    "start_time": "2021-07-28T18:43:44.226Z"
   },
   {
    "duration": 64,
    "start_time": "2021-07-28T18:43:44.245Z"
   },
   {
    "duration": 3830,
    "start_time": "2021-07-28T18:43:44.310Z"
   },
   {
    "duration": 25,
    "start_time": "2021-07-28T18:43:48.142Z"
   },
   {
    "duration": 16,
    "start_time": "2021-07-28T18:43:48.169Z"
   },
   {
    "duration": 6,
    "start_time": "2021-07-28T18:43:48.187Z"
   },
   {
    "duration": 663,
    "start_time": "2021-07-28T18:43:48.195Z"
   },
   {
    "duration": 7,
    "start_time": "2021-07-28T18:43:48.863Z"
   },
   {
    "duration": 24,
    "start_time": "2021-07-28T18:43:48.873Z"
   },
   {
    "duration": 13,
    "start_time": "2021-07-28T18:43:48.899Z"
   },
   {
    "duration": 9,
    "start_time": "2021-07-28T18:43:48.914Z"
   },
   {
    "duration": 75,
    "start_time": "2021-07-28T18:43:48.925Z"
   },
   {
    "duration": 7,
    "start_time": "2021-07-28T18:43:49.002Z"
   },
   {
    "duration": 270,
    "start_time": "2021-07-28T18:43:49.012Z"
   },
   {
    "duration": 13,
    "start_time": "2021-07-28T18:43:49.284Z"
   },
   {
    "duration": 30,
    "start_time": "2021-07-28T18:43:49.299Z"
   },
   {
    "duration": 9,
    "start_time": "2021-07-28T18:43:49.331Z"
   },
   {
    "duration": 45,
    "start_time": "2021-07-28T18:43:49.342Z"
   },
   {
    "duration": 20,
    "start_time": "2021-07-28T18:43:49.390Z"
   },
   {
    "duration": 22,
    "start_time": "2021-07-28T18:43:49.413Z"
   },
   {
    "duration": 64,
    "start_time": "2021-07-28T18:43:49.438Z"
   },
   {
    "duration": 26,
    "start_time": "2021-07-28T18:43:49.504Z"
   },
   {
    "duration": 14,
    "start_time": "2021-07-28T19:32:04.177Z"
   },
   {
    "duration": 8,
    "start_time": "2021-07-28T19:33:05.350Z"
   },
   {
    "duration": 196,
    "start_time": "2021-07-28T19:33:41.652Z"
   },
   {
    "duration": 9,
    "start_time": "2021-07-28T19:33:53.794Z"
   },
   {
    "duration": 7,
    "start_time": "2021-07-28T19:34:33.634Z"
   },
   {
    "duration": 8,
    "start_time": "2021-07-28T19:35:08.487Z"
   },
   {
    "duration": 7,
    "start_time": "2021-07-28T19:35:15.621Z"
   },
   {
    "duration": 7,
    "start_time": "2021-07-28T19:41:56.059Z"
   },
   {
    "duration": 7,
    "start_time": "2021-07-28T19:43:21.745Z"
   },
   {
    "duration": 607,
    "start_time": "2021-07-28T20:13:28.282Z"
   },
   {
    "duration": 12,
    "start_time": "2021-07-28T20:13:28.891Z"
   },
   {
    "duration": 20,
    "start_time": "2021-07-28T20:13:28.905Z"
   },
   {
    "duration": 19,
    "start_time": "2021-07-28T20:13:28.928Z"
   },
   {
    "duration": 15,
    "start_time": "2021-07-28T20:13:28.949Z"
   },
   {
    "duration": 16,
    "start_time": "2021-07-28T20:13:28.966Z"
   },
   {
    "duration": 25,
    "start_time": "2021-07-28T20:13:28.985Z"
   },
   {
    "duration": 114,
    "start_time": "2021-07-28T20:13:29.012Z"
   },
   {
    "duration": 13,
    "start_time": "2021-07-28T20:13:29.128Z"
   },
   {
    "duration": 5,
    "start_time": "2021-07-28T20:13:29.143Z"
   },
   {
    "duration": 7,
    "start_time": "2021-07-28T20:13:29.150Z"
   },
   {
    "duration": 4,
    "start_time": "2021-07-28T20:13:29.158Z"
   },
   {
    "duration": 4,
    "start_time": "2021-07-28T20:13:29.164Z"
   },
   {
    "duration": 5,
    "start_time": "2021-07-28T20:13:29.170Z"
   },
   {
    "duration": 18,
    "start_time": "2021-07-28T20:13:29.176Z"
   },
   {
    "duration": 54,
    "start_time": "2021-07-28T20:13:29.195Z"
   },
   {
    "duration": 28,
    "start_time": "2021-07-28T20:13:29.251Z"
   },
   {
    "duration": 3265,
    "start_time": "2021-07-28T20:13:29.281Z"
   },
   {
    "duration": 21,
    "start_time": "2021-07-28T20:13:32.548Z"
   },
   {
    "duration": 5,
    "start_time": "2021-07-28T20:13:32.571Z"
   },
   {
    "duration": 4,
    "start_time": "2021-07-28T20:13:32.578Z"
   },
   {
    "duration": 640,
    "start_time": "2021-07-28T20:13:32.584Z"
   },
   {
    "duration": 6,
    "start_time": "2021-07-28T20:13:33.225Z"
   },
   {
    "duration": 18,
    "start_time": "2021-07-28T20:13:33.232Z"
   },
   {
    "duration": 10,
    "start_time": "2021-07-28T20:13:33.251Z"
   },
   {
    "duration": 6,
    "start_time": "2021-07-28T20:13:33.263Z"
   },
   {
    "duration": 25,
    "start_time": "2021-07-28T20:13:33.271Z"
   },
   {
    "duration": 5,
    "start_time": "2021-07-28T20:13:33.298Z"
   },
   {
    "duration": 247,
    "start_time": "2021-07-28T20:13:33.305Z"
   },
   {
    "duration": 11,
    "start_time": "2021-07-28T20:13:33.554Z"
   },
   {
    "duration": 28,
    "start_time": "2021-07-28T20:13:33.566Z"
   },
   {
    "duration": 8,
    "start_time": "2021-07-28T20:13:33.596Z"
   },
   {
    "duration": 9,
    "start_time": "2021-07-28T20:13:33.605Z"
   },
   {
    "duration": 42,
    "start_time": "2021-07-28T20:13:33.615Z"
   },
   {
    "duration": 18,
    "start_time": "2021-07-28T20:13:33.659Z"
   },
   {
    "duration": 18,
    "start_time": "2021-07-28T20:13:33.679Z"
   },
   {
    "duration": 43,
    "start_time": "2021-07-28T20:13:33.699Z"
   },
   {
    "duration": 13,
    "start_time": "2021-07-28T20:38:37.484Z"
   },
   {
    "duration": 304,
    "start_time": "2021-07-28T20:39:34.729Z"
   },
   {
    "duration": 243,
    "start_time": "2021-07-28T20:39:42.024Z"
   },
   {
    "duration": 12,
    "start_time": "2021-07-28T20:39:59.880Z"
   },
   {
    "duration": 21,
    "start_time": "2021-07-28T20:40:42.411Z"
   },
   {
    "duration": 20,
    "start_time": "2021-07-28T20:41:00.119Z"
   },
   {
    "duration": 258,
    "start_time": "2021-07-28T20:42:48.415Z"
   },
   {
    "duration": 253,
    "start_time": "2021-07-28T20:43:02.593Z"
   },
   {
    "duration": 269,
    "start_time": "2021-07-28T20:43:05.882Z"
   },
   {
    "duration": 20,
    "start_time": "2021-07-28T20:43:08.994Z"
   },
   {
    "duration": 1641,
    "start_time": "2021-07-28T20:44:17.354Z"
   },
   {
    "duration": 18,
    "start_time": "2021-07-28T20:44:41.777Z"
   },
   {
    "duration": 19,
    "start_time": "2021-07-28T20:44:52.350Z"
   },
   {
    "duration": 19,
    "start_time": "2021-07-28T20:44:58.530Z"
   },
   {
    "duration": 289,
    "start_time": "2021-07-28T20:45:28.696Z"
   },
   {
    "duration": 20,
    "start_time": "2021-07-28T20:45:41.421Z"
   },
   {
    "duration": 619,
    "start_time": "2021-07-29T18:47:49.432Z"
   },
   {
    "duration": 11,
    "start_time": "2021-07-29T18:47:50.053Z"
   },
   {
    "duration": 21,
    "start_time": "2021-07-29T18:47:50.066Z"
   },
   {
    "duration": 11,
    "start_time": "2021-07-29T18:47:50.089Z"
   },
   {
    "duration": 10,
    "start_time": "2021-07-29T18:47:50.102Z"
   },
   {
    "duration": 30,
    "start_time": "2021-07-29T18:47:50.114Z"
   },
   {
    "duration": 21,
    "start_time": "2021-07-29T18:47:50.146Z"
   },
   {
    "duration": 102,
    "start_time": "2021-07-29T18:47:53.636Z"
   },
   {
    "duration": 10,
    "start_time": "2021-07-29T18:47:56.537Z"
   },
   {
    "duration": 14,
    "start_time": "2021-07-29T18:48:25.848Z"
   },
   {
    "duration": 46,
    "start_time": "2021-07-29T18:49:10.436Z"
   },
   {
    "duration": 9,
    "start_time": "2021-07-29T18:49:10.484Z"
   },
   {
    "duration": 12,
    "start_time": "2021-07-29T18:49:10.495Z"
   },
   {
    "duration": 12,
    "start_time": "2021-07-29T18:49:10.509Z"
   },
   {
    "duration": 26,
    "start_time": "2021-07-29T18:49:10.522Z"
   },
   {
    "duration": 9,
    "start_time": "2021-07-29T18:49:10.550Z"
   },
   {
    "duration": 19,
    "start_time": "2021-07-29T18:49:10.560Z"
   },
   {
    "duration": 57,
    "start_time": "2021-07-29T18:49:12.322Z"
   },
   {
    "duration": 52,
    "start_time": "2021-07-29T18:49:37.999Z"
   },
   {
    "duration": 8,
    "start_time": "2021-07-29T18:49:45.060Z"
   },
   {
    "duration": 20,
    "start_time": "2021-07-29T18:49:52.085Z"
   },
   {
    "duration": 46,
    "start_time": "2021-07-29T18:50:32.726Z"
   },
   {
    "duration": 10,
    "start_time": "2021-07-29T18:50:32.773Z"
   },
   {
    "duration": 13,
    "start_time": "2021-07-29T18:50:32.785Z"
   },
   {
    "duration": 11,
    "start_time": "2021-07-29T18:50:32.800Z"
   },
   {
    "duration": 9,
    "start_time": "2021-07-29T18:50:32.841Z"
   },
   {
    "duration": 8,
    "start_time": "2021-07-29T18:50:32.852Z"
   },
   {
    "duration": 24,
    "start_time": "2021-07-29T18:50:32.861Z"
   },
   {
    "duration": 26,
    "start_time": "2021-07-29T18:50:34.438Z"
   },
   {
    "duration": 19,
    "start_time": "2021-07-29T18:50:37.793Z"
   },
   {
    "duration": 10,
    "start_time": "2021-07-29T18:50:48.875Z"
   },
   {
    "duration": 19,
    "start_time": "2021-07-29T18:50:54.504Z"
   },
   {
    "duration": 10,
    "start_time": "2021-07-29T18:51:37.127Z"
   },
   {
    "duration": 34,
    "start_time": "2021-07-29T18:51:43.457Z"
   },
   {
    "duration": 14,
    "start_time": "2021-07-29T18:51:47.840Z"
   },
   {
    "duration": 7,
    "start_time": "2021-07-29T18:51:59.940Z"
   },
   {
    "duration": 19,
    "start_time": "2021-07-29T18:52:05.484Z"
   },
   {
    "duration": 11,
    "start_time": "2021-07-29T18:54:57.465Z"
   },
   {
    "duration": 16,
    "start_time": "2021-07-29T18:55:07.478Z"
   },
   {
    "duration": 10,
    "start_time": "2021-07-29T18:55:12.605Z"
   },
   {
    "duration": 16,
    "start_time": "2021-07-29T18:55:56.759Z"
   },
   {
    "duration": 3597,
    "start_time": "2021-07-29T18:56:15.140Z"
   },
   {
    "duration": 11,
    "start_time": "2021-07-29T18:56:39.869Z"
   },
   {
    "duration": 48,
    "start_time": "2021-07-29T18:56:44.310Z"
   },
   {
    "duration": 10,
    "start_time": "2021-07-29T18:56:44.360Z"
   },
   {
    "duration": 13,
    "start_time": "2021-07-29T18:56:44.372Z"
   },
   {
    "duration": 11,
    "start_time": "2021-07-29T18:56:44.387Z"
   },
   {
    "duration": 9,
    "start_time": "2021-07-29T18:56:44.400Z"
   },
   {
    "duration": 30,
    "start_time": "2021-07-29T18:56:44.411Z"
   },
   {
    "duration": 9,
    "start_time": "2021-07-29T18:56:45.857Z"
   },
   {
    "duration": 16,
    "start_time": "2021-07-29T18:57:01.885Z"
   },
   {
    "duration": 19,
    "start_time": "2021-07-29T18:57:10.166Z"
   },
   {
    "duration": 10,
    "start_time": "2021-07-29T18:58:20.892Z"
   },
   {
    "duration": 9,
    "start_time": "2021-07-29T18:58:30.050Z"
   },
   {
    "duration": 20,
    "start_time": "2021-07-29T19:00:27.802Z"
   },
   {
    "duration": 19,
    "start_time": "2021-07-29T19:00:36.310Z"
   },
   {
    "duration": 9,
    "start_time": "2021-07-29T19:00:59.590Z"
   },
   {
    "duration": 22,
    "start_time": "2021-07-29T19:03:42.563Z"
   },
   {
    "duration": 19,
    "start_time": "2021-07-29T19:03:44.920Z"
   },
   {
    "duration": 10,
    "start_time": "2021-07-29T19:03:48.372Z"
   },
   {
    "duration": 280,
    "start_time": "2021-07-29T19:04:00.943Z"
   },
   {
    "duration": 275,
    "start_time": "2021-07-29T19:04:20.255Z"
   },
   {
    "duration": 249,
    "start_time": "2021-07-29T19:05:02.921Z"
   },
   {
    "duration": 3145,
    "start_time": "2021-07-29T19:05:08.367Z"
   },
   {
    "duration": 5,
    "start_time": "2021-07-29T19:05:11.972Z"
   },
   {
    "duration": 4,
    "start_time": "2021-07-29T19:05:17.220Z"
   },
   {
    "duration": 48,
    "start_time": "2021-07-29T19:05:29.240Z"
   },
   {
    "duration": 10,
    "start_time": "2021-07-29T19:05:29.289Z"
   },
   {
    "duration": 13,
    "start_time": "2021-07-29T19:05:29.301Z"
   },
   {
    "duration": 25,
    "start_time": "2021-07-29T19:05:29.316Z"
   },
   {
    "duration": 9,
    "start_time": "2021-07-29T19:05:29.343Z"
   },
   {
    "duration": 5,
    "start_time": "2021-07-29T19:05:29.354Z"
   },
   {
    "duration": 19,
    "start_time": "2021-07-29T19:05:29.360Z"
   },
   {
    "duration": 23,
    "start_time": "2021-07-29T19:05:30.692Z"
   },
   {
    "duration": 19,
    "start_time": "2021-07-29T19:05:34.218Z"
   },
   {
    "duration": 260,
    "start_time": "2021-07-29T19:05:55.809Z"
   },
   {
    "duration": 38,
    "start_time": "2021-07-29T19:06:21.967Z"
   },
   {
    "duration": 48,
    "start_time": "2021-07-29T19:06:25.026Z"
   },
   {
    "duration": 10,
    "start_time": "2021-07-29T19:06:25.076Z"
   },
   {
    "duration": 13,
    "start_time": "2021-07-29T19:06:25.088Z"
   },
   {
    "duration": 11,
    "start_time": "2021-07-29T19:06:25.103Z"
   },
   {
    "duration": 29,
    "start_time": "2021-07-29T19:06:25.120Z"
   },
   {
    "duration": 8,
    "start_time": "2021-07-29T19:06:25.150Z"
   },
   {
    "duration": 21,
    "start_time": "2021-07-29T19:06:25.159Z"
   },
   {
    "duration": 39,
    "start_time": "2021-07-29T19:06:26.537Z"
   },
   {
    "duration": 68,
    "start_time": "2021-07-29T19:06:44.425Z"
   },
   {
    "duration": 19,
    "start_time": "2021-07-29T19:06:46.973Z"
   },
   {
    "duration": 10,
    "start_time": "2021-07-29T19:06:54.135Z"
   },
   {
    "duration": 7,
    "start_time": "2021-07-29T19:07:08.947Z"
   },
   {
    "duration": 19,
    "start_time": "2021-07-29T19:07:12.284Z"
   },
   {
    "duration": 9,
    "start_time": "2021-07-29T19:07:16.163Z"
   },
   {
    "duration": 16,
    "start_time": "2021-07-29T19:07:32.641Z"
   },
   {
    "duration": 255,
    "start_time": "2021-07-29T19:08:39.548Z"
   },
   {
    "duration": 25,
    "start_time": "2021-07-29T19:09:09.564Z"
   },
   {
    "duration": 30,
    "start_time": "2021-07-29T19:09:27.137Z"
   },
   {
    "duration": 21,
    "start_time": "2021-07-29T19:09:29.906Z"
   },
   {
    "duration": 47,
    "start_time": "2021-07-29T19:09:42.639Z"
   },
   {
    "duration": 10,
    "start_time": "2021-07-29T19:09:42.687Z"
   },
   {
    "duration": 26,
    "start_time": "2021-07-29T19:09:42.699Z"
   },
   {
    "duration": 16,
    "start_time": "2021-07-29T19:09:42.727Z"
   },
   {
    "duration": 20,
    "start_time": "2021-07-29T19:09:42.744Z"
   },
   {
    "duration": 17,
    "start_time": "2021-07-29T19:09:42.766Z"
   },
   {
    "duration": 25,
    "start_time": "2021-07-29T19:09:42.785Z"
   },
   {
    "duration": 47,
    "start_time": "2021-07-29T19:09:44.377Z"
   },
   {
    "duration": 20,
    "start_time": "2021-07-29T19:09:47.016Z"
   },
   {
    "duration": 31,
    "start_time": "2021-07-29T19:10:05.011Z"
   },
   {
    "duration": 22,
    "start_time": "2021-07-29T19:10:08.270Z"
   },
   {
    "duration": 10,
    "start_time": "2021-07-29T19:15:10.172Z"
   },
   {
    "duration": 8,
    "start_time": "2021-07-29T19:18:37.540Z"
   },
   {
    "duration": 9,
    "start_time": "2021-07-29T19:19:38.029Z"
   },
   {
    "duration": 7,
    "start_time": "2021-07-29T19:19:49.480Z"
   },
   {
    "duration": 10,
    "start_time": "2021-07-29T19:19:58.623Z"
   },
   {
    "duration": 260,
    "start_time": "2021-07-29T19:20:30.027Z"
   },
   {
    "duration": 258,
    "start_time": "2021-07-29T19:20:41.626Z"
   },
   {
    "duration": 246,
    "start_time": "2021-07-29T19:21:15.051Z"
   },
   {
    "duration": 10,
    "start_time": "2021-07-29T19:21:26.268Z"
   },
   {
    "duration": 10,
    "start_time": "2021-07-29T19:21:40.311Z"
   },
   {
    "duration": 8,
    "start_time": "2021-07-29T19:22:45.664Z"
   },
   {
    "duration": 10,
    "start_time": "2021-07-29T19:22:50.767Z"
   },
   {
    "duration": 659,
    "start_time": "2021-07-29T19:23:25.255Z"
   },
   {
    "duration": 46,
    "start_time": "2021-07-29T19:23:29.702Z"
   },
   {
    "duration": 10,
    "start_time": "2021-07-29T19:23:29.750Z"
   },
   {
    "duration": 12,
    "start_time": "2021-07-29T19:23:29.762Z"
   },
   {
    "duration": 6,
    "start_time": "2021-07-29T19:23:29.776Z"
   },
   {
    "duration": 10,
    "start_time": "2021-07-29T19:23:29.784Z"
   },
   {
    "duration": 5,
    "start_time": "2021-07-29T19:23:29.796Z"
   },
   {
    "duration": 52,
    "start_time": "2021-07-29T19:23:29.802Z"
   },
   {
    "duration": 28,
    "start_time": "2021-07-29T19:23:29.856Z"
   },
   {
    "duration": 8,
    "start_time": "2021-07-29T19:23:29.886Z"
   },
   {
    "duration": 6,
    "start_time": "2021-07-29T19:23:29.895Z"
   },
   {
    "duration": 831,
    "start_time": "2021-07-29T19:23:31.359Z"
   },
   {
    "duration": 234,
    "start_time": "2021-07-29T19:24:07.780Z"
   },
   {
    "duration": 262,
    "start_time": "2021-07-29T19:28:37.282Z"
   },
   {
    "duration": 246,
    "start_time": "2021-07-29T19:28:51.560Z"
   },
   {
    "duration": 319,
    "start_time": "2021-07-29T19:29:05.136Z"
   },
   {
    "duration": 20,
    "start_time": "2021-07-29T19:29:28.038Z"
   },
   {
    "duration": 8,
    "start_time": "2021-07-29T19:30:10.039Z"
   },
   {
    "duration": 5,
    "start_time": "2021-07-29T19:30:16.696Z"
   },
   {
    "duration": 10,
    "start_time": "2021-07-29T19:30:31.493Z"
   },
   {
    "duration": 6,
    "start_time": "2021-07-29T19:30:38.082Z"
   },
   {
    "duration": 6,
    "start_time": "2021-07-29T19:30:45.134Z"
   },
   {
    "duration": 9,
    "start_time": "2021-07-29T19:30:49.480Z"
   },
   {
    "duration": 21,
    "start_time": "2021-07-29T19:30:53.002Z"
   },
   {
    "duration": 34,
    "start_time": "2021-07-29T19:32:37.228Z"
   },
   {
    "duration": 31,
    "start_time": "2021-07-29T19:32:51.392Z"
   },
   {
    "duration": 9,
    "start_time": "2021-07-29T19:32:54.890Z"
   },
   {
    "duration": 8,
    "start_time": "2021-07-29T19:32:58.300Z"
   },
   {
    "duration": 14,
    "start_time": "2021-07-29T19:33:03.847Z"
   },
   {
    "duration": 31,
    "start_time": "2021-07-29T19:33:29.973Z"
   },
   {
    "duration": 32,
    "start_time": "2021-07-29T19:33:43.438Z"
   },
   {
    "duration": 289,
    "start_time": "2021-07-29T19:34:22.945Z"
   },
   {
    "duration": 16,
    "start_time": "2021-07-29T19:34:34.050Z"
   },
   {
    "duration": 10,
    "start_time": "2021-07-29T19:34:47.461Z"
   },
   {
    "duration": 48,
    "start_time": "2021-07-29T19:35:27.785Z"
   },
   {
    "duration": 10,
    "start_time": "2021-07-29T19:35:27.835Z"
   },
   {
    "duration": 13,
    "start_time": "2021-07-29T19:35:27.847Z"
   },
   {
    "duration": 7,
    "start_time": "2021-07-29T19:35:27.862Z"
   },
   {
    "duration": 10,
    "start_time": "2021-07-29T19:35:27.871Z"
   },
   {
    "duration": 5,
    "start_time": "2021-07-29T19:35:27.883Z"
   },
   {
    "duration": 19,
    "start_time": "2021-07-29T19:35:27.889Z"
   },
   {
    "duration": 58,
    "start_time": "2021-07-29T19:35:27.910Z"
   },
   {
    "duration": 10,
    "start_time": "2021-07-29T19:35:27.969Z"
   },
   {
    "duration": 7,
    "start_time": "2021-07-29T19:35:27.980Z"
   },
   {
    "duration": 30,
    "start_time": "2021-07-29T19:35:37.469Z"
   },
   {
    "duration": 30,
    "start_time": "2021-07-29T19:36:26.380Z"
   },
   {
    "duration": 10,
    "start_time": "2021-07-29T19:37:19.758Z"
   },
   {
    "duration": 10,
    "start_time": "2021-07-29T19:37:34.806Z"
   },
   {
    "duration": 256,
    "start_time": "2021-07-29T19:37:53.630Z"
   },
   {
    "duration": 280,
    "start_time": "2021-07-29T19:37:59.131Z"
   },
   {
    "duration": 253,
    "start_time": "2021-07-29T19:38:20.211Z"
   },
   {
    "duration": 262,
    "start_time": "2021-07-29T19:38:24.419Z"
   },
   {
    "duration": 6223,
    "start_time": "2021-07-29T19:38:52.531Z"
   },
   {
    "duration": 264,
    "start_time": "2021-07-29T19:39:00.097Z"
   },
   {
    "duration": 279,
    "start_time": "2021-07-29T19:39:07.352Z"
   },
   {
    "duration": 22,
    "start_time": "2021-07-29T19:39:16.708Z"
   },
   {
    "duration": 17,
    "start_time": "2021-07-29T19:39:52.103Z"
   },
   {
    "duration": 24,
    "start_time": "2021-07-29T19:40:01.278Z"
   },
   {
    "duration": 50,
    "start_time": "2021-07-29T19:40:23.385Z"
   },
   {
    "duration": 12,
    "start_time": "2021-07-29T19:40:23.437Z"
   },
   {
    "duration": 21,
    "start_time": "2021-07-29T19:40:23.451Z"
   },
   {
    "duration": 6,
    "start_time": "2021-07-29T19:40:25.648Z"
   },
   {
    "duration": 7,
    "start_time": "2021-07-29T19:41:40.645Z"
   },
   {
    "duration": 47,
    "start_time": "2021-07-29T19:41:56.424Z"
   },
   {
    "duration": 10,
    "start_time": "2021-07-29T19:41:56.473Z"
   },
   {
    "duration": 13,
    "start_time": "2021-07-29T19:41:56.486Z"
   },
   {
    "duration": 7,
    "start_time": "2021-07-29T19:41:56.501Z"
   },
   {
    "duration": 36,
    "start_time": "2021-07-29T19:41:56.509Z"
   },
   {
    "duration": 7,
    "start_time": "2021-07-29T19:41:56.546Z"
   },
   {
    "duration": 25,
    "start_time": "2021-07-29T19:41:56.555Z"
   },
   {
    "duration": 30,
    "start_time": "2021-07-29T19:41:56.583Z"
   },
   {
    "duration": 11,
    "start_time": "2021-07-29T19:41:58.181Z"
   },
   {
    "duration": 7,
    "start_time": "2021-07-29T19:42:29.388Z"
   },
   {
    "duration": 7,
    "start_time": "2021-07-29T19:42:34.723Z"
   },
   {
    "duration": 6,
    "start_time": "2021-07-29T19:42:36.964Z"
   },
   {
    "duration": 7,
    "start_time": "2021-07-29T19:42:40.142Z"
   },
   {
    "duration": 35,
    "start_time": "2021-07-29T19:42:45.365Z"
   },
   {
    "duration": 6313,
    "start_time": "2021-07-29T19:43:33.654Z"
   },
   {
    "duration": 10,
    "start_time": "2021-07-29T19:43:42.621Z"
   },
   {
    "duration": 9,
    "start_time": "2021-07-29T19:43:57.649Z"
   },
   {
    "duration": 8,
    "start_time": "2021-07-29T19:44:04.996Z"
   },
   {
    "duration": 9,
    "start_time": "2021-07-29T19:44:17.884Z"
   },
   {
    "duration": 16,
    "start_time": "2021-07-29T19:44:49.641Z"
   },
   {
    "duration": 9,
    "start_time": "2021-07-29T19:44:56.471Z"
   },
   {
    "duration": 9,
    "start_time": "2021-07-29T19:45:03.143Z"
   },
   {
    "duration": 22,
    "start_time": "2021-07-29T19:45:37.990Z"
   },
   {
    "duration": 7031,
    "start_time": "2021-07-29T19:45:57.161Z"
   },
   {
    "duration": 21,
    "start_time": "2021-07-29T19:46:15.821Z"
   },
   {
    "duration": 9,
    "start_time": "2021-07-29T19:46:28.837Z"
   },
   {
    "duration": 7,
    "start_time": "2021-07-29T19:46:36.380Z"
   },
   {
    "duration": 8,
    "start_time": "2021-07-29T19:46:47.012Z"
   },
   {
    "duration": 10,
    "start_time": "2021-07-29T19:47:16.398Z"
   },
   {
    "duration": 8,
    "start_time": "2021-07-29T19:47:35.567Z"
   },
   {
    "duration": 4,
    "start_time": "2021-07-29T19:47:50.469Z"
   },
   {
    "duration": 6,
    "start_time": "2021-07-29T19:47:52.329Z"
   },
   {
    "duration": 7,
    "start_time": "2021-07-29T19:47:59.557Z"
   },
   {
    "duration": 9,
    "start_time": "2021-07-29T19:48:06.971Z"
   },
   {
    "duration": 21,
    "start_time": "2021-07-29T19:48:20.953Z"
   },
   {
    "duration": 1777,
    "start_time": "2021-07-29T19:48:43.617Z"
   },
   {
    "duration": 8,
    "start_time": "2021-07-29T19:48:52.164Z"
   },
   {
    "duration": 8,
    "start_time": "2021-07-29T19:49:01.793Z"
   },
   {
    "duration": 8,
    "start_time": "2021-07-29T19:49:50.838Z"
   },
   {
    "duration": 1679,
    "start_time": "2021-07-29T19:51:03.909Z"
   },
   {
    "duration": 8,
    "start_time": "2021-07-29T19:51:43.152Z"
   },
   {
    "duration": 419,
    "start_time": "2021-07-30T07:52:12.571Z"
   },
   {
    "duration": 1064,
    "start_time": "2021-07-30T07:52:23.241Z"
   },
   {
    "duration": 22,
    "start_time": "2021-07-30T07:52:24.308Z"
   },
   {
    "duration": 53,
    "start_time": "2021-07-30T07:52:24.334Z"
   },
   {
    "duration": 16,
    "start_time": "2021-07-30T07:52:24.391Z"
   },
   {
    "duration": 17,
    "start_time": "2021-07-30T07:52:24.410Z"
   },
   {
    "duration": 35,
    "start_time": "2021-07-30T07:52:24.429Z"
   },
   {
    "duration": 49,
    "start_time": "2021-07-30T07:52:24.467Z"
   },
   {
    "duration": 87,
    "start_time": "2021-07-30T07:52:24.519Z"
   },
   {
    "duration": 17,
    "start_time": "2021-07-30T07:52:24.611Z"
   },
   {
    "duration": 29,
    "start_time": "2021-07-30T07:52:24.632Z"
   },
   {
    "duration": 21,
    "start_time": "2021-07-30T07:52:24.664Z"
   },
   {
    "duration": 18,
    "start_time": "2021-07-30T07:52:24.688Z"
   },
   {
    "duration": 16,
    "start_time": "2021-07-30T07:52:24.709Z"
   },
   {
    "duration": 35,
    "start_time": "2021-07-30T07:52:24.728Z"
   },
   {
    "duration": 12,
    "start_time": "2021-07-30T07:52:24.766Z"
   },
   {
    "duration": 4,
    "start_time": "2021-07-30T07:52:24.781Z"
   },
   {
    "duration": 16,
    "start_time": "2021-07-30T07:52:24.788Z"
   },
   {
    "duration": 108,
    "start_time": "2021-07-30T07:52:24.807Z"
   },
   {
    "duration": 9,
    "start_time": "2021-07-30T07:52:24.918Z"
   },
   {
    "duration": 29,
    "start_time": "2021-07-30T07:52:24.931Z"
   },
   {
    "duration": 7,
    "start_time": "2021-07-30T07:52:24.963Z"
   },
   {
    "duration": 11,
    "start_time": "2021-07-30T07:52:24.973Z"
   },
   {
    "duration": 10,
    "start_time": "2021-07-30T07:52:24.987Z"
   },
   {
    "duration": 63,
    "start_time": "2021-07-30T07:52:25.000Z"
   },
   {
    "duration": 37,
    "start_time": "2021-07-30T07:52:25.066Z"
   },
   {
    "duration": 88,
    "start_time": "2021-07-30T07:52:25.105Z"
   },
   {
    "duration": 4531,
    "start_time": "2021-07-30T07:52:25.197Z"
   },
   {
    "duration": 42,
    "start_time": "2021-07-30T07:52:29.730Z"
   },
   {
    "duration": 2556,
    "start_time": "2021-07-30T07:52:30.301Z"
   },
   {
    "duration": 132,
    "start_time": "2021-07-30T07:53:12.832Z"
   },
   {
    "duration": 220,
    "start_time": "2021-07-30T07:53:24.877Z"
   },
   {
    "duration": 22,
    "start_time": "2021-07-30T08:56:30.677Z"
   },
   {
    "duration": 615,
    "start_time": "2021-07-30T08:58:49.922Z"
   },
   {
    "duration": 7,
    "start_time": "2021-07-30T08:59:04.293Z"
   },
   {
    "duration": 157,
    "start_time": "2021-07-30T09:10:00.756Z"
   },
   {
    "duration": 616,
    "start_time": "2021-07-30T09:10:14.065Z"
   },
   {
    "duration": 8,
    "start_time": "2021-07-30T09:10:48.562Z"
   },
   {
    "duration": 4,
    "start_time": "2021-07-30T09:15:03.254Z"
   },
   {
    "duration": 5,
    "start_time": "2021-07-30T09:15:19.708Z"
   },
   {
    "duration": 61,
    "start_time": "2021-07-30T09:15:44.328Z"
   },
   {
    "duration": 16,
    "start_time": "2021-07-30T09:15:44.391Z"
   },
   {
    "duration": 21,
    "start_time": "2021-07-30T09:15:44.409Z"
   },
   {
    "duration": 27,
    "start_time": "2021-07-30T09:15:44.433Z"
   },
   {
    "duration": 12,
    "start_time": "2021-07-30T09:15:44.462Z"
   },
   {
    "duration": 9,
    "start_time": "2021-07-30T09:15:44.476Z"
   },
   {
    "duration": 70,
    "start_time": "2021-07-30T09:15:44.487Z"
   },
   {
    "duration": 45,
    "start_time": "2021-07-30T09:15:44.562Z"
   },
   {
    "duration": 14,
    "start_time": "2021-07-30T09:15:44.610Z"
   },
   {
    "duration": 10,
    "start_time": "2021-07-30T09:15:44.655Z"
   },
   {
    "duration": 10,
    "start_time": "2021-07-30T09:15:44.668Z"
   },
   {
    "duration": 13,
    "start_time": "2021-07-30T09:15:44.681Z"
   },
   {
    "duration": 19,
    "start_time": "2021-07-30T09:15:44.696Z"
   },
   {
    "duration": 10,
    "start_time": "2021-07-30T09:15:44.756Z"
   },
   {
    "duration": 10,
    "start_time": "2021-07-30T09:15:44.770Z"
   },
   {
    "duration": 4,
    "start_time": "2021-07-30T09:15:44.784Z"
   },
   {
    "duration": 13,
    "start_time": "2021-07-30T09:15:44.790Z"
   },
   {
    "duration": 91,
    "start_time": "2021-07-30T09:15:44.805Z"
   },
   {
    "duration": 7,
    "start_time": "2021-07-30T09:15:44.898Z"
   },
   {
    "duration": 16,
    "start_time": "2021-07-30T09:15:44.907Z"
   },
   {
    "duration": 29,
    "start_time": "2021-07-30T09:15:44.926Z"
   },
   {
    "duration": 4,
    "start_time": "2021-07-30T09:15:44.958Z"
   },
   {
    "duration": 9,
    "start_time": "2021-07-30T09:15:44.964Z"
   },
   {
    "duration": 25,
    "start_time": "2021-07-30T09:15:44.975Z"
   },
   {
    "duration": 54,
    "start_time": "2021-07-30T09:15:45.002Z"
   },
   {
    "duration": 46,
    "start_time": "2021-07-30T09:15:45.059Z"
   },
   {
    "duration": 4401,
    "start_time": "2021-07-30T09:15:45.108Z"
   },
   {
    "duration": 48,
    "start_time": "2021-07-30T09:15:49.513Z"
   },
   {
    "duration": 209,
    "start_time": "2021-07-30T09:15:49.564Z"
   },
   {
    "duration": 362,
    "start_time": "2021-07-30T09:15:49.775Z"
   },
   {
    "duration": 5,
    "start_time": "2021-07-30T09:16:22.698Z"
   },
   {
    "duration": 5,
    "start_time": "2021-07-30T09:18:04.351Z"
   },
   {
    "duration": 119,
    "start_time": "2021-07-30T09:30:36.211Z"
   },
   {
    "duration": 6,
    "start_time": "2021-07-30T09:30:47.263Z"
   },
   {
    "duration": 64,
    "start_time": "2021-07-30T09:34:18.590Z"
   },
   {
    "duration": 15,
    "start_time": "2021-07-30T09:34:18.657Z"
   },
   {
    "duration": 20,
    "start_time": "2021-07-30T09:34:18.675Z"
   },
   {
    "duration": 14,
    "start_time": "2021-07-30T09:34:18.698Z"
   },
   {
    "duration": 42,
    "start_time": "2021-07-30T09:34:18.715Z"
   },
   {
    "duration": 11,
    "start_time": "2021-07-30T09:34:18.760Z"
   },
   {
    "duration": 33,
    "start_time": "2021-07-30T09:34:18.773Z"
   },
   {
    "duration": 78,
    "start_time": "2021-07-30T09:34:18.809Z"
   },
   {
    "duration": 12,
    "start_time": "2021-07-30T09:34:18.889Z"
   },
   {
    "duration": 20,
    "start_time": "2021-07-30T09:34:18.903Z"
   },
   {
    "duration": 10,
    "start_time": "2021-07-30T09:34:26.694Z"
   },
   {
    "duration": 10,
    "start_time": "2021-07-30T09:34:34.610Z"
   },
   {
    "duration": 6,
    "start_time": "2021-07-30T09:35:42.623Z"
   },
   {
    "duration": 6,
    "start_time": "2021-07-30T09:35:55.412Z"
   },
   {
    "duration": 7,
    "start_time": "2021-07-30T09:36:12.244Z"
   },
   {
    "duration": 397,
    "start_time": "2021-07-30T09:37:27.090Z"
   },
   {
    "duration": 9,
    "start_time": "2021-07-30T09:37:39.337Z"
   },
   {
    "duration": 123,
    "start_time": "2021-07-30T09:38:28.321Z"
   },
   {
    "duration": 9045,
    "start_time": "2021-07-30T09:38:35.244Z"
   },
   {
    "duration": 10066,
    "start_time": "2021-07-30T09:38:59.555Z"
   },
   {
    "duration": 397,
    "start_time": "2021-07-30T09:39:12.381Z"
   },
   {
    "duration": 17,
    "start_time": "2021-07-30T09:39:25.421Z"
   },
   {
    "duration": 35,
    "start_time": "2021-07-30T09:39:38.571Z"
   },
   {
    "duration": 11,
    "start_time": "2021-07-30T09:40:25.668Z"
   },
   {
    "duration": 1114,
    "start_time": "2021-07-30T15:35:58.668Z"
   },
   {
    "duration": 20,
    "start_time": "2021-07-30T15:35:59.785Z"
   },
   {
    "duration": 53,
    "start_time": "2021-07-30T15:35:59.809Z"
   },
   {
    "duration": 15,
    "start_time": "2021-07-30T15:35:59.866Z"
   },
   {
    "duration": 14,
    "start_time": "2021-07-30T15:35:59.884Z"
   },
   {
    "duration": 9,
    "start_time": "2021-07-30T15:35:59.901Z"
   },
   {
    "duration": 33,
    "start_time": "2021-07-30T15:35:59.955Z"
   },
   {
    "duration": 65,
    "start_time": "2021-07-30T15:37:52.985Z"
   },
   {
    "duration": 16,
    "start_time": "2021-07-30T15:37:53.052Z"
   },
   {
    "duration": 22,
    "start_time": "2021-07-30T15:37:53.071Z"
   },
   {
    "duration": 9,
    "start_time": "2021-07-30T15:37:53.096Z"
   },
   {
    "duration": 49,
    "start_time": "2021-07-30T15:37:53.108Z"
   },
   {
    "duration": 9,
    "start_time": "2021-07-30T15:37:53.159Z"
   },
   {
    "duration": 45,
    "start_time": "2021-07-30T15:37:53.170Z"
   },
   {
    "duration": 74,
    "start_time": "2021-07-30T15:37:53.218Z"
   },
   {
    "duration": 12,
    "start_time": "2021-07-30T15:37:53.294Z"
   },
   {
    "duration": 9,
    "start_time": "2021-07-30T15:37:55.172Z"
   },
   {
    "duration": 10,
    "start_time": "2021-07-30T15:38:33.081Z"
   },
   {
    "duration": 11,
    "start_time": "2021-07-30T15:39:02.169Z"
   },
   {
    "duration": 8,
    "start_time": "2021-07-30T15:39:16.944Z"
   },
   {
    "duration": 9,
    "start_time": "2021-07-30T15:40:15.267Z"
   },
   {
    "duration": 13,
    "start_time": "2021-07-30T15:40:20.788Z"
   },
   {
    "duration": 23,
    "start_time": "2021-07-30T15:41:04.875Z"
   },
   {
    "duration": 19,
    "start_time": "2021-07-30T15:43:15.731Z"
   },
   {
    "duration": 40,
    "start_time": "2021-07-30T15:44:19.577Z"
   },
   {
    "duration": 53,
    "start_time": "2021-07-30T15:46:21.002Z"
   },
   {
    "duration": 34,
    "start_time": "2021-07-30T15:46:33.284Z"
   },
   {
    "duration": 12,
    "start_time": "2021-07-30T15:46:39.021Z"
   },
   {
    "duration": 15,
    "start_time": "2021-07-30T15:47:52.668Z"
   },
   {
    "duration": 42,
    "start_time": "2021-07-30T15:49:09.917Z"
   },
   {
    "duration": 11,
    "start_time": "2021-07-30T15:49:36.724Z"
   },
   {
    "duration": 13,
    "start_time": "2021-07-30T15:49:58.159Z"
   },
   {
    "duration": 17,
    "start_time": "2021-07-30T15:50:13.371Z"
   },
   {
    "duration": 347,
    "start_time": "2021-07-30T15:51:22.580Z"
   },
   {
    "duration": 21,
    "start_time": "2021-07-30T15:52:02.624Z"
   },
   {
    "duration": 12,
    "start_time": "2021-07-30T15:55:41.637Z"
   },
   {
    "duration": 7192,
    "start_time": "2021-07-30T15:55:57.268Z"
   },
   {
    "duration": -31,
    "start_time": "2021-07-30T15:56:16.553Z"
   },
   {
    "duration": 16,
    "start_time": "2021-07-30T15:56:44.730Z"
   },
   {
    "duration": 14,
    "start_time": "2021-07-30T15:57:14.469Z"
   },
   {
    "duration": 15,
    "start_time": "2021-07-30T15:57:26.789Z"
   },
   {
    "duration": 12,
    "start_time": "2021-07-30T16:07:16.354Z"
   },
   {
    "duration": 16,
    "start_time": "2021-07-30T16:07:21.337Z"
   },
   {
    "duration": 53,
    "start_time": "2021-07-30T16:08:36.218Z"
   },
   {
    "duration": 20,
    "start_time": "2021-07-30T16:11:33.566Z"
   },
   {
    "duration": 35,
    "start_time": "2021-07-30T16:12:05.365Z"
   },
   {
    "duration": 14,
    "start_time": "2021-07-30T16:12:24.236Z"
   },
   {
    "duration": 7,
    "start_time": "2021-07-30T16:26:15.911Z"
   },
   {
    "duration": 7,
    "start_time": "2021-07-30T16:26:28.425Z"
   },
   {
    "duration": 10770,
    "start_time": "2021-07-30T16:26:41.921Z"
   },
   {
    "duration": 9,
    "start_time": "2021-07-30T16:27:02.582Z"
   },
   {
    "duration": 287,
    "start_time": "2021-07-30T16:29:18.343Z"
   },
   {
    "duration": 540,
    "start_time": "2021-07-30T16:29:27.126Z"
   },
   {
    "duration": 8,
    "start_time": "2021-07-30T16:32:07.616Z"
   },
   {
    "duration": 537,
    "start_time": "2021-07-30T16:32:24.438Z"
   },
   {
    "duration": 3933,
    "start_time": "2021-07-30T16:32:31.233Z"
   },
   {
    "duration": 8,
    "start_time": "2021-07-30T16:33:46.686Z"
   },
   {
    "duration": 3666,
    "start_time": "2021-07-30T16:33:48.615Z"
   },
   {
    "duration": 540,
    "start_time": "2021-07-30T16:33:55.333Z"
   },
   {
    "duration": 87,
    "start_time": "2021-07-30T16:34:25.199Z"
   },
   {
    "duration": 525,
    "start_time": "2021-07-30T16:34:29.503Z"
   },
   {
    "duration": 21,
    "start_time": "2021-07-30T16:36:08.093Z"
   },
   {
    "duration": 98,
    "start_time": "2021-07-30T16:36:16.792Z"
   },
   {
    "duration": 9,
    "start_time": "2021-07-30T16:36:25.790Z"
   },
   {
    "duration": 630,
    "start_time": "2021-07-30T16:36:27.974Z"
   },
   {
    "duration": 12,
    "start_time": "2021-07-30T16:36:46.422Z"
   },
   {
    "duration": 11,
    "start_time": "2021-07-30T16:36:59.454Z"
   },
   {
    "duration": 64,
    "start_time": "2021-07-30T16:37:07.076Z"
   },
   {
    "duration": 14,
    "start_time": "2021-07-30T16:37:07.143Z"
   },
   {
    "duration": 29,
    "start_time": "2021-07-30T16:37:07.160Z"
   },
   {
    "duration": 13,
    "start_time": "2021-07-30T16:37:07.192Z"
   },
   {
    "duration": 22,
    "start_time": "2021-07-30T16:37:07.207Z"
   },
   {
    "duration": 27,
    "start_time": "2021-07-30T16:37:07.231Z"
   },
   {
    "duration": 56,
    "start_time": "2021-07-30T16:37:07.260Z"
   },
   {
    "duration": 48,
    "start_time": "2021-07-30T16:37:07.319Z"
   },
   {
    "duration": 12,
    "start_time": "2021-07-30T16:37:07.369Z"
   },
   {
    "duration": 18,
    "start_time": "2021-07-30T16:37:07.384Z"
   },
   {
    "duration": 42,
    "start_time": "2021-07-30T16:37:07.404Z"
   },
   {
    "duration": 13,
    "start_time": "2021-07-30T16:37:24.415Z"
   },
   {
    "duration": 9,
    "start_time": "2021-07-30T16:37:26.926Z"
   },
   {
    "duration": 7,
    "start_time": "2021-07-30T16:37:54.494Z"
   },
   {
    "duration": 819,
    "start_time": "2021-07-30T16:37:58.004Z"
   },
   {
    "duration": 10,
    "start_time": "2021-07-30T16:38:03.416Z"
   },
   {
    "duration": 938,
    "start_time": "2021-07-30T16:38:48.825Z"
   },
   {
    "duration": 1053,
    "start_time": "2021-07-30T16:39:14.540Z"
   },
   {
    "duration": 1575,
    "start_time": "2021-07-30T16:39:18.686Z"
   },
   {
    "duration": 1545,
    "start_time": "2021-07-30T16:39:41.198Z"
   },
   {
    "duration": 1642,
    "start_time": "2021-07-30T16:39:48.339Z"
   },
   {
    "duration": 1449,
    "start_time": "2021-07-30T16:39:57.251Z"
   },
   {
    "duration": 348,
    "start_time": "2021-07-30T16:40:40.426Z"
   },
   {
    "duration": 284,
    "start_time": "2021-07-30T16:41:11.354Z"
   },
   {
    "duration": 275,
    "start_time": "2021-07-30T16:41:23.404Z"
   },
   {
    "duration": 313,
    "start_time": "2021-07-30T16:41:38.324Z"
   },
   {
    "duration": 1754,
    "start_time": "2021-07-30T16:41:49.852Z"
   },
   {
    "duration": 316,
    "start_time": "2021-07-30T16:41:55.281Z"
   },
   {
    "duration": 8,
    "start_time": "2021-07-30T16:41:59.372Z"
   },
   {
    "duration": 265,
    "start_time": "2021-07-30T16:42:05.202Z"
   },
   {
    "duration": 272,
    "start_time": "2021-07-30T16:42:21.610Z"
   },
   {
    "duration": 9,
    "start_time": "2021-07-30T16:42:27.874Z"
   },
   {
    "duration": 9,
    "start_time": "2021-07-30T16:42:32.613Z"
   },
   {
    "duration": 265,
    "start_time": "2021-07-30T16:42:38.441Z"
   },
   {
    "duration": 11,
    "start_time": "2021-07-30T16:42:58.215Z"
   },
   {
    "duration": 7,
    "start_time": "2021-07-30T16:43:28.114Z"
   },
   {
    "duration": 63,
    "start_time": "2021-07-30T16:43:30.172Z"
   },
   {
    "duration": 28,
    "start_time": "2021-07-30T16:43:30.239Z"
   },
   {
    "duration": 39,
    "start_time": "2021-07-30T16:43:30.271Z"
   },
   {
    "duration": 19,
    "start_time": "2021-07-30T16:43:30.314Z"
   },
   {
    "duration": 32,
    "start_time": "2021-07-30T16:43:30.336Z"
   },
   {
    "duration": 25,
    "start_time": "2021-07-30T16:43:30.371Z"
   },
   {
    "duration": 88,
    "start_time": "2021-07-30T16:43:30.399Z"
   },
   {
    "duration": 65,
    "start_time": "2021-07-30T16:43:30.492Z"
   },
   {
    "duration": 15,
    "start_time": "2021-07-30T16:43:30.560Z"
   },
   {
    "duration": 33,
    "start_time": "2021-07-30T16:43:30.578Z"
   },
   {
    "duration": 45,
    "start_time": "2021-07-30T16:43:30.613Z"
   },
   {
    "duration": 25,
    "start_time": "2021-07-30T16:43:30.661Z"
   },
   {
    "duration": 46,
    "start_time": "2021-07-30T16:43:30.690Z"
   },
   {
    "duration": 7,
    "start_time": "2021-07-30T16:43:32.512Z"
   },
   {
    "duration": 538,
    "start_time": "2021-07-30T16:43:37.144Z"
   },
   {
    "duration": 22,
    "start_time": "2021-07-30T16:43:58.854Z"
   },
   {
    "duration": 541,
    "start_time": "2021-07-30T16:44:01.010Z"
   },
   {
    "duration": 7,
    "start_time": "2021-07-30T16:44:15.532Z"
   },
   {
    "duration": 1088,
    "start_time": "2021-07-30T16:44:17.474Z"
   },
   {
    "duration": 1030,
    "start_time": "2021-07-30T16:44:27.238Z"
   },
   {
    "duration": 1131,
    "start_time": "2021-07-30T16:45:24.937Z"
   },
   {
    "duration": 1023,
    "start_time": "2021-07-30T16:45:55.658Z"
   },
   {
    "duration": 1034,
    "start_time": "2021-07-30T16:46:20.536Z"
   },
   {
    "duration": 62,
    "start_time": "2021-07-30T16:47:08.002Z"
   },
   {
    "duration": 16,
    "start_time": "2021-07-30T16:47:08.067Z"
   },
   {
    "duration": 21,
    "start_time": "2021-07-30T16:47:08.086Z"
   },
   {
    "duration": 12,
    "start_time": "2021-07-30T16:47:08.110Z"
   },
   {
    "duration": 38,
    "start_time": "2021-07-30T16:47:08.124Z"
   },
   {
    "duration": 10,
    "start_time": "2021-07-30T16:47:08.164Z"
   },
   {
    "duration": 33,
    "start_time": "2021-07-30T16:47:08.176Z"
   },
   {
    "duration": 84,
    "start_time": "2021-07-30T16:47:08.212Z"
   },
   {
    "duration": 12,
    "start_time": "2021-07-30T16:47:08.299Z"
   },
   {
    "duration": 9,
    "start_time": "2021-07-30T16:47:10.902Z"
   },
   {
    "duration": 4,
    "start_time": "2021-07-30T16:47:55.844Z"
   },
   {
    "duration": 4,
    "start_time": "2021-07-30T16:48:20.833Z"
   },
   {
    "duration": 7,
    "start_time": "2021-07-30T16:48:30.630Z"
   },
   {
    "duration": 6,
    "start_time": "2021-07-30T16:48:37.835Z"
   },
   {
    "duration": 6,
    "start_time": "2021-07-30T16:48:41.822Z"
   },
   {
    "duration": 864,
    "start_time": "2021-07-30T16:49:10.945Z"
   },
   {
    "duration": 11,
    "start_time": "2021-07-30T16:50:06.088Z"
   },
   {
    "duration": 11,
    "start_time": "2021-07-30T16:50:28.980Z"
   },
   {
    "duration": 34,
    "start_time": "2021-07-30T16:51:08.046Z"
   },
   {
    "duration": 26,
    "start_time": "2021-07-30T16:51:39.838Z"
   },
   {
    "duration": 9,
    "start_time": "2021-07-30T16:51:55.329Z"
   },
   {
    "duration": 25,
    "start_time": "2021-07-30T16:51:59.584Z"
   },
   {
    "duration": 11,
    "start_time": "2021-07-30T16:52:25.983Z"
   },
   {
    "duration": 10,
    "start_time": "2021-07-30T16:52:50.134Z"
   },
   {
    "duration": 11,
    "start_time": "2021-07-30T16:53:35.466Z"
   },
   {
    "duration": 17,
    "start_time": "2021-07-30T16:54:11.916Z"
   },
   {
    "duration": 9,
    "start_time": "2021-07-30T16:57:14.519Z"
   },
   {
    "duration": 8,
    "start_time": "2021-07-30T16:57:16.167Z"
   },
   {
    "duration": 8,
    "start_time": "2021-07-30T16:57:29.752Z"
   },
   {
    "duration": 252,
    "start_time": "2021-07-30T16:57:53.587Z"
   },
   {
    "duration": 7,
    "start_time": "2021-07-30T16:57:58.665Z"
   },
   {
    "duration": 9,
    "start_time": "2021-07-30T16:58:01.034Z"
   },
   {
    "duration": 13,
    "start_time": "2021-07-30T16:58:43.868Z"
   },
   {
    "duration": 12,
    "start_time": "2021-07-30T16:58:45.185Z"
   },
   {
    "duration": 9,
    "start_time": "2021-07-30T16:58:46.492Z"
   },
   {
    "duration": 12,
    "start_time": "2021-07-30T16:58:58.568Z"
   },
   {
    "duration": 12,
    "start_time": "2021-07-30T16:58:59.950Z"
   },
   {
    "duration": 9,
    "start_time": "2021-07-30T16:59:00.485Z"
   },
   {
    "duration": 10,
    "start_time": "2021-07-30T16:59:30.814Z"
   },
   {
    "duration": 15,
    "start_time": "2021-07-30T16:59:31.640Z"
   },
   {
    "duration": 16,
    "start_time": "2021-07-30T16:59:32.281Z"
   },
   {
    "duration": 8,
    "start_time": "2021-07-30T16:59:47.120Z"
   },
   {
    "duration": 15,
    "start_time": "2021-07-30T17:00:56.352Z"
   },
   {
    "duration": 9,
    "start_time": "2021-07-30T17:00:59.201Z"
   },
   {
    "duration": 16,
    "start_time": "2021-07-30T17:01:48.362Z"
   },
   {
    "duration": 6,
    "start_time": "2021-07-30T17:02:36.554Z"
   },
   {
    "duration": 11,
    "start_time": "2021-07-30T17:03:27.048Z"
   },
   {
    "duration": 33,
    "start_time": "2021-07-30T17:03:43.336Z"
   },
   {
    "duration": 39,
    "start_time": "2021-07-30T17:04:39.437Z"
   },
   {
    "duration": 37,
    "start_time": "2021-07-30T17:04:47.250Z"
   },
   {
    "duration": 48,
    "start_time": "2021-07-30T17:05:23.213Z"
   },
   {
    "duration": 11,
    "start_time": "2021-07-30T17:06:41.173Z"
   },
   {
    "duration": 44,
    "start_time": "2021-07-30T17:07:04.928Z"
   },
   {
    "duration": 10,
    "start_time": "2021-07-30T17:07:11.656Z"
   },
   {
    "duration": 16,
    "start_time": "2021-07-30T17:07:12.454Z"
   },
   {
    "duration": 16,
    "start_time": "2021-07-30T17:07:15.084Z"
   },
   {
    "duration": 9,
    "start_time": "2021-07-30T17:07:17.371Z"
   },
   {
    "duration": 16,
    "start_time": "2021-07-30T17:24:41.532Z"
   },
   {
    "duration": 5,
    "start_time": "2021-07-30T17:28:07.047Z"
   },
   {
    "duration": 540,
    "start_time": "2021-07-30T17:28:12.050Z"
   },
   {
    "duration": 7,
    "start_time": "2021-07-30T17:28:28.678Z"
   },
   {
    "duration": 836,
    "start_time": "2021-07-30T17:28:30.282Z"
   },
   {
    "duration": 1549,
    "start_time": "2021-07-30T17:28:41.582Z"
   },
   {
    "duration": 68,
    "start_time": "2021-07-30T17:28:57.193Z"
   },
   {
    "duration": 13,
    "start_time": "2021-07-30T17:28:57.264Z"
   },
   {
    "duration": 22,
    "start_time": "2021-07-30T17:28:57.280Z"
   },
   {
    "duration": 22,
    "start_time": "2021-07-30T17:28:57.305Z"
   },
   {
    "duration": 35,
    "start_time": "2021-07-30T17:28:57.330Z"
   },
   {
    "duration": 11,
    "start_time": "2021-07-30T17:28:57.368Z"
   },
   {
    "duration": 36,
    "start_time": "2021-07-30T17:28:57.382Z"
   },
   {
    "duration": 48,
    "start_time": "2021-07-30T17:28:57.454Z"
   },
   {
    "duration": 13,
    "start_time": "2021-07-30T17:28:57.504Z"
   },
   {
    "duration": 39,
    "start_time": "2021-07-30T17:28:57.519Z"
   },
   {
    "duration": 17,
    "start_time": "2021-07-30T17:28:57.560Z"
   },
   {
    "duration": 35,
    "start_time": "2021-07-30T17:28:57.580Z"
   },
   {
    "duration": 15,
    "start_time": "2021-07-30T17:28:57.617Z"
   },
   {
    "duration": 23,
    "start_time": "2021-07-30T17:28:57.634Z"
   },
   {
    "duration": 21,
    "start_time": "2021-07-30T17:28:57.659Z"
   },
   {
    "duration": 5,
    "start_time": "2021-07-30T17:28:59.547Z"
   },
   {
    "duration": 1642,
    "start_time": "2021-07-30T17:29:00.751Z"
   },
   {
    "duration": 771,
    "start_time": "2021-07-30T17:29:10.497Z"
   },
   {
    "duration": 8,
    "start_time": "2021-07-30T17:29:13.869Z"
   },
   {
    "duration": 783,
    "start_time": "2021-07-30T17:29:16.178Z"
   },
   {
    "duration": 65,
    "start_time": "2021-07-30T17:29:24.375Z"
   },
   {
    "duration": 15,
    "start_time": "2021-07-30T17:29:24.442Z"
   },
   {
    "duration": 26,
    "start_time": "2021-07-30T17:29:24.461Z"
   },
   {
    "duration": 12,
    "start_time": "2021-07-30T17:29:24.490Z"
   },
   {
    "duration": 16,
    "start_time": "2021-07-30T17:29:24.505Z"
   },
   {
    "duration": 44,
    "start_time": "2021-07-30T17:29:24.523Z"
   },
   {
    "duration": 43,
    "start_time": "2021-07-30T17:29:24.570Z"
   },
   {
    "duration": 70,
    "start_time": "2021-07-30T17:29:24.617Z"
   },
   {
    "duration": 12,
    "start_time": "2021-07-30T17:29:24.690Z"
   },
   {
    "duration": 24,
    "start_time": "2021-07-30T17:29:24.704Z"
   },
   {
    "duration": 26,
    "start_time": "2021-07-30T17:29:24.730Z"
   },
   {
    "duration": 17,
    "start_time": "2021-07-30T17:29:24.758Z"
   },
   {
    "duration": 17,
    "start_time": "2021-07-30T17:29:24.778Z"
   },
   {
    "duration": 24,
    "start_time": "2021-07-30T17:29:24.797Z"
   },
   {
    "duration": 36,
    "start_time": "2021-07-30T17:29:24.823Z"
   },
   {
    "duration": 4,
    "start_time": "2021-07-30T17:29:26.258Z"
   },
   {
    "duration": 820,
    "start_time": "2021-07-30T17:29:27.272Z"
   },
   {
    "duration": 4,
    "start_time": "2021-07-30T17:30:36.998Z"
   },
   {
    "duration": 71,
    "start_time": "2021-07-30T17:30:39.371Z"
   },
   {
    "duration": 17,
    "start_time": "2021-07-30T17:30:39.445Z"
   },
   {
    "duration": 42,
    "start_time": "2021-07-30T17:30:39.466Z"
   },
   {
    "duration": 26,
    "start_time": "2021-07-30T17:30:39.511Z"
   },
   {
    "duration": 36,
    "start_time": "2021-07-30T17:30:39.540Z"
   },
   {
    "duration": 24,
    "start_time": "2021-07-30T17:30:39.579Z"
   },
   {
    "duration": 43,
    "start_time": "2021-07-30T17:30:39.606Z"
   },
   {
    "duration": 48,
    "start_time": "2021-07-30T17:30:39.655Z"
   },
   {
    "duration": 14,
    "start_time": "2021-07-30T17:30:39.707Z"
   },
   {
    "duration": 39,
    "start_time": "2021-07-30T17:30:39.724Z"
   },
   {
    "duration": 33,
    "start_time": "2021-07-30T17:30:39.765Z"
   },
   {
    "duration": 34,
    "start_time": "2021-07-30T17:30:39.802Z"
   },
   {
    "duration": 21,
    "start_time": "2021-07-30T17:30:39.839Z"
   },
   {
    "duration": 21,
    "start_time": "2021-07-30T17:30:39.863Z"
   },
   {
    "duration": 26,
    "start_time": "2021-07-30T17:30:39.887Z"
   },
   {
    "duration": 12,
    "start_time": "2021-07-30T17:30:39.917Z"
   },
   {
    "duration": 824,
    "start_time": "2021-07-30T17:30:41.772Z"
   },
   {
    "duration": 15,
    "start_time": "2021-07-30T17:30:53.843Z"
   },
   {
    "duration": 71,
    "start_time": "2021-07-30T17:31:18.777Z"
   },
   {
    "duration": 16,
    "start_time": "2021-07-30T17:31:18.851Z"
   },
   {
    "duration": 21,
    "start_time": "2021-07-30T17:31:18.871Z"
   },
   {
    "duration": 15,
    "start_time": "2021-07-30T17:31:18.895Z"
   },
   {
    "duration": 20,
    "start_time": "2021-07-30T17:31:18.913Z"
   },
   {
    "duration": 8,
    "start_time": "2021-07-30T17:31:18.955Z"
   },
   {
    "duration": 47,
    "start_time": "2021-07-30T17:31:18.965Z"
   },
   {
    "duration": 69,
    "start_time": "2021-07-30T17:31:19.016Z"
   },
   {
    "duration": 12,
    "start_time": "2021-07-30T17:31:19.088Z"
   },
   {
    "duration": 8,
    "start_time": "2021-07-30T17:31:19.103Z"
   },
   {
    "duration": 42,
    "start_time": "2021-07-30T17:31:19.114Z"
   },
   {
    "duration": 16,
    "start_time": "2021-07-30T17:31:19.159Z"
   },
   {
    "duration": 16,
    "start_time": "2021-07-30T17:31:19.177Z"
   },
   {
    "duration": 9,
    "start_time": "2021-07-30T17:31:19.196Z"
   },
   {
    "duration": 56,
    "start_time": "2021-07-30T17:31:19.207Z"
   },
   {
    "duration": 4,
    "start_time": "2021-07-30T17:31:19.266Z"
   },
   {
    "duration": 814,
    "start_time": "2021-07-30T17:31:21.158Z"
   },
   {
    "duration": 16,
    "start_time": "2021-07-30T17:31:28.380Z"
   },
   {
    "duration": 44,
    "start_time": "2021-07-30T17:31:45.650Z"
   },
   {
    "duration": 36,
    "start_time": "2021-07-30T17:32:05.745Z"
   },
   {
    "duration": 10,
    "start_time": "2021-07-30T17:32:43.322Z"
   },
   {
    "duration": 4,
    "start_time": "2021-07-30T17:33:25.946Z"
   },
   {
    "duration": 5894,
    "start_time": "2021-07-30T17:33:27.378Z"
   },
   {
    "duration": 4,
    "start_time": "2021-07-30T17:33:44.236Z"
   },
   {
    "duration": 62,
    "start_time": "2021-07-30T17:33:45.951Z"
   },
   {
    "duration": 13,
    "start_time": "2021-07-30T17:33:46.016Z"
   },
   {
    "duration": 39,
    "start_time": "2021-07-30T17:33:46.032Z"
   },
   {
    "duration": 8,
    "start_time": "2021-07-30T17:33:46.074Z"
   },
   {
    "duration": 42,
    "start_time": "2021-07-30T17:33:46.085Z"
   },
   {
    "duration": 19,
    "start_time": "2021-07-30T17:33:46.129Z"
   },
   {
    "duration": 49,
    "start_time": "2021-07-30T17:33:46.150Z"
   },
   {
    "duration": 52,
    "start_time": "2021-07-30T17:33:46.202Z"
   },
   {
    "duration": 13,
    "start_time": "2021-07-30T17:33:46.257Z"
   },
   {
    "duration": 15,
    "start_time": "2021-07-30T17:33:46.273Z"
   },
   {
    "duration": 17,
    "start_time": "2021-07-30T17:33:46.291Z"
   },
   {
    "duration": 22,
    "start_time": "2021-07-30T17:33:46.311Z"
   },
   {
    "duration": 32,
    "start_time": "2021-07-30T17:33:46.335Z"
   },
   {
    "duration": 14,
    "start_time": "2021-07-30T17:33:46.369Z"
   },
   {
    "duration": 31,
    "start_time": "2021-07-30T17:33:46.386Z"
   },
   {
    "duration": 36,
    "start_time": "2021-07-30T17:33:46.420Z"
   },
   {
    "duration": 14,
    "start_time": "2021-07-30T17:33:46.459Z"
   },
   {
    "duration": 5729,
    "start_time": "2021-07-30T17:33:48.962Z"
   },
   {
    "duration": 4,
    "start_time": "2021-07-30T17:34:10.761Z"
   },
   {
    "duration": 810,
    "start_time": "2021-07-30T17:34:10.768Z"
   },
   {
    "duration": 14,
    "start_time": "2021-07-30T17:34:24.355Z"
   },
   {
    "duration": 36,
    "start_time": "2021-07-30T17:34:46.069Z"
   },
   {
    "duration": 11,
    "start_time": "2021-07-30T17:35:01.845Z"
   },
   {
    "duration": 10,
    "start_time": "2021-07-30T17:35:07.939Z"
   },
   {
    "duration": 36,
    "start_time": "2021-07-30T17:35:14.637Z"
   },
   {
    "duration": 35,
    "start_time": "2021-07-30T17:35:27.256Z"
   },
   {
    "duration": 15,
    "start_time": "2021-07-30T17:35:51.036Z"
   },
   {
    "duration": 15,
    "start_time": "2021-07-30T17:36:02.199Z"
   },
   {
    "duration": 15,
    "start_time": "2021-07-30T17:36:06.268Z"
   },
   {
    "duration": 9,
    "start_time": "2021-07-30T17:36:08.621Z"
   },
   {
    "duration": 10,
    "start_time": "2021-07-30T17:36:19.043Z"
   },
   {
    "duration": 13,
    "start_time": "2021-07-30T17:36:24.407Z"
   },
   {
    "duration": 16,
    "start_time": "2021-07-30T17:36:42.999Z"
   },
   {
    "duration": 16,
    "start_time": "2021-07-30T17:36:49.899Z"
   },
   {
    "duration": 64,
    "start_time": "2021-07-30T17:37:42.661Z"
   },
   {
    "duration": 14,
    "start_time": "2021-07-30T17:37:42.728Z"
   },
   {
    "duration": 23,
    "start_time": "2021-07-30T17:37:42.754Z"
   },
   {
    "duration": 12,
    "start_time": "2021-07-30T17:37:42.780Z"
   },
   {
    "duration": 16,
    "start_time": "2021-07-30T17:37:42.795Z"
   },
   {
    "duration": 47,
    "start_time": "2021-07-30T17:37:42.814Z"
   },
   {
    "duration": 37,
    "start_time": "2021-07-30T17:37:42.864Z"
   },
   {
    "duration": 88,
    "start_time": "2021-07-30T17:37:42.907Z"
   },
   {
    "duration": 13,
    "start_time": "2021-07-30T17:37:42.998Z"
   },
   {
    "duration": 9,
    "start_time": "2021-07-30T17:37:43.013Z"
   },
   {
    "duration": 37,
    "start_time": "2021-07-30T17:37:43.025Z"
   },
   {
    "duration": 13,
    "start_time": "2021-07-30T17:37:43.064Z"
   },
   {
    "duration": 18,
    "start_time": "2021-07-30T17:37:43.079Z"
   },
   {
    "duration": 14,
    "start_time": "2021-07-30T17:37:43.099Z"
   },
   {
    "duration": 40,
    "start_time": "2021-07-30T17:37:43.116Z"
   },
   {
    "duration": 18,
    "start_time": "2021-07-30T17:37:43.158Z"
   },
   {
    "duration": 4,
    "start_time": "2021-07-30T17:38:13.359Z"
   },
   {
    "duration": 833,
    "start_time": "2021-07-30T17:38:14.701Z"
   },
   {
    "duration": 4,
    "start_time": "2021-07-30T17:38:21.245Z"
   },
   {
    "duration": 521,
    "start_time": "2021-07-30T17:38:22.591Z"
   },
   {
    "duration": 4,
    "start_time": "2021-07-30T17:38:27.489Z"
   },
   {
    "duration": 508,
    "start_time": "2021-07-30T17:38:28.650Z"
   },
   {
    "duration": 4,
    "start_time": "2021-07-30T17:39:14.173Z"
   },
   {
    "duration": 552,
    "start_time": "2021-07-30T17:39:15.249Z"
   },
   {
    "duration": 4,
    "start_time": "2021-07-30T17:39:54.719Z"
   },
   {
    "duration": 834,
    "start_time": "2021-07-30T17:39:55.575Z"
   },
   {
    "duration": 15,
    "start_time": "2021-07-30T17:40:07.233Z"
   },
   {
    "duration": 14,
    "start_time": "2021-07-30T17:40:12.260Z"
   },
   {
    "duration": 1654,
    "start_time": "2021-07-30T17:42:27.251Z"
   },
   {
    "duration": 16,
    "start_time": "2021-07-30T17:42:37.854Z"
   },
   {
    "duration": 15,
    "start_time": "2021-07-30T17:42:50.390Z"
   },
   {
    "duration": 14,
    "start_time": "2021-07-30T17:44:10.768Z"
   },
   {
    "duration": 11,
    "start_time": "2021-07-30T17:44:33.720Z"
   },
   {
    "duration": 9,
    "start_time": "2021-07-30T17:44:55.764Z"
   },
   {
    "duration": 65,
    "start_time": "2021-07-30T17:46:02.551Z"
   },
   {
    "duration": 14,
    "start_time": "2021-07-30T17:46:02.619Z"
   },
   {
    "duration": 23,
    "start_time": "2021-07-30T17:46:02.655Z"
   },
   {
    "duration": 11,
    "start_time": "2021-07-30T17:46:02.681Z"
   },
   {
    "duration": 15,
    "start_time": "2021-07-30T17:46:02.695Z"
   },
   {
    "duration": 49,
    "start_time": "2021-07-30T17:46:02.712Z"
   },
   {
    "duration": 36,
    "start_time": "2021-07-30T17:46:02.763Z"
   },
   {
    "duration": 81,
    "start_time": "2021-07-30T17:46:02.802Z"
   },
   {
    "duration": 12,
    "start_time": "2021-07-30T17:46:02.886Z"
   },
   {
    "duration": 25,
    "start_time": "2021-07-30T17:46:02.901Z"
   },
   {
    "duration": 27,
    "start_time": "2021-07-30T17:46:02.929Z"
   },
   {
    "duration": 28,
    "start_time": "2021-07-30T17:46:02.958Z"
   },
   {
    "duration": 13,
    "start_time": "2021-07-30T17:46:02.989Z"
   },
   {
    "duration": 15,
    "start_time": "2021-07-30T17:46:03.005Z"
   },
   {
    "duration": 41,
    "start_time": "2021-07-30T17:46:03.022Z"
   },
   {
    "duration": 5,
    "start_time": "2021-07-30T17:46:03.065Z"
   },
   {
    "duration": 897,
    "start_time": "2021-07-30T17:46:03.073Z"
   },
   {
    "duration": 9,
    "start_time": "2021-07-30T17:46:05.996Z"
   },
   {
    "duration": 38,
    "start_time": "2021-07-30T17:48:45.229Z"
   },
   {
    "duration": 11,
    "start_time": "2021-07-30T17:49:15.914Z"
   },
   {
    "duration": 13,
    "start_time": "2021-07-30T17:49:32.501Z"
   },
   {
    "duration": 11,
    "start_time": "2021-07-30T17:59:07.501Z"
   },
   {
    "duration": 8,
    "start_time": "2021-07-30T18:02:49.191Z"
   },
   {
    "duration": 39,
    "start_time": "2021-07-30T18:03:13.438Z"
   },
   {
    "duration": 16,
    "start_time": "2021-07-30T18:14:09.019Z"
   },
   {
    "duration": 64,
    "start_time": "2021-07-30T18:18:56.247Z"
   },
   {
    "duration": 15,
    "start_time": "2021-07-30T18:18:56.314Z"
   },
   {
    "duration": 22,
    "start_time": "2021-07-30T18:18:56.356Z"
   },
   {
    "duration": 28,
    "start_time": "2021-07-30T18:18:56.381Z"
   },
   {
    "duration": 16,
    "start_time": "2021-07-30T18:18:56.412Z"
   },
   {
    "duration": 27,
    "start_time": "2021-07-30T18:18:56.431Z"
   },
   {
    "duration": 53,
    "start_time": "2021-07-30T18:18:56.461Z"
   },
   {
    "duration": 49,
    "start_time": "2021-07-30T18:18:56.518Z"
   },
   {
    "duration": 12,
    "start_time": "2021-07-30T18:18:56.570Z"
   },
   {
    "duration": 22,
    "start_time": "2021-07-30T18:18:56.585Z"
   },
   {
    "duration": 22,
    "start_time": "2021-07-30T18:18:56.610Z"
   },
   {
    "duration": 30,
    "start_time": "2021-07-30T18:18:56.634Z"
   },
   {
    "duration": 22,
    "start_time": "2021-07-30T18:18:56.667Z"
   },
   {
    "duration": 12,
    "start_time": "2021-07-30T18:18:56.691Z"
   },
   {
    "duration": 28,
    "start_time": "2021-07-30T18:18:56.705Z"
   },
   {
    "duration": 19,
    "start_time": "2021-07-30T18:18:56.735Z"
   },
   {
    "duration": 852,
    "start_time": "2021-07-30T18:18:56.757Z"
   },
   {
    "duration": 9,
    "start_time": "2021-07-30T18:18:57.611Z"
   },
   {
    "duration": 35,
    "start_time": "2021-07-30T18:18:57.623Z"
   },
   {
    "duration": 34,
    "start_time": "2021-07-30T18:18:57.661Z"
   },
   {
    "duration": 4,
    "start_time": "2021-07-30T18:18:57.698Z"
   },
   {
    "duration": 580,
    "start_time": "2021-07-30T18:18:57.704Z"
   },
   {
    "duration": 11,
    "start_time": "2021-07-30T18:19:01.205Z"
   },
   {
    "duration": 261,
    "start_time": "2021-07-30T18:19:19.751Z"
   },
   {
    "duration": 10,
    "start_time": "2021-07-30T18:19:23.741Z"
   },
   {
    "duration": 318,
    "start_time": "2021-07-30T18:19:34.615Z"
   },
   {
    "duration": 9,
    "start_time": "2021-07-30T18:19:39.993Z"
   },
   {
    "duration": 9,
    "start_time": "2021-07-30T18:19:50.835Z"
   },
   {
    "duration": 7,
    "start_time": "2021-07-30T18:20:40.499Z"
   },
   {
    "duration": 91,
    "start_time": "2021-07-30T18:26:25.382Z"
   },
   {
    "duration": 23,
    "start_time": "2021-07-30T18:26:25.477Z"
   },
   {
    "duration": 54,
    "start_time": "2021-07-30T18:26:25.504Z"
   },
   {
    "duration": 13,
    "start_time": "2021-07-30T18:26:25.562Z"
   },
   {
    "duration": 19,
    "start_time": "2021-07-30T18:26:25.579Z"
   },
   {
    "duration": 12,
    "start_time": "2021-07-30T18:26:25.601Z"
   },
   {
    "duration": 38,
    "start_time": "2021-07-30T18:26:25.655Z"
   },
   {
    "duration": 78,
    "start_time": "2021-07-30T18:26:25.699Z"
   },
   {
    "duration": 14,
    "start_time": "2021-07-30T18:26:25.781Z"
   },
   {
    "duration": 22,
    "start_time": "2021-07-30T18:26:25.798Z"
   },
   {
    "duration": 36,
    "start_time": "2021-07-30T18:26:25.823Z"
   },
   {
    "duration": 29,
    "start_time": "2021-07-30T18:26:25.862Z"
   },
   {
    "duration": 22,
    "start_time": "2021-07-30T18:26:25.894Z"
   },
   {
    "duration": 43,
    "start_time": "2021-07-30T18:26:25.919Z"
   },
   {
    "duration": 28,
    "start_time": "2021-07-30T18:26:25.966Z"
   },
   {
    "duration": 6,
    "start_time": "2021-07-30T18:26:25.997Z"
   },
   {
    "duration": 1764,
    "start_time": "2021-07-30T18:26:26.006Z"
   },
   {
    "duration": 12,
    "start_time": "2021-07-30T18:26:27.773Z"
   },
   {
    "duration": 26,
    "start_time": "2021-07-30T18:26:27.788Z"
   },
   {
    "duration": 31,
    "start_time": "2021-07-30T18:26:27.816Z"
   },
   {
    "duration": 6,
    "start_time": "2021-07-30T18:26:27.849Z"
   },
   {
    "duration": 598,
    "start_time": "2021-07-30T18:26:27.857Z"
   },
   {
    "duration": 10,
    "start_time": "2021-07-30T18:26:31.186Z"
   },
   {
    "duration": 7,
    "start_time": "2021-07-30T18:26:50.368Z"
   },
   {
    "duration": 66,
    "start_time": "2021-07-30T18:29:01.620Z"
   },
   {
    "duration": 15,
    "start_time": "2021-07-30T18:29:01.688Z"
   },
   {
    "duration": 37,
    "start_time": "2021-07-30T18:29:01.706Z"
   },
   {
    "duration": 15,
    "start_time": "2021-07-30T18:29:01.754Z"
   },
   {
    "duration": 24,
    "start_time": "2021-07-30T18:29:01.771Z"
   },
   {
    "duration": 17,
    "start_time": "2021-07-30T18:29:01.797Z"
   },
   {
    "duration": 49,
    "start_time": "2021-07-30T18:29:01.816Z"
   },
   {
    "duration": 48,
    "start_time": "2021-07-30T18:29:01.869Z"
   },
   {
    "duration": 37,
    "start_time": "2021-07-30T18:29:01.920Z"
   },
   {
    "duration": 11,
    "start_time": "2021-07-30T18:29:04.350Z"
   },
   {
    "duration": 13,
    "start_time": "2021-07-30T18:30:25.171Z"
   },
   {
    "duration": 19,
    "start_time": "2021-07-30T18:30:34.896Z"
   },
   {
    "duration": 21,
    "start_time": "2021-07-30T18:30:48.854Z"
   },
   {
    "duration": 11,
    "start_time": "2021-07-30T18:30:53.600Z"
   },
   {
    "duration": 17,
    "start_time": "2021-07-30T18:30:54.478Z"
   },
   {
    "duration": 274,
    "start_time": "2021-07-30T18:31:17.480Z"
   },
   {
    "duration": 268,
    "start_time": "2021-07-30T18:31:36.060Z"
   },
   {
    "duration": 435,
    "start_time": "2021-07-30T18:31:57.352Z"
   },
   {
    "duration": 13,
    "start_time": "2021-07-30T18:32:13.601Z"
   },
   {
    "duration": 35,
    "start_time": "2021-07-30T18:32:22.059Z"
   },
   {
    "duration": 21,
    "start_time": "2021-07-30T18:32:35.079Z"
   },
   {
    "duration": 21,
    "start_time": "2021-07-30T18:32:49.722Z"
   },
   {
    "duration": 24,
    "start_time": "2021-07-30T18:33:03.069Z"
   },
   {
    "duration": 35,
    "start_time": "2021-07-30T18:33:21.107Z"
   },
   {
    "duration": 36,
    "start_time": "2021-07-30T18:33:39.739Z"
   },
   {
    "duration": 34,
    "start_time": "2021-07-30T18:33:46.448Z"
   },
   {
    "duration": 42,
    "start_time": "2021-07-30T18:33:55.003Z"
   },
   {
    "duration": 48,
    "start_time": "2021-07-30T18:34:43.493Z"
   },
   {
    "duration": 43,
    "start_time": "2021-07-30T18:34:53.408Z"
   },
   {
    "duration": 17,
    "start_time": "2021-07-30T18:36:01.127Z"
   },
   {
    "duration": 259,
    "start_time": "2021-07-30T18:36:24.769Z"
   },
   {
    "duration": 18,
    "start_time": "2021-07-30T18:36:38.977Z"
   },
   {
    "duration": 35,
    "start_time": "2021-07-30T18:36:48.409Z"
   },
   {
    "duration": 36,
    "start_time": "2021-07-30T18:36:57.100Z"
   },
   {
    "duration": 36,
    "start_time": "2021-07-30T18:37:30.496Z"
   },
   {
    "duration": 7,
    "start_time": "2021-07-30T18:39:13.441Z"
   },
   {
    "duration": 6,
    "start_time": "2021-07-30T18:39:18.734Z"
   },
   {
    "duration": 7,
    "start_time": "2021-07-30T18:40:44.685Z"
   },
   {
    "duration": 63,
    "start_time": "2021-07-30T18:40:47.862Z"
   },
   {
    "duration": 13,
    "start_time": "2021-07-30T18:40:47.928Z"
   },
   {
    "duration": 31,
    "start_time": "2021-07-30T18:40:47.944Z"
   },
   {
    "duration": 14,
    "start_time": "2021-07-30T18:40:47.978Z"
   },
   {
    "duration": 17,
    "start_time": "2021-07-30T18:40:47.994Z"
   },
   {
    "duration": 15,
    "start_time": "2021-07-30T18:40:48.013Z"
   },
   {
    "duration": 52,
    "start_time": "2021-07-30T18:40:48.031Z"
   },
   {
    "duration": 45,
    "start_time": "2021-07-30T18:40:48.086Z"
   },
   {
    "duration": 29,
    "start_time": "2021-07-30T18:40:48.133Z"
   },
   {
    "duration": 7,
    "start_time": "2021-07-30T18:40:49.694Z"
   },
   {
    "duration": 13,
    "start_time": "2021-07-30T18:41:37.423Z"
   },
   {
    "duration": 14,
    "start_time": "2021-07-30T18:43:19.171Z"
   },
   {
    "duration": 15,
    "start_time": "2021-07-30T18:43:34.271Z"
   },
   {
    "duration": 15,
    "start_time": "2021-07-30T18:43:38.056Z"
   },
   {
    "duration": 15,
    "start_time": "2021-07-30T18:43:47.577Z"
   },
   {
    "duration": 13,
    "start_time": "2021-07-30T18:48:29.086Z"
   },
   {
    "duration": 10,
    "start_time": "2021-07-30T18:48:59.198Z"
   },
   {
    "duration": 11,
    "start_time": "2021-07-30T18:49:27.896Z"
   },
   {
    "duration": 9,
    "start_time": "2021-07-30T18:49:54.135Z"
   },
   {
    "duration": 33,
    "start_time": "2021-07-30T18:50:25.459Z"
   },
   {
    "duration": 37,
    "start_time": "2021-07-30T18:50:43.846Z"
   },
   {
    "duration": 35,
    "start_time": "2021-07-30T18:50:58.671Z"
   },
   {
    "duration": 20,
    "start_time": "2021-07-30T18:51:06.306Z"
   },
   {
    "duration": 6,
    "start_time": "2021-07-30T18:54:33.341Z"
   },
   {
    "duration": 6,
    "start_time": "2021-07-30T18:54:53.463Z"
   },
   {
    "duration": 6506,
    "start_time": "2021-07-30T19:00:09.422Z"
   },
   {
    "duration": 6508,
    "start_time": "2021-07-30T19:00:28.045Z"
   },
   {
    "duration": 6419,
    "start_time": "2021-07-30T19:00:35.155Z"
   },
   {
    "duration": 9,
    "start_time": "2021-07-30T19:01:01.136Z"
   },
   {
    "duration": 15,
    "start_time": "2021-07-30T19:01:24.322Z"
   },
   {
    "duration": 5,
    "start_time": "2021-07-30T19:01:43.058Z"
   },
   {
    "duration": 10,
    "start_time": "2021-07-30T19:02:06.240Z"
   },
   {
    "duration": 8,
    "start_time": "2021-07-30T19:02:39.708Z"
   },
   {
    "duration": 67,
    "start_time": "2021-07-30T19:02:42.759Z"
   },
   {
    "duration": 26,
    "start_time": "2021-07-30T19:02:42.828Z"
   },
   {
    "duration": 21,
    "start_time": "2021-07-30T19:02:42.858Z"
   },
   {
    "duration": 11,
    "start_time": "2021-07-30T19:02:42.882Z"
   },
   {
    "duration": 12,
    "start_time": "2021-07-30T19:02:42.896Z"
   },
   {
    "duration": 7,
    "start_time": "2021-07-30T19:02:42.910Z"
   },
   {
    "duration": 34,
    "start_time": "2021-07-30T19:02:42.955Z"
   },
   {
    "duration": 74,
    "start_time": "2021-07-30T19:02:42.994Z"
   },
   {
    "duration": 14,
    "start_time": "2021-07-30T19:02:43.070Z"
   },
   {
    "duration": 18,
    "start_time": "2021-07-30T19:02:43.087Z"
   },
   {
    "duration": 49,
    "start_time": "2021-07-30T19:02:43.108Z"
   },
   {
    "duration": 10,
    "start_time": "2021-07-30T19:02:43.160Z"
   },
   {
    "duration": 25,
    "start_time": "2021-07-30T19:02:43.172Z"
   },
   {
    "duration": 6,
    "start_time": "2021-07-30T19:02:43.200Z"
   },
   {
    "duration": 13,
    "start_time": "2021-07-30T19:02:43.256Z"
   },
   {
    "duration": 11,
    "start_time": "2021-07-30T19:02:48.988Z"
   },
   {
    "duration": 5,
    "start_time": "2021-07-30T19:03:05.926Z"
   },
   {
    "duration": 6,
    "start_time": "2021-07-30T19:03:10.864Z"
   },
   {
    "duration": 4464,
    "start_time": "2021-07-30T19:03:13.586Z"
   },
   {
    "duration": 67,
    "start_time": "2021-07-30T19:03:24.550Z"
   },
   {
    "duration": 14,
    "start_time": "2021-07-30T19:03:24.619Z"
   },
   {
    "duration": 21,
    "start_time": "2021-07-30T19:03:24.654Z"
   },
   {
    "duration": 17,
    "start_time": "2021-07-30T19:03:24.677Z"
   },
   {
    "duration": 26,
    "start_time": "2021-07-30T19:03:24.696Z"
   },
   {
    "duration": 15,
    "start_time": "2021-07-30T19:03:24.724Z"
   },
   {
    "duration": 48,
    "start_time": "2021-07-30T19:03:24.742Z"
   },
   {
    "duration": 68,
    "start_time": "2021-07-30T19:03:24.794Z"
   },
   {
    "duration": 12,
    "start_time": "2021-07-30T19:03:24.865Z"
   },
   {
    "duration": 27,
    "start_time": "2021-07-30T19:03:24.879Z"
   },
   {
    "duration": 15,
    "start_time": "2021-07-30T19:03:24.908Z"
   },
   {
    "duration": 30,
    "start_time": "2021-07-30T19:03:24.925Z"
   },
   {
    "duration": 21,
    "start_time": "2021-07-30T19:03:24.958Z"
   },
   {
    "duration": 5,
    "start_time": "2021-07-30T19:03:24.981Z"
   },
   {
    "duration": 8,
    "start_time": "2021-07-30T19:03:32.210Z"
   },
   {
    "duration": 5,
    "start_time": "2021-07-30T19:03:35.302Z"
   },
   {
    "duration": 15,
    "start_time": "2021-07-30T19:03:39.909Z"
   },
   {
    "duration": 67,
    "start_time": "2021-07-30T19:03:47.560Z"
   },
   {
    "duration": 28,
    "start_time": "2021-07-30T19:03:47.630Z"
   },
   {
    "duration": 21,
    "start_time": "2021-07-30T19:03:47.662Z"
   },
   {
    "duration": 17,
    "start_time": "2021-07-30T19:03:47.687Z"
   },
   {
    "duration": 49,
    "start_time": "2021-07-30T19:03:47.707Z"
   },
   {
    "duration": 9,
    "start_time": "2021-07-30T19:03:47.759Z"
   },
   {
    "duration": 37,
    "start_time": "2021-07-30T19:03:47.771Z"
   },
   {
    "duration": 82,
    "start_time": "2021-07-30T19:03:47.814Z"
   },
   {
    "duration": 15,
    "start_time": "2021-07-30T19:03:47.899Z"
   },
   {
    "duration": 40,
    "start_time": "2021-07-30T19:03:47.916Z"
   },
   {
    "duration": 11,
    "start_time": "2021-07-30T19:03:47.959Z"
   },
   {
    "duration": 23,
    "start_time": "2021-07-30T19:03:47.972Z"
   },
   {
    "duration": 28,
    "start_time": "2021-07-30T19:03:47.998Z"
   },
   {
    "duration": 27,
    "start_time": "2021-07-30T19:03:48.029Z"
   },
   {
    "duration": 8,
    "start_time": "2021-07-30T19:04:43.924Z"
   },
   {
    "duration": 6,
    "start_time": "2021-07-30T19:04:45.736Z"
   },
   {
    "duration": 64,
    "start_time": "2021-07-30T19:06:25.391Z"
   },
   {
    "duration": 14,
    "start_time": "2021-07-30T19:06:25.458Z"
   },
   {
    "duration": 21,
    "start_time": "2021-07-30T19:06:25.475Z"
   },
   {
    "duration": 10,
    "start_time": "2021-07-30T19:06:25.499Z"
   },
   {
    "duration": 48,
    "start_time": "2021-07-30T19:06:25.512Z"
   },
   {
    "duration": 8,
    "start_time": "2021-07-30T19:06:25.563Z"
   },
   {
    "duration": 38,
    "start_time": "2021-07-30T19:06:25.573Z"
   },
   {
    "duration": 81,
    "start_time": "2021-07-30T19:06:25.614Z"
   },
   {
    "duration": 12,
    "start_time": "2021-07-30T19:06:25.697Z"
   },
   {
    "duration": 14,
    "start_time": "2021-07-30T19:06:25.712Z"
   },
   {
    "duration": 13,
    "start_time": "2021-07-30T19:06:25.754Z"
   },
   {
    "duration": 14,
    "start_time": "2021-07-30T19:06:25.769Z"
   },
   {
    "duration": 24,
    "start_time": "2021-07-30T19:06:25.785Z"
   },
   {
    "duration": 4,
    "start_time": "2021-07-30T19:06:25.811Z"
   },
   {
    "duration": 10,
    "start_time": "2021-07-30T19:06:29.618Z"
   },
   {
    "duration": 6,
    "start_time": "2021-07-30T19:06:31.686Z"
   },
   {
    "duration": 19,
    "start_time": "2021-07-30T19:06:34.678Z"
   },
   {
    "duration": 25,
    "start_time": "2021-07-30T19:06:44.372Z"
   },
   {
    "duration": 24,
    "start_time": "2021-07-30T19:06:55.333Z"
   },
   {
    "duration": 26,
    "start_time": "2021-07-30T19:07:12.724Z"
   },
   {
    "duration": 8,
    "start_time": "2021-07-30T19:07:34.854Z"
   },
   {
    "duration": 66,
    "start_time": "2021-07-30T19:08:00.728Z"
   },
   {
    "duration": 14,
    "start_time": "2021-07-30T19:08:00.796Z"
   },
   {
    "duration": 49,
    "start_time": "2021-07-30T19:08:00.813Z"
   },
   {
    "duration": 37,
    "start_time": "2021-07-30T19:08:00.866Z"
   },
   {
    "duration": 35,
    "start_time": "2021-07-30T19:08:00.905Z"
   },
   {
    "duration": 17,
    "start_time": "2021-07-30T19:08:00.943Z"
   },
   {
    "duration": 46,
    "start_time": "2021-07-30T19:08:00.962Z"
   },
   {
    "duration": 72,
    "start_time": "2021-07-30T19:08:01.012Z"
   },
   {
    "duration": 12,
    "start_time": "2021-07-30T19:08:01.087Z"
   },
   {
    "duration": 22,
    "start_time": "2021-07-30T19:08:01.102Z"
   },
   {
    "duration": 35,
    "start_time": "2021-07-30T19:08:01.126Z"
   },
   {
    "duration": 9,
    "start_time": "2021-07-30T19:08:01.164Z"
   },
   {
    "duration": 38,
    "start_time": "2021-07-30T19:08:01.175Z"
   },
   {
    "duration": 5,
    "start_time": "2021-07-30T19:08:01.215Z"
   },
   {
    "duration": 287,
    "start_time": "2021-07-30T19:08:03.676Z"
   },
   {
    "duration": 11,
    "start_time": "2021-07-30T19:08:22.621Z"
   },
   {
    "duration": 11,
    "start_time": "2021-07-30T19:08:47.186Z"
   },
   {
    "duration": 25,
    "start_time": "2021-07-30T19:08:51.551Z"
   },
   {
    "duration": 20,
    "start_time": "2021-07-30T19:08:59.201Z"
   },
   {
    "duration": 26,
    "start_time": "2021-07-30T19:09:06.318Z"
   },
   {
    "duration": 24,
    "start_time": "2021-07-30T19:09:15.931Z"
   },
   {
    "duration": 21,
    "start_time": "2021-07-30T19:09:24.143Z"
   },
   {
    "duration": 24,
    "start_time": "2021-07-30T19:10:02.636Z"
   },
   {
    "duration": 20,
    "start_time": "2021-07-30T19:10:20.777Z"
   },
   {
    "duration": 69,
    "start_time": "2021-07-30T19:12:27.882Z"
   },
   {
    "duration": 15,
    "start_time": "2021-07-30T19:12:27.954Z"
   },
   {
    "duration": 35,
    "start_time": "2021-07-30T19:12:27.972Z"
   },
   {
    "duration": 21,
    "start_time": "2021-07-30T19:12:28.010Z"
   },
   {
    "duration": 33,
    "start_time": "2021-07-30T19:12:28.034Z"
   },
   {
    "duration": 25,
    "start_time": "2021-07-30T19:12:28.069Z"
   },
   {
    "duration": 49,
    "start_time": "2021-07-30T19:12:28.096Z"
   },
   {
    "duration": 47,
    "start_time": "2021-07-30T19:12:28.148Z"
   },
   {
    "duration": 11,
    "start_time": "2021-07-30T19:12:28.198Z"
   },
   {
    "duration": 25,
    "start_time": "2021-07-30T19:12:28.212Z"
   },
   {
    "duration": 12,
    "start_time": "2021-07-30T19:12:28.254Z"
   },
   {
    "duration": 23,
    "start_time": "2021-07-30T19:12:28.268Z"
   },
   {
    "duration": 39,
    "start_time": "2021-07-30T19:12:28.294Z"
   },
   {
    "duration": 11,
    "start_time": "2021-07-30T19:12:28.335Z"
   },
   {
    "duration": 281,
    "start_time": "2021-07-30T19:12:30.868Z"
   },
   {
    "duration": 276,
    "start_time": "2021-07-30T19:13:43.881Z"
   },
   {
    "duration": 14,
    "start_time": "2021-07-30T19:14:14.411Z"
   },
   {
    "duration": 19,
    "start_time": "2021-07-30T19:14:18.402Z"
   },
   {
    "duration": 7,
    "start_time": "2021-07-30T19:14:20.877Z"
   },
   {
    "duration": 15,
    "start_time": "2021-07-30T19:14:27.868Z"
   },
   {
    "duration": 15,
    "start_time": "2021-07-30T19:16:50.779Z"
   },
   {
    "duration": 15,
    "start_time": "2021-07-30T19:17:10.185Z"
   },
   {
    "duration": 9,
    "start_time": "2021-07-30T19:17:20.422Z"
   },
   {
    "duration": 11,
    "start_time": "2021-07-30T19:17:39.826Z"
   },
   {
    "duration": 16,
    "start_time": "2021-07-30T19:17:44.340Z"
   },
   {
    "duration": 15,
    "start_time": "2021-07-30T19:17:50.664Z"
   },
   {
    "duration": 18,
    "start_time": "2021-07-30T19:18:09.198Z"
   },
   {
    "duration": 46,
    "start_time": "2021-07-30T19:18:13.107Z"
   },
   {
    "duration": 39,
    "start_time": "2021-07-30T19:18:23.247Z"
   },
   {
    "duration": 287,
    "start_time": "2021-07-30T19:20:13.512Z"
   },
   {
    "duration": 11,
    "start_time": "2021-07-30T19:20:24.246Z"
   },
   {
    "duration": 16,
    "start_time": "2021-07-30T19:20:39.917Z"
   },
   {
    "duration": 15,
    "start_time": "2021-07-30T19:21:30.763Z"
   },
   {
    "duration": 9,
    "start_time": "2021-07-30T19:21:32.706Z"
   },
   {
    "duration": 16,
    "start_time": "2021-07-30T19:22:09.498Z"
   },
   {
    "duration": 14,
    "start_time": "2021-07-30T19:22:19.623Z"
   },
   {
    "duration": 13,
    "start_time": "2021-07-30T19:23:47.621Z"
   },
   {
    "duration": 13,
    "start_time": "2021-07-30T19:24:08.927Z"
   },
   {
    "duration": 16,
    "start_time": "2021-07-30T19:24:23.366Z"
   },
   {
    "duration": 65,
    "start_time": "2021-07-30T19:24:32.717Z"
   },
   {
    "duration": 16,
    "start_time": "2021-07-30T19:24:32.785Z"
   },
   {
    "duration": 22,
    "start_time": "2021-07-30T19:24:32.804Z"
   },
   {
    "duration": 11,
    "start_time": "2021-07-30T19:24:32.856Z"
   },
   {
    "duration": 14,
    "start_time": "2021-07-30T19:24:32.870Z"
   },
   {
    "duration": 8,
    "start_time": "2021-07-30T19:24:32.887Z"
   },
   {
    "duration": 77,
    "start_time": "2021-07-30T19:24:32.898Z"
   },
   {
    "duration": 48,
    "start_time": "2021-07-30T19:24:32.979Z"
   },
   {
    "duration": 34,
    "start_time": "2021-07-30T19:24:33.030Z"
   },
   {
    "duration": 15,
    "start_time": "2021-07-30T19:24:33.067Z"
   },
   {
    "duration": 11,
    "start_time": "2021-07-30T19:24:33.085Z"
   },
   {
    "duration": 8,
    "start_time": "2021-07-30T19:24:33.099Z"
   },
   {
    "duration": 65,
    "start_time": "2021-07-30T19:24:33.109Z"
   },
   {
    "duration": 5,
    "start_time": "2021-07-30T19:24:33.177Z"
   },
   {
    "duration": 15,
    "start_time": "2021-07-30T19:24:33.185Z"
   },
   {
    "duration": 9,
    "start_time": "2021-07-30T19:24:33.203Z"
   },
   {
    "duration": 16,
    "start_time": "2021-07-30T19:24:36.304Z"
   },
   {
    "duration": 6,
    "start_time": "2021-07-30T19:24:45.958Z"
   },
   {
    "duration": 63,
    "start_time": "2021-07-30T19:25:58.396Z"
   },
   {
    "duration": 13,
    "start_time": "2021-07-30T19:25:58.463Z"
   },
   {
    "duration": 21,
    "start_time": "2021-07-30T19:25:58.479Z"
   },
   {
    "duration": 9,
    "start_time": "2021-07-30T19:25:58.502Z"
   },
   {
    "duration": 49,
    "start_time": "2021-07-30T19:25:58.513Z"
   },
   {
    "duration": 7,
    "start_time": "2021-07-30T19:25:58.565Z"
   },
   {
    "duration": 35,
    "start_time": "2021-07-30T19:25:58.575Z"
   },
   {
    "duration": 80,
    "start_time": "2021-07-30T19:25:58.613Z"
   },
   {
    "duration": 12,
    "start_time": "2021-07-30T19:25:58.696Z"
   },
   {
    "duration": 14,
    "start_time": "2021-07-30T19:25:58.710Z"
   },
   {
    "duration": 36,
    "start_time": "2021-07-30T19:26:18.684Z"
   },
   {
    "duration": 275,
    "start_time": "2021-07-30T19:26:38.112Z"
   },
   {
    "duration": 11,
    "start_time": "2021-07-30T19:26:50.368Z"
   },
   {
    "duration": 30,
    "start_time": "2021-07-30T19:26:56.375Z"
   },
   {
    "duration": 31,
    "start_time": "2021-07-30T19:27:03.297Z"
   },
   {
    "duration": 32,
    "start_time": "2021-07-30T19:27:16.568Z"
   },
   {
    "duration": 29,
    "start_time": "2021-07-30T19:27:26.212Z"
   },
   {
    "duration": 23,
    "start_time": "2021-07-30T19:27:30.684Z"
   },
   {
    "duration": 32,
    "start_time": "2021-07-30T19:27:45.911Z"
   },
   {
    "duration": 10,
    "start_time": "2021-07-30T19:30:36.806Z"
   },
   {
    "duration": 65,
    "start_time": "2021-07-30T19:30:39.656Z"
   },
   {
    "duration": 14,
    "start_time": "2021-07-30T19:30:39.723Z"
   },
   {
    "duration": 21,
    "start_time": "2021-07-30T19:30:39.755Z"
   },
   {
    "duration": 9,
    "start_time": "2021-07-30T19:30:39.778Z"
   },
   {
    "duration": 15,
    "start_time": "2021-07-30T19:30:39.790Z"
   },
   {
    "duration": 9,
    "start_time": "2021-07-30T19:30:39.807Z"
   },
   {
    "duration": 35,
    "start_time": "2021-07-30T19:30:39.855Z"
   },
   {
    "duration": 75,
    "start_time": "2021-07-30T19:30:39.894Z"
   },
   {
    "duration": 14,
    "start_time": "2021-07-30T19:30:39.972Z"
   },
   {
    "duration": 24,
    "start_time": "2021-07-30T19:30:39.988Z"
   },
   {
    "duration": 52,
    "start_time": "2021-07-30T19:30:40.015Z"
   },
   {
    "duration": 11,
    "start_time": "2021-07-30T19:30:40.070Z"
   },
   {
    "duration": 10,
    "start_time": "2021-07-30T19:30:40.084Z"
   },
   {
    "duration": 25,
    "start_time": "2021-07-30T19:30:40.097Z"
   },
   {
    "duration": 6,
    "start_time": "2021-07-30T19:30:40.154Z"
   },
   {
    "duration": 24,
    "start_time": "2021-07-30T19:30:40.163Z"
   },
   {
    "duration": 16,
    "start_time": "2021-07-30T19:30:40.190Z"
   },
   {
    "duration": 15,
    "start_time": "2021-07-30T19:30:40.209Z"
   },
   {
    "duration": 39,
    "start_time": "2021-07-30T19:30:40.226Z"
   },
   {
    "duration": 8,
    "start_time": "2021-07-30T19:30:40.267Z"
   },
   {
    "duration": 9,
    "start_time": "2021-07-30T19:30:41.999Z"
   },
   {
    "duration": 14,
    "start_time": "2021-07-30T19:30:49.355Z"
   },
   {
    "duration": 5,
    "start_time": "2021-07-30T19:31:17.847Z"
   },
   {
    "duration": 7969,
    "start_time": "2021-07-30T19:31:21.090Z"
   },
   {
    "duration": -80,
    "start_time": "2021-07-30T19:31:29.142Z"
   },
   {
    "duration": 20,
    "start_time": "2021-07-30T19:32:36.045Z"
   },
   {
    "duration": 16,
    "start_time": "2021-07-30T19:34:12.490Z"
   },
   {
    "duration": 15,
    "start_time": "2021-07-30T19:35:40.084Z"
   },
   {
    "duration": 4,
    "start_time": "2021-07-30T19:35:48.178Z"
   },
   {
    "duration": 801,
    "start_time": "2021-07-30T19:35:49.732Z"
   },
   {
    "duration": 9,
    "start_time": "2021-07-30T19:35:54.776Z"
   },
   {
    "duration": 10,
    "start_time": "2021-07-30T19:36:26.362Z"
   },
   {
    "duration": 36,
    "start_time": "2021-07-30T19:37:23.182Z"
   },
   {
    "duration": 35,
    "start_time": "2021-07-30T19:37:38.101Z"
   },
   {
    "duration": 35,
    "start_time": "2021-07-30T19:38:01.287Z"
   },
   {
    "duration": 36,
    "start_time": "2021-07-30T19:42:57.122Z"
   },
   {
    "duration": 34,
    "start_time": "2021-07-30T19:43:08.745Z"
   },
   {
    "duration": 37,
    "start_time": "2021-07-30T19:43:33.329Z"
   },
   {
    "duration": 1255,
    "start_time": "2021-07-30T19:48:38.997Z"
   },
   {
    "duration": -4,
    "start_time": "2021-07-30T19:49:33.055Z"
   },
   {
    "duration": 11,
    "start_time": "2021-07-30T19:49:37.270Z"
   },
   {
    "duration": 9,
    "start_time": "2021-07-30T19:50:12.817Z"
   },
   {
    "duration": 12,
    "start_time": "2021-07-30T19:50:20.640Z"
   },
   {
    "duration": 9,
    "start_time": "2021-07-30T19:50:50.560Z"
   },
   {
    "duration": 13,
    "start_time": "2021-07-30T19:50:58.498Z"
   },
   {
    "duration": 270,
    "start_time": "2021-07-30T19:51:02.439Z"
   },
   {
    "duration": 65,
    "start_time": "2021-07-30T19:51:11.158Z"
   },
   {
    "duration": 32,
    "start_time": "2021-07-30T19:51:11.226Z"
   },
   {
    "duration": 22,
    "start_time": "2021-07-30T19:51:11.263Z"
   },
   {
    "duration": 11,
    "start_time": "2021-07-30T19:51:11.289Z"
   },
   {
    "duration": 55,
    "start_time": "2021-07-30T19:51:11.303Z"
   },
   {
    "duration": 7,
    "start_time": "2021-07-30T19:51:11.361Z"
   },
   {
    "duration": 35,
    "start_time": "2021-07-30T19:51:11.370Z"
   },
   {
    "duration": 83,
    "start_time": "2021-07-30T19:51:11.407Z"
   },
   {
    "duration": 13,
    "start_time": "2021-07-30T19:51:11.494Z"
   },
   {
    "duration": 16,
    "start_time": "2021-07-30T19:51:11.509Z"
   },
   {
    "duration": 32,
    "start_time": "2021-07-30T19:51:11.556Z"
   },
   {
    "duration": 11,
    "start_time": "2021-07-30T19:51:11.591Z"
   },
   {
    "duration": 8,
    "start_time": "2021-07-30T19:51:11.605Z"
   },
   {
    "duration": 62,
    "start_time": "2021-07-30T19:51:11.616Z"
   },
   {
    "duration": 6,
    "start_time": "2021-07-30T19:51:11.681Z"
   },
   {
    "duration": 6783,
    "start_time": "2021-07-30T19:54:14.667Z"
   },
   {
    "duration": -10,
    "start_time": "2021-07-30T19:54:21.463Z"
   },
   {
    "duration": -21,
    "start_time": "2021-07-30T19:54:21.476Z"
   },
   {
    "duration": -29,
    "start_time": "2021-07-30T19:54:21.485Z"
   },
   {
    "duration": -41,
    "start_time": "2021-07-30T19:54:21.498Z"
   },
   {
    "duration": -51,
    "start_time": "2021-07-30T19:54:21.509Z"
   },
   {
    "duration": -57,
    "start_time": "2021-07-30T19:54:21.517Z"
   },
   {
    "duration": -65,
    "start_time": "2021-07-30T19:54:21.526Z"
   },
   {
    "duration": -70,
    "start_time": "2021-07-30T19:54:21.532Z"
   },
   {
    "duration": -74,
    "start_time": "2021-07-30T19:54:21.538Z"
   },
   {
    "duration": -77,
    "start_time": "2021-07-30T19:54:21.542Z"
   },
   {
    "duration": -82,
    "start_time": "2021-07-30T19:54:21.548Z"
   },
   {
    "duration": -87,
    "start_time": "2021-07-30T19:54:21.555Z"
   },
   {
    "duration": -90,
    "start_time": "2021-07-30T19:54:21.559Z"
   },
   {
    "duration": -95,
    "start_time": "2021-07-30T19:54:21.565Z"
   },
   {
    "duration": -100,
    "start_time": "2021-07-30T19:54:21.572Z"
   },
   {
    "duration": -104,
    "start_time": "2021-07-30T19:54:21.577Z"
   },
   {
    "duration": 6,
    "start_time": "2021-07-30T19:54:56.784Z"
   },
   {
    "duration": 10,
    "start_time": "2021-07-30T19:55:14.863Z"
   },
   {
    "duration": 67,
    "start_time": "2021-07-30T19:55:42.268Z"
   },
   {
    "duration": 17,
    "start_time": "2021-07-30T19:55:42.337Z"
   },
   {
    "duration": 21,
    "start_time": "2021-07-30T19:55:42.357Z"
   },
   {
    "duration": 25,
    "start_time": "2021-07-30T19:55:42.380Z"
   },
   {
    "duration": 32,
    "start_time": "2021-07-30T19:55:42.408Z"
   },
   {
    "duration": 16,
    "start_time": "2021-07-30T19:55:42.442Z"
   },
   {
    "duration": 40,
    "start_time": "2021-07-30T19:55:42.460Z"
   },
   {
    "duration": 58,
    "start_time": "2021-07-30T19:55:42.504Z"
   },
   {
    "duration": 12,
    "start_time": "2021-07-30T19:55:42.565Z"
   },
   {
    "duration": 22,
    "start_time": "2021-07-30T19:55:42.580Z"
   },
   {
    "duration": 52,
    "start_time": "2021-07-30T19:55:42.604Z"
   },
   {
    "duration": 11,
    "start_time": "2021-07-30T19:55:42.658Z"
   },
   {
    "duration": 22,
    "start_time": "2021-07-30T19:55:42.671Z"
   },
   {
    "duration": 40,
    "start_time": "2021-07-30T19:55:42.696Z"
   },
   {
    "duration": 6,
    "start_time": "2021-07-30T19:55:42.738Z"
   },
   {
    "duration": 39,
    "start_time": "2021-07-30T19:55:42.746Z"
   },
   {
    "duration": 10,
    "start_time": "2021-07-30T19:55:54.170Z"
   },
   {
    "duration": 1200,
    "start_time": "2021-07-30T19:58:27.078Z"
   },
   {
    "duration": 67,
    "start_time": "2021-07-30T20:00:44.444Z"
   },
   {
    "duration": 17,
    "start_time": "2021-07-30T20:00:44.514Z"
   },
   {
    "duration": 21,
    "start_time": "2021-07-30T20:00:44.556Z"
   },
   {
    "duration": 12,
    "start_time": "2021-07-30T20:00:44.580Z"
   },
   {
    "duration": 14,
    "start_time": "2021-07-30T20:00:44.594Z"
   },
   {
    "duration": 45,
    "start_time": "2021-07-30T20:00:44.610Z"
   },
   {
    "duration": 37,
    "start_time": "2021-07-30T20:00:44.657Z"
   },
   {
    "duration": 78,
    "start_time": "2021-07-30T20:00:44.698Z"
   },
   {
    "duration": 13,
    "start_time": "2021-07-30T20:00:44.778Z"
   },
   {
    "duration": 17,
    "start_time": "2021-07-30T20:00:44.794Z"
   },
   {
    "duration": 68,
    "start_time": "2021-07-30T20:00:44.814Z"
   },
   {
    "duration": 12,
    "start_time": "2021-07-30T20:00:44.884Z"
   },
   {
    "duration": 10,
    "start_time": "2021-07-30T20:00:44.898Z"
   },
   {
    "duration": 53,
    "start_time": "2021-07-30T20:00:44.911Z"
   },
   {
    "duration": 4,
    "start_time": "2021-07-30T20:00:44.967Z"
   },
   {
    "duration": 19,
    "start_time": "2021-07-30T20:00:44.974Z"
   },
   {
    "duration": 25,
    "start_time": "2021-07-30T20:00:44.995Z"
   },
   {
    "duration": 5,
    "start_time": "2021-07-30T20:00:48.668Z"
   },
   {
    "duration": 608,
    "start_time": "2021-07-30T20:01:07.123Z"
   },
   {
    "duration": 3318,
    "start_time": "2021-07-30T20:01:15.349Z"
   },
   {
    "duration": 6,
    "start_time": "2021-07-30T20:01:39.107Z"
   },
   {
    "duration": 1029,
    "start_time": "2021-07-30T20:01:50.300Z"
   },
   {
    "duration": 66,
    "start_time": "2021-07-30T20:01:54.307Z"
   },
   {
    "duration": 14,
    "start_time": "2021-07-30T20:01:54.376Z"
   },
   {
    "duration": 21,
    "start_time": "2021-07-30T20:01:54.393Z"
   },
   {
    "duration": 42,
    "start_time": "2021-07-30T20:01:54.417Z"
   },
   {
    "duration": 12,
    "start_time": "2021-07-30T20:01:54.461Z"
   },
   {
    "duration": 8,
    "start_time": "2021-07-30T20:01:54.476Z"
   },
   {
    "duration": 78,
    "start_time": "2021-07-30T20:01:54.486Z"
   },
   {
    "duration": 47,
    "start_time": "2021-07-30T20:01:54.568Z"
   },
   {
    "duration": 37,
    "start_time": "2021-07-30T20:01:54.618Z"
   },
   {
    "duration": 15,
    "start_time": "2021-07-30T20:01:54.658Z"
   },
   {
    "duration": 31,
    "start_time": "2021-07-30T20:01:54.676Z"
   },
   {
    "duration": 48,
    "start_time": "2021-07-30T20:01:54.709Z"
   },
   {
    "duration": 8,
    "start_time": "2021-07-30T20:01:54.759Z"
   },
   {
    "duration": 21,
    "start_time": "2021-07-30T20:01:54.769Z"
   },
   {
    "duration": 4,
    "start_time": "2021-07-30T20:01:54.793Z"
   },
   {
    "duration": 54,
    "start_time": "2021-07-30T20:01:54.800Z"
   },
   {
    "duration": 5,
    "start_time": "2021-07-30T20:01:54.857Z"
   },
   {
    "duration": 9,
    "start_time": "2021-07-30T20:01:54.865Z"
   },
   {
    "duration": 618,
    "start_time": "2021-07-30T20:01:58.542Z"
   },
   {
    "duration": 17,
    "start_time": "2021-07-30T20:02:00.482Z"
   },
   {
    "duration": 25,
    "start_time": "2021-07-30T20:02:13.384Z"
   },
   {
    "duration": 13,
    "start_time": "2021-07-30T20:02:18.616Z"
   },
   {
    "duration": 13,
    "start_time": "2021-07-30T20:04:03.264Z"
   },
   {
    "duration": 15,
    "start_time": "2021-07-30T20:04:23.397Z"
   },
   {
    "duration": 8,
    "start_time": "2021-07-30T20:04:45.822Z"
   },
   {
    "duration": 8,
    "start_time": "2021-07-30T20:06:11.103Z"
   },
   {
    "duration": 6,
    "start_time": "2021-07-30T20:06:31.035Z"
   },
   {
    "duration": 6,
    "start_time": "2021-07-30T20:06:35.259Z"
   },
   {
    "duration": 8,
    "start_time": "2021-07-30T20:06:46.606Z"
   },
   {
    "duration": 7,
    "start_time": "2021-07-30T20:06:56.627Z"
   },
   {
    "duration": 8,
    "start_time": "2021-07-30T20:07:11.026Z"
   },
   {
    "duration": 7,
    "start_time": "2021-07-30T20:07:28.288Z"
   },
   {
    "duration": 7,
    "start_time": "2021-07-30T20:07:32.979Z"
   },
   {
    "duration": 4,
    "start_time": "2021-07-30T20:10:22.071Z"
   },
   {
    "duration": 65,
    "start_time": "2021-07-30T20:10:24.474Z"
   },
   {
    "duration": 15,
    "start_time": "2021-07-30T20:10:24.542Z"
   },
   {
    "duration": 21,
    "start_time": "2021-07-30T20:10:24.560Z"
   },
   {
    "duration": 9,
    "start_time": "2021-07-30T20:10:24.585Z"
   },
   {
    "duration": 61,
    "start_time": "2021-07-30T20:10:24.597Z"
   },
   {
    "duration": 8,
    "start_time": "2021-07-30T20:10:24.661Z"
   },
   {
    "duration": 34,
    "start_time": "2021-07-30T20:10:24.672Z"
   },
   {
    "duration": 80,
    "start_time": "2021-07-30T20:10:24.710Z"
   },
   {
    "duration": 15,
    "start_time": "2021-07-30T20:10:24.793Z"
   },
   {
    "duration": 17,
    "start_time": "2021-07-30T20:10:24.811Z"
   },
   {
    "duration": 11,
    "start_time": "2021-07-30T20:10:24.855Z"
   },
   {
    "duration": 8,
    "start_time": "2021-07-30T20:10:24.868Z"
   },
   {
    "duration": 21,
    "start_time": "2021-07-30T20:10:24.878Z"
   },
   {
    "duration": 4,
    "start_time": "2021-07-30T20:10:24.901Z"
   },
   {
    "duration": 59,
    "start_time": "2021-07-30T20:10:24.907Z"
   },
   {
    "duration": 9,
    "start_time": "2021-07-30T20:10:24.969Z"
   },
   {
    "duration": 5,
    "start_time": "2021-07-30T20:10:24.980Z"
   },
   {
    "duration": 631,
    "start_time": "2021-07-30T20:10:24.987Z"
   },
   {
    "duration": 12,
    "start_time": "2021-07-30T20:10:25.621Z"
   },
   {
    "duration": 20,
    "start_time": "2021-07-30T20:10:25.635Z"
   },
   {
    "duration": 21,
    "start_time": "2021-07-30T20:10:25.658Z"
   },
   {
    "duration": 4,
    "start_time": "2021-07-30T20:10:28.461Z"
   },
   {
    "duration": 562,
    "start_time": "2021-07-30T20:10:31.739Z"
   },
   {
    "duration": 7,
    "start_time": "2021-07-30T20:10:36.531Z"
   },
   {
    "duration": 65,
    "start_time": "2021-07-30T20:11:05.104Z"
   },
   {
    "duration": 14,
    "start_time": "2021-07-30T20:11:05.172Z"
   },
   {
    "duration": 31,
    "start_time": "2021-07-30T20:11:05.189Z"
   },
   {
    "duration": 32,
    "start_time": "2021-07-30T20:11:05.223Z"
   },
   {
    "duration": 32,
    "start_time": "2021-07-30T20:11:05.258Z"
   },
   {
    "duration": 9,
    "start_time": "2021-07-30T20:11:05.292Z"
   },
   {
    "duration": 43,
    "start_time": "2021-07-30T20:11:05.303Z"
   },
   {
    "duration": 48,
    "start_time": "2021-07-30T20:11:05.355Z"
   },
   {
    "duration": 11,
    "start_time": "2021-07-30T20:11:05.406Z"
   },
   {
    "duration": 39,
    "start_time": "2021-07-30T20:11:05.420Z"
   },
   {
    "duration": 11,
    "start_time": "2021-07-30T20:11:05.461Z"
   },
   {
    "duration": 14,
    "start_time": "2021-07-30T20:11:05.475Z"
   },
   {
    "duration": 23,
    "start_time": "2021-07-30T20:11:05.492Z"
   },
   {
    "duration": 38,
    "start_time": "2021-07-30T20:11:05.518Z"
   },
   {
    "duration": 13,
    "start_time": "2021-07-30T20:11:05.558Z"
   },
   {
    "duration": 15,
    "start_time": "2021-07-30T20:11:05.574Z"
   },
   {
    "duration": 19,
    "start_time": "2021-07-30T20:11:05.591Z"
   },
   {
    "duration": 653,
    "start_time": "2021-07-30T20:11:05.613Z"
   },
   {
    "duration": 12,
    "start_time": "2021-07-30T20:11:06.269Z"
   },
   {
    "duration": 18,
    "start_time": "2021-07-30T20:11:06.283Z"
   },
   {
    "duration": 25,
    "start_time": "2021-07-30T20:11:06.303Z"
   },
   {
    "duration": 4,
    "start_time": "2021-07-30T20:11:08.904Z"
   },
   {
    "duration": 552,
    "start_time": "2021-07-30T20:11:11.210Z"
   },
   {
    "duration": 7,
    "start_time": "2021-07-30T20:11:14.294Z"
   },
   {
    "duration": 8,
    "start_time": "2021-07-30T20:11:24.993Z"
   },
   {
    "duration": 7,
    "start_time": "2021-07-30T20:11:30.098Z"
   },
   {
    "duration": 9,
    "start_time": "2021-07-30T20:11:48.727Z"
   },
   {
    "duration": 11,
    "start_time": "2021-07-30T20:11:51.513Z"
   },
   {
    "duration": 65,
    "start_time": "2021-07-30T20:12:00.850Z"
   },
   {
    "duration": 14,
    "start_time": "2021-07-30T20:12:00.918Z"
   },
   {
    "duration": 53,
    "start_time": "2021-07-30T20:12:00.935Z"
   },
   {
    "duration": 13,
    "start_time": "2021-07-30T20:12:00.990Z"
   },
   {
    "duration": 20,
    "start_time": "2021-07-30T20:12:01.005Z"
   },
   {
    "duration": 28,
    "start_time": "2021-07-30T20:12:01.028Z"
   },
   {
    "duration": 48,
    "start_time": "2021-07-30T20:12:01.058Z"
   },
   {
    "duration": 61,
    "start_time": "2021-07-30T20:12:01.110Z"
   },
   {
    "duration": 12,
    "start_time": "2021-07-30T20:12:01.174Z"
   },
   {
    "duration": 40,
    "start_time": "2021-07-30T20:12:01.188Z"
   },
   {
    "duration": 23,
    "start_time": "2021-07-30T20:12:01.231Z"
   },
   {
    "duration": 25,
    "start_time": "2021-07-30T20:12:01.257Z"
   },
   {
    "duration": 39,
    "start_time": "2021-07-30T20:12:01.285Z"
   },
   {
    "duration": 5,
    "start_time": "2021-07-30T20:12:01.326Z"
   },
   {
    "duration": 29,
    "start_time": "2021-07-30T20:12:01.334Z"
   },
   {
    "duration": 10,
    "start_time": "2021-07-30T20:12:01.366Z"
   },
   {
    "duration": 26,
    "start_time": "2021-07-30T20:12:01.378Z"
   },
   {
    "duration": 623,
    "start_time": "2021-07-30T20:12:01.407Z"
   },
   {
    "duration": 13,
    "start_time": "2021-07-30T20:12:02.032Z"
   },
   {
    "duration": 26,
    "start_time": "2021-07-30T20:12:02.055Z"
   },
   {
    "duration": 30,
    "start_time": "2021-07-30T20:12:02.084Z"
   },
   {
    "duration": 14,
    "start_time": "2021-07-30T20:12:02.116Z"
   },
   {
    "duration": 593,
    "start_time": "2021-07-30T20:12:02.135Z"
   },
   {
    "duration": 8,
    "start_time": "2021-07-30T20:12:02.730Z"
   },
   {
    "duration": 34,
    "start_time": "2021-07-30T20:12:02.741Z"
   },
   {
    "duration": 25,
    "start_time": "2021-07-30T20:12:02.777Z"
   },
   {
    "duration": 12,
    "start_time": "2021-07-30T20:12:02.804Z"
   },
   {
    "duration": 20,
    "start_time": "2021-07-30T20:12:02.818Z"
   },
   {
    "duration": 22,
    "start_time": "2021-07-30T20:12:02.840Z"
   },
   {
    "duration": 40,
    "start_time": "2021-07-30T20:12:02.864Z"
   },
   {
    "duration": 30,
    "start_time": "2021-07-30T20:12:02.907Z"
   },
   {
    "duration": 49,
    "start_time": "2021-07-30T20:12:02.939Z"
   },
   {
    "duration": 16,
    "start_time": "2021-07-30T20:15:33.958Z"
   },
   {
    "duration": 9,
    "start_time": "2021-07-30T20:16:04.085Z"
   },
   {
    "duration": 89,
    "start_time": "2021-07-30T20:17:19.338Z"
   },
   {
    "duration": 325,
    "start_time": "2021-07-30T20:17:30.616Z"
   },
   {
    "duration": 324,
    "start_time": "2021-07-30T20:17:36.492Z"
   },
   {
    "duration": 66,
    "start_time": "2021-07-30T20:17:38.794Z"
   },
   {
    "duration": 17,
    "start_time": "2021-07-30T20:17:38.863Z"
   },
   {
    "duration": 39,
    "start_time": "2021-07-30T20:17:38.883Z"
   },
   {
    "duration": 33,
    "start_time": "2021-07-30T20:17:38.926Z"
   },
   {
    "duration": 45,
    "start_time": "2021-07-30T20:17:38.963Z"
   },
   {
    "duration": 19,
    "start_time": "2021-07-30T20:17:39.011Z"
   },
   {
    "duration": 48,
    "start_time": "2021-07-30T20:17:39.033Z"
   },
   {
    "duration": 48,
    "start_time": "2021-07-30T20:17:39.086Z"
   },
   {
    "duration": 15,
    "start_time": "2021-07-30T20:17:39.154Z"
   },
   {
    "duration": 27,
    "start_time": "2021-07-30T20:17:39.171Z"
   },
   {
    "duration": 32,
    "start_time": "2021-07-30T20:17:39.201Z"
   },
   {
    "duration": 24,
    "start_time": "2021-07-30T20:17:39.236Z"
   },
   {
    "duration": 39,
    "start_time": "2021-07-30T20:17:39.263Z"
   },
   {
    "duration": 6,
    "start_time": "2021-07-30T20:17:39.305Z"
   },
   {
    "duration": 41,
    "start_time": "2021-07-30T20:17:39.314Z"
   },
   {
    "duration": 8,
    "start_time": "2021-07-30T20:17:39.359Z"
   },
   {
    "duration": 29,
    "start_time": "2021-07-30T20:17:39.370Z"
   },
   {
    "duration": 654,
    "start_time": "2021-07-30T20:17:39.401Z"
   },
   {
    "duration": 11,
    "start_time": "2021-07-30T20:17:40.058Z"
   },
   {
    "duration": 18,
    "start_time": "2021-07-30T20:17:40.072Z"
   },
   {
    "duration": 29,
    "start_time": "2021-07-30T20:17:40.092Z"
   },
   {
    "duration": 11,
    "start_time": "2021-07-30T20:17:40.123Z"
   },
   {
    "duration": 604,
    "start_time": "2021-07-30T20:17:40.138Z"
   },
   {
    "duration": 10,
    "start_time": "2021-07-30T20:17:40.745Z"
   },
   {
    "duration": 16,
    "start_time": "2021-07-30T20:17:40.758Z"
   },
   {
    "duration": 27,
    "start_time": "2021-07-30T20:17:40.777Z"
   },
   {
    "duration": 20,
    "start_time": "2021-07-30T20:17:40.807Z"
   },
   {
    "duration": 15,
    "start_time": "2021-07-30T20:17:40.830Z"
   },
   {
    "duration": 27,
    "start_time": "2021-07-30T20:17:40.847Z"
   },
   {
    "duration": 46,
    "start_time": "2021-07-30T20:17:40.877Z"
   },
   {
    "duration": 38,
    "start_time": "2021-07-30T20:17:40.925Z"
   },
   {
    "duration": 50,
    "start_time": "2021-07-30T20:17:40.965Z"
   },
   {
    "duration": 4677,
    "start_time": "2021-07-30T20:17:41.017Z"
   },
   {
    "duration": 39,
    "start_time": "2021-07-30T20:17:45.697Z"
   },
   {
    "duration": 215,
    "start_time": "2021-07-30T20:17:45.756Z"
   },
   {
    "duration": 1123,
    "start_time": "2021-07-30T20:17:46.292Z"
   },
   {
    "duration": 65,
    "start_time": "2021-07-30T20:17:58.841Z"
   },
   {
    "duration": 15,
    "start_time": "2021-07-30T20:17:58.908Z"
   },
   {
    "duration": 22,
    "start_time": "2021-07-30T20:17:58.954Z"
   },
   {
    "duration": 9,
    "start_time": "2021-07-30T20:17:58.979Z"
   },
   {
    "duration": 20,
    "start_time": "2021-07-30T20:17:58.991Z"
   },
   {
    "duration": 48,
    "start_time": "2021-07-30T20:17:59.013Z"
   },
   {
    "duration": 53,
    "start_time": "2021-07-30T20:17:59.064Z"
   },
   {
    "duration": 61,
    "start_time": "2021-07-30T20:17:59.120Z"
   },
   {
    "duration": 11,
    "start_time": "2021-07-30T20:17:59.183Z"
   },
   {
    "duration": 31,
    "start_time": "2021-07-30T20:17:59.197Z"
   },
   {
    "duration": 26,
    "start_time": "2021-07-30T20:17:59.230Z"
   },
   {
    "duration": 13,
    "start_time": "2021-07-30T20:17:59.258Z"
   },
   {
    "duration": 35,
    "start_time": "2021-07-30T20:17:59.273Z"
   },
   {
    "duration": 17,
    "start_time": "2021-07-30T20:17:59.310Z"
   },
   {
    "duration": 22,
    "start_time": "2021-07-30T20:17:59.329Z"
   },
   {
    "duration": 25,
    "start_time": "2021-07-30T20:17:59.354Z"
   },
   {
    "duration": 28,
    "start_time": "2021-07-30T20:17:59.381Z"
   },
   {
    "duration": 661,
    "start_time": "2021-07-30T20:17:59.411Z"
   },
   {
    "duration": 13,
    "start_time": "2021-07-30T20:18:00.074Z"
   },
   {
    "duration": 11,
    "start_time": "2021-07-30T20:18:00.089Z"
   },
   {
    "duration": 21,
    "start_time": "2021-07-30T20:18:00.102Z"
   },
   {
    "duration": 4,
    "start_time": "2021-07-30T20:18:00.125Z"
   },
   {
    "duration": 585,
    "start_time": "2021-07-30T20:18:00.157Z"
   },
   {
    "duration": 10,
    "start_time": "2021-07-30T20:18:00.744Z"
   },
   {
    "duration": 20,
    "start_time": "2021-07-30T20:18:00.756Z"
   },
   {
    "duration": 16,
    "start_time": "2021-07-30T20:18:00.779Z"
   },
   {
    "duration": 21,
    "start_time": "2021-07-30T20:18:00.797Z"
   },
   {
    "duration": 22,
    "start_time": "2021-07-30T20:18:00.820Z"
   },
   {
    "duration": 26,
    "start_time": "2021-07-30T20:18:00.844Z"
   },
   {
    "duration": 40,
    "start_time": "2021-07-30T20:18:00.872Z"
   },
   {
    "duration": 42,
    "start_time": "2021-07-30T20:18:00.914Z"
   },
   {
    "duration": 45,
    "start_time": "2021-07-30T20:18:00.959Z"
   },
   {
    "duration": 23,
    "start_time": "2021-07-30T20:18:07.123Z"
   },
   {
    "duration": 4463,
    "start_time": "2021-07-30T20:18:10.567Z"
   },
   {
    "duration": 36,
    "start_time": "2021-07-30T20:18:21.537Z"
   },
   {
    "duration": 201,
    "start_time": "2021-07-30T20:18:25.895Z"
   },
   {
    "duration": 266,
    "start_time": "2021-07-30T20:23:11.782Z"
   },
   {
    "duration": 268,
    "start_time": "2021-07-30T20:27:41.668Z"
   },
   {
    "duration": 8,
    "start_time": "2021-07-30T20:27:51.535Z"
   },
   {
    "duration": 7,
    "start_time": "2021-07-30T20:28:06.922Z"
   },
   {
    "duration": 8,
    "start_time": "2021-07-30T20:28:41.921Z"
   },
   {
    "duration": 6,
    "start_time": "2021-07-30T20:28:47.999Z"
   },
   {
    "duration": 8,
    "start_time": "2021-07-30T20:28:52.254Z"
   },
   {
    "duration": 296,
    "start_time": "2021-07-30T20:29:01.241Z"
   },
   {
    "duration": 7,
    "start_time": "2021-07-30T20:30:23.338Z"
   },
   {
    "duration": 7,
    "start_time": "2021-07-30T20:30:43.704Z"
   },
   {
    "duration": 8,
    "start_time": "2021-07-30T20:30:55.220Z"
   },
   {
    "duration": 10,
    "start_time": "2021-07-30T20:31:57.966Z"
   },
   {
    "duration": 6,
    "start_time": "2021-07-30T20:35:14.210Z"
   },
   {
    "duration": 66,
    "start_time": "2021-07-30T20:35:59.050Z"
   },
   {
    "duration": 14,
    "start_time": "2021-07-30T20:35:59.119Z"
   },
   {
    "duration": 23,
    "start_time": "2021-07-30T20:35:59.156Z"
   },
   {
    "duration": 10,
    "start_time": "2021-07-30T20:35:59.182Z"
   },
   {
    "duration": 13,
    "start_time": "2021-07-30T20:35:59.195Z"
   },
   {
    "duration": 51,
    "start_time": "2021-07-30T20:35:59.210Z"
   },
   {
    "duration": 45,
    "start_time": "2021-07-30T20:35:59.264Z"
   },
   {
    "duration": 68,
    "start_time": "2021-07-30T20:35:59.313Z"
   },
   {
    "duration": 13,
    "start_time": "2021-07-30T20:35:59.384Z"
   },
   {
    "duration": 16,
    "start_time": "2021-07-30T20:35:59.399Z"
   },
   {
    "duration": 40,
    "start_time": "2021-07-30T20:35:59.418Z"
   },
   {
    "duration": 8,
    "start_time": "2021-07-30T20:35:59.461Z"
   },
   {
    "duration": 22,
    "start_time": "2021-07-30T20:35:59.472Z"
   },
   {
    "duration": 6,
    "start_time": "2021-07-30T20:35:59.497Z"
   },
   {
    "duration": 60,
    "start_time": "2021-07-30T20:35:59.505Z"
   },
   {
    "duration": 7,
    "start_time": "2021-07-30T20:35:59.568Z"
   },
   {
    "duration": 6,
    "start_time": "2021-07-30T20:35:59.577Z"
   },
   {
    "duration": 752,
    "start_time": "2021-07-30T20:35:59.585Z"
   },
   {
    "duration": 16,
    "start_time": "2021-07-30T20:36:00.340Z"
   },
   {
    "duration": 8,
    "start_time": "2021-07-30T20:36:00.358Z"
   },
   {
    "duration": 23,
    "start_time": "2021-07-30T20:36:00.368Z"
   },
   {
    "duration": 4,
    "start_time": "2021-07-30T20:36:00.394Z"
   },
   {
    "duration": 613,
    "start_time": "2021-07-30T20:36:00.402Z"
   },
   {
    "duration": 8,
    "start_time": "2021-07-30T20:36:01.017Z"
   },
   {
    "duration": 28,
    "start_time": "2021-07-30T20:36:01.027Z"
   },
   {
    "duration": 24,
    "start_time": "2021-07-30T20:36:01.058Z"
   },
   {
    "duration": 21,
    "start_time": "2021-07-30T20:36:01.085Z"
   },
   {
    "duration": 25,
    "start_time": "2021-07-30T20:36:01.108Z"
   },
   {
    "duration": 27,
    "start_time": "2021-07-30T20:36:01.136Z"
   },
   {
    "duration": 40,
    "start_time": "2021-07-30T20:36:01.165Z"
   },
   {
    "duration": 26,
    "start_time": "2021-07-30T20:36:01.208Z"
   },
   {
    "duration": 59,
    "start_time": "2021-07-30T20:36:01.237Z"
   },
   {
    "duration": 4512,
    "start_time": "2021-07-30T20:36:01.298Z"
   },
   {
    "duration": 52,
    "start_time": "2021-07-30T20:36:05.813Z"
   },
   {
    "duration": 221,
    "start_time": "2021-07-30T20:36:05.867Z"
   },
   {
    "duration": 8,
    "start_time": "2021-07-30T20:36:16.666Z"
   },
   {
    "duration": 5,
    "start_time": "2021-07-30T20:36:25.958Z"
   },
   {
    "duration": 103,
    "start_time": "2021-07-30T20:38:08.310Z"
   },
   {
    "duration": 4,
    "start_time": "2021-07-30T20:39:39.718Z"
   },
   {
    "duration": 546,
    "start_time": "2021-07-30T20:39:42.507Z"
   },
   {
    "duration": 4,
    "start_time": "2021-07-30T20:39:56.404Z"
   },
   {
    "duration": 1128,
    "start_time": "2021-07-30T20:39:58.655Z"
   },
   {
    "duration": 10,
    "start_time": "2021-07-30T20:40:16.370Z"
   },
   {
    "duration": 68,
    "start_time": "2021-07-30T20:40:36.172Z"
   },
   {
    "duration": 16,
    "start_time": "2021-07-30T20:40:36.243Z"
   },
   {
    "duration": 23,
    "start_time": "2021-07-30T20:40:36.262Z"
   },
   {
    "duration": 19,
    "start_time": "2021-07-30T20:40:36.288Z"
   },
   {
    "duration": 52,
    "start_time": "2021-07-30T20:40:36.310Z"
   },
   {
    "duration": 17,
    "start_time": "2021-07-30T20:40:36.365Z"
   },
   {
    "duration": 41,
    "start_time": "2021-07-30T20:40:36.384Z"
   },
   {
    "duration": 72,
    "start_time": "2021-07-30T20:40:36.428Z"
   },
   {
    "duration": 14,
    "start_time": "2021-07-30T20:40:36.504Z"
   },
   {
    "duration": 48,
    "start_time": "2021-07-30T20:40:36.520Z"
   },
   {
    "duration": 29,
    "start_time": "2021-07-30T20:40:36.570Z"
   },
   {
    "duration": 11,
    "start_time": "2021-07-30T20:40:36.602Z"
   },
   {
    "duration": 48,
    "start_time": "2021-07-30T20:40:36.616Z"
   },
   {
    "duration": 6,
    "start_time": "2021-07-30T20:40:36.668Z"
   },
   {
    "duration": 16,
    "start_time": "2021-07-30T20:40:36.677Z"
   },
   {
    "duration": 7,
    "start_time": "2021-07-30T20:40:36.696Z"
   },
   {
    "duration": 50,
    "start_time": "2021-07-30T20:40:36.705Z"
   },
   {
    "duration": 646,
    "start_time": "2021-07-30T20:40:36.757Z"
   },
   {
    "duration": 11,
    "start_time": "2021-07-30T20:40:37.406Z"
   },
   {
    "duration": 24,
    "start_time": "2021-07-30T20:40:37.419Z"
   },
   {
    "duration": 22,
    "start_time": "2021-07-30T20:40:37.445Z"
   },
   {
    "duration": 8,
    "start_time": "2021-07-30T20:40:37.470Z"
   },
   {
    "duration": 581,
    "start_time": "2021-07-30T20:40:37.483Z"
   },
   {
    "duration": 8,
    "start_time": "2021-07-30T20:40:38.067Z"
   },
   {
    "duration": 12,
    "start_time": "2021-07-30T20:40:38.077Z"
   },
   {
    "duration": 17,
    "start_time": "2021-07-30T20:40:38.091Z"
   },
   {
    "duration": 12,
    "start_time": "2021-07-30T20:40:38.111Z"
   },
   {
    "duration": 28,
    "start_time": "2021-07-30T20:40:38.126Z"
   },
   {
    "duration": 21,
    "start_time": "2021-07-30T20:40:38.156Z"
   },
   {
    "duration": 29,
    "start_time": "2021-07-30T20:40:38.180Z"
   },
   {
    "duration": 42,
    "start_time": "2021-07-30T20:40:38.212Z"
   },
   {
    "duration": 46,
    "start_time": "2021-07-30T20:40:38.257Z"
   },
   {
    "duration": 4536,
    "start_time": "2021-07-30T20:40:38.306Z"
   },
   {
    "duration": 41,
    "start_time": "2021-07-30T20:40:42.854Z"
   },
   {
    "duration": 235,
    "start_time": "2021-07-30T20:40:42.898Z"
   },
   {
    "duration": 19,
    "start_time": "2021-07-30T20:40:43.136Z"
   },
   {
    "duration": 8,
    "start_time": "2021-07-30T20:40:43.158Z"
   },
   {
    "duration": 7,
    "start_time": "2021-07-30T20:40:43.168Z"
   },
   {
    "duration": 6,
    "start_time": "2021-07-30T20:40:43.177Z"
   },
   {
    "duration": 1170,
    "start_time": "2021-07-30T20:40:43.185Z"
   },
   {
    "duration": 9,
    "start_time": "2021-07-30T20:40:44.358Z"
   },
   {
    "duration": 23,
    "start_time": "2021-07-30T20:40:44.369Z"
   },
   {
    "duration": 22,
    "start_time": "2021-07-30T20:40:44.395Z"
   },
   {
    "duration": 47,
    "start_time": "2021-07-30T20:40:44.420Z"
   },
   {
    "duration": 57,
    "start_time": "2021-07-30T20:40:44.470Z"
   },
   {
    "duration": 31,
    "start_time": "2021-07-30T20:40:44.530Z"
   },
   {
    "duration": 401,
    "start_time": "2021-07-30T20:40:44.564Z"
   },
   {
    "duration": 21,
    "start_time": "2021-07-30T20:40:44.968Z"
   },
   {
    "duration": 64,
    "start_time": "2021-07-30T20:40:44.992Z"
   },
   {
    "duration": 12,
    "start_time": "2021-07-30T20:40:45.059Z"
   },
   {
    "duration": 15,
    "start_time": "2021-07-30T20:40:45.073Z"
   },
   {
    "duration": 64,
    "start_time": "2021-07-30T20:40:45.091Z"
   },
   {
    "duration": 33,
    "start_time": "2021-07-30T20:40:45.158Z"
   },
   {
    "duration": 30,
    "start_time": "2021-07-30T20:40:45.194Z"
   },
   {
    "duration": 33,
    "start_time": "2021-07-30T20:40:45.254Z"
   },
   {
    "duration": 63,
    "start_time": "2021-07-30T20:46:41.531Z"
   },
   {
    "duration": 14,
    "start_time": "2021-07-30T20:46:41.597Z"
   },
   {
    "duration": 46,
    "start_time": "2021-07-30T20:46:41.614Z"
   },
   {
    "duration": 9,
    "start_time": "2021-07-30T20:46:41.663Z"
   },
   {
    "duration": 19,
    "start_time": "2021-07-30T20:46:41.674Z"
   },
   {
    "duration": 7,
    "start_time": "2021-07-30T20:46:41.696Z"
   },
   {
    "duration": 81,
    "start_time": "2021-07-30T20:46:41.706Z"
   },
   {
    "duration": 83,
    "start_time": "2021-07-30T20:46:41.791Z"
   },
   {
    "duration": 12,
    "start_time": "2021-07-30T20:46:41.877Z"
   },
   {
    "duration": 16,
    "start_time": "2021-07-30T20:46:41.891Z"
   },
   {
    "duration": 12,
    "start_time": "2021-07-30T20:46:41.909Z"
   },
   {
    "duration": 37,
    "start_time": "2021-07-30T20:46:41.924Z"
   },
   {
    "duration": 22,
    "start_time": "2021-07-30T20:46:41.963Z"
   },
   {
    "duration": 5,
    "start_time": "2021-07-30T20:46:41.987Z"
   },
   {
    "duration": 14,
    "start_time": "2021-07-30T20:46:41.995Z"
   },
   {
    "duration": 43,
    "start_time": "2021-07-30T20:46:42.012Z"
   },
   {
    "duration": 4,
    "start_time": "2021-07-30T20:46:42.057Z"
   },
   {
    "duration": 624,
    "start_time": "2021-07-30T20:46:42.064Z"
   },
   {
    "duration": 12,
    "start_time": "2021-07-30T20:46:42.691Z"
   },
   {
    "duration": 14,
    "start_time": "2021-07-30T20:46:42.705Z"
   },
   {
    "duration": 34,
    "start_time": "2021-07-30T20:46:42.722Z"
   },
   {
    "duration": 4,
    "start_time": "2021-07-30T20:46:42.759Z"
   },
   {
    "duration": 582,
    "start_time": "2021-07-30T20:46:42.769Z"
   },
   {
    "duration": 8,
    "start_time": "2021-07-30T20:46:43.355Z"
   },
   {
    "duration": 17,
    "start_time": "2021-07-30T20:46:43.365Z"
   },
   {
    "duration": 20,
    "start_time": "2021-07-30T20:46:43.384Z"
   },
   {
    "duration": 9,
    "start_time": "2021-07-30T20:46:43.407Z"
   },
   {
    "duration": 35,
    "start_time": "2021-07-30T20:46:43.419Z"
   },
   {
    "duration": 7,
    "start_time": "2021-07-30T20:46:43.457Z"
   },
   {
    "duration": 32,
    "start_time": "2021-07-30T20:46:43.468Z"
   },
   {
    "duration": 60,
    "start_time": "2021-07-30T20:46:43.502Z"
   },
   {
    "duration": 46,
    "start_time": "2021-07-30T20:46:43.565Z"
   },
   {
    "duration": 5076,
    "start_time": "2021-07-30T20:46:43.614Z"
   },
   {
    "duration": 36,
    "start_time": "2021-07-30T20:46:48.692Z"
   },
   {
    "duration": 216,
    "start_time": "2021-07-30T20:46:48.731Z"
   },
   {
    "duration": 10,
    "start_time": "2021-07-30T20:46:48.955Z"
   },
   {
    "duration": 8,
    "start_time": "2021-07-30T20:46:48.967Z"
   },
   {
    "duration": 4,
    "start_time": "2021-07-30T20:46:48.977Z"
   },
   {
    "duration": 9,
    "start_time": "2021-07-30T20:46:48.983Z"
   },
   {
    "duration": 1247,
    "start_time": "2021-07-30T20:46:48.995Z"
   },
   {
    "duration": 18,
    "start_time": "2021-07-30T20:46:50.244Z"
   },
   {
    "duration": 25,
    "start_time": "2021-07-30T20:46:50.265Z"
   },
   {
    "duration": 14,
    "start_time": "2021-07-30T20:46:50.293Z"
   },
   {
    "duration": 10,
    "start_time": "2021-07-30T20:46:50.310Z"
   },
   {
    "duration": 70,
    "start_time": "2021-07-30T20:46:50.322Z"
   },
   {
    "duration": 8,
    "start_time": "2021-07-30T20:46:50.394Z"
   },
   {
    "duration": 418,
    "start_time": "2021-07-30T20:46:50.404Z"
   },
   {
    "duration": 34,
    "start_time": "2021-07-30T20:46:50.825Z"
   },
   {
    "duration": 48,
    "start_time": "2021-07-30T20:46:50.862Z"
   },
   {
    "duration": 11,
    "start_time": "2021-07-30T20:46:50.912Z"
   },
   {
    "duration": 39,
    "start_time": "2021-07-30T20:46:50.925Z"
   },
   {
    "duration": 30,
    "start_time": "2021-07-30T20:46:50.967Z"
   },
   {
    "duration": 55,
    "start_time": "2021-07-30T20:46:51.000Z"
   },
   {
    "duration": 28,
    "start_time": "2021-07-30T20:46:51.058Z"
   },
   {
    "duration": 30,
    "start_time": "2021-07-30T20:46:51.089Z"
   }
  ],
  "celltoolbar": "Необработанный формат ячейки",
  "kernelspec": {
   "display_name": "Python 3",
   "language": "python",
   "name": "python3"
  },
  "language_info": {
   "codemirror_mode": {
    "name": "ipython",
    "version": 3
   },
   "file_extension": ".py",
   "mimetype": "text/x-python",
   "name": "python",
   "nbconvert_exporter": "python",
   "pygments_lexer": "ipython3",
   "version": "3.8.8"
  },
  "toc": {
   "base_numbering": 1,
   "nav_menu": {},
   "number_sections": true,
   "sideBar": true,
   "skip_h1_title": true,
   "title_cell": "Table of Contents",
   "title_sidebar": "Contents",
   "toc_cell": false,
   "toc_position": {},
   "toc_section_display": true,
   "toc_window_display": false
  }
 },
 "nbformat": 4,
 "nbformat_minor": 2
}
