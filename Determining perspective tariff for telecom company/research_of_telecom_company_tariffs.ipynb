{
 "cells": [
  {
   "cell_type": "markdown",
   "metadata": {
    "toc": true
   },
   "source": [
    "<h1>Содержание<span class=\"tocSkip\"></span></h1>\n",
    "<div class=\"toc\"><ul class=\"toc-item\"><li><span><a href=\"#Изучение-данных-из-файлов\" data-toc-modified-id=\"Изучение-данных-из-файлов-1\"><span class=\"toc-item-num\">1&nbsp;&nbsp;</span>Изучение данных из файлов</a></span><ul class=\"toc-item\"><li><span><a href=\"#Звонки\" data-toc-modified-id=\"Звонки-1.1\"><span class=\"toc-item-num\">1.1&nbsp;&nbsp;</span>Звонки</a></span></li><li><span><a href=\"#Интернет\" data-toc-modified-id=\"Интернет-1.2\"><span class=\"toc-item-num\">1.2&nbsp;&nbsp;</span>Интернет</a></span></li><li><span><a href=\"#Сообщения\" data-toc-modified-id=\"Сообщения-1.3\"><span class=\"toc-item-num\">1.3&nbsp;&nbsp;</span>Сообщения</a></span></li><li><span><a href=\"#Тарифы-и-пользователи\" data-toc-modified-id=\"Тарифы-и-пользователи-1.4\"><span class=\"toc-item-num\">1.4&nbsp;&nbsp;</span>Тарифы и пользователи</a></span></li><li><span><a href=\"#Вывод\" data-toc-modified-id=\"Вывод-1.5\"><span class=\"toc-item-num\">1.5&nbsp;&nbsp;</span>Вывод</a></span></li></ul></li><li><span><a href=\"#Предобработка-данных\" data-toc-modified-id=\"Предобработка-данных-2\"><span class=\"toc-item-num\">2&nbsp;&nbsp;</span>Предобработка данных</a></span><ul class=\"toc-item\"><li><span><a href=\"#Замена-типа-данных\" data-toc-modified-id=\"Замена-типа-данных-2.1\"><span class=\"toc-item-num\">2.1&nbsp;&nbsp;</span>Замена типа данных</a></span></li><li><span><a href=\"#Округление-значений-по-правилам-оператора\" data-toc-modified-id=\"Округление-значений-по-правилам-оператора-2.2\"><span class=\"toc-item-num\">2.2&nbsp;&nbsp;</span>Округление значений по правилам оператора</a></span></li><li><span><a href=\"#Расчет-и-добавление-результатов-в-таблицу\" data-toc-modified-id=\"Расчет-и-добавление-результатов-в-таблицу-2.3\"><span class=\"toc-item-num\">2.3&nbsp;&nbsp;</span>Расчет и добавление результатов в таблицу</a></span></li><li><span><a href=\"#Вывод\" data-toc-modified-id=\"Вывод-2.4\"><span class=\"toc-item-num\">2.4&nbsp;&nbsp;</span>Вывод</a></span></li></ul></li><li><span><a href=\"#Анализ-данных\" data-toc-modified-id=\"Анализ-данных-3\"><span class=\"toc-item-num\">3&nbsp;&nbsp;</span>Анализ данных</a></span><ul class=\"toc-item\"><li><span><a href=\"#Сообщения\" data-toc-modified-id=\"Сообщения-3.1\"><span class=\"toc-item-num\">3.1&nbsp;&nbsp;</span>Сообщения</a></span></li><li><span><a href=\"#Интернет-трафик\" data-toc-modified-id=\"Интернет-трафик-3.2\"><span class=\"toc-item-num\">3.2&nbsp;&nbsp;</span>Интернет трафик</a></span></li><li><span><a href=\"#Минуты\" data-toc-modified-id=\"Минуты-3.3\"><span class=\"toc-item-num\">3.3&nbsp;&nbsp;</span>Минуты</a></span></li><li><span><a href=\"#Выручка\" data-toc-modified-id=\"Выручка-3.4\"><span class=\"toc-item-num\">3.4&nbsp;&nbsp;</span>Выручка</a></span></li><li><span><a href=\"#Вывод\" data-toc-modified-id=\"Вывод-3.5\"><span class=\"toc-item-num\">3.5&nbsp;&nbsp;</span>Вывод</a></span></li></ul></li><li><span><a href=\"#Проверка-гипотез\" data-toc-modified-id=\"Проверка-гипотез-4\"><span class=\"toc-item-num\">4&nbsp;&nbsp;</span>Проверка гипотез</a></span><ul class=\"toc-item\"><li><span><a href=\"#Первая-гипотеза\" data-toc-modified-id=\"Первая-гипотеза-4.1\"><span class=\"toc-item-num\">4.1&nbsp;&nbsp;</span>Первая гипотеза</a></span></li><li><span><a href=\"#Вторая-гипотеза\" data-toc-modified-id=\"Вторая-гипотеза-4.2\"><span class=\"toc-item-num\">4.2&nbsp;&nbsp;</span>Вторая гипотеза</a></span></li><li><span><a href=\"#Вывод\" data-toc-modified-id=\"Вывод-4.3\"><span class=\"toc-item-num\">4.3&nbsp;&nbsp;</span>Вывод</a></span></li></ul></li><li><span><a href=\"#Общий-вывод\" data-toc-modified-id=\"Общий-вывод-5\"><span class=\"toc-item-num\">5&nbsp;&nbsp;</span>Общий вывод</a></span></li></ul></div>"
   ]
  },
  {
   "cell_type": "markdown",
   "metadata": {},
   "source": [
    "# Определение перспективного тарифа для телеком компании\n",
    "\n",
    "Вы аналитик компании «Мегалайн» — федерального оператора сотовой связи. Клиентам предлагают два тарифных плана: «Смарт» и «Ультра». Чтобы скорректировать рекламный бюджет, коммерческий департамент хочет понять, какой тариф приносит больше денег.\n",
    "Вам предстоит сделать предварительный анализ тарифов на небольшой выборке клиентов. В вашем распоряжении данные 500 пользователей «Мегалайна»: кто они, откуда, каким тарифом пользуются, сколько звонков и сообщений каждый отправил за 2018 год. Нужно проанализировать поведение клиентов и сделать вывод — какой тариф лучше.\n",
    "\n",
    "**Описание тарифов**\n",
    "\n",
    "<br>\n",
    "<table align='left'>\n",
    "    <tr><td><b>Тариф \"Смарт\"</b><br>550р/мес</td></tr>\n",
    "    <tr><td></td><td>Минуты</td><td>Сообщения</td><td>Трафик</td></tr>\n",
    "    <tr><td>Тарифный пакет:</td><td>500</td><td>50</td><td>15 Гб</td></tr>\n",
    "    <tr><td>Сверх пакета:<br>(1мин - 1sms - 1Гб)</td><td>3р</td><td>3р</td><td>200р</td></tr>\n",
    "</table>     \n",
    "<table align='center'>\n",
    "    <tr><td><b>Тариф \"Ультра\"</b><br>1950р/мес</td></tr>\n",
    "    <tr><td></td><td>Минуты</td><td>Сообщения</td><td>Трафик</td></tr>\n",
    "    <tr><td>Тарифный пакет:</td><td>3000</td><td>1000</td><td>30 Гб</td></tr>\n",
    "    <tr><td>Сверх пакета:<br>(1мин - 1sms - 1Гб)</td><td>1р</td><td>1р</td><td>150р</td></tr>\n",
    "</table>\n",
    "<br>\n",
    "\n",
    "\n",
    "«Мегалайн» всегда округляет секунды до минут, а мегабайты — до гигабайт. Каждый звонок округляется отдельно: даже если он длился всего 1 секунду, будет засчитан как 1 минута.\n",
    "Для веб-трафика отдельные сессии не считаются. Вместо этого общая сумма за месяц округляется в бо́льшую сторону. Если абонент использует 1025 мегабайт в этом месяце, с него возьмут плату за 2 гигабайта."
   ]
  },
  {
   "cell_type": "markdown",
   "metadata": {},
   "source": [
    "## Изучение данных из файлов"
   ]
  },
  {
   "cell_type": "markdown",
   "metadata": {},
   "source": [
    "Импортируем необходимые библиотеки для работы с таблицами и графиками. Сохраним CSV файлы в переменные."
   ]
  },
  {
   "cell_type": "code",
   "execution_count": 1,
   "metadata": {},
   "outputs": [],
   "source": [
    "import pandas as pd\n",
    "import matplotlib.pyplot as plt\n",
    "import seaborn as sns\n",
    "import numpy as np\n",
    "from scipy import stats as st\n",
    "from functools import reduce\n",
    "from math import ceil"
   ]
  },
  {
   "cell_type": "code",
   "execution_count": 2,
   "metadata": {},
   "outputs": [],
   "source": [
    "calls = pd.read_csv('datasets/calls.csv')\n",
    "internet = pd.read_csv('datasets/internet.csv', index_col=0)\n",
    "messages = pd.read_csv('datasets/messages.csv')\n",
    "tariffs = pd.read_csv('datasets/tariffs.csv')\n",
    "users = pd.read_csv('datasets/users.csv')"
   ]
  },
  {
   "cell_type": "markdown",
   "metadata": {},
   "source": [
    "Проверим общую информацию и первые пять строк каждого датасета."
   ]
  },
  {
   "cell_type": "markdown",
   "metadata": {},
   "source": [
    "### Звонки"
   ]
  },
  {
   "cell_type": "code",
   "execution_count": 3,
   "metadata": {
    "scrolled": false
   },
   "outputs": [
    {
     "name": "stdout",
     "output_type": "stream",
     "text": [
      "<class 'pandas.core.frame.DataFrame'>\n",
      "RangeIndex: 202607 entries, 0 to 202606\n",
      "Data columns (total 4 columns):\n",
      " #   Column     Non-Null Count   Dtype  \n",
      "---  ------     --------------   -----  \n",
      " 0   id         202607 non-null  object \n",
      " 1   call_date  202607 non-null  object \n",
      " 2   duration   202607 non-null  float64\n",
      " 3   user_id    202607 non-null  int64  \n",
      "dtypes: float64(1), int64(1), object(2)\n",
      "memory usage: 6.2+ MB\n"
     ]
    },
    {
     "data": {
      "text/html": [
       "<div>\n",
       "<style scoped>\n",
       "    .dataframe tbody tr th:only-of-type {\n",
       "        vertical-align: middle;\n",
       "    }\n",
       "\n",
       "    .dataframe tbody tr th {\n",
       "        vertical-align: top;\n",
       "    }\n",
       "\n",
       "    .dataframe thead th {\n",
       "        text-align: right;\n",
       "    }\n",
       "</style>\n",
       "<table border=\"1\" class=\"dataframe\">\n",
       "  <thead>\n",
       "    <tr style=\"text-align: right;\">\n",
       "      <th></th>\n",
       "      <th>id</th>\n",
       "      <th>call_date</th>\n",
       "      <th>duration</th>\n",
       "      <th>user_id</th>\n",
       "    </tr>\n",
       "  </thead>\n",
       "  <tbody>\n",
       "    <tr>\n",
       "      <th>0</th>\n",
       "      <td>1000_0</td>\n",
       "      <td>2018-07-25</td>\n",
       "      <td>0.00</td>\n",
       "      <td>1000</td>\n",
       "    </tr>\n",
       "    <tr>\n",
       "      <th>1</th>\n",
       "      <td>1000_1</td>\n",
       "      <td>2018-08-17</td>\n",
       "      <td>0.00</td>\n",
       "      <td>1000</td>\n",
       "    </tr>\n",
       "    <tr>\n",
       "      <th>2</th>\n",
       "      <td>1000_2</td>\n",
       "      <td>2018-06-11</td>\n",
       "      <td>2.85</td>\n",
       "      <td>1000</td>\n",
       "    </tr>\n",
       "    <tr>\n",
       "      <th>3</th>\n",
       "      <td>1000_3</td>\n",
       "      <td>2018-09-21</td>\n",
       "      <td>13.80</td>\n",
       "      <td>1000</td>\n",
       "    </tr>\n",
       "    <tr>\n",
       "      <th>4</th>\n",
       "      <td>1000_4</td>\n",
       "      <td>2018-12-15</td>\n",
       "      <td>5.18</td>\n",
       "      <td>1000</td>\n",
       "    </tr>\n",
       "  </tbody>\n",
       "</table>\n",
       "</div>"
      ],
      "text/plain": [
       "       id   call_date  duration  user_id\n",
       "0  1000_0  2018-07-25      0.00     1000\n",
       "1  1000_1  2018-08-17      0.00     1000\n",
       "2  1000_2  2018-06-11      2.85     1000\n",
       "3  1000_3  2018-09-21     13.80     1000\n",
       "4  1000_4  2018-12-15      5.18     1000"
      ]
     },
     "execution_count": 3,
     "metadata": {},
     "output_type": "execute_result"
    }
   ],
   "source": [
    "calls.info()\n",
    "calls.head()"
   ]
  },
  {
   "cell_type": "markdown",
   "metadata": {},
   "source": [
    "Оператор округляет продолжительность каждого звонка до минут в большую сторону. Столбец *duration* необходимо округлить в соответствии с правилами оператора."
   ]
  },
  {
   "cell_type": "code",
   "execution_count": 4,
   "metadata": {},
   "outputs": [
    {
     "data": {
      "text/plain": [
       "count    202607.000000\n",
       "mean          6.755887\n",
       "std           5.843365\n",
       "min           0.000000\n",
       "25%           1.300000\n",
       "50%           6.000000\n",
       "75%          10.700000\n",
       "max          38.000000\n",
       "Name: duration, dtype: float64"
      ]
     },
     "execution_count": 4,
     "metadata": {},
     "output_type": "execute_result"
    }
   ],
   "source": [
    "old_calls = calls['duration'].describe()\n",
    "old_calls"
   ]
  },
  {
   "cell_type": "markdown",
   "metadata": {},
   "source": [
    "Интересны значения равные нулю. Это могут быть пропущенные звонки, либо просто ошибочные данные. По условиям оператора засчитываются звонки имеющие хоть какую-то продолжительность, следовательно \"пропущенные\" вызовы не должны влиять на запас услуг пользователя.\n",
    "\n",
    "Тип данных столбца *call_date* - object. Его необходимо будет привести к datetime."
   ]
  },
  {
   "cell_type": "markdown",
   "metadata": {},
   "source": [
    "### Интернет"
   ]
  },
  {
   "cell_type": "code",
   "execution_count": 5,
   "metadata": {
    "scrolled": false
   },
   "outputs": [
    {
     "name": "stdout",
     "output_type": "stream",
     "text": [
      "<class 'pandas.core.frame.DataFrame'>\n",
      "Int64Index: 149396 entries, 0 to 149395\n",
      "Data columns (total 4 columns):\n",
      " #   Column        Non-Null Count   Dtype  \n",
      "---  ------        --------------   -----  \n",
      " 0   id            149396 non-null  object \n",
      " 1   mb_used       149396 non-null  float64\n",
      " 2   session_date  149396 non-null  object \n",
      " 3   user_id       149396 non-null  int64  \n",
      "dtypes: float64(1), int64(1), object(2)\n",
      "memory usage: 5.7+ MB\n"
     ]
    },
    {
     "data": {
      "text/html": [
       "<div>\n",
       "<style scoped>\n",
       "    .dataframe tbody tr th:only-of-type {\n",
       "        vertical-align: middle;\n",
       "    }\n",
       "\n",
       "    .dataframe tbody tr th {\n",
       "        vertical-align: top;\n",
       "    }\n",
       "\n",
       "    .dataframe thead th {\n",
       "        text-align: right;\n",
       "    }\n",
       "</style>\n",
       "<table border=\"1\" class=\"dataframe\">\n",
       "  <thead>\n",
       "    <tr style=\"text-align: right;\">\n",
       "      <th></th>\n",
       "      <th>id</th>\n",
       "      <th>mb_used</th>\n",
       "      <th>session_date</th>\n",
       "      <th>user_id</th>\n",
       "    </tr>\n",
       "  </thead>\n",
       "  <tbody>\n",
       "    <tr>\n",
       "      <th>0</th>\n",
       "      <td>1000_0</td>\n",
       "      <td>112.95</td>\n",
       "      <td>2018-11-25</td>\n",
       "      <td>1000</td>\n",
       "    </tr>\n",
       "    <tr>\n",
       "      <th>1</th>\n",
       "      <td>1000_1</td>\n",
       "      <td>1052.81</td>\n",
       "      <td>2018-09-07</td>\n",
       "      <td>1000</td>\n",
       "    </tr>\n",
       "    <tr>\n",
       "      <th>2</th>\n",
       "      <td>1000_2</td>\n",
       "      <td>1197.26</td>\n",
       "      <td>2018-06-25</td>\n",
       "      <td>1000</td>\n",
       "    </tr>\n",
       "    <tr>\n",
       "      <th>3</th>\n",
       "      <td>1000_3</td>\n",
       "      <td>550.27</td>\n",
       "      <td>2018-08-22</td>\n",
       "      <td>1000</td>\n",
       "    </tr>\n",
       "    <tr>\n",
       "      <th>4</th>\n",
       "      <td>1000_4</td>\n",
       "      <td>302.56</td>\n",
       "      <td>2018-09-24</td>\n",
       "      <td>1000</td>\n",
       "    </tr>\n",
       "  </tbody>\n",
       "</table>\n",
       "</div>"
      ],
      "text/plain": [
       "       id  mb_used session_date  user_id\n",
       "0  1000_0   112.95   2018-11-25     1000\n",
       "1  1000_1  1052.81   2018-09-07     1000\n",
       "2  1000_2  1197.26   2018-06-25     1000\n",
       "3  1000_3   550.27   2018-08-22     1000\n",
       "4  1000_4   302.56   2018-09-24     1000"
      ]
     },
     "execution_count": 5,
     "metadata": {},
     "output_type": "execute_result"
    }
   ],
   "source": [
    "internet.info()\n",
    "internet.head()"
   ]
  },
  {
   "cell_type": "code",
   "execution_count": 6,
   "metadata": {},
   "outputs": [
    {
     "data": {
      "text/plain": [
       "count    149396.000000\n",
       "mean        370.192426\n",
       "std         278.300951\n",
       "min           0.000000\n",
       "25%         138.187500\n",
       "50%         348.015000\n",
       "75%         559.552500\n",
       "max        1724.830000\n",
       "Name: mb_used, dtype: float64"
      ]
     },
     "execution_count": 6,
     "metadata": {},
     "output_type": "execute_result"
    }
   ],
   "source": [
    "internet['mb_used'].describe()"
   ]
  },
  {
   "cell_type": "markdown",
   "metadata": {},
   "source": [
    "Минимальное значение - 0, можно объяснить открытием интернет-сессии без передачи данных.\n",
    "\n",
    "Аналогично тип данных столбца *session_date* необходимо привести к datetime."
   ]
  },
  {
   "cell_type": "markdown",
   "metadata": {},
   "source": [
    "### Сообщения"
   ]
  },
  {
   "cell_type": "code",
   "execution_count": 7,
   "metadata": {
    "scrolled": true
   },
   "outputs": [
    {
     "name": "stdout",
     "output_type": "stream",
     "text": [
      "<class 'pandas.core.frame.DataFrame'>\n",
      "RangeIndex: 123036 entries, 0 to 123035\n",
      "Data columns (total 3 columns):\n",
      " #   Column        Non-Null Count   Dtype \n",
      "---  ------        --------------   ----- \n",
      " 0   id            123036 non-null  object\n",
      " 1   message_date  123036 non-null  object\n",
      " 2   user_id       123036 non-null  int64 \n",
      "dtypes: int64(1), object(2)\n",
      "memory usage: 2.8+ MB\n"
     ]
    },
    {
     "data": {
      "text/html": [
       "<div>\n",
       "<style scoped>\n",
       "    .dataframe tbody tr th:only-of-type {\n",
       "        vertical-align: middle;\n",
       "    }\n",
       "\n",
       "    .dataframe tbody tr th {\n",
       "        vertical-align: top;\n",
       "    }\n",
       "\n",
       "    .dataframe thead th {\n",
       "        text-align: right;\n",
       "    }\n",
       "</style>\n",
       "<table border=\"1\" class=\"dataframe\">\n",
       "  <thead>\n",
       "    <tr style=\"text-align: right;\">\n",
       "      <th></th>\n",
       "      <th>id</th>\n",
       "      <th>message_date</th>\n",
       "      <th>user_id</th>\n",
       "    </tr>\n",
       "  </thead>\n",
       "  <tbody>\n",
       "    <tr>\n",
       "      <th>0</th>\n",
       "      <td>1000_0</td>\n",
       "      <td>2018-06-27</td>\n",
       "      <td>1000</td>\n",
       "    </tr>\n",
       "    <tr>\n",
       "      <th>1</th>\n",
       "      <td>1000_1</td>\n",
       "      <td>2018-10-08</td>\n",
       "      <td>1000</td>\n",
       "    </tr>\n",
       "    <tr>\n",
       "      <th>2</th>\n",
       "      <td>1000_2</td>\n",
       "      <td>2018-08-04</td>\n",
       "      <td>1000</td>\n",
       "    </tr>\n",
       "    <tr>\n",
       "      <th>3</th>\n",
       "      <td>1000_3</td>\n",
       "      <td>2018-06-16</td>\n",
       "      <td>1000</td>\n",
       "    </tr>\n",
       "    <tr>\n",
       "      <th>4</th>\n",
       "      <td>1000_4</td>\n",
       "      <td>2018-12-05</td>\n",
       "      <td>1000</td>\n",
       "    </tr>\n",
       "  </tbody>\n",
       "</table>\n",
       "</div>"
      ],
      "text/plain": [
       "       id message_date  user_id\n",
       "0  1000_0   2018-06-27     1000\n",
       "1  1000_1   2018-10-08     1000\n",
       "2  1000_2   2018-08-04     1000\n",
       "3  1000_3   2018-06-16     1000\n",
       "4  1000_4   2018-12-05     1000"
      ]
     },
     "execution_count": 7,
     "metadata": {},
     "output_type": "execute_result"
    }
   ],
   "source": [
    "messages.info()\n",
    "messages.head()"
   ]
  },
  {
   "cell_type": "markdown",
   "metadata": {},
   "source": [
    "Столбец *id* содержит информацию о пользователе, который отправлял сообщение и порядковый номер сообщения.\n",
    "\n",
    "Тип данных столбца *message_date* также приведем к datetime."
   ]
  },
  {
   "cell_type": "markdown",
   "metadata": {},
   "source": [
    "### Тарифы и пользователи"
   ]
  },
  {
   "cell_type": "code",
   "execution_count": 8,
   "metadata": {},
   "outputs": [
    {
     "name": "stdout",
     "output_type": "stream",
     "text": [
      "<class 'pandas.core.frame.DataFrame'>\n",
      "RangeIndex: 2 entries, 0 to 1\n",
      "Data columns (total 8 columns):\n",
      " #   Column                 Non-Null Count  Dtype \n",
      "---  ------                 --------------  ----- \n",
      " 0   messages_included      2 non-null      int64 \n",
      " 1   mb_per_month_included  2 non-null      int64 \n",
      " 2   minutes_included       2 non-null      int64 \n",
      " 3   rub_monthly_fee        2 non-null      int64 \n",
      " 4   rub_per_gb             2 non-null      int64 \n",
      " 5   rub_per_message        2 non-null      int64 \n",
      " 6   rub_per_minute         2 non-null      int64 \n",
      " 7   tariff_name            2 non-null      object\n",
      "dtypes: int64(7), object(1)\n",
      "memory usage: 256.0+ bytes\n"
     ]
    },
    {
     "data": {
      "text/html": [
       "<div>\n",
       "<style scoped>\n",
       "    .dataframe tbody tr th:only-of-type {\n",
       "        vertical-align: middle;\n",
       "    }\n",
       "\n",
       "    .dataframe tbody tr th {\n",
       "        vertical-align: top;\n",
       "    }\n",
       "\n",
       "    .dataframe thead th {\n",
       "        text-align: right;\n",
       "    }\n",
       "</style>\n",
       "<table border=\"1\" class=\"dataframe\">\n",
       "  <thead>\n",
       "    <tr style=\"text-align: right;\">\n",
       "      <th></th>\n",
       "      <th>messages_included</th>\n",
       "      <th>mb_per_month_included</th>\n",
       "      <th>minutes_included</th>\n",
       "      <th>rub_monthly_fee</th>\n",
       "      <th>rub_per_gb</th>\n",
       "      <th>rub_per_message</th>\n",
       "      <th>rub_per_minute</th>\n",
       "      <th>tariff_name</th>\n",
       "    </tr>\n",
       "  </thead>\n",
       "  <tbody>\n",
       "    <tr>\n",
       "      <th>0</th>\n",
       "      <td>50</td>\n",
       "      <td>15360</td>\n",
       "      <td>500</td>\n",
       "      <td>550</td>\n",
       "      <td>200</td>\n",
       "      <td>3</td>\n",
       "      <td>3</td>\n",
       "      <td>smart</td>\n",
       "    </tr>\n",
       "    <tr>\n",
       "      <th>1</th>\n",
       "      <td>1000</td>\n",
       "      <td>30720</td>\n",
       "      <td>3000</td>\n",
       "      <td>1950</td>\n",
       "      <td>150</td>\n",
       "      <td>1</td>\n",
       "      <td>1</td>\n",
       "      <td>ultra</td>\n",
       "    </tr>\n",
       "  </tbody>\n",
       "</table>\n",
       "</div>"
      ],
      "text/plain": [
       "   messages_included  mb_per_month_included  minutes_included  \\\n",
       "0                 50                  15360               500   \n",
       "1               1000                  30720              3000   \n",
       "\n",
       "   rub_monthly_fee  rub_per_gb  rub_per_message  rub_per_minute tariff_name  \n",
       "0              550         200                3               3       smart  \n",
       "1             1950         150                1               1       ultra  "
      ]
     },
     "execution_count": 8,
     "metadata": {},
     "output_type": "execute_result"
    }
   ],
   "source": [
    "tariffs.info()\n",
    "tariffs"
   ]
  },
  {
   "cell_type": "code",
   "execution_count": 9,
   "metadata": {
    "scrolled": false
   },
   "outputs": [
    {
     "name": "stdout",
     "output_type": "stream",
     "text": [
      "<class 'pandas.core.frame.DataFrame'>\n",
      "RangeIndex: 500 entries, 0 to 499\n",
      "Data columns (total 8 columns):\n",
      " #   Column      Non-Null Count  Dtype \n",
      "---  ------      --------------  ----- \n",
      " 0   user_id     500 non-null    int64 \n",
      " 1   age         500 non-null    int64 \n",
      " 2   churn_date  38 non-null     object\n",
      " 3   city        500 non-null    object\n",
      " 4   first_name  500 non-null    object\n",
      " 5   last_name   500 non-null    object\n",
      " 6   reg_date    500 non-null    object\n",
      " 7   tariff      500 non-null    object\n",
      "dtypes: int64(2), object(6)\n",
      "memory usage: 31.4+ KB\n"
     ]
    },
    {
     "data": {
      "text/html": [
       "<div>\n",
       "<style scoped>\n",
       "    .dataframe tbody tr th:only-of-type {\n",
       "        vertical-align: middle;\n",
       "    }\n",
       "\n",
       "    .dataframe tbody tr th {\n",
       "        vertical-align: top;\n",
       "    }\n",
       "\n",
       "    .dataframe thead th {\n",
       "        text-align: right;\n",
       "    }\n",
       "</style>\n",
       "<table border=\"1\" class=\"dataframe\">\n",
       "  <thead>\n",
       "    <tr style=\"text-align: right;\">\n",
       "      <th></th>\n",
       "      <th>user_id</th>\n",
       "      <th>age</th>\n",
       "      <th>churn_date</th>\n",
       "      <th>city</th>\n",
       "      <th>first_name</th>\n",
       "      <th>last_name</th>\n",
       "      <th>reg_date</th>\n",
       "      <th>tariff</th>\n",
       "    </tr>\n",
       "  </thead>\n",
       "  <tbody>\n",
       "    <tr>\n",
       "      <th>0</th>\n",
       "      <td>1000</td>\n",
       "      <td>52</td>\n",
       "      <td>NaN</td>\n",
       "      <td>Краснодар</td>\n",
       "      <td>Рафаил</td>\n",
       "      <td>Верещагин</td>\n",
       "      <td>2018-05-25</td>\n",
       "      <td>ultra</td>\n",
       "    </tr>\n",
       "    <tr>\n",
       "      <th>1</th>\n",
       "      <td>1001</td>\n",
       "      <td>41</td>\n",
       "      <td>NaN</td>\n",
       "      <td>Москва</td>\n",
       "      <td>Иван</td>\n",
       "      <td>Ежов</td>\n",
       "      <td>2018-11-01</td>\n",
       "      <td>smart</td>\n",
       "    </tr>\n",
       "    <tr>\n",
       "      <th>2</th>\n",
       "      <td>1002</td>\n",
       "      <td>59</td>\n",
       "      <td>NaN</td>\n",
       "      <td>Стерлитамак</td>\n",
       "      <td>Евгений</td>\n",
       "      <td>Абрамович</td>\n",
       "      <td>2018-06-17</td>\n",
       "      <td>smart</td>\n",
       "    </tr>\n",
       "    <tr>\n",
       "      <th>3</th>\n",
       "      <td>1003</td>\n",
       "      <td>23</td>\n",
       "      <td>NaN</td>\n",
       "      <td>Москва</td>\n",
       "      <td>Белла</td>\n",
       "      <td>Белякова</td>\n",
       "      <td>2018-08-17</td>\n",
       "      <td>ultra</td>\n",
       "    </tr>\n",
       "    <tr>\n",
       "      <th>4</th>\n",
       "      <td>1004</td>\n",
       "      <td>68</td>\n",
       "      <td>NaN</td>\n",
       "      <td>Новокузнецк</td>\n",
       "      <td>Татьяна</td>\n",
       "      <td>Авдеенко</td>\n",
       "      <td>2018-05-14</td>\n",
       "      <td>ultra</td>\n",
       "    </tr>\n",
       "  </tbody>\n",
       "</table>\n",
       "</div>"
      ],
      "text/plain": [
       "   user_id  age churn_date         city first_name  last_name    reg_date  \\\n",
       "0     1000   52        NaN    Краснодар     Рафаил  Верещагин  2018-05-25   \n",
       "1     1001   41        NaN       Москва       Иван       Ежов  2018-11-01   \n",
       "2     1002   59        NaN  Стерлитамак    Евгений  Абрамович  2018-06-17   \n",
       "3     1003   23        NaN       Москва      Белла   Белякова  2018-08-17   \n",
       "4     1004   68        NaN  Новокузнецк    Татьяна   Авдеенко  2018-05-14   \n",
       "\n",
       "  tariff  \n",
       "0  ultra  \n",
       "1  smart  \n",
       "2  smart  \n",
       "3  ultra  \n",
       "4  ultra  "
      ]
     },
     "execution_count": 9,
     "metadata": {},
     "output_type": "execute_result"
    }
   ],
   "source": [
    "users.info()\n",
    "users.head()"
   ]
  },
  {
   "cell_type": "markdown",
   "metadata": {},
   "source": [
    "Тип данных в столбцах *reg_date* и *churn_date* приведем к datetime. Пропуски в *churn_date* указывают на то, что пользователь продолжает пользоваться тарифом."
   ]
  },
  {
   "cell_type": "markdown",
   "metadata": {},
   "source": [
    "### Вывод"
   ]
  },
  {
   "cell_type": "markdown",
   "metadata": {},
   "source": [
    "На этапе предобработки данных необходимо будет выполнить следующие действия:\n",
    "- привести типы данных столбцов с датами к типу datetime;\n",
    "- согласно правилам оператора обработать значения минут разговоров пользователей;\n",
    "- провести расчеты новых параметров, посчитать общую плату пользователей за пользование тарифом и дополнительными услугами."
   ]
  },
  {
   "cell_type": "markdown",
   "metadata": {},
   "source": [
    "## Предобработка данных"
   ]
  },
  {
   "cell_type": "markdown",
   "metadata": {},
   "source": [
    "### Замена типа данных"
   ]
  },
  {
   "cell_type": "markdown",
   "metadata": {},
   "source": [
    "Заменим тип данных на Datetime и проверим выполнение операций."
   ]
  },
  {
   "cell_type": "code",
   "execution_count": 10,
   "metadata": {},
   "outputs": [],
   "source": [
    "calls['call_date'] = pd.to_datetime(calls['call_date'])\n",
    "internet['session_date'] = pd.to_datetime(internet['session_date'])\n",
    "messages['message_date'] = pd.to_datetime(messages['message_date'])\n",
    "users['reg_date'] = pd.to_datetime(users['reg_date'])\n",
    "users['churn_date'] = pd.to_datetime(users['churn_date'])"
   ]
  },
  {
   "cell_type": "code",
   "execution_count": 11,
   "metadata": {},
   "outputs": [
    {
     "data": {
      "text/plain": [
       "call_date    datetime64[ns]\n",
       "dtype: object"
      ]
     },
     "execution_count": 11,
     "metadata": {},
     "output_type": "execute_result"
    }
   ],
   "source": [
    "calls[['call_date']].dtypes"
   ]
  },
  {
   "cell_type": "markdown",
   "metadata": {},
   "source": [
    "Данные успешно преобразованы."
   ]
  },
  {
   "cell_type": "markdown",
   "metadata": {},
   "source": [
    "### Округление значений по правилам оператора"
   ]
  },
  {
   "cell_type": "markdown",
   "metadata": {},
   "source": [
    ">«Мегалайн» всегда округляет секунды до минут. Каждый звонок округляется отдельно: даже если он длился всего 1 секунду, будет засчитан как 1 минута.\n",
    "    \n",
    "Преобразуем значения столбца *duration* в таблице calls. И проверим изменения в характеристиках."
   ]
  },
  {
   "cell_type": "code",
   "execution_count": 12,
   "metadata": {},
   "outputs": [
    {
     "name": "stdout",
     "output_type": "stream",
     "text": [
      "count    202607.000000\n",
      "mean          7.158198\n",
      "std           5.959173\n",
      "min           0.000000\n",
      "25%           2.000000\n",
      "50%           6.000000\n",
      "75%          11.000000\n",
      "max          38.000000\n",
      "Name: duration, dtype: float64\n",
      "\n",
      "count    202607.000000\n",
      "mean          6.755887\n",
      "std           5.843365\n",
      "min           0.000000\n",
      "25%           1.300000\n",
      "50%           6.000000\n",
      "75%          10.700000\n",
      "max          38.000000\n",
      "Name: duration, dtype: float64\n"
     ]
    }
   ],
   "source": [
    "calls['duration'] = np.ceil(calls['duration'])\n",
    "\n",
    "print(calls['duration'].describe(), old_calls, sep='\\n\\n')"
   ]
  },
  {
   "cell_type": "code",
   "execution_count": 13,
   "metadata": {},
   "outputs": [
    {
     "name": "stdout",
     "output_type": "stream",
     "text": [
      "Среднее количество минут, после округления увеличилось на 5.95%\n"
     ]
    }
   ],
   "source": [
    "print('Среднее количество минут, после округления увеличилось на {:.2%}'.format(\n",
    "    calls['duration'].mean() / old_calls['mean'] - 1))"
   ]
  },
  {
   "cell_type": "markdown",
   "metadata": {},
   "source": [
    "### Расчет и добавление результатов в таблицу"
   ]
  },
  {
   "cell_type": "markdown",
   "metadata": {},
   "source": [
    "Добавим в таблицы *messages*, *minutes* и *traffic_volume* столбцы со значением месяца (*month*). Составим сводные таблицы сгруппированные по *user_id* и *month*. Значения сводных таблиц - число сообщений, количество и продолжительность вызовов и объем использованного трафика каждым пользователем помесячно."
   ]
  },
  {
   "cell_type": "code",
   "execution_count": 14,
   "metadata": {
    "scrolled": true
   },
   "outputs": [
    {
     "data": {
      "text/html": [
       "<div>\n",
       "<style scoped>\n",
       "    .dataframe tbody tr th:only-of-type {\n",
       "        vertical-align: middle;\n",
       "    }\n",
       "\n",
       "    .dataframe tbody tr th {\n",
       "        vertical-align: top;\n",
       "    }\n",
       "\n",
       "    .dataframe thead th {\n",
       "        text-align: right;\n",
       "    }\n",
       "</style>\n",
       "<table border=\"1\" class=\"dataframe\">\n",
       "  <thead>\n",
       "    <tr style=\"text-align: right;\">\n",
       "      <th></th>\n",
       "      <th></th>\n",
       "      <th>messages</th>\n",
       "    </tr>\n",
       "    <tr>\n",
       "      <th>user_id</th>\n",
       "      <th>month</th>\n",
       "      <th></th>\n",
       "    </tr>\n",
       "  </thead>\n",
       "  <tbody>\n",
       "    <tr>\n",
       "      <th rowspan=\"8\" valign=\"top\">1000</th>\n",
       "      <th>5</th>\n",
       "      <td>22</td>\n",
       "    </tr>\n",
       "    <tr>\n",
       "      <th>6</th>\n",
       "      <td>60</td>\n",
       "    </tr>\n",
       "    <tr>\n",
       "      <th>7</th>\n",
       "      <td>75</td>\n",
       "    </tr>\n",
       "    <tr>\n",
       "      <th>8</th>\n",
       "      <td>81</td>\n",
       "    </tr>\n",
       "    <tr>\n",
       "      <th>9</th>\n",
       "      <td>57</td>\n",
       "    </tr>\n",
       "    <tr>\n",
       "      <th>10</th>\n",
       "      <td>73</td>\n",
       "    </tr>\n",
       "    <tr>\n",
       "      <th>11</th>\n",
       "      <td>58</td>\n",
       "    </tr>\n",
       "    <tr>\n",
       "      <th>12</th>\n",
       "      <td>70</td>\n",
       "    </tr>\n",
       "    <tr>\n",
       "      <th rowspan=\"2\" valign=\"top\">1002</th>\n",
       "      <th>6</th>\n",
       "      <td>4</td>\n",
       "    </tr>\n",
       "    <tr>\n",
       "      <th>7</th>\n",
       "      <td>11</td>\n",
       "    </tr>\n",
       "  </tbody>\n",
       "</table>\n",
       "</div>"
      ],
      "text/plain": [
       "               messages\n",
       "user_id month          \n",
       "1000    5            22\n",
       "        6            60\n",
       "        7            75\n",
       "        8            81\n",
       "        9            57\n",
       "        10           73\n",
       "        11           58\n",
       "        12           70\n",
       "1002    6             4\n",
       "        7            11"
      ]
     },
     "execution_count": 14,
     "metadata": {},
     "output_type": "execute_result"
    }
   ],
   "source": [
    "messages['month'] = messages['message_date'].dt.month\n",
    "\n",
    "messages_per_month = messages.pivot_table(\n",
    "    index=['user_id', 'month'], \n",
    "    values='id', \n",
    "    aggfunc='count')\n",
    "\n",
    "messages_per_month.columns = ['messages']\n",
    "\n",
    "messages_per_month.head(10)"
   ]
  },
  {
   "cell_type": "markdown",
   "metadata": {},
   "source": [
    "Для объема трафика значения трафика за месяц переведем в гигабайты и округлим в соответствии с правилами оператора вверх до целого гигабайта."
   ]
  },
  {
   "cell_type": "code",
   "execution_count": 15,
   "metadata": {
    "scrolled": false
   },
   "outputs": [
    {
     "data": {
      "text/html": [
       "<div>\n",
       "<style scoped>\n",
       "    .dataframe tbody tr th:only-of-type {\n",
       "        vertical-align: middle;\n",
       "    }\n",
       "\n",
       "    .dataframe tbody tr th {\n",
       "        vertical-align: top;\n",
       "    }\n",
       "\n",
       "    .dataframe thead th {\n",
       "        text-align: right;\n",
       "    }\n",
       "</style>\n",
       "<table border=\"1\" class=\"dataframe\">\n",
       "  <thead>\n",
       "    <tr style=\"text-align: right;\">\n",
       "      <th></th>\n",
       "      <th></th>\n",
       "      <th>traffic_volume</th>\n",
       "    </tr>\n",
       "    <tr>\n",
       "      <th>user_id</th>\n",
       "      <th>month</th>\n",
       "      <th></th>\n",
       "    </tr>\n",
       "  </thead>\n",
       "  <tbody>\n",
       "    <tr>\n",
       "      <th rowspan=\"8\" valign=\"top\">1000</th>\n",
       "      <th>5</th>\n",
       "      <td>3.0</td>\n",
       "    </tr>\n",
       "    <tr>\n",
       "      <th>6</th>\n",
       "      <td>23.0</td>\n",
       "    </tr>\n",
       "    <tr>\n",
       "      <th>7</th>\n",
       "      <td>14.0</td>\n",
       "    </tr>\n",
       "    <tr>\n",
       "      <th>8</th>\n",
       "      <td>14.0</td>\n",
       "    </tr>\n",
       "    <tr>\n",
       "      <th>9</th>\n",
       "      <td>15.0</td>\n",
       "    </tr>\n",
       "    <tr>\n",
       "      <th>10</th>\n",
       "      <td>15.0</td>\n",
       "    </tr>\n",
       "    <tr>\n",
       "      <th>11</th>\n",
       "      <td>15.0</td>\n",
       "    </tr>\n",
       "    <tr>\n",
       "      <th>12</th>\n",
       "      <td>10.0</td>\n",
       "    </tr>\n",
       "    <tr>\n",
       "      <th rowspan=\"2\" valign=\"top\">1001</th>\n",
       "      <th>11</th>\n",
       "      <td>18.0</td>\n",
       "    </tr>\n",
       "    <tr>\n",
       "      <th>12</th>\n",
       "      <td>14.0</td>\n",
       "    </tr>\n",
       "  </tbody>\n",
       "</table>\n",
       "</div>"
      ],
      "text/plain": [
       "               traffic_volume\n",
       "user_id month                \n",
       "1000    5                 3.0\n",
       "        6                23.0\n",
       "        7                14.0\n",
       "        8                14.0\n",
       "        9                15.0\n",
       "        10               15.0\n",
       "        11               15.0\n",
       "        12               10.0\n",
       "1001    11               18.0\n",
       "        12               14.0"
      ]
     },
     "execution_count": 15,
     "metadata": {},
     "output_type": "execute_result"
    }
   ],
   "source": [
    "internet['month'] = internet['session_date'].dt.month\n",
    "\n",
    "internet_per_month = internet.pivot_table(\n",
    "    index=['user_id', 'month'], \n",
    "    values='mb_used', \n",
    "    aggfunc='sum')\n",
    "\n",
    "internet_per_month.columns = ['traffic_volume']\n",
    "internet_per_month['traffic_volume'] = np.ceil(internet_per_month['traffic_volume'] / 1024)\n",
    "\n",
    "internet_per_month.head(10)"
   ]
  },
  {
   "cell_type": "code",
   "execution_count": 16,
   "metadata": {},
   "outputs": [
    {
     "data": {
      "text/html": [
       "<div>\n",
       "<style scoped>\n",
       "    .dataframe tbody tr th:only-of-type {\n",
       "        vertical-align: middle;\n",
       "    }\n",
       "\n",
       "    .dataframe tbody tr th {\n",
       "        vertical-align: top;\n",
       "    }\n",
       "\n",
       "    .dataframe thead th {\n",
       "        text-align: right;\n",
       "    }\n",
       "</style>\n",
       "<table border=\"1\" class=\"dataframe\">\n",
       "  <thead>\n",
       "    <tr style=\"text-align: right;\">\n",
       "      <th></th>\n",
       "      <th></th>\n",
       "      <th>minutes</th>\n",
       "      <th>calls</th>\n",
       "    </tr>\n",
       "    <tr>\n",
       "      <th>user_id</th>\n",
       "      <th>month</th>\n",
       "      <th></th>\n",
       "      <th></th>\n",
       "    </tr>\n",
       "  </thead>\n",
       "  <tbody>\n",
       "    <tr>\n",
       "      <th rowspan=\"8\" valign=\"top\">1000</th>\n",
       "      <th>5</th>\n",
       "      <td>159.0</td>\n",
       "      <td>17</td>\n",
       "    </tr>\n",
       "    <tr>\n",
       "      <th>6</th>\n",
       "      <td>172.0</td>\n",
       "      <td>28</td>\n",
       "    </tr>\n",
       "    <tr>\n",
       "      <th>7</th>\n",
       "      <td>340.0</td>\n",
       "      <td>41</td>\n",
       "    </tr>\n",
       "    <tr>\n",
       "      <th>8</th>\n",
       "      <td>408.0</td>\n",
       "      <td>42</td>\n",
       "    </tr>\n",
       "    <tr>\n",
       "      <th>9</th>\n",
       "      <td>466.0</td>\n",
       "      <td>46</td>\n",
       "    </tr>\n",
       "    <tr>\n",
       "      <th>10</th>\n",
       "      <td>350.0</td>\n",
       "      <td>44</td>\n",
       "    </tr>\n",
       "    <tr>\n",
       "      <th>11</th>\n",
       "      <td>338.0</td>\n",
       "      <td>37</td>\n",
       "    </tr>\n",
       "    <tr>\n",
       "      <th>12</th>\n",
       "      <td>333.0</td>\n",
       "      <td>38</td>\n",
       "    </tr>\n",
       "    <tr>\n",
       "      <th rowspan=\"2\" valign=\"top\">1001</th>\n",
       "      <th>11</th>\n",
       "      <td>430.0</td>\n",
       "      <td>45</td>\n",
       "    </tr>\n",
       "    <tr>\n",
       "      <th>12</th>\n",
       "      <td>414.0</td>\n",
       "      <td>47</td>\n",
       "    </tr>\n",
       "  </tbody>\n",
       "</table>\n",
       "</div>"
      ],
      "text/plain": [
       "               minutes  calls\n",
       "user_id month                \n",
       "1000    5        159.0     17\n",
       "        6        172.0     28\n",
       "        7        340.0     41\n",
       "        8        408.0     42\n",
       "        9        466.0     46\n",
       "        10       350.0     44\n",
       "        11       338.0     37\n",
       "        12       333.0     38\n",
       "1001    11       430.0     45\n",
       "        12       414.0     47"
      ]
     },
     "execution_count": 16,
     "metadata": {},
     "output_type": "execute_result"
    }
   ],
   "source": [
    "calls['month'] = calls['call_date'].dt.month\n",
    "\n",
    "calls_per_month = calls.query('duration > 0').pivot_table(\n",
    "    index=['user_id', 'month'], \n",
    "    values=['duration', 'id'], \n",
    "    aggfunc={'duration':'sum', 'id':'count'})\n",
    "\n",
    "calls_per_month.columns = ['minutes', 'calls']\n",
    "\n",
    "calls_per_month.head(10)"
   ]
  },
  {
   "cell_type": "markdown",
   "metadata": {},
   "source": [
    "Объединим полученные данные в общую сводную таблицу. Пропущенные значения заполним нулем, так как пропуски означают, что услуга в указанные месяц клиентом не использовалась. Добавим в таблицу название используемого тарифа."
   ]
  },
  {
   "cell_type": "code",
   "execution_count": 17,
   "metadata": {},
   "outputs": [
    {
     "data": {
      "text/html": [
       "<div>\n",
       "<style scoped>\n",
       "    .dataframe tbody tr th:only-of-type {\n",
       "        vertical-align: middle;\n",
       "    }\n",
       "\n",
       "    .dataframe tbody tr th {\n",
       "        vertical-align: top;\n",
       "    }\n",
       "\n",
       "    .dataframe thead th {\n",
       "        text-align: right;\n",
       "    }\n",
       "</style>\n",
       "<table border=\"1\" class=\"dataframe\">\n",
       "  <thead>\n",
       "    <tr style=\"text-align: right;\">\n",
       "      <th></th>\n",
       "      <th></th>\n",
       "      <th>messages</th>\n",
       "      <th>traffic_volume</th>\n",
       "      <th>minutes</th>\n",
       "      <th>calls</th>\n",
       "      <th>tariff</th>\n",
       "    </tr>\n",
       "    <tr>\n",
       "      <th>user_id</th>\n",
       "      <th>month</th>\n",
       "      <th></th>\n",
       "      <th></th>\n",
       "      <th></th>\n",
       "      <th></th>\n",
       "      <th></th>\n",
       "    </tr>\n",
       "  </thead>\n",
       "  <tbody>\n",
       "    <tr>\n",
       "      <th>1050</th>\n",
       "      <th>7</th>\n",
       "      <td>52.0</td>\n",
       "      <td>35.0</td>\n",
       "      <td>209.0</td>\n",
       "      <td>26.0</td>\n",
       "      <td>ultra</td>\n",
       "    </tr>\n",
       "    <tr>\n",
       "      <th>1060</th>\n",
       "      <th>12</th>\n",
       "      <td>52.0</td>\n",
       "      <td>43.0</td>\n",
       "      <td>1233.0</td>\n",
       "      <td>144.0</td>\n",
       "      <td>ultra</td>\n",
       "    </tr>\n",
       "    <tr>\n",
       "      <th rowspan=\"3\" valign=\"top\">1124</th>\n",
       "      <th>10</th>\n",
       "      <td>121.0</td>\n",
       "      <td>49.0</td>\n",
       "      <td>1225.0</td>\n",
       "      <td>130.0</td>\n",
       "      <td>ultra</td>\n",
       "    </tr>\n",
       "    <tr>\n",
       "      <th>11</th>\n",
       "      <td>95.0</td>\n",
       "      <td>36.0</td>\n",
       "      <td>1127.0</td>\n",
       "      <td>134.0</td>\n",
       "      <td>ultra</td>\n",
       "    </tr>\n",
       "    <tr>\n",
       "      <th>12</th>\n",
       "      <td>120.0</td>\n",
       "      <td>39.0</td>\n",
       "      <td>1106.0</td>\n",
       "      <td>120.0</td>\n",
       "      <td>ultra</td>\n",
       "    </tr>\n",
       "    <tr>\n",
       "      <th>...</th>\n",
       "      <th>...</th>\n",
       "      <td>...</td>\n",
       "      <td>...</td>\n",
       "      <td>...</td>\n",
       "      <td>...</td>\n",
       "      <td>...</td>\n",
       "    </tr>\n",
       "    <tr>\n",
       "      <th>1442</th>\n",
       "      <th>12</th>\n",
       "      <td>0.0</td>\n",
       "      <td>39.0</td>\n",
       "      <td>109.0</td>\n",
       "      <td>14.0</td>\n",
       "      <td>ultra</td>\n",
       "    </tr>\n",
       "    <tr>\n",
       "      <th rowspan=\"4\" valign=\"top\">1469</th>\n",
       "      <th>8</th>\n",
       "      <td>0.0</td>\n",
       "      <td>33.0</td>\n",
       "      <td>779.0</td>\n",
       "      <td>88.0</td>\n",
       "      <td>ultra</td>\n",
       "    </tr>\n",
       "    <tr>\n",
       "      <th>9</th>\n",
       "      <td>0.0</td>\n",
       "      <td>33.0</td>\n",
       "      <td>763.0</td>\n",
       "      <td>83.0</td>\n",
       "      <td>ultra</td>\n",
       "    </tr>\n",
       "    <tr>\n",
       "      <th>10</th>\n",
       "      <td>0.0</td>\n",
       "      <td>33.0</td>\n",
       "      <td>908.0</td>\n",
       "      <td>101.0</td>\n",
       "      <td>ultra</td>\n",
       "    </tr>\n",
       "    <tr>\n",
       "      <th>11</th>\n",
       "      <td>0.0</td>\n",
       "      <td>35.0</td>\n",
       "      <td>795.0</td>\n",
       "      <td>88.0</td>\n",
       "      <td>ultra</td>\n",
       "    </tr>\n",
       "  </tbody>\n",
       "</table>\n",
       "<p>134 rows × 5 columns</p>\n",
       "</div>"
      ],
      "text/plain": [
       "               messages  traffic_volume  minutes  calls tariff\n",
       "user_id month                                                 \n",
       "1050    7          52.0            35.0    209.0   26.0  ultra\n",
       "1060    12         52.0            43.0   1233.0  144.0  ultra\n",
       "1124    10        121.0            49.0   1225.0  130.0  ultra\n",
       "        11         95.0            36.0   1127.0  134.0  ultra\n",
       "        12        120.0            39.0   1106.0  120.0  ultra\n",
       "...                 ...             ...      ...    ...    ...\n",
       "1442    12          0.0            39.0    109.0   14.0  ultra\n",
       "1469    8           0.0            33.0    779.0   88.0  ultra\n",
       "        9           0.0            33.0    763.0   83.0  ultra\n",
       "        10          0.0            33.0    908.0  101.0  ultra\n",
       "        11          0.0            35.0    795.0   88.0  ultra\n",
       "\n",
       "[134 rows x 5 columns]"
      ]
     },
     "execution_count": 17,
     "metadata": {},
     "output_type": "execute_result"
    }
   ],
   "source": [
    "users_data_by_month = reduce(lambda left, right: pd.merge(left, right, on=['user_id', 'month'], how='outer'), [messages_per_month, internet_per_month, calls_per_month])\n",
    "users_data_by_month = users_data_by_month.fillna(0).join(users.set_index('user_id')['tariff'])\n",
    "\n",
    "users_data_by_month.query('tariff==\"ultra\" & traffic_volume > 30')"
   ]
  },
  {
   "cell_type": "markdown",
   "metadata": {},
   "source": [
    "Проверим все-ли пользователи попали в сводную таблицу."
   ]
  },
  {
   "cell_type": "code",
   "execution_count": 18,
   "metadata": {
    "scrolled": true
   },
   "outputs": [
    {
     "name": "stdout",
     "output_type": "stream",
     "text": [
      "В сводной таблице пропущенны пользователи с идентификаторами: {1128, 1371}\n"
     ]
    }
   ],
   "source": [
    "users_indexes = (users_data_by_month.index.get_level_values)(0)\n",
    "missed_ids = set(users_indexes).symmetric_difference(set(users['user_id']))\n",
    "\n",
    "print('В сводной таблице пропущенны пользователи с идентификаторами:', missed_ids)"
   ]
  },
  {
   "cell_type": "markdown",
   "metadata": {},
   "source": [
    "Проверим записи этих пользователей."
   ]
  },
  {
   "cell_type": "code",
   "execution_count": 19,
   "metadata": {
    "scrolled": true
   },
   "outputs": [
    {
     "name": "stdout",
     "output_type": "stream",
     "text": [
      "Empty DataFrame\n",
      "Columns: [id, message_date, user_id, month]\n",
      "Index: []\n",
      "\n",
      "Empty DataFrame\n",
      "Columns: [id, call_date, duration, user_id, month]\n",
      "Index: []\n",
      "\n",
      "Empty DataFrame\n",
      "Columns: [id, mb_used, session_date, user_id, month]\n",
      "Index: []\n"
     ]
    }
   ],
   "source": [
    "print(messages.query('user_id in @missed_ids'), \n",
    "      calls.query('user_id in @missed_ids'), \n",
    "      internet.query('user_id in @missed_ids'), sep='\\n\\n')"
   ]
  },
  {
   "cell_type": "code",
   "execution_count": 20,
   "metadata": {},
   "outputs": [
    {
     "data": {
      "text/html": [
       "<div>\n",
       "<style scoped>\n",
       "    .dataframe tbody tr th:only-of-type {\n",
       "        vertical-align: middle;\n",
       "    }\n",
       "\n",
       "    .dataframe tbody tr th {\n",
       "        vertical-align: top;\n",
       "    }\n",
       "\n",
       "    .dataframe thead th {\n",
       "        text-align: right;\n",
       "    }\n",
       "</style>\n",
       "<table border=\"1\" class=\"dataframe\">\n",
       "  <thead>\n",
       "    <tr style=\"text-align: right;\">\n",
       "      <th></th>\n",
       "      <th>user_id</th>\n",
       "      <th>churn_date</th>\n",
       "      <th>reg_date</th>\n",
       "      <th>tariff</th>\n",
       "    </tr>\n",
       "  </thead>\n",
       "  <tbody>\n",
       "    <tr>\n",
       "      <th>128</th>\n",
       "      <td>1128</td>\n",
       "      <td>2018-12-23</td>\n",
       "      <td>2018-12-15</td>\n",
       "      <td>ultra</td>\n",
       "    </tr>\n",
       "    <tr>\n",
       "      <th>371</th>\n",
       "      <td>1371</td>\n",
       "      <td>2018-12-30</td>\n",
       "      <td>2018-12-25</td>\n",
       "      <td>smart</td>\n",
       "    </tr>\n",
       "  </tbody>\n",
       "</table>\n",
       "</div>"
      ],
      "text/plain": [
       "     user_id churn_date   reg_date tariff\n",
       "128     1128 2018-12-23 2018-12-15  ultra\n",
       "371     1371 2018-12-30 2018-12-25  smart"
      ]
     },
     "execution_count": 20,
     "metadata": {},
     "output_type": "execute_result"
    }
   ],
   "source": [
    "users.query('user_id in @missed_ids')[['user_id', 'churn_date', 'reg_date', 'tariff']]"
   ]
  },
  {
   "cell_type": "markdown",
   "metadata": {},
   "source": [
    "Оба отсутствующих в сводной таблице пользователя не пользовались услугами оператора. Даты регистрации и прекращения пользования тарифом различаются на 8 и 5 дней. Других данных по этим пользователям у нас нет. Хорошим вариантов будет уточнить у специалистов, составлявших выборку пользователей, вносили ли плату и пользовались ли услугами эти пользователи.\n",
    "\n",
    "Сравним суммы минут и количества сообщений в сводной таблице и исходных таблицах. "
   ]
  },
  {
   "cell_type": "code",
   "execution_count": 21,
   "metadata": {},
   "outputs": [
    {
     "name": "stdout",
     "output_type": "stream",
     "text": [
      "Суммы минут и количества сообщений в полученной таблице совпадают с суммами в исходных таблицах.\n"
     ]
    }
   ],
   "source": [
    "if users_data_by_month['messages'].sum() == messages.id.count() and \\\n",
    "users_data_by_month['minutes'].sum() == calls['duration'].sum():\n",
    "    print('Суммы минут и количества сообщений в полученной таблице совпадают с суммами в исходных таблицах.')\n",
    "else:\n",
    "    print('Суммы минут и количества сообщений не совпадают.')"
   ]
  },
  {
   "cell_type": "markdown",
   "metadata": {},
   "source": [
    "Посчитаем для каждого пользователя полученную выручку в каждом месяце. Вычтем пакетный лимит из суммарного количества звонков, сообщений и интернет-трафика; остаток умножим на значение из тарифного плана для услуг сверх пакета; прибавим абонентскую плату, соответствующую тарифному плану."
   ]
  },
  {
   "cell_type": "code",
   "execution_count": 22,
   "metadata": {},
   "outputs": [],
   "source": [
    "def calculate_proceeds(row):\n",
    "    user_id = row.name[0]\n",
    "    tariff = tariffs[tariffs['tariff_name']==row['tariff']]\n",
    "    \n",
    "    messages = row['messages'] - tariff['messages_included'].values\n",
    "    traffic_volume = row['traffic_volume'] - tariff['mb_per_month_included'].values / 1024\n",
    "    minutes = row['minutes'] - tariff['minutes_included'].values\n",
    "    \n",
    "    messages = 0 if messages < 0 else messages\n",
    "    traffic_volume = 0 if traffic_volume < 0 else traffic_volume\n",
    "    minutes = 0 if minutes < 0 else minutes\n",
    "    \n",
    "    result = (tariff['rub_monthly_fee'] \n",
    "              + messages * tariff['rub_per_message'] \n",
    "              + traffic_volume * tariff['rub_per_gb'] \n",
    "              + minutes * tariff['rub_per_minute'])\n",
    "    return result.values[0]\n",
    "    \n",
    "\n",
    "users_data_by_month['proceeds'] = users_data_by_month.apply(calculate_proceeds, axis=1).astype('int')"
   ]
  },
  {
   "cell_type": "code",
   "execution_count": 23,
   "metadata": {
    "scrolled": false
   },
   "outputs": [
    {
     "data": {
      "text/html": [
       "<div>\n",
       "<style scoped>\n",
       "    .dataframe tbody tr th:only-of-type {\n",
       "        vertical-align: middle;\n",
       "    }\n",
       "\n",
       "    .dataframe tbody tr th {\n",
       "        vertical-align: top;\n",
       "    }\n",
       "\n",
       "    .dataframe thead th {\n",
       "        text-align: right;\n",
       "    }\n",
       "</style>\n",
       "<table border=\"1\" class=\"dataframe\">\n",
       "  <thead>\n",
       "    <tr style=\"text-align: right;\">\n",
       "      <th></th>\n",
       "      <th></th>\n",
       "      <th>messages</th>\n",
       "      <th>traffic_volume</th>\n",
       "      <th>minutes</th>\n",
       "      <th>calls</th>\n",
       "      <th>tariff</th>\n",
       "      <th>proceeds</th>\n",
       "    </tr>\n",
       "    <tr>\n",
       "      <th>user_id</th>\n",
       "      <th>month</th>\n",
       "      <th></th>\n",
       "      <th></th>\n",
       "      <th></th>\n",
       "      <th></th>\n",
       "      <th></th>\n",
       "      <th></th>\n",
       "    </tr>\n",
       "  </thead>\n",
       "  <tbody>\n",
       "    <tr>\n",
       "      <th rowspan=\"8\" valign=\"top\">1000</th>\n",
       "      <th>5</th>\n",
       "      <td>22.0</td>\n",
       "      <td>3.0</td>\n",
       "      <td>159.0</td>\n",
       "      <td>17.0</td>\n",
       "      <td>ultra</td>\n",
       "      <td>1950</td>\n",
       "    </tr>\n",
       "    <tr>\n",
       "      <th>6</th>\n",
       "      <td>60.0</td>\n",
       "      <td>23.0</td>\n",
       "      <td>172.0</td>\n",
       "      <td>28.0</td>\n",
       "      <td>ultra</td>\n",
       "      <td>1950</td>\n",
       "    </tr>\n",
       "    <tr>\n",
       "      <th>7</th>\n",
       "      <td>75.0</td>\n",
       "      <td>14.0</td>\n",
       "      <td>340.0</td>\n",
       "      <td>41.0</td>\n",
       "      <td>ultra</td>\n",
       "      <td>1950</td>\n",
       "    </tr>\n",
       "    <tr>\n",
       "      <th>8</th>\n",
       "      <td>81.0</td>\n",
       "      <td>14.0</td>\n",
       "      <td>408.0</td>\n",
       "      <td>42.0</td>\n",
       "      <td>ultra</td>\n",
       "      <td>1950</td>\n",
       "    </tr>\n",
       "    <tr>\n",
       "      <th>9</th>\n",
       "      <td>57.0</td>\n",
       "      <td>15.0</td>\n",
       "      <td>466.0</td>\n",
       "      <td>46.0</td>\n",
       "      <td>ultra</td>\n",
       "      <td>1950</td>\n",
       "    </tr>\n",
       "    <tr>\n",
       "      <th>10</th>\n",
       "      <td>73.0</td>\n",
       "      <td>15.0</td>\n",
       "      <td>350.0</td>\n",
       "      <td>44.0</td>\n",
       "      <td>ultra</td>\n",
       "      <td>1950</td>\n",
       "    </tr>\n",
       "    <tr>\n",
       "      <th>11</th>\n",
       "      <td>58.0</td>\n",
       "      <td>15.0</td>\n",
       "      <td>338.0</td>\n",
       "      <td>37.0</td>\n",
       "      <td>ultra</td>\n",
       "      <td>1950</td>\n",
       "    </tr>\n",
       "    <tr>\n",
       "      <th>12</th>\n",
       "      <td>70.0</td>\n",
       "      <td>10.0</td>\n",
       "      <td>333.0</td>\n",
       "      <td>38.0</td>\n",
       "      <td>ultra</td>\n",
       "      <td>1950</td>\n",
       "    </tr>\n",
       "    <tr>\n",
       "      <th rowspan=\"2\" valign=\"top\">1002</th>\n",
       "      <th>6</th>\n",
       "      <td>4.0</td>\n",
       "      <td>11.0</td>\n",
       "      <td>117.0</td>\n",
       "      <td>14.0</td>\n",
       "      <td>smart</td>\n",
       "      <td>550</td>\n",
       "    </tr>\n",
       "    <tr>\n",
       "      <th>7</th>\n",
       "      <td>11.0</td>\n",
       "      <td>18.0</td>\n",
       "      <td>214.0</td>\n",
       "      <td>21.0</td>\n",
       "      <td>smart</td>\n",
       "      <td>1150</td>\n",
       "    </tr>\n",
       "  </tbody>\n",
       "</table>\n",
       "</div>"
      ],
      "text/plain": [
       "               messages  traffic_volume  minutes  calls tariff  proceeds\n",
       "user_id month                                                           \n",
       "1000    5          22.0             3.0    159.0   17.0  ultra      1950\n",
       "        6          60.0            23.0    172.0   28.0  ultra      1950\n",
       "        7          75.0            14.0    340.0   41.0  ultra      1950\n",
       "        8          81.0            14.0    408.0   42.0  ultra      1950\n",
       "        9          57.0            15.0    466.0   46.0  ultra      1950\n",
       "        10         73.0            15.0    350.0   44.0  ultra      1950\n",
       "        11         58.0            15.0    338.0   37.0  ultra      1950\n",
       "        12         70.0            10.0    333.0   38.0  ultra      1950\n",
       "1002    6           4.0            11.0    117.0   14.0  smart       550\n",
       "        7          11.0            18.0    214.0   21.0  smart      1150"
      ]
     },
     "execution_count": 23,
     "metadata": {},
     "output_type": "execute_result"
    }
   ],
   "source": [
    "users_data_by_month.head(10)"
   ]
  },
  {
   "cell_type": "markdown",
   "metadata": {},
   "source": [
    "### Вывод"
   ]
  },
  {
   "cell_type": "markdown",
   "metadata": {},
   "source": [
    "Из исходных таблиц были удалены незначащие данные. Были приведены типы данных к более удобным для работы. Составленна сводная таблица с данными использования услуг оператора каждым пользователем помесячно; посчитана месячная выручка каждого пользователя. Данные готовы для проведения анализа тарифов оператора."
   ]
  },
  {
   "cell_type": "markdown",
   "metadata": {},
   "source": [
    "## Анализ данных"
   ]
  },
  {
   "cell_type": "markdown",
   "metadata": {},
   "source": [
    ">Опишите поведение клиентов оператора, исходя из выборки. Сколько минут разговора, сколько сообщений и какой объём интернет-трафика требуется пользователям каждого тарифа в месяц? Посчитайте среднее количество, дисперсию и стандартное отклонение. Постройте гистограммы. Опишите распределения.\n",
    "    \n",
    "Определим характеристики распределения количества сообщений, минут звонков, объема трафика и выручки для пользователей каждого тарифа в месяц. Построим графики распределения величин."
   ]
  },
  {
   "cell_type": "markdown",
   "metadata": {},
   "source": [
    "### Сообщения"
   ]
  },
  {
   "cell_type": "code",
   "execution_count": 132,
   "metadata": {},
   "outputs": [
    {
     "data": {
      "text/html": [
       "<style  type=\"text/css\" >\n",
       "</style><table id=\"T_2b59a_\" ><thead>    <tr>        <th class=\"index_name level0\" >tariff</th>        <th class=\"col_heading level0 col0\" >smart</th>        <th class=\"col_heading level0 col1\" >ultra</th>        <th class=\"col_heading level0 col2\" >proportion</th>    </tr></thead><tbody>\n",
       "                <tr>\n",
       "                        <th id=\"T_2b59a_level0_row0\" class=\"row_heading level0 row0\" >count</th>\n",
       "                        <td id=\"T_2b59a_row0_col0\" class=\"data row0 col0\" >2229.00</td>\n",
       "                        <td id=\"T_2b59a_row0_col1\" class=\"data row0 col1\" >985.00</td>\n",
       "                        <td id=\"T_2b59a_row0_col2\" class=\"data row0 col2\" >55.81%</td>\n",
       "            </tr>\n",
       "            <tr>\n",
       "                        <th id=\"T_2b59a_level0_row1\" class=\"row_heading level0 row1\" >mean</th>\n",
       "                        <td id=\"T_2b59a_row1_col0\" class=\"data row1 col0\" >33.38</td>\n",
       "                        <td id=\"T_2b59a_row1_col1\" class=\"data row1 col1\" >49.36</td>\n",
       "                        <td id=\"T_2b59a_row1_col2\" class=\"data row1 col2\" >47.87%</td>\n",
       "            </tr>\n",
       "            <tr>\n",
       "                        <th id=\"T_2b59a_level0_row2\" class=\"row_heading level0 row2\" >50%</th>\n",
       "                        <td id=\"T_2b59a_row2_col0\" class=\"data row2 col0\" >28.00</td>\n",
       "                        <td id=\"T_2b59a_row2_col1\" class=\"data row2 col1\" >38.00</td>\n",
       "                        <td id=\"T_2b59a_row2_col2\" class=\"data row2 col2\" >35.71%</td>\n",
       "            </tr>\n",
       "            <tr>\n",
       "                        <th id=\"T_2b59a_level0_row3\" class=\"row_heading level0 row3\" >std</th>\n",
       "                        <td id=\"T_2b59a_row3_col0\" class=\"data row3 col0\" >28.23</td>\n",
       "                        <td id=\"T_2b59a_row3_col1\" class=\"data row3 col1\" >47.80</td>\n",
       "                        <td id=\"T_2b59a_row3_col2\" class=\"data row3 col2\" >69.32%</td>\n",
       "            </tr>\n",
       "    </tbody></table>"
      ],
      "text/plain": [
       "<pandas.io.formats.style.Styler at 0x1f118406f10>"
      ]
     },
     "metadata": {},
     "output_type": "display_data"
    },
    {
     "data": {
      "image/png": "[encoded data removed]",
      "text/plain": [
       "<Figure size 720x648 with 2 Axes>"
      ]
     },
     "metadata": {},
     "output_type": "display_data"
    }
   ],
   "source": [
    "grouped = users_data_by_month.groupby('tariff')\n",
    "sns.set_style(\"whitegrid\")\n",
    "\n",
    "def params_info(param, bins=45):\n",
    "    desc = grouped[param].describe()[['count', 'mean', '50%', 'std']].round(2).T\n",
    "    desc['proportion'] = ((desc['smart'] - desc['ultra']) / desc['smart']).abs()\n",
    "    display(desc.style.format({'smart': \"{:.2f}\",'ultra': \"{:.2f}\",'proportion': \"{:.2%}\"}))\n",
    "\n",
    "    fig, ax = plt.subplots(2, 1, figsize=(10, 9), gridspec_kw={'height_ratios': [2, 1]})\n",
    "    sns.histplot(ax=ax[0], data = users_data_by_month, x=param, hue='tariff', bins=bins)\n",
    "    ax[0].set_title(param.replace('_', ' ').capitalize())\n",
    "    sns.boxplot(ax=ax[1], data=users_data_by_month, x=param, y='tariff')\n",
    "    plt.show()\n",
    "    \n",
    "params_info('messages')"
   ]
  },
  {
   "cell_type": "markdown",
   "metadata": {},
   "source": [
    "Рассмотрим ту часть пользователей, которые не отправляют сообщения."
   ]
  },
  {
   "cell_type": "code",
   "execution_count": 131,
   "metadata": {},
   "outputs": [
    {
     "name": "stdout",
     "output_type": "stream",
     "text": [
      "Количество месяцев, в которые пользователь не отправлял сообщения:\n",
      "тариф \"Смарт\": 13.8%\n",
      "тариф \"Ультра\": 19.3%\n"
     ]
    }
   ],
   "source": [
    "print('Количество месяцев, в которые пользователь не отправлял сообщения:',\n",
    "      'тариф \"Смарт\": {:.1%}'\n",
    "      .format(users_data_by_month.query('messages == 0 & tariff==\"smart\"').shape[0] / \n",
    "              users_data_by_month.query('tariff==\"smart\"').shape[0]), \n",
    "      'тариф \"Ультра\": {:.1%}'\n",
    "      .format(users_data_by_month.query('messages == 0 & tariff==\"ultra\"').shape[0] / \n",
    "              users_data_by_month.query('tariff==\"ultra\"').shape[0]), sep='\\n')"
   ]
  },
  {
   "cell_type": "markdown",
   "metadata": {},
   "source": [
    "Из таблицы и графиков можно сделать следующие выводы:\n",
    "- Для обоих тарифов среднее количества сообщений значительно больше медианного значения, это говорит о скошенности значений вправо, причем для пользователей тарифа \"Ультра\" этот эффект сильнее;\n",
    "- Большое количество пользователей не отправляют сообщения - нулевый значения. Среди пользователей \"Смарт\" - 13.8%, а \"Ультра\" - 19.3%;\n",
    "- Пользователи тарифа \"Ультра\" отправляют в среднем больше сообщений, и их распределение более равномерное."
   ]
  },
  {
   "cell_type": "markdown",
   "metadata": {},
   "source": [
    "### Интернет трафик"
   ]
  },
  {
   "cell_type": "code",
   "execution_count": 99,
   "metadata": {},
   "outputs": [
    {
     "data": {
      "text/html": [
       "<div>\n",
       "<style scoped>\n",
       "    .dataframe tbody tr th:only-of-type {\n",
       "        vertical-align: middle;\n",
       "    }\n",
       "\n",
       "    .dataframe tbody tr th {\n",
       "        vertical-align: top;\n",
       "    }\n",
       "\n",
       "    .dataframe thead th {\n",
       "        text-align: right;\n",
       "    }\n",
       "</style>\n",
       "<table border=\"1\" class=\"dataframe\">\n",
       "  <thead>\n",
       "    <tr style=\"text-align: right;\">\n",
       "      <th>tariff</th>\n",
       "      <th>smart</th>\n",
       "      <th>ultra</th>\n",
       "    </tr>\n",
       "  </thead>\n",
       "  <tbody>\n",
       "    <tr>\n",
       "      <th>count</th>\n",
       "      <td>2229.00</td>\n",
       "      <td>985.00</td>\n",
       "    </tr>\n",
       "    <tr>\n",
       "      <th>mean</th>\n",
       "      <td>16.33</td>\n",
       "      <td>19.49</td>\n",
       "    </tr>\n",
       "    <tr>\n",
       "      <th>50%</th>\n",
       "      <td>17.00</td>\n",
       "      <td>19.00</td>\n",
       "    </tr>\n",
       "    <tr>\n",
       "      <th>std</th>\n",
       "      <td>5.75</td>\n",
       "      <td>9.85</td>\n",
       "    </tr>\n",
       "  </tbody>\n",
       "</table>\n",
       "</div>"
      ],
      "text/plain": [
       "tariff    smart   ultra\n",
       "count   2229.00  985.00\n",
       "mean      16.33   19.49\n",
       "50%       17.00   19.00\n",
       "std        5.75    9.85"
      ]
     },
     "metadata": {},
     "output_type": "display_data"
    },
    {
     "data": {
      "image/png": "[encoded data removed]",
      "text/plain": [
       "<Figure size 720x648 with 2 Axes>"
      ]
     },
     "metadata": {},
     "output_type": "display_data"
    }
   ],
   "source": [
    "params_info('traffic_volume')"
   ]
  },
  {
   "cell_type": "markdown",
   "metadata": {},
   "source": [
    "- Распределение использованного траффика имеет вид близкий к нормальному;\n",
    "- Пользователи тарифа \"Смарт\" активно используют интернет до объема трафика около 25 Гб (что значительно больше ограниченного пакетом тарифа), далее использование интернета резко падает;\n",
    "- Пользователи тарифа \"Ультра\" более свободны в использовании трафика, распределение объема трафика более равномерное и занимает большие значения."
   ]
  },
  {
   "cell_type": "markdown",
   "metadata": {},
   "source": [
    "### Минуты"
   ]
  },
  {
   "cell_type": "code",
   "execution_count": 100,
   "metadata": {},
   "outputs": [
    {
     "data": {
      "text/html": [
       "<div>\n",
       "<style scoped>\n",
       "    .dataframe tbody tr th:only-of-type {\n",
       "        vertical-align: middle;\n",
       "    }\n",
       "\n",
       "    .dataframe tbody tr th {\n",
       "        vertical-align: top;\n",
       "    }\n",
       "\n",
       "    .dataframe thead th {\n",
       "        text-align: right;\n",
       "    }\n",
       "</style>\n",
       "<table border=\"1\" class=\"dataframe\">\n",
       "  <thead>\n",
       "    <tr style=\"text-align: right;\">\n",
       "      <th>tariff</th>\n",
       "      <th>smart</th>\n",
       "      <th>ultra</th>\n",
       "    </tr>\n",
       "  </thead>\n",
       "  <tbody>\n",
       "    <tr>\n",
       "      <th>count</th>\n",
       "      <td>2229.00</td>\n",
       "      <td>985.00</td>\n",
       "    </tr>\n",
       "    <tr>\n",
       "      <th>mean</th>\n",
       "      <td>417.93</td>\n",
       "      <td>526.62</td>\n",
       "    </tr>\n",
       "    <tr>\n",
       "      <th>50%</th>\n",
       "      <td>422.00</td>\n",
       "      <td>518.00</td>\n",
       "    </tr>\n",
       "    <tr>\n",
       "      <th>std</th>\n",
       "      <td>190.31</td>\n",
       "      <td>317.61</td>\n",
       "    </tr>\n",
       "  </tbody>\n",
       "</table>\n",
       "</div>"
      ],
      "text/plain": [
       "tariff    smart   ultra\n",
       "count   2229.00  985.00\n",
       "mean     417.93  526.62\n",
       "50%      422.00  518.00\n",
       "std      190.31  317.61"
      ]
     },
     "metadata": {},
     "output_type": "display_data"
    },
    {
     "data": {
      "image/png": "[encoded data removed]",
      "text/plain": [
       "<Figure size 720x648 with 2 Axes>"
      ]
     },
     "metadata": {},
     "output_type": "display_data"
    }
   ],
   "source": [
    "params_info('minutes')"
   ]
  },
  {
   "cell_type": "markdown",
   "metadata": {},
   "source": [
    "- Распределение использования минут имеет вид похожий на нормальный;\n",
    "- Большое количество пользователей не использовали ни одной минуты разговора, причем таких больше среди пользователей \"Ультра\", в выводах попробуем объяснить это явление;\n",
    "- Пользователи тарифа \"Ультра\" используют больше минут для разговора, чем пользователи \"Смарт\"."
   ]
  },
  {
   "cell_type": "markdown",
   "metadata": {},
   "source": [
    "### Выручка"
   ]
  },
  {
   "cell_type": "code",
   "execution_count": 134,
   "metadata": {},
   "outputs": [
    {
     "data": {
      "text/html": [
       "<style  type=\"text/css\" >\n",
       "</style><table id=\"T_ea3c6_\" ><thead>    <tr>        <th class=\"index_name level0\" >tariff</th>        <th class=\"col_heading level0 col0\" >smart</th>        <th class=\"col_heading level0 col1\" >ultra</th>        <th class=\"col_heading level0 col2\" >proportion</th>    </tr></thead><tbody>\n",
       "                <tr>\n",
       "                        <th id=\"T_ea3c6_level0_row0\" class=\"row_heading level0 row0\" >count</th>\n",
       "                        <td id=\"T_ea3c6_row0_col0\" class=\"data row0 col0\" >2229.00</td>\n",
       "                        <td id=\"T_ea3c6_row0_col1\" class=\"data row0 col1\" >985.00</td>\n",
       "                        <td id=\"T_ea3c6_row0_col2\" class=\"data row0 col2\" >55.81%</td>\n",
       "            </tr>\n",
       "            <tr>\n",
       "                        <th id=\"T_ea3c6_level0_row1\" class=\"row_heading level0 row1\" >mean</th>\n",
       "                        <td id=\"T_ea3c6_row1_col0\" class=\"data row1 col0\" >1289.97</td>\n",
       "                        <td id=\"T_ea3c6_row1_col1\" class=\"data row1 col1\" >2070.15</td>\n",
       "                        <td id=\"T_ea3c6_row1_col2\" class=\"data row1 col2\" >60.48%</td>\n",
       "            </tr>\n",
       "            <tr>\n",
       "                        <th id=\"T_ea3c6_level0_row2\" class=\"row_heading level0 row2\" >50%</th>\n",
       "                        <td id=\"T_ea3c6_row2_col0\" class=\"data row2 col0\" >1023.00</td>\n",
       "                        <td id=\"T_ea3c6_row2_col1\" class=\"data row2 col1\" >1950.00</td>\n",
       "                        <td id=\"T_ea3c6_row2_col2\" class=\"data row2 col2\" >90.62%</td>\n",
       "            </tr>\n",
       "            <tr>\n",
       "                        <th id=\"T_ea3c6_level0_row3\" class=\"row_heading level0 row3\" >std</th>\n",
       "                        <td id=\"T_ea3c6_row3_col0\" class=\"data row3 col0\" >818.40</td>\n",
       "                        <td id=\"T_ea3c6_row3_col1\" class=\"data row3 col1\" >376.19</td>\n",
       "                        <td id=\"T_ea3c6_row3_col2\" class=\"data row3 col2\" >54.03%</td>\n",
       "            </tr>\n",
       "    </tbody></table>"
      ],
      "text/plain": [
       "<pandas.io.formats.style.Styler at 0x1f11ae8b6d0>"
      ]
     },
     "metadata": {},
     "output_type": "display_data"
    },
    {
     "data": {
      "image/png": "[encoded data removed]",
      "text/plain": [
       "<Figure size 720x648 with 2 Axes>"
      ]
     },
     "metadata": {},
     "output_type": "display_data"
    }
   ],
   "source": [
    "params_info('proceeds', 65)"
   ]
  },
  {
   "cell_type": "code",
   "execution_count": 109,
   "metadata": {},
   "outputs": [
    {
     "data": {
      "text/plain": [
       "array([780.17875353])"
      ]
     },
     "execution_count": 109,
     "metadata": {},
     "output_type": "execute_result"
    }
   ],
   "source": [
    "grouped[['tariff','proceeds']].mean().diff().values[1]"
   ]
  },
  {
   "cell_type": "markdown",
   "metadata": {},
   "source": [
    "Два пика на графике соответствуют значениям ежемесячного платежа по каждому тарифу, иными словами, это количество пользователей, которые не пользуются дополнительными услугами.\n",
    "- Пользователи тарифа \"Смарт\" гораздо чаще покупают дополнительные услуги - среднее много больше медианы, большое значение стандартного отклонения;\n",
    "- Среднее и медианное значение выручки больше у пользователей тарифа \"Ультра\" на 60% и 90% соответственно.\n",
    "- В значениях выручки наблюдается дискретность, особенно хорошо её заметно для пользователей тарифа \"Смарт\". Судя по шагу дискретности (~200р), можно сделать вывод, что это плата за трафик. Достаточно большую долю переплат пользователей составляет плата за дополнительные гигабайты."
   ]
  },
  {
   "cell_type": "markdown",
   "metadata": {},
   "source": [
    "### Вывод"
   ]
  },
  {
   "cell_type": "markdown",
   "metadata": {},
   "source": [
    "По изученным данным можно сделать вывод, что пользователям тарифа \"Смарт\" часто не хватает предложенных минут, количества сообщений и объема трафика. Медианный объем использованного трафика больше, чем лимит в пакете тарифа. За дополнительные услуги сверх пакета тарифа пользователи платят дополнительные деньги. Средняя выручка с пользователя этого тарифа превышает абонентскую плату более чем в два раза.\n",
    "\n",
    "Пользователям тарифа \"Ультра\" в целом хватает предложенного пакета. Они используют больше минут для звонков, больше сообщений и объем трафика, чем пользователи \"Смарта\". Средняя выручка пользователей этого тарифа незначительно больше абонентской платы за тариф. Плату за дополнительные услуги по большей части составляет плата за дополнительный трафик.\n",
    "\n",
    "Сравнивая выручку пользователей обоих тарифов можно сказать, что хоть абоненты \"Смарта\" переплачивают сильно больше абонентской платы, но выручка абонентов \"Ультра\" все равно больше. Высокая стоимость основного тарифа оказывается больше, чем дополнительная плата с тарифом с низкой стоимостью."
   ]
  },
  {
   "cell_type": "markdown",
   "metadata": {},
   "source": [
    "## Проверка гипотез"
   ]
  },
  {
   "cell_type": "markdown",
   "metadata": {},
   "source": [
    "### Первая гипотеза"
   ]
  },
  {
   "cell_type": "markdown",
   "metadata": {},
   "source": [
    "Сформулируем нулевую гипотезу следующим образом:\n",
    ">**H0:** Средняя выручка пользователей тарифов «Ультра» и «Смарт» одинакова\n",
    "\n",
    "То есть в показателе выручки пользователя нет зависимости от тарифа. Альтернативная гипотеза будет звучать так:\n",
    "> **H1:** Средняя выручка пользователей тарифов «Ультра» и «Смарт» различна\n",
    "\n",
    "Проведем t-тест для проверки гипотезы. Критический уровень статистической значимости установим 5%."
   ]
  },
  {
   "cell_type": "code",
   "execution_count": 135,
   "metadata": {
    "scrolled": true
   },
   "outputs": [
    {
     "name": "stdout",
     "output_type": "stream",
     "text": [
      "p-значение: 4.2606313931076085e-250\n",
      "Отвергаем нулевую гипотезу\n"
     ]
    }
   ],
   "source": [
    "alpha = 0.05\n",
    "\n",
    "ultra = users_data_by_month.query('tariff==\"ultra\"').loc[:, ['proceeds']]\n",
    "smart = users_data_by_month.query('tariff==\"smart\"').loc[:, ['proceeds']]\n",
    "\n",
    "results = st.ttest_ind(ultra.values, smart.values, equal_var = False)\n",
    "\n",
    "print('p-значение:', results.pvalue[0])\n",
    "\n",
    "if results.pvalue[0] < alpha:\n",
    "    print('Отвергаем нулевую гипотезу')\n",
    "else:\n",
    "    print('Не получилось отвергнуть нулевую гипотезу') "
   ]
  },
  {
   "cell_type": "markdown",
   "metadata": {},
   "source": [
    "Результат тестирования показал, что гипотеза о равенстве выручек двух тарифов не верна."
   ]
  },
  {
   "cell_type": "code",
   "execution_count": 147,
   "metadata": {
    "scrolled": true
   },
   "outputs": [
    {
     "data": {
      "image/png": "[encoded data removed]",
      "text/plain": [
       "<Figure size 864x360 with 2 Axes>"
      ]
     },
     "metadata": {},
     "output_type": "display_data"
    }
   ],
   "source": [
    "fig, axes = plt.subplots(1, 2, figsize=(12, 5))\n",
    "fig.suptitle(\"Proceed distribution\")\n",
    "\n",
    "ultra.plot(kind='hist', bins=20, ax=axes[0], title='Ultra')\n",
    "smart.plot(kind='hist', bins=20, ax=axes[1], title='Smart')\n",
    "\n",
    "axes[0].grid(True)\n",
    "axes[1].grid(True)"
   ]
  },
  {
   "cell_type": "code",
   "execution_count": 151,
   "metadata": {},
   "outputs": [
    {
     "data": {
      "image/png": "[encoded data removed]",
      "text/plain": [
       "<Figure size 432x288 with 1 Axes>"
      ]
     },
     "metadata": {},
     "output_type": "display_data"
    }
   ],
   "source": [
    "sns.boxplot(data=users_data_by_month, x='proceeds', y='tariff')\n",
    "plt.show()"
   ]
  },
  {
   "cell_type": "markdown",
   "metadata": {},
   "source": [
    "Характер распределения выручки для разных тарифов различается:\n",
    "- Пользователи тарифа \"Ультра\" платят высокую абонентскую плату и лишь изредка доплачивают за дополнительные услуги;\n",
    "- Пользователи тарифа \"Смарт\" часто переплачивают больше абонентской платы, докупая дополнительные услуги."
   ]
  },
  {
   "cell_type": "markdown",
   "metadata": {},
   "source": [
    "### Вторая гипотеза"
   ]
  },
  {
   "cell_type": "markdown",
   "metadata": {},
   "source": [
    "Вторую нулевую гипотезу сформулируем так:\n",
    ">**H0:** Средняя выручка пользователи из Москвы равна выручке пользователей из других регионов.\n",
    "\n",
    "То есть в показателе выручки пользователя не зависит от места проживания - в Москве или другом регионе. Альтернативная гипотеза будет звучать так:\n",
    ">**H1:** Средняя выручка пользователи из Москвы отличается от выручки пользователей из других регионов."
   ]
  },
  {
   "cell_type": "code",
   "execution_count": 153,
   "metadata": {},
   "outputs": [],
   "source": [
    "proceeds_by_cities = users_data_by_month.reset_index('month')\\\n",
    "    .loc[:, ['proceeds']]\\\n",
    "    .join(users.set_index('user_id')['city'])"
   ]
  },
  {
   "cell_type": "markdown",
   "metadata": {},
   "source": [
    "Проведем t-тест для проверки гипотезы. Критический уровень статистической значимости установим 5%."
   ]
  },
  {
   "cell_type": "code",
   "execution_count": 154,
   "metadata": {
    "scrolled": true
   },
   "outputs": [
    {
     "name": "stdout",
     "output_type": "stream",
     "text": [
      "p-значение: 0.5257376663729298\n",
      "Не получилось отвергнуть нулевую гипотезу\n"
     ]
    }
   ],
   "source": [
    "alpha = 0.05\n",
    "\n",
    "moscow = proceeds_by_cities.query('city == \"Москва\"').loc[:, ['proceeds']]\n",
    "regions = proceeds_by_cities.query('city != \"Москва\"').loc[:, ['proceeds']]\n",
    "\n",
    "results = st.ttest_ind(moscow.values, regions.values, equal_var = False)\n",
    "\n",
    "print('p-значение:', results.pvalue[0])\n",
    "\n",
    "if results.pvalue[0] < alpha:\n",
    "    print('Отвергаем нулевую гипотезу')\n",
    "else:\n",
    "    print('Не получилось отвергнуть нулевую гипотезу') "
   ]
  },
  {
   "cell_type": "markdown",
   "metadata": {},
   "source": [
    "Результат тестирования показал, что гипотезу о равенстве выручек пользователей из Москвы и других регионов нельзя отвергнуть. С вероятностью более 46% можно получить такую же разницу распределений выручки. "
   ]
  },
  {
   "cell_type": "code",
   "execution_count": 157,
   "metadata": {
    "scrolled": false
   },
   "outputs": [
    {
     "data": {
      "image/png": "[encoded data removed]",
      "text/plain": [
       "<Figure size 864x360 with 2 Axes>"
      ]
     },
     "metadata": {},
     "output_type": "display_data"
    }
   ],
   "source": [
    "fig, axes = plt.subplots(1, 2, figsize=(12, 5))\n",
    "\n",
    "moscow.plot(kind='hist', bins=30, ax=axes[0], title='Moscow', xlabel='proceeds')\n",
    "regions.plot(kind='hist', bins=30, ax=axes[1], title='Other regions', xlabel='proceeds')\n",
    "\n",
    "axes[0].grid(True)\n",
    "axes[1].grid(True)"
   ]
  },
  {
   "cell_type": "code",
   "execution_count": 158,
   "metadata": {
    "scrolled": true
   },
   "outputs": [],
   "source": [
    "proceeds_by_cities['city'] = proceeds_by_cities['city'].where(proceeds_by_cities['city'] == 'Москва', 'Другие регионы')"
   ]
  },
  {
   "cell_type": "code",
   "execution_count": 161,
   "metadata": {
    "scrolled": false
   },
   "outputs": [
    {
     "data": {
      "image/png": "[encoded data removed]",
      "text/plain": [
       "<Figure size 432x288 with 1 Axes>"
      ]
     },
     "metadata": {},
     "output_type": "display_data"
    }
   ],
   "source": [
    "proceeds_by_cities['city'] = proceeds_by_cities['city'].where(proceeds_by_cities['city'] == 'Москва', 'Другие регионы')\n",
    "_ = sns.boxplot(data=proceeds_by_cities, x='proceeds', y='city', order=['Москва', 'Другие регионы'])"
   ]
  },
  {
   "cell_type": "code",
   "execution_count": 45,
   "metadata": {},
   "outputs": [
    {
     "name": "stdout",
     "output_type": "stream",
     "text": [
      "Число пользователей из Москвы: 99\n"
     ]
    }
   ],
   "source": [
    "print('Число пользователей из Москвы:', users.query('city == \"Москва\"').user_id.count())"
   ]
  },
  {
   "cell_type": "markdown",
   "metadata": {},
   "source": [
    "Распределения выручек рользователей из Москвы и регионов отличаются незначительно. Медианное значение выручки для Москвы больше, тогда как максимальное нормальное значение выручки у обоих выборок близко. \n",
    "\n",
    "Выборка по пользователям из Москвы меньше чем по пользователям из других регионов. Число пользователей из Москвы составляет около 20% от общего числа пользователей. Этим можно объяснить большие искажения в распределении выручки по Москве."
   ]
  },
  {
   "cell_type": "markdown",
   "metadata": {},
   "source": [
    "### Вывод"
   ]
  },
  {
   "cell_type": "markdown",
   "metadata": {},
   "source": [
    "Провели статистические тесты, в результате которых можно сделать следующие выводы:\n",
    "- Удалось отвергнуть гипотезу о равенстве выручек пользователей разных тарифов. Значения выручек пользователей разных тарифов различаются, также различаются способы формирования средней выручки. В среднем пользователи тарифа \"Ультра\" приносят большую выручку, чем пользователи другого тарифа;\n",
    "- Отвергнуть вторую гипотезу о равенстве выручки пользователей из Москвы и из других регионов не удалось. Разница выручек в двух выборка оказалась статистически незначима."
   ]
  },
  {
   "cell_type": "markdown",
   "metadata": {},
   "source": [
    "## Общий вывод"
   ]
  },
  {
   "cell_type": "markdown",
   "metadata": {},
   "source": [
    "Характер пользования услугами оператора у пользователей с различными тарифами различаются. \n",
    "\n",
    "- Пользователи тарифа \"Смарт\" получают небольшие лимиты услуг и часто их превышают по всем видам услуг. Средняя выручка пользователей этого тарифа больше чем вдвое превышает абонентскую плату - средняя переплата около 700 руб.\n",
    "- Пользователи тарифа \"Ультра\" наоборот имеют достаточно большой пакет услуг и, за небольшими исключениями, не пользуются дополнительными услугами. Выручка этих пользователей состоит из абонентской платы.\n",
    "\n",
    "Выводы также подтверждаются статистическими тестами. Была проверена гипотеза о равенстве выручек пользователей разных тарифов и по результатам теста гипотеза о равенстве была отвергнута. Гипотезу о равенстве выручки пользователей из Москвы и из других регионов отвергнуть не удалось. Это указывает на несущественности влияния места проживания абонента на выручку.\n",
    "\n",
    "В целом, средня выручка пользователей тарифа \"Ультра\" больше, чем у пользователей тарифа \"Смарт\" - 2070 против 1290 рублей. Средняя выручка тарифа \"Ультра\" больше чем тарифа \"Смарт\" на 60%. Для пользователей тариф \"Ультра\", вероятно, является более комфортным, так как позволяет им не беспокоиться о лимитах по тарифу. Из проведенного анализа можно сделать вывод что тариф \"Ультра\" является лучшим. "
   ]
  },
  {
   "cell_type": "code",
   "execution_count": null,
   "metadata": {},
   "outputs": [],
   "source": []
  }
 ],
 "metadata": {
  "ExecuteTimeLog": [
   {
    "duration": 5,
    "start_time": "2021-08-23T17:58:09.807Z"
   },
   {
    "duration": 1008,
    "start_time": "2021-08-23T18:05:48.576Z"
   },
   {
    "duration": 890,
    "start_time": "2021-08-23T18:07:53.172Z"
   },
   {
    "duration": 49,
    "start_time": "2021-08-23T18:07:55.558Z"
   },
   {
    "duration": 22,
    "start_time": "2021-08-23T18:08:32.191Z"
   },
   {
    "duration": 545,
    "start_time": "2021-08-23T18:10:10.736Z"
   },
   {
    "duration": 29,
    "start_time": "2021-08-23T18:10:12.383Z"
   },
   {
    "duration": 12,
    "start_time": "2021-08-23T18:10:22.522Z"
   },
   {
    "duration": 35,
    "start_time": "2021-08-23T18:10:37.395Z"
   },
   {
    "duration": 32,
    "start_time": "2021-08-23T18:12:03.223Z"
   },
   {
    "duration": 35,
    "start_time": "2021-08-23T18:12:11.561Z"
   },
   {
    "duration": 30,
    "start_time": "2021-08-23T18:13:40.256Z"
   },
   {
    "duration": 25,
    "start_time": "2021-08-23T18:13:43.772Z"
   },
   {
    "duration": 17,
    "start_time": "2021-08-23T18:13:46.466Z"
   },
   {
    "duration": 20,
    "start_time": "2021-08-23T18:13:48.276Z"
   },
   {
    "duration": 7,
    "start_time": "2021-08-23T18:17:39.886Z"
   },
   {
    "duration": 7,
    "start_time": "2021-08-23T18:18:03.934Z"
   },
   {
    "duration": 6,
    "start_time": "2021-08-23T18:18:22.224Z"
   },
   {
    "duration": 7,
    "start_time": "2021-08-23T18:23:05.769Z"
   },
   {
    "duration": 17,
    "start_time": "2021-08-23T18:23:13.471Z"
   },
   {
    "duration": 41,
    "start_time": "2021-08-23T18:23:38.241Z"
   },
   {
    "duration": 483,
    "start_time": "2021-08-23T18:29:37.421Z"
   },
   {
    "duration": 7,
    "start_time": "2021-08-23T18:30:49.010Z"
   },
   {
    "duration": 23,
    "start_time": "2021-08-23T18:30:52.981Z"
   },
   {
    "duration": 86,
    "start_time": "2021-08-23T18:33:25.485Z"
   },
   {
    "duration": 22,
    "start_time": "2021-08-23T18:33:28.936Z"
   },
   {
    "duration": 17,
    "start_time": "2021-08-23T18:33:54.908Z"
   },
   {
    "duration": 29,
    "start_time": "2021-08-23T18:33:58.948Z"
   },
   {
    "duration": 53,
    "start_time": "2021-08-23T18:34:02.862Z"
   },
   {
    "duration": 36,
    "start_time": "2021-08-23T18:34:05.862Z"
   },
   {
    "duration": 22,
    "start_time": "2021-08-23T18:35:58.249Z"
   },
   {
    "duration": 26,
    "start_time": "2021-08-23T18:36:11.460Z"
   },
   {
    "duration": 14,
    "start_time": "2021-08-23T18:36:21.876Z"
   },
   {
    "duration": 24,
    "start_time": "2021-08-23T18:36:28.048Z"
   },
   {
    "duration": 377,
    "start_time": "2021-08-23T18:39:44.371Z"
   },
   {
    "duration": 488,
    "start_time": "2021-08-23T18:39:49.602Z"
   },
   {
    "duration": 559,
    "start_time": "2021-08-23T18:40:15.076Z"
   },
   {
    "duration": 883,
    "start_time": "2021-08-23T18:40:25.655Z"
   },
   {
    "duration": 50,
    "start_time": "2021-08-23T18:40:52.224Z"
   },
   {
    "duration": 47,
    "start_time": "2021-08-23T18:41:10.294Z"
   },
   {
    "duration": 166,
    "start_time": "2021-08-23T18:42:18.013Z"
   },
   {
    "duration": 244,
    "start_time": "2021-08-23T18:42:29.232Z"
   },
   {
    "duration": 173,
    "start_time": "2021-08-23T18:42:45.988Z"
   },
   {
    "duration": 141,
    "start_time": "2021-08-23T18:42:58.182Z"
   },
   {
    "duration": 136,
    "start_time": "2021-08-23T18:43:06.248Z"
   },
   {
    "duration": 5,
    "start_time": "2021-08-23T18:43:38.328Z"
   },
   {
    "duration": 6,
    "start_time": "2021-08-23T18:43:42.246Z"
   },
   {
    "duration": 6,
    "start_time": "2021-08-23T18:43:58.442Z"
   },
   {
    "duration": 77,
    "start_time": "2021-08-23T18:44:14.890Z"
   },
   {
    "duration": 1296,
    "start_time": "2021-08-24T16:33:22.858Z"
   },
   {
    "duration": 47,
    "start_time": "2021-08-24T16:33:24.157Z"
   },
   {
    "duration": 30,
    "start_time": "2021-08-24T16:33:24.207Z"
   },
   {
    "duration": 30,
    "start_time": "2021-08-24T16:33:24.239Z"
   },
   {
    "duration": 27,
    "start_time": "2021-08-24T16:33:24.272Z"
   },
   {
    "duration": 17,
    "start_time": "2021-08-24T16:33:24.302Z"
   },
   {
    "duration": 62,
    "start_time": "2021-08-24T16:33:24.321Z"
   },
   {
    "duration": 115,
    "start_time": "2021-08-24T16:33:24.386Z"
   },
   {
    "duration": 13,
    "start_time": "2021-08-24T16:33:24.504Z"
   },
   {
    "duration": 6,
    "start_time": "2021-08-24T16:46:16.364Z"
   },
   {
    "duration": 22,
    "start_time": "2021-08-24T16:46:42.224Z"
   },
   {
    "duration": 13,
    "start_time": "2021-08-24T16:47:32.733Z"
   },
   {
    "duration": 26,
    "start_time": "2021-08-24T16:47:37.926Z"
   },
   {
    "duration": 11,
    "start_time": "2021-08-24T16:48:02.219Z"
   },
   {
    "duration": 55,
    "start_time": "2021-08-24T16:55:32.128Z"
   },
   {
    "duration": 29,
    "start_time": "2021-08-24T16:55:36.177Z"
   },
   {
    "duration": 324,
    "start_time": "2021-08-24T16:57:47.058Z"
   },
   {
    "duration": 236,
    "start_time": "2021-08-24T17:00:26.216Z"
   },
   {
    "duration": 318,
    "start_time": "2021-08-24T17:00:35.330Z"
   },
   {
    "duration": 60,
    "start_time": "2021-08-24T17:01:35.355Z"
   },
   {
    "duration": 29,
    "start_time": "2021-08-24T17:01:40.702Z"
   },
   {
    "duration": 321,
    "start_time": "2021-08-24T17:02:43.592Z"
   },
   {
    "duration": 44,
    "start_time": "2021-08-24T17:02:49.484Z"
   },
   {
    "duration": 73,
    "start_time": "2021-08-24T17:03:06.920Z"
   },
   {
    "duration": 34,
    "start_time": "2021-08-24T17:03:21.078Z"
   },
   {
    "duration": 6877,
    "start_time": "2021-08-24T17:03:30.560Z"
   },
   {
    "duration": 7257,
    "start_time": "2021-08-24T17:03:43.704Z"
   },
   {
    "duration": 148,
    "start_time": "2021-08-24T17:04:52.622Z"
   },
   {
    "duration": 73,
    "start_time": "2021-08-24T17:05:27.976Z"
   },
   {
    "duration": 91,
    "start_time": "2021-08-24T17:05:50.832Z"
   },
   {
    "duration": 74,
    "start_time": "2021-08-24T17:06:07.927Z"
   },
   {
    "duration": 295,
    "start_time": "2021-08-24T17:07:40.599Z"
   },
   {
    "duration": 35,
    "start_time": "2021-08-24T17:07:47.339Z"
   },
   {
    "duration": 254,
    "start_time": "2021-08-24T17:08:26.272Z"
   },
   {
    "duration": 1302,
    "start_time": "2021-08-24T17:08:38.706Z"
   },
   {
    "duration": 62,
    "start_time": "2021-08-24T17:09:43.960Z"
   },
   {
    "duration": 32,
    "start_time": "2021-08-24T17:09:56.010Z"
   },
   {
    "duration": 15,
    "start_time": "2021-08-24T17:10:11.087Z"
   },
   {
    "duration": 12,
    "start_time": "2021-08-24T17:10:27.014Z"
   },
   {
    "duration": 282,
    "start_time": "2021-08-24T17:10:32.174Z"
   },
   {
    "duration": 9,
    "start_time": "2021-08-24T17:10:40.758Z"
   },
   {
    "duration": 9,
    "start_time": "2021-08-24T17:10:50.054Z"
   },
   {
    "duration": 268,
    "start_time": "2021-08-24T17:10:54.644Z"
   },
   {
    "duration": 71,
    "start_time": "2021-08-24T17:10:57.721Z"
   },
   {
    "duration": 47,
    "start_time": "2021-08-24T17:11:00.092Z"
   },
   {
    "duration": 27,
    "start_time": "2021-08-24T17:11:11.361Z"
   },
   {
    "duration": 13,
    "start_time": "2021-08-24T17:11:28.595Z"
   },
   {
    "duration": 6,
    "start_time": "2021-08-24T17:11:34.366Z"
   },
   {
    "duration": 3512,
    "start_time": "2021-08-24T17:11:42.758Z"
   },
   {
    "duration": 4662,
    "start_time": "2021-08-24T17:11:50.657Z"
   },
   {
    "duration": 7,
    "start_time": "2021-08-24T17:12:05.041Z"
   },
   {
    "duration": 5,
    "start_time": "2021-08-24T17:12:17.548Z"
   },
   {
    "duration": 7,
    "start_time": "2021-08-24T17:12:19.586Z"
   },
   {
    "duration": 66,
    "start_time": "2021-08-24T17:12:25.221Z"
   },
   {
    "duration": 77,
    "start_time": "2021-08-24T17:12:27.318Z"
   },
   {
    "duration": 17,
    "start_time": "2021-08-24T17:12:28.263Z"
   },
   {
    "duration": 639,
    "start_time": "2021-08-24T17:18:14.776Z"
   },
   {
    "duration": 14,
    "start_time": "2021-08-24T17:18:23.705Z"
   },
   {
    "duration": 4072,
    "start_time": "2021-08-24T17:18:53.026Z"
   },
   {
    "duration": 3035,
    "start_time": "2021-08-24T17:20:51.132Z"
   },
   {
    "duration": 9,
    "start_time": "2021-08-24T17:20:57.229Z"
   },
   {
    "duration": 7287,
    "start_time": "2021-08-24T17:36:36.409Z"
   },
   {
    "duration": 528,
    "start_time": "2021-08-24T17:36:48.497Z"
   },
   {
    "duration": 10077,
    "start_time": "2021-08-24T17:36:49.028Z"
   },
   {
    "duration": 37,
    "start_time": "2021-08-24T17:36:59.108Z"
   },
   {
    "duration": 6,
    "start_time": "2021-08-24T17:36:59.168Z"
   },
   {
    "duration": 29,
    "start_time": "2021-08-24T17:36:59.176Z"
   },
   {
    "duration": 17,
    "start_time": "2021-08-24T17:36:59.208Z"
   },
   {
    "duration": 59,
    "start_time": "2021-08-24T17:36:59.227Z"
   },
   {
    "duration": 117,
    "start_time": "2021-08-24T17:36:59.289Z"
   },
   {
    "duration": 11,
    "start_time": "2021-08-24T17:36:59.409Z"
   },
   {
    "duration": -38,
    "start_time": "2021-08-24T17:37:06.251Z"
   },
   {
    "duration": 8911,
    "start_time": "2021-08-24T17:37:09.935Z"
   },
   {
    "duration": 33,
    "start_time": "2021-08-24T17:37:29.084Z"
   },
   {
    "duration": 25,
    "start_time": "2021-08-24T17:39:08.706Z"
   },
   {
    "duration": 32,
    "start_time": "2021-08-24T17:39:55.372Z"
   },
   {
    "duration": 238,
    "start_time": "2021-08-24T17:40:37.882Z"
   },
   {
    "duration": 20,
    "start_time": "2021-08-24T17:40:43.580Z"
   },
   {
    "duration": 23,
    "start_time": "2021-08-24T17:40:55.206Z"
   },
   {
    "duration": 12,
    "start_time": "2021-08-24T17:41:05.699Z"
   },
   {
    "duration": 10,
    "start_time": "2021-08-24T17:41:14.944Z"
   },
   {
    "duration": 4,
    "start_time": "2021-08-24T17:42:55.666Z"
   },
   {
    "duration": 17,
    "start_time": "2021-08-24T17:44:05.550Z"
   },
   {
    "duration": 282,
    "start_time": "2021-08-24T17:46:48.666Z"
   },
   {
    "duration": 24950,
    "start_time": "2021-08-24T17:48:08.417Z"
   },
   {
    "duration": 16,
    "start_time": "2021-08-24T17:48:38.814Z"
   },
   {
    "duration": 1387,
    "start_time": "2021-08-24T17:50:10.378Z"
   },
   {
    "duration": 282,
    "start_time": "2021-08-24T17:51:47.532Z"
   },
   {
    "duration": 3,
    "start_time": "2021-08-24T17:54:10.887Z"
   },
   {
    "duration": 5,
    "start_time": "2021-08-24T17:54:13.972Z"
   },
   {
    "duration": 5,
    "start_time": "2021-08-24T17:54:38.425Z"
   },
   {
    "duration": 5,
    "start_time": "2021-08-24T17:54:43.721Z"
   },
   {
    "duration": 5,
    "start_time": "2021-08-24T17:54:49.773Z"
   },
   {
    "duration": 5,
    "start_time": "2021-08-24T17:55:01.191Z"
   },
   {
    "duration": 286,
    "start_time": "2021-08-24T17:55:11.021Z"
   },
   {
    "duration": 5,
    "start_time": "2021-08-24T17:55:19.262Z"
   },
   {
    "duration": 8,
    "start_time": "2021-08-24T17:56:39.147Z"
   },
   {
    "duration": 16,
    "start_time": "2021-08-24T17:56:43.395Z"
   },
   {
    "duration": 27,
    "start_time": "2021-08-24T17:57:57.221Z"
   },
   {
    "duration": 6,
    "start_time": "2021-08-24T17:58:55.125Z"
   },
   {
    "duration": 6,
    "start_time": "2021-08-24T17:59:04.529Z"
   },
   {
    "duration": 6,
    "start_time": "2021-08-24T17:59:22.411Z"
   },
   {
    "duration": 6,
    "start_time": "2021-08-24T17:59:25.829Z"
   },
   {
    "duration": 6,
    "start_time": "2021-08-24T17:59:42.992Z"
   },
   {
    "duration": 286,
    "start_time": "2021-08-24T18:01:35.210Z"
   },
   {
    "duration": 287,
    "start_time": "2021-08-24T18:01:48.999Z"
   },
   {
    "duration": 16,
    "start_time": "2021-08-24T18:01:59.507Z"
   },
   {
    "duration": 31,
    "start_time": "2021-08-24T18:02:16.540Z"
   },
   {
    "duration": 107,
    "start_time": "2021-08-24T18:02:59.790Z"
   },
   {
    "duration": 112,
    "start_time": "2021-08-24T18:07:08.742Z"
   },
   {
    "duration": 107,
    "start_time": "2021-08-24T18:07:22.992Z"
   },
   {
    "duration": 108,
    "start_time": "2021-08-24T18:07:42.994Z"
   },
   {
    "duration": 140,
    "start_time": "2021-08-24T18:08:03.368Z"
   },
   {
    "duration": 124,
    "start_time": "2021-08-24T18:08:13.242Z"
   },
   {
    "duration": 27,
    "start_time": "2021-08-24T18:08:21.863Z"
   },
   {
    "duration": 119,
    "start_time": "2021-08-24T18:08:51.684Z"
   },
   {
    "duration": 273,
    "start_time": "2021-08-24T18:09:32.811Z"
   },
   {
    "duration": 130,
    "start_time": "2021-08-24T18:09:46.484Z"
   },
   {
    "duration": 102,
    "start_time": "2021-08-24T18:10:03.598Z"
   },
   {
    "duration": 115,
    "start_time": "2021-08-24T18:10:17.709Z"
   },
   {
    "duration": 157,
    "start_time": "2021-08-24T18:11:10.843Z"
   },
   {
    "duration": 420,
    "start_time": "2021-08-24T18:11:35.711Z"
   },
   {
    "duration": 336,
    "start_time": "2021-08-24T18:11:44.653Z"
   },
   {
    "duration": 121,
    "start_time": "2021-08-24T18:18:55.425Z"
   },
   {
    "duration": 124,
    "start_time": "2021-08-24T18:19:54.153Z"
   },
   {
    "duration": 382,
    "start_time": "2021-08-24T18:25:02.981Z"
   },
   {
    "duration": 164,
    "start_time": "2021-08-24T18:25:22.646Z"
   },
   {
    "duration": 1351,
    "start_time": "2021-08-24T18:27:38.279Z"
   },
   {
    "duration": 266,
    "start_time": "2021-08-24T18:28:02.474Z"
   },
   {
    "duration": 273,
    "start_time": "2021-08-24T18:28:11.610Z"
   },
   {
    "duration": 1295,
    "start_time": "2021-08-24T18:28:18.788Z"
   },
   {
    "duration": 274,
    "start_time": "2021-08-24T18:28:27.664Z"
   },
   {
    "duration": 244,
    "start_time": "2021-08-24T18:29:02.163Z"
   },
   {
    "duration": 233,
    "start_time": "2021-08-24T18:29:20.526Z"
   },
   {
    "duration": 299,
    "start_time": "2021-08-24T18:39:30.683Z"
   },
   {
    "duration": 4,
    "start_time": "2021-08-24T18:39:52.936Z"
   },
   {
    "duration": 288,
    "start_time": "2021-08-24T18:39:56.366Z"
   },
   {
    "duration": 295,
    "start_time": "2021-08-24T18:40:07.584Z"
   },
   {
    "duration": 37,
    "start_time": "2021-08-24T18:42:02.628Z"
   },
   {
    "duration": 12,
    "start_time": "2021-08-24T18:44:51.805Z"
   },
   {
    "duration": 23,
    "start_time": "2021-08-24T18:45:51.634Z"
   },
   {
    "duration": 6,
    "start_time": "2021-08-24T18:49:19.907Z"
   },
   {
    "duration": 257,
    "start_time": "2021-08-24T18:49:26.886Z"
   },
   {
    "duration": 28,
    "start_time": "2021-08-24T18:49:31.704Z"
   },
   {
    "duration": 9,
    "start_time": "2021-08-24T18:50:17.319Z"
   },
   {
    "duration": 10,
    "start_time": "2021-08-24T18:50:38.082Z"
   },
   {
    "duration": 5,
    "start_time": "2021-08-24T18:52:56.080Z"
   },
   {
    "duration": 1121,
    "start_time": "2021-08-24T18:53:16.218Z"
   },
   {
    "duration": 5,
    "start_time": "2021-08-24T18:53:54.800Z"
   },
   {
    "duration": 1127,
    "start_time": "2021-08-24T18:53:56.616Z"
   },
   {
    "duration": 4,
    "start_time": "2021-08-24T18:54:15.876Z"
   },
   {
    "duration": 1294,
    "start_time": "2021-08-24T18:54:17.249Z"
   },
   {
    "duration": 4,
    "start_time": "2021-08-24T18:54:54.220Z"
   },
   {
    "duration": 1129,
    "start_time": "2021-08-24T18:54:54.670Z"
   },
   {
    "duration": 4,
    "start_time": "2021-08-24T18:56:05.878Z"
   },
   {
    "duration": 573,
    "start_time": "2021-08-24T18:56:06.369Z"
   },
   {
    "duration": 4,
    "start_time": "2021-08-24T18:57:08.406Z"
   },
   {
    "duration": 8522,
    "start_time": "2021-08-24T18:57:08.997Z"
   },
   {
    "duration": 4,
    "start_time": "2021-08-24T18:57:58.084Z"
   },
   {
    "duration": 7884,
    "start_time": "2021-08-24T18:57:58.575Z"
   },
   {
    "duration": 23,
    "start_time": "2021-08-24T18:58:24.404Z"
   },
   {
    "duration": 4,
    "start_time": "2021-08-24T18:58:37.442Z"
   },
   {
    "duration": 618,
    "start_time": "2021-08-24T18:58:38.769Z"
   },
   {
    "duration": 4,
    "start_time": "2021-08-24T18:58:54.817Z"
   },
   {
    "duration": 585,
    "start_time": "2021-08-24T18:58:55.135Z"
   },
   {
    "duration": 4,
    "start_time": "2021-08-24T18:59:15.650Z"
   },
   {
    "duration": 609,
    "start_time": "2021-08-24T18:59:16.514Z"
   },
   {
    "duration": 4,
    "start_time": "2021-08-24T18:59:27.886Z"
   },
   {
    "duration": 493,
    "start_time": "2021-08-24T18:59:28.255Z"
   },
   {
    "duration": 4,
    "start_time": "2021-08-24T18:59:37.568Z"
   },
   {
    "duration": 2756,
    "start_time": "2021-08-24T18:59:38.927Z"
   },
   {
    "duration": 4,
    "start_time": "2021-08-24T19:00:25.290Z"
   },
   {
    "duration": 538,
    "start_time": "2021-08-24T19:00:25.716Z"
   },
   {
    "duration": 4,
    "start_time": "2021-08-24T19:00:36.557Z"
   },
   {
    "duration": 537,
    "start_time": "2021-08-24T19:00:36.992Z"
   },
   {
    "duration": 6981,
    "start_time": "2021-08-24T19:03:28.411Z"
   },
   {
    "duration": 27,
    "start_time": "2021-08-24T19:03:59.845Z"
   },
   {
    "duration": 23,
    "start_time": "2021-08-24T19:04:07.643Z"
   },
   {
    "duration": 27,
    "start_time": "2021-08-24T19:04:23.309Z"
   },
   {
    "duration": 36,
    "start_time": "2021-08-24T19:04:42.219Z"
   },
   {
    "duration": 30,
    "start_time": "2021-08-24T19:04:48.926Z"
   },
   {
    "duration": 15,
    "start_time": "2021-08-24T19:04:54.153Z"
   },
   {
    "duration": 39,
    "start_time": "2021-08-24T19:05:51.925Z"
   },
   {
    "duration": 30,
    "start_time": "2021-08-24T19:06:40.313Z"
   },
   {
    "duration": 266,
    "start_time": "2021-08-24T19:06:54.029Z"
   },
   {
    "duration": 244,
    "start_time": "2021-08-24T19:07:26.838Z"
   },
   {
    "duration": 292,
    "start_time": "2021-08-24T19:08:10.587Z"
   },
   {
    "duration": 255,
    "start_time": "2021-08-24T19:08:15.534Z"
   },
   {
    "duration": 88,
    "start_time": "2021-08-24T19:09:07.882Z"
   },
   {
    "duration": 258,
    "start_time": "2021-08-24T19:09:14.192Z"
   },
   {
    "duration": 313,
    "start_time": "2021-08-25T15:56:53.194Z"
   },
   {
    "duration": 712,
    "start_time": "2021-08-25T15:56:56.702Z"
   },
   {
    "duration": 534,
    "start_time": "2021-08-25T15:56:57.417Z"
   },
   {
    "duration": 50,
    "start_time": "2021-08-25T15:56:57.954Z"
   },
   {
    "duration": 31,
    "start_time": "2021-08-25T15:56:58.007Z"
   },
   {
    "duration": 7,
    "start_time": "2021-08-25T15:56:58.040Z"
   },
   {
    "duration": 60,
    "start_time": "2021-08-25T15:56:58.050Z"
   },
   {
    "duration": 17,
    "start_time": "2021-08-25T15:56:58.112Z"
   },
   {
    "duration": 22,
    "start_time": "2021-08-25T15:56:58.131Z"
   },
   {
    "duration": 103,
    "start_time": "2021-08-25T15:56:58.189Z"
   },
   {
    "duration": 12,
    "start_time": "2021-08-25T15:56:58.299Z"
   },
   {
    "duration": 143,
    "start_time": "2021-08-25T15:56:58.314Z"
   },
   {
    "duration": 165,
    "start_time": "2021-08-25T15:56:58.459Z"
   },
   {
    "duration": 222,
    "start_time": "2021-08-25T15:56:58.626Z"
   },
   {
    "duration": 56,
    "start_time": "2021-08-25T15:56:58.851Z"
   },
   {
    "duration": 22,
    "start_time": "2021-08-25T16:02:14.635Z"
   },
   {
    "duration": 25,
    "start_time": "2021-08-25T16:02:29.384Z"
   },
   {
    "duration": 22,
    "start_time": "2021-08-25T16:02:35.639Z"
   },
   {
    "duration": 11,
    "start_time": "2021-08-25T16:02:49.916Z"
   },
   {
    "duration": 4,
    "start_time": "2021-08-25T16:03:06.861Z"
   },
   {
    "duration": 489,
    "start_time": "2021-08-25T16:03:06.869Z"
   },
   {
    "duration": 39,
    "start_time": "2021-08-25T16:03:07.360Z"
   },
   {
    "duration": 30,
    "start_time": "2021-08-25T16:03:07.402Z"
   },
   {
    "duration": 6,
    "start_time": "2021-08-25T16:03:07.434Z"
   },
   {
    "duration": 67,
    "start_time": "2021-08-25T16:03:07.442Z"
   },
   {
    "duration": 16,
    "start_time": "2021-08-25T16:03:07.511Z"
   },
   {
    "duration": 33,
    "start_time": "2021-08-25T16:03:07.530Z"
   },
   {
    "duration": 116,
    "start_time": "2021-08-25T16:03:07.566Z"
   },
   {
    "duration": 14,
    "start_time": "2021-08-25T16:03:07.687Z"
   },
   {
    "duration": 141,
    "start_time": "2021-08-25T16:03:07.703Z"
   },
   {
    "duration": 164,
    "start_time": "2021-08-25T16:03:07.846Z"
   },
   {
    "duration": 224,
    "start_time": "2021-08-25T16:03:08.013Z"
   },
   {
    "duration": 58,
    "start_time": "2021-08-25T16:03:08.240Z"
   },
   {
    "duration": 23,
    "start_time": "2021-08-25T16:03:08.300Z"
   },
   {
    "duration": 82,
    "start_time": "2021-08-25T16:03:08.326Z"
   },
   {
    "duration": 7,
    "start_time": "2021-08-25T16:04:58.027Z"
   },
   {
    "duration": 6,
    "start_time": "2021-08-25T16:05:04.777Z"
   },
   {
    "duration": 8,
    "start_time": "2021-08-25T16:05:09.294Z"
   },
   {
    "duration": 5,
    "start_time": "2021-08-25T16:05:15.611Z"
   },
   {
    "duration": 7,
    "start_time": "2021-08-25T16:05:19.857Z"
   },
   {
    "duration": 6977,
    "start_time": "2021-08-25T16:05:59.421Z"
   },
   {
    "duration": 22,
    "start_time": "2021-08-25T16:13:28.070Z"
   },
   {
    "duration": 5,
    "start_time": "2021-08-25T16:20:29.063Z"
   },
   {
    "duration": 22,
    "start_time": "2021-08-25T16:20:33.236Z"
   },
   {
    "duration": 7,
    "start_time": "2021-08-25T16:22:02.583Z"
   },
   {
    "duration": 6,
    "start_time": "2021-08-25T16:22:18.989Z"
   },
   {
    "duration": 6,
    "start_time": "2021-08-25T16:22:26.751Z"
   },
   {
    "duration": 6,
    "start_time": "2021-08-25T16:24:05.888Z"
   },
   {
    "duration": 6,
    "start_time": "2021-08-25T16:24:13.050Z"
   },
   {
    "duration": 6,
    "start_time": "2021-08-25T16:25:06.016Z"
   },
   {
    "duration": 91,
    "start_time": "2021-08-25T16:28:36.284Z"
   },
   {
    "duration": 5,
    "start_time": "2021-08-25T16:28:42.205Z"
   },
   {
    "duration": 5,
    "start_time": "2021-08-25T16:28:46.203Z"
   },
   {
    "duration": 5,
    "start_time": "2021-08-25T16:30:17.042Z"
   },
   {
    "duration": 5,
    "start_time": "2021-08-25T16:30:26.756Z"
   },
   {
    "duration": 271,
    "start_time": "2021-08-25T16:30:32.794Z"
   },
   {
    "duration": 259,
    "start_time": "2021-08-25T16:30:36.638Z"
   },
   {
    "duration": 6,
    "start_time": "2021-08-25T16:30:42.933Z"
   },
   {
    "duration": 256,
    "start_time": "2021-08-25T16:31:04.716Z"
   },
   {
    "duration": 490,
    "start_time": "2021-08-25T16:33:42.686Z"
   },
   {
    "duration": 460,
    "start_time": "2021-08-25T16:34:35.872Z"
   },
   {
    "duration": 7,
    "start_time": "2021-08-25T16:35:24.020Z"
   },
   {
    "duration": 6,
    "start_time": "2021-08-25T16:35:30.253Z"
   },
   {
    "duration": 7,
    "start_time": "2021-08-25T16:35:59.735Z"
   },
   {
    "duration": 7,
    "start_time": "2021-08-25T16:36:06.585Z"
   },
   {
    "duration": 514,
    "start_time": "2021-08-25T16:36:34.184Z"
   },
   {
    "duration": 494,
    "start_time": "2021-08-25T16:37:06.724Z"
   },
   {
    "duration": 21,
    "start_time": "2021-08-25T16:37:25.310Z"
   },
   {
    "duration": 477,
    "start_time": "2021-08-25T16:37:56.102Z"
   },
   {
    "duration": 447,
    "start_time": "2021-08-25T16:39:18.435Z"
   },
   {
    "duration": 502,
    "start_time": "2021-08-25T16:39:34.538Z"
   },
   {
    "duration": 484,
    "start_time": "2021-08-25T16:39:41.198Z"
   },
   {
    "duration": 509,
    "start_time": "2021-08-25T16:40:12.437Z"
   },
   {
    "duration": 438,
    "start_time": "2021-08-25T16:40:40.168Z"
   },
   {
    "duration": 446,
    "start_time": "2021-08-25T16:42:15.730Z"
   },
   {
    "duration": 489,
    "start_time": "2021-08-25T16:42:22.928Z"
   },
   {
    "duration": 434,
    "start_time": "2021-08-25T16:43:33.332Z"
   },
   {
    "duration": 479,
    "start_time": "2021-08-25T16:44:02.968Z"
   },
   {
    "duration": 505,
    "start_time": "2021-08-25T16:44:22.694Z"
   },
   {
    "duration": 7,
    "start_time": "2021-08-25T16:44:39.204Z"
   },
   {
    "duration": 478,
    "start_time": "2021-08-25T16:45:12.351Z"
   },
   {
    "duration": 453,
    "start_time": "2021-08-25T16:45:23.804Z"
   },
   {
    "duration": 441,
    "start_time": "2021-08-25T16:45:28.865Z"
   },
   {
    "duration": 431,
    "start_time": "2021-08-25T16:45:40.539Z"
   },
   {
    "duration": 495,
    "start_time": "2021-08-25T16:46:03.718Z"
   },
   {
    "duration": 487,
    "start_time": "2021-08-25T16:46:19.788Z"
   },
   {
    "duration": 273,
    "start_time": "2021-08-25T16:46:44.564Z"
   },
   {
    "duration": 8,
    "start_time": "2021-08-25T16:46:49.708Z"
   },
   {
    "duration": 7,
    "start_time": "2021-08-25T16:47:02.206Z"
   },
   {
    "duration": 7,
    "start_time": "2021-08-25T16:47:14.988Z"
   },
   {
    "duration": 7,
    "start_time": "2021-08-25T16:47:55.356Z"
   },
   {
    "duration": 8,
    "start_time": "2021-08-25T16:47:59.045Z"
   },
   {
    "duration": 8,
    "start_time": "2021-08-25T16:49:51.414Z"
   },
   {
    "duration": 6,
    "start_time": "2021-08-25T16:50:21.011Z"
   },
   {
    "duration": 470,
    "start_time": "2021-08-25T16:51:40.792Z"
   },
   {
    "duration": 529,
    "start_time": "2021-08-25T16:52:57.794Z"
   },
   {
    "duration": 15,
    "start_time": "2021-08-25T16:53:46.735Z"
   },
   {
    "duration": 442,
    "start_time": "2021-08-25T16:55:26.765Z"
   },
   {
    "duration": 417,
    "start_time": "2021-08-25T16:55:39.267Z"
   },
   {
    "duration": 509,
    "start_time": "2021-08-25T16:56:54.990Z"
   },
   {
    "duration": 520,
    "start_time": "2021-08-25T16:59:10.502Z"
   },
   {
    "duration": 495,
    "start_time": "2021-08-25T16:59:22.855Z"
   },
   {
    "duration": 3707,
    "start_time": "2021-08-25T16:59:44.824Z"
   },
   {
    "duration": 2658,
    "start_time": "2021-08-25T17:00:02.125Z"
   },
   {
    "duration": 23,
    "start_time": "2021-08-25T17:00:10.706Z"
   },
   {
    "duration": 4,
    "start_time": "2021-08-25T17:01:36.593Z"
   },
   {
    "duration": 492,
    "start_time": "2021-08-25T17:01:36.600Z"
   },
   {
    "duration": 33,
    "start_time": "2021-08-25T17:01:37.095Z"
   },
   {
    "duration": 28,
    "start_time": "2021-08-25T17:01:37.131Z"
   },
   {
    "duration": 6,
    "start_time": "2021-08-25T17:01:37.182Z"
   },
   {
    "duration": 27,
    "start_time": "2021-08-25T17:01:37.190Z"
   },
   {
    "duration": 18,
    "start_time": "2021-08-25T17:01:37.220Z"
   },
   {
    "duration": 59,
    "start_time": "2021-08-25T17:01:37.242Z"
   },
   {
    "duration": 115,
    "start_time": "2021-08-25T17:01:37.305Z"
   },
   {
    "duration": 10,
    "start_time": "2021-08-25T17:01:37.423Z"
   },
   {
    "duration": 15,
    "start_time": "2021-08-25T17:01:37.436Z"
   },
   {
    "duration": 126,
    "start_time": "2021-08-25T17:01:37.454Z"
   },
   {
    "duration": 140,
    "start_time": "2021-08-25T17:01:37.583Z"
   },
   {
    "duration": 182,
    "start_time": "2021-08-25T17:01:37.726Z"
   },
   {
    "duration": 41,
    "start_time": "2021-08-25T17:01:37.911Z"
   },
   {
    "duration": 41,
    "start_time": "2021-08-25T17:01:37.954Z"
   },
   {
    "duration": 14,
    "start_time": "2021-08-25T17:01:37.997Z"
   },
   {
    "duration": 25,
    "start_time": "2021-08-25T17:01:38.013Z"
   },
   {
    "duration": 30,
    "start_time": "2021-08-25T17:01:38.042Z"
   },
   {
    "duration": 2632,
    "start_time": "2021-08-25T17:01:38.074Z"
   },
   {
    "duration": 26,
    "start_time": "2021-08-25T17:01:40.709Z"
   },
   {
    "duration": 14,
    "start_time": "2021-08-25T17:02:54.923Z"
   },
   {
    "duration": 5,
    "start_time": "2021-08-25T17:11:39.187Z"
   },
   {
    "duration": 277,
    "start_time": "2021-08-25T17:11:58.294Z"
   },
   {
    "duration": 4,
    "start_time": "2021-08-25T17:12:05.955Z"
   },
   {
    "duration": 5,
    "start_time": "2021-08-25T17:12:10.292Z"
   },
   {
    "duration": 2629,
    "start_time": "2021-08-25T17:13:22.048Z"
   },
   {
    "duration": 23,
    "start_time": "2021-08-25T17:13:27.500Z"
   },
   {
    "duration": 5,
    "start_time": "2021-08-25T17:41:06.800Z"
   },
   {
    "duration": 277,
    "start_time": "2021-08-25T17:44:17.295Z"
   },
   {
    "duration": 9,
    "start_time": "2021-08-25T17:44:23.719Z"
   },
   {
    "duration": 22,
    "start_time": "2021-08-25T17:44:27.267Z"
   },
   {
    "duration": 13,
    "start_time": "2021-08-25T17:44:34.500Z"
   },
   {
    "duration": 24,
    "start_time": "2021-08-25T17:44:43.199Z"
   },
   {
    "duration": 6981,
    "start_time": "2021-08-25T17:45:01.660Z"
   },
   {
    "duration": 7,
    "start_time": "2021-08-25T17:45:14.266Z"
   },
   {
    "duration": 7,
    "start_time": "2021-08-25T17:45:20.504Z"
   },
   {
    "duration": 260,
    "start_time": "2021-08-25T17:45:26.741Z"
   },
   {
    "duration": 9,
    "start_time": "2021-08-25T17:45:31.134Z"
   },
   {
    "duration": 6,
    "start_time": "2021-08-25T17:45:35.521Z"
   },
   {
    "duration": 269,
    "start_time": "2021-08-25T17:45:40.659Z"
   },
   {
    "duration": 386,
    "start_time": "2021-08-25T17:45:43.689Z"
   },
   {
    "duration": 6,
    "start_time": "2021-08-25T17:45:47.326Z"
   },
   {
    "duration": 26,
    "start_time": "2021-08-25T17:46:06.328Z"
   },
   {
    "duration": 36,
    "start_time": "2021-08-25T17:47:15.732Z"
   },
   {
    "duration": 27,
    "start_time": "2021-08-25T17:47:52.888Z"
   },
   {
    "duration": 19,
    "start_time": "2021-08-25T17:48:02.823Z"
   },
   {
    "duration": 6607,
    "start_time": "2021-08-25T17:48:27.516Z"
   },
   {
    "duration": 7925,
    "start_time": "2021-08-25T17:48:41.223Z"
   },
   {
    "duration": 8,
    "start_time": "2021-08-25T17:48:52.936Z"
   },
   {
    "duration": 6,
    "start_time": "2021-08-25T17:48:59.161Z"
   },
   {
    "duration": 7094,
    "start_time": "2021-08-25T17:49:29.431Z"
   },
   {
    "duration": 16,
    "start_time": "2021-08-25T17:49:45.731Z"
   },
   {
    "duration": 9,
    "start_time": "2021-08-25T17:50:03.905Z"
   },
   {
    "duration": 8,
    "start_time": "2021-08-25T17:50:08.291Z"
   },
   {
    "duration": 24,
    "start_time": "2021-08-25T17:50:32.162Z"
   },
   {
    "duration": 26,
    "start_time": "2021-08-25T17:51:29.983Z"
   },
   {
    "duration": 24,
    "start_time": "2021-08-25T17:54:04.786Z"
   },
   {
    "duration": 46,
    "start_time": "2021-08-25T17:54:50.607Z"
   },
   {
    "duration": 48,
    "start_time": "2021-08-25T17:55:30.222Z"
   },
   {
    "duration": 41,
    "start_time": "2021-08-25T17:55:51.464Z"
   },
   {
    "duration": 43,
    "start_time": "2021-08-25T17:56:06.031Z"
   },
   {
    "duration": 38,
    "start_time": "2021-08-25T17:58:47.197Z"
   },
   {
    "duration": 34,
    "start_time": "2021-08-25T17:58:54.817Z"
   },
   {
    "duration": 34,
    "start_time": "2021-08-25T17:59:04.810Z"
   },
   {
    "duration": 32,
    "start_time": "2021-08-25T17:59:09.571Z"
   },
   {
    "duration": 39,
    "start_time": "2021-08-25T17:59:56.857Z"
   },
   {
    "duration": 39,
    "start_time": "2021-08-25T18:00:02.035Z"
   },
   {
    "duration": 87,
    "start_time": "2021-08-25T18:00:36.386Z"
   },
   {
    "duration": 36,
    "start_time": "2021-08-25T18:00:42.947Z"
   },
   {
    "duration": 46,
    "start_time": "2021-08-25T18:00:53.595Z"
   },
   {
    "duration": 34,
    "start_time": "2021-08-25T18:02:22.466Z"
   },
   {
    "duration": -25,
    "start_time": "2021-08-25T18:02:47.877Z"
   },
   {
    "duration": 24,
    "start_time": "2021-08-25T18:02:51.197Z"
   },
   {
    "duration": 278,
    "start_time": "2021-08-25T18:03:08.680Z"
   },
   {
    "duration": 302,
    "start_time": "2021-08-25T18:03:23.803Z"
   },
   {
    "duration": 6536,
    "start_time": "2021-08-25T18:03:34.014Z"
   },
   {
    "duration": 49,
    "start_time": "2021-08-25T18:03:50.493Z"
   },
   {
    "duration": 32,
    "start_time": "2021-08-25T18:04:12.736Z"
   },
   {
    "duration": 29,
    "start_time": "2021-08-25T18:04:28.353Z"
   },
   {
    "duration": 29,
    "start_time": "2021-08-25T18:04:44.604Z"
   },
   {
    "duration": 26,
    "start_time": "2021-08-25T18:04:46.128Z"
   },
   {
    "duration": 23,
    "start_time": "2021-08-25T18:05:11.289Z"
   },
   {
    "duration": 16,
    "start_time": "2021-08-25T18:05:50.246Z"
   },
   {
    "duration": 7,
    "start_time": "2021-08-25T18:05:58.312Z"
   },
   {
    "duration": 15,
    "start_time": "2021-08-25T18:06:04.135Z"
   },
   {
    "duration": 38,
    "start_time": "2021-08-25T18:06:21.015Z"
   },
   {
    "duration": 289,
    "start_time": "2021-08-25T18:06:43.278Z"
   },
   {
    "duration": 6559,
    "start_time": "2021-08-25T18:06:53.408Z"
   },
   {
    "duration": 27,
    "start_time": "2021-08-25T18:07:10.678Z"
   },
   {
    "duration": 279,
    "start_time": "2021-08-25T18:07:18.760Z"
   },
   {
    "duration": 32,
    "start_time": "2021-08-25T18:07:23.418Z"
   },
   {
    "duration": 24,
    "start_time": "2021-08-25T18:07:54.016Z"
   },
   {
    "duration": 27,
    "start_time": "2021-08-25T18:11:03.646Z"
   },
   {
    "duration": 28,
    "start_time": "2021-08-25T18:12:12.448Z"
   },
   {
    "duration": 27,
    "start_time": "2021-08-25T18:12:18.360Z"
   },
   {
    "duration": 29,
    "start_time": "2021-08-25T18:13:47.690Z"
   },
   {
    "duration": 41,
    "start_time": "2021-08-25T18:15:22.085Z"
   },
   {
    "duration": 26,
    "start_time": "2021-08-25T18:16:11.807Z"
   },
   {
    "duration": 4,
    "start_time": "2021-08-25T18:17:37.555Z"
   },
   {
    "duration": 549,
    "start_time": "2021-08-25T18:17:37.563Z"
   },
   {
    "duration": 31,
    "start_time": "2021-08-25T18:17:38.115Z"
   },
   {
    "duration": 28,
    "start_time": "2021-08-25T18:17:38.149Z"
   },
   {
    "duration": 5,
    "start_time": "2021-08-25T18:17:38.183Z"
   },
   {
    "duration": 37,
    "start_time": "2021-08-25T18:17:38.190Z"
   },
   {
    "duration": 16,
    "start_time": "2021-08-25T18:17:38.229Z"
   },
   {
    "duration": 45,
    "start_time": "2021-08-25T18:17:38.249Z"
   },
   {
    "duration": 102,
    "start_time": "2021-08-25T18:17:38.297Z"
   },
   {
    "duration": 10,
    "start_time": "2021-08-25T18:17:38.401Z"
   },
   {
    "duration": 7,
    "start_time": "2021-08-25T18:17:38.414Z"
   },
   {
    "duration": 126,
    "start_time": "2021-08-25T18:17:38.423Z"
   },
   {
    "duration": 134,
    "start_time": "2021-08-25T18:17:38.552Z"
   },
   {
    "duration": 181,
    "start_time": "2021-08-25T18:17:38.688Z"
   },
   {
    "duration": 48,
    "start_time": "2021-08-25T18:17:38.872Z"
   },
   {
    "duration": 24,
    "start_time": "2021-08-25T18:17:38.923Z"
   },
   {
    "duration": 2590,
    "start_time": "2021-08-25T18:17:38.950Z"
   },
   {
    "duration": 39,
    "start_time": "2021-08-25T18:17:41.543Z"
   },
   {
    "duration": 254,
    "start_time": "2021-08-25T18:18:12.758Z"
   },
   {
    "duration": 28,
    "start_time": "2021-08-25T18:19:02.198Z"
   },
   {
    "duration": 28,
    "start_time": "2021-08-25T18:19:11.826Z"
   },
   {
    "duration": 45,
    "start_time": "2021-08-25T18:19:29.732Z"
   },
   {
    "duration": 30,
    "start_time": "2021-08-25T18:20:50.431Z"
   },
   {
    "duration": 47,
    "start_time": "2021-08-25T18:20:57.210Z"
   },
   {
    "duration": 315,
    "start_time": "2021-08-25T18:21:34.082Z"
   },
   {
    "duration": 262,
    "start_time": "2021-08-25T18:21:44.918Z"
   },
   {
    "duration": 12,
    "start_time": "2021-08-25T18:21:59.803Z"
   },
   {
    "duration": 36,
    "start_time": "2021-08-25T18:23:25.230Z"
   },
   {
    "duration": 15,
    "start_time": "2021-08-25T18:23:33.039Z"
   },
   {
    "duration": 37,
    "start_time": "2021-08-25T18:23:40.426Z"
   },
   {
    "duration": 36,
    "start_time": "2021-08-25T18:23:55.704Z"
   },
   {
    "duration": 299,
    "start_time": "2021-08-25T18:24:20.148Z"
   },
   {
    "duration": 287,
    "start_time": "2021-08-25T18:24:51.246Z"
   },
   {
    "duration": 6527,
    "start_time": "2021-08-25T18:24:56.728Z"
   },
   {
    "duration": 35,
    "start_time": "2021-08-25T18:25:12.248Z"
   },
   {
    "duration": 49,
    "start_time": "2021-08-25T18:28:42.698Z"
   },
   {
    "duration": 401,
    "start_time": "2021-08-25T18:29:52.782Z"
   },
   {
    "duration": 310,
    "start_time": "2021-08-25T18:30:00.816Z"
   },
   {
    "duration": 29,
    "start_time": "2021-08-25T18:30:13.598Z"
   },
   {
    "duration": 30,
    "start_time": "2021-08-25T18:31:15.238Z"
   },
   {
    "duration": 252,
    "start_time": "2021-08-25T18:31:48.178Z"
   },
   {
    "duration": 28,
    "start_time": "2021-08-25T18:32:17.180Z"
   },
   {
    "duration": 8,
    "start_time": "2021-08-25T18:32:58.447Z"
   },
   {
    "duration": 123,
    "start_time": "2021-08-25T18:33:15.576Z"
   },
   {
    "duration": 66,
    "start_time": "2021-08-25T18:33:52.688Z"
   },
   {
    "duration": 75,
    "start_time": "2021-08-25T18:33:59.447Z"
   },
   {
    "duration": 54,
    "start_time": "2021-08-25T18:34:06.042Z"
   },
   {
    "duration": 52,
    "start_time": "2021-08-25T18:35:35.475Z"
   },
   {
    "duration": 263,
    "start_time": "2021-08-25T18:36:34.583Z"
   },
   {
    "duration": 4,
    "start_time": "2021-08-25T18:36:42.036Z"
   },
   {
    "duration": 534,
    "start_time": "2021-08-25T18:36:42.043Z"
   },
   {
    "duration": 41,
    "start_time": "2021-08-25T18:36:42.580Z"
   },
   {
    "duration": 29,
    "start_time": "2021-08-25T18:36:42.624Z"
   },
   {
    "duration": 17,
    "start_time": "2021-08-25T18:36:42.682Z"
   },
   {
    "duration": 26,
    "start_time": "2021-08-25T18:36:42.707Z"
   },
   {
    "duration": 23,
    "start_time": "2021-08-25T18:36:42.735Z"
   },
   {
    "duration": 61,
    "start_time": "2021-08-25T18:36:42.760Z"
   },
   {
    "duration": 114,
    "start_time": "2021-08-25T18:36:42.825Z"
   },
   {
    "duration": 9,
    "start_time": "2021-08-25T18:36:42.942Z"
   },
   {
    "duration": 17,
    "start_time": "2021-08-25T18:36:42.954Z"
   },
   {
    "duration": 126,
    "start_time": "2021-08-25T18:36:42.973Z"
   },
   {
    "duration": 144,
    "start_time": "2021-08-25T18:36:43.101Z"
   },
   {
    "duration": 205,
    "start_time": "2021-08-25T18:36:43.248Z"
   },
   {
    "duration": 64,
    "start_time": "2021-08-25T18:36:43.455Z"
   },
   {
    "duration": 24,
    "start_time": "2021-08-25T18:36:43.521Z"
   },
   {
    "duration": 2758,
    "start_time": "2021-08-25T18:36:43.547Z"
   },
   {
    "duration": 25,
    "start_time": "2021-08-25T18:36:46.307Z"
   },
   {
    "duration": 53,
    "start_time": "2021-08-25T18:36:46.334Z"
   },
   {
    "duration": 288,
    "start_time": "2021-08-25T18:36:50.425Z"
   },
   {
    "duration": 375,
    "start_time": "2021-08-25T18:37:08.398Z"
   },
   {
    "duration": 5,
    "start_time": "2021-08-25T18:37:15.002Z"
   },
   {
    "duration": 528,
    "start_time": "2021-08-25T18:37:15.011Z"
   },
   {
    "duration": 34,
    "start_time": "2021-08-25T18:37:15.542Z"
   },
   {
    "duration": 38,
    "start_time": "2021-08-25T18:37:15.579Z"
   },
   {
    "duration": 6,
    "start_time": "2021-08-25T18:37:15.619Z"
   },
   {
    "duration": 26,
    "start_time": "2021-08-25T18:37:15.628Z"
   },
   {
    "duration": 30,
    "start_time": "2021-08-25T18:37:15.682Z"
   },
   {
    "duration": 28,
    "start_time": "2021-08-25T18:37:15.714Z"
   },
   {
    "duration": 112,
    "start_time": "2021-08-25T18:37:15.746Z"
   },
   {
    "duration": 9,
    "start_time": "2021-08-25T18:37:15.861Z"
   },
   {
    "duration": 22,
    "start_time": "2021-08-25T18:37:15.873Z"
   },
   {
    "duration": 120,
    "start_time": "2021-08-25T18:37:15.897Z"
   },
   {
    "duration": 137,
    "start_time": "2021-08-25T18:37:16.019Z"
   },
   {
    "duration": 191,
    "start_time": "2021-08-25T18:37:16.158Z"
   },
   {
    "duration": 53,
    "start_time": "2021-08-25T18:37:16.352Z"
   },
   {
    "duration": 22,
    "start_time": "2021-08-25T18:37:16.407Z"
   },
   {
    "duration": 2746,
    "start_time": "2021-08-25T18:37:16.431Z"
   },
   {
    "duration": 32,
    "start_time": "2021-08-25T18:37:19.182Z"
   },
   {
    "duration": 712,
    "start_time": "2021-08-25T18:38:03.547Z"
   },
   {
    "duration": 505,
    "start_time": "2021-08-25T18:38:04.262Z"
   },
   {
    "duration": 54,
    "start_time": "2021-08-25T18:38:04.770Z"
   },
   {
    "duration": 28,
    "start_time": "2021-08-25T18:38:04.832Z"
   },
   {
    "duration": 7,
    "start_time": "2021-08-25T18:38:04.862Z"
   },
   {
    "duration": 29,
    "start_time": "2021-08-25T18:38:04.889Z"
   },
   {
    "duration": 18,
    "start_time": "2021-08-25T18:38:04.920Z"
   },
   {
    "duration": 65,
    "start_time": "2021-08-25T18:38:04.941Z"
   },
   {
    "duration": 118,
    "start_time": "2021-08-25T18:38:05.009Z"
   },
   {
    "duration": 12,
    "start_time": "2021-08-25T18:38:05.130Z"
   },
   {
    "duration": 9,
    "start_time": "2021-08-25T18:38:05.144Z"
   },
   {
    "duration": 145,
    "start_time": "2021-08-25T18:38:05.155Z"
   },
   {
    "duration": 146,
    "start_time": "2021-08-25T18:38:05.302Z"
   },
   {
    "duration": 202,
    "start_time": "2021-08-25T18:38:05.450Z"
   },
   {
    "duration": 60,
    "start_time": "2021-08-25T18:38:05.654Z"
   },
   {
    "duration": 21,
    "start_time": "2021-08-25T18:38:05.716Z"
   },
   {
    "duration": 2744,
    "start_time": "2021-08-25T18:38:05.740Z"
   },
   {
    "duration": 30,
    "start_time": "2021-08-25T18:38:08.487Z"
   },
   {
    "duration": 29,
    "start_time": "2021-08-25T18:38:37.201Z"
   },
   {
    "duration": 24,
    "start_time": "2021-08-25T18:39:20.633Z"
   },
   {
    "duration": 9,
    "start_time": "2021-08-25T18:40:56.285Z"
   },
   {
    "duration": 26,
    "start_time": "2021-08-25T18:41:01.415Z"
   },
   {
    "duration": 394,
    "start_time": "2021-08-25T18:41:07.575Z"
   },
   {
    "duration": 256,
    "start_time": "2021-08-25T18:43:30.966Z"
   },
   {
    "duration": 287,
    "start_time": "2021-08-25T18:43:48.640Z"
   },
   {
    "duration": 3,
    "start_time": "2021-08-25T18:44:20.132Z"
   },
   {
    "duration": 540,
    "start_time": "2021-08-25T18:44:20.138Z"
   },
   {
    "duration": 44,
    "start_time": "2021-08-25T18:44:20.682Z"
   },
   {
    "duration": 30,
    "start_time": "2021-08-25T18:44:20.729Z"
   },
   {
    "duration": 27,
    "start_time": "2021-08-25T18:44:20.761Z"
   },
   {
    "duration": 34,
    "start_time": "2021-08-25T18:44:20.791Z"
   },
   {
    "duration": 16,
    "start_time": "2021-08-25T18:44:20.828Z"
   },
   {
    "duration": 69,
    "start_time": "2021-08-25T18:44:20.847Z"
   },
   {
    "duration": 113,
    "start_time": "2021-08-25T18:44:20.920Z"
   },
   {
    "duration": 9,
    "start_time": "2021-08-25T18:44:21.036Z"
   },
   {
    "duration": 8,
    "start_time": "2021-08-25T18:44:21.048Z"
   },
   {
    "duration": 134,
    "start_time": "2021-08-25T18:44:21.058Z"
   },
   {
    "duration": 155,
    "start_time": "2021-08-25T18:44:21.196Z"
   },
   {
    "duration": 198,
    "start_time": "2021-08-25T18:44:21.353Z"
   },
   {
    "duration": 67,
    "start_time": "2021-08-25T18:44:21.553Z"
   },
   {
    "duration": 25,
    "start_time": "2021-08-25T18:44:21.623Z"
   },
   {
    "duration": 2898,
    "start_time": "2021-08-25T18:44:21.651Z"
   },
   {
    "duration": 40,
    "start_time": "2021-08-25T18:44:24.551Z"
   },
   {
    "duration": 25,
    "start_time": "2021-08-25T18:44:24.595Z"
   },
   {
    "duration": 37,
    "start_time": "2021-08-25T18:44:30.917Z"
   },
   {
    "duration": 42,
    "start_time": "2021-08-25T18:44:37.666Z"
   },
   {
    "duration": 25,
    "start_time": "2021-08-25T18:45:01.847Z"
   },
   {
    "duration": 270,
    "start_time": "2021-08-25T18:45:31.464Z"
   },
   {
    "duration": 307,
    "start_time": "2021-08-25T18:45:55.414Z"
   },
   {
    "duration": 35,
    "start_time": "2021-08-25T18:46:11.583Z"
   },
   {
    "duration": 37,
    "start_time": "2021-08-25T18:46:40.359Z"
   },
   {
    "duration": 508,
    "start_time": "2021-08-25T18:46:55.832Z"
   },
   {
    "duration": 302,
    "start_time": "2021-08-25T18:47:05.683Z"
   },
   {
    "duration": 11,
    "start_time": "2021-08-25T18:47:23.180Z"
   },
   {
    "duration": 26,
    "start_time": "2021-08-25T18:47:38.720Z"
   },
   {
    "duration": 4,
    "start_time": "2021-08-25T18:47:55.969Z"
   },
   {
    "duration": 521,
    "start_time": "2021-08-25T18:47:55.976Z"
   },
   {
    "duration": 34,
    "start_time": "2021-08-25T18:47:56.500Z"
   },
   {
    "duration": 29,
    "start_time": "2021-08-25T18:47:56.537Z"
   },
   {
    "duration": 8,
    "start_time": "2021-08-25T18:47:56.592Z"
   },
   {
    "duration": 27,
    "start_time": "2021-08-25T18:47:56.603Z"
   },
   {
    "duration": 61,
    "start_time": "2021-08-25T18:47:56.633Z"
   },
   {
    "duration": 26,
    "start_time": "2021-08-25T18:47:56.698Z"
   },
   {
    "duration": 114,
    "start_time": "2021-08-25T18:47:56.727Z"
   },
   {
    "duration": 11,
    "start_time": "2021-08-25T18:47:56.843Z"
   },
   {
    "duration": 9,
    "start_time": "2021-08-25T18:47:56.856Z"
   },
   {
    "duration": 146,
    "start_time": "2021-08-25T18:47:56.867Z"
   },
   {
    "duration": 139,
    "start_time": "2021-08-25T18:47:57.016Z"
   },
   {
    "duration": 189,
    "start_time": "2021-08-25T18:47:57.158Z"
   },
   {
    "duration": 61,
    "start_time": "2021-08-25T18:47:57.350Z"
   },
   {
    "duration": 24,
    "start_time": "2021-08-25T18:47:57.413Z"
   },
   {
    "duration": 2806,
    "start_time": "2021-08-25T18:47:57.440Z"
   },
   {
    "duration": 44,
    "start_time": "2021-08-25T18:48:00.249Z"
   },
   {
    "duration": 36,
    "start_time": "2021-08-25T18:48:42.394Z"
   },
   {
    "duration": 30,
    "start_time": "2021-08-25T18:48:43.943Z"
   },
   {
    "duration": 60,
    "start_time": "2021-08-25T18:49:28.250Z"
   },
   {
    "duration": 311,
    "start_time": "2021-08-25T18:49:45.568Z"
   },
   {
    "duration": 261,
    "start_time": "2021-08-25T18:50:01.850Z"
   },
   {
    "duration": 40,
    "start_time": "2021-08-25T18:50:09.805Z"
   },
   {
    "duration": 23,
    "start_time": "2021-08-25T18:52:21.218Z"
   },
   {
    "duration": 6,
    "start_time": "2021-08-25T18:52:31.113Z"
   },
   {
    "duration": 30,
    "start_time": "2021-08-25T18:52:37.582Z"
   },
   {
    "duration": 42,
    "start_time": "2021-08-25T18:53:11.944Z"
   },
   {
    "duration": 23,
    "start_time": "2021-08-25T18:53:16.369Z"
   },
   {
    "duration": 279,
    "start_time": "2021-08-25T18:53:43.080Z"
   },
   {
    "duration": 28,
    "start_time": "2021-08-25T18:54:04.049Z"
   },
   {
    "duration": 61,
    "start_time": "2021-08-25T19:03:23.848Z"
   },
   {
    "duration": 59,
    "start_time": "2021-08-25T19:03:58.758Z"
   },
   {
    "duration": 60,
    "start_time": "2021-08-25T19:04:27.568Z"
   },
   {
    "duration": 72,
    "start_time": "2021-08-25T19:05:21.661Z"
   },
   {
    "duration": 37,
    "start_time": "2021-08-25T19:06:40.041Z"
   },
   {
    "duration": 72,
    "start_time": "2021-08-25T19:06:44.281Z"
   },
   {
    "duration": 69,
    "start_time": "2021-08-25T19:07:08.764Z"
   },
   {
    "duration": 40,
    "start_time": "2021-08-25T19:08:08.163Z"
   },
   {
    "duration": 52,
    "start_time": "2021-08-25T19:10:36.928Z"
   },
   {
    "duration": 26,
    "start_time": "2021-08-25T19:13:25.782Z"
   },
   {
    "duration": 2789,
    "start_time": "2021-08-25T19:13:35.025Z"
   },
   {
    "duration": 34,
    "start_time": "2021-08-25T19:13:37.817Z"
   },
   {
    "duration": 319,
    "start_time": "2021-08-25T19:18:42.427Z"
   },
   {
    "duration": 29,
    "start_time": "2021-08-25T19:19:02.301Z"
   },
   {
    "duration": 48,
    "start_time": "2021-08-25T19:19:14.733Z"
   },
   {
    "duration": 86,
    "start_time": "2021-08-25T19:21:26.243Z"
   },
   {
    "duration": 90,
    "start_time": "2021-08-25T19:22:09.267Z"
   },
   {
    "duration": 1145,
    "start_time": "2021-08-25T19:23:37.090Z"
   },
   {
    "duration": 93,
    "start_time": "2021-08-25T19:24:14.275Z"
   },
   {
    "duration": 786,
    "start_time": "2021-08-26T15:41:11.645Z"
   },
   {
    "duration": 512,
    "start_time": "2021-08-26T15:41:12.434Z"
   },
   {
    "duration": 43,
    "start_time": "2021-08-26T15:41:12.949Z"
   },
   {
    "duration": 484,
    "start_time": "2021-08-26T15:41:12.995Z"
   },
   {
    "duration": 1555,
    "start_time": "2021-08-26T15:41:11.928Z"
   },
   {
    "duration": 1549,
    "start_time": "2021-08-26T15:41:11.936Z"
   },
   {
    "duration": 1547,
    "start_time": "2021-08-26T15:41:11.939Z"
   },
   {
    "duration": 1545,
    "start_time": "2021-08-26T15:41:11.942Z"
   },
   {
    "duration": 1544,
    "start_time": "2021-08-26T15:41:11.944Z"
   },
   {
    "duration": 1537,
    "start_time": "2021-08-26T15:41:11.952Z"
   },
   {
    "duration": 1537,
    "start_time": "2021-08-26T15:41:11.954Z"
   },
   {
    "duration": 1536,
    "start_time": "2021-08-26T15:41:11.956Z"
   },
   {
    "duration": 1535,
    "start_time": "2021-08-26T15:41:11.958Z"
   },
   {
    "duration": 1533,
    "start_time": "2021-08-26T15:41:11.961Z"
   },
   {
    "duration": 1528,
    "start_time": "2021-08-26T15:41:11.967Z"
   },
   {
    "duration": 1526,
    "start_time": "2021-08-26T15:41:11.970Z"
   },
   {
    "duration": 1526,
    "start_time": "2021-08-26T15:41:11.972Z"
   },
   {
    "duration": 1525,
    "start_time": "2021-08-26T15:41:11.974Z"
   },
   {
    "duration": 1524,
    "start_time": "2021-08-26T15:41:11.976Z"
   },
   {
    "duration": 1519,
    "start_time": "2021-08-26T15:41:11.982Z"
   },
   {
    "duration": 1518,
    "start_time": "2021-08-26T15:41:11.984Z"
   },
   {
    "duration": 1518,
    "start_time": "2021-08-26T15:41:11.986Z"
   },
   {
    "duration": 1516,
    "start_time": "2021-08-26T15:41:11.989Z"
   },
   {
    "duration": 1515,
    "start_time": "2021-08-26T15:41:11.991Z"
   },
   {
    "duration": 1515,
    "start_time": "2021-08-26T15:41:11.992Z"
   },
   {
    "duration": 1514,
    "start_time": "2021-08-26T15:41:11.994Z"
   },
   {
    "duration": 4,
    "start_time": "2021-08-26T15:42:06.526Z"
   },
   {
    "duration": 562,
    "start_time": "2021-08-26T15:42:06.533Z"
   },
   {
    "duration": 35,
    "start_time": "2021-08-26T15:42:07.098Z"
   },
   {
    "duration": 73,
    "start_time": "2021-08-26T15:42:07.136Z"
   },
   {
    "duration": 8,
    "start_time": "2021-08-26T15:42:07.212Z"
   },
   {
    "duration": 29,
    "start_time": "2021-08-26T15:42:07.223Z"
   },
   {
    "duration": 20,
    "start_time": "2021-08-26T15:42:07.254Z"
   },
   {
    "duration": 28,
    "start_time": "2021-08-26T15:42:07.278Z"
   },
   {
    "duration": 130,
    "start_time": "2021-08-26T15:42:07.310Z"
   },
   {
    "duration": 24,
    "start_time": "2021-08-26T15:42:07.442Z"
   },
   {
    "duration": 11,
    "start_time": "2021-08-26T15:42:07.469Z"
   },
   {
    "duration": 152,
    "start_time": "2021-08-26T15:42:07.482Z"
   },
   {
    "duration": 155,
    "start_time": "2021-08-26T15:42:07.636Z"
   },
   {
    "duration": 207,
    "start_time": "2021-08-26T15:42:07.793Z"
   },
   {
    "duration": 40,
    "start_time": "2021-08-26T15:42:08.002Z"
   },
   {
    "duration": 1050,
    "start_time": "2021-08-26T15:42:08.057Z"
   },
   {
    "duration": 1570,
    "start_time": "2021-08-26T15:42:07.539Z"
   },
   {
    "duration": 1564,
    "start_time": "2021-08-26T15:42:07.547Z"
   },
   {
    "duration": 1562,
    "start_time": "2021-08-26T15:42:07.550Z"
   },
   {
    "duration": 1560,
    "start_time": "2021-08-26T15:42:07.553Z"
   },
   {
    "duration": 1559,
    "start_time": "2021-08-26T15:42:07.556Z"
   },
   {
    "duration": 1556,
    "start_time": "2021-08-26T15:42:07.560Z"
   },
   {
    "duration": 1556,
    "start_time": "2021-08-26T15:42:07.562Z"
   },
   {
    "duration": 1556,
    "start_time": "2021-08-26T15:42:07.563Z"
   },
   {
    "duration": 1555,
    "start_time": "2021-08-26T15:42:07.565Z"
   },
   {
    "duration": 4,
    "start_time": "2021-08-26T15:44:41.134Z"
   },
   {
    "duration": 580,
    "start_time": "2021-08-26T15:44:41.141Z"
   },
   {
    "duration": 36,
    "start_time": "2021-08-26T15:44:41.724Z"
   },
   {
    "duration": 43,
    "start_time": "2021-08-26T15:44:41.763Z"
   },
   {
    "duration": 9,
    "start_time": "2021-08-26T15:44:41.809Z"
   },
   {
    "duration": 57,
    "start_time": "2021-08-26T15:44:41.821Z"
   },
   {
    "duration": 21,
    "start_time": "2021-08-26T15:44:41.880Z"
   },
   {
    "duration": 55,
    "start_time": "2021-08-26T15:44:41.903Z"
   },
   {
    "duration": 103,
    "start_time": "2021-08-26T15:44:41.961Z"
   },
   {
    "duration": 12,
    "start_time": "2021-08-26T15:44:42.067Z"
   },
   {
    "duration": 15,
    "start_time": "2021-08-26T15:44:42.082Z"
   },
   {
    "duration": 165,
    "start_time": "2021-08-26T15:44:42.101Z"
   },
   {
    "duration": 149,
    "start_time": "2021-08-26T15:44:42.269Z"
   },
   {
    "duration": 124,
    "start_time": "2021-08-26T15:44:42.421Z"
   },
   {
    "duration": 46,
    "start_time": "2021-08-26T15:44:42.548Z"
   },
   {
    "duration": 1096,
    "start_time": "2021-08-26T15:44:42.597Z"
   },
   {
    "duration": -49,
    "start_time": "2021-08-26T15:44:43.745Z"
   },
   {
    "duration": -52,
    "start_time": "2021-08-26T15:44:43.749Z"
   },
   {
    "duration": -57,
    "start_time": "2021-08-26T15:44:43.755Z"
   },
   {
    "duration": -58,
    "start_time": "2021-08-26T15:44:43.757Z"
   },
   {
    "duration": -56,
    "start_time": "2021-08-26T15:44:43.758Z"
   },
   {
    "duration": -56,
    "start_time": "2021-08-26T15:44:43.760Z"
   },
   {
    "duration": -55,
    "start_time": "2021-08-26T15:44:43.762Z"
   },
   {
    "duration": -54,
    "start_time": "2021-08-26T15:44:43.763Z"
   },
   {
    "duration": -54,
    "start_time": "2021-08-26T15:44:43.765Z"
   },
   {
    "duration": 1184,
    "start_time": "2021-08-26T15:46:20.127Z"
   },
   {
    "duration": 45,
    "start_time": "2021-08-26T15:47:21.430Z"
   },
   {
    "duration": 3738,
    "start_time": "2021-08-26T15:47:24.067Z"
   },
   {
    "duration": 2661,
    "start_time": "2021-08-26T15:47:30.604Z"
   },
   {
    "duration": 25,
    "start_time": "2021-08-26T15:47:36.095Z"
   },
   {
    "duration": 69,
    "start_time": "2021-08-26T15:47:47.717Z"
   },
   {
    "duration": 35,
    "start_time": "2021-08-26T15:47:57.541Z"
   },
   {
    "duration": 52,
    "start_time": "2021-08-26T15:48:04.518Z"
   },
   {
    "duration": 59,
    "start_time": "2021-08-26T15:50:46.848Z"
   },
   {
    "duration": 421,
    "start_time": "2021-08-26T15:56:17.953Z"
   },
   {
    "duration": 525,
    "start_time": "2021-08-26T15:56:33.233Z"
   },
   {
    "duration": 298,
    "start_time": "2021-08-26T15:57:19.122Z"
   },
   {
    "duration": 318,
    "start_time": "2021-08-26T15:57:26.793Z"
   },
   {
    "duration": 23,
    "start_time": "2021-08-26T15:57:45.569Z"
   },
   {
    "duration": 13,
    "start_time": "2021-08-26T15:57:53.699Z"
   },
   {
    "duration": 13,
    "start_time": "2021-08-26T15:58:29.127Z"
   },
   {
    "duration": 383,
    "start_time": "2021-08-26T15:58:41.212Z"
   },
   {
    "duration": 124,
    "start_time": "2021-08-26T15:58:51.052Z"
   },
   {
    "duration": 521,
    "start_time": "2021-08-26T15:59:02.815Z"
   },
   {
    "duration": 12,
    "start_time": "2021-08-26T16:00:51.169Z"
   },
   {
    "duration": 392,
    "start_time": "2021-08-26T16:01:21.485Z"
   },
   {
    "duration": 332,
    "start_time": "2021-08-26T16:01:26.121Z"
   },
   {
    "duration": 8990,
    "start_time": "2021-08-26T16:02:21.405Z"
   },
   {
    "duration": 367,
    "start_time": "2021-08-26T16:02:47.399Z"
   },
   {
    "duration": 367,
    "start_time": "2021-08-26T16:02:51.086Z"
   },
   {
    "duration": 372,
    "start_time": "2021-08-26T16:02:53.499Z"
   },
   {
    "duration": 7,
    "start_time": "2021-08-26T16:02:58.232Z"
   },
   {
    "duration": 5,
    "start_time": "2021-08-26T16:03:12.720Z"
   },
   {
    "duration": 9334,
    "start_time": "2021-08-26T16:03:31.918Z"
   },
   {
    "duration": 8938,
    "start_time": "2021-08-26T16:03:43.842Z"
   },
   {
    "duration": 23,
    "start_time": "2021-08-26T16:04:04.693Z"
   },
   {
    "duration": 7,
    "start_time": "2021-08-26T16:04:10.478Z"
   },
   {
    "duration": 334,
    "start_time": "2021-08-26T16:04:18.468Z"
   },
   {
    "duration": 398,
    "start_time": "2021-08-26T16:04:51.431Z"
   },
   {
    "duration": 466,
    "start_time": "2021-08-26T16:05:01.926Z"
   },
   {
    "duration": 38,
    "start_time": "2021-08-26T16:05:18.451Z"
   },
   {
    "duration": 331,
    "start_time": "2021-08-26T16:05:25.987Z"
   },
   {
    "duration": 451,
    "start_time": "2021-08-26T16:05:42.030Z"
   },
   {
    "duration": 462,
    "start_time": "2021-08-26T16:05:55.427Z"
   },
   {
    "duration": 378,
    "start_time": "2021-08-26T16:06:12.619Z"
   },
   {
    "duration": 809,
    "start_time": "2021-08-26T16:07:19.891Z"
   },
   {
    "duration": 589,
    "start_time": "2021-08-26T16:07:48.024Z"
   },
   {
    "duration": 515,
    "start_time": "2021-08-26T16:08:10.234Z"
   },
   {
    "duration": 500,
    "start_time": "2021-08-26T16:11:11.039Z"
   },
   {
    "duration": 497,
    "start_time": "2021-08-26T16:11:58.666Z"
   },
   {
    "duration": 503,
    "start_time": "2021-08-26T16:12:02.943Z"
   },
   {
    "duration": 496,
    "start_time": "2021-08-26T16:12:18.937Z"
   },
   {
    "duration": 625,
    "start_time": "2021-08-26T16:12:22.669Z"
   },
   {
    "duration": 527,
    "start_time": "2021-08-26T16:12:25.837Z"
   },
   {
    "duration": 356,
    "start_time": "2021-08-26T16:14:54.024Z"
   },
   {
    "duration": 369,
    "start_time": "2021-08-26T16:15:16.291Z"
   },
   {
    "duration": 4,
    "start_time": "2021-08-26T16:15:23.444Z"
   },
   {
    "duration": 812,
    "start_time": "2021-08-26T16:15:26.637Z"
   },
   {
    "duration": 1069,
    "start_time": "2021-08-26T16:15:36.543Z"
   },
   {
    "duration": 755,
    "start_time": "2021-08-26T16:18:01.557Z"
   },
   {
    "duration": 1295,
    "start_time": "2021-08-26T16:19:00.168Z"
   },
   {
    "duration": 1192,
    "start_time": "2021-08-26T16:20:39.673Z"
   },
   {
    "duration": 1265,
    "start_time": "2021-08-26T16:24:09.407Z"
   },
   {
    "duration": 763,
    "start_time": "2021-08-26T16:24:30.093Z"
   },
   {
    "duration": 751,
    "start_time": "2021-08-26T16:24:39.110Z"
   },
   {
    "duration": 777,
    "start_time": "2021-08-26T16:24:43.555Z"
   },
   {
    "duration": 929,
    "start_time": "2021-08-26T18:51:23.169Z"
   },
   {
    "duration": 8783,
    "start_time": "2021-08-26T18:54:18.881Z"
   },
   {
    "duration": 8,
    "start_time": "2021-08-26T18:54:37.650Z"
   },
   {
    "duration": 368,
    "start_time": "2021-08-26T18:54:59.788Z"
   },
   {
    "duration": 6,
    "start_time": "2021-08-26T18:55:07.436Z"
   },
   {
    "duration": 6,
    "start_time": "2021-08-26T18:55:16.169Z"
   },
   {
    "duration": 6,
    "start_time": "2021-08-26T18:55:24.911Z"
   },
   {
    "duration": 14,
    "start_time": "2021-08-26T18:55:37.853Z"
   },
   {
    "duration": 24,
    "start_time": "2021-08-26T18:56:41.518Z"
   },
   {
    "duration": -9,
    "start_time": "2021-08-26T18:56:57.188Z"
   },
   {
    "duration": 9,
    "start_time": "2021-08-26T18:57:00.359Z"
   },
   {
    "duration": 1174,
    "start_time": "2021-08-26T18:59:42.026Z"
   },
   {
    "duration": 803,
    "start_time": "2021-08-26T18:59:47.774Z"
   },
   {
    "duration": 1405,
    "start_time": "2021-08-26T18:59:52.825Z"
   },
   {
    "duration": 402,
    "start_time": "2021-08-26T19:00:09.252Z"
   },
   {
    "duration": 371,
    "start_time": "2021-08-26T19:00:19.539Z"
   },
   {
    "duration": 17,
    "start_time": "2021-08-26T19:00:33.068Z"
   },
   {
    "duration": 12,
    "start_time": "2021-08-26T19:00:42.460Z"
   },
   {
    "duration": 928,
    "start_time": "2021-08-26T19:00:52.134Z"
   },
   {
    "duration": 1441,
    "start_time": "2021-08-26T19:01:32.654Z"
   },
   {
    "duration": 798,
    "start_time": "2021-08-26T19:05:11.747Z"
   },
   {
    "duration": 825,
    "start_time": "2021-08-26T19:05:27.542Z"
   },
   {
    "duration": 1069,
    "start_time": "2021-08-26T19:05:48.930Z"
   },
   {
    "duration": 1009,
    "start_time": "2021-08-26T19:05:56.096Z"
   },
   {
    "duration": 3,
    "start_time": "2021-08-26T19:07:20.002Z"
   },
   {
    "duration": 28,
    "start_time": "2021-08-26T19:07:21.642Z"
   },
   {
    "duration": 2,
    "start_time": "2021-08-26T19:08:18.433Z"
   },
   {
    "duration": 9884,
    "start_time": "2021-08-26T19:08:19.998Z"
   },
   {
    "duration": 14,
    "start_time": "2021-08-26T19:08:33.893Z"
   },
   {
    "duration": 354,
    "start_time": "2021-08-26T19:08:44.268Z"
   },
   {
    "duration": 366,
    "start_time": "2021-08-26T19:08:57.956Z"
   },
   {
    "duration": 376,
    "start_time": "2021-08-26T19:09:07.262Z"
   },
   {
    "duration": 360,
    "start_time": "2021-08-26T19:09:11.392Z"
   },
   {
    "duration": 358,
    "start_time": "2021-08-26T19:09:21.204Z"
   },
   {
    "duration": 27,
    "start_time": "2021-08-26T19:09:45.115Z"
   },
   {
    "duration": 7,
    "start_time": "2021-08-26T19:10:23.122Z"
   },
   {
    "duration": 364,
    "start_time": "2021-08-26T19:10:37.106Z"
   },
   {
    "duration": 484,
    "start_time": "2021-08-26T19:11:05.866Z"
   },
   {
    "duration": 64,
    "start_time": "2021-08-26T19:15:23.369Z"
   },
   {
    "duration": 397,
    "start_time": "2021-08-26T19:15:57.290Z"
   },
   {
    "duration": 371,
    "start_time": "2021-08-26T19:16:12.915Z"
   },
   {
    "duration": 70,
    "start_time": "2021-08-26T19:17:17.993Z"
   },
   {
    "duration": 78,
    "start_time": "2021-08-26T19:18:48.909Z"
   },
   {
    "duration": 53,
    "start_time": "2021-08-26T19:18:53.825Z"
   },
   {
    "duration": 25,
    "start_time": "2021-08-26T19:19:05.342Z"
   },
   {
    "duration": 24,
    "start_time": "2021-08-26T19:20:32.191Z"
   },
   {
    "duration": 372,
    "start_time": "2021-08-26T19:22:38.915Z"
   },
   {
    "duration": 59,
    "start_time": "2021-08-26T19:22:49.991Z"
   },
   {
    "duration": 61,
    "start_time": "2021-08-26T19:25:43.002Z"
   },
   {
    "duration": 51,
    "start_time": "2021-08-26T19:26:29.696Z"
   },
   {
    "duration": 56,
    "start_time": "2021-08-26T19:27:47.655Z"
   },
   {
    "duration": 477,
    "start_time": "2021-08-26T19:28:45.004Z"
   },
   {
    "duration": 363,
    "start_time": "2021-08-26T19:29:15.210Z"
   },
   {
    "duration": 5,
    "start_time": "2021-08-26T19:29:31.598Z"
   },
   {
    "duration": 552,
    "start_time": "2021-08-26T19:29:31.605Z"
   },
   {
    "duration": 37,
    "start_time": "2021-08-26T19:29:32.161Z"
   },
   {
    "duration": 31,
    "start_time": "2021-08-26T19:29:32.201Z"
   },
   {
    "duration": 27,
    "start_time": "2021-08-26T19:29:32.234Z"
   },
   {
    "duration": 33,
    "start_time": "2021-08-26T19:29:32.263Z"
   },
   {
    "duration": 16,
    "start_time": "2021-08-26T19:29:32.298Z"
   },
   {
    "duration": 55,
    "start_time": "2021-08-26T19:29:32.318Z"
   },
   {
    "duration": 106,
    "start_time": "2021-08-26T19:29:32.376Z"
   },
   {
    "duration": 12,
    "start_time": "2021-08-26T19:29:32.484Z"
   },
   {
    "duration": 10,
    "start_time": "2021-08-26T19:29:32.499Z"
   },
   {
    "duration": 136,
    "start_time": "2021-08-26T19:29:32.512Z"
   },
   {
    "duration": 154,
    "start_time": "2021-08-26T19:29:32.651Z"
   },
   {
    "duration": 136,
    "start_time": "2021-08-26T19:29:32.807Z"
   },
   {
    "duration": 44,
    "start_time": "2021-08-26T19:29:32.946Z"
   },
   {
    "duration": 2626,
    "start_time": "2021-08-26T19:29:32.992Z"
   },
   {
    "duration": 38,
    "start_time": "2021-08-26T19:29:35.620Z"
   },
   {
    "duration": 138,
    "start_time": "2021-08-26T19:29:35.661Z"
   },
   {
    "duration": -10,
    "start_time": "2021-08-26T19:29:35.811Z"
   },
   {
    "duration": -15,
    "start_time": "2021-08-26T19:29:35.817Z"
   },
   {
    "duration": -22,
    "start_time": "2021-08-26T19:29:35.826Z"
   },
   {
    "duration": -24,
    "start_time": "2021-08-26T19:29:35.829Z"
   },
   {
    "duration": -30,
    "start_time": "2021-08-26T19:29:35.837Z"
   },
   {
    "duration": -32,
    "start_time": "2021-08-26T19:29:35.840Z"
   },
   {
    "duration": -34,
    "start_time": "2021-08-26T19:29:35.843Z"
   },
   {
    "duration": -35,
    "start_time": "2021-08-26T19:29:35.846Z"
   },
   {
    "duration": 4,
    "start_time": "2021-08-26T19:29:53.526Z"
   },
   {
    "duration": 544,
    "start_time": "2021-08-26T19:29:53.532Z"
   },
   {
    "duration": 38,
    "start_time": "2021-08-26T19:29:54.079Z"
   },
   {
    "duration": 43,
    "start_time": "2021-08-26T19:29:54.120Z"
   },
   {
    "duration": 9,
    "start_time": "2021-08-26T19:29:54.165Z"
   },
   {
    "duration": 28,
    "start_time": "2021-08-26T19:29:54.176Z"
   },
   {
    "duration": 51,
    "start_time": "2021-08-26T19:29:54.206Z"
   },
   {
    "duration": 25,
    "start_time": "2021-08-26T19:29:54.262Z"
   },
   {
    "duration": 127,
    "start_time": "2021-08-26T19:29:54.290Z"
   },
   {
    "duration": 12,
    "start_time": "2021-08-26T19:29:54.419Z"
   },
   {
    "duration": 23,
    "start_time": "2021-08-26T19:29:54.433Z"
   },
   {
    "duration": 130,
    "start_time": "2021-08-26T19:29:54.458Z"
   },
   {
    "duration": 152,
    "start_time": "2021-08-26T19:29:54.590Z"
   },
   {
    "duration": 134,
    "start_time": "2021-08-26T19:29:54.745Z"
   },
   {
    "duration": 41,
    "start_time": "2021-08-26T19:29:54.881Z"
   },
   {
    "duration": 2754,
    "start_time": "2021-08-26T19:29:54.924Z"
   },
   {
    "duration": 25,
    "start_time": "2021-08-26T19:29:57.680Z"
   },
   {
    "duration": 21,
    "start_time": "2021-08-26T19:29:57.708Z"
   },
   {
    "duration": 48,
    "start_time": "2021-08-26T19:29:57.756Z"
   },
   {
    "duration": 66,
    "start_time": "2021-08-26T19:29:57.807Z"
   },
   {
    "duration": 392,
    "start_time": "2021-08-26T19:29:57.876Z"
   },
   {
    "duration": -140,
    "start_time": "2021-08-26T19:29:58.411Z"
   },
   {
    "duration": -142,
    "start_time": "2021-08-26T19:29:58.414Z"
   },
   {
    "duration": -142,
    "start_time": "2021-08-26T19:29:58.416Z"
   },
   {
    "duration": -145,
    "start_time": "2021-08-26T19:29:58.420Z"
   },
   {
    "duration": 408,
    "start_time": "2021-08-26T19:30:26.814Z"
   },
   {
    "duration": 972,
    "start_time": "2021-08-26T19:30:38.809Z"
   },
   {
    "duration": 18,
    "start_time": "2021-08-26T19:30:49.445Z"
   },
   {
    "duration": 4,
    "start_time": "2021-08-26T19:32:21.186Z"
   },
   {
    "duration": 555,
    "start_time": "2021-08-26T19:32:21.193Z"
   },
   {
    "duration": 35,
    "start_time": "2021-08-26T19:32:21.752Z"
   },
   {
    "duration": 73,
    "start_time": "2021-08-26T19:32:21.791Z"
   },
   {
    "duration": 9,
    "start_time": "2021-08-26T19:32:21.867Z"
   },
   {
    "duration": 48,
    "start_time": "2021-08-26T19:32:21.879Z"
   },
   {
    "duration": 31,
    "start_time": "2021-08-26T19:32:21.930Z"
   },
   {
    "duration": 37,
    "start_time": "2021-08-26T19:32:21.967Z"
   },
   {
    "duration": 168,
    "start_time": "2021-08-26T19:32:22.008Z"
   },
   {
    "duration": 15,
    "start_time": "2021-08-26T19:32:22.179Z"
   },
   {
    "duration": 14,
    "start_time": "2021-08-26T19:32:22.198Z"
   },
   {
    "duration": 154,
    "start_time": "2021-08-26T19:32:22.215Z"
   },
   {
    "duration": 145,
    "start_time": "2021-08-26T19:32:22.371Z"
   },
   {
    "duration": 133,
    "start_time": "2021-08-26T19:32:22.519Z"
   },
   {
    "duration": 43,
    "start_time": "2021-08-26T19:32:22.656Z"
   },
   {
    "duration": 2836,
    "start_time": "2021-08-26T19:32:22.701Z"
   },
   {
    "duration": 34,
    "start_time": "2021-08-26T19:32:25.539Z"
   },
   {
    "duration": 27,
    "start_time": "2021-08-26T19:32:25.576Z"
   },
   {
    "duration": 70,
    "start_time": "2021-08-26T19:32:25.605Z"
   },
   {
    "duration": 39,
    "start_time": "2021-08-26T19:32:57.226Z"
   },
   {
    "duration": 16,
    "start_time": "2021-08-26T19:33:06.721Z"
   },
   {
    "duration": 4,
    "start_time": "2021-08-26T19:35:32.526Z"
   },
   {
    "duration": 528,
    "start_time": "2021-08-26T19:35:32.532Z"
   },
   {
    "duration": 37,
    "start_time": "2021-08-26T19:35:33.063Z"
   },
   {
    "duration": 35,
    "start_time": "2021-08-26T19:35:33.103Z"
   },
   {
    "duration": 7,
    "start_time": "2021-08-26T19:35:33.156Z"
   },
   {
    "duration": 31,
    "start_time": "2021-08-26T19:35:33.166Z"
   },
   {
    "duration": 23,
    "start_time": "2021-08-26T19:35:33.199Z"
   },
   {
    "duration": 25,
    "start_time": "2021-08-26T19:35:33.255Z"
   },
   {
    "duration": 112,
    "start_time": "2021-08-26T19:35:33.284Z"
   },
   {
    "duration": 11,
    "start_time": "2021-08-26T19:35:33.399Z"
   },
   {
    "duration": 12,
    "start_time": "2021-08-26T19:35:33.413Z"
   },
   {
    "duration": 130,
    "start_time": "2021-08-26T19:35:33.427Z"
   },
   {
    "duration": 140,
    "start_time": "2021-08-26T19:35:33.560Z"
   },
   {
    "duration": 132,
    "start_time": "2021-08-26T19:35:33.702Z"
   },
   {
    "duration": 56,
    "start_time": "2021-08-26T19:35:33.836Z"
   },
   {
    "duration": 2669,
    "start_time": "2021-08-26T19:35:33.895Z"
   },
   {
    "duration": 27,
    "start_time": "2021-08-26T19:35:36.566Z"
   },
   {
    "duration": 27,
    "start_time": "2021-08-26T19:35:36.596Z"
   },
   {
    "duration": 22,
    "start_time": "2021-08-26T19:36:11.865Z"
   },
   {
    "duration": 11,
    "start_time": "2021-08-26T19:37:20.428Z"
   },
   {
    "duration": 27,
    "start_time": "2021-08-26T19:37:24.742Z"
   },
   {
    "duration": 1447,
    "start_time": "2021-08-26T19:39:43.480Z"
   },
   {
    "duration": 533,
    "start_time": "2021-08-26T19:39:44.929Z"
   },
   {
    "duration": 40,
    "start_time": "2021-08-26T19:39:45.465Z"
   },
   {
    "duration": 49,
    "start_time": "2021-08-26T19:39:45.507Z"
   },
   {
    "duration": 6,
    "start_time": "2021-08-26T19:39:45.559Z"
   },
   {
    "duration": 38,
    "start_time": "2021-08-26T19:39:45.568Z"
   },
   {
    "duration": 23,
    "start_time": "2021-08-26T19:39:45.608Z"
   },
   {
    "duration": 40,
    "start_time": "2021-08-26T19:39:45.634Z"
   },
   {
    "duration": 118,
    "start_time": "2021-08-26T19:39:45.677Z"
   },
   {
    "duration": 14,
    "start_time": "2021-08-26T19:39:45.797Z"
   },
   {
    "duration": 17,
    "start_time": "2021-08-26T19:39:45.814Z"
   },
   {
    "duration": 145,
    "start_time": "2021-08-26T19:39:45.834Z"
   },
   {
    "duration": 156,
    "start_time": "2021-08-26T19:39:45.982Z"
   },
   {
    "duration": 138,
    "start_time": "2021-08-26T19:39:46.141Z"
   },
   {
    "duration": 43,
    "start_time": "2021-08-26T19:39:46.282Z"
   },
   {
    "duration": 2750,
    "start_time": "2021-08-26T19:39:46.327Z"
   },
   {
    "duration": 25,
    "start_time": "2021-08-26T19:39:49.079Z"
   },
   {
    "duration": 12,
    "start_time": "2021-08-26T19:40:20.162Z"
   },
   {
    "duration": 497,
    "start_time": "2021-08-26T19:40:28.564Z"
   },
   {
    "duration": 8,
    "start_time": "2021-08-26T19:40:34.662Z"
   },
   {
    "duration": 10,
    "start_time": "2021-08-26T19:40:49.482Z"
   },
   {
    "duration": 28,
    "start_time": "2021-08-26T19:40:56.272Z"
   },
   {
    "duration": 355,
    "start_time": "2021-08-26T19:41:33.376Z"
   },
   {
    "duration": 3,
    "start_time": "2021-08-26T19:41:42.354Z"
   },
   {
    "duration": 14,
    "start_time": "2021-08-26T19:41:46.354Z"
   },
   {
    "duration": 23,
    "start_time": "2021-08-26T19:42:24.374Z"
   },
   {
    "duration": 8832,
    "start_time": "2021-08-26T19:44:41.746Z"
   },
   {
    "duration": 8778,
    "start_time": "2021-08-26T19:45:37.361Z"
   },
   {
    "duration": 24,
    "start_time": "2021-08-26T19:45:51.222Z"
   },
   {
    "duration": 118,
    "start_time": "2021-08-26T19:47:22.788Z"
   },
   {
    "duration": 608,
    "start_time": "2021-08-26T19:47:30.374Z"
   },
   {
    "duration": 364,
    "start_time": "2021-08-26T19:48:02.953Z"
   },
   {
    "duration": 53,
    "start_time": "2021-08-26T19:50:28.373Z"
   },
   {
    "duration": 40,
    "start_time": "2021-08-26T19:50:51.165Z"
   },
   {
    "duration": 768,
    "start_time": "2021-08-26T19:51:32.623Z"
   },
   {
    "duration": 358,
    "start_time": "2021-08-26T19:51:50.861Z"
   },
   {
    "duration": 28,
    "start_time": "2021-08-26T19:52:03.595Z"
   },
   {
    "duration": 371,
    "start_time": "2021-08-26T19:52:32.829Z"
   },
   {
    "duration": 27,
    "start_time": "2021-08-26T19:52:47.165Z"
   },
   {
    "duration": 29,
    "start_time": "2021-08-26T19:52:56.607Z"
   },
   {
    "duration": 26,
    "start_time": "2021-08-26T19:53:38.633Z"
   },
   {
    "duration": 393,
    "start_time": "2021-08-26T19:54:42.647Z"
   },
   {
    "duration": 28,
    "start_time": "2021-08-26T19:55:09.381Z"
   },
   {
    "duration": 33,
    "start_time": "2021-08-26T19:55:23.211Z"
   },
   {
    "duration": 2812,
    "start_time": "2021-08-26T19:56:04.216Z"
   },
   {
    "duration": 27,
    "start_time": "2021-08-26T19:56:09.048Z"
   },
   {
    "duration": 9,
    "start_time": "2021-08-26T20:00:02.729Z"
   },
   {
    "duration": 23,
    "start_time": "2021-08-26T20:00:06.689Z"
   },
   {
    "duration": 9,
    "start_time": "2021-08-26T20:00:29.876Z"
   },
   {
    "duration": 16,
    "start_time": "2021-08-26T20:00:31.543Z"
   },
   {
    "duration": 9,
    "start_time": "2021-08-26T20:00:45.623Z"
   },
   {
    "duration": 16,
    "start_time": "2021-08-26T20:00:47.585Z"
   },
   {
    "duration": 18,
    "start_time": "2021-08-26T20:01:09.515Z"
   },
   {
    "duration": 16,
    "start_time": "2021-08-26T20:03:52.379Z"
   },
   {
    "duration": 9,
    "start_time": "2021-08-26T20:04:14.190Z"
   },
   {
    "duration": 14,
    "start_time": "2021-08-26T20:04:42.713Z"
   },
   {
    "duration": 16,
    "start_time": "2021-08-26T20:04:50.081Z"
   },
   {
    "duration": 15,
    "start_time": "2021-08-26T20:05:25.644Z"
   },
   {
    "duration": 361,
    "start_time": "2021-08-26T20:05:46.242Z"
   },
   {
    "duration": 15,
    "start_time": "2021-08-26T20:05:55.242Z"
   },
   {
    "duration": 26,
    "start_time": "2021-08-26T20:06:28.475Z"
   },
   {
    "duration": 15,
    "start_time": "2021-08-26T20:06:37.513Z"
   },
   {
    "duration": 46,
    "start_time": "2021-08-26T20:10:45.170Z"
   },
   {
    "duration": 312,
    "start_time": "2021-08-26T20:12:50.404Z"
   },
   {
    "duration": 50,
    "start_time": "2021-08-26T20:14:24.919Z"
   },
   {
    "duration": 253,
    "start_time": "2021-08-26T20:14:36.268Z"
   },
   {
    "duration": 195,
    "start_time": "2021-08-26T20:14:44.888Z"
   },
   {
    "duration": 390,
    "start_time": "2021-08-26T20:15:01.962Z"
   },
   {
    "duration": 7,
    "start_time": "2021-08-26T20:16:36.732Z"
   },
   {
    "duration": 401,
    "start_time": "2021-08-26T20:16:44.476Z"
   },
   {
    "duration": 253,
    "start_time": "2021-08-26T20:16:53.594Z"
   },
   {
    "duration": 350,
    "start_time": "2021-08-26T20:17:45.318Z"
   },
   {
    "duration": 361,
    "start_time": "2021-08-26T20:17:57.150Z"
   },
   {
    "duration": 409,
    "start_time": "2021-08-26T20:18:49.216Z"
   },
   {
    "duration": 356,
    "start_time": "2021-08-26T20:19:07.308Z"
   },
   {
    "duration": 247,
    "start_time": "2021-08-26T20:19:11.390Z"
   },
   {
    "duration": 637,
    "start_time": "2021-08-26T20:19:25.042Z"
   },
   {
    "duration": 860,
    "start_time": "2021-08-26T20:20:12.898Z"
   },
   {
    "duration": 599,
    "start_time": "2021-08-26T20:20:51.187Z"
   },
   {
    "duration": 208,
    "start_time": "2021-08-26T20:21:06.323Z"
   },
   {
    "duration": 254,
    "start_time": "2021-08-26T20:21:33.004Z"
   },
   {
    "duration": 9,
    "start_time": "2021-08-26T20:23:03.331Z"
   },
   {
    "duration": 8,
    "start_time": "2021-08-26T20:23:08.896Z"
   },
   {
    "duration": 28,
    "start_time": "2021-08-26T20:23:15.781Z"
   },
   {
    "duration": 4,
    "start_time": "2021-08-26T20:23:54.602Z"
   },
   {
    "duration": 854,
    "start_time": "2021-08-26T20:24:06.860Z"
   },
   {
    "duration": 348,
    "start_time": "2021-08-26T20:24:18.557Z"
   },
   {
    "duration": 379,
    "start_time": "2021-08-26T20:24:39.253Z"
   },
   {
    "duration": 8,
    "start_time": "2021-08-26T20:24:54.430Z"
   },
   {
    "duration": 193,
    "start_time": "2021-08-26T20:24:55.223Z"
   },
   {
    "duration": 370,
    "start_time": "2021-08-26T20:25:11.257Z"
   },
   {
    "duration": 189,
    "start_time": "2021-08-26T20:25:41.701Z"
   },
   {
    "duration": 300,
    "start_time": "2021-08-26T20:25:47.607Z"
   },
   {
    "duration": 378,
    "start_time": "2021-08-26T20:25:55.429Z"
   },
   {
    "duration": 199,
    "start_time": "2021-08-26T20:26:03.067Z"
   },
   {
    "duration": 5,
    "start_time": "2021-08-26T20:26:17.047Z"
   },
   {
    "duration": 213,
    "start_time": "2021-08-26T20:26:18.853Z"
   },
   {
    "duration": 390,
    "start_time": "2021-08-26T20:26:30.362Z"
   },
   {
    "duration": 10081,
    "start_time": "2021-08-26T20:26:52.890Z"
   },
   {
    "duration": -2,
    "start_time": "2021-08-26T20:27:15.870Z"
   },
   {
    "duration": 5508,
    "start_time": "2021-08-26T20:27:17.318Z"
   },
   {
    "duration": 277,
    "start_time": "2021-08-26T20:27:34.061Z"
   },
   {
    "duration": 781,
    "start_time": "2021-08-26T20:27:53.575Z"
   },
   {
    "duration": 156,
    "start_time": "2021-08-26T20:28:32.638Z"
   },
   {
    "duration": 190,
    "start_time": "2021-08-26T20:28:36.845Z"
   },
   {
    "duration": 622,
    "start_time": "2021-08-26T20:28:48.923Z"
   },
   {
    "duration": 591,
    "start_time": "2021-08-26T20:28:54.648Z"
   },
   {
    "duration": 399,
    "start_time": "2021-08-26T20:29:01.918Z"
   },
   {
    "duration": 184,
    "start_time": "2021-08-26T20:29:18.883Z"
   },
   {
    "duration": 257,
    "start_time": "2021-08-26T20:29:24.367Z"
   },
   {
    "duration": 18,
    "start_time": "2021-08-26T20:31:50.260Z"
   },
   {
    "duration": 21099,
    "start_time": "2021-08-26T20:33:27.493Z"
   },
   {
    "duration": 385,
    "start_time": "2021-08-26T20:34:10.507Z"
   },
   {
    "duration": 228,
    "start_time": "2021-08-26T20:34:34.392Z"
   },
   {
    "duration": 270,
    "start_time": "2021-08-26T20:35:06.346Z"
   },
   {
    "duration": 599,
    "start_time": "2021-08-26T20:35:15.921Z"
   },
   {
    "duration": 4,
    "start_time": "2021-08-26T20:35:39.529Z"
   },
   {
    "duration": 581,
    "start_time": "2021-08-26T20:35:39.536Z"
   },
   {
    "duration": 35,
    "start_time": "2021-08-26T20:35:40.120Z"
   },
   {
    "duration": 31,
    "start_time": "2021-08-26T20:35:40.158Z"
   },
   {
    "duration": 6,
    "start_time": "2021-08-26T20:35:40.192Z"
   },
   {
    "duration": 57,
    "start_time": "2021-08-26T20:35:40.200Z"
   },
   {
    "duration": 17,
    "start_time": "2021-08-26T20:35:40.260Z"
   },
   {
    "duration": 26,
    "start_time": "2021-08-26T20:35:40.281Z"
   },
   {
    "duration": 122,
    "start_time": "2021-08-26T20:35:40.310Z"
   },
   {
    "duration": 10,
    "start_time": "2021-08-26T20:35:40.434Z"
   },
   {
    "duration": 137,
    "start_time": "2021-08-26T20:35:40.456Z"
   },
   {
    "duration": 171,
    "start_time": "2021-08-26T20:35:40.595Z"
   },
   {
    "duration": 160,
    "start_time": "2021-08-26T20:35:40.769Z"
   },
   {
    "duration": 53,
    "start_time": "2021-08-26T20:35:40.931Z"
   },
   {
    "duration": 7478,
    "start_time": "2021-08-26T20:35:40.986Z"
   },
   {
    "duration": -67,
    "start_time": "2021-08-26T20:35:48.535Z"
   },
   {
    "duration": -68,
    "start_time": "2021-08-26T20:35:48.538Z"
   },
   {
    "duration": -81,
    "start_time": "2021-08-26T20:35:48.553Z"
   },
   {
    "duration": -83,
    "start_time": "2021-08-26T20:35:48.557Z"
   },
   {
    "duration": -89,
    "start_time": "2021-08-26T20:35:48.564Z"
   },
   {
    "duration": 1514,
    "start_time": "2021-08-27T19:58:47.178Z"
   },
   {
    "duration": 542,
    "start_time": "2021-08-27T19:58:48.695Z"
   },
   {
    "duration": 40,
    "start_time": "2021-08-27T19:58:49.241Z"
   },
   {
    "duration": 41,
    "start_time": "2021-08-27T19:58:49.284Z"
   },
   {
    "duration": 9,
    "start_time": "2021-08-27T19:58:49.328Z"
   },
   {
    "duration": 27,
    "start_time": "2021-08-27T19:58:49.340Z"
   },
   {
    "duration": 48,
    "start_time": "2021-08-27T19:58:49.369Z"
   },
   {
    "duration": 33,
    "start_time": "2021-08-27T19:58:49.422Z"
   },
   {
    "duration": 125,
    "start_time": "2021-08-27T19:58:49.458Z"
   },
   {
    "duration": 14,
    "start_time": "2021-08-27T19:58:49.586Z"
   },
   {
    "duration": 176,
    "start_time": "2021-08-27T19:58:49.603Z"
   },
   {
    "duration": 183,
    "start_time": "2021-08-27T19:58:49.782Z"
   },
   {
    "duration": 141,
    "start_time": "2021-08-27T19:58:49.968Z"
   },
   {
    "duration": 47,
    "start_time": "2021-08-27T19:58:50.115Z"
   },
   {
    "duration": 10308,
    "start_time": "2021-08-27T19:58:50.164Z"
   },
   {
    "duration": 667,
    "start_time": "2021-08-27T19:58:59.807Z"
   },
   {
    "duration": 665,
    "start_time": "2021-08-27T19:58:59.811Z"
   },
   {
    "duration": 642,
    "start_time": "2021-08-27T19:58:59.835Z"
   },
   {
    "duration": 641,
    "start_time": "2021-08-27T19:58:59.838Z"
   },
   {
    "duration": 639,
    "start_time": "2021-08-27T19:58:59.841Z"
   },
   {
    "duration": 640,
    "start_time": "2021-08-27T20:00:08.638Z"
   },
   {
    "duration": 671,
    "start_time": "2021-08-27T20:00:40.989Z"
   },
   {
    "duration": 363,
    "start_time": "2021-08-27T20:02:19.725Z"
   },
   {
    "duration": 8,
    "start_time": "2021-08-27T20:02:26.357Z"
   },
   {
    "duration": 13,
    "start_time": "2021-08-27T20:02:32.379Z"
   },
   {
    "duration": 8,
    "start_time": "2021-08-27T20:04:27.160Z"
   },
   {
    "duration": 10,
    "start_time": "2021-08-27T20:04:58.808Z"
   },
   {
    "duration": 14,
    "start_time": "2021-08-27T20:05:03.243Z"
   },
   {
    "duration": 433,
    "start_time": "2021-08-27T20:05:21.973Z"
   },
   {
    "duration": 8,
    "start_time": "2021-08-27T20:05:24.066Z"
   },
   {
    "duration": 8,
    "start_time": "2021-08-27T20:05:30.494Z"
   },
   {
    "duration": 9,
    "start_time": "2021-08-27T20:05:39.100Z"
   },
   {
    "duration": 10,
    "start_time": "2021-08-27T20:05:48.500Z"
   },
   {
    "duration": 9,
    "start_time": "2021-08-27T20:06:37.260Z"
   },
   {
    "duration": 10,
    "start_time": "2021-08-27T20:07:00.648Z"
   },
   {
    "duration": 18,
    "start_time": "2021-08-27T20:07:07.153Z"
   },
   {
    "duration": 25021,
    "start_time": "2021-08-27T20:07:26.769Z"
   },
   {
    "duration": 24022,
    "start_time": "2021-08-27T20:09:01.517Z"
   },
   {
    "duration": 9660,
    "start_time": "2021-08-27T20:09:36.546Z"
   },
   {
    "duration": 30,
    "start_time": "2021-08-27T20:09:48.975Z"
   },
   {
    "duration": 4,
    "start_time": "2021-08-27T20:11:17.618Z"
   },
   {
    "duration": 518,
    "start_time": "2021-08-27T20:11:17.625Z"
   },
   {
    "duration": 34,
    "start_time": "2021-08-27T20:11:18.147Z"
   },
   {
    "duration": 34,
    "start_time": "2021-08-27T20:11:18.184Z"
   },
   {
    "duration": 6,
    "start_time": "2021-08-27T20:11:18.221Z"
   },
   {
    "duration": 36,
    "start_time": "2021-08-27T20:11:18.230Z"
   },
   {
    "duration": 19,
    "start_time": "2021-08-27T20:11:18.268Z"
   },
   {
    "duration": 51,
    "start_time": "2021-08-27T20:11:18.290Z"
   },
   {
    "duration": 97,
    "start_time": "2021-08-27T20:11:18.344Z"
   },
   {
    "duration": 10,
    "start_time": "2021-08-27T20:11:18.444Z"
   },
   {
    "duration": 148,
    "start_time": "2021-08-27T20:11:18.457Z"
   },
   {
    "duration": 166,
    "start_time": "2021-08-27T20:11:18.608Z"
   },
   {
    "duration": 132,
    "start_time": "2021-08-27T20:11:18.777Z"
   },
   {
    "duration": 47,
    "start_time": "2021-08-27T20:11:24.804Z"
   },
   {
    "duration": 8776,
    "start_time": "2021-08-27T20:11:53.745Z"
   },
   {
    "duration": 30,
    "start_time": "2021-08-27T20:12:07.028Z"
   },
   {
    "duration": 8961,
    "start_time": "2021-08-27T20:12:22.707Z"
   },
   {
    "duration": 30,
    "start_time": "2021-08-27T20:12:33.990Z"
   },
   {
    "duration": 9741,
    "start_time": "2021-08-27T20:13:01.375Z"
   },
   {
    "duration": 36,
    "start_time": "2021-08-27T20:13:13.443Z"
   },
   {
    "duration": 382,
    "start_time": "2021-08-27T20:16:08.317Z"
   },
   {
    "duration": 40,
    "start_time": "2021-08-27T20:16:14.954Z"
   },
   {
    "duration": 32,
    "start_time": "2021-08-27T20:16:16.964Z"
   },
   {
    "duration": 45,
    "start_time": "2021-08-27T20:16:59.543Z"
   },
   {
    "duration": 23,
    "start_time": "2021-08-27T20:17:00.565Z"
   },
   {
    "duration": 55,
    "start_time": "2021-08-27T20:17:28.980Z"
   },
   {
    "duration": 35,
    "start_time": "2021-08-27T20:17:29.700Z"
   },
   {
    "duration": 428,
    "start_time": "2021-08-27T20:17:52.478Z"
   },
   {
    "duration": 36,
    "start_time": "2021-08-27T20:18:05.470Z"
   },
   {
    "duration": 8,
    "start_time": "2021-08-27T20:18:21.273Z"
   },
   {
    "duration": 391,
    "start_time": "2021-08-27T20:18:35.406Z"
   },
   {
    "duration": 388,
    "start_time": "2021-08-27T20:18:46.888Z"
   },
   {
    "duration": 9,
    "start_time": "2021-08-27T20:18:52.663Z"
   },
   {
    "duration": 21674,
    "start_time": "2021-08-27T20:19:01.839Z"
   },
   {
    "duration": 8,
    "start_time": "2021-08-27T20:19:39.705Z"
   },
   {
    "duration": 7,
    "start_time": "2021-08-27T20:21:00.405Z"
   },
   {
    "duration": 27,
    "start_time": "2021-08-27T20:21:04.390Z"
   },
   {
    "duration": 24,
    "start_time": "2021-08-27T20:21:17.476Z"
   },
   {
    "duration": 19,
    "start_time": "2021-08-27T20:21:24.102Z"
   },
   {
    "duration": 26,
    "start_time": "2021-08-27T20:21:29.772Z"
   },
   {
    "duration": 27,
    "start_time": "2021-08-27T20:21:38.240Z"
   },
   {
    "duration": 13,
    "start_time": "2021-08-27T20:21:49.056Z"
   },
   {
    "duration": 15,
    "start_time": "2021-08-27T20:21:58.312Z"
   },
   {
    "duration": 41,
    "start_time": "2021-08-27T20:22:34.358Z"
   },
   {
    "duration": 22,
    "start_time": "2021-08-27T20:22:34.968Z"
   },
   {
    "duration": 17,
    "start_time": "2021-08-27T20:22:49.526Z"
   },
   {
    "duration": 21,
    "start_time": "2021-08-27T20:22:58.065Z"
   },
   {
    "duration": 21,
    "start_time": "2021-08-27T20:23:41.817Z"
   },
   {
    "duration": 436,
    "start_time": "2021-08-27T20:24:00.748Z"
   },
   {
    "duration": 698,
    "start_time": "2021-08-27T20:24:17.020Z"
   },
   {
    "duration": 366,
    "start_time": "2021-08-27T20:24:21.268Z"
   },
   {
    "duration": 725,
    "start_time": "2021-08-27T20:24:27.369Z"
   },
   {
    "duration": 418,
    "start_time": "2021-08-27T20:24:45.577Z"
   },
   {
    "duration": 530,
    "start_time": "2021-08-27T20:25:51.790Z"
   },
   {
    "duration": 670,
    "start_time": "2021-08-27T20:27:53.651Z"
   },
   {
    "duration": 380,
    "start_time": "2021-08-27T20:28:44.417Z"
   },
   {
    "duration": 15,
    "start_time": "2021-08-27T20:29:06.985Z"
   },
   {
    "duration": 411,
    "start_time": "2021-08-27T20:29:30.280Z"
   },
   {
    "duration": 10190,
    "start_time": "2021-08-27T20:29:47.569Z"
   },
   {
    "duration": 395,
    "start_time": "2021-08-27T20:31:57.224Z"
   },
   {
    "duration": 6,
    "start_time": "2021-08-27T20:32:01.031Z"
   },
   {
    "duration": 211,
    "start_time": "2021-08-27T20:32:03.271Z"
   },
   {
    "duration": 14,
    "start_time": "2021-08-27T20:32:11.086Z"
   },
   {
    "duration": 248,
    "start_time": "2021-08-27T20:32:28.877Z"
   },
   {
    "duration": 225,
    "start_time": "2021-08-27T20:33:19.042Z"
   },
   {
    "duration": 41,
    "start_time": "2021-08-27T20:33:44.141Z"
   },
   {
    "duration": 22,
    "start_time": "2021-08-27T20:33:45.195Z"
   },
   {
    "duration": 212,
    "start_time": "2021-08-27T20:35:17.769Z"
   },
   {
    "duration": 226,
    "start_time": "2021-08-27T20:35:22.823Z"
   },
   {
    "duration": 218,
    "start_time": "2021-08-27T20:35:27.279Z"
   },
   {
    "duration": 301,
    "start_time": "2021-08-27T20:35:31.757Z"
   },
   {
    "duration": 645,
    "start_time": "2021-08-27T20:35:46.028Z"
   },
   {
    "duration": 635,
    "start_time": "2021-08-27T20:37:23.775Z"
   },
   {
    "duration": 767,
    "start_time": "2021-08-27T20:37:38.809Z"
   },
   {
    "duration": 606,
    "start_time": "2021-08-27T20:38:06.460Z"
   },
   {
    "duration": 635,
    "start_time": "2021-08-27T20:38:20.498Z"
   },
   {
    "duration": 517,
    "start_time": "2021-08-27T20:38:26.074Z"
   },
   {
    "duration": 520,
    "start_time": "2021-08-27T20:38:47.608Z"
   },
   {
    "duration": 551,
    "start_time": "2021-08-27T20:38:54.578Z"
   },
   {
    "duration": 471,
    "start_time": "2021-08-27T20:38:58.598Z"
   },
   {
    "duration": 526,
    "start_time": "2021-08-27T20:39:04.824Z"
   },
   {
    "duration": 582,
    "start_time": "2021-08-27T20:39:12.808Z"
   },
   {
    "duration": 796,
    "start_time": "2021-08-27T20:39:22.494Z"
   },
   {
    "duration": 527,
    "start_time": "2021-08-27T20:40:25.071Z"
   },
   {
    "duration": 386,
    "start_time": "2021-08-27T20:41:04.114Z"
   },
   {
    "duration": 770,
    "start_time": "2021-08-27T20:41:28.194Z"
   },
   {
    "duration": 782,
    "start_time": "2021-08-27T20:41:35.687Z"
   },
   {
    "duration": 1043,
    "start_time": "2021-08-27T20:41:55.960Z"
   },
   {
    "duration": 1080,
    "start_time": "2021-08-27T20:42:17.519Z"
   },
   {
    "duration": 841,
    "start_time": "2021-08-27T20:43:37.401Z"
   },
   {
    "duration": 790,
    "start_time": "2021-08-27T20:43:46.451Z"
   },
   {
    "duration": 855,
    "start_time": "2021-08-27T20:44:45.780Z"
   },
   {
    "duration": 601,
    "start_time": "2021-08-27T20:44:57.251Z"
   },
   {
    "duration": 619,
    "start_time": "2021-08-27T20:45:04.744Z"
   },
   {
    "duration": 614,
    "start_time": "2021-08-27T20:45:14.768Z"
   },
   {
    "duration": 576,
    "start_time": "2021-08-27T20:45:23.570Z"
   },
   {
    "duration": 1428,
    "start_time": "2021-08-27T20:50:19.135Z"
   },
   {
    "duration": 514,
    "start_time": "2021-08-27T20:50:20.566Z"
   },
   {
    "duration": 37,
    "start_time": "2021-08-27T20:50:21.083Z"
   },
   {
    "duration": 29,
    "start_time": "2021-08-27T20:50:21.123Z"
   },
   {
    "duration": 7,
    "start_time": "2021-08-27T20:50:21.154Z"
   },
   {
    "duration": 59,
    "start_time": "2021-08-27T20:50:21.163Z"
   },
   {
    "duration": 16,
    "start_time": "2021-08-27T20:50:21.224Z"
   },
   {
    "duration": 25,
    "start_time": "2021-08-27T20:50:21.243Z"
   },
   {
    "duration": 128,
    "start_time": "2021-08-27T20:50:21.272Z"
   },
   {
    "duration": 18,
    "start_time": "2021-08-27T20:50:21.403Z"
   },
   {
    "duration": 166,
    "start_time": "2021-08-27T20:50:21.423Z"
   },
   {
    "duration": 180,
    "start_time": "2021-08-27T20:50:21.592Z"
   },
   {
    "duration": 147,
    "start_time": "2021-08-27T20:50:21.775Z"
   },
   {
    "duration": 46,
    "start_time": "2021-08-27T20:50:21.925Z"
   },
   {
    "duration": 8793,
    "start_time": "2021-08-27T20:50:21.973Z"
   },
   {
    "duration": 25,
    "start_time": "2021-08-27T20:50:30.769Z"
   },
   {
    "duration": 61,
    "start_time": "2021-08-27T20:50:30.796Z"
   },
   {
    "duration": 29,
    "start_time": "2021-08-27T20:50:30.859Z"
   },
   {
    "duration": 43980,
    "start_time": "2021-08-27T20:50:39.437Z"
   },
   {
    "duration": 18144,
    "start_time": "2021-08-27T20:51:23.419Z"
   },
   {
    "duration": 798,
    "start_time": "2021-08-27T20:51:45.333Z"
   },
   {
    "duration": 317,
    "start_time": "2021-08-27T20:52:16.017Z"
   },
   {
    "duration": 333,
    "start_time": "2021-08-27T20:52:26.989Z"
   },
   {
    "duration": 371,
    "start_time": "2021-08-27T20:52:32.712Z"
   },
   {
    "duration": 1261,
    "start_time": "2021-08-27T20:52:57.311Z"
   },
   {
    "duration": 1484,
    "start_time": "2021-08-27T20:53:10.197Z"
   },
   {
    "duration": 1464,
    "start_time": "2021-08-27T20:53:22.329Z"
   },
   {
    "duration": 2150,
    "start_time": "2021-08-27T20:53:51.053Z"
   },
   {
    "duration": 1729,
    "start_time": "2021-08-27T20:54:03.840Z"
   },
   {
    "duration": 1782,
    "start_time": "2021-08-27T20:54:12.085Z"
   },
   {
    "duration": 1812,
    "start_time": "2021-08-27T20:54:31.019Z"
   },
   {
    "duration": 1724,
    "start_time": "2021-08-27T20:54:39.510Z"
   },
   {
    "duration": 966,
    "start_time": "2021-08-27T20:58:14.398Z"
   },
   {
    "duration": 968,
    "start_time": "2021-08-27T20:58:28.748Z"
   },
   {
    "duration": 972,
    "start_time": "2021-08-27T20:58:51.397Z"
   },
   {
    "duration": 965,
    "start_time": "2021-08-27T20:59:06.162Z"
   },
   {
    "duration": 973,
    "start_time": "2021-08-27T20:59:16.810Z"
   },
   {
    "duration": 676,
    "start_time": "2021-08-27T20:59:23.533Z"
   },
   {
    "duration": 694,
    "start_time": "2021-08-27T20:59:36.468Z"
   },
   {
    "duration": 687,
    "start_time": "2021-08-27T20:59:41.642Z"
   },
   {
    "duration": 916,
    "start_time": "2021-08-27T20:59:49.150Z"
   },
   {
    "duration": 902,
    "start_time": "2021-08-27T20:59:54.740Z"
   },
   {
    "duration": 705,
    "start_time": "2021-08-27T21:00:04.782Z"
   },
   {
    "duration": 721,
    "start_time": "2021-08-27T21:00:11.486Z"
   },
   {
    "duration": 458,
    "start_time": "2021-08-27T21:01:31.453Z"
   },
   {
    "duration": 447,
    "start_time": "2021-08-27T21:01:56.178Z"
   },
   {
    "duration": 471,
    "start_time": "2021-08-27T21:02:11.785Z"
   },
   {
    "duration": 463,
    "start_time": "2021-08-27T21:02:55.359Z"
   },
   {
    "duration": 514,
    "start_time": "2021-08-27T21:03:11.748Z"
   },
   {
    "duration": 1541,
    "start_time": "2021-08-27T21:03:33.607Z"
   },
   {
    "duration": 392,
    "start_time": "2021-08-27T21:04:22.564Z"
   },
   {
    "duration": 630,
    "start_time": "2021-08-27T21:05:01.226Z"
   },
   {
    "duration": 583,
    "start_time": "2021-08-27T21:05:42.124Z"
   },
   {
    "duration": 739,
    "start_time": "2021-08-27T21:05:57.781Z"
   },
   {
    "duration": 937,
    "start_time": "2021-08-27T21:08:18.158Z"
   },
   {
    "duration": 742,
    "start_time": "2021-08-27T21:08:28.093Z"
   },
   {
    "duration": 848,
    "start_time": "2021-08-27T21:08:41.737Z"
   },
   {
    "duration": 420,
    "start_time": "2021-08-27T21:08:51.845Z"
   },
   {
    "duration": 861,
    "start_time": "2021-08-27T21:09:13.513Z"
   },
   {
    "duration": 808,
    "start_time": "2021-08-27T21:09:35.152Z"
   },
   {
    "duration": 827,
    "start_time": "2021-08-27T21:10:23.999Z"
   },
   {
    "duration": 659,
    "start_time": "2021-08-27T21:10:30.923Z"
   },
   {
    "duration": 912,
    "start_time": "2021-08-27T21:10:43.798Z"
   },
   {
    "duration": 793,
    "start_time": "2021-08-27T21:10:55.776Z"
   },
   {
    "duration": 693,
    "start_time": "2021-08-27T21:11:01.546Z"
   },
   {
    "duration": 707,
    "start_time": "2021-08-27T21:11:38.458Z"
   },
   {
    "duration": 679,
    "start_time": "2021-08-27T21:12:11.945Z"
   },
   {
    "duration": 619,
    "start_time": "2021-08-27T21:12:32.009Z"
   },
   {
    "duration": 1811,
    "start_time": "2021-08-27T21:13:34.255Z"
   },
   {
    "duration": 727,
    "start_time": "2021-08-27T21:13:44.117Z"
   },
   {
    "duration": 703,
    "start_time": "2021-08-27T21:13:54.026Z"
   },
   {
    "duration": 699,
    "start_time": "2021-08-27T21:14:10.254Z"
   },
   {
    "duration": 828,
    "start_time": "2021-08-27T21:14:21.716Z"
   },
   {
    "duration": 687,
    "start_time": "2021-08-27T21:15:00.196Z"
   },
   {
    "duration": 1652,
    "start_time": "2021-08-27T21:20:37.168Z"
   },
   {
    "duration": 1307,
    "start_time": "2021-08-27T21:21:03.785Z"
   },
   {
    "duration": 1336,
    "start_time": "2021-08-27T21:22:30.240Z"
   },
   {
    "duration": 1306,
    "start_time": "2021-08-27T21:22:36.909Z"
   },
   {
    "duration": 1638,
    "start_time": "2021-08-27T21:22:45.674Z"
   },
   {
    "duration": 1406,
    "start_time": "2021-08-27T21:23:04.998Z"
   },
   {
    "duration": 1317,
    "start_time": "2021-08-27T21:23:19.438Z"
   },
   {
    "duration": 1179,
    "start_time": "2021-08-27T21:23:39.598Z"
   },
   {
    "duration": 1023,
    "start_time": "2021-08-27T21:24:22.345Z"
   },
   {
    "duration": 1069,
    "start_time": "2021-08-27T21:24:27.641Z"
   },
   {
    "duration": 1185,
    "start_time": "2021-08-27T21:24:38.267Z"
   },
   {
    "duration": 933,
    "start_time": "2021-08-27T21:24:50.259Z"
   },
   {
    "duration": 973,
    "start_time": "2021-08-27T21:25:03.830Z"
   },
   {
    "duration": 1396,
    "start_time": "2021-08-27T21:25:09.773Z"
   },
   {
    "duration": 1030,
    "start_time": "2021-08-27T21:25:18.088Z"
   },
   {
    "duration": 1058,
    "start_time": "2021-08-27T21:26:13.298Z"
   },
   {
    "duration": 1825,
    "start_time": "2021-08-27T21:27:24.913Z"
   },
   {
    "duration": 1810,
    "start_time": "2021-08-27T21:27:38.510Z"
   },
   {
    "duration": 1781,
    "start_time": "2021-08-27T21:27:52.743Z"
   },
   {
    "duration": 929,
    "start_time": "2021-08-27T21:28:14.515Z"
   },
   {
    "duration": 1783,
    "start_time": "2021-08-27T21:28:28.290Z"
   },
   {
    "duration": 1659,
    "start_time": "2021-08-27T21:28:41.066Z"
   },
   {
    "duration": 1636,
    "start_time": "2021-08-27T21:28:57.341Z"
   },
   {
    "duration": 1906,
    "start_time": "2021-08-27T21:29:06.454Z"
   },
   {
    "duration": 1009,
    "start_time": "2021-08-27T21:29:24.044Z"
   },
   {
    "duration": 1388,
    "start_time": "2021-08-27T21:30:16.901Z"
   },
   {
    "duration": 998,
    "start_time": "2021-08-27T21:31:10.442Z"
   },
   {
    "duration": 1391,
    "start_time": "2021-08-27T21:31:25.540Z"
   },
   {
    "duration": 1024,
    "start_time": "2021-08-27T21:31:32.786Z"
   },
   {
    "duration": 997,
    "start_time": "2021-08-27T21:31:41.850Z"
   },
   {
    "duration": 1014,
    "start_time": "2021-08-27T21:31:59.489Z"
   },
   {
    "duration": 1089,
    "start_time": "2021-08-27T21:32:53.866Z"
   },
   {
    "duration": 1119,
    "start_time": "2021-08-27T21:33:55.230Z"
   },
   {
    "duration": 1006,
    "start_time": "2021-08-27T21:34:06.828Z"
   },
   {
    "duration": 1014,
    "start_time": "2021-08-27T21:34:18.366Z"
   },
   {
    "duration": 1328,
    "start_time": "2021-08-27T21:34:25.318Z"
   },
   {
    "duration": 1030,
    "start_time": "2021-08-27T21:34:48.274Z"
   },
   {
    "duration": 1021,
    "start_time": "2021-08-27T21:35:48.866Z"
   },
   {
    "duration": 1112,
    "start_time": "2021-08-27T21:36:25.788Z"
   },
   {
    "duration": 1030,
    "start_time": "2021-08-27T21:37:19.724Z"
   },
   {
    "duration": 1046,
    "start_time": "2021-08-27T21:37:26.512Z"
   },
   {
    "duration": 1220,
    "start_time": "2021-08-27T21:38:24.130Z"
   },
   {
    "duration": 1047,
    "start_time": "2021-08-27T21:41:08.490Z"
   },
   {
    "duration": 1009,
    "start_time": "2021-08-27T21:41:37.946Z"
   },
   {
    "duration": 1044,
    "start_time": "2021-08-27T21:43:26.663Z"
   },
   {
    "duration": 1157,
    "start_time": "2021-08-27T21:43:39.376Z"
   },
   {
    "duration": 1561,
    "start_time": "2021-08-27T21:43:49.617Z"
   },
   {
    "duration": 1449,
    "start_time": "2021-08-27T21:44:43.516Z"
   },
   {
    "duration": 1521,
    "start_time": "2021-08-27T21:44:52.640Z"
   },
   {
    "duration": 1031,
    "start_time": "2021-08-27T21:44:57.112Z"
   },
   {
    "duration": 1059,
    "start_time": "2021-08-27T21:45:14.426Z"
   },
   {
    "duration": 1159,
    "start_time": "2021-08-27T21:45:26.340Z"
   },
   {
    "duration": 1041,
    "start_time": "2021-08-27T21:45:32.834Z"
   },
   {
    "duration": 1400,
    "start_time": "2021-08-27T21:45:46.382Z"
   },
   {
    "duration": 1024,
    "start_time": "2021-08-27T21:45:57.073Z"
   },
   {
    "duration": 1052,
    "start_time": "2021-08-27T21:46:24.474Z"
   },
   {
    "duration": 1085,
    "start_time": "2021-08-27T21:47:23.083Z"
   },
   {
    "duration": 1465,
    "start_time": "2021-08-27T21:48:24.711Z"
   },
   {
    "duration": 1144,
    "start_time": "2021-08-27T21:49:11.821Z"
   },
   {
    "duration": 1021,
    "start_time": "2021-08-27T21:49:18.864Z"
   },
   {
    "duration": 1041,
    "start_time": "2021-08-27T21:50:11.437Z"
   },
   {
    "duration": 1229,
    "start_time": "2021-08-27T21:51:25.109Z"
   },
   {
    "duration": 7,
    "start_time": "2021-08-27T21:56:03.590Z"
   },
   {
    "duration": 1909,
    "start_time": "2021-08-27T21:56:05.366Z"
   },
   {
    "duration": 7,
    "start_time": "2021-08-27T21:56:14.636Z"
   },
   {
    "duration": 982,
    "start_time": "2021-08-27T21:56:16.543Z"
   },
   {
    "duration": 1036,
    "start_time": "2021-08-27T21:56:21.386Z"
   },
   {
    "duration": 1017,
    "start_time": "2021-08-27T21:56:28.654Z"
   },
   {
    "duration": 1166,
    "start_time": "2021-08-27T21:59:28.178Z"
   },
   {
    "duration": 446,
    "start_time": "2021-08-27T22:00:09.303Z"
   },
   {
    "duration": 420,
    "start_time": "2021-08-27T22:00:40.984Z"
   },
   {
    "duration": 47,
    "start_time": "2021-08-27T22:01:10.027Z"
   },
   {
    "duration": 446,
    "start_time": "2021-08-27T22:01:20.470Z"
   },
   {
    "duration": 1036,
    "start_time": "2021-08-27T22:01:34.184Z"
   },
   {
    "duration": 575,
    "start_time": "2021-08-27T22:01:51.567Z"
   },
   {
    "duration": 511,
    "start_time": "2021-08-27T22:02:07.645Z"
   },
   {
    "duration": 128,
    "start_time": "2021-08-27T22:02:46.272Z"
   },
   {
    "duration": 1281,
    "start_time": "2021-08-27T22:02:51.618Z"
   },
   {
    "duration": 929,
    "start_time": "2021-08-27T22:03:08.020Z"
   },
   {
    "duration": 920,
    "start_time": "2021-08-27T22:03:22.685Z"
   },
   {
    "duration": 544,
    "start_time": "2021-08-27T22:03:31.782Z"
   },
   {
    "duration": 465,
    "start_time": "2021-08-27T22:03:58.638Z"
   },
   {
    "duration": 459,
    "start_time": "2021-08-27T22:04:05.303Z"
   },
   {
    "duration": 482,
    "start_time": "2021-08-27T22:04:28.585Z"
   },
   {
    "duration": 416,
    "start_time": "2021-08-27T22:12:06.055Z"
   },
   {
    "duration": 1166,
    "start_time": "2021-08-27T22:15:33.590Z"
   },
   {
    "duration": 1152,
    "start_time": "2021-08-27T22:15:40.780Z"
   },
   {
    "duration": 973,
    "start_time": "2021-08-27T22:17:38.896Z"
   },
   {
    "duration": 1237,
    "start_time": "2021-08-27T22:17:43.887Z"
   },
   {
    "duration": 14,
    "start_time": "2021-08-27T22:18:46.221Z"
   },
   {
    "duration": 12,
    "start_time": "2021-08-27T22:18:58.250Z"
   },
   {
    "duration": 17,
    "start_time": "2021-08-27T22:19:43.275Z"
   },
   {
    "duration": 10,
    "start_time": "2021-08-27T22:20:03.869Z"
   },
   {
    "duration": 15,
    "start_time": "2021-08-27T22:22:08.014Z"
   },
   {
    "duration": 15,
    "start_time": "2021-08-27T22:22:44.768Z"
   },
   {
    "duration": 401,
    "start_time": "2021-08-27T22:38:04.664Z"
   },
   {
    "duration": 50,
    "start_time": "2021-08-27T22:38:09.623Z"
   },
   {
    "duration": 26,
    "start_time": "2021-08-27T22:38:11.941Z"
   },
   {
    "duration": 32,
    "start_time": "2021-08-27T22:41:11.388Z"
   },
   {
    "duration": 17,
    "start_time": "2021-08-27T22:41:18.360Z"
   },
   {
    "duration": 406,
    "start_time": "2021-08-27T22:41:24.823Z"
   },
   {
    "duration": 14,
    "start_time": "2021-08-27T22:41:28.199Z"
   },
   {
    "duration": 378,
    "start_time": "2021-08-27T22:42:46.504Z"
   },
   {
    "duration": 5,
    "start_time": "2021-08-27T22:42:54.836Z"
   },
   {
    "duration": 18,
    "start_time": "2021-08-27T22:42:59.566Z"
   },
   {
    "duration": 16,
    "start_time": "2021-08-27T22:44:27.589Z"
   },
   {
    "duration": 23,
    "start_time": "2021-08-27T22:49:13.857Z"
   },
   {
    "duration": 7,
    "start_time": "2021-08-27T22:49:32.233Z"
   },
   {
    "duration": 384,
    "start_time": "2021-08-27T22:50:11.603Z"
   },
   {
    "duration": 386,
    "start_time": "2021-08-27T22:50:25.075Z"
   },
   {
    "duration": 378,
    "start_time": "2021-08-27T22:50:34.929Z"
   },
   {
    "duration": 399,
    "start_time": "2021-08-27T22:51:07.899Z"
   },
   {
    "duration": 47,
    "start_time": "2021-08-27T22:52:07.542Z"
   },
   {
    "duration": 386,
    "start_time": "2021-08-27T22:52:27.197Z"
   },
   {
    "duration": 706,
    "start_time": "2021-08-27T22:52:46.845Z"
   },
   {
    "duration": 60,
    "start_time": "2021-08-27T22:53:01.150Z"
   },
   {
    "duration": 45,
    "start_time": "2021-08-27T22:53:25.771Z"
   },
   {
    "duration": 34,
    "start_time": "2021-08-27T22:53:57.540Z"
   },
   {
    "duration": 33,
    "start_time": "2021-08-27T22:54:03.653Z"
   },
   {
    "duration": 21,
    "start_time": "2021-08-27T22:54:37.562Z"
   },
   {
    "duration": 14,
    "start_time": "2021-08-27T22:55:01.248Z"
   },
   {
    "duration": 15,
    "start_time": "2021-08-27T22:57:55.279Z"
   },
   {
    "duration": 373,
    "start_time": "2021-08-27T23:02:25.186Z"
   },
   {
    "duration": 373,
    "start_time": "2021-08-27T23:02:38.092Z"
   },
   {
    "duration": 389,
    "start_time": "2021-08-27T23:03:30.026Z"
   },
   {
    "duration": 17,
    "start_time": "2021-08-27T23:03:49.153Z"
   },
   {
    "duration": 414,
    "start_time": "2021-08-27T23:03:52.129Z"
   },
   {
    "duration": 584,
    "start_time": "2021-08-27T23:04:04.572Z"
   },
   {
    "duration": 632,
    "start_time": "2021-08-27T23:04:26.557Z"
   },
   {
    "duration": 396,
    "start_time": "2021-08-27T23:05:10.592Z"
   },
   {
    "duration": 9699,
    "start_time": "2021-08-27T23:05:48.789Z"
   },
   {
    "duration": 766,
    "start_time": "2021-08-27T23:05:57.725Z"
   },
   {
    "duration": 12,
    "start_time": "2021-08-27T23:06:02.238Z"
   },
   {
    "duration": 18,
    "start_time": "2021-08-27T23:06:25.479Z"
   },
   {
    "duration": 19,
    "start_time": "2021-08-27T23:06:27.849Z"
   },
   {
    "duration": 582,
    "start_time": "2021-08-27T23:06:31.643Z"
   },
   {
    "duration": 606,
    "start_time": "2021-08-27T23:06:46.804Z"
   },
   {
    "duration": 1755,
    "start_time": "2021-08-27T23:08:24.461Z"
   },
   {
    "duration": 1420,
    "start_time": "2021-08-27T23:10:19.118Z"
   },
   {
    "duration": 1211,
    "start_time": "2021-08-27T23:10:26.601Z"
   },
   {
    "duration": 1288,
    "start_time": "2021-08-27T23:10:38.628Z"
   },
   {
    "duration": 1154,
    "start_time": "2021-08-27T23:10:45.525Z"
   },
   {
    "duration": 1546,
    "start_time": "2021-08-27T23:11:44.393Z"
   },
   {
    "duration": 1155,
    "start_time": "2021-08-27T23:13:42.409Z"
   },
   {
    "duration": 1352,
    "start_time": "2021-08-27T23:15:00.633Z"
   },
   {
    "duration": 1508,
    "start_time": "2021-08-27T23:15:11.602Z"
   },
   {
    "duration": 1318,
    "start_time": "2021-08-27T23:15:20.917Z"
   },
   {
    "duration": 1154,
    "start_time": "2021-08-27T23:15:27.264Z"
   },
   {
    "duration": 1151,
    "start_time": "2021-08-27T23:15:44.968Z"
   },
   {
    "duration": 16,
    "start_time": "2021-08-27T23:16:40.164Z"
   },
   {
    "duration": 20,
    "start_time": "2021-08-27T23:17:13.184Z"
   },
   {
    "duration": 399,
    "start_time": "2021-08-27T23:18:15.090Z"
   },
   {
    "duration": 15,
    "start_time": "2021-08-27T23:18:22.444Z"
   },
   {
    "duration": 15,
    "start_time": "2021-08-27T23:18:38.292Z"
   },
   {
    "duration": 1105,
    "start_time": "2021-08-27T23:18:40.448Z"
   },
   {
    "duration": 1103,
    "start_time": "2021-08-27T23:19:02.386Z"
   },
   {
    "duration": 3005,
    "start_time": "2021-08-27T23:20:01.812Z"
   },
   {
    "duration": 17,
    "start_time": "2021-08-27T23:20:07.297Z"
   },
   {
    "duration": 1220,
    "start_time": "2021-08-27T23:20:14.088Z"
   },
   {
    "duration": 18,
    "start_time": "2021-08-27T23:20:22.136Z"
   },
   {
    "duration": 1284,
    "start_time": "2021-08-27T23:20:24.167Z"
   },
   {
    "duration": 1162,
    "start_time": "2021-08-27T23:21:08.997Z"
   },
   {
    "duration": 1139,
    "start_time": "2021-08-27T23:22:01.179Z"
   },
   {
    "duration": 1003,
    "start_time": "2021-08-27T23:22:20.028Z"
   },
   {
    "duration": 1027,
    "start_time": "2021-08-27T23:22:31.059Z"
   },
   {
    "duration": 5,
    "start_time": "2021-08-27T23:25:30.257Z"
   },
   {
    "duration": 552,
    "start_time": "2021-08-27T23:25:30.265Z"
   },
   {
    "duration": 35,
    "start_time": "2021-08-27T23:25:30.820Z"
   },
   {
    "duration": 44,
    "start_time": "2021-08-27T23:25:30.858Z"
   },
   {
    "duration": 16,
    "start_time": "2021-08-27T23:25:30.904Z"
   },
   {
    "duration": 36,
    "start_time": "2021-08-27T23:25:30.923Z"
   },
   {
    "duration": 31,
    "start_time": "2021-08-27T23:25:30.962Z"
   },
   {
    "duration": 25,
    "start_time": "2021-08-27T23:25:31.017Z"
   },
   {
    "duration": 111,
    "start_time": "2021-08-27T23:25:31.045Z"
   },
   {
    "duration": 12,
    "start_time": "2021-08-27T23:25:31.158Z"
   },
   {
    "duration": 173,
    "start_time": "2021-08-27T23:25:31.173Z"
   },
   {
    "duration": 179,
    "start_time": "2021-08-27T23:25:31.349Z"
   },
   {
    "duration": 144,
    "start_time": "2021-08-27T23:25:31.531Z"
   },
   {
    "duration": 59,
    "start_time": "2021-08-27T23:25:31.678Z"
   },
   {
    "duration": 8956,
    "start_time": "2021-08-27T23:25:31.740Z"
   },
   {
    "duration": 35,
    "start_time": "2021-08-27T23:25:40.698Z"
   },
   {
    "duration": 48,
    "start_time": "2021-08-27T23:25:40.736Z"
   },
   {
    "duration": 53,
    "start_time": "2021-08-27T23:25:40.786Z"
   },
   {
    "duration": 18,
    "start_time": "2021-08-27T23:25:40.842Z"
   },
   {
    "duration": 15,
    "start_time": "2021-08-27T23:25:40.863Z"
   },
   {
    "duration": 1014,
    "start_time": "2021-08-27T23:25:40.881Z"
   },
   {
    "duration": 1601,
    "start_time": "2021-08-27T23:25:41.897Z"
   },
   {
    "duration": 1221,
    "start_time": "2021-08-27T23:25:43.503Z"
   },
   {
    "duration": 20,
    "start_time": "2021-08-27T23:25:44.727Z"
   },
   {
    "duration": 1069,
    "start_time": "2021-08-27T23:25:44.750Z"
   },
   {
    "duration": 13,
    "start_time": "2021-08-27T23:25:45.822Z"
   },
   {
    "duration": 17,
    "start_time": "2021-08-27T23:25:45.838Z"
   },
   {
    "duration": 1021,
    "start_time": "2021-08-27T23:25:45.857Z"
   },
   {
    "duration": 28,
    "start_time": "2021-08-27T23:27:17.891Z"
   },
   {
    "duration": 7078,
    "start_time": "2021-08-27T23:32:06.249Z"
   },
   {
    "duration": 6267,
    "start_time": "2021-08-27T23:32:58.584Z"
   },
   {
    "duration": 5814,
    "start_time": "2021-08-27T23:33:30.799Z"
   },
   {
    "duration": 9475,
    "start_time": "2021-08-27T23:34:38.711Z"
   },
   {
    "duration": 20130,
    "start_time": "2021-08-27T23:34:59.543Z"
   },
   {
    "duration": 10494,
    "start_time": "2021-08-27T23:35:27.873Z"
   },
   {
    "duration": 774,
    "start_time": "2021-08-27T23:35:37.596Z"
   },
   {
    "duration": 770,
    "start_time": "2021-08-27T23:35:37.601Z"
   },
   {
    "duration": 770,
    "start_time": "2021-08-27T23:35:37.602Z"
   },
   {
    "duration": 769,
    "start_time": "2021-08-27T23:35:37.605Z"
   },
   {
    "duration": 790,
    "start_time": "2021-08-27T23:35:51.148Z"
   },
   {
    "duration": 771,
    "start_time": "2021-08-27T23:35:51.169Z"
   },
   {
    "duration": 767,
    "start_time": "2021-08-27T23:35:51.175Z"
   },
   {
    "duration": 765,
    "start_time": "2021-08-27T23:35:51.180Z"
   },
   {
    "duration": 760,
    "start_time": "2021-08-27T23:35:51.187Z"
   },
   {
    "duration": 1483,
    "start_time": "2021-08-27T23:36:06.487Z"
   },
   {
    "duration": 504,
    "start_time": "2021-08-27T23:36:08.734Z"
   },
   {
    "duration": 38,
    "start_time": "2021-08-27T23:36:10.839Z"
   },
   {
    "duration": 31,
    "start_time": "2021-08-27T23:36:13.709Z"
   },
   {
    "duration": 7,
    "start_time": "2021-08-27T23:36:16.588Z"
   },
   {
    "duration": 1986,
    "start_time": "2021-08-27T23:36:20.387Z"
   },
   {
    "duration": 5212,
    "start_time": "2021-08-27T23:36:37.793Z"
   },
   {
    "duration": 5814,
    "start_time": "2021-08-27T23:37:01.935Z"
   },
   {
    "duration": 7,
    "start_time": "2021-08-27T23:37:16.065Z"
   },
   {
    "duration": 1825,
    "start_time": "2021-08-27T23:37:43.645Z"
   },
   {
    "duration": 76,
    "start_time": "2021-08-27T23:37:58.695Z"
   },
   {
    "duration": 26,
    "start_time": "2021-08-27T23:38:31.372Z"
   },
   {
    "duration": 17,
    "start_time": "2021-08-27T23:39:33.534Z"
   },
   {
    "duration": 49,
    "start_time": "2021-08-27T23:39:45.340Z"
   },
   {
    "duration": 15,
    "start_time": "2021-08-27T23:40:35.044Z"
   },
   {
    "duration": 19,
    "start_time": "2021-08-27T23:40:37.197Z"
   },
   {
    "duration": 36,
    "start_time": "2021-08-27T23:44:04.904Z"
   },
   {
    "duration": 19,
    "start_time": "2021-08-27T23:44:20.170Z"
   },
   {
    "duration": 25,
    "start_time": "2021-08-27T23:44:40.981Z"
   },
   {
    "duration": 18,
    "start_time": "2021-08-27T23:45:19.525Z"
   },
   {
    "duration": 19,
    "start_time": "2021-08-27T23:47:55.289Z"
   },
   {
    "duration": 8,
    "start_time": "2021-08-27T23:49:19.387Z"
   },
   {
    "duration": 132,
    "start_time": "2021-08-27T23:49:25.264Z"
   },
   {
    "duration": 6,
    "start_time": "2021-08-27T23:49:30.782Z"
   },
   {
    "duration": 7,
    "start_time": "2021-08-27T23:49:34.912Z"
   },
   {
    "duration": 402,
    "start_time": "2021-08-27T23:51:59.049Z"
   },
   {
    "duration": 91,
    "start_time": "2021-08-27T23:52:07.201Z"
   },
   {
    "duration": 14,
    "start_time": "2021-08-27T23:52:08.966Z"
   },
   {
    "duration": 145,
    "start_time": "2021-08-27T23:52:10.701Z"
   },
   {
    "duration": 163,
    "start_time": "2021-08-27T23:52:15.113Z"
   },
   {
    "duration": 119,
    "start_time": "2021-08-27T23:52:17.721Z"
   },
   {
    "duration": 49,
    "start_time": "2021-08-27T23:52:20.730Z"
   },
   {
    "duration": 59,
    "start_time": "2021-08-27T23:54:02.544Z"
   },
   {
    "duration": 8724,
    "start_time": "2021-08-28T00:03:13.699Z"
   },
   {
    "duration": 27,
    "start_time": "2021-08-28T00:03:24.782Z"
   },
   {
    "duration": 347,
    "start_time": "2021-08-29T18:57:31.766Z"
   },
   {
    "duration": 1433,
    "start_time": "2021-08-29T18:57:35.995Z"
   },
   {
    "duration": 530,
    "start_time": "2021-08-29T18:57:37.430Z"
   },
   {
    "duration": 40,
    "start_time": "2021-08-29T18:57:37.963Z"
   },
   {
    "duration": 24,
    "start_time": "2021-08-29T18:57:38.006Z"
   },
   {
    "duration": 56,
    "start_time": "2021-08-29T18:57:38.033Z"
   },
   {
    "duration": 16,
    "start_time": "2021-08-29T18:57:38.091Z"
   },
   {
    "duration": 9,
    "start_time": "2021-08-29T18:57:38.109Z"
   },
   {
    "duration": 64,
    "start_time": "2021-08-29T18:57:38.120Z"
   },
   {
    "duration": 17,
    "start_time": "2021-08-29T18:57:38.188Z"
   },
   {
    "duration": 18,
    "start_time": "2021-08-29T18:57:38.208Z"
   },
   {
    "duration": 191,
    "start_time": "2021-08-29T18:57:38.229Z"
   },
   {
    "duration": 17,
    "start_time": "2021-08-29T18:57:38.423Z"
   },
   {
    "duration": 81,
    "start_time": "2021-08-29T18:57:38.443Z"
   },
   {
    "duration": 83,
    "start_time": "2021-08-29T18:57:38.527Z"
   },
   {
    "duration": 123,
    "start_time": "2021-08-29T18:57:38.612Z"
   },
   {
    "duration": 50,
    "start_time": "2021-08-29T18:57:38.737Z"
   },
   {
    "duration": 8473,
    "start_time": "2021-08-29T18:57:38.789Z"
   },
   {
    "duration": 25,
    "start_time": "2021-08-29T18:57:47.264Z"
   },
   {
    "duration": 51,
    "start_time": "2021-08-29T18:57:47.291Z"
   },
   {
    "duration": 39,
    "start_time": "2021-08-29T18:57:47.344Z"
   },
   {
    "duration": 30,
    "start_time": "2021-08-29T18:57:47.385Z"
   },
   {
    "duration": 19,
    "start_time": "2021-08-29T18:57:47.417Z"
   },
   {
    "duration": 723,
    "start_time": "2021-08-29T18:57:47.439Z"
   },
   {
    "duration": 860,
    "start_time": "2021-08-29T18:57:48.164Z"
   },
   {
    "duration": 920,
    "start_time": "2021-08-29T18:57:49.026Z"
   },
   {
    "duration": 23,
    "start_time": "2021-08-29T18:57:49.948Z"
   },
   {
    "duration": 846,
    "start_time": "2021-08-29T18:57:49.976Z"
   },
   {
    "duration": 12,
    "start_time": "2021-08-29T18:57:50.825Z"
   },
   {
    "duration": 32,
    "start_time": "2021-08-29T18:57:50.839Z"
   },
   {
    "duration": 737,
    "start_time": "2021-08-29T18:57:50.873Z"
   },
   {
    "duration": 654,
    "start_time": "2021-08-29T18:58:19.401Z"
   },
   {
    "duration": 968,
    "start_time": "2021-08-29T18:58:33.377Z"
   },
   {
    "duration": 942,
    "start_time": "2021-08-29T18:58:41.947Z"
   },
   {
    "duration": 771,
    "start_time": "2021-08-29T18:58:47.612Z"
   },
   {
    "duration": 707,
    "start_time": "2021-08-29T19:01:06.828Z"
   },
   {
    "duration": 1337,
    "start_time": "2021-08-29T19:40:53.466Z"
   },
   {
    "duration": 962,
    "start_time": "2021-08-29T19:41:03.160Z"
   },
   {
    "duration": 930,
    "start_time": "2021-08-29T19:41:17.466Z"
   },
   {
    "duration": 960,
    "start_time": "2021-08-29T19:41:25.872Z"
   },
   {
    "duration": 943,
    "start_time": "2021-08-29T19:41:42.878Z"
   },
   {
    "duration": 863,
    "start_time": "2021-08-29T19:41:52.302Z"
   },
   {
    "duration": 808,
    "start_time": "2021-08-29T19:45:04.177Z"
   },
   {
    "duration": 92,
    "start_time": "2021-08-29T19:46:21.051Z"
   },
   {
    "duration": 885,
    "start_time": "2021-08-29T19:46:25.104Z"
   },
   {
    "duration": 797,
    "start_time": "2021-08-29T19:46:37.973Z"
   },
   {
    "duration": 1057,
    "start_time": "2021-08-29T19:48:18.140Z"
   },
   {
    "duration": 852,
    "start_time": "2021-08-29T19:48:38.814Z"
   },
   {
    "duration": 843,
    "start_time": "2021-08-29T19:48:44.292Z"
   },
   {
    "duration": 702,
    "start_time": "2021-08-29T19:48:55.666Z"
   },
   {
    "duration": 735,
    "start_time": "2021-08-29T19:50:01.810Z"
   },
   {
    "duration": 689,
    "start_time": "2021-08-29T19:50:09.598Z"
   },
   {
    "duration": 1199,
    "start_time": "2021-08-29T19:55:44.455Z"
   },
   {
    "duration": 1464,
    "start_time": "2021-08-29T19:56:23.175Z"
   },
   {
    "duration": 698,
    "start_time": "2021-08-29T19:56:52.931Z"
   },
   {
    "duration": 1046,
    "start_time": "2021-08-29T19:56:59.467Z"
   },
   {
    "duration": 1093,
    "start_time": "2021-08-29T19:57:13.158Z"
   },
   {
    "duration": 870,
    "start_time": "2021-08-29T19:57:20.352Z"
   },
   {
    "duration": 851,
    "start_time": "2021-08-29T19:57:31.069Z"
   },
   {
    "duration": 992,
    "start_time": "2021-08-29T19:57:59.776Z"
   },
   {
    "duration": 831,
    "start_time": "2021-08-29T19:58:11.397Z"
   },
   {
    "duration": 897,
    "start_time": "2021-08-29T19:58:34.650Z"
   },
   {
    "duration": 855,
    "start_time": "2021-08-29T19:58:44.969Z"
   },
   {
    "duration": 1406,
    "start_time": "2021-08-29T19:59:00.616Z"
   },
   {
    "duration": 1355,
    "start_time": "2021-08-29T19:59:09.322Z"
   },
   {
    "duration": 1438,
    "start_time": "2021-08-29T19:59:25.299Z"
   },
   {
    "duration": 858,
    "start_time": "2021-08-29T20:07:02.992Z"
   },
   {
    "duration": 1168,
    "start_time": "2021-08-29T20:07:23.671Z"
   },
   {
    "duration": 943,
    "start_time": "2021-08-29T20:07:34.627Z"
   },
   {
    "duration": 19,
    "start_time": "2021-08-29T20:19:07.357Z"
   },
   {
    "duration": 18,
    "start_time": "2021-08-29T20:19:24.471Z"
   },
   {
    "duration": 16,
    "start_time": "2021-08-29T20:19:35.755Z"
   },
   {
    "duration": 330,
    "start_time": "2021-08-29T20:27:11.551Z"
   },
   {
    "duration": 977,
    "start_time": "2021-08-29T20:29:13.879Z"
   },
   {
    "duration": 721,
    "start_time": "2021-08-29T20:29:30.802Z"
   },
   {
    "duration": 694,
    "start_time": "2021-08-29T20:29:41.640Z"
   },
   {
    "duration": 703,
    "start_time": "2021-08-29T20:30:30.149Z"
   },
   {
    "duration": 685,
    "start_time": "2021-08-29T20:30:48.844Z"
   },
   {
    "duration": 806,
    "start_time": "2021-08-29T20:31:12.092Z"
   },
   {
    "duration": 695,
    "start_time": "2021-08-29T20:32:31.198Z"
   },
   {
    "duration": 728,
    "start_time": "2021-08-29T20:32:49.744Z"
   },
   {
    "duration": 715,
    "start_time": "2021-08-29T20:33:37.575Z"
   },
   {
    "duration": 729,
    "start_time": "2021-08-29T20:33:58.132Z"
   },
   {
    "duration": 812,
    "start_time": "2021-08-29T20:34:04.120Z"
   },
   {
    "duration": 258,
    "start_time": "2021-08-29T20:40:17.021Z"
   },
   {
    "duration": 13,
    "start_time": "2021-08-29T20:40:35.270Z"
   },
   {
    "duration": 326,
    "start_time": "2021-08-29T20:41:32.225Z"
   },
   {
    "duration": 12,
    "start_time": "2021-08-29T20:41:47.095Z"
   },
   {
    "duration": 6,
    "start_time": "2021-08-29T20:42:25.932Z"
   },
   {
    "duration": 231,
    "start_time": "2021-08-29T20:42:45.002Z"
   },
   {
    "duration": 6,
    "start_time": "2021-08-29T20:43:13.201Z"
   },
   {
    "duration": 226,
    "start_time": "2021-08-29T20:43:13.791Z"
   },
   {
    "duration": 87,
    "start_time": "2021-08-29T21:02:59.139Z"
   },
   {
    "duration": 67,
    "start_time": "2021-08-29T21:03:09.231Z"
   },
   {
    "duration": 46,
    "start_time": "2021-08-29T21:03:18.394Z"
   },
   {
    "duration": 1151,
    "start_time": "2021-08-30T05:54:20.022Z"
   },
   {
    "duration": 450,
    "start_time": "2021-08-30T05:54:21.175Z"
   },
   {
    "duration": 31,
    "start_time": "2021-08-30T05:54:21.627Z"
   },
   {
    "duration": 20,
    "start_time": "2021-08-30T05:54:21.660Z"
   },
   {
    "duration": 25,
    "start_time": "2021-08-30T05:54:21.681Z"
   },
   {
    "duration": 14,
    "start_time": "2021-08-30T05:54:21.708Z"
   },
   {
    "duration": 5,
    "start_time": "2021-08-30T05:54:21.723Z"
   },
   {
    "duration": 48,
    "start_time": "2021-08-30T05:54:21.731Z"
   },
   {
    "duration": 12,
    "start_time": "2021-08-30T05:54:21.781Z"
   },
   {
    "duration": 15,
    "start_time": "2021-08-30T05:54:21.794Z"
   },
   {
    "duration": 108,
    "start_time": "2021-08-30T05:54:21.811Z"
   },
   {
    "duration": 10,
    "start_time": "2021-08-30T05:54:21.921Z"
   },
   {
    "duration": 68,
    "start_time": "2021-08-30T05:54:21.933Z"
   },
   {
    "duration": 59,
    "start_time": "2021-08-30T05:54:22.003Z"
   },
   {
    "duration": 105,
    "start_time": "2021-08-30T05:54:22.064Z"
   },
   {
    "duration": 40,
    "start_time": "2021-08-30T05:54:22.170Z"
   },
   {
    "duration": 5867,
    "start_time": "2021-08-30T05:54:22.212Z"
   },
   {
    "duration": 20,
    "start_time": "2021-08-30T05:54:28.081Z"
   },
   {
    "duration": 35,
    "start_time": "2021-08-30T05:54:28.102Z"
   },
   {
    "duration": 39,
    "start_time": "2021-08-30T05:54:28.139Z"
   },
   {
    "duration": 592,
    "start_time": "2021-08-30T05:54:28.181Z"
   },
   {
    "duration": 590,
    "start_time": "2021-08-30T05:54:28.776Z"
   },
   {
    "duration": 710,
    "start_time": "2021-08-30T05:54:29.380Z"
   },
   {
    "duration": 15,
    "start_time": "2021-08-30T05:54:30.093Z"
   },
   {
    "duration": 603,
    "start_time": "2021-08-30T05:54:30.111Z"
   },
   {
    "duration": 171,
    "start_time": "2021-08-30T05:54:30.717Z"
   },
   {
    "duration": 11,
    "start_time": "2021-08-30T05:54:30.891Z"
   },
   {
    "duration": 15,
    "start_time": "2021-08-30T05:54:30.904Z"
   },
   {
    "duration": 513,
    "start_time": "2021-08-30T05:54:30.922Z"
   },
   {
    "duration": 5,
    "start_time": "2021-08-30T05:54:31.438Z"
   },
   {
    "duration": 180,
    "start_time": "2021-08-30T05:54:31.445Z"
   },
   {
    "duration": 210,
    "start_time": "2021-08-30T16:28:30.957Z"
   },
   {
    "duration": 420,
    "start_time": "2021-08-30T16:28:36.662Z"
   },
   {
    "duration": 1198,
    "start_time": "2021-08-30T16:28:42.269Z"
   },
   {
    "duration": 436,
    "start_time": "2021-08-30T16:28:43.470Z"
   },
   {
    "duration": 30,
    "start_time": "2021-08-30T16:28:43.909Z"
   },
   {
    "duration": 19,
    "start_time": "2021-08-30T16:28:43.941Z"
   },
   {
    "duration": 24,
    "start_time": "2021-08-30T16:28:43.962Z"
   },
   {
    "duration": 14,
    "start_time": "2021-08-30T16:28:43.988Z"
   },
   {
    "duration": 5,
    "start_time": "2021-08-30T16:28:44.004Z"
   },
   {
    "duration": 44,
    "start_time": "2021-08-30T16:28:44.011Z"
   },
   {
    "duration": 13,
    "start_time": "2021-08-30T16:28:44.057Z"
   },
   {
    "duration": 20,
    "start_time": "2021-08-30T16:28:44.072Z"
   },
   {
    "duration": 103,
    "start_time": "2021-08-30T16:28:44.094Z"
   },
   {
    "duration": 10,
    "start_time": "2021-08-30T16:28:44.199Z"
   },
   {
    "duration": 8,
    "start_time": "2021-08-30T16:28:44.211Z"
   },
   {
    "duration": 494,
    "start_time": "2021-08-30T16:28:54.300Z"
   },
   {
    "duration": 5,
    "start_time": "2021-08-30T16:29:06.573Z"
   },
   {
    "duration": 4,
    "start_time": "2021-08-30T16:29:16.684Z"
   },
   {
    "duration": 5,
    "start_time": "2021-08-30T16:29:24.732Z"
   },
   {
    "duration": 279,
    "start_time": "2021-08-30T16:37:27.761Z"
   },
   {
    "duration": 92,
    "start_time": "2021-08-30T16:37:55.455Z"
   },
   {
    "duration": 97,
    "start_time": "2021-08-30T16:38:01.012Z"
   },
   {
    "duration": 17,
    "start_time": "2021-08-30T16:38:08.593Z"
   },
   {
    "duration": 26,
    "start_time": "2021-08-30T16:38:11.549Z"
   },
   {
    "duration": 3,
    "start_time": "2021-08-30T16:39:15.177Z"
   },
   {
    "duration": 441,
    "start_time": "2021-08-30T16:39:15.183Z"
   },
   {
    "duration": 28,
    "start_time": "2021-08-30T16:39:15.626Z"
   },
   {
    "duration": 14,
    "start_time": "2021-08-30T16:39:19.950Z"
   },
   {
    "duration": 93,
    "start_time": "2021-08-30T16:39:44.921Z"
   },
   {
    "duration": 15,
    "start_time": "2021-08-30T16:39:46.448Z"
   },
   {
    "duration": 5,
    "start_time": "2021-08-30T16:39:51.790Z"
   },
   {
    "duration": 14,
    "start_time": "2021-08-30T16:40:44.461Z"
   },
   {
    "duration": 15,
    "start_time": "2021-08-30T16:40:48.747Z"
   },
   {
    "duration": 15,
    "start_time": "2021-08-30T16:41:10.436Z"
   },
   {
    "duration": 14,
    "start_time": "2021-08-30T16:41:19.702Z"
   },
   {
    "duration": 15,
    "start_time": "2021-08-30T16:41:25.061Z"
   },
   {
    "duration": 15,
    "start_time": "2021-08-30T16:42:26.322Z"
   },
   {
    "duration": 337,
    "start_time": "2021-08-30T16:42:39.698Z"
   },
   {
    "duration": 3,
    "start_time": "2021-08-30T16:42:42.660Z"
   },
   {
    "duration": 428,
    "start_time": "2021-08-30T16:42:42.665Z"
   },
   {
    "duration": 27,
    "start_time": "2021-08-30T16:42:43.095Z"
   },
   {
    "duration": 23,
    "start_time": "2021-08-30T16:42:43.123Z"
   },
   {
    "duration": 24,
    "start_time": "2021-08-30T16:42:43.148Z"
   },
   {
    "duration": 15,
    "start_time": "2021-08-30T16:42:43.174Z"
   },
   {
    "duration": 4,
    "start_time": "2021-08-30T16:42:43.192Z"
   },
   {
    "duration": 44,
    "start_time": "2021-08-30T16:42:43.198Z"
   },
   {
    "duration": 12,
    "start_time": "2021-08-30T16:42:43.244Z"
   },
   {
    "duration": 23,
    "start_time": "2021-08-30T16:42:43.258Z"
   },
   {
    "duration": 88,
    "start_time": "2021-08-30T16:42:43.283Z"
   },
   {
    "duration": 8,
    "start_time": "2021-08-30T16:42:43.373Z"
   },
   {
    "duration": 113,
    "start_time": "2021-08-30T16:42:43.383Z"
   },
   {
    "duration": 18,
    "start_time": "2021-08-30T16:42:43.497Z"
   },
   {
    "duration": 61,
    "start_time": "2021-08-30T16:42:43.517Z"
   },
   {
    "duration": 49,
    "start_time": "2021-08-30T16:42:43.580Z"
   },
   {
    "duration": 92,
    "start_time": "2021-08-30T16:42:45.921Z"
   },
   {
    "duration": 38,
    "start_time": "2021-08-30T16:46:53.917Z"
   },
   {
    "duration": 37,
    "start_time": "2021-08-30T16:46:58.451Z"
   },
   {
    "duration": 39,
    "start_time": "2021-08-30T16:47:01.626Z"
   },
   {
    "duration": 35,
    "start_time": "2021-08-30T16:47:32.902Z"
   },
   {
    "duration": 39,
    "start_time": "2021-08-30T16:47:36.107Z"
   },
   {
    "duration": 39,
    "start_time": "2021-08-30T16:47:47.484Z"
   },
   {
    "duration": 41,
    "start_time": "2021-08-30T16:47:56.072Z"
   },
   {
    "duration": 315,
    "start_time": "2021-08-30T16:48:22.866Z"
   },
   {
    "duration": 35,
    "start_time": "2021-08-30T16:48:35.284Z"
   },
   {
    "duration": 40,
    "start_time": "2021-08-30T16:48:38.576Z"
   },
   {
    "duration": 10,
    "start_time": "2021-08-30T16:48:43.869Z"
   },
   {
    "duration": 58,
    "start_time": "2021-08-30T16:49:09.830Z"
   },
   {
    "duration": 5,
    "start_time": "2021-08-30T16:49:26.439Z"
   },
   {
    "duration": 47,
    "start_time": "2021-08-30T16:50:18.168Z"
   },
   {
    "duration": 46,
    "start_time": "2021-08-30T16:50:30.439Z"
   },
   {
    "duration": 41,
    "start_time": "2021-08-30T16:52:48.545Z"
   },
   {
    "duration": 74,
    "start_time": "2021-08-30T16:53:18.802Z"
   },
   {
    "duration": 34,
    "start_time": "2021-08-30T16:54:18.021Z"
   },
   {
    "duration": 5,
    "start_time": "2021-08-30T16:56:53.215Z"
   },
   {
    "duration": 8,
    "start_time": "2021-08-30T16:56:57.862Z"
   },
   {
    "duration": 7921,
    "start_time": "2021-08-30T16:57:16.197Z"
   },
   {
    "duration": 14,
    "start_time": "2021-08-30T16:57:43.797Z"
   },
   {
    "duration": 9,
    "start_time": "2021-08-30T16:57:52.302Z"
   },
   {
    "duration": 16,
    "start_time": "2021-08-30T16:58:18.865Z"
   },
   {
    "duration": 10,
    "start_time": "2021-08-30T16:59:03.034Z"
   },
   {
    "duration": 5,
    "start_time": "2021-08-30T16:59:07.376Z"
   },
   {
    "duration": 10,
    "start_time": "2021-08-30T16:59:28.217Z"
   },
   {
    "duration": 6,
    "start_time": "2021-08-30T16:59:44.374Z"
   },
   {
    "duration": 93,
    "start_time": "2021-08-30T17:03:52.684Z"
   },
   {
    "duration": 10,
    "start_time": "2021-08-30T17:03:59.696Z"
   },
   {
    "duration": 7,
    "start_time": "2021-08-30T17:04:41.893Z"
   },
   {
    "duration": 279,
    "start_time": "2021-08-30T17:04:52.223Z"
   },
   {
    "duration": 6,
    "start_time": "2021-08-30T17:04:57.659Z"
   },
   {
    "duration": 7025,
    "start_time": "2021-08-30T17:05:55.817Z"
   },
   {
    "duration": 5260,
    "start_time": "2021-08-30T17:06:03.413Z"
   },
   {
    "duration": 117,
    "start_time": "2021-08-30T17:06:09.741Z"
   },
   {
    "duration": 100,
    "start_time": "2021-08-30T17:06:20.486Z"
   },
   {
    "duration": 5267,
    "start_time": "2021-08-30T17:06:23.492Z"
   },
   {
    "duration": 718,
    "start_time": "2021-08-30T17:06:59.893Z"
   },
   {
    "duration": 6,
    "start_time": "2021-08-30T17:07:56.694Z"
   },
   {
    "duration": 316,
    "start_time": "2021-08-30T17:08:02.794Z"
   },
   {
    "duration": 3,
    "start_time": "2021-08-30T17:08:09.653Z"
   },
   {
    "duration": 313,
    "start_time": "2021-08-30T17:08:15.182Z"
   },
   {
    "duration": 5,
    "start_time": "2021-08-30T17:08:22.733Z"
   },
   {
    "duration": 6,
    "start_time": "2021-08-30T17:08:41.599Z"
   },
   {
    "duration": 7,
    "start_time": "2021-08-30T17:08:44.736Z"
   },
   {
    "duration": 6,
    "start_time": "2021-08-30T17:08:56.087Z"
   },
   {
    "duration": 6,
    "start_time": "2021-08-30T17:09:18.932Z"
   },
   {
    "duration": 7,
    "start_time": "2021-08-30T17:09:32.805Z"
   },
   {
    "duration": 7,
    "start_time": "2021-08-30T17:09:38.085Z"
   },
   {
    "duration": 12,
    "start_time": "2021-08-30T17:10:20.689Z"
   },
   {
    "duration": 5,
    "start_time": "2021-08-30T17:10:29.914Z"
   },
   {
    "duration": 13,
    "start_time": "2021-08-30T17:11:17.128Z"
   },
   {
    "duration": 6,
    "start_time": "2021-08-30T17:11:30.015Z"
   },
   {
    "duration": 7,
    "start_time": "2021-08-30T17:12:41.160Z"
   },
   {
    "duration": 5,
    "start_time": "2021-08-30T17:12:59.102Z"
   },
   {
    "duration": 6,
    "start_time": "2021-08-30T17:13:03.718Z"
   },
   {
    "duration": 16,
    "start_time": "2021-08-30T17:13:16.451Z"
   },
   {
    "duration": 8,
    "start_time": "2021-08-30T17:13:25.888Z"
   },
   {
    "duration": 5,
    "start_time": "2021-08-30T17:13:55.271Z"
   },
   {
    "duration": 5,
    "start_time": "2021-08-30T17:14:25.248Z"
   },
   {
    "duration": 5,
    "start_time": "2021-08-30T17:14:28.032Z"
   },
   {
    "duration": 7,
    "start_time": "2021-08-30T17:15:14.371Z"
   },
   {
    "duration": 13,
    "start_time": "2021-08-30T17:16:14.189Z"
   },
   {
    "duration": 16,
    "start_time": "2021-08-30T17:16:18.503Z"
   },
   {
    "duration": 10,
    "start_time": "2021-08-30T17:17:41.956Z"
   },
   {
    "duration": 299,
    "start_time": "2021-08-30T17:18:01.535Z"
   },
   {
    "duration": 18,
    "start_time": "2021-08-30T17:18:48.736Z"
   },
   {
    "duration": 15,
    "start_time": "2021-08-30T17:19:02.936Z"
   },
   {
    "duration": 16,
    "start_time": "2021-08-30T17:19:21.642Z"
   },
   {
    "duration": 16,
    "start_time": "2021-08-30T17:19:40.081Z"
   },
   {
    "duration": 15,
    "start_time": "2021-08-30T17:19:50.522Z"
   },
   {
    "duration": 21,
    "start_time": "2021-08-30T17:20:10.224Z"
   },
   {
    "duration": 4,
    "start_time": "2021-08-30T17:27:33.158Z"
   },
   {
    "duration": 448,
    "start_time": "2021-08-30T17:27:33.165Z"
   },
   {
    "duration": 30,
    "start_time": "2021-08-30T17:27:33.615Z"
   },
   {
    "duration": 19,
    "start_time": "2021-08-30T17:27:33.647Z"
   },
   {
    "duration": 38,
    "start_time": "2021-08-30T17:27:33.669Z"
   },
   {
    "duration": 35,
    "start_time": "2021-08-30T17:27:33.710Z"
   },
   {
    "duration": 7,
    "start_time": "2021-08-30T17:27:33.749Z"
   },
   {
    "duration": 34,
    "start_time": "2021-08-30T17:27:33.758Z"
   },
   {
    "duration": 14,
    "start_time": "2021-08-30T17:27:33.794Z"
   },
   {
    "duration": 19,
    "start_time": "2021-08-30T17:27:33.842Z"
   },
   {
    "duration": 126,
    "start_time": "2021-08-30T17:27:33.863Z"
   },
   {
    "duration": 12,
    "start_time": "2021-08-30T17:27:33.992Z"
   },
   {
    "duration": 182,
    "start_time": "2021-08-30T17:27:34.007Z"
   },
   {
    "duration": 19,
    "start_time": "2021-08-30T17:27:34.191Z"
   },
   {
    "duration": 82,
    "start_time": "2021-08-30T17:27:34.213Z"
   },
   {
    "duration": 74,
    "start_time": "2021-08-30T17:27:34.297Z"
   },
   {
    "duration": 117,
    "start_time": "2021-08-30T17:27:34.373Z"
   },
   {
    "duration": 55,
    "start_time": "2021-08-30T17:27:34.493Z"
   },
   {
    "duration": 7,
    "start_time": "2021-08-30T17:27:34.552Z"
   },
   {
    "duration": 29,
    "start_time": "2021-08-30T17:27:34.561Z"
   },
   {
    "duration": 10,
    "start_time": "2021-08-30T17:27:34.592Z"
   },
   {
    "duration": 6842,
    "start_time": "2021-08-30T17:27:34.604Z"
   },
   {
    "duration": 26,
    "start_time": "2021-08-30T17:27:44.940Z"
   },
   {
    "duration": 16,
    "start_time": "2021-08-30T17:28:05.164Z"
   },
   {
    "duration": 18,
    "start_time": "2021-08-30T17:28:08.519Z"
   },
   {
    "duration": 280,
    "start_time": "2021-08-30T17:32:02.820Z"
   },
   {
    "duration": 3,
    "start_time": "2021-08-30T17:32:06.228Z"
   },
   {
    "duration": 433,
    "start_time": "2021-08-30T17:32:06.234Z"
   },
   {
    "duration": 29,
    "start_time": "2021-08-30T17:32:06.670Z"
   },
   {
    "duration": 18,
    "start_time": "2021-08-30T17:32:06.702Z"
   },
   {
    "duration": 27,
    "start_time": "2021-08-30T17:32:06.722Z"
   },
   {
    "duration": 15,
    "start_time": "2021-08-30T17:32:06.752Z"
   },
   {
    "duration": 5,
    "start_time": "2021-08-30T17:32:06.770Z"
   },
   {
    "duration": 32,
    "start_time": "2021-08-30T17:32:06.778Z"
   },
   {
    "duration": 33,
    "start_time": "2021-08-30T17:32:06.812Z"
   },
   {
    "duration": 33,
    "start_time": "2021-08-30T17:32:06.847Z"
   },
   {
    "duration": 81,
    "start_time": "2021-08-30T17:32:06.882Z"
   },
   {
    "duration": 8,
    "start_time": "2021-08-30T17:32:06.965Z"
   },
   {
    "duration": 101,
    "start_time": "2021-08-30T17:32:06.975Z"
   },
   {
    "duration": 15,
    "start_time": "2021-08-30T17:32:07.078Z"
   },
   {
    "duration": 51,
    "start_time": "2021-08-30T17:32:07.095Z"
   },
   {
    "duration": 47,
    "start_time": "2021-08-30T17:32:07.148Z"
   },
   {
    "duration": 91,
    "start_time": "2021-08-30T17:32:07.197Z"
   },
   {
    "duration": 57,
    "start_time": "2021-08-30T17:32:07.290Z"
   },
   {
    "duration": 4,
    "start_time": "2021-08-30T17:32:07.350Z"
   },
   {
    "duration": 23,
    "start_time": "2021-08-30T17:32:07.356Z"
   },
   {
    "duration": 9,
    "start_time": "2021-08-30T17:32:07.381Z"
   },
   {
    "duration": 5554,
    "start_time": "2021-08-30T17:32:07.392Z"
   },
   {
    "duration": 12,
    "start_time": "2021-08-30T17:32:12.949Z"
   },
   {
    "duration": 34,
    "start_time": "2021-08-30T17:32:12.963Z"
   },
   {
    "duration": 11,
    "start_time": "2021-08-30T17:32:20.217Z"
   },
   {
    "duration": 11,
    "start_time": "2021-08-30T17:33:08.971Z"
   },
   {
    "duration": 11,
    "start_time": "2021-08-30T17:34:27.693Z"
   },
   {
    "duration": 11,
    "start_time": "2021-08-30T17:35:44.472Z"
   },
   {
    "duration": 13,
    "start_time": "2021-08-30T17:36:26.858Z"
   },
   {
    "duration": 10,
    "start_time": "2021-08-30T17:38:53.014Z"
   },
   {
    "duration": 12,
    "start_time": "2021-08-30T17:41:07.134Z"
   },
   {
    "duration": 4,
    "start_time": "2021-08-30T17:41:10.700Z"
   },
   {
    "duration": 590,
    "start_time": "2021-08-30T17:41:10.707Z"
   },
   {
    "duration": 27,
    "start_time": "2021-08-30T17:41:11.300Z"
   },
   {
    "duration": 16,
    "start_time": "2021-08-30T17:41:11.329Z"
   },
   {
    "duration": 25,
    "start_time": "2021-08-30T17:41:11.347Z"
   },
   {
    "duration": 14,
    "start_time": "2021-08-30T17:41:11.373Z"
   },
   {
    "duration": 5,
    "start_time": "2021-08-30T17:41:11.390Z"
   },
   {
    "duration": 53,
    "start_time": "2021-08-30T17:41:11.397Z"
   },
   {
    "duration": 12,
    "start_time": "2021-08-30T17:41:11.452Z"
   },
   {
    "duration": 17,
    "start_time": "2021-08-30T17:41:11.466Z"
   },
   {
    "duration": 86,
    "start_time": "2021-08-30T17:41:11.485Z"
   },
   {
    "duration": 8,
    "start_time": "2021-08-30T17:41:11.572Z"
   },
   {
    "duration": 107,
    "start_time": "2021-08-30T17:41:11.582Z"
   },
   {
    "duration": 15,
    "start_time": "2021-08-30T17:41:11.691Z"
   },
   {
    "duration": 61,
    "start_time": "2021-08-30T17:41:11.708Z"
   },
   {
    "duration": 48,
    "start_time": "2021-08-30T17:41:11.772Z"
   },
   {
    "duration": 92,
    "start_time": "2021-08-30T17:41:11.822Z"
   },
   {
    "duration": 51,
    "start_time": "2021-08-30T17:41:11.917Z"
   },
   {
    "duration": 5,
    "start_time": "2021-08-30T17:41:11.972Z"
   },
   {
    "duration": 24,
    "start_time": "2021-08-30T17:41:11.980Z"
   },
   {
    "duration": 11,
    "start_time": "2021-08-30T17:41:12.006Z"
   },
   {
    "duration": 5736,
    "start_time": "2021-08-30T17:41:12.042Z"
   },
   {
    "duration": 12,
    "start_time": "2021-08-30T17:41:17.780Z"
   },
   {
    "duration": 48,
    "start_time": "2021-08-30T17:41:17.794Z"
   },
   {
    "duration": 11,
    "start_time": "2021-08-30T17:41:17.844Z"
   },
   {
    "duration": 17,
    "start_time": "2021-08-30T17:41:17.857Z"
   },
   {
    "duration": 12,
    "start_time": "2021-08-30T17:41:17.876Z"
   },
   {
    "duration": 10,
    "start_time": "2021-08-30T17:41:25.655Z"
   },
   {
    "duration": 19,
    "start_time": "2021-08-30T17:41:37.465Z"
   },
   {
    "duration": 97,
    "start_time": "2021-08-30T17:43:15.477Z"
   },
   {
    "duration": 38,
    "start_time": "2021-08-30T17:43:20.879Z"
   },
   {
    "duration": 332,
    "start_time": "2021-08-30T17:44:22.598Z"
   },
   {
    "duration": 1549,
    "start_time": "2021-08-30T17:44:53.431Z"
   },
   {
    "duration": 589,
    "start_time": "2021-08-30T17:44:54.982Z"
   },
   {
    "duration": 51,
    "start_time": "2021-08-30T17:44:55.574Z"
   },
   {
    "duration": 23,
    "start_time": "2021-08-30T17:44:55.627Z"
   },
   {
    "duration": 39,
    "start_time": "2021-08-30T17:44:55.652Z"
   },
   {
    "duration": 18,
    "start_time": "2021-08-30T17:44:55.693Z"
   },
   {
    "duration": 32,
    "start_time": "2021-08-30T17:44:55.713Z"
   },
   {
    "duration": 33,
    "start_time": "2021-08-30T17:44:55.748Z"
   },
   {
    "duration": 16,
    "start_time": "2021-08-30T17:44:55.784Z"
   },
   {
    "duration": 50,
    "start_time": "2021-08-30T17:44:55.802Z"
   },
   {
    "duration": 88,
    "start_time": "2021-08-30T17:44:55.854Z"
   },
   {
    "duration": 11,
    "start_time": "2021-08-30T17:44:55.944Z"
   },
   {
    "duration": 109,
    "start_time": "2021-08-30T17:44:55.957Z"
   },
   {
    "duration": 16,
    "start_time": "2021-08-30T17:44:56.067Z"
   },
   {
    "duration": 67,
    "start_time": "2021-08-30T17:44:56.085Z"
   },
   {
    "duration": 58,
    "start_time": "2021-08-30T17:44:56.153Z"
   },
   {
    "duration": 97,
    "start_time": "2021-08-30T17:44:56.213Z"
   },
   {
    "duration": 50,
    "start_time": "2021-08-30T17:44:56.312Z"
   },
   {
    "duration": 4,
    "start_time": "2021-08-30T17:44:56.364Z"
   },
   {
    "duration": 31,
    "start_time": "2021-08-30T17:44:56.369Z"
   },
   {
    "duration": 9,
    "start_time": "2021-08-30T17:44:56.402Z"
   },
   {
    "duration": 5523,
    "start_time": "2021-08-30T17:44:56.413Z"
   },
   {
    "duration": 15,
    "start_time": "2021-08-30T17:45:01.939Z"
   },
   {
    "duration": 15,
    "start_time": "2021-08-30T17:45:01.957Z"
   },
   {
    "duration": 35,
    "start_time": "2021-08-30T17:45:01.975Z"
   },
   {
    "duration": 43,
    "start_time": "2021-08-30T17:45:02.012Z"
   },
   {
    "duration": 17,
    "start_time": "2021-08-30T17:45:02.058Z"
   },
   {
    "duration": 24,
    "start_time": "2021-08-30T17:45:02.078Z"
   },
   {
    "duration": 14,
    "start_time": "2021-08-30T17:45:02.104Z"
   },
   {
    "duration": 26,
    "start_time": "2021-08-30T17:45:02.120Z"
   },
   {
    "duration": 491,
    "start_time": "2021-08-30T17:45:02.149Z"
   },
   {
    "duration": 967,
    "start_time": "2021-08-30T17:45:02.642Z"
   },
   {
    "duration": 984,
    "start_time": "2021-08-30T17:45:03.611Z"
   },
   {
    "duration": 18,
    "start_time": "2021-08-30T17:45:04.598Z"
   },
   {
    "duration": 1165,
    "start_time": "2021-08-30T17:45:04.618Z"
   },
   {
    "duration": 816,
    "start_time": "2021-08-30T17:45:04.969Z"
   },
   {
    "duration": 807,
    "start_time": "2021-08-30T17:45:04.980Z"
   },
   {
    "duration": 801,
    "start_time": "2021-08-30T17:45:04.988Z"
   },
   {
    "duration": 800,
    "start_time": "2021-08-30T17:45:04.991Z"
   },
   {
    "duration": 797,
    "start_time": "2021-08-30T17:45:04.995Z"
   },
   {
    "duration": 794,
    "start_time": "2021-08-30T17:45:05.000Z"
   },
   {
    "duration": 14,
    "start_time": "2021-08-30T17:46:44.925Z"
   },
   {
    "duration": 21,
    "start_time": "2021-08-30T17:47:05.545Z"
   },
   {
    "duration": 3,
    "start_time": "2021-08-30T17:48:18.690Z"
   },
   {
    "duration": 516,
    "start_time": "2021-08-30T17:48:18.696Z"
   },
   {
    "duration": 29,
    "start_time": "2021-08-30T17:48:19.214Z"
   },
   {
    "duration": 20,
    "start_time": "2021-08-30T17:48:19.246Z"
   },
   {
    "duration": 33,
    "start_time": "2021-08-30T17:48:19.268Z"
   },
   {
    "duration": 39,
    "start_time": "2021-08-30T17:48:19.303Z"
   },
   {
    "duration": 5,
    "start_time": "2021-08-30T17:48:19.344Z"
   },
   {
    "duration": 26,
    "start_time": "2021-08-30T17:48:19.352Z"
   },
   {
    "duration": 12,
    "start_time": "2021-08-30T17:48:19.380Z"
   },
   {
    "duration": 18,
    "start_time": "2021-08-30T17:48:19.394Z"
   },
   {
    "duration": 91,
    "start_time": "2021-08-30T17:48:19.414Z"
   },
   {
    "duration": 10,
    "start_time": "2021-08-30T17:48:19.507Z"
   },
   {
    "duration": 123,
    "start_time": "2021-08-30T17:48:19.519Z"
   },
   {
    "duration": 16,
    "start_time": "2021-08-30T17:48:19.644Z"
   },
   {
    "duration": 61,
    "start_time": "2021-08-30T17:48:19.663Z"
   },
   {
    "duration": 67,
    "start_time": "2021-08-30T17:48:19.742Z"
   },
   {
    "duration": 280,
    "start_time": "2021-08-30T17:48:19.812Z"
   },
   {
    "duration": 120,
    "start_time": "2021-08-30T17:48:20.094Z"
   },
   {
    "duration": 8,
    "start_time": "2021-08-30T17:48:20.216Z"
   },
   {
    "duration": 27,
    "start_time": "2021-08-30T17:48:20.227Z"
   },
   {
    "duration": 12,
    "start_time": "2021-08-30T17:48:20.256Z"
   },
   {
    "duration": 5441,
    "start_time": "2021-08-30T17:48:20.270Z"
   },
   {
    "duration": 12,
    "start_time": "2021-08-30T17:48:25.715Z"
   },
   {
    "duration": 49,
    "start_time": "2021-08-30T17:48:25.729Z"
   },
   {
    "duration": 22,
    "start_time": "2021-08-30T17:48:25.780Z"
   },
   {
    "duration": 17,
    "start_time": "2021-08-30T17:48:25.804Z"
   },
   {
    "duration": 30,
    "start_time": "2021-08-30T17:48:25.823Z"
   },
   {
    "duration": 21,
    "start_time": "2021-08-30T17:48:25.855Z"
   },
   {
    "duration": 14,
    "start_time": "2021-08-30T17:48:25.878Z"
   },
   {
    "duration": 12,
    "start_time": "2021-08-30T17:48:25.894Z"
   },
   {
    "duration": 13,
    "start_time": "2021-08-30T17:49:19.572Z"
   },
   {
    "duration": 87,
    "start_time": "2021-08-30T17:49:32.746Z"
   },
   {
    "duration": 13,
    "start_time": "2021-08-30T17:49:47.016Z"
   },
   {
    "duration": 14,
    "start_time": "2021-08-30T17:50:02.118Z"
   },
   {
    "duration": 17,
    "start_time": "2021-08-30T17:50:05.837Z"
   },
   {
    "duration": 10,
    "start_time": "2021-08-30T17:50:31.465Z"
   },
   {
    "duration": 10,
    "start_time": "2021-08-30T17:50:36.494Z"
   },
   {
    "duration": 38,
    "start_time": "2021-08-30T17:51:03.997Z"
   },
   {
    "duration": 11,
    "start_time": "2021-08-30T17:51:08.936Z"
   },
   {
    "duration": 37,
    "start_time": "2021-08-30T17:52:23.537Z"
   },
   {
    "duration": 12,
    "start_time": "2021-08-30T17:52:25.127Z"
   },
   {
    "duration": 36,
    "start_time": "2021-08-30T17:52:41.522Z"
   },
   {
    "duration": 11,
    "start_time": "2021-08-30T17:52:42.907Z"
   },
   {
    "duration": 10,
    "start_time": "2021-08-30T17:52:44.869Z"
   },
   {
    "duration": 32,
    "start_time": "2021-08-30T17:56:22.285Z"
   },
   {
    "duration": 9,
    "start_time": "2021-08-30T17:56:22.983Z"
   },
   {
    "duration": 49,
    "start_time": "2021-08-30T17:57:00.581Z"
   },
   {
    "duration": 12,
    "start_time": "2021-08-30T17:57:01.253Z"
   },
   {
    "duration": 522,
    "start_time": "2021-08-30T17:58:59.931Z"
   },
   {
    "duration": 472,
    "start_time": "2021-08-30T17:59:08.751Z"
   },
   {
    "duration": 21,
    "start_time": "2021-08-30T18:08:18.492Z"
   },
   {
    "duration": 7,
    "start_time": "2021-08-30T18:08:29.895Z"
   },
   {
    "duration": 7,
    "start_time": "2021-08-30T18:08:55.989Z"
   },
   {
    "duration": 7,
    "start_time": "2021-08-30T18:10:17.773Z"
   },
   {
    "duration": 8,
    "start_time": "2021-08-30T18:10:39.179Z"
   },
   {
    "duration": 102,
    "start_time": "2021-08-30T18:11:16.217Z"
   },
   {
    "duration": 116,
    "start_time": "2021-08-30T18:11:20.459Z"
   },
   {
    "duration": 12,
    "start_time": "2021-08-30T18:11:30.052Z"
   },
   {
    "duration": 92,
    "start_time": "2021-08-30T18:11:33.817Z"
   },
   {
    "duration": 12,
    "start_time": "2021-08-30T18:11:37.498Z"
   },
   {
    "duration": 11,
    "start_time": "2021-08-30T18:11:43.093Z"
   },
   {
    "duration": 11,
    "start_time": "2021-08-30T18:11:46.173Z"
   },
   {
    "duration": 19,
    "start_time": "2021-08-30T18:12:42.647Z"
   },
   {
    "duration": 19,
    "start_time": "2021-08-30T18:12:58.737Z"
   },
   {
    "duration": 18,
    "start_time": "2021-08-30T18:14:15.169Z"
   },
   {
    "duration": 17,
    "start_time": "2021-08-30T18:14:24.886Z"
   },
   {
    "duration": 561,
    "start_time": "2021-08-30T18:18:47.740Z"
   },
   {
    "duration": 561,
    "start_time": "2021-08-30T18:18:58.192Z"
   },
   {
    "duration": 686,
    "start_time": "2021-08-30T18:19:32.858Z"
   },
   {
    "duration": 574,
    "start_time": "2021-08-30T18:19:52.515Z"
   },
   {
    "duration": 559,
    "start_time": "2021-08-30T18:20:47.476Z"
   },
   {
    "duration": 770,
    "start_time": "2021-08-30T18:21:13.428Z"
   },
   {
    "duration": 699,
    "start_time": "2021-08-30T18:21:25.259Z"
   },
   {
    "duration": 3,
    "start_time": "2021-08-30T18:31:16.122Z"
   },
   {
    "duration": 484,
    "start_time": "2021-08-30T18:31:16.127Z"
   },
   {
    "duration": 27,
    "start_time": "2021-08-30T18:31:16.613Z"
   },
   {
    "duration": 16,
    "start_time": "2021-08-30T18:31:16.642Z"
   },
   {
    "duration": 25,
    "start_time": "2021-08-30T18:31:16.659Z"
   },
   {
    "duration": 14,
    "start_time": "2021-08-30T18:31:16.686Z"
   },
   {
    "duration": 5,
    "start_time": "2021-08-30T18:31:16.702Z"
   },
   {
    "duration": 20,
    "start_time": "2021-08-30T18:31:16.742Z"
   },
   {
    "duration": 12,
    "start_time": "2021-08-30T18:31:16.764Z"
   },
   {
    "duration": 16,
    "start_time": "2021-08-30T18:31:16.778Z"
   },
   {
    "duration": 98,
    "start_time": "2021-08-30T18:31:16.795Z"
   },
   {
    "duration": 8,
    "start_time": "2021-08-30T18:31:16.895Z"
   },
   {
    "duration": 96,
    "start_time": "2021-08-30T18:31:16.905Z"
   },
   {
    "duration": 14,
    "start_time": "2021-08-30T18:31:17.003Z"
   },
   {
    "duration": 56,
    "start_time": "2021-08-30T18:31:17.019Z"
   },
   {
    "duration": 47,
    "start_time": "2021-08-30T18:31:17.077Z"
   },
   {
    "duration": 88,
    "start_time": "2021-08-30T18:31:17.125Z"
   },
   {
    "duration": 48,
    "start_time": "2021-08-30T18:31:17.215Z"
   },
   {
    "duration": 5,
    "start_time": "2021-08-30T18:31:17.266Z"
   },
   {
    "duration": 24,
    "start_time": "2021-08-30T18:31:17.273Z"
   },
   {
    "duration": 9,
    "start_time": "2021-08-30T18:31:17.299Z"
   },
   {
    "duration": 5780,
    "start_time": "2021-08-30T18:31:17.310Z"
   },
   {
    "duration": 12,
    "start_time": "2021-08-30T18:31:23.092Z"
   },
   {
    "duration": 57,
    "start_time": "2021-08-30T18:31:23.106Z"
   },
   {
    "duration": 10,
    "start_time": "2021-08-30T18:31:23.165Z"
   },
   {
    "duration": 13,
    "start_time": "2021-08-30T18:31:23.177Z"
   },
   {
    "duration": 28,
    "start_time": "2021-08-30T18:31:23.192Z"
   },
   {
    "duration": 21,
    "start_time": "2021-08-30T18:31:23.222Z"
   },
   {
    "duration": 48,
    "start_time": "2021-08-30T18:31:23.245Z"
   },
   {
    "duration": 8,
    "start_time": "2021-08-30T18:31:23.295Z"
   },
   {
    "duration": 472,
    "start_time": "2021-08-30T18:31:23.304Z"
   },
   {
    "duration": 17,
    "start_time": "2021-08-30T18:31:23.778Z"
   },
   {
    "duration": 645,
    "start_time": "2021-08-30T18:31:23.796Z"
   },
   {
    "duration": 636,
    "start_time": "2021-08-30T18:31:24.443Z"
   },
   {
    "duration": 769,
    "start_time": "2021-08-30T18:31:25.081Z"
   },
   {
    "duration": 15,
    "start_time": "2021-08-30T18:31:25.852Z"
   },
   {
    "duration": 480,
    "start_time": "2021-08-30T18:31:39.856Z"
   },
   {
    "duration": 590,
    "start_time": "2021-08-30T18:31:52.060Z"
   },
   {
    "duration": 454,
    "start_time": "2021-08-30T18:32:10.579Z"
   },
   {
    "duration": 467,
    "start_time": "2021-08-30T18:33:45.535Z"
   },
   {
    "duration": 155,
    "start_time": "2021-08-30T18:35:49.319Z"
   },
   {
    "duration": 10,
    "start_time": "2021-08-30T18:41:58.131Z"
   },
   {
    "duration": 12,
    "start_time": "2021-08-30T18:41:59.543Z"
   },
   {
    "duration": 493,
    "start_time": "2021-08-30T18:42:08.369Z"
   },
   {
    "duration": 536,
    "start_time": "2021-08-30T18:42:30.524Z"
   },
   {
    "duration": 598,
    "start_time": "2021-08-30T18:42:36.930Z"
   },
   {
    "duration": 540,
    "start_time": "2021-08-30T18:42:44.985Z"
   },
   {
    "duration": 5,
    "start_time": "2021-08-30T18:43:04.655Z"
   },
   {
    "duration": 167,
    "start_time": "2021-08-30T18:43:06.077Z"
   },
   {
    "duration": 7,
    "start_time": "2021-08-30T18:43:36.930Z"
   },
   {
    "duration": 19,
    "start_time": "2021-08-30T18:43:51.012Z"
   },
   {
    "duration": 8,
    "start_time": "2021-08-30T18:44:06.839Z"
   },
   {
    "duration": 7,
    "start_time": "2021-08-30T18:44:16.008Z"
   },
   {
    "duration": 7,
    "start_time": "2021-08-30T18:44:45.706Z"
   },
   {
    "duration": 5,
    "start_time": "2021-08-30T18:53:21.566Z"
   },
   {
    "duration": 4,
    "start_time": "2021-08-30T18:53:30.029Z"
   },
   {
    "duration": 3,
    "start_time": "2021-08-30T18:56:44.849Z"
   },
   {
    "duration": 420,
    "start_time": "2021-08-30T18:56:44.854Z"
   },
   {
    "duration": 29,
    "start_time": "2021-08-30T18:56:45.277Z"
   },
   {
    "duration": 17,
    "start_time": "2021-08-30T18:56:45.308Z"
   },
   {
    "duration": 26,
    "start_time": "2021-08-30T18:56:45.327Z"
   },
   {
    "duration": 23,
    "start_time": "2021-08-30T18:56:45.355Z"
   },
   {
    "duration": 6,
    "start_time": "2021-08-30T18:56:45.381Z"
   },
   {
    "duration": 54,
    "start_time": "2021-08-30T18:56:45.389Z"
   },
   {
    "duration": 12,
    "start_time": "2021-08-30T18:56:45.445Z"
   },
   {
    "duration": 19,
    "start_time": "2021-08-30T18:56:45.458Z"
   },
   {
    "duration": 85,
    "start_time": "2021-08-30T18:56:45.479Z"
   },
   {
    "duration": 9,
    "start_time": "2021-08-30T18:56:45.566Z"
   },
   {
    "duration": 99,
    "start_time": "2021-08-30T18:56:45.577Z"
   },
   {
    "duration": 14,
    "start_time": "2021-08-30T18:56:45.678Z"
   },
   {
    "duration": 56,
    "start_time": "2021-08-30T18:56:45.694Z"
   },
   {
    "duration": 46,
    "start_time": "2021-08-30T18:56:45.752Z"
   },
   {
    "duration": 95,
    "start_time": "2021-08-30T18:56:45.800Z"
   },
   {
    "duration": 45,
    "start_time": "2021-08-30T18:56:45.897Z"
   },
   {
    "duration": 5,
    "start_time": "2021-08-30T18:56:45.945Z"
   },
   {
    "duration": 23,
    "start_time": "2021-08-30T18:56:45.953Z"
   },
   {
    "duration": 9,
    "start_time": "2021-08-30T18:56:45.978Z"
   },
   {
    "duration": 5510,
    "start_time": "2021-08-30T18:56:45.989Z"
   },
   {
    "duration": 13,
    "start_time": "2021-08-30T18:56:51.501Z"
   },
   {
    "duration": 50,
    "start_time": "2021-08-30T18:56:51.516Z"
   },
   {
    "duration": 9,
    "start_time": "2021-08-30T18:56:51.568Z"
   },
   {
    "duration": 20,
    "start_time": "2021-08-30T18:56:51.579Z"
   },
   {
    "duration": 26,
    "start_time": "2021-08-30T18:56:51.601Z"
   },
   {
    "duration": 21,
    "start_time": "2021-08-30T18:56:51.629Z"
   },
   {
    "duration": 33,
    "start_time": "2021-08-30T18:56:51.652Z"
   },
   {
    "duration": 8,
    "start_time": "2021-08-30T18:56:51.687Z"
   },
   {
    "duration": 475,
    "start_time": "2021-08-30T18:56:51.697Z"
   },
   {
    "duration": 17,
    "start_time": "2021-08-30T18:56:52.174Z"
   },
   {
    "duration": 574,
    "start_time": "2021-08-30T18:56:52.193Z"
   },
   {
    "duration": 708,
    "start_time": "2021-08-30T18:56:52.769Z"
   },
   {
    "duration": 694,
    "start_time": "2021-08-30T18:56:53.479Z"
   },
   {
    "duration": 13,
    "start_time": "2021-08-30T18:56:54.175Z"
   },
   {
    "duration": 527,
    "start_time": "2021-08-30T18:56:54.190Z"
   },
   {
    "duration": 288,
    "start_time": "2021-08-30T18:56:54.719Z"
   },
   {
    "duration": 12,
    "start_time": "2021-08-30T18:56:55.009Z"
   },
   {
    "duration": 27,
    "start_time": "2021-08-30T18:56:55.023Z"
   },
   {
    "duration": 619,
    "start_time": "2021-08-30T18:56:55.052Z"
   },
   {
    "duration": 6,
    "start_time": "2021-08-30T18:56:55.674Z"
   },
   {
    "duration": 199,
    "start_time": "2021-08-30T18:56:55.682Z"
   },
   {
    "duration": 6,
    "start_time": "2021-08-30T18:56:55.883Z"
   },
   {
    "duration": 10,
    "start_time": "2021-08-30T18:56:55.891Z"
   },
   {
    "duration": 16,
    "start_time": "2021-08-30T19:04:46.844Z"
   },
   {
    "duration": 14,
    "start_time": "2021-08-30T19:04:51.077Z"
   },
   {
    "duration": 1498,
    "start_time": "2021-08-31T10:18:46.541Z"
   },
   {
    "duration": 499,
    "start_time": "2021-08-31T10:18:48.042Z"
   },
   {
    "duration": 39,
    "start_time": "2021-08-31T10:18:48.544Z"
   },
   {
    "duration": 22,
    "start_time": "2021-08-31T10:18:48.585Z"
   },
   {
    "duration": 32,
    "start_time": "2021-08-31T10:18:48.609Z"
   },
   {
    "duration": 50,
    "start_time": "2021-08-31T10:18:48.643Z"
   },
   {
    "duration": 7,
    "start_time": "2021-08-31T10:18:48.695Z"
   },
   {
    "duration": 26,
    "start_time": "2021-08-31T10:18:48.705Z"
   },
   {
    "duration": 50,
    "start_time": "2021-08-31T10:18:48.735Z"
   },
   {
    "duration": 23,
    "start_time": "2021-08-31T10:18:48.789Z"
   },
   {
    "duration": 138,
    "start_time": "2021-08-31T10:18:48.816Z"
   },
   {
    "duration": 13,
    "start_time": "2021-08-31T10:18:48.956Z"
   },
   {
    "duration": 140,
    "start_time": "2021-08-31T10:18:48.972Z"
   },
   {
    "duration": 19,
    "start_time": "2021-08-31T10:18:49.114Z"
   },
   {
    "duration": 82,
    "start_time": "2021-08-31T10:18:49.135Z"
   },
   {
    "duration": 70,
    "start_time": "2021-08-31T10:18:49.219Z"
   },
   {
    "duration": 112,
    "start_time": "2021-08-31T10:18:49.292Z"
   },
   {
    "duration": 52,
    "start_time": "2021-08-31T10:18:49.406Z"
   },
   {
    "duration": 23,
    "start_time": "2021-08-31T10:18:49.460Z"
   },
   {
    "duration": 28,
    "start_time": "2021-08-31T10:18:49.485Z"
   },
   {
    "duration": 17,
    "start_time": "2021-08-31T10:18:49.515Z"
   },
   {
    "duration": 16,
    "start_time": "2021-08-31T10:18:49.535Z"
   },
   {
    "duration": 8949,
    "start_time": "2021-08-31T10:18:49.584Z"
   },
   {
    "duration": 21,
    "start_time": "2021-08-31T10:18:58.536Z"
   },
   {
    "duration": 60,
    "start_time": "2021-08-31T10:18:58.560Z"
   },
   {
    "duration": 12,
    "start_time": "2021-08-31T10:18:58.622Z"
   },
   {
    "duration": 22,
    "start_time": "2021-08-31T10:18:58.636Z"
   },
   {
    "duration": 27,
    "start_time": "2021-08-31T10:18:58.660Z"
   },
   {
    "duration": 16,
    "start_time": "2021-08-31T10:18:58.690Z"
   },
   {
    "duration": 44,
    "start_time": "2021-08-31T10:18:58.709Z"
   },
   {
    "duration": 35,
    "start_time": "2021-08-31T10:18:58.756Z"
   },
   {
    "duration": 812,
    "start_time": "2021-08-31T10:18:58.794Z"
   },
   {
    "duration": 23,
    "start_time": "2021-08-31T10:18:59.609Z"
   },
   {
    "duration": 896,
    "start_time": "2021-08-31T10:18:59.634Z"
   },
   {
    "duration": 921,
    "start_time": "2021-08-31T10:19:00.533Z"
   },
   {
    "duration": 1071,
    "start_time": "2021-08-31T10:19:01.457Z"
   },
   {
    "duration": 19,
    "start_time": "2021-08-31T10:19:02.531Z"
   },
   {
    "duration": 721,
    "start_time": "2021-08-31T10:19:02.553Z"
   },
   {
    "duration": 242,
    "start_time": "2021-08-31T10:19:03.277Z"
   },
   {
    "duration": 14,
    "start_time": "2021-08-31T10:19:03.522Z"
   },
   {
    "duration": 18,
    "start_time": "2021-08-31T10:19:03.538Z"
   },
   {
    "duration": 802,
    "start_time": "2021-08-31T10:19:03.583Z"
   },
   {
    "duration": 7,
    "start_time": "2021-08-31T10:19:04.388Z"
   },
   {
    "duration": 260,
    "start_time": "2021-08-31T10:19:04.397Z"
   },
   {
    "duration": 8,
    "start_time": "2021-08-31T10:19:04.660Z"
   },
   {
    "duration": 15,
    "start_time": "2021-08-31T10:19:04.671Z"
   }
  ],
  "celltoolbar": "Необработанный формат ячейки",
  "kernelspec": {
   "display_name": "Python 3",
   "language": "python",
   "name": "python3"
  },
  "language_info": {
   "codemirror_mode": {
    "name": "ipython",
    "version": 3
   },
   "file_extension": ".py",
   "mimetype": "text/x-python",
   "name": "python",
   "nbconvert_exporter": "python",
   "pygments_lexer": "ipython3",
   "version": "3.8.8"
  },
  "toc": {
   "base_numbering": 1,
   "nav_menu": {},
   "number_sections": true,
   "sideBar": true,
   "skip_h1_title": true,
   "title_cell": "Содержание",
   "title_sidebar": "Contents",
   "toc_cell": true,
   "toc_position": {},
   "toc_section_display": true,
   "toc_window_display": false
  }
 },
 "nbformat": 4,
 "nbformat_minor": 2
}
