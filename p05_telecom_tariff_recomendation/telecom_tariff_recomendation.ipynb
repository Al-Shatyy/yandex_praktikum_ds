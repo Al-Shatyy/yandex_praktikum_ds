{
 "cells": [
  {
   "cell_type": "markdown",
   "metadata": {
    "toc": true
   },
   "source": [
    "<h1>Содержание<span class=\"tocSkip\"></span></h1>\n",
    "<div class=\"toc\"><ul class=\"toc-item\"><li><span><a href=\"#Загрузка-данных\" data-toc-modified-id=\"Загрузка-данных-1\"><span class=\"toc-item-num\">1&nbsp;&nbsp;</span>Загрузка данных</a></span></li><li><span><a href=\"#Предобработка-данных\" data-toc-modified-id=\"Предобработка-данных-2\"><span class=\"toc-item-num\">2&nbsp;&nbsp;</span>Предобработка данных</a></span></li><li><span><a href=\"#Исследуйте-модели\" data-toc-modified-id=\"Исследуйте-модели-3\"><span class=\"toc-item-num\">3&nbsp;&nbsp;</span>Исследуйте модели</a></span></li><li><span><a href=\"#Проверка-модели\" data-toc-modified-id=\"Проверка-модели-4\"><span class=\"toc-item-num\">4&nbsp;&nbsp;</span>Проверка модели</a></span></li><li><span><a href=\"#(бонус)-Проверьте-модели-на-адекватность\" data-toc-modified-id=\"(бонус)-Проверьте-модели-на-адекватность-5\"><span class=\"toc-item-num\">5&nbsp;&nbsp;</span>(бонус) Проверьте модели на адекватность</a></span></li></ul></div>"
   ]
  },
  {
   "cell_type": "markdown",
   "metadata": {},
   "source": [
    "# Рекомендация тарифов"
   ]
  },
  {
   "cell_type": "markdown",
   "metadata": {},
   "source": [
    "**Задание**\n",
    "\n",
    ">Оператор мобильной связи «Мегалайн» выяснил: многие клиенты пользуются архивными тарифами. Они хотят **построить систему, способную проанализировать поведение клиентов и предложить пользователям новый тариф**: «Смарт» или «Ультра».\n",
    "<br><br>\n",
    "В вашем распоряжении данные о поведении клиентов, которые уже перешли на эти тарифы ([из проекта «Статистический анализ данных»](https://github.com/chester519/yandex_praktikum_ds/tree/main/p03_determining_perspective_tariff_for_telecom_company \"Github - Chester519\"). Нужно построить модель для задачи классификации, которая выберет подходящий тариф. Предобработка данных не понадобится — вы её уже сделали.\n",
    "<br><br>\n",
    "Постройте модель с максимально большим значением accuracy. Чтобы сдать проект успешно, нужно довести долю правильных ответов по крайней мере до 0.75. Проверьте accuracy на тестовой выборке самостоятельно.\n",
    "\n",
    "**Описание данных**\n",
    "\n",
    "Набор данных хранится в `datasets/users_behavior.csv`. Каждый объект в наборе данных — это информация о поведении одного пользователя за месяц.\n",
    "\n",
    "| столбец   | описание\n",
    "| --------- | :--------\n",
    "| calls     | количество звонков\n",
    "| minutes   | суммарная длительность звонков в минутах\n",
    "| messages  | количество sms-сообщени\n",
    "| mb_used   | израсходованный интернет-трафик в Мб\n",
    "| is_ultra  | каким тарифом пользовался в течение месяца<br>«Ультра» — 1, «Смарт» — 0\n",
    "\n",
    "**Решение**\n",
    "\n",
    "Решение задачи заключается в подборе лучшей модели машинного обучения для данного набора данных. Разобьем задачу на три части:\n",
    "\n",
    "1. Загрузка и предобработка данных\n",
    "\n",
    "Загрузим данные из CSV файла. Проверим имеются ли пропуски данных, а также какой тип у данных. Модели машинного обучения работают с числовыми данными. Также проведем анализ данных (признаков) на коррелируемость, иначе говоря на взаимное влияние. Признаки слишком сильно зависящие друг от друга не несут для модели новой информации, увеличивают время работы, а также могут привести к переобучению модели.\n",
    "\n",
    "В конце этого этапа раздеим выборку на обучающую и тестовую. На первой выборке будем обучать набор моделей, а на второй только сделаем предсказания. Таким образом имитируем реальный процесс, когда модели получает данные, которые раньше не видела.\n",
    "<hr>\n",
    "\n",
    "2. Исследование моделей\n",
    "\n",
    "На этом этапе используем ряд различных моделей и выберем из них лучшую. Задача модели максимально точно описать поведение объектов из набора данных, чтобы предсказать поведение других объектов. На предсказательную силу оказывают влияние следующие факторы:\n",
    "- тип модели;\n",
    "- гиперпараметры обучения;\n",
    "- характер входных данных.\n",
    "\n",
    "Меняя те или иные факторы, мы должны контролировать качество модели. Для этого используем метрику accuracy. Вариант модели с самой высокой метрикой примем как лучший.\n",
    "<hr>\n",
    "\n",
    "3. Проверка выбранной модели.\n",
    "\n",
    "Используя лучшую модели получим предсказания на тестовой выборке и измерим качество этих предсказаний. Это значение и будет финальной оценкой качества."
   ]
  },
  {
   "cell_type": "markdown",
   "metadata": {},
   "source": [
    "## Загрузка данных"
   ]
  },
  {
   "cell_type": "markdown",
   "metadata": {},
   "source": [
    "Импортируем необходимые библиотеки."
   ]
  },
  {
   "cell_type": "code",
   "execution_count": 1,
   "metadata": {},
   "outputs": [],
   "source": [
    "import warnings\n",
    "import pandas as pd\n",
    "import numpy as np\n",
    "from sklearn.model_selection import train_test_split, GridSearchCV\n",
    "from sklearn.metrics import accuracy_score\n",
    "\n",
    "from sklearn.tree import DecisionTreeClassifier\n",
    "from sklearn.ensemble import RandomForestClassifier\n",
    "from sklearn.linear_model import LogisticRegression"
   ]
  },
  {
   "cell_type": "markdown",
   "metadata": {},
   "source": [
    "Сохраним данные из файла CSV в переменную data и посмотрим на общую информацию о датасете."
   ]
  },
  {
   "cell_type": "code",
   "execution_count": 2,
   "metadata": {},
   "outputs": [],
   "source": [
    "data = pd.read_csv('datasets/users_behavior.csv')"
   ]
  },
  {
   "cell_type": "code",
   "execution_count": 3,
   "metadata": {},
   "outputs": [
    {
     "name": "stdout",
     "output_type": "stream",
     "text": [
      "<class 'pandas.core.frame.DataFrame'>\n",
      "RangeIndex: 3214 entries, 0 to 3213\n",
      "Data columns (total 5 columns):\n",
      " #   Column    Non-Null Count  Dtype  \n",
      "---  ------    --------------  -----  \n",
      " 0   calls     3214 non-null   float64\n",
      " 1   minutes   3214 non-null   float64\n",
      " 2   messages  3214 non-null   float64\n",
      " 3   mb_used   3214 non-null   float64\n",
      " 4   is_ultra  3214 non-null   int64  \n",
      "dtypes: float64(4), int64(1)\n",
      "memory usage: 125.7 KB\n"
     ]
    },
    {
     "data": {
      "text/html": [
       "<div>\n",
       "<style scoped>\n",
       "    .dataframe tbody tr th:only-of-type {\n",
       "        vertical-align: middle;\n",
       "    }\n",
       "\n",
       "    .dataframe tbody tr th {\n",
       "        vertical-align: top;\n",
       "    }\n",
       "\n",
       "    .dataframe thead th {\n",
       "        text-align: right;\n",
       "    }\n",
       "</style>\n",
       "<table border=\"1\" class=\"dataframe\">\n",
       "  <thead>\n",
       "    <tr style=\"text-align: right;\">\n",
       "      <th></th>\n",
       "      <th>calls</th>\n",
       "      <th>minutes</th>\n",
       "      <th>messages</th>\n",
       "      <th>mb_used</th>\n",
       "      <th>is_ultra</th>\n",
       "    </tr>\n",
       "  </thead>\n",
       "  <tbody>\n",
       "    <tr>\n",
       "      <th>0</th>\n",
       "      <td>40.0</td>\n",
       "      <td>311.90</td>\n",
       "      <td>83.0</td>\n",
       "      <td>19915.42</td>\n",
       "      <td>0</td>\n",
       "    </tr>\n",
       "    <tr>\n",
       "      <th>1</th>\n",
       "      <td>85.0</td>\n",
       "      <td>516.75</td>\n",
       "      <td>56.0</td>\n",
       "      <td>22696.96</td>\n",
       "      <td>0</td>\n",
       "    </tr>\n",
       "    <tr>\n",
       "      <th>2</th>\n",
       "      <td>77.0</td>\n",
       "      <td>467.66</td>\n",
       "      <td>86.0</td>\n",
       "      <td>21060.45</td>\n",
       "      <td>0</td>\n",
       "    </tr>\n",
       "    <tr>\n",
       "      <th>3</th>\n",
       "      <td>106.0</td>\n",
       "      <td>745.53</td>\n",
       "      <td>81.0</td>\n",
       "      <td>8437.39</td>\n",
       "      <td>1</td>\n",
       "    </tr>\n",
       "    <tr>\n",
       "      <th>4</th>\n",
       "      <td>66.0</td>\n",
       "      <td>418.74</td>\n",
       "      <td>1.0</td>\n",
       "      <td>14502.75</td>\n",
       "      <td>0</td>\n",
       "    </tr>\n",
       "  </tbody>\n",
       "</table>\n",
       "</div>"
      ],
      "text/plain": [
       "   calls  minutes  messages   mb_used  is_ultra\n",
       "0   40.0   311.90      83.0  19915.42         0\n",
       "1   85.0   516.75      56.0  22696.96         0\n",
       "2   77.0   467.66      86.0  21060.45         0\n",
       "3  106.0   745.53      81.0   8437.39         1\n",
       "4   66.0   418.74       1.0  14502.75         0"
      ]
     },
     "execution_count": 3,
     "metadata": {},
     "output_type": "execute_result"
    }
   ],
   "source": [
    "data.info()\n",
    "data.head()"
   ]
  },
  {
   "cell_type": "markdown",
   "metadata": {},
   "source": [
    "В данных нет пропусков, а типы столбцов приведены к численным. Данные столбца *is_ultra* представленны целочисленным типом. Посмотрим на распределение значений *is_ultra*."
   ]
  },
  {
   "cell_type": "code",
   "execution_count": 4,
   "metadata": {},
   "outputs": [
    {
     "data": {
      "text/plain": [
       "0    0.694\n",
       "1    0.306\n",
       "Name: is_ultra, dtype: float64"
      ]
     },
     "execution_count": 4,
     "metadata": {},
     "output_type": "execute_result"
    }
   ],
   "source": [
    "data['is_ultra'].value_counts(normalize=True).round(3)"
   ]
  },
  {
   "cell_type": "markdown",
   "metadata": {},
   "source": [
    "Среди значений *is_ultra* 69.4% - 0 (тариф пользователя Смарт) и 30.6% - 1 (тариф пользователя Ультра)."
   ]
  },
  {
   "cell_type": "markdown",
   "metadata": {},
   "source": [
    "Посчитаем корреляцию между признаками и построим диаграмму рассеяния."
   ]
  },
  {
   "cell_type": "code",
   "execution_count": 5,
   "metadata": {},
   "outputs": [
    {
     "data": {
      "text/html": [
       "<div>\n",
       "<style scoped>\n",
       "    .dataframe tbody tr th:only-of-type {\n",
       "        vertical-align: middle;\n",
       "    }\n",
       "\n",
       "    .dataframe tbody tr th {\n",
       "        vertical-align: top;\n",
       "    }\n",
       "\n",
       "    .dataframe thead th {\n",
       "        text-align: right;\n",
       "    }\n",
       "</style>\n",
       "<table border=\"1\" class=\"dataframe\">\n",
       "  <thead>\n",
       "    <tr style=\"text-align: right;\">\n",
       "      <th></th>\n",
       "      <th>calls</th>\n",
       "      <th>minutes</th>\n",
       "      <th>messages</th>\n",
       "      <th>mb_used</th>\n",
       "    </tr>\n",
       "  </thead>\n",
       "  <tbody>\n",
       "    <tr>\n",
       "      <th>calls</th>\n",
       "      <td>1.000000</td>\n",
       "      <td>0.982083</td>\n",
       "      <td>0.177385</td>\n",
       "      <td>0.286442</td>\n",
       "    </tr>\n",
       "    <tr>\n",
       "      <th>minutes</th>\n",
       "      <td>0.982083</td>\n",
       "      <td>1.000000</td>\n",
       "      <td>0.173110</td>\n",
       "      <td>0.280967</td>\n",
       "    </tr>\n",
       "    <tr>\n",
       "      <th>messages</th>\n",
       "      <td>0.177385</td>\n",
       "      <td>0.173110</td>\n",
       "      <td>1.000000</td>\n",
       "      <td>0.195721</td>\n",
       "    </tr>\n",
       "    <tr>\n",
       "      <th>mb_used</th>\n",
       "      <td>0.286442</td>\n",
       "      <td>0.280967</td>\n",
       "      <td>0.195721</td>\n",
       "      <td>1.000000</td>\n",
       "    </tr>\n",
       "  </tbody>\n",
       "</table>\n",
       "</div>"
      ],
      "text/plain": [
       "             calls   minutes  messages   mb_used\n",
       "calls     1.000000  0.982083  0.177385  0.286442\n",
       "minutes   0.982083  1.000000  0.173110  0.280967\n",
       "messages  0.177385  0.173110  1.000000  0.195721\n",
       "mb_used   0.286442  0.280967  0.195721  1.000000"
      ]
     },
     "execution_count": 5,
     "metadata": {},
     "output_type": "execute_result"
    },
    {
     "data": {
      "image/png": "[encoded data removed]",
      "text/plain": [
       "<Figure size 648x648 with 16 Axes>"
      ]
     },
     "metadata": {
      "needs_background": "light"
     },
     "output_type": "display_data"
    }
   ],
   "source": [
    "pd.plotting.scatter_matrix(data.drop('is_ultra', axis=1), figsize=(9, 9))\n",
    "\n",
    "data.drop('is_ultra', axis=1).corr()"
   ]
  },
  {
   "cell_type": "markdown",
   "metadata": {},
   "source": [
    "Между значениями минут и количества звонков существует сильная зависимость, коэффициент корреляции 0.98. В тарифах оператора существуют лимиты на минуты разговора, поэтому обучать модели будем на данных о минутах, а данные о количестве звонков уберем из выборки."
   ]
  },
  {
   "cell_type": "markdown",
   "metadata": {},
   "source": [
    "## Предобработка данных"
   ]
  },
  {
   "cell_type": "markdown",
   "metadata": {},
   "source": [
    "Исходя из условия задачи за целевой признак возьмем значение *is_ultra*. Сохраним столбец *is_ultra*  в переменной target, а остальные признаки в переменной features. Не забудем убрать данные о количестве звонков."
   ]
  },
  {
   "cell_type": "code",
   "execution_count": 6,
   "metadata": {},
   "outputs": [],
   "source": [
    "features = data.drop(['is_ultra', 'calls'], axis=1)\n",
    "target = data['is_ultra']"
   ]
  },
  {
   "cell_type": "markdown",
   "metadata": {},
   "source": [
    "Разобьем датасет на обучающую (train) и тестовую (test) выборки в соотношении 8-2."
   ]
  },
  {
   "cell_type": "code",
   "execution_count": 7,
   "metadata": {},
   "outputs": [],
   "source": [
    "features_train, features_test, target_train, target_test = train_test_split(\n",
    "    features, target, train_size=0.6, test_size=0.2, random_state=12345)"
   ]
  },
  {
   "cell_type": "markdown",
   "metadata": {},
   "source": [
    "Проверим размеры полученных выборок."
   ]
  },
  {
   "cell_type": "code",
   "execution_count": 8,
   "metadata": {
    "scrolled": true
   },
   "outputs": [
    {
     "name": "stdout",
     "output_type": "stream",
     "text": [
      "Shapes\n",
      "Training set: (1928, 3)\n",
      "Testing set: (643, 3)\n"
     ]
    }
   ],
   "source": [
    "print('Shapes\\nTraining set: {}\\nTesting set: {}'\n",
    "      .format(features_train.shape, features_test.shape))"
   ]
  },
  {
   "cell_type": "markdown",
   "metadata": {},
   "source": [
    "Данные подготовленны для обучения и проверки моделей."
   ]
  },
  {
   "cell_type": "markdown",
   "metadata": {},
   "source": [
    "## Исследуйте модели"
   ]
  },
  {
   "cell_type": "markdown",
   "metadata": {},
   "source": [
    "Будем обучать модели по трем алгоритмам обучения: решающее дерево (DecisionTreeClassifier), случайный лес (RandomForestClassifier) и логистическая регрессия (LogisticRegression). В словаре *models_accuracy* будем записывать результаты метрики Accuracy для лучшей модели."
   ]
  },
  {
   "cell_type": "code",
   "execution_count": 9,
   "metadata": {},
   "outputs": [],
   "source": [
    "models_accuracy = {}"
   ]
  },
  {
   "cell_type": "markdown",
   "metadata": {},
   "source": [
    "Для алгоритма **Decision Tree** будем варьировать гиперпараметры: критерий выбора, минимальное число объектов во внутреннем узле, минимальное число объектов в листовом узле (нижнем) и глубина дерева. Выберем наилучшие гиперпараметры по метрике accuracy."
   ]
  },
  {
   "cell_type": "code",
   "execution_count": 10,
   "metadata": {},
   "outputs": [
    {
     "data": {
      "text/html": [
       "<div>\n",
       "<style scoped>\n",
       "    .dataframe tbody tr th:only-of-type {\n",
       "        vertical-align: middle;\n",
       "    }\n",
       "\n",
       "    .dataframe tbody tr th {\n",
       "        vertical-align: top;\n",
       "    }\n",
       "\n",
       "    .dataframe thead th {\n",
       "        text-align: right;\n",
       "    }\n",
       "</style>\n",
       "<table border=\"1\" class=\"dataframe\">\n",
       "  <thead>\n",
       "    <tr style=\"text-align: right;\">\n",
       "      <th></th>\n",
       "      <th>param_criterion</th>\n",
       "      <th>param_max_depth</th>\n",
       "      <th>param_min_samples_split</th>\n",
       "      <th>param_min_samples_leaf</th>\n",
       "      <th>mean_test_score</th>\n",
       "      <th>rank_test_score</th>\n",
       "    </tr>\n",
       "  </thead>\n",
       "  <tbody>\n",
       "    <tr>\n",
       "      <th>84</th>\n",
       "      <td>gini</td>\n",
       "      <td>7</td>\n",
       "      <td>18</td>\n",
       "      <td>5</td>\n",
       "      <td>0.795638</td>\n",
       "      <td>1</td>\n",
       "    </tr>\n",
       "    <tr>\n",
       "      <th>80</th>\n",
       "      <td>gini</td>\n",
       "      <td>7</td>\n",
       "      <td>2</td>\n",
       "      <td>5</td>\n",
       "      <td>0.795122</td>\n",
       "      <td>2</td>\n",
       "    </tr>\n",
       "    <tr>\n",
       "      <th>81</th>\n",
       "      <td>gini</td>\n",
       "      <td>7</td>\n",
       "      <td>6</td>\n",
       "      <td>5</td>\n",
       "      <td>0.795122</td>\n",
       "      <td>2</td>\n",
       "    </tr>\n",
       "    <tr>\n",
       "      <th>82</th>\n",
       "      <td>gini</td>\n",
       "      <td>7</td>\n",
       "      <td>10</td>\n",
       "      <td>5</td>\n",
       "      <td>0.795122</td>\n",
       "      <td>2</td>\n",
       "    </tr>\n",
       "    <tr>\n",
       "      <th>83</th>\n",
       "      <td>gini</td>\n",
       "      <td>7</td>\n",
       "      <td>14</td>\n",
       "      <td>5</td>\n",
       "      <td>0.795122</td>\n",
       "      <td>2</td>\n",
       "    </tr>\n",
       "  </tbody>\n",
       "</table>\n",
       "</div>"
      ],
      "text/plain": [
       "   param_criterion param_max_depth param_min_samples_split  \\\n",
       "84            gini               7                      18   \n",
       "80            gini               7                       2   \n",
       "81            gini               7                       6   \n",
       "82            gini               7                      10   \n",
       "83            gini               7                      14   \n",
       "\n",
       "   param_min_samples_leaf  mean_test_score  rank_test_score  \n",
       "84                      5         0.795638                1  \n",
       "80                      5         0.795122                2  \n",
       "81                      5         0.795122                2  \n",
       "82                      5         0.795122                2  \n",
       "83                      5         0.795122                2  "
      ]
     },
     "execution_count": 10,
     "metadata": {},
     "output_type": "execute_result"
    }
   ],
   "source": [
    "params = {\n",
    "    'criterion': ['gini', 'entropy'],\n",
    "    'min_samples_split': range(2, 21, 4),\n",
    "    'min_samples_leaf': range(1, 20, 4),\n",
    "    'max_depth': range(1, 11, 2)\n",
    "}\n",
    "\n",
    "model = DecisionTreeClassifier(random_state=12345)\n",
    "grid_dt = GridSearchCV(model, params, scoring='accuracy', cv=3)\n",
    "\n",
    "grid_dt.fit(features_train, target_train)\n",
    "    \n",
    "models_accuracy['DT'] = grid_dt.best_score_\n",
    "pd.DataFrame(grid_dt.cv_results_)[['param_criterion',\n",
    "                                'param_max_depth',\n",
    "                                'param_min_samples_split',\n",
    "                                'param_min_samples_leaf',\n",
    "                                'mean_test_score',\n",
    "                                'rank_test_score']]\\\n",
    "    .sort_values('mean_test_score', ascending=False).head()"
   ]
  },
  {
   "cell_type": "markdown",
   "metadata": {},
   "source": [
    "Для алгоритма **Random Forest** будем варьировать гиперпараметры: количество оценщиков, глубину деревьев и минимальное количество объектов для разделения узла."
   ]
  },
  {
   "cell_type": "code",
   "execution_count": 11,
   "metadata": {},
   "outputs": [
    {
     "data": {
      "text/html": [
       "<div>\n",
       "<style scoped>\n",
       "    .dataframe tbody tr th:only-of-type {\n",
       "        vertical-align: middle;\n",
       "    }\n",
       "\n",
       "    .dataframe tbody tr th {\n",
       "        vertical-align: top;\n",
       "    }\n",
       "\n",
       "    .dataframe thead th {\n",
       "        text-align: right;\n",
       "    }\n",
       "</style>\n",
       "<table border=\"1\" class=\"dataframe\">\n",
       "  <thead>\n",
       "    <tr style=\"text-align: right;\">\n",
       "      <th></th>\n",
       "      <th>param_n_estimators</th>\n",
       "      <th>param_max_depth</th>\n",
       "      <th>param_min_samples_split</th>\n",
       "      <th>mean_test_score</th>\n",
       "      <th>rank_test_score</th>\n",
       "    </tr>\n",
       "  </thead>\n",
       "  <tbody>\n",
       "    <tr>\n",
       "      <th>68</th>\n",
       "      <td>40</td>\n",
       "      <td>9</td>\n",
       "      <td>3</td>\n",
       "      <td>0.803939</td>\n",
       "      <td>1</td>\n",
       "    </tr>\n",
       "    <tr>\n",
       "      <th>64</th>\n",
       "      <td>50</td>\n",
       "      <td>9</td>\n",
       "      <td>2</td>\n",
       "      <td>0.803421</td>\n",
       "      <td>2</td>\n",
       "    </tr>\n",
       "    <tr>\n",
       "      <th>69</th>\n",
       "      <td>50</td>\n",
       "      <td>9</td>\n",
       "      <td>3</td>\n",
       "      <td>0.802383</td>\n",
       "      <td>3</td>\n",
       "    </tr>\n",
       "    <tr>\n",
       "      <th>72</th>\n",
       "      <td>30</td>\n",
       "      <td>9</td>\n",
       "      <td>5</td>\n",
       "      <td>0.801864</td>\n",
       "      <td>4</td>\n",
       "    </tr>\n",
       "    <tr>\n",
       "      <th>67</th>\n",
       "      <td>30</td>\n",
       "      <td>9</td>\n",
       "      <td>3</td>\n",
       "      <td>0.801862</td>\n",
       "      <td>5</td>\n",
       "    </tr>\n",
       "  </tbody>\n",
       "</table>\n",
       "</div>"
      ],
      "text/plain": [
       "   param_n_estimators param_max_depth param_min_samples_split  \\\n",
       "68                 40               9                       3   \n",
       "64                 50               9                       2   \n",
       "69                 50               9                       3   \n",
       "72                 30               9                       5   \n",
       "67                 30               9                       3   \n",
       "\n",
       "    mean_test_score  rank_test_score  \n",
       "68         0.803939                1  \n",
       "64         0.803421                2  \n",
       "69         0.802383                3  \n",
       "72         0.801864                4  \n",
       "67         0.801862                5  "
      ]
     },
     "execution_count": 11,
     "metadata": {},
     "output_type": "execute_result"
    }
   ],
   "source": [
    "params = {\n",
    "    'n_estimators': range(10, 51, 10),\n",
    "    'max_depth': range(1, 11, 2),\n",
    "    'min_samples_split': [2, 3, 5]\n",
    "}\n",
    "\n",
    "model = RandomForestClassifier(random_state=12345)\n",
    "grid_rf = GridSearchCV(model, params, scoring='accuracy', cv=3)\n",
    "\n",
    "grid_rf.fit(features_train, target_train)\n",
    "    \n",
    "models_accuracy['RFC'] = grid_rf.best_score_\n",
    "pd.DataFrame(grid_rf.cv_results_)[['param_n_estimators',\n",
    "                                'param_max_depth',\n",
    "                                'param_min_samples_split',\n",
    "                                'mean_test_score',\n",
    "                                'rank_test_score']]\\\n",
    "    .sort_values('mean_test_score', ascending=False).head()"
   ]
  },
  {
   "cell_type": "markdown",
   "metadata": {},
   "source": [
    "Для алгоритма **Logistic Regression** подберем алгоритм оптимизации."
   ]
  },
  {
   "cell_type": "code",
   "execution_count": 12,
   "metadata": {},
   "outputs": [
    {
     "data": {
      "text/html": [
       "<div>\n",
       "<style scoped>\n",
       "    .dataframe tbody tr th:only-of-type {\n",
       "        vertical-align: middle;\n",
       "    }\n",
       "\n",
       "    .dataframe tbody tr th {\n",
       "        vertical-align: top;\n",
       "    }\n",
       "\n",
       "    .dataframe thead th {\n",
       "        text-align: right;\n",
       "    }\n",
       "</style>\n",
       "<table border=\"1\" class=\"dataframe\">\n",
       "  <thead>\n",
       "    <tr style=\"text-align: right;\">\n",
       "      <th></th>\n",
       "      <th>param_solver</th>\n",
       "      <th>mean_test_score</th>\n",
       "      <th>rank_test_score</th>\n",
       "    </tr>\n",
       "  </thead>\n",
       "  <tbody>\n",
       "    <tr>\n",
       "      <th>0</th>\n",
       "      <td>newton-cg</td>\n",
       "      <td>0.738071</td>\n",
       "      <td>1</td>\n",
       "    </tr>\n",
       "    <tr>\n",
       "      <th>1</th>\n",
       "      <td>lbfgs</td>\n",
       "      <td>0.717853</td>\n",
       "      <td>2</td>\n",
       "    </tr>\n",
       "    <tr>\n",
       "      <th>2</th>\n",
       "      <td>liblinear</td>\n",
       "      <td>0.705392</td>\n",
       "      <td>3</td>\n",
       "    </tr>\n",
       "    <tr>\n",
       "      <th>3</th>\n",
       "      <td>sag</td>\n",
       "      <td>0.700726</td>\n",
       "      <td>4</td>\n",
       "    </tr>\n",
       "    <tr>\n",
       "      <th>4</th>\n",
       "      <td>saga</td>\n",
       "      <td>0.700726</td>\n",
       "      <td>4</td>\n",
       "    </tr>\n",
       "  </tbody>\n",
       "</table>\n",
       "</div>"
      ],
      "text/plain": [
       "  param_solver  mean_test_score  rank_test_score\n",
       "0    newton-cg         0.738071                1\n",
       "1        lbfgs         0.717853                2\n",
       "2    liblinear         0.705392                3\n",
       "3          sag         0.700726                4\n",
       "4         saga         0.700726                4"
      ]
     },
     "execution_count": 12,
     "metadata": {},
     "output_type": "execute_result"
    }
   ],
   "source": [
    "params = {'solver': ['newton-cg', 'lbfgs', 'liblinear', 'sag', 'saga']}\n",
    "\n",
    "model = LogisticRegression(random_state=12345)\n",
    "grid_lr = GridSearchCV(model, params, scoring='accuracy', cv=3)\n",
    "\n",
    "with warnings.catch_warnings():\n",
    "    warnings.simplefilter(\"ignore\")\n",
    "    \n",
    "    grid_lr.fit(features_train, target_train)\n",
    "    \n",
    "models_accuracy['LR'] = grid_lr.best_score_\n",
    "pd.DataFrame(grid_lr.cv_results_)[['param_solver', 'mean_test_score', 'rank_test_score']]"
   ]
  },
  {
   "cell_type": "code",
   "execution_count": 13,
   "metadata": {
    "scrolled": true
   },
   "outputs": [
    {
     "name": "stdout",
     "output_type": "stream",
     "text": [
      "Accuracy:\n",
      "RFC    0.8039\n",
      "DT     0.7956\n",
      "LR     0.7381\n",
      "dtype: float64\n"
     ]
    }
   ],
   "source": [
    "print('Accuracy:', pd.Series(models_accuracy).sort_values(ascending=False).round(4), sep='\\n')"
   ]
  },
  {
   "cell_type": "markdown",
   "metadata": {},
   "source": [
    "Наибольший показатель accuracy был получен у модели с алгоритмом обучения Random Forest - 0.8039. Сохраним модель с подобранными гиперпараметрами в переменную *model*."
   ]
  },
  {
   "cell_type": "code",
   "execution_count": 14,
   "metadata": {},
   "outputs": [],
   "source": [
    "model = grid_rf.best_estimator_"
   ]
  },
  {
   "cell_type": "markdown",
   "metadata": {},
   "source": [
    "## Проверка модели"
   ]
  },
  {
   "cell_type": "markdown",
   "metadata": {},
   "source": [
    "Мы определили наилучший алгоритм и подобрали его параметры обучения. По умолчанию GridSearchCV имеет параметр refit=True, который отвечает за обучение лучшей модели с лучшими параметрами на всем наборе данных. Заново обучать выбранную модель не нужно. Теперь используем модель для предсказаний на тестовой выборке и посчитаем точность этих предсказаний. "
   ]
  },
  {
   "cell_type": "code",
   "execution_count": 15,
   "metadata": {},
   "outputs": [
    {
     "name": "stdout",
     "output_type": "stream",
     "text": [
      "Accuracy на тестовой выборке: 0.7963\n"
     ]
    }
   ],
   "source": [
    "predictions = model.predict(features_test)\n",
    "result = accuracy_score(target_test, predictions)\n",
    "\n",
    "print('Accuracy на тестовой выборке: {:.4f}'.format(result))"
   ]
  },
  {
   "cell_type": "markdown",
   "metadata": {},
   "source": [
    "Accuracy модели на тестовой выборке 0.7963, что больше требуемой заказчиком 0.75."
   ]
  },
  {
   "cell_type": "markdown",
   "metadata": {},
   "source": [
    "## (бонус) Проверьте модели на адекватность"
   ]
  },
  {
   "cell_type": "markdown",
   "metadata": {},
   "source": [
    "Чтобы проверить полученную модель на адекватность, ее нужно с чем то сравнить. Создадим константную модель, которая будет осуществлять предсказания по заранее известному простому правилу."
   ]
  },
  {
   "cell_type": "code",
   "execution_count": 16,
   "metadata": {},
   "outputs": [],
   "source": [
    "from sklearn.dummy import DummyClassifier"
   ]
  },
  {
   "cell_type": "code",
   "execution_count": 17,
   "metadata": {},
   "outputs": [
    {
     "name": "stdout",
     "output_type": "stream",
     "text": [
      "Accuracy константной модели: 0.6952\n"
     ]
    }
   ],
   "source": [
    "dummy = DummyClassifier(strategy='most_frequent', random_state=12345)\n",
    "dummy.fit(features_train, target_train)\n",
    "dummy_score = dummy.score(features_test, target_test)\n",
    "print('Accuracy константной модели:', round(dummy_score, 4))"
   ]
  },
  {
   "cell_type": "markdown",
   "metadata": {},
   "source": [
    "Качество константной модели значительно ниже качества избранной модели. Из этого можно сделать вывод, что применение машинного обучения способно принести улучшить пользовательские рекомендации, следовательно и прибыль для компании."
   ]
  },
  {
   "cell_type": "markdown",
   "metadata": {},
   "source": [
    "В качестве дополнения, рассмотрим предсказания модели. Разделим датасет на две части по тарифу пользователя (*is_ultra*) и посчитаем точность прогноза на этих выборках."
   ]
  },
  {
   "cell_type": "code",
   "execution_count": 18,
   "metadata": {},
   "outputs": [],
   "source": [
    "smart = features[data['is_ultra']==0]\n",
    "ultra = features[data['is_ultra']==1]\n",
    "accuracy = []"
   ]
  },
  {
   "cell_type": "code",
   "execution_count": 19,
   "metadata": {
    "scrolled": true
   },
   "outputs": [
    {
     "name": "stdout",
     "output_type": "stream",
     "text": [
      "Accuracy предсказания тарифа:\n",
      "Смарт: 0.9726\n",
      "Ультра: 0.5635\n",
      "По всей выборке: 0.8472\n"
     ]
    }
   ],
   "source": [
    "for _features in [smart, ultra, features]:\n",
    "    _target = target[_features.index]\n",
    "\n",
    "    _predictions = model.predict(_features)\n",
    "    accuracy.append(accuracy_score(_target, _predictions))\n",
    "\n",
    "print('Accuracy предсказания тарифа:\\nСмарт: {:.4f}\\nУльтра: {:.4f}\\nПо всей выборке: {:.4f}'.format(*accuracy))"
   ]
  },
  {
   "cell_type": "markdown",
   "metadata": {},
   "source": [
    "Модель хорошо научилась предсказывать пользователей тарифа \"Смарт\" (97% точности), тогда как предсказания пользователей тарифа \"Ультра\" оказались не такими точными (56%). В целом по выборке точность обученной модели 84.7%.\n",
    "\n",
    "Доля пользователей тарифа Ультра всего около 30%. Для увеличения точности предсказания этого тарифа можно увеличить долю пользователей \"Ультра\" в обучающей выборке."
   ]
  },
  {
   "cell_type": "code",
   "execution_count": null,
   "metadata": {},
   "outputs": [],
   "source": []
  }
 ],
 "metadata": {
  "ExecuteTimeLog": [
   {
    "duration": 835,
    "start_time": "2021-09-14T10:43:16.283Z"
   },
   {
    "duration": 36,
    "start_time": "2021-09-14T10:43:17.120Z"
   },
   {
    "duration": 7,
    "start_time": "2021-09-14T10:43:17.158Z"
   },
   {
    "duration": 16,
    "start_time": "2021-09-14T10:43:19.974Z"
   },
   {
    "duration": 6,
    "start_time": "2021-09-14T10:45:52.532Z"
   },
   {
    "duration": 4,
    "start_time": "2021-09-14T10:46:04.775Z"
   },
   {
    "duration": 10,
    "start_time": "2021-09-14T10:46:07.570Z"
   },
   {
    "duration": 20,
    "start_time": "2021-09-14T10:46:15.761Z"
   },
   {
    "duration": 9,
    "start_time": "2021-09-14T10:46:18.513Z"
   },
   {
    "duration": 5,
    "start_time": "2021-09-14T10:46:42.729Z"
   },
   {
    "duration": 9,
    "start_time": "2021-09-14T10:46:44.955Z"
   },
   {
    "duration": 6,
    "start_time": "2021-09-14T10:46:50.557Z"
   },
   {
    "duration": 4,
    "start_time": "2021-09-14T10:48:29.019Z"
   },
   {
    "duration": 1324,
    "start_time": "2021-09-14T10:51:58.158Z"
   },
   {
    "duration": 514,
    "start_time": "2021-09-14T10:52:04.330Z"
   },
   {
    "duration": 462,
    "start_time": "2021-09-14T10:52:07.952Z"
   },
   {
    "duration": 6,
    "start_time": "2021-09-14T10:52:33.771Z"
   },
   {
    "duration": 7,
    "start_time": "2021-09-14T10:52:40.913Z"
   },
   {
    "duration": 404,
    "start_time": "2021-09-14T10:54:06.314Z"
   },
   {
    "duration": 8,
    "start_time": "2021-09-14T10:54:08.100Z"
   },
   {
    "duration": 4,
    "start_time": "2021-09-14T10:54:09.709Z"
   },
   {
    "duration": 3,
    "start_time": "2021-09-14T10:54:24.748Z"
   },
   {
    "duration": 434,
    "start_time": "2021-09-14T11:00:31.275Z"
   },
   {
    "duration": 31,
    "start_time": "2021-09-14T11:00:36.495Z"
   },
   {
    "duration": 27,
    "start_time": "2021-09-14T11:00:39.415Z"
   },
   {
    "duration": 27,
    "start_time": "2021-09-14T11:02:04.632Z"
   },
   {
    "duration": 62,
    "start_time": "2021-09-14T11:02:10.505Z"
   },
   {
    "duration": 65,
    "start_time": "2021-09-14T11:03:18.928Z"
   },
   {
    "duration": 78,
    "start_time": "2021-09-14T11:03:32.470Z"
   },
   {
    "duration": 66,
    "start_time": "2021-09-14T11:03:47.251Z"
   },
   {
    "duration": 10,
    "start_time": "2021-09-14T11:04:27.022Z"
   },
   {
    "duration": 460,
    "start_time": "2021-09-14T11:08:16.779Z"
   },
   {
    "duration": 3759,
    "start_time": "2021-09-14T11:08:38.014Z"
   },
   {
    "duration": 3,
    "start_time": "2021-09-14T11:09:21.825Z"
   },
   {
    "duration": 16,
    "start_time": "2021-09-14T11:10:33.035Z"
   },
   {
    "duration": 16,
    "start_time": "2021-09-14T11:12:06.290Z"
   },
   {
    "duration": 14,
    "start_time": "2021-09-14T11:12:17.567Z"
   },
   {
    "duration": 16,
    "start_time": "2021-09-14T11:12:20.424Z"
   },
   {
    "duration": 22,
    "start_time": "2021-09-14T11:13:49.083Z"
   },
   {
    "duration": 23,
    "start_time": "2021-09-14T11:13:52.609Z"
   },
   {
    "duration": 15,
    "start_time": "2021-09-14T11:13:58.669Z"
   },
   {
    "duration": 22,
    "start_time": "2021-09-14T11:14:02.367Z"
   },
   {
    "duration": 29,
    "start_time": "2021-09-14T11:15:03.252Z"
   },
   {
    "duration": 31,
    "start_time": "2021-09-14T11:15:12.109Z"
   },
   {
    "duration": 33,
    "start_time": "2021-09-14T11:15:16.149Z"
   },
   {
    "duration": 42,
    "start_time": "2021-09-14T11:15:20.004Z"
   },
   {
    "duration": 27,
    "start_time": "2021-09-14T11:15:24.472Z"
   },
   {
    "duration": 26,
    "start_time": "2021-09-14T11:15:33.079Z"
   },
   {
    "duration": 3705,
    "start_time": "2021-09-14T11:15:47.890Z"
   },
   {
    "duration": 32,
    "start_time": "2021-09-14T11:16:03.210Z"
   },
   {
    "duration": 25,
    "start_time": "2021-09-14T11:16:11.426Z"
   },
   {
    "duration": 3803,
    "start_time": "2021-09-14T11:16:25.875Z"
   },
   {
    "duration": 17,
    "start_time": "2021-09-14T11:16:34.641Z"
   },
   {
    "duration": 14,
    "start_time": "2021-09-14T11:16:37.411Z"
   },
   {
    "duration": 10,
    "start_time": "2021-09-14T11:16:44.934Z"
   },
   {
    "duration": 10,
    "start_time": "2021-09-14T11:16:48.593Z"
   },
   {
    "duration": 3,
    "start_time": "2021-09-14T11:16:53.857Z"
   },
   {
    "duration": 19,
    "start_time": "2021-09-14T11:16:54.646Z"
   },
   {
    "duration": 7,
    "start_time": "2021-09-14T11:16:57.284Z"
   },
   {
    "duration": 5,
    "start_time": "2021-09-14T11:17:00.113Z"
   },
   {
    "duration": 5,
    "start_time": "2021-09-14T11:17:08.957Z"
   },
   {
    "duration": 8,
    "start_time": "2021-09-14T11:17:11.489Z"
   },
   {
    "duration": 4,
    "start_time": "2021-09-14T11:17:11.904Z"
   },
   {
    "duration": 4009,
    "start_time": "2021-09-14T11:17:33.161Z"
   },
   {
    "duration": 11,
    "start_time": "2021-09-14T11:17:49.961Z"
   },
   {
    "duration": 28,
    "start_time": "2021-09-14T11:17:56.741Z"
   },
   {
    "duration": 25,
    "start_time": "2021-09-14T11:18:00.473Z"
   },
   {
    "duration": 22,
    "start_time": "2021-09-14T11:18:23.338Z"
   },
   {
    "duration": 2067,
    "start_time": "2021-09-14T11:20:39.186Z"
   },
   {
    "duration": 23,
    "start_time": "2021-09-14T11:21:18.911Z"
   },
   {
    "duration": 1340,
    "start_time": "2021-09-15T09:26:34.327Z"
   },
   {
    "duration": 21,
    "start_time": "2021-09-15T09:26:35.669Z"
   },
   {
    "duration": 9,
    "start_time": "2021-09-15T09:26:35.693Z"
   },
   {
    "duration": 25,
    "start_time": "2021-09-15T09:26:35.706Z"
   },
   {
    "duration": 8,
    "start_time": "2021-09-15T09:26:35.734Z"
   },
   {
    "duration": 41,
    "start_time": "2021-09-15T09:26:35.745Z"
   },
   {
    "duration": 12,
    "start_time": "2021-09-15T09:26:35.789Z"
   },
   {
    "duration": 4,
    "start_time": "2021-09-15T09:26:35.806Z"
   },
   {
    "duration": 159,
    "start_time": "2021-09-15T09:26:38.286Z"
   },
   {
    "duration": 159,
    "start_time": "2021-09-15T09:27:10.788Z"
   },
   {
    "duration": 135,
    "start_time": "2021-09-15T09:27:26.732Z"
   },
   {
    "duration": 5,
    "start_time": "2021-09-15T09:27:35.087Z"
   },
   {
    "duration": 11,
    "start_time": "2021-09-15T09:27:35.490Z"
   },
   {
    "duration": 81,
    "start_time": "2021-09-15T09:27:42.675Z"
   },
   {
    "duration": 76,
    "start_time": "2021-09-15T09:28:10.497Z"
   },
   {
    "duration": 20,
    "start_time": "2021-09-15T09:28:24.347Z"
   },
   {
    "duration": 5,
    "start_time": "2021-09-15T09:28:28.031Z"
   },
   {
    "duration": 11,
    "start_time": "2021-09-15T09:28:28.511Z"
   },
   {
    "duration": 5,
    "start_time": "2021-09-15T09:28:29.142Z"
   },
   {
    "duration": 87,
    "start_time": "2021-09-15T09:28:35.996Z"
   },
   {
    "duration": 74,
    "start_time": "2021-09-15T09:36:29.382Z"
   },
   {
    "duration": 31,
    "start_time": "2021-09-15T09:36:58.289Z"
   },
   {
    "duration": 30,
    "start_time": "2021-09-15T09:37:12.538Z"
   },
   {
    "duration": 23,
    "start_time": "2021-09-15T09:45:29.459Z"
   },
   {
    "duration": 33,
    "start_time": "2021-09-15T09:45:37.442Z"
   },
   {
    "duration": 36,
    "start_time": "2021-09-15T09:46:03.521Z"
   },
   {
    "duration": 140,
    "start_time": "2021-09-15T09:46:14.314Z"
   },
   {
    "duration": 25,
    "start_time": "2021-09-15T09:46:44.419Z"
   },
   {
    "duration": 225,
    "start_time": "2021-09-15T10:08:10.873Z"
   },
   {
    "duration": 225,
    "start_time": "2021-09-15T10:09:14.290Z"
   },
   {
    "duration": 241,
    "start_time": "2021-09-15T10:09:38.823Z"
   },
   {
    "duration": 294,
    "start_time": "2021-09-15T10:13:32.135Z"
   },
   {
    "duration": 249,
    "start_time": "2021-09-15T10:13:41.770Z"
   },
   {
    "duration": 229,
    "start_time": "2021-09-15T10:13:51.895Z"
   },
   {
    "duration": 230,
    "start_time": "2021-09-15T10:14:51.056Z"
   },
   {
    "duration": 229,
    "start_time": "2021-09-15T10:14:58.369Z"
   },
   {
    "duration": 240,
    "start_time": "2021-09-15T10:18:16.511Z"
   },
   {
    "duration": 657,
    "start_time": "2021-09-15T10:18:24.866Z"
   },
   {
    "duration": 237,
    "start_time": "2021-09-15T10:18:39.134Z"
   },
   {
    "duration": 244,
    "start_time": "2021-09-15T10:18:54.515Z"
   },
   {
    "duration": 179,
    "start_time": "2021-09-15T10:22:10.838Z"
   },
   {
    "duration": 46,
    "start_time": "2021-09-15T10:22:18.920Z"
   },
   {
    "duration": 108,
    "start_time": "2021-09-15T10:22:24.344Z"
   },
   {
    "duration": 80,
    "start_time": "2021-09-15T10:22:30.995Z"
   },
   {
    "duration": 117,
    "start_time": "2021-09-15T10:22:36.284Z"
   },
   {
    "duration": 236,
    "start_time": "2021-09-15T10:22:54.685Z"
   },
   {
    "duration": 428,
    "start_time": "2021-09-15T10:23:08.432Z"
   },
   {
    "duration": 892,
    "start_time": "2021-09-15T10:23:26.307Z"
   },
   {
    "duration": 1488,
    "start_time": "2021-09-15T10:23:44.272Z"
   },
   {
    "duration": 1409,
    "start_time": "2021-09-15T10:24:57.657Z"
   },
   {
    "duration": 1407,
    "start_time": "2021-09-15T10:25:27.791Z"
   },
   {
    "duration": 1447,
    "start_time": "2021-09-15T10:25:30.791Z"
   },
   {
    "duration": 267,
    "start_time": "2021-09-15T10:26:05.931Z"
   },
   {
    "duration": 232,
    "start_time": "2021-09-15T10:26:11.921Z"
   },
   {
    "duration": 560,
    "start_time": "2021-09-15T10:29:34.829Z"
   },
   {
    "duration": 227,
    "start_time": "2021-09-15T10:30:55.384Z"
   },
   {
    "duration": 228,
    "start_time": "2021-09-15T10:31:15.176Z"
   },
   {
    "duration": 242,
    "start_time": "2021-09-15T10:32:01.599Z"
   },
   {
    "duration": 225,
    "start_time": "2021-09-15T10:32:24.634Z"
   },
   {
    "duration": 4,
    "start_time": "2021-09-15T10:33:07.928Z"
   },
   {
    "duration": 244,
    "start_time": "2021-09-15T10:33:20.248Z"
   },
   {
    "duration": 4643,
    "start_time": "2021-09-15T10:41:11.068Z"
   },
   {
    "duration": 388,
    "start_time": "2021-09-15T10:43:05.300Z"
   },
   {
    "duration": -54,
    "start_time": "2021-09-15T10:43:05.745Z"
   },
   {
    "duration": 4748,
    "start_time": "2021-09-15T10:43:11.859Z"
   },
   {
    "duration": 226,
    "start_time": "2021-09-15T10:43:32.456Z"
   },
   {
    "duration": 70,
    "start_time": "2021-09-15T10:43:40.999Z"
   },
   {
    "duration": 225,
    "start_time": "2021-09-15T10:44:04.717Z"
   },
   {
    "duration": 85,
    "start_time": "2021-09-15T10:50:43.541Z"
   },
   {
    "duration": 69,
    "start_time": "2021-09-15T10:50:48.134Z"
   },
   {
    "duration": 71,
    "start_time": "2021-09-15T10:50:52.158Z"
   },
   {
    "duration": 87,
    "start_time": "2021-09-15T10:50:58.018Z"
   },
   {
    "duration": 80,
    "start_time": "2021-09-15T10:51:49.514Z"
   },
   {
    "duration": 76,
    "start_time": "2021-09-15T10:51:55.120Z"
   },
   {
    "duration": 85,
    "start_time": "2021-09-15T10:51:58.239Z"
   },
   {
    "duration": 334,
    "start_time": "2021-09-15T10:52:02.184Z"
   },
   {
    "duration": 84,
    "start_time": "2021-09-15T10:52:11.897Z"
   },
   {
    "duration": 83,
    "start_time": "2021-09-15T10:52:17.280Z"
   },
   {
    "duration": 80,
    "start_time": "2021-09-15T10:52:22.882Z"
   },
   {
    "duration": 85,
    "start_time": "2021-09-15T10:52:27.935Z"
   },
   {
    "duration": 84,
    "start_time": "2021-09-15T10:52:32.836Z"
   },
   {
    "duration": 79,
    "start_time": "2021-09-15T10:52:38.171Z"
   },
   {
    "duration": 80,
    "start_time": "2021-09-15T10:52:41.694Z"
   },
   {
    "duration": 85,
    "start_time": "2021-09-15T10:52:45.493Z"
   },
   {
    "duration": 79,
    "start_time": "2021-09-15T10:52:48.850Z"
   },
   {
    "duration": 80,
    "start_time": "2021-09-15T10:52:52.372Z"
   },
   {
    "duration": 81,
    "start_time": "2021-09-15T10:52:56.559Z"
   },
   {
    "duration": 101,
    "start_time": "2021-09-15T10:53:01.603Z"
   },
   {
    "duration": 80,
    "start_time": "2021-09-15T10:53:05.962Z"
   },
   {
    "duration": 88,
    "start_time": "2021-09-15T10:53:10.002Z"
   },
   {
    "duration": 36,
    "start_time": "2021-09-15T10:53:45.458Z"
   },
   {
    "duration": 35,
    "start_time": "2021-09-15T10:53:49.074Z"
   },
   {
    "duration": 81,
    "start_time": "2021-09-15T10:53:52.948Z"
   },
   {
    "duration": 35,
    "start_time": "2021-09-15T10:53:57.103Z"
   },
   {
    "duration": 74,
    "start_time": "2021-09-15T10:54:01.202Z"
   },
   {
    "duration": 80,
    "start_time": "2021-09-15T10:54:04.522Z"
   },
   {
    "duration": 329,
    "start_time": "2021-09-15T10:54:50.078Z"
   },
   {
    "duration": 68421,
    "start_time": "2021-09-15T10:54:56.168Z"
   },
   {
    "duration": 14796,
    "start_time": "2021-09-15T10:57:15.557Z"
   },
   {
    "duration": 21669,
    "start_time": "2021-09-15T10:58:22.277Z"
   },
   {
    "duration": 18193,
    "start_time": "2021-09-15T10:58:51.895Z"
   },
   {
    "duration": 15001,
    "start_time": "2021-09-15T11:01:06.728Z"
   },
   {
    "duration": 188458,
    "start_time": "2021-09-15T11:05:14.280Z"
   },
   {
    "duration": 15760,
    "start_time": "2021-09-15T11:08:50.865Z"
   },
   {
    "duration": 18,
    "start_time": "2021-09-15T11:10:00.318Z"
   },
   {
    "duration": 17,
    "start_time": "2021-09-15T11:10:06.729Z"
   },
   {
    "duration": 17,
    "start_time": "2021-09-15T11:10:09.267Z"
   },
   {
    "duration": 17,
    "start_time": "2021-09-15T11:10:12.338Z"
   },
   {
    "duration": 17,
    "start_time": "2021-09-15T11:10:14.925Z"
   },
   {
    "duration": 17,
    "start_time": "2021-09-15T11:10:19.642Z"
   },
   {
    "duration": 18,
    "start_time": "2021-09-15T11:10:22.961Z"
   },
   {
    "duration": 18,
    "start_time": "2021-09-15T11:10:28.771Z"
   },
   {
    "duration": 17,
    "start_time": "2021-09-15T11:10:35.928Z"
   },
   {
    "duration": 18,
    "start_time": "2021-09-15T11:10:40.632Z"
   },
   {
    "duration": 17,
    "start_time": "2021-09-15T11:10:55.173Z"
   },
   {
    "duration": 17,
    "start_time": "2021-09-15T11:10:59.404Z"
   },
   {
    "duration": 11261,
    "start_time": "2021-09-15T11:11:25.905Z"
   },
   {
    "duration": 18,
    "start_time": "2021-09-15T11:11:53.062Z"
   },
   {
    "duration": 17,
    "start_time": "2021-09-15T11:12:00.993Z"
   },
   {
    "duration": 15,
    "start_time": "2021-09-15T11:12:06.800Z"
   },
   {
    "duration": 13929,
    "start_time": "2021-09-15T11:12:36.790Z"
   },
   {
    "duration": 17,
    "start_time": "2021-09-15T11:13:20.974Z"
   },
   {
    "duration": 14033,
    "start_time": "2021-09-15T11:14:27.210Z"
   },
   {
    "duration": 5,
    "start_time": "2021-09-15T11:14:46.356Z"
   },
   {
    "duration": 4,
    "start_time": "2021-09-15T11:15:54.609Z"
   },
   {
    "duration": 9,
    "start_time": "2021-09-15T11:22:46.671Z"
   },
   {
    "duration": 14246,
    "start_time": "2021-09-15T11:25:22.266Z"
   },
   {
    "duration": 5,
    "start_time": "2021-09-15T11:25:49.648Z"
   },
   {
    "duration": 10173,
    "start_time": "2021-09-15T11:29:31.809Z"
   },
   {
    "duration": 14425,
    "start_time": "2021-09-15T11:30:33.176Z"
   },
   {
    "duration": 3605,
    "start_time": "2021-09-15T11:31:30.869Z"
   },
   {
    "duration": 10147,
    "start_time": "2021-09-15T11:32:02.322Z"
   },
   {
    "duration": 10016,
    "start_time": "2021-09-15T11:32:21.850Z"
   },
   {
    "duration": 276,
    "start_time": "2021-09-15T11:33:38.335Z"
   },
   {
    "duration": 262,
    "start_time": "2021-09-15T11:33:41.769Z"
   },
   {
    "duration": 273,
    "start_time": "2021-09-15T11:33:45.116Z"
   },
   {
    "duration": 240,
    "start_time": "2021-09-15T11:33:49.056Z"
   },
   {
    "duration": 254,
    "start_time": "2021-09-15T11:33:52.457Z"
   },
   {
    "duration": 275,
    "start_time": "2021-09-15T11:33:55.968Z"
   },
   {
    "duration": 225,
    "start_time": "2021-09-15T11:33:59.035Z"
   },
   {
    "duration": 257,
    "start_time": "2021-09-15T11:34:02.128Z"
   },
   {
    "duration": 241,
    "start_time": "2021-09-15T11:34:04.908Z"
   },
   {
    "duration": 241,
    "start_time": "2021-09-15T11:34:10.421Z"
   },
   {
    "duration": 228,
    "start_time": "2021-09-15T11:34:13.645Z"
   },
   {
    "duration": 240,
    "start_time": "2021-09-15T11:34:17.651Z"
   },
   {
    "duration": 222,
    "start_time": "2021-09-15T11:34:22.196Z"
   },
   {
    "duration": 15,
    "start_time": "2021-09-15T11:41:54.010Z"
   },
   {
    "duration": 8,
    "start_time": "2021-09-15T11:42:24.098Z"
   },
   {
    "duration": 7,
    "start_time": "2021-09-15T11:42:26.167Z"
   },
   {
    "duration": 219,
    "start_time": "2021-09-15T13:42:35.620Z"
   },
   {
    "duration": 5,
    "start_time": "2021-09-15T13:42:44.552Z"
   },
   {
    "duration": 25,
    "start_time": "2021-09-15T13:42:44.559Z"
   },
   {
    "duration": 10,
    "start_time": "2021-09-15T13:42:44.587Z"
   },
   {
    "duration": 17,
    "start_time": "2021-09-15T13:42:44.600Z"
   },
   {
    "duration": 13,
    "start_time": "2021-09-15T13:42:44.620Z"
   },
   {
    "duration": 18,
    "start_time": "2021-09-15T13:42:44.635Z"
   },
   {
    "duration": 9,
    "start_time": "2021-09-15T13:42:44.655Z"
   },
   {
    "duration": 24,
    "start_time": "2021-09-15T13:42:44.668Z"
   },
   {
    "duration": 10,
    "start_time": "2021-09-15T13:42:44.695Z"
   },
   {
    "duration": 15356,
    "start_time": "2021-09-15T13:42:44.708Z"
   },
   {
    "duration": 3948,
    "start_time": "2021-09-15T13:43:00.067Z"
   },
   {
    "duration": 10855,
    "start_time": "2021-09-15T13:43:04.018Z"
   },
   {
    "duration": 261,
    "start_time": "2021-09-15T13:43:14.882Z"
   },
   {
    "duration": 36,
    "start_time": "2021-09-15T13:43:15.146Z"
   },
   {
    "duration": 24,
    "start_time": "2021-09-15T13:43:15.185Z"
   },
   {
    "duration": 77,
    "start_time": "2021-09-15T13:43:15.212Z"
   },
   {
    "duration": 3934,
    "start_time": "2021-09-15T13:44:41.058Z"
   },
   {
    "duration": 5,
    "start_time": "2021-09-15T13:51:44.052Z"
   },
   {
    "duration": 31,
    "start_time": "2021-09-15T13:51:44.059Z"
   },
   {
    "duration": 15,
    "start_time": "2021-09-15T13:51:44.093Z"
   },
   {
    "duration": 34,
    "start_time": "2021-09-15T13:51:44.111Z"
   },
   {
    "duration": 13,
    "start_time": "2021-09-15T13:51:44.148Z"
   },
   {
    "duration": 20,
    "start_time": "2021-09-15T13:51:44.163Z"
   },
   {
    "duration": 16,
    "start_time": "2021-09-15T13:51:44.186Z"
   },
   {
    "duration": 22,
    "start_time": "2021-09-15T13:51:44.204Z"
   },
   {
    "duration": 20,
    "start_time": "2021-09-15T13:51:44.229Z"
   },
   {
    "duration": 12,
    "start_time": "2021-09-15T13:51:44.251Z"
   },
   {
    "duration": 3872,
    "start_time": "2021-09-15T13:51:44.266Z"
   },
   {
    "duration": 10935,
    "start_time": "2021-09-15T13:51:48.141Z"
   },
   {
    "duration": 260,
    "start_time": "2021-09-15T13:51:59.081Z"
   },
   {
    "duration": 5,
    "start_time": "2021-09-15T13:52:32.350Z"
   },
   {
    "duration": 4311,
    "start_time": "2021-09-15T13:53:28.555Z"
   },
   {
    "duration": 11582,
    "start_time": "2021-09-15T13:53:35.616Z"
   },
   {
    "duration": 5,
    "start_time": "2021-09-15T13:54:05.086Z"
   },
   {
    "duration": 247,
    "start_time": "2021-09-15T13:54:47.092Z"
   },
   {
    "duration": 6,
    "start_time": "2021-09-15T13:54:52.838Z"
   },
   {
    "duration": 341,
    "start_time": "2021-09-15T13:55:12.930Z"
   },
   {
    "duration": 5,
    "start_time": "2021-09-15T13:55:18.383Z"
   },
   {
    "duration": 6,
    "start_time": "2021-09-15T13:55:25.885Z"
   },
   {
    "duration": 264,
    "start_time": "2021-09-15T13:55:28.721Z"
   },
   {
    "duration": 6,
    "start_time": "2021-09-15T13:55:43.392Z"
   },
   {
    "duration": 280,
    "start_time": "2021-09-15T13:55:49.363Z"
   },
   {
    "duration": 380,
    "start_time": "2021-09-15T13:56:00.829Z"
   },
   {
    "duration": 5,
    "start_time": "2021-09-15T13:56:19.392Z"
   },
   {
    "duration": 617,
    "start_time": "2021-09-15T13:56:26.865Z"
   },
   {
    "duration": 675,
    "start_time": "2021-09-15T13:56:49.052Z"
   },
   {
    "duration": 632,
    "start_time": "2021-09-15T13:57:12.803Z"
   },
   {
    "duration": 685,
    "start_time": "2021-09-15T13:57:30.384Z"
   },
   {
    "duration": 646,
    "start_time": "2021-09-15T13:57:42.204Z"
   },
   {
    "duration": 520,
    "start_time": "2021-09-15T13:57:50.414Z"
   },
   {
    "duration": 625,
    "start_time": "2021-09-15T13:57:59.880Z"
   },
   {
    "duration": 5,
    "start_time": "2021-09-15T13:58:22.304Z"
   },
   {
    "duration": 581,
    "start_time": "2021-09-15T13:58:36.304Z"
   },
   {
    "duration": 583,
    "start_time": "2021-09-15T13:59:31.766Z"
   },
   {
    "duration": 374,
    "start_time": "2021-09-15T13:59:46.424Z"
   },
   {
    "duration": 333,
    "start_time": "2021-09-15T14:00:20.076Z"
   },
   {
    "duration": 258,
    "start_time": "2021-09-15T14:00:26.815Z"
   },
   {
    "duration": 248,
    "start_time": "2021-09-15T14:00:31.286Z"
   },
   {
    "duration": 501,
    "start_time": "2021-09-15T14:00:43.644Z"
   },
   {
    "duration": 238,
    "start_time": "2021-09-15T14:01:38.748Z"
   },
   {
    "duration": 227,
    "start_time": "2021-09-15T14:01:50.220Z"
   },
   {
    "duration": 220,
    "start_time": "2021-09-15T14:01:53.648Z"
   },
   {
    "duration": 279,
    "start_time": "2021-09-15T14:02:51.582Z"
   },
   {
    "duration": 299,
    "start_time": "2021-09-15T14:03:06.112Z"
   },
   {
    "duration": 223,
    "start_time": "2021-09-15T14:03:19.964Z"
   },
   {
    "duration": 252,
    "start_time": "2021-09-15T14:03:31.933Z"
   },
   {
    "duration": 6,
    "start_time": "2021-09-15T14:07:16.685Z"
   },
   {
    "duration": 275,
    "start_time": "2021-09-15T14:07:22.893Z"
   },
   {
    "duration": 7,
    "start_time": "2021-09-15T14:07:31.737Z"
   },
   {
    "duration": 6,
    "start_time": "2021-09-15T14:07:37.505Z"
   },
   {
    "duration": 5,
    "start_time": "2021-09-15T14:07:46.470Z"
   },
   {
    "duration": 6,
    "start_time": "2021-09-15T14:07:53.194Z"
   },
   {
    "duration": 102,
    "start_time": "2021-09-15T14:09:49.043Z"
   },
   {
    "duration": 92,
    "start_time": "2021-09-15T14:09:52.280Z"
   },
   {
    "duration": 263,
    "start_time": "2021-09-15T14:09:56.640Z"
   },
   {
    "duration": 296,
    "start_time": "2021-09-15T14:10:05.675Z"
   },
   {
    "duration": 595,
    "start_time": "2021-09-15T14:10:15.468Z"
   },
   {
    "duration": 6,
    "start_time": "2021-09-15T14:10:26.012Z"
   },
   {
    "duration": 6,
    "start_time": "2021-09-15T14:11:32.159Z"
   },
   {
    "duration": 5,
    "start_time": "2021-09-15T14:12:11.150Z"
   },
   {
    "duration": 5,
    "start_time": "2021-09-15T14:13:24.805Z"
   },
   {
    "duration": 6,
    "start_time": "2021-09-15T14:14:01.746Z"
   },
   {
    "duration": 303,
    "start_time": "2021-09-15T14:15:17.106Z"
   },
   {
    "duration": 448,
    "start_time": "2021-09-15T14:15:44.299Z"
   },
   {
    "duration": 226,
    "start_time": "2021-09-15T14:17:22.686Z"
   },
   {
    "duration": 325,
    "start_time": "2021-09-15T14:17:30.053Z"
   },
   {
    "duration": 317,
    "start_time": "2021-09-15T14:17:51.235Z"
   },
   {
    "duration": 276,
    "start_time": "2021-09-15T14:17:55.141Z"
   },
   {
    "duration": 264,
    "start_time": "2021-09-15T14:17:58.638Z"
   },
   {
    "duration": 536,
    "start_time": "2021-09-15T14:18:17.602Z"
   },
   {
    "duration": 5,
    "start_time": "2021-09-15T14:18:30.167Z"
   },
   {
    "duration": 126,
    "start_time": "2021-09-15T14:18:36.523Z"
   },
   {
    "duration": 544,
    "start_time": "2021-09-15T14:18:40.421Z"
   },
   {
    "duration": 8680,
    "start_time": "2021-09-15T14:18:54.000Z"
   },
   {
    "duration": 406,
    "start_time": "2021-09-16T07:08:57.924Z"
   },
   {
    "duration": 1716,
    "start_time": "2021-09-16T07:09:01.477Z"
   },
   {
    "duration": 19,
    "start_time": "2021-09-16T07:09:03.195Z"
   },
   {
    "duration": 10,
    "start_time": "2021-09-16T07:09:03.217Z"
   },
   {
    "duration": 24,
    "start_time": "2021-09-16T07:09:03.230Z"
   },
   {
    "duration": 7,
    "start_time": "2021-09-16T07:09:03.262Z"
   },
   {
    "duration": 26,
    "start_time": "2021-09-16T07:09:03.271Z"
   },
   {
    "duration": 30,
    "start_time": "2021-09-16T07:09:03.299Z"
   },
   {
    "duration": 22,
    "start_time": "2021-09-16T07:09:03.332Z"
   },
   {
    "duration": 14,
    "start_time": "2021-09-16T07:09:03.358Z"
   },
   {
    "duration": 8,
    "start_time": "2021-09-16T07:09:03.374Z"
   },
   {
    "duration": 3876,
    "start_time": "2021-09-16T07:09:03.385Z"
   },
   {
    "duration": 10953,
    "start_time": "2021-09-16T07:09:07.264Z"
   },
   {
    "duration": 260,
    "start_time": "2021-09-16T07:09:18.220Z"
   },
   {
    "duration": 5,
    "start_time": "2021-09-16T07:09:18.483Z"
   },
   {
    "duration": 1748,
    "start_time": "2021-09-16T07:10:01.668Z"
   },
   {
    "duration": 5,
    "start_time": "2021-09-16T07:10:55.303Z"
   },
   {
    "duration": 7,
    "start_time": "2021-09-16T07:11:13.527Z"
   },
   {
    "duration": 6,
    "start_time": "2021-09-16T07:11:39.309Z"
   },
   {
    "duration": 5,
    "start_time": "2021-09-16T07:12:02.790Z"
   },
   {
    "duration": 6,
    "start_time": "2021-09-16T07:12:52.671Z"
   },
   {
    "duration": 5,
    "start_time": "2021-09-16T07:13:00.251Z"
   },
   {
    "duration": 347,
    "start_time": "2021-09-16T07:13:19.301Z"
   },
   {
    "duration": 295,
    "start_time": "2021-09-16T07:13:25.380Z"
   },
   {
    "duration": 314,
    "start_time": "2021-09-16T07:13:34.250Z"
   },
   {
    "duration": 6,
    "start_time": "2021-09-16T07:13:38.948Z"
   },
   {
    "duration": 6,
    "start_time": "2021-09-16T07:14:09.227Z"
   },
   {
    "duration": 4,
    "start_time": "2021-09-16T07:15:00.557Z"
   },
   {
    "duration": 423,
    "start_time": "2021-09-16T07:15:04.604Z"
   },
   {
    "duration": 3,
    "start_time": "2021-09-16T07:15:11.609Z"
   },
   {
    "duration": 261,
    "start_time": "2021-09-16T07:16:20.568Z"
   },
   {
    "duration": 18,
    "start_time": "2021-09-16T07:18:49.929Z"
   },
   {
    "duration": 1730,
    "start_time": "2021-09-16T07:18:54.373Z"
   },
   {
    "duration": 5805,
    "start_time": "2021-09-16T07:19:01.357Z"
   },
   {
    "duration": 251,
    "start_time": "2021-09-16T07:19:15.448Z"
   },
   {
    "duration": 7,
    "start_time": "2021-09-16T07:19:36.325Z"
   },
   {
    "duration": 1746,
    "start_time": "2021-09-16T07:19:40.936Z"
   },
   {
    "duration": 5806,
    "start_time": "2021-09-16T07:19:56.256Z"
   },
   {
    "duration": 844,
    "start_time": "2021-09-16T07:24:04.877Z"
   },
   {
    "duration": 227,
    "start_time": "2021-09-16T07:24:11.541Z"
   },
   {
    "duration": 1520,
    "start_time": "2021-09-16T07:24:18.233Z"
   },
   {
    "duration": 19,
    "start_time": "2021-09-16T07:24:20.319Z"
   },
   {
    "duration": 10,
    "start_time": "2021-09-16T07:24:21.362Z"
   },
   {
    "duration": 17,
    "start_time": "2021-09-16T07:24:21.976Z"
   },
   {
    "duration": 8,
    "start_time": "2021-09-16T07:24:26.320Z"
   },
   {
    "duration": 5,
    "start_time": "2021-09-16T07:24:32.976Z"
   },
   {
    "duration": 10,
    "start_time": "2021-09-16T07:24:41.877Z"
   },
   {
    "duration": 5,
    "start_time": "2021-09-16T07:24:43.273Z"
   },
   {
    "duration": 4,
    "start_time": "2021-09-16T07:24:47.210Z"
   },
   {
    "duration": 1890,
    "start_time": "2021-09-16T07:24:47.917Z"
   },
   {
    "duration": 473,
    "start_time": "2021-09-16T07:25:17.904Z"
   },
   {
    "duration": 5011,
    "start_time": "2021-09-16T07:25:29.429Z"
   },
   {
    "duration": 2134,
    "start_time": "2021-09-16T07:25:52.308Z"
   },
   {
    "duration": 3702,
    "start_time": "2021-09-16T07:26:32.163Z"
   },
   {
    "duration": 3738,
    "start_time": "2021-09-16T07:26:47.650Z"
   },
   {
    "duration": 3678,
    "start_time": "2021-09-16T07:27:01.405Z"
   },
   {
    "duration": 243,
    "start_time": "2021-09-16T07:27:19.641Z"
   },
   {
    "duration": 3972,
    "start_time": "2021-09-16T07:28:06.042Z"
   },
   {
    "duration": 4,
    "start_time": "2021-09-16T07:28:30.307Z"
   },
   {
    "duration": 3770,
    "start_time": "2021-09-16T07:28:31.236Z"
   },
   {
    "duration": 5812,
    "start_time": "2021-09-16T07:28:55.527Z"
   },
   {
    "duration": 5231,
    "start_time": "2021-09-16T07:29:08.202Z"
   },
   {
    "duration": 243,
    "start_time": "2021-09-16T07:29:19.288Z"
   },
   {
    "duration": 6,
    "start_time": "2021-09-16T07:29:25.987Z"
   },
   {
    "duration": 8,
    "start_time": "2021-09-16T07:29:38.106Z"
   },
   {
    "duration": 3,
    "start_time": "2021-09-16T07:29:41.043Z"
   },
   {
    "duration": 3721,
    "start_time": "2021-09-16T07:29:42.800Z"
   },
   {
    "duration": 5151,
    "start_time": "2021-09-16T07:29:52.491Z"
   },
   {
    "duration": 238,
    "start_time": "2021-09-16T07:30:03.565Z"
   },
   {
    "duration": 293,
    "start_time": "2021-09-16T07:30:29.463Z"
   },
   {
    "duration": 7,
    "start_time": "2021-09-16T07:31:00.197Z"
   },
   {
    "duration": 15,
    "start_time": "2021-09-16T07:31:21.217Z"
   },
   {
    "duration": 5,
    "start_time": "2021-09-16T07:36:36.222Z"
   },
   {
    "duration": 5,
    "start_time": "2021-09-16T07:36:41.542Z"
   },
   {
    "duration": 5,
    "start_time": "2021-09-16T07:37:18.612Z"
   },
   {
    "duration": 16,
    "start_time": "2021-09-16T07:38:38.859Z"
   },
   {
    "duration": 3,
    "start_time": "2021-09-16T07:49:59.894Z"
   },
   {
    "duration": 452,
    "start_time": "2021-09-16T07:52:13.948Z"
   },
   {
    "duration": 270,
    "start_time": "2021-09-16T07:52:36.595Z"
   },
   {
    "duration": 355,
    "start_time": "2021-09-16T07:53:20.095Z"
   },
   {
    "duration": 7,
    "start_time": "2021-09-16T07:53:29.196Z"
   },
   {
    "duration": 18,
    "start_time": "2021-09-16T07:53:34.608Z"
   },
   {
    "duration": 18,
    "start_time": "2021-09-16T07:53:57.848Z"
   },
   {
    "duration": 7,
    "start_time": "2021-09-16T07:54:01.153Z"
   },
   {
    "duration": 23,
    "start_time": "2021-09-16T07:54:55.013Z"
   },
   {
    "duration": 11,
    "start_time": "2021-09-16T07:55:02.157Z"
   },
   {
    "duration": 267,
    "start_time": "2021-09-16T07:55:33.029Z"
   },
   {
    "duration": 4,
    "start_time": "2021-09-16T07:55:49.030Z"
   },
   {
    "duration": 17,
    "start_time": "2021-09-16T07:55:51.504Z"
   },
   {
    "duration": 15,
    "start_time": "2021-09-16T07:56:16.399Z"
   },
   {
    "duration": 297,
    "start_time": "2021-09-16T07:56:19.613Z"
   },
   {
    "duration": 23,
    "start_time": "2021-09-16T07:56:41.868Z"
   },
   {
    "duration": 10,
    "start_time": "2021-09-16T07:57:31.712Z"
   },
   {
    "duration": 17,
    "start_time": "2021-09-16T07:57:33.406Z"
   },
   {
    "duration": 19,
    "start_time": "2021-09-16T07:57:51.806Z"
   },
   {
    "duration": 9,
    "start_time": "2021-09-16T08:01:25.751Z"
   },
   {
    "duration": 26,
    "start_time": "2021-09-16T08:01:26.487Z"
   },
   {
    "duration": 18416,
    "start_time": "2021-09-16T08:03:05.680Z"
   },
   {
    "duration": 81,
    "start_time": "2021-09-16T08:12:06.963Z"
   },
   {
    "duration": 87,
    "start_time": "2021-09-16T08:12:29.786Z"
   },
   {
    "duration": 132,
    "start_time": "2021-09-16T08:13:16.409Z"
   },
   {
    "duration": 132,
    "start_time": "2021-09-16T08:13:22.491Z"
   },
   {
    "duration": 6,
    "start_time": "2021-09-16T08:21:45.226Z"
   },
   {
    "duration": 246,
    "start_time": "2021-09-16T08:21:50.778Z"
   },
   {
    "duration": 5,
    "start_time": "2021-09-16T08:21:55.947Z"
   },
   {
    "duration": 810,
    "start_time": "2021-09-16T08:22:03.406Z"
   },
   {
    "duration": 715,
    "start_time": "2021-09-16T08:22:14.696Z"
   },
   {
    "duration": 7,
    "start_time": "2021-09-16T08:22:34.204Z"
   },
   {
    "duration": 292,
    "start_time": "2021-09-16T08:22:38.739Z"
   },
   {
    "duration": 8,
    "start_time": "2021-09-16T08:22:41.352Z"
   },
   {
    "duration": 277,
    "start_time": "2021-09-16T08:22:55.224Z"
   },
   {
    "duration": 7,
    "start_time": "2021-09-16T08:23:02.434Z"
   },
   {
    "duration": 7,
    "start_time": "2021-09-16T08:23:13.835Z"
   },
   {
    "duration": 4,
    "start_time": "2021-09-16T08:23:21.495Z"
   },
   {
    "duration": 327,
    "start_time": "2021-09-16T08:23:23.051Z"
   },
   {
    "duration": 296,
    "start_time": "2021-09-16T08:23:31.991Z"
   },
   {
    "duration": 8,
    "start_time": "2021-09-16T08:23:41.614Z"
   },
   {
    "duration": 803,
    "start_time": "2021-09-16T08:24:43.827Z"
   },
   {
    "duration": 568,
    "start_time": "2021-09-16T08:24:47.562Z"
   },
   {
    "duration": 1054,
    "start_time": "2021-09-16T08:24:54.023Z"
   },
   {
    "duration": 4065,
    "start_time": "2021-09-16T08:24:58.132Z"
   },
   {
    "duration": 3081,
    "start_time": "2021-09-16T08:25:27.095Z"
   },
   {
    "duration": 7,
    "start_time": "2021-09-16T08:26:46.009Z"
   },
   {
    "duration": 8,
    "start_time": "2021-09-16T08:26:56.129Z"
   },
   {
    "duration": 7,
    "start_time": "2021-09-16T08:28:17.825Z"
   },
   {
    "duration": 7,
    "start_time": "2021-09-16T08:28:35.374Z"
   },
   {
    "duration": 7,
    "start_time": "2021-09-16T08:28:39.803Z"
   },
   {
    "duration": 8,
    "start_time": "2021-09-16T08:28:54.075Z"
   },
   {
    "duration": 1428,
    "start_time": "2021-09-16T08:32:40.378Z"
   },
   {
    "duration": 19,
    "start_time": "2021-09-16T08:32:41.809Z"
   },
   {
    "duration": 10,
    "start_time": "2021-09-16T08:32:41.831Z"
   },
   {
    "duration": 37,
    "start_time": "2021-09-16T08:32:41.844Z"
   },
   {
    "duration": 3,
    "start_time": "2021-09-16T08:32:41.883Z"
   },
   {
    "duration": 11,
    "start_time": "2021-09-16T08:32:41.888Z"
   },
   {
    "duration": 6,
    "start_time": "2021-09-16T08:32:41.901Z"
   },
   {
    "duration": 20,
    "start_time": "2021-09-16T08:32:41.909Z"
   },
   {
    "duration": 4,
    "start_time": "2021-09-16T08:32:41.933Z"
   },
   {
    "duration": 12,
    "start_time": "2021-09-16T08:32:41.963Z"
   },
   {
    "duration": 3749,
    "start_time": "2021-09-16T08:32:41.977Z"
   },
   {
    "duration": 5121,
    "start_time": "2021-09-16T08:32:45.728Z"
   },
   {
    "duration": 268,
    "start_time": "2021-09-16T08:32:50.852Z"
   },
   {
    "duration": 7,
    "start_time": "2021-09-16T08:32:51.122Z"
   },
   {
    "duration": 8,
    "start_time": "2021-09-16T08:32:51.131Z"
   },
   {
    "duration": 27,
    "start_time": "2021-09-16T08:32:51.163Z"
   },
   {
    "duration": 62,
    "start_time": "2021-09-16T08:32:51.193Z"
   },
   {
    "duration": 14,
    "start_time": "2021-09-16T08:36:09.277Z"
   },
   {
    "duration": 4,
    "start_time": "2021-09-16T08:41:55.774Z"
   },
   {
    "duration": 5704,
    "start_time": "2021-09-16T09:00:41.608Z"
   },
   {
    "duration": 3274,
    "start_time": "2021-09-16T09:20:31.341Z"
   },
   {
    "duration": 23,
    "start_time": "2021-09-16T09:20:34.618Z"
   },
   {
    "duration": 26,
    "start_time": "2021-09-16T09:20:34.645Z"
   },
   {
    "duration": 30,
    "start_time": "2021-09-16T09:20:34.674Z"
   },
   {
    "duration": 4,
    "start_time": "2021-09-16T09:20:34.706Z"
   },
   {
    "duration": 22,
    "start_time": "2021-09-16T09:20:34.712Z"
   },
   {
    "duration": 5,
    "start_time": "2021-09-16T09:20:34.763Z"
   },
   {
    "duration": 17,
    "start_time": "2021-09-16T09:20:34.772Z"
   },
   {
    "duration": 12,
    "start_time": "2021-09-16T09:20:34.792Z"
   },
   {
    "duration": 22,
    "start_time": "2021-09-16T09:20:34.807Z"
   },
   {
    "duration": 4022,
    "start_time": "2021-09-16T09:20:34.831Z"
   },
   {
    "duration": 5233,
    "start_time": "2021-09-16T09:20:38.856Z"
   },
   {
    "duration": 274,
    "start_time": "2021-09-16T09:20:44.092Z"
   },
   {
    "duration": 8,
    "start_time": "2021-09-16T09:20:44.369Z"
   },
   {
    "duration": 16,
    "start_time": "2021-09-16T09:20:44.379Z"
   },
   {
    "duration": 53,
    "start_time": "2021-09-16T09:20:44.398Z"
   },
   {
    "duration": 68,
    "start_time": "2021-09-16T09:20:44.454Z"
   },
   {
    "duration": 4,
    "start_time": "2021-09-16T09:22:14.590Z"
   },
   {
    "duration": 65,
    "start_time": "2021-09-16T09:22:14.597Z"
   },
   {
    "duration": 27,
    "start_time": "2021-09-16T09:22:14.665Z"
   },
   {
    "duration": 36,
    "start_time": "2021-09-16T09:22:14.696Z"
   },
   {
    "duration": 31,
    "start_time": "2021-09-16T09:22:14.734Z"
   },
   {
    "duration": 35,
    "start_time": "2021-09-16T09:22:14.767Z"
   },
   {
    "duration": 62,
    "start_time": "2021-09-16T09:22:14.804Z"
   },
   {
    "duration": 30,
    "start_time": "2021-09-16T09:22:14.871Z"
   },
   {
    "duration": 25,
    "start_time": "2021-09-16T09:22:14.904Z"
   },
   {
    "duration": 50,
    "start_time": "2021-09-16T09:22:14.932Z"
   },
   {
    "duration": 4437,
    "start_time": "2021-09-16T09:22:14.985Z"
   },
   {
    "duration": 5233,
    "start_time": "2021-09-16T09:22:19.424Z"
   },
   {
    "duration": 259,
    "start_time": "2021-09-16T09:22:24.663Z"
   },
   {
    "duration": 7,
    "start_time": "2021-09-16T09:22:24.925Z"
   },
   {
    "duration": 27,
    "start_time": "2021-09-16T09:22:24.934Z"
   },
   {
    "duration": 44,
    "start_time": "2021-09-16T09:22:24.964Z"
   },
   {
    "duration": 67,
    "start_time": "2021-09-16T09:22:25.010Z"
   },
   {
    "duration": 1321,
    "start_time": "2021-09-16T09:22:46.878Z"
   },
   {
    "duration": 20,
    "start_time": "2021-09-16T09:22:48.202Z"
   },
   {
    "duration": 10,
    "start_time": "2021-09-16T09:22:48.226Z"
   },
   {
    "duration": 42,
    "start_time": "2021-09-16T09:22:48.238Z"
   },
   {
    "duration": 14,
    "start_time": "2021-09-16T09:22:48.283Z"
   },
   {
    "duration": 7,
    "start_time": "2021-09-16T09:22:48.300Z"
   },
   {
    "duration": 53,
    "start_time": "2021-09-16T09:22:48.309Z"
   },
   {
    "duration": 5,
    "start_time": "2021-09-16T09:22:48.366Z"
   },
   {
    "duration": 11,
    "start_time": "2021-09-16T09:22:48.374Z"
   },
   {
    "duration": 3882,
    "start_time": "2021-09-16T09:22:48.388Z"
   },
   {
    "duration": 5225,
    "start_time": "2021-09-16T09:22:52.273Z"
   },
   {
    "duration": 310,
    "start_time": "2021-09-16T09:22:57.500Z"
   },
   {
    "duration": 7,
    "start_time": "2021-09-16T09:22:57.812Z"
   },
   {
    "duration": 24,
    "start_time": "2021-09-16T09:22:57.821Z"
   },
   {
    "duration": 34,
    "start_time": "2021-09-16T09:22:57.848Z"
   },
   {
    "duration": 77,
    "start_time": "2021-09-16T09:22:57.885Z"
   },
   {
    "duration": 1354,
    "start_time": "2021-09-16T09:45:32.265Z"
   },
   {
    "duration": 22,
    "start_time": "2021-09-16T09:45:34.917Z"
   },
   {
    "duration": 11,
    "start_time": "2021-09-16T09:45:37.264Z"
   },
   {
    "duration": 23,
    "start_time": "2021-09-16T09:45:37.789Z"
   },
   {
    "duration": 14,
    "start_time": "2021-09-16T09:45:39.118Z"
   },
   {
    "duration": 5,
    "start_time": "2021-09-16T09:46:33.623Z"
   },
   {
    "duration": 10,
    "start_time": "2021-09-16T09:46:34.294Z"
   },
   {
    "duration": 4,
    "start_time": "2021-09-16T09:46:35.598Z"
   },
   {
    "duration": 3,
    "start_time": "2021-09-16T09:48:30.977Z"
   },
   {
    "duration": 3823,
    "start_time": "2021-09-16T09:48:45.228Z"
   },
   {
    "duration": 5128,
    "start_time": "2021-09-16T10:15:50.886Z"
   },
   {
    "duration": 257,
    "start_time": "2021-09-16T10:15:56.017Z"
   },
   {
    "duration": 7,
    "start_time": "2021-09-16T10:15:56.276Z"
   },
   {
    "duration": 10,
    "start_time": "2021-09-16T10:15:56.285Z"
   },
   {
    "duration": 24,
    "start_time": "2021-09-16T10:15:56.297Z"
   },
   {
    "duration": 60,
    "start_time": "2021-09-16T10:15:57.748Z"
   },
   {
    "duration": 325,
    "start_time": "2021-09-16T11:28:14.531Z"
   },
   {
    "duration": 1394,
    "start_time": "2021-09-16T11:28:26.058Z"
   },
   {
    "duration": 19,
    "start_time": "2021-09-16T11:28:27.455Z"
   },
   {
    "duration": 12,
    "start_time": "2021-09-16T11:28:27.477Z"
   },
   {
    "duration": 29,
    "start_time": "2021-09-16T11:28:27.493Z"
   },
   {
    "duration": 15,
    "start_time": "2021-09-16T11:28:27.525Z"
   },
   {
    "duration": 4904,
    "start_time": "2021-09-16T11:28:27.543Z"
   },
   {
    "duration": 7,
    "start_time": "2021-09-16T11:28:32.449Z"
   },
   {
    "duration": 12,
    "start_time": "2021-09-16T11:28:32.482Z"
   },
   {
    "duration": 19,
    "start_time": "2021-09-16T11:28:32.497Z"
   },
   {
    "duration": 15,
    "start_time": "2021-09-16T11:28:32.518Z"
   },
   {
    "duration": 3914,
    "start_time": "2021-09-16T11:28:32.535Z"
   },
   {
    "duration": 5660,
    "start_time": "2021-09-16T11:28:36.452Z"
   },
   {
    "duration": 280,
    "start_time": "2021-09-16T11:28:42.115Z"
   },
   {
    "duration": 7,
    "start_time": "2021-09-16T11:28:42.397Z"
   },
   {
    "duration": 7,
    "start_time": "2021-09-16T11:28:42.407Z"
   },
   {
    "duration": 18,
    "start_time": "2021-09-16T11:28:42.416Z"
   },
   {
    "duration": 106,
    "start_time": "2021-09-16T11:28:42.436Z"
   },
   {
    "duration": 470,
    "start_time": "2021-09-16T11:29:06.861Z"
   },
   {
    "duration": 2871,
    "start_time": "2021-09-16T11:29:14.887Z"
   },
   {
    "duration": 3464,
    "start_time": "2021-09-16T12:53:44.167Z"
   },
   {
    "duration": 3524,
    "start_time": "2021-09-16T12:54:01.202Z"
   },
   {
    "duration": 299,
    "start_time": "2021-09-16T12:55:00.916Z"
   },
   {
    "duration": 6,
    "start_time": "2021-09-16T12:55:08.520Z"
   },
   {
    "duration": 2193,
    "start_time": "2021-09-16T12:55:12.607Z"
   },
   {
    "duration": 1412,
    "start_time": "2021-09-16T12:55:36.365Z"
   },
   {
    "duration": 26,
    "start_time": "2021-09-16T12:55:37.782Z"
   },
   {
    "duration": 13,
    "start_time": "2021-09-16T12:55:37.812Z"
   },
   {
    "duration": 30,
    "start_time": "2021-09-16T12:55:37.828Z"
   },
   {
    "duration": 32,
    "start_time": "2021-09-16T12:55:37.860Z"
   },
   {
    "duration": 3389,
    "start_time": "2021-09-16T12:55:37.895Z"
   },
   {
    "duration": 6,
    "start_time": "2021-09-16T12:55:41.287Z"
   },
   {
    "duration": 15,
    "start_time": "2021-09-16T12:55:41.297Z"
   },
   {
    "duration": 15,
    "start_time": "2021-09-16T12:55:41.315Z"
   },
   {
    "duration": 7,
    "start_time": "2021-09-16T12:55:41.332Z"
   },
   {
    "duration": 44,
    "start_time": "2021-09-16T12:55:41.342Z"
   },
   {
    "duration": 3883,
    "start_time": "2021-09-16T12:55:41.390Z"
   },
   {
    "duration": 5173,
    "start_time": "2021-09-16T12:55:45.283Z"
   },
   {
    "duration": 298,
    "start_time": "2021-09-16T12:55:50.459Z"
   },
   {
    "duration": 9,
    "start_time": "2021-09-16T12:55:50.759Z"
   },
   {
    "duration": 17,
    "start_time": "2021-09-16T12:55:50.782Z"
   },
   {
    "duration": 25,
    "start_time": "2021-09-16T12:55:50.802Z"
   },
   {
    "duration": 69,
    "start_time": "2021-09-16T12:55:50.830Z"
   },
   {
    "duration": 1626,
    "start_time": "2021-09-16T12:56:47.480Z"
   },
   {
    "duration": 29,
    "start_time": "2021-09-16T12:56:49.110Z"
   },
   {
    "duration": 22,
    "start_time": "2021-09-16T12:56:49.152Z"
   },
   {
    "duration": 47,
    "start_time": "2021-09-16T12:56:49.188Z"
   },
   {
    "duration": 13,
    "start_time": "2021-09-16T12:56:49.246Z"
   },
   {
    "duration": 3422,
    "start_time": "2021-09-16T12:56:49.262Z"
   },
   {
    "duration": 7,
    "start_time": "2021-09-16T12:56:52.687Z"
   },
   {
    "duration": 27,
    "start_time": "2021-09-16T12:56:52.700Z"
   },
   {
    "duration": 28,
    "start_time": "2021-09-16T12:56:52.731Z"
   },
   {
    "duration": 6,
    "start_time": "2021-09-16T12:56:52.762Z"
   },
   {
    "duration": 25,
    "start_time": "2021-09-16T12:56:52.770Z"
   },
   {
    "duration": 3324,
    "start_time": "2021-09-16T12:56:52.798Z"
   },
   {
    "duration": 4632,
    "start_time": "2021-09-16T12:56:56.124Z"
   },
   {
    "duration": 275,
    "start_time": "2021-09-16T12:57:00.759Z"
   },
   {
    "duration": 7,
    "start_time": "2021-09-16T12:57:01.037Z"
   },
   {
    "duration": 39,
    "start_time": "2021-09-16T12:57:01.046Z"
   },
   {
    "duration": 64,
    "start_time": "2021-09-16T12:57:01.089Z"
   },
   {
    "duration": 82,
    "start_time": "2021-09-16T12:57:01.156Z"
   },
   {
    "duration": 1366,
    "start_time": "2021-09-16T12:57:53.083Z"
   },
   {
    "duration": 20,
    "start_time": "2021-09-16T12:57:54.452Z"
   },
   {
    "duration": 17,
    "start_time": "2021-09-16T12:57:54.475Z"
   },
   {
    "duration": 25,
    "start_time": "2021-09-16T12:57:54.496Z"
   },
   {
    "duration": 24,
    "start_time": "2021-09-16T12:57:54.524Z"
   },
   {
    "duration": 3576,
    "start_time": "2021-09-16T12:57:54.551Z"
   },
   {
    "duration": 4,
    "start_time": "2021-09-16T12:57:58.130Z"
   },
   {
    "duration": 16,
    "start_time": "2021-09-16T12:57:58.137Z"
   },
   {
    "duration": 33,
    "start_time": "2021-09-16T12:57:58.155Z"
   },
   {
    "duration": 5,
    "start_time": "2021-09-16T12:57:58.194Z"
   },
   {
    "duration": 6,
    "start_time": "2021-09-16T12:57:58.202Z"
   },
   {
    "duration": 3907,
    "start_time": "2021-09-16T12:57:58.210Z"
   },
   {
    "duration": 4591,
    "start_time": "2021-09-16T12:58:02.119Z"
   },
   {
    "duration": 250,
    "start_time": "2021-09-16T12:58:06.712Z"
   },
   {
    "duration": 23,
    "start_time": "2021-09-16T12:58:06.965Z"
   },
   {
    "duration": 9,
    "start_time": "2021-09-16T12:58:06.991Z"
   },
   {
    "duration": 15,
    "start_time": "2021-09-16T12:58:07.003Z"
   },
   {
    "duration": 69,
    "start_time": "2021-09-16T12:58:07.022Z"
   },
   {
    "duration": 1462,
    "start_time": "2021-09-16T12:59:33.137Z"
   },
   {
    "duration": 21,
    "start_time": "2021-09-16T12:59:34.602Z"
   },
   {
    "duration": 12,
    "start_time": "2021-09-16T12:59:34.626Z"
   },
   {
    "duration": 45,
    "start_time": "2021-09-16T12:59:34.641Z"
   },
   {
    "duration": 15,
    "start_time": "2021-09-16T12:59:34.689Z"
   },
   {
    "duration": 3394,
    "start_time": "2021-09-16T12:59:34.706Z"
   },
   {
    "duration": 5,
    "start_time": "2021-09-16T12:59:38.102Z"
   },
   {
    "duration": 18,
    "start_time": "2021-09-16T12:59:38.111Z"
   },
   {
    "duration": 8,
    "start_time": "2021-09-16T12:59:38.132Z"
   },
   {
    "duration": 11,
    "start_time": "2021-09-16T12:59:38.142Z"
   },
   {
    "duration": 4044,
    "start_time": "2021-09-16T12:59:38.155Z"
   },
   {
    "duration": 4657,
    "start_time": "2021-09-16T12:59:42.202Z"
   },
   {
    "duration": 258,
    "start_time": "2021-09-16T12:59:46.861Z"
   },
   {
    "duration": 7,
    "start_time": "2021-09-16T12:59:47.122Z"
   },
   {
    "duration": 11,
    "start_time": "2021-09-16T12:59:47.132Z"
   },
   {
    "duration": 38,
    "start_time": "2021-09-16T12:59:47.146Z"
   },
   {
    "duration": 541,
    "start_time": "2021-09-16T12:59:47.187Z"
   },
   {
    "duration": 3932,
    "start_time": "2021-09-16T13:01:03.685Z"
   },
   {
    "duration": 10726,
    "start_time": "2021-09-16T13:01:17.782Z"
   },
   {
    "duration": 253,
    "start_time": "2021-09-16T13:02:54.297Z"
   },
   {
    "duration": 14,
    "start_time": "2021-09-16T13:03:37.742Z"
   },
   {
    "duration": 17,
    "start_time": "2021-09-16T13:03:51.819Z"
   },
   {
    "duration": 22,
    "start_time": "2021-09-16T13:04:01.599Z"
   },
   {
    "duration": 5,
    "start_time": "2021-09-16T13:04:10.154Z"
   },
   {
    "duration": 15,
    "start_time": "2021-09-16T13:04:14.921Z"
   },
   {
    "duration": 4,
    "start_time": "2021-09-16T13:04:20.413Z"
   },
   {
    "duration": 44,
    "start_time": "2021-09-16T13:04:20.420Z"
   },
   {
    "duration": 12,
    "start_time": "2021-09-16T13:04:20.467Z"
   },
   {
    "duration": 37,
    "start_time": "2021-09-16T13:04:20.482Z"
   },
   {
    "duration": 23,
    "start_time": "2021-09-16T13:04:20.521Z"
   },
   {
    "duration": 3271,
    "start_time": "2021-09-16T13:04:20.547Z"
   },
   {
    "duration": 6,
    "start_time": "2021-09-16T13:04:23.820Z"
   },
   {
    "duration": 19,
    "start_time": "2021-09-16T13:04:23.829Z"
   },
   {
    "duration": 8,
    "start_time": "2021-09-16T13:04:23.851Z"
   },
   {
    "duration": 4,
    "start_time": "2021-09-16T13:04:23.885Z"
   },
   {
    "duration": 3713,
    "start_time": "2021-09-16T13:04:23.892Z"
   },
   {
    "duration": 4652,
    "start_time": "2021-09-16T13:04:27.607Z"
   },
   {
    "duration": 257,
    "start_time": "2021-09-16T13:04:32.261Z"
   },
   {
    "duration": 6,
    "start_time": "2021-09-16T13:04:32.521Z"
   },
   {
    "duration": 14,
    "start_time": "2021-09-16T13:04:32.530Z"
   },
   {
    "duration": 20,
    "start_time": "2021-09-16T13:04:32.547Z"
   },
   {
    "duration": 14,
    "start_time": "2021-09-16T13:04:41.448Z"
   },
   {
    "duration": 311,
    "start_time": "2021-09-16T13:04:48.744Z"
   },
   {
    "duration": 389,
    "start_time": "2021-09-16T13:05:21.642Z"
   },
   {
    "duration": 306,
    "start_time": "2021-09-16T13:05:50.062Z"
   },
   {
    "duration": 377,
    "start_time": "2021-09-16T13:06:04.925Z"
   },
   {
    "duration": 6,
    "start_time": "2021-09-16T13:06:13.996Z"
   },
   {
    "duration": 314,
    "start_time": "2021-09-16T13:06:40.038Z"
   },
   {
    "duration": 19,
    "start_time": "2021-09-16T13:08:28.795Z"
   },
   {
    "duration": 17,
    "start_time": "2021-09-16T13:08:35.735Z"
   },
   {
    "duration": 18,
    "start_time": "2021-09-16T13:08:39.723Z"
   },
   {
    "duration": 335,
    "start_time": "2021-09-16T13:09:25.816Z"
   },
   {
    "duration": 14,
    "start_time": "2021-09-16T13:09:44.840Z"
   },
   {
    "duration": 477,
    "start_time": "2021-09-16T13:11:04.564Z"
   },
   {
    "duration": 7,
    "start_time": "2021-09-16T13:12:03.005Z"
   },
   {
    "duration": 921,
    "start_time": "2021-09-16T13:12:03.896Z"
   },
   {
    "duration": 354,
    "start_time": "2021-09-16T13:17:55.221Z"
   },
   {
    "duration": 17,
    "start_time": "2021-09-16T13:18:04.196Z"
   },
   {
    "duration": 19,
    "start_time": "2021-09-16T13:18:08.430Z"
   },
   {
    "duration": 13,
    "start_time": "2021-09-16T13:18:20.066Z"
   },
   {
    "duration": 25,
    "start_time": "2021-09-16T13:19:01.677Z"
   },
   {
    "duration": 28,
    "start_time": "2021-09-16T13:19:37.026Z"
   },
   {
    "duration": 8,
    "start_time": "2021-09-16T13:19:52.531Z"
   },
   {
    "duration": 1322,
    "start_time": "2021-09-16T13:19:53.192Z"
   },
   {
    "duration": 328,
    "start_time": "2021-09-16T13:20:32.580Z"
   },
   {
    "duration": 285,
    "start_time": "2021-09-16T13:20:46.500Z"
   },
   {
    "duration": 39,
    "start_time": "2021-09-16T13:21:10.364Z"
   },
   {
    "duration": 45,
    "start_time": "2021-09-16T13:21:29.472Z"
   },
   {
    "duration": 6,
    "start_time": "2021-09-16T13:21:43.069Z"
   },
   {
    "duration": 41,
    "start_time": "2021-09-16T13:21:49.888Z"
   },
   {
    "duration": 7,
    "start_time": "2021-09-16T13:21:56.833Z"
   },
   {
    "duration": 38,
    "start_time": "2021-09-16T13:21:57.602Z"
   },
   {
    "duration": 3753,
    "start_time": "2021-09-16T13:23:45.185Z"
   },
   {
    "duration": 1218,
    "start_time": "2021-09-16T13:24:00.537Z"
   },
   {
    "duration": 14,
    "start_time": "2021-09-16T13:24:17.278Z"
   },
   {
    "duration": 7,
    "start_time": "2021-09-16T13:25:09.862Z"
   },
   {
    "duration": 11,
    "start_time": "2021-09-16T13:25:25.629Z"
   },
   {
    "duration": 12,
    "start_time": "2021-09-16T13:25:35.138Z"
   },
   {
    "duration": 12,
    "start_time": "2021-09-16T13:27:29.560Z"
   },
   {
    "duration": 8,
    "start_time": "2021-09-16T13:27:50.376Z"
   },
   {
    "duration": 8,
    "start_time": "2021-09-16T13:27:59.312Z"
   },
   {
    "duration": 5,
    "start_time": "2021-09-16T13:30:42.047Z"
   },
   {
    "duration": 29,
    "start_time": "2021-09-16T13:30:42.054Z"
   },
   {
    "duration": 13,
    "start_time": "2021-09-16T13:30:42.087Z"
   },
   {
    "duration": 18,
    "start_time": "2021-09-16T13:30:42.111Z"
   },
   {
    "duration": 8,
    "start_time": "2021-09-16T13:30:42.132Z"
   },
   {
    "duration": 3275,
    "start_time": "2021-09-16T13:30:42.142Z"
   },
   {
    "duration": 13,
    "start_time": "2021-09-16T13:30:45.419Z"
   },
   {
    "duration": 7,
    "start_time": "2021-09-16T13:30:45.436Z"
   },
   {
    "duration": 45,
    "start_time": "2021-09-16T13:30:45.446Z"
   },
   {
    "duration": 12,
    "start_time": "2021-09-16T13:30:45.495Z"
   },
   {
    "duration": 14,
    "start_time": "2021-09-16T13:30:45.510Z"
   },
   {
    "duration": 3755,
    "start_time": "2021-09-16T13:30:45.527Z"
   },
   {
    "duration": 4812,
    "start_time": "2021-09-16T13:30:49.285Z"
   },
   {
    "duration": 246,
    "start_time": "2021-09-16T13:30:54.100Z"
   },
   {
    "duration": 7,
    "start_time": "2021-09-16T13:30:54.349Z"
   },
   {
    "duration": 26,
    "start_time": "2021-09-16T13:30:54.358Z"
   },
   {
    "duration": 23,
    "start_time": "2021-09-16T13:30:54.388Z"
   },
   {
    "duration": 35,
    "start_time": "2021-09-16T13:30:54.414Z"
   },
   {
    "duration": 81,
    "start_time": "2021-09-16T13:30:54.451Z"
   },
   {
    "duration": 14,
    "start_time": "2021-09-16T13:51:53.836Z"
   },
   {
    "duration": 18,
    "start_time": "2021-09-16T13:52:04.520Z"
   },
   {
    "duration": 299,
    "start_time": "2021-09-16T13:59:59.549Z"
   },
   {
    "duration": 16,
    "start_time": "2021-09-16T14:00:17.508Z"
   },
   {
    "duration": 5,
    "start_time": "2021-09-16T14:00:59.110Z"
   },
   {
    "duration": 82,
    "start_time": "2021-09-16T14:01:59.101Z"
   },
   {
    "duration": 5839,
    "start_time": "2021-09-16T14:02:31.304Z"
   },
   {
    "duration": 179,
    "start_time": "2021-09-16T14:03:57.640Z"
   },
   {
    "duration": 376,
    "start_time": "2021-09-16T14:13:11.225Z"
   },
   {
    "duration": 14,
    "start_time": "2021-09-16T14:13:54.955Z"
   },
   {
    "duration": 16,
    "start_time": "2021-09-16T14:14:07.734Z"
   },
   {
    "duration": 10,
    "start_time": "2021-09-16T14:14:45.860Z"
   },
   {
    "duration": 5,
    "start_time": "2021-09-16T14:17:51.577Z"
   },
   {
    "duration": 8,
    "start_time": "2021-09-16T14:18:04.326Z"
   },
   {
    "duration": 6,
    "start_time": "2021-09-16T14:18:17.564Z"
   },
   {
    "duration": 7,
    "start_time": "2021-09-16T14:18:32.959Z"
   },
   {
    "duration": 9,
    "start_time": "2021-09-16T14:18:40.889Z"
   },
   {
    "duration": 13,
    "start_time": "2021-09-16T14:21:48.950Z"
   },
   {
    "duration": 11,
    "start_time": "2021-09-16T14:21:53.934Z"
   },
   {
    "duration": 254,
    "start_time": "2021-09-16T14:23:24.038Z"
   },
   {
    "duration": 6,
    "start_time": "2021-09-16T14:23:26.730Z"
   },
   {
    "duration": 231,
    "start_time": "2021-09-16T14:23:35.537Z"
   },
   {
    "duration": 255,
    "start_time": "2021-09-16T14:23:48.836Z"
   },
   {
    "duration": 259,
    "start_time": "2021-09-16T14:23:53.895Z"
   },
   {
    "duration": 6,
    "start_time": "2021-09-16T14:23:57.557Z"
   },
   {
    "duration": 8,
    "start_time": "2021-09-16T14:24:44.074Z"
   },
   {
    "duration": 8,
    "start_time": "2021-09-16T14:24:54.569Z"
   },
   {
    "duration": 8,
    "start_time": "2021-09-16T14:24:58.048Z"
   },
   {
    "duration": 12,
    "start_time": "2021-09-16T14:25:01.586Z"
   },
   {
    "duration": 8,
    "start_time": "2021-09-16T14:25:05.608Z"
   },
   {
    "duration": 9,
    "start_time": "2021-09-16T14:25:24.247Z"
   },
   {
    "duration": 173,
    "start_time": "2021-09-16T14:27:58.442Z"
   },
   {
    "duration": 8,
    "start_time": "2021-09-16T14:28:04.027Z"
   },
   {
    "duration": 64,
    "start_time": "2021-09-16T14:28:06.376Z"
   },
   {
    "duration": 1486,
    "start_time": "2021-09-16T14:42:30.650Z"
   },
   {
    "duration": 23,
    "start_time": "2021-09-16T14:42:32.139Z"
   },
   {
    "duration": 23,
    "start_time": "2021-09-16T14:42:32.166Z"
   },
   {
    "duration": 38,
    "start_time": "2021-09-16T14:42:32.192Z"
   },
   {
    "duration": 18,
    "start_time": "2021-09-16T14:42:32.233Z"
   },
   {
    "duration": 3129,
    "start_time": "2021-09-16T14:42:32.254Z"
   },
   {
    "duration": 12,
    "start_time": "2021-09-16T14:42:35.385Z"
   },
   {
    "duration": 27,
    "start_time": "2021-09-16T14:42:35.400Z"
   },
   {
    "duration": 28,
    "start_time": "2021-09-16T14:42:35.431Z"
   },
   {
    "duration": 21,
    "start_time": "2021-09-16T14:42:35.461Z"
   },
   {
    "duration": 4,
    "start_time": "2021-09-16T14:42:35.485Z"
   },
   {
    "duration": 3711,
    "start_time": "2021-09-16T14:42:35.492Z"
   },
   {
    "duration": 4531,
    "start_time": "2021-09-16T14:42:39.205Z"
   },
   {
    "duration": 244,
    "start_time": "2021-09-16T14:42:43.738Z"
   },
   {
    "duration": 7,
    "start_time": "2021-09-16T14:42:43.985Z"
   },
   {
    "duration": 106,
    "start_time": "2021-09-16T14:42:43.994Z"
   },
   {
    "duration": 103,
    "start_time": "2021-09-16T14:42:44.102Z"
   },
   {
    "duration": 7,
    "start_time": "2021-09-16T14:42:44.207Z"
   },
   {
    "duration": 45,
    "start_time": "2021-09-16T14:42:44.216Z"
   },
   {
    "duration": 7,
    "start_time": "2021-09-16T14:45:48.539Z"
   },
   {
    "duration": 39,
    "start_time": "2021-09-16T14:45:49.322Z"
   },
   {
    "duration": 89,
    "start_time": "2021-09-16T14:46:09.663Z"
   },
   {
    "duration": 51,
    "start_time": "2021-09-16T14:46:23.391Z"
   }
  ],
  "kernelspec": {
   "display_name": "Python 3",
   "language": "python",
   "name": "python3"
  },
  "language_info": {
   "codemirror_mode": {
    "name": "ipython",
    "version": 3
   },
   "file_extension": ".py",
   "mimetype": "text/x-python",
   "name": "python",
   "nbconvert_exporter": "python",
   "pygments_lexer": "ipython3",
   "version": "3.8.8"
  },
  "toc": {
   "base_numbering": 1,
   "nav_menu": {},
   "number_sections": true,
   "sideBar": true,
   "skip_h1_title": true,
   "title_cell": "Содержание",
   "title_sidebar": "Содержание",
   "toc_cell": true,
   "toc_position": {
    "height": "calc(100% - 180px)",
    "left": "10px",
    "top": "150px",
    "width": "293.333px"
   },
   "toc_section_display": true,
   "toc_window_display": true
  }
 },
 "nbformat": 4,
 "nbformat_minor": 2
}
