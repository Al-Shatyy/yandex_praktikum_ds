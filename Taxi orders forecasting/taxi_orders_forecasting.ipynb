{
 "cells": [
  {
   "cell_type": "markdown",
   "metadata": {
    "toc": true
   },
   "source": [
    "<h1>Содержание<span class=\"tocSkip\"></span></h1>\n",
    "<div class=\"toc\"><ul class=\"toc-item\"><li><span><a href=\"#Загрузка-данных\" data-toc-modified-id=\"Загрузка-данных-1\"><span class=\"toc-item-num\">1&nbsp;&nbsp;</span>Загрузка данных</a></span></li><li><span><a href=\"#Анализ-данных\" data-toc-modified-id=\"Анализ-данных-2\"><span class=\"toc-item-num\">2&nbsp;&nbsp;</span>Анализ данных</a></span><ul class=\"toc-item\"><li><span><a href=\"#Сезонность\" data-toc-modified-id=\"Сезонность-2.1\"><span class=\"toc-item-num\">2.1&nbsp;&nbsp;</span>Сезонность</a></span></li><li><span><a href=\"#Тренд\" data-toc-modified-id=\"Тренд-2.2\"><span class=\"toc-item-num\">2.2&nbsp;&nbsp;</span>Тренд</a></span></li><li><span><a href=\"#Вывод\" data-toc-modified-id=\"Вывод-2.3\"><span class=\"toc-item-num\">2.3&nbsp;&nbsp;</span>Вывод</a></span></li></ul></li><li><span><a href=\"#Обучение-моделей\" data-toc-modified-id=\"Обучение-моделей-3\"><span class=\"toc-item-num\">3&nbsp;&nbsp;</span>Обучение моделей</a></span><ul class=\"toc-item\"><li><span><a href=\"#Предсказания-по-последнему-значению\" data-toc-modified-id=\"Предсказания-по-последнему-значению-3.1\"><span class=\"toc-item-num\">3.1&nbsp;&nbsp;</span>Предсказания по последнему значению</a></span></li><li><span><a href=\"#Linear-Regression\" data-toc-modified-id=\"Linear-Regression-3.2\"><span class=\"toc-item-num\">3.2&nbsp;&nbsp;</span>Linear Regression</a></span></li><li><span><a href=\"#RandomForest\" data-toc-modified-id=\"RandomForest-3.3\"><span class=\"toc-item-num\">3.3&nbsp;&nbsp;</span>RandomForest</a></span></li><li><span><a href=\"#LightGBM\" data-toc-modified-id=\"LightGBM-3.4\"><span class=\"toc-item-num\">3.4&nbsp;&nbsp;</span>LightGBM</a></span></li><li><span><a href=\"#Вывод\" data-toc-modified-id=\"Вывод-3.5\"><span class=\"toc-item-num\">3.5&nbsp;&nbsp;</span>Вывод</a></span></li></ul></li><li><span><a href=\"#Анализ-модели\" data-toc-modified-id=\"Анализ-модели-4\"><span class=\"toc-item-num\">4&nbsp;&nbsp;</span>Анализ модели</a></span></li><li><span><a href=\"#Вывод\" data-toc-modified-id=\"Вывод-5\"><span class=\"toc-item-num\">5&nbsp;&nbsp;</span>Вывод</a></span></li></ul></div>"
   ]
  },
  {
   "cell_type": "markdown",
   "metadata": {
    "cellId": "g3wksq5umsmxmg23dvz2r"
   },
   "source": [
    "#  Прогнозирование заказов такси"
   ]
  },
  {
   "cell_type": "markdown",
   "metadata": {
    "cellId": "hhodfgwjmlqqm046z13maj"
   },
   "source": [
    "**Задача**\n",
    "\n",
    ">Компания «Чётенькое такси» собрала исторические данные о заказах такси в аэропортах. Чтобы привлекать больше водителей в период пиковой нагрузки, **нужно спрогнозировать количество заказов такси на следующий час**. Постройте модель для такого предсказания.\n",
    ">\n",
    ">Значение метрики *RMSE* на тестовой выборке должно быть не больше 48.\n",
    ">\n",
    ">Вам нужно:\n",
    ">\n",
    ">1. Загрузить данные и выполнить их ресемплирование по одному часу.\n",
    ">2. Проанализировать данные.\n",
    ">3. Обучить разные модели с различными гиперпараметрами. Сделать тестовую выборку размером 10% от исходных данных.\n",
    ">4. Проверить данные на тестовой выборке и сделать выводы.\n",
    ">\n",
    ">Данные лежат в файле `taxi.csv`. Количество заказов находится в столбце `num_orders` (от англ. *number of orders*, «число заказов»).\n",
    "\n",
    "**Цель работы:**\n",
    "- Исследовать данные о заказах;\n",
    "- Построить модели предсказывающие количество заказов на следующий час по предшествующим данным;\n",
    "- Добиться качества предсказаний модели по метрике RMSE не более 48."
   ]
  },
  {
   "cell_type": "markdown",
   "metadata": {
    "cellId": "6s66tptoht7ohaovo98ucj"
   },
   "source": [
    "## Загрузка данных"
   ]
  },
  {
   "cell_type": "markdown",
   "metadata": {
    "cellId": "tsrdutlx0fmeq06xqsasr5"
   },
   "source": [
    "Импортируем необходимые библиотеки."
   ]
  },
  {
   "cell_type": "code",
   "execution_count": 1,
   "metadata": {
    "cellId": "ujndf78cvhib9dilks02qa"
   },
   "outputs": [],
   "source": [
    "#%pip install statsmodels"
   ]
  },
  {
   "cell_type": "code",
   "execution_count": 2,
   "metadata": {
    "cellId": "g0ifbeg33rvvlx0ar7oyh"
   },
   "outputs": [],
   "source": [
    "import pandas as pd\n",
    "import numpy as np\n",
    "import matplotlib.pyplot as plt\n",
    "\n",
    "from statsmodels.tsa.seasonal import seasonal_decompose\n",
    "from sklearn.model_selection import train_test_split, GridSearchCV, TimeSeriesSplit\n",
    "from sklearn.metrics import mean_squared_error\n",
    "\n",
    "from sklearn.linear_model import LinearRegression\n",
    "from sklearn.ensemble import RandomForestRegressor\n",
    "from lightgbm import LGBMRegressor"
   ]
  },
  {
   "cell_type": "markdown",
   "metadata": {
    "cellId": "m4ybsssrssgdtg69j6fbc"
   },
   "source": [
    "Загрузим файл CSV и сохраним его в переменную *data*. Атрибут `parse_dates` позволяет сразу перевести тип данных в datetime в указанном столбце."
   ]
  },
  {
   "cell_type": "code",
   "execution_count": 3,
   "metadata": {
    "cellId": "7gk2rnqqlbglp49qkol9we"
   },
   "outputs": [],
   "source": [
    "data = pd.read_csv('datasets/taxi.csv', index_col=[0], parse_dates=[0])"
   ]
  },
  {
   "cell_type": "markdown",
   "metadata": {
    "cellId": "2a57ir9gtagrn0ne5h9ih"
   },
   "source": [
    "Проверим корректно ли загружены данные и общую информацию."
   ]
  },
  {
   "cell_type": "code",
   "execution_count": 4,
   "metadata": {
    "cellId": "5us00dqxypm6uaga3mii2u"
   },
   "outputs": [
    {
     "name": "stdout",
     "output_type": "stream",
     "text": [
      "<class 'pandas.core.frame.DataFrame'>\n",
      "DatetimeIndex: 26496 entries, 2018-03-01 00:00:00 to 2018-08-31 23:50:00\n",
      "Data columns (total 1 columns):\n",
      "num_orders    26496 non-null int64\n",
      "dtypes: int64(1)\n",
      "memory usage: 414.0 KB\n"
     ]
    },
    {
     "data": {
      "text/html": [
       "<div>\n",
       "<style scoped>\n",
       "    .dataframe tbody tr th:only-of-type {\n",
       "        vertical-align: middle;\n",
       "    }\n",
       "\n",
       "    .dataframe tbody tr th {\n",
       "        vertical-align: top;\n",
       "    }\n",
       "\n",
       "    .dataframe thead th {\n",
       "        text-align: right;\n",
       "    }\n",
       "</style>\n",
       "<table border=\"1\" class=\"dataframe\">\n",
       "  <thead>\n",
       "    <tr style=\"text-align: right;\">\n",
       "      <th></th>\n",
       "      <th>num_orders</th>\n",
       "    </tr>\n",
       "    <tr>\n",
       "      <th>datetime</th>\n",
       "      <th></th>\n",
       "    </tr>\n",
       "  </thead>\n",
       "  <tbody>\n",
       "    <tr>\n",
       "      <th>2018-03-01 00:00:00</th>\n",
       "      <td>9</td>\n",
       "    </tr>\n",
       "    <tr>\n",
       "      <th>2018-03-01 00:10:00</th>\n",
       "      <td>14</td>\n",
       "    </tr>\n",
       "    <tr>\n",
       "      <th>2018-03-01 00:20:00</th>\n",
       "      <td>28</td>\n",
       "    </tr>\n",
       "    <tr>\n",
       "      <th>2018-03-01 00:30:00</th>\n",
       "      <td>20</td>\n",
       "    </tr>\n",
       "    <tr>\n",
       "      <th>2018-03-01 00:40:00</th>\n",
       "      <td>32</td>\n",
       "    </tr>\n",
       "  </tbody>\n",
       "</table>\n",
       "</div>"
      ],
      "text/plain": [
       "                     num_orders\n",
       "datetime                       \n",
       "2018-03-01 00:00:00           9\n",
       "2018-03-01 00:10:00          14\n",
       "2018-03-01 00:20:00          28\n",
       "2018-03-01 00:30:00          20\n",
       "2018-03-01 00:40:00          32"
      ]
     },
     "metadata": {},
     "output_type": "display_data"
    }
   ],
   "source": [
    "data.info()\n",
    "\n",
    "data.head()"
   ]
  },
  {
   "cell_type": "markdown",
   "metadata": {
    "cellId": "9r2y47omj663rz8khmulb"
   },
   "source": [
    "Данные загружены корректно. Можно сделать некоторые замечания:\n",
    "- Столбец *datetime* является индексом таблицы и имеет тип Datetime.\n",
    "- В столбце *num_orders* содержится число - количество заказов.\n",
    "- Временной промежуток между записями - 10 минут.\n",
    "\n",
    "Исследуем значения столбца *num_orders*."
   ]
  },
  {
   "cell_type": "code",
   "execution_count": 5,
   "metadata": {
    "cellId": "lpb2new58thlt28j2p4qrs"
   },
   "outputs": [
    {
     "data": {
      "text/plain": [
       "count    26496.000000\n",
       "mean        14.070463\n",
       "std          9.211330\n",
       "min          0.000000\n",
       "25%          8.000000\n",
       "50%         13.000000\n",
       "75%         19.000000\n",
       "max        119.000000\n",
       "Name: num_orders, dtype: float64"
      ]
     },
     "metadata": {},
     "output_type": "display_data"
    }
   ],
   "source": [
    "data['num_orders'].describe()"
   ]
  },
  {
   "cell_type": "markdown",
   "metadata": {
    "cellId": "3cws4uqfe7lzn4qewnnq1d"
   },
   "source": [
    "Данные готовы для дальнейшего анализа."
   ]
  },
  {
   "cell_type": "markdown",
   "metadata": {
    "cellId": "vuuvhwbfpein0risp4956"
   },
   "source": [
    "## Анализ данных"
   ]
  },
  {
   "cell_type": "markdown",
   "metadata": {
    "cellId": "m0na6zftjeqn6k8jtffsrb"
   },
   "source": [
    "Проверим как расположены данные по времени. Для анализа временных рядов важно, чтобы данные были расположены в хронолигическом порядке."
   ]
  },
  {
   "cell_type": "code",
   "execution_count": 6,
   "metadata": {
    "cellId": "9pwousah6labkhvra0gkh"
   },
   "outputs": [
    {
     "name": "stdout",
     "output_type": "stream",
     "text": [
      "Данные расположены в хронологическом порядке\n"
     ]
    }
   ],
   "source": [
    "if data.index.is_monotonic:\n",
    "    print('Данные расположены в хронологическом порядке')\n",
    "else:\n",
    "    print('Порядок данных не последовавтельный')"
   ]
  },
  {
   "cell_type": "markdown",
   "metadata": {
    "cellId": "soyx2upmw2cg254yz5x4"
   },
   "source": [
    "Нам необходимо сделать предсказания на временной промежуток в 1 час. Для этого в обучающих данных изменим шаг между записями. Ресемплируем данные по 1 часу, суммируя промежуточные данные."
   ]
  },
  {
   "cell_type": "code",
   "execution_count": 7,
   "metadata": {
    "cellId": "97ntvbabg481uwpe5wna41"
   },
   "outputs": [
    {
     "data": {
      "text/html": [
       "<div>\n",
       "<style scoped>\n",
       "    .dataframe tbody tr th:only-of-type {\n",
       "        vertical-align: middle;\n",
       "    }\n",
       "\n",
       "    .dataframe tbody tr th {\n",
       "        vertical-align: top;\n",
       "    }\n",
       "\n",
       "    .dataframe thead th {\n",
       "        text-align: right;\n",
       "    }\n",
       "</style>\n",
       "<table border=\"1\" class=\"dataframe\">\n",
       "  <thead>\n",
       "    <tr style=\"text-align: right;\">\n",
       "      <th></th>\n",
       "      <th>num_orders</th>\n",
       "    </tr>\n",
       "    <tr>\n",
       "      <th>datetime</th>\n",
       "      <th></th>\n",
       "    </tr>\n",
       "  </thead>\n",
       "  <tbody>\n",
       "    <tr>\n",
       "      <th>2018-03-01 00:00:00</th>\n",
       "      <td>124</td>\n",
       "    </tr>\n",
       "    <tr>\n",
       "      <th>2018-03-01 01:00:00</th>\n",
       "      <td>85</td>\n",
       "    </tr>\n",
       "    <tr>\n",
       "      <th>2018-03-01 02:00:00</th>\n",
       "      <td>71</td>\n",
       "    </tr>\n",
       "    <tr>\n",
       "      <th>2018-03-01 03:00:00</th>\n",
       "      <td>66</td>\n",
       "    </tr>\n",
       "    <tr>\n",
       "      <th>2018-03-01 04:00:00</th>\n",
       "      <td>43</td>\n",
       "    </tr>\n",
       "  </tbody>\n",
       "</table>\n",
       "</div>"
      ],
      "text/plain": [
       "                     num_orders\n",
       "datetime                       \n",
       "2018-03-01 00:00:00         124\n",
       "2018-03-01 01:00:00          85\n",
       "2018-03-01 02:00:00          71\n",
       "2018-03-01 03:00:00          66\n",
       "2018-03-01 04:00:00          43"
      ]
     },
     "metadata": {},
     "output_type": "display_data"
    }
   ],
   "source": [
    "data = data.resample('1H').sum()\n",
    "data.head()"
   ]
  },
  {
   "cell_type": "code",
   "execution_count": 8,
   "metadata": {
    "cellId": "u6f6dz6deeh9ozwm8zwngs"
   },
   "outputs": [
    {
     "name": "stdout",
     "output_type": "stream",
     "text": [
      "Временной промежуток выборки:\n",
      "2018-03-01 00:00:00 - 2018-08-31 23:00:00\n"
     ]
    }
   ],
   "source": [
    "print(f'Временной промежуток выборки:\\n{data.index.min()} - {data.index.max()}')"
   ]
  },
  {
   "cell_type": "markdown",
   "metadata": {
    "cellId": "r8tfcey79eqbsxix1asbqe"
   },
   "source": [
    "Проверим скользящее среднее и скользящее среднеквадратичное отклонение, ширину окна зададим 72."
   ]
  },
  {
   "cell_type": "code",
   "execution_count": 9,
   "metadata": {
    "cellId": "xkfbvhljpwru26z6ubzry"
   },
   "outputs": [],
   "source": [
    "rolling_df = data[['num_orders']].copy()\n",
    "rolling_df['rolling_mean'] = rolling_df['num_orders'].rolling(72).mean()\n",
    "rolling_df['rolling_std'] = rolling_df['num_orders'].rolling(72).std()"
   ]
  },
  {
   "cell_type": "code",
   "execution_count": 10,
   "metadata": {
    "cellId": "b781rk1mbv55bl966oespx"
   },
   "outputs": [
    {
     "data": {
      "image/png": "[encoded data removed]",
      "text/plain": [
       "<Figure size 792x576 with 1 Axes>"
      ]
     },
     "metadata": {
      "needs_background": "light"
     },
     "output_type": "display_data"
    }
   ],
   "source": [
    "fig = plt.figure(figsize=(11,8))\n",
    "\n",
    "ax = fig.add_subplot(1, 1, 1)\n",
    "ax.grid()\n",
    "ax.plot(rolling_df['num_orders'], alpha=0.6)\n",
    "ax.plot(rolling_df[['rolling_mean', 'rolling_std']])\n",
    "plt.legend(['num_orders', 'rolling mean', 'rolling std'])\n",
    "plt.title('Rolling mean and std of orders number')\n",
    "plt.show()"
   ]
  },
  {
   "cell_type": "markdown",
   "metadata": {
    "cellId": "ggk74ozt56fikj5qe8rs6g"
   },
   "source": [
    "Можно наблюдать восходящий тренд скользящего среднего и среднеквадратичного отклонения. \n",
    "\n",
    "Разложим временной ряд на компоненты и поищем в них закономерности."
   ]
  },
  {
   "cell_type": "markdown",
   "metadata": {
    "cellId": "7d0e4g127y8fpo59gtdbo"
   },
   "source": [
    "### Сезонность"
   ]
  },
  {
   "cell_type": "markdown",
   "metadata": {
    "cellId": "zwlh7ec0u3jniqlwvu52d"
   },
   "source": [
    "С помощью функции `seasonal_decompose` временной ряд можно разложить на составляющие: сезонность, тренд и оставшийся шум. Мы исследуем сезонность и тренд.\n",
    "\n",
    "Исследуем сезонность для периодов неделя и день."
   ]
  },
  {
   "cell_type": "code",
   "execution_count": 11,
   "metadata": {
    "cellId": "cyeboari16u6yvv7syxy39"
   },
   "outputs": [
    {
     "data": {
      "image/png": "[encoded data removed]",
      "text/plain": [
       "<Figure size 720x576 with 2 Axes>"
      ]
     },
     "metadata": {
      "needs_background": "light"
     },
     "output_type": "display_data"
    }
   ],
   "source": [
    "decompose = seasonal_decompose(data[['num_orders']])\n",
    "\n",
    "fig = plt.figure(figsize=(10,8))\n",
    "plt.subplots_adjust(hspace=0.3)\n",
    "ax1 = fig.add_subplot(2, 1, 1)\n",
    "ax1.plot(decompose.seasonal['2018-08-20':'2018-08-27'])\n",
    "ax1.grid()\n",
    "ax1.set_title('Seasonal component - week')\n",
    "\n",
    "ax2 = fig.add_subplot(2, 1, 2)\n",
    "ax2.plot(decompose.seasonal['2018-08-31'], color='red')\n",
    "ax2.grid()\n",
    "ax2.set_title('Seasonal component - day')\n",
    "plt.show()"
   ]
  },
  {
   "cell_type": "markdown",
   "metadata": {
    "cellId": "3ozzf7iye72xqjyv64rix8"
   },
   "source": [
    "**Компонент сезонности четко прослеживается в масштабе одного дня**. Наибольшее падение наблюдается утром, около 6 часов, а рост ночью, ближе к полуночи."
   ]
  },
  {
   "cell_type": "markdown",
   "metadata": {
    "cellId": "9k3fpqzd7amf16hazkrbal"
   },
   "source": [
    "### Тренд"
   ]
  },
  {
   "cell_type": "markdown",
   "metadata": {
    "cellId": "ufzp2khggxmdecsidktv84"
   },
   "source": [
    "Исследуем тренд на временных промежутках месяц и неделя. "
   ]
  },
  {
   "cell_type": "code",
   "execution_count": 12,
   "metadata": {
    "cellId": "g079w9a5cdjoipx00ivqh"
   },
   "outputs": [
    {
     "data": {
      "image/png": "[encoded data removed]",
      "text/plain": [
       "<Figure size 720x576 with 2 Axes>"
      ]
     },
     "metadata": {
      "needs_background": "light"
     },
     "output_type": "display_data"
    }
   ],
   "source": [
    "fig = plt.figure(figsize=(10,8))\n",
    "plt.subplots_adjust(hspace=0.3)\n",
    "\n",
    "ax1 = fig.add_subplot(2, 1, 1)\n",
    "ax1.plot(decompose.trend['2018-08'])\n",
    "ax1.grid()\n",
    "ax1.set_title('Trend component - month')\n",
    "\n",
    "ax2 = fig.add_subplot(2, 1, 2)\n",
    "ax2.plot(decompose.trend['2018-08-17':'2018-08-23'], color='red')\n",
    "ax2.vlines('2018-08-20', 100, 160, linestyles='dashed', color='black')\n",
    "ax2.grid()\n",
    "ax2.set_title('Trend component - week')\n",
    "plt.show()"
   ]
  },
  {
   "cell_type": "markdown",
   "metadata": {
    "cellId": "2fw91u2a0ajdsgdd7e85tq"
   },
   "source": [
    "Наблюдается два тренда временного ряда:\n",
    "- **Глобальный тренд на увеличение числа заказов к концу лета**;\n",
    "- **Повторяющийся недельный тренд**. Минимум достигается в воскресение, а повышение спроса происходит в двух точках - с воскресения на понедельник и с пятницы на субботу."
   ]
  },
  {
   "cell_type": "markdown",
   "metadata": {
    "cellId": "3j39hst83yly5j581avmq7"
   },
   "source": [
    "### Вывод"
   ]
  },
  {
   "cell_type": "markdown",
   "metadata": {
    "cellId": "tsfr82b89z2kxx0j09i78"
   },
   "source": [
    "Имеющиеся данные представляют собой количество заказов во временной промежуток 10 минут с марта по август 2018 года. В предподготовке данные были ресемплированы по 1 часу.\n",
    "\n",
    "В ходе анализа данных были замечены следующие закономерности:\n",
    "- К настоящему моменту наблюдается тренд на увеличение скользящего среднего и среднеквадратического отклонения, имеется глобальный тренда на увеличение заказов;\n",
    "- Количество заказов меняется в течении недели с пиками в пятница-суббота и воскресение-понедельник и минимумом в воскресение;\n",
    "- Количество заказов менятся в течении дня, наибольшее количество ночью, около 12 часов, наименьшее к 6 утра.\n",
    "\n",
    "Для предсказания количества заказов важными будут являться: месяц, день недели и час дня. Необходимо выделить эти параметры как отдельные признаки в обучающей и тестовой выборках."
   ]
  },
  {
   "cell_type": "markdown",
   "metadata": {
    "cellId": "lh3uo4qaao2cm03z1my53"
   },
   "source": [
    "## Обучение моделей"
   ]
  },
  {
   "cell_type": "markdown",
   "metadata": {
    "cellId": "56pvo0bmda7atpvq8117id"
   },
   "source": [
    "Для предсказаний числа заказов используем алгоритмы машинного обучения. Напишем функции, которые помогут подготовить наборы данных."
   ]
  },
  {
   "cell_type": "code",
   "execution_count": 13,
   "metadata": {
    "cellId": "g8atp12eyefjan92pirctn"
   },
   "outputs": [],
   "source": [
    "def fetures_target_split(df, y_name='num_orders'):\n",
    "    x = df.drop([y_name], axis=1)\n",
    "    y = df[y_name]\n",
    "    return x, y\n",
    "\n",
    "def make_sets(df, rolling_size, max_lag):\n",
    "    df = df.copy()\n",
    "    df['dayofweek'] = df.index.dayofweek\n",
    "    df['hour'] = df.index.hour\n",
    "    df['month'] = df.index.month\n",
    "\n",
    "    for lag in range(max_lag):\n",
    "        df[f'lag_{lag+1}'] = df['num_orders'].shift(lag+1)\n",
    "\n",
    "    df['rolling_mean'] = df['num_orders'].shift().rolling(rolling_size).mean()\n",
    "    \n",
    "    df = df.dropna(axis=0)\n",
    "    x, y = fetures_target_split(df)\n",
    "    return x, y\n",
    "\n",
    "def rmse(model, x, y):\n",
    "    predictions = model.predict(x)\n",
    "    return round(mean_squared_error(y, predictions)**0.5, 3) "
   ]
  },
  {
   "cell_type": "markdown",
   "metadata": {
    "cellId": "4dn64bix9ika0rz9qg10s4"
   },
   "source": [
    "Разделим набор данных на обучающую, валидационную и тестовую выборки в соотношении 8:1:1."
   ]
  },
  {
   "cell_type": "code",
   "execution_count": 14,
   "metadata": {
    "cellId": "1j8s1254b29qv34ubhqn3"
   },
   "outputs": [
    {
     "data": {
      "text/html": [
       "<div>\n",
       "<style scoped>\n",
       "    .dataframe tbody tr th:only-of-type {\n",
       "        vertical-align: middle;\n",
       "    }\n",
       "\n",
       "    .dataframe tbody tr th {\n",
       "        vertical-align: top;\n",
       "    }\n",
       "\n",
       "    .dataframe thead th {\n",
       "        text-align: right;\n",
       "    }\n",
       "</style>\n",
       "<table border=\"1\" class=\"dataframe\">\n",
       "  <thead>\n",
       "    <tr style=\"text-align: right;\">\n",
       "      <th></th>\n",
       "      <th>rows</th>\n",
       "    </tr>\n",
       "  </thead>\n",
       "  <tbody>\n",
       "    <tr>\n",
       "      <th>train</th>\n",
       "      <td>3532</td>\n",
       "    </tr>\n",
       "    <tr>\n",
       "      <th>valid</th>\n",
       "      <td>442</td>\n",
       "    </tr>\n",
       "    <tr>\n",
       "      <th>test</th>\n",
       "      <td>442</td>\n",
       "    </tr>\n",
       "  </tbody>\n",
       "</table>\n",
       "</div>"
      ],
      "text/plain": [
       "       rows\n",
       "train  3532\n",
       "valid   442\n",
       "test    442"
      ]
     },
     "metadata": {},
     "output_type": "display_data"
    }
   ],
   "source": [
    "train_valid, test = train_test_split(data.copy(), shuffle=False, train_size=0.9)\n",
    "train, valid = train_test_split(train_valid.copy(), shuffle=False, test_size=test.shape[0])\n",
    "pd.DataFrame([train.shape[0], valid.shape[0], test.shape[0]], index=['train', 'valid', 'test'], columns=['rows'])"
   ]
  },
  {
   "cell_type": "markdown",
   "metadata": {
    "cellId": "fn2viyj51oy0vgj8r74fi"
   },
   "source": [
    "При разделении выборки важно учесть последовательность записей. Тестовая выборка должна по времени следовать после обучающей, иначе модель обучится на данных \"из будущего\". "
   ]
  },
  {
   "cell_type": "code",
   "execution_count": 15,
   "metadata": {
    "cellId": "46m2qgjht6k5sqpk2kynuu"
   },
   "outputs": [
    {
     "name": "stdout",
     "output_type": "stream",
     "text": [
      "Временной промежуток выборок\n",
      "Train: 2018-03-01 00:00:00 - 2018-08-13 13:00:00\n",
      "Test: 2018-08-13 14:00:00 - 2018-08-31 23:00:00\n"
     ]
    }
   ],
   "source": [
    "print('Временной промежуток выборок\\nTrain: {} - {}\\nTest: {} - {}'\n",
    "      .format(train_valid.index.min(), train_valid.index.max(), test.index.min(), test.index.max()))"
   ]
  },
  {
   "cell_type": "markdown",
   "metadata": {
    "cellId": "8i7njis3rd6tk6ag4gcflm"
   },
   "source": [
    "Набор данных был корректно разделен на обучающую и тестовую."
   ]
  },
  {
   "cell_type": "markdown",
   "metadata": {
    "cellId": "kn0b11dw1o4bauqigh6va"
   },
   "source": [
    "### Предсказания по последнему значению"
   ]
  },
  {
   "cell_type": "markdown",
   "metadata": {
    "cellId": "n243xoc33hmxw05fc6cj3"
   },
   "source": [
    "Чтобы оценить адекватность модели, нам нужно ее с чем-то сравнить. Для этого создадим простую предсказательную модель, которая будет предсказывать количество заказов по последнему значению. Качество моделей будем контролировать метрикой RMSE."
   ]
  },
  {
   "cell_type": "code",
   "execution_count": 16,
   "metadata": {
    "cellId": "ddikmfigtke55h69um0wsk"
   },
   "outputs": [
    {
     "data": {
      "text/html": [
       "<div>\n",
       "<style scoped>\n",
       "    .dataframe tbody tr th:only-of-type {\n",
       "        vertical-align: middle;\n",
       "    }\n",
       "\n",
       "    .dataframe tbody tr th {\n",
       "        vertical-align: top;\n",
       "    }\n",
       "\n",
       "    .dataframe thead th {\n",
       "        text-align: right;\n",
       "    }\n",
       "</style>\n",
       "<table border=\"1\" class=\"dataframe\">\n",
       "  <thead>\n",
       "    <tr style=\"text-align: right;\">\n",
       "      <th></th>\n",
       "      <th>rmse</th>\n",
       "    </tr>\n",
       "  </thead>\n",
       "  <tbody>\n",
       "    <tr>\n",
       "      <th>Previous value</th>\n",
       "      <td>47.246</td>\n",
       "    </tr>\n",
       "  </tbody>\n",
       "</table>\n",
       "</div>"
      ],
      "text/plain": [
       "                  rmse\n",
       "Previous value  47.246"
      ]
     },
     "metadata": {},
     "output_type": "display_data"
    }
   ],
   "source": [
    "predictions = valid.shift(fill_value=train.iloc[-1, 0])\n",
    "results = pd.DataFrame([round(mean_squared_error(valid, predictions)**0.5, 3)],\n",
    "                       columns=['rmse'],\n",
    "                       index=['Previous value'])\n",
    "results"
   ]
  },
  {
   "cell_type": "markdown",
   "metadata": {
    "cellId": "vg9m7yfa4bf5tj4q4vhvs"
   },
   "source": [
    "### Linear Regression"
   ]
  },
  {
   "cell_type": "markdown",
   "metadata": {
    "cellId": "95p1wi09jztzrb13es009e"
   },
   "source": [
    "Используем модель линейной регрессии. На этой моделе подберем параметры для выделения новых признаков из временного ряда, такие как ширина окна для скользящего среднего и число прошлых значений целевого признака."
   ]
  },
  {
   "cell_type": "code",
   "execution_count": 17,
   "metadata": {
    "cellId": "y0klxe75u8ggqhaylu0sa"
   },
   "outputs": [
    {
     "data": {
      "text/html": [
       "<div>\n",
       "<style scoped>\n",
       "    .dataframe tbody tr th:only-of-type {\n",
       "        vertical-align: middle;\n",
       "    }\n",
       "\n",
       "    .dataframe tbody tr th {\n",
       "        vertical-align: top;\n",
       "    }\n",
       "\n",
       "    .dataframe thead th {\n",
       "        text-align: right;\n",
       "    }\n",
       "</style>\n",
       "<table border=\"1\" class=\"dataframe\">\n",
       "  <thead>\n",
       "    <tr style=\"text-align: right;\">\n",
       "      <th></th>\n",
       "      <th>rolling_size</th>\n",
       "      <th>max_lag</th>\n",
       "      <th>rmse</th>\n",
       "    </tr>\n",
       "  </thead>\n",
       "  <tbody>\n",
       "    <tr>\n",
       "      <th>0</th>\n",
       "      <td>24.0</td>\n",
       "      <td>12.0</td>\n",
       "      <td>40.255</td>\n",
       "    </tr>\n",
       "    <tr>\n",
       "      <th>1</th>\n",
       "      <td>24.0</td>\n",
       "      <td>24.0</td>\n",
       "      <td>34.306</td>\n",
       "    </tr>\n",
       "    <tr>\n",
       "      <th>2</th>\n",
       "      <td>24.0</td>\n",
       "      <td>48.0</td>\n",
       "      <td>31.539</td>\n",
       "    </tr>\n",
       "    <tr>\n",
       "      <th>3</th>\n",
       "      <td>48.0</td>\n",
       "      <td>12.0</td>\n",
       "      <td>40.139</td>\n",
       "    </tr>\n",
       "    <tr>\n",
       "      <th>4</th>\n",
       "      <td>48.0</td>\n",
       "      <td>24.0</td>\n",
       "      <td>34.264</td>\n",
       "    </tr>\n",
       "    <tr>\n",
       "      <th>5</th>\n",
       "      <td>48.0</td>\n",
       "      <td>48.0</td>\n",
       "      <td>31.540</td>\n",
       "    </tr>\n",
       "    <tr>\n",
       "      <th>6</th>\n",
       "      <td>72.0</td>\n",
       "      <td>12.0</td>\n",
       "      <td>40.131</td>\n",
       "    </tr>\n",
       "    <tr>\n",
       "      <th>7</th>\n",
       "      <td>72.0</td>\n",
       "      <td>24.0</td>\n",
       "      <td>34.069</td>\n",
       "    </tr>\n",
       "    <tr>\n",
       "      <th>8</th>\n",
       "      <td>72.0</td>\n",
       "      <td>48.0</td>\n",
       "      <td>31.588</td>\n",
       "    </tr>\n",
       "  </tbody>\n",
       "</table>\n",
       "</div>"
      ],
      "text/plain": [
       "   rolling_size  max_lag    rmse\n",
       "0          24.0     12.0  40.255\n",
       "1          24.0     24.0  34.306\n",
       "2          24.0     48.0  31.539\n",
       "3          48.0     12.0  40.139\n",
       "4          48.0     24.0  34.264\n",
       "5          48.0     48.0  31.540\n",
       "6          72.0     12.0  40.131\n",
       "7          72.0     24.0  34.069\n",
       "8          72.0     48.0  31.588"
      ]
     },
     "metadata": {},
     "output_type": "display_data"
    },
    {
     "data": {
      "text/html": [
       "<div>\n",
       "<style scoped>\n",
       "    .dataframe tbody tr th:only-of-type {\n",
       "        vertical-align: middle;\n",
       "    }\n",
       "\n",
       "    .dataframe tbody tr th {\n",
       "        vertical-align: top;\n",
       "    }\n",
       "\n",
       "    .dataframe thead th {\n",
       "        text-align: right;\n",
       "    }\n",
       "</style>\n",
       "<table border=\"1\" class=\"dataframe\">\n",
       "  <thead>\n",
       "    <tr style=\"text-align: right;\">\n",
       "      <th></th>\n",
       "      <th>rolling_size</th>\n",
       "      <th>max_lag</th>\n",
       "      <th>rmse</th>\n",
       "    </tr>\n",
       "  </thead>\n",
       "  <tbody>\n",
       "    <tr>\n",
       "      <th>2</th>\n",
       "      <td>24.0</td>\n",
       "      <td>48.0</td>\n",
       "      <td>31.539</td>\n",
       "    </tr>\n",
       "  </tbody>\n",
       "</table>\n",
       "</div>"
      ],
      "text/plain": [
       "   rolling_size  max_lag    rmse\n",
       "2          24.0     48.0  31.539"
      ]
     },
     "metadata": {},
     "output_type": "display_data"
    }
   ],
   "source": [
    "params = {\n",
    "    'rolling_size': [24, 48, 72],\n",
    "    'max_lag': [12, 24, 48]\n",
    "}\n",
    "grid_result = pd.DataFrame(columns=['rolling_size', 'max_lag', 'rmse'])\n",
    "\n",
    "for rolling_size in params['rolling_size']: \n",
    "    for max_lag in params['max_lag']:\n",
    "        \n",
    "        train_x, train_y = make_sets(train, rolling_size, max_lag)\n",
    "        valid_x, valid_y = make_sets(valid, rolling_size, max_lag)\n",
    "        \n",
    "        model = LinearRegression()\n",
    "        model.fit(train_x, train_y)\n",
    "        metric = rmse(model, valid_x, valid_y)\n",
    "        grid_result.loc[grid_result.shape[0]] = [rolling_size, max_lag, metric]\n",
    "        \n",
    "        \n",
    "display(grid_result)\n",
    "display(grid_result[grid_result['rmse']==grid_result['rmse'].min()])"
   ]
  },
  {
   "cell_type": "markdown",
   "metadata": {
    "cellId": "mfnx6dvandghsrm7e5scic"
   },
   "source": [
    "Лучшие результаты удалось получить со значениями ширины окна 24 и числа предыдущих значений 48. Используем эти параметры, обучим модель заново и сохраним результат в таблицу."
   ]
  },
  {
   "cell_type": "code",
   "execution_count": 18,
   "metadata": {
    "cellId": "4qbq6e4ku74s7teewciju"
   },
   "outputs": [
    {
     "data": {
      "text/html": [
       "<div>\n",
       "<style scoped>\n",
       "    .dataframe tbody tr th:only-of-type {\n",
       "        vertical-align: middle;\n",
       "    }\n",
       "\n",
       "    .dataframe tbody tr th {\n",
       "        vertical-align: top;\n",
       "    }\n",
       "\n",
       "    .dataframe thead th {\n",
       "        text-align: right;\n",
       "    }\n",
       "</style>\n",
       "<table border=\"1\" class=\"dataframe\">\n",
       "  <thead>\n",
       "    <tr style=\"text-align: right;\">\n",
       "      <th></th>\n",
       "      <th>rmse</th>\n",
       "    </tr>\n",
       "  </thead>\n",
       "  <tbody>\n",
       "    <tr>\n",
       "      <th>Previous value</th>\n",
       "      <td>47.246</td>\n",
       "    </tr>\n",
       "    <tr>\n",
       "      <th>LinearRegression</th>\n",
       "      <td>31.539</td>\n",
       "    </tr>\n",
       "  </tbody>\n",
       "</table>\n",
       "</div>"
      ],
      "text/plain": [
       "                    rmse\n",
       "Previous value    47.246\n",
       "LinearRegression  31.539"
      ]
     },
     "metadata": {},
     "output_type": "display_data"
    }
   ],
   "source": [
    "train_x, train_y = make_sets(train, 24, 48)\n",
    "valid_x, valid_y = make_sets(valid, 24, 48)\n",
    "\n",
    "model = LinearRegression()\n",
    "model.fit(train_x, train_y)\n",
    "results.loc['LinearRegression'] = rmse(model, valid_x, valid_y)\n",
    "results"
   ]
  },
  {
   "cell_type": "markdown",
   "metadata": {
    "cellId": "cx3e7bn6t1qoko90txw6no"
   },
   "source": [
    "Результат LinearRegression значительно лучше простой модели."
   ]
  },
  {
   "cell_type": "markdown",
   "metadata": {
    "cellId": "jppb8z4at5iq4ig2wehmyc"
   },
   "source": [
    "### RandomForest"
   ]
  },
  {
   "cell_type": "markdown",
   "metadata": {
    "cellId": "kqbynodx0kwznhmmbf3ti"
   },
   "source": [
    "Используем модель случайного леса. Подберем параметры глубины деревьев и минимального числа объектов для разделения. Подбор параметров произведем с помощью функции GridSearchCV, которая использует кросс-валидацию. Для разделения выборки на обучающую и валидационную не подойдет стандартный метод. Для временных рядов используют метод TimeSeriesSplit, который не допускает обучения на данных \"из будущего\"."
   ]
  },
  {
   "cell_type": "code",
   "execution_count": 19,
   "metadata": {
    "cellId": "p39rci2g7selukbb8n4cvg"
   },
   "outputs": [
    {
     "data": {
      "text/html": [
       "<div>\n",
       "<style scoped>\n",
       "    .dataframe tbody tr th:only-of-type {\n",
       "        vertical-align: middle;\n",
       "    }\n",
       "\n",
       "    .dataframe tbody tr th {\n",
       "        vertical-align: top;\n",
       "    }\n",
       "\n",
       "    .dataframe thead th {\n",
       "        text-align: right;\n",
       "    }\n",
       "</style>\n",
       "<table border=\"1\" class=\"dataframe\">\n",
       "  <thead>\n",
       "    <tr style=\"text-align: right;\">\n",
       "      <th></th>\n",
       "      <th>max_depth</th>\n",
       "      <th>min_samples_split</th>\n",
       "      <th>mse</th>\n",
       "    </tr>\n",
       "  </thead>\n",
       "  <tbody>\n",
       "    <tr>\n",
       "      <th>0</th>\n",
       "      <td>9</td>\n",
       "      <td>3</td>\n",
       "      <td>-564.416352</td>\n",
       "    </tr>\n",
       "    <tr>\n",
       "      <th>1</th>\n",
       "      <td>9</td>\n",
       "      <td>6</td>\n",
       "      <td>-565.369516</td>\n",
       "    </tr>\n",
       "    <tr>\n",
       "      <th>2</th>\n",
       "      <td>9</td>\n",
       "      <td>9</td>\n",
       "      <td>-567.599991</td>\n",
       "    </tr>\n",
       "    <tr>\n",
       "      <th>3</th>\n",
       "      <td>12</td>\n",
       "      <td>3</td>\n",
       "      <td>-557.366630</td>\n",
       "    </tr>\n",
       "    <tr>\n",
       "      <th>4</th>\n",
       "      <td>12</td>\n",
       "      <td>6</td>\n",
       "      <td>-557.715550</td>\n",
       "    </tr>\n",
       "    <tr>\n",
       "      <th>5</th>\n",
       "      <td>12</td>\n",
       "      <td>9</td>\n",
       "      <td>-559.021108</td>\n",
       "    </tr>\n",
       "    <tr>\n",
       "      <th>6</th>\n",
       "      <td>15</td>\n",
       "      <td>3</td>\n",
       "      <td>-558.703659</td>\n",
       "    </tr>\n",
       "    <tr>\n",
       "      <th>7</th>\n",
       "      <td>15</td>\n",
       "      <td>6</td>\n",
       "      <td>-555.416970</td>\n",
       "    </tr>\n",
       "    <tr>\n",
       "      <th>8</th>\n",
       "      <td>15</td>\n",
       "      <td>9</td>\n",
       "      <td>-558.429634</td>\n",
       "    </tr>\n",
       "  </tbody>\n",
       "</table>\n",
       "</div>"
      ],
      "text/plain": [
       "  max_depth min_samples_split         mse\n",
       "0         9                 3 -564.416352\n",
       "1         9                 6 -565.369516\n",
       "2         9                 9 -567.599991\n",
       "3        12                 3 -557.366630\n",
       "4        12                 6 -557.715550\n",
       "5        12                 9 -559.021108\n",
       "6        15                 3 -558.703659\n",
       "7        15                 6 -555.416970\n",
       "8        15                 9 -558.429634"
      ]
     },
     "metadata": {},
     "output_type": "display_data"
    },
    {
     "data": {
      "text/html": [
       "<div>\n",
       "<style scoped>\n",
       "    .dataframe tbody tr th:only-of-type {\n",
       "        vertical-align: middle;\n",
       "    }\n",
       "\n",
       "    .dataframe tbody tr th {\n",
       "        vertical-align: top;\n",
       "    }\n",
       "\n",
       "    .dataframe thead th {\n",
       "        text-align: right;\n",
       "    }\n",
       "</style>\n",
       "<table border=\"1\" class=\"dataframe\">\n",
       "  <thead>\n",
       "    <tr style=\"text-align: right;\">\n",
       "      <th></th>\n",
       "      <th>max_depth</th>\n",
       "      <th>min_samples_split</th>\n",
       "      <th>mse</th>\n",
       "    </tr>\n",
       "  </thead>\n",
       "  <tbody>\n",
       "    <tr>\n",
       "      <th>7</th>\n",
       "      <td>15</td>\n",
       "      <td>6</td>\n",
       "      <td>-555.41697</td>\n",
       "    </tr>\n",
       "  </tbody>\n",
       "</table>\n",
       "</div>"
      ],
      "text/plain": [
       "  max_depth min_samples_split        mse\n",
       "7        15                 6 -555.41697"
      ]
     },
     "metadata": {},
     "output_type": "display_data"
    }
   ],
   "source": [
    "params = {\n",
    "    'max_depth': [9, 12, 15],\n",
    "    'min_samples_split': [3, 6, 9]\n",
    "}\n",
    "ts_folds = TimeSeriesSplit(3)\n",
    "\n",
    "model = RandomForestRegressor(n_estimators=50, random_state=12345, criterion='mse')\n",
    "grid = GridSearchCV(model, params, scoring='neg_mean_squared_error', cv=ts_folds, refit=False, n_jobs=-1)\n",
    "grid.fit(train_x, train_y)\n",
    "\n",
    "grid_result = pd.DataFrame(grid.cv_results_)[['param_max_depth', 'param_min_samples_split', 'mean_test_score']]\n",
    "grid_result.columns = ['max_depth', 'min_samples_split', 'mse']\n",
    "display(grid_result)\n",
    "display(grid_result[grid_result['mse']==grid_result['mse'].max()])"
   ]
  },
  {
   "cell_type": "markdown",
   "metadata": {
    "cellId": "7no7604vp6pn280jksfo0h"
   },
   "source": [
    "Лучший результат получили с параметрами глубины деревьев 15 и числом объектов для разделения 6. Обучим модель заново и получим предсказания на валидационной выборке."
   ]
  },
  {
   "cell_type": "code",
   "execution_count": 20,
   "metadata": {
    "cellId": "lfkt3hs8tb8mzy53f34wj"
   },
   "outputs": [
    {
     "data": {
      "text/html": [
       "<div>\n",
       "<style scoped>\n",
       "    .dataframe tbody tr th:only-of-type {\n",
       "        vertical-align: middle;\n",
       "    }\n",
       "\n",
       "    .dataframe tbody tr th {\n",
       "        vertical-align: top;\n",
       "    }\n",
       "\n",
       "    .dataframe thead th {\n",
       "        text-align: right;\n",
       "    }\n",
       "</style>\n",
       "<table border=\"1\" class=\"dataframe\">\n",
       "  <thead>\n",
       "    <tr style=\"text-align: right;\">\n",
       "      <th></th>\n",
       "      <th>rmse</th>\n",
       "    </tr>\n",
       "  </thead>\n",
       "  <tbody>\n",
       "    <tr>\n",
       "      <th>Previous value</th>\n",
       "      <td>47.246</td>\n",
       "    </tr>\n",
       "    <tr>\n",
       "      <th>LinearRegression</th>\n",
       "      <td>31.539</td>\n",
       "    </tr>\n",
       "    <tr>\n",
       "      <th>RandomForest</th>\n",
       "      <td>32.532</td>\n",
       "    </tr>\n",
       "  </tbody>\n",
       "</table>\n",
       "</div>"
      ],
      "text/plain": [
       "                    rmse\n",
       "Previous value    47.246\n",
       "LinearRegression  31.539\n",
       "RandomForest      32.532"
      ]
     },
     "metadata": {},
     "output_type": "display_data"
    }
   ],
   "source": [
    "model = RandomForestRegressor(n_estimators=50,\n",
    "                                 random_state=12345,\n",
    "                                 criterion='mse',\n",
    "                                 max_depth=15, \n",
    "                                 min_samples_split=6, \n",
    "                                 n_jobs=-1)\n",
    "model.fit(train_x, train_y)\n",
    "\n",
    "results.loc['RandomForest'] = rmse(model, valid_x, valid_y)\n",
    "results"
   ]
  },
  {
   "cell_type": "markdown",
   "metadata": {
    "cellId": "bwjqq34ukn98iyd6wnjo5g"
   },
   "source": [
    "### LightGBM"
   ]
  },
  {
   "cell_type": "markdown",
   "metadata": {
    "cellId": "vyt4pczrhu7sjje7nrfy9"
   },
   "source": [
    "Применим градиентный бустинг для решения задачи. Подберем параметры глубины деревьев и шаг обучения."
   ]
  },
  {
   "cell_type": "code",
   "execution_count": 21,
   "metadata": {
    "cellId": "cl4mpu3zp7j8rslf3b3xoe"
   },
   "outputs": [
    {
     "data": {
      "text/html": [
       "<div>\n",
       "<style scoped>\n",
       "    .dataframe tbody tr th:only-of-type {\n",
       "        vertical-align: middle;\n",
       "    }\n",
       "\n",
       "    .dataframe tbody tr th {\n",
       "        vertical-align: top;\n",
       "    }\n",
       "\n",
       "    .dataframe thead th {\n",
       "        text-align: right;\n",
       "    }\n",
       "</style>\n",
       "<table border=\"1\" class=\"dataframe\">\n",
       "  <thead>\n",
       "    <tr style=\"text-align: right;\">\n",
       "      <th></th>\n",
       "      <th>max_depth</th>\n",
       "      <th>learning_rate</th>\n",
       "      <th>mse</th>\n",
       "    </tr>\n",
       "  </thead>\n",
       "  <tbody>\n",
       "    <tr>\n",
       "      <th>0</th>\n",
       "      <td>6</td>\n",
       "      <td>0.1</td>\n",
       "      <td>-549.238429</td>\n",
       "    </tr>\n",
       "    <tr>\n",
       "      <th>1</th>\n",
       "      <td>8</td>\n",
       "      <td>0.1</td>\n",
       "      <td>-547.770423</td>\n",
       "    </tr>\n",
       "    <tr>\n",
       "      <th>2</th>\n",
       "      <td>10</td>\n",
       "      <td>0.1</td>\n",
       "      <td>-559.771583</td>\n",
       "    </tr>\n",
       "    <tr>\n",
       "      <th>3</th>\n",
       "      <td>6</td>\n",
       "      <td>0.12</td>\n",
       "      <td>-557.124604</td>\n",
       "    </tr>\n",
       "    <tr>\n",
       "      <th>4</th>\n",
       "      <td>8</td>\n",
       "      <td>0.12</td>\n",
       "      <td>-552.634955</td>\n",
       "    </tr>\n",
       "    <tr>\n",
       "      <th>5</th>\n",
       "      <td>10</td>\n",
       "      <td>0.12</td>\n",
       "      <td>-554.066744</td>\n",
       "    </tr>\n",
       "    <tr>\n",
       "      <th>6</th>\n",
       "      <td>6</td>\n",
       "      <td>0.15</td>\n",
       "      <td>-561.293590</td>\n",
       "    </tr>\n",
       "    <tr>\n",
       "      <th>7</th>\n",
       "      <td>8</td>\n",
       "      <td>0.15</td>\n",
       "      <td>-573.962818</td>\n",
       "    </tr>\n",
       "    <tr>\n",
       "      <th>8</th>\n",
       "      <td>10</td>\n",
       "      <td>0.15</td>\n",
       "      <td>-554.587636</td>\n",
       "    </tr>\n",
       "  </tbody>\n",
       "</table>\n",
       "</div>"
      ],
      "text/plain": [
       "  max_depth learning_rate         mse\n",
       "0         6           0.1 -549.238429\n",
       "1         8           0.1 -547.770423\n",
       "2        10           0.1 -559.771583\n",
       "3         6          0.12 -557.124604\n",
       "4         8          0.12 -552.634955\n",
       "5        10          0.12 -554.066744\n",
       "6         6          0.15 -561.293590\n",
       "7         8          0.15 -573.962818\n",
       "8        10          0.15 -554.587636"
      ]
     },
     "metadata": {},
     "output_type": "display_data"
    },
    {
     "data": {
      "text/html": [
       "<div>\n",
       "<style scoped>\n",
       "    .dataframe tbody tr th:only-of-type {\n",
       "        vertical-align: middle;\n",
       "    }\n",
       "\n",
       "    .dataframe tbody tr th {\n",
       "        vertical-align: top;\n",
       "    }\n",
       "\n",
       "    .dataframe thead th {\n",
       "        text-align: right;\n",
       "    }\n",
       "</style>\n",
       "<table border=\"1\" class=\"dataframe\">\n",
       "  <thead>\n",
       "    <tr style=\"text-align: right;\">\n",
       "      <th></th>\n",
       "      <th>max_depth</th>\n",
       "      <th>learning_rate</th>\n",
       "      <th>mse</th>\n",
       "    </tr>\n",
       "  </thead>\n",
       "  <tbody>\n",
       "    <tr>\n",
       "      <th>1</th>\n",
       "      <td>8</td>\n",
       "      <td>0.1</td>\n",
       "      <td>-547.770423</td>\n",
       "    </tr>\n",
       "  </tbody>\n",
       "</table>\n",
       "</div>"
      ],
      "text/plain": [
       "  max_depth learning_rate         mse\n",
       "1         8           0.1 -547.770423"
      ]
     },
     "metadata": {},
     "output_type": "display_data"
    }
   ],
   "source": [
    "params = {\n",
    "    'max_depth': [6, 8, 10],\n",
    "    'learning_rate': [0.1, 0.12, 0.15]\n",
    "}\n",
    "ts_folds = TimeSeriesSplit(3)\n",
    "\n",
    "model = LGBMRegressor(n_estimators=100, random_state=12345)\n",
    "grid = GridSearchCV(model, params, scoring='neg_mean_squared_error', cv=ts_folds, refit=False)\n",
    "grid.fit(train_x, train_y)\n",
    "\n",
    "grid_result = pd.DataFrame(grid.cv_results_)[['param_max_depth', 'param_learning_rate', 'mean_test_score']]\n",
    "grid_result.columns = ['max_depth', 'learning_rate', 'mse']\n",
    "display(grid_result)\n",
    "display(grid_result[grid_result['mse']==grid_result['mse'].max()])"
   ]
  },
  {
   "cell_type": "markdown",
   "metadata": {
    "cellId": "0upgrl3nsp79ci1modhsoik"
   },
   "source": [
    "Лучшие результаты получили с параметрами глубины деревьев 8 и шагом обучения 0.1."
   ]
  },
  {
   "cell_type": "code",
   "execution_count": 22,
   "metadata": {
    "cellId": "c5b8kqmhs5hrpv8c4rk11g"
   },
   "outputs": [
    {
     "data": {
      "text/html": [
       "<div>\n",
       "<style scoped>\n",
       "    .dataframe tbody tr th:only-of-type {\n",
       "        vertical-align: middle;\n",
       "    }\n",
       "\n",
       "    .dataframe tbody tr th {\n",
       "        vertical-align: top;\n",
       "    }\n",
       "\n",
       "    .dataframe thead th {\n",
       "        text-align: right;\n",
       "    }\n",
       "</style>\n",
       "<table border=\"1\" class=\"dataframe\">\n",
       "  <thead>\n",
       "    <tr style=\"text-align: right;\">\n",
       "      <th></th>\n",
       "      <th>rmse</th>\n",
       "    </tr>\n",
       "  </thead>\n",
       "  <tbody>\n",
       "    <tr>\n",
       "      <th>Previous value</th>\n",
       "      <td>47.246</td>\n",
       "    </tr>\n",
       "    <tr>\n",
       "      <th>LinearRegression</th>\n",
       "      <td>31.539</td>\n",
       "    </tr>\n",
       "    <tr>\n",
       "      <th>RandomForest</th>\n",
       "      <td>32.532</td>\n",
       "    </tr>\n",
       "    <tr>\n",
       "      <th>Light GBM</th>\n",
       "      <td>31.367</td>\n",
       "    </tr>\n",
       "  </tbody>\n",
       "</table>\n",
       "</div>"
      ],
      "text/plain": [
       "                    rmse\n",
       "Previous value    47.246\n",
       "LinearRegression  31.539\n",
       "RandomForest      32.532\n",
       "Light GBM         31.367"
      ]
     },
     "metadata": {},
     "output_type": "display_data"
    }
   ],
   "source": [
    "model = LGBMRegressor(n_estimators=100, random_state=12345, max_depth=8, learning_rate=0.1)\n",
    "model.fit(train_x, train_y)\n",
    "\n",
    "results.loc['Light GBM'] = rmse(model, valid_x, valid_y)\n",
    "results"
   ]
  },
  {
   "cell_type": "markdown",
   "metadata": {
    "cellId": "c353rkv8u57fpytgdlvocg"
   },
   "source": [
    "Построим график результатов разных моделей машинного обучения и выберем лучший вариант."
   ]
  },
  {
   "cell_type": "code",
   "execution_count": 23,
   "metadata": {
    "cellId": "bgi1j5yz8z3p3cqre9pkm"
   },
   "outputs": [
    {
     "data": {
      "image/png": "[encoded data removed]",
      "text/plain": [
       "<Figure size 648x432 with 1 Axes>"
      ]
     },
     "metadata": {
      "needs_background": "light"
     },
     "output_type": "display_data"
    }
   ],
   "source": [
    "fig = plt.figure(figsize=(9,6))\n",
    "ax1 = fig.add_subplot(1, 1, 1)\n",
    "ax1.bar(x=results.index, height=results['rmse'])\n",
    "ax1.grid(axis='y')\n",
    "ax1.set_ylim(20, 50)\n",
    "ax1.set_title('RMSE metrics on valid set')\n",
    "plt.show()"
   ]
  },
  {
   "cell_type": "markdown",
   "metadata": {
    "cellId": "gjd736jrfdof0l65pvupp8"
   },
   "source": [
    "### Вывод"
   ]
  },
  {
   "cell_type": "markdown",
   "metadata": {
    "cellId": "q48ttpp54utquuzk3vksi"
   },
   "source": [
    "Были обучены различные модели машинного обучения, среди которых базовая простая модель, линейная регрессия, случайный лес и градиентный бустинг. Заказчиком заявлен максимальный RMSE, равный 48. Все результаты оказались лучше порогового значения. **Наилучший результат на обучении показала модель LightGBM**, эту модель будем использовать для предсказаний на тестовой выборке."
   ]
  },
  {
   "cell_type": "markdown",
   "metadata": {
    "cellId": "zrfpnkuj34lkybjl31mb0a"
   },
   "source": [
    "## Анализ модели"
   ]
  },
  {
   "cell_type": "markdown",
   "metadata": {
    "cellId": "5n6vnkio6swgtttb76c3uq"
   },
   "source": [
    "Составим новую обучающую выборку, совместно с валидационной выборкой. "
   ]
  },
  {
   "cell_type": "code",
   "execution_count": 24,
   "metadata": {
    "cellId": "0eu0oxhy8bxw6ognb9oxa75"
   },
   "outputs": [],
   "source": [
    "train_x, train_y = make_sets(train_valid, 24, 48)\n",
    "test_x, test_y = make_sets(test, 24, 48)"
   ]
  },
  {
   "cell_type": "markdown",
   "metadata": {
    "cellId": "f98bjuqxjd9jo4klsz5ztc"
   },
   "source": [
    "Получим предсказания на тестовой выборке и вычислим среднюю абсолютную ошибку предсказаний."
   ]
  },
  {
   "cell_type": "code",
   "execution_count": 25,
   "metadata": {
    "cellId": "4jnznjy6plou4srhpes8"
   },
   "outputs": [
    {
     "name": "stdout",
     "output_type": "stream",
     "text": [
      "RMSE на тестовой выборке: 40.242\n"
     ]
    }
   ],
   "source": [
    "model = LGBMRegressor(n_estimators=100, random_state=12345, max_depth=8, learning_rate=0.1)\n",
    "model.fit(train_x, train_y)\n",
    "\n",
    "print('RMSE на тестовой выборке: {:.3f}'.format(rmse(model, test_x, test_y)))"
   ]
  },
  {
   "cell_type": "markdown",
   "metadata": {
    "cellId": "mwvdg3x28snmx1pi095w"
   },
   "source": [
    "Представим на графике результаты предсказаний на тестовой выборке и реальные значения количества заказов и сравним их."
   ]
  },
  {
   "cell_type": "code",
   "execution_count": 26,
   "metadata": {
    "cellId": "b9geo22qtqa4yfto99h39l"
   },
   "outputs": [
    {
     "data": {
      "image/png": "[encoded data removed]",
      "text/plain": [
       "<Figure size 792x432 with 1 Axes>"
      ]
     },
     "metadata": {
      "needs_background": "light"
     },
     "output_type": "display_data"
    }
   ],
   "source": [
    "predictions = pd.Series(model.predict(test_x), index=test_y.index)\n",
    "fig = plt.figure(figsize=(11,6))\n",
    "\n",
    "ax = fig.add_subplot(1, 1, 1)\n",
    "ax.grid()\n",
    "ax.plot(test_y)\n",
    "ax.plot(predictions)\n",
    "plt.legend(['number of orders', 'predictions'])\n",
    "plt.title('Real and predicted number of orders')\n",
    "plt.show()"
   ]
  },
  {
   "cell_type": "markdown",
   "metadata": {
    "cellId": "u8philjd5fx1lhpr75hwi"
   },
   "source": [
    "На графике видно, что предсказания довольно точно повторяют реальные данные, за исключением участков с очевидными выбросами."
   ]
  },
  {
   "cell_type": "markdown",
   "metadata": {
    "cellId": "2omey39nx1wfbs1m6wqu5g"
   },
   "source": [
    "## Вывод"
   ]
  },
  {
   "cell_type": "markdown",
   "metadata": {
    "cellId": "fwmnpllfuq67grg17iqgr"
   },
   "source": [
    "В первой части работы был проведен анализ исходных данных и построены новые признаки для обучения моделей. В ходе анализа удалось установить ряд закономерностей:\n",
    "- Наблюдается тренд на увеличение скользящего среднего и среднеквадратического отклонения, имеется **глобальный тренда на увеличение заказов**;\n",
    "- **Количество заказов меняется в течении недели** с пиками в пятницу-субботу и воскресение-понедельник и минимумом в воскресение;\n",
    "- **Количество заказов менятся в течении дня**, наибольшее количество ночью, около 12 часов, наименьшее к 6 утра.\n",
    "\n",
    "Эти закономерности указывают на признаки, оказывающие влияние на количество заказов, такие как месяц года, день недели и час дня. Другие построенные признаки: скользящее среднее и значения за предыдущие периоды. Параметры для их определения были определены подбором. Таким образом были получены наборы данных готовые к обучению.\n",
    "\n",
    "Цель работы - получить модель, осуществляющую предсказания количества заказов на следующий час. Для предсказаний были выбраны модели линейной регрессии, случайного леса, градиентного бустинга. Результаты оценивались метрикой RMSE, и ошибка всех моделей оказалась лучше максимальной заявленной заказчиком и базовой, установленной простой моделью. **Лучшей моделью оказалась LIghtGBM**. Эту модель использовали для предсказаний на тестовой выборке. Полученный результат **RMSE равен 40.242**. Результаты исследований можно применять для дальнейшей разработки предсказательной модели и внедрения в бизнес процесс."
   ]
  },
  {
   "cell_type": "code",
   "execution_count": null,
   "metadata": {
    "cellId": "6accqofe0tp8dmbgah7ztt"
   },
   "outputs": [],
   "source": []
  }
 ],
 "metadata": {
  "ExecuteTimeLog": [
   {
    "duration": 1043,
    "start_time": "2021-12-11T10:27:29.541Z"
   },
   {
    "duration": 42,
    "start_time": "2021-12-11T10:27:30.586Z"
   },
   {
    "duration": 9,
    "start_time": "2021-12-11T10:27:30.630Z"
   },
   {
    "duration": 21,
    "start_time": "2021-12-11T10:27:30.640Z"
   },
   {
    "duration": 5,
    "start_time": "2021-12-11T10:27:30.663Z"
   },
   {
    "duration": 27,
    "start_time": "2021-12-11T10:27:30.670Z"
   },
   {
    "duration": 3,
    "start_time": "2021-12-11T10:27:30.699Z"
   },
   {
    "duration": 16,
    "start_time": "2021-12-11T10:27:30.705Z"
   },
   {
    "duration": 301,
    "start_time": "2021-12-11T10:27:30.723Z"
   },
   {
    "duration": 387,
    "start_time": "2021-12-11T10:27:31.026Z"
   },
   {
    "duration": 393,
    "start_time": "2021-12-11T10:27:31.414Z"
   },
   {
    "duration": 5,
    "start_time": "2021-12-11T10:27:31.809Z"
   },
   {
    "duration": 23,
    "start_time": "2021-12-11T10:27:31.816Z"
   },
   {
    "duration": 13,
    "start_time": "2021-12-11T10:27:31.840Z"
   },
   {
    "duration": 22,
    "start_time": "2021-12-11T10:27:31.855Z"
   },
   {
    "duration": 2315,
    "start_time": "2021-12-11T10:27:31.878Z"
   },
   {
    "duration": 205,
    "start_time": "2021-12-11T10:27:34.195Z"
   },
   {
    "duration": 27990,
    "start_time": "2021-12-11T10:27:34.492Z"
   },
   {
    "duration": 3259,
    "start_time": "2021-12-11T10:28:02.484Z"
   },
   {
    "duration": 41372,
    "start_time": "2021-12-11T10:28:05.745Z"
   },
   {
    "duration": 1680,
    "start_time": "2021-12-11T10:28:47.119Z"
   },
   {
    "duration": 207,
    "start_time": "2021-12-11T10:28:48.801Z"
   },
   {
    "duration": 86,
    "start_time": "2021-12-11T10:28:49.012Z"
   },
   {
    "duration": 32210,
    "start_time": "2021-12-11T10:28:49.100Z"
   },
   {
    "duration": 1185,
    "start_time": "2021-12-11T10:32:38.696Z"
   },
   {
    "duration": 39,
    "start_time": "2021-12-11T10:32:39.883Z"
   },
   {
    "duration": 14,
    "start_time": "2021-12-11T10:32:39.924Z"
   },
   {
    "duration": 8,
    "start_time": "2021-12-11T10:32:39.941Z"
   },
   {
    "duration": 5,
    "start_time": "2021-12-11T10:32:39.951Z"
   },
   {
    "duration": 40,
    "start_time": "2021-12-11T10:32:39.958Z"
   },
   {
    "duration": 5,
    "start_time": "2021-12-11T10:32:40.000Z"
   },
   {
    "duration": 16,
    "start_time": "2021-12-11T10:32:40.007Z"
   },
   {
    "duration": 353,
    "start_time": "2021-12-11T10:32:40.026Z"
   },
   {
    "duration": 420,
    "start_time": "2021-12-11T10:32:40.381Z"
   },
   {
    "duration": 423,
    "start_time": "2021-12-11T10:32:40.804Z"
   },
   {
    "duration": 5,
    "start_time": "2021-12-11T10:32:41.229Z"
   },
   {
    "duration": 14,
    "start_time": "2021-12-11T10:32:41.236Z"
   },
   {
    "duration": 6,
    "start_time": "2021-12-11T10:32:41.251Z"
   },
   {
    "duration": 34,
    "start_time": "2021-12-11T10:32:41.259Z"
   },
   {
    "duration": 2511,
    "start_time": "2021-12-11T10:32:41.295Z"
   },
   {
    "duration": 302,
    "start_time": "2021-12-11T10:32:43.891Z"
   },
   {
    "duration": 28982,
    "start_time": "2021-12-11T10:32:44.194Z"
   },
   {
    "duration": 3322,
    "start_time": "2021-12-11T10:33:13.178Z"
   },
   {
    "duration": 393204,
    "start_time": "2021-12-11T10:33:16.502Z"
   },
   {
    "duration": 7102,
    "start_time": "2021-12-11T10:39:49.707Z"
   },
   {
    "duration": 235,
    "start_time": "2021-12-11T10:39:56.811Z"
   },
   {
    "duration": 108,
    "start_time": "2021-12-11T10:39:57.048Z"
   },
   {
    "duration": 10352,
    "start_time": "2021-12-11T10:39:57.158Z"
   },
   {
    "duration": 376,
    "start_time": "2021-12-11T10:41:34.952Z"
   },
   {
    "duration": 22,
    "start_time": "2021-12-11T10:43:14.723Z"
   },
   {
    "duration": 18,
    "start_time": "2021-12-11T10:43:25.981Z"
   },
   {
    "duration": 18,
    "start_time": "2021-12-11T10:43:38.986Z"
   },
   {
    "duration": 6,
    "start_time": "2021-12-11T10:43:45.629Z"
   },
   {
    "duration": 237,
    "start_time": "2021-12-11T10:44:03.201Z"
   },
   {
    "duration": 248,
    "start_time": "2021-12-11T10:44:15.980Z"
   },
   {
    "duration": 251,
    "start_time": "2021-12-11T10:45:51.205Z"
   },
   {
    "duration": 318,
    "start_time": "2021-12-11T10:47:09.115Z"
   },
   {
    "duration": 332,
    "start_time": "2021-12-11T10:47:26.972Z"
   },
   {
    "duration": 7,
    "start_time": "2021-12-11T10:47:30.089Z"
   },
   {
    "duration": 282,
    "start_time": "2021-12-11T10:48:02.645Z"
   },
   {
    "duration": 280,
    "start_time": "2021-12-11T10:50:11.748Z"
   },
   {
    "duration": 1054,
    "start_time": "2021-12-11T10:58:22.017Z"
   },
   {
    "duration": 38,
    "start_time": "2021-12-11T10:58:23.073Z"
   },
   {
    "duration": 8,
    "start_time": "2021-12-11T10:58:23.113Z"
   },
   {
    "duration": 7,
    "start_time": "2021-12-11T10:58:23.123Z"
   },
   {
    "duration": 3,
    "start_time": "2021-12-11T10:58:23.132Z"
   },
   {
    "duration": 14,
    "start_time": "2021-12-11T10:58:23.137Z"
   },
   {
    "duration": 3,
    "start_time": "2021-12-11T10:58:23.152Z"
   },
   {
    "duration": 41,
    "start_time": "2021-12-11T10:58:23.157Z"
   },
   {
    "duration": 294,
    "start_time": "2021-12-11T10:58:23.200Z"
   },
   {
    "duration": 387,
    "start_time": "2021-12-11T10:58:23.496Z"
   },
   {
    "duration": 384,
    "start_time": "2021-12-11T10:58:23.885Z"
   },
   {
    "duration": 5,
    "start_time": "2021-12-11T10:58:24.272Z"
   },
   {
    "duration": 22,
    "start_time": "2021-12-11T10:58:24.278Z"
   },
   {
    "duration": 4,
    "start_time": "2021-12-11T10:58:24.302Z"
   },
   {
    "duration": 10,
    "start_time": "2021-12-11T10:58:24.307Z"
   },
   {
    "duration": 2475,
    "start_time": "2021-12-11T10:58:24.318Z"
   },
   {
    "duration": 306,
    "start_time": "2021-12-11T10:58:26.795Z"
   },
   {
    "duration": 27492,
    "start_time": "2021-12-11T10:58:27.103Z"
   },
   {
    "duration": 3294,
    "start_time": "2021-12-11T10:58:54.596Z"
   },
   {
    "duration": 39909,
    "start_time": "2021-12-11T10:58:57.892Z"
   },
   {
    "duration": 1611,
    "start_time": "2021-12-11T10:59:37.802Z"
   },
   {
    "duration": 239,
    "start_time": "2021-12-11T10:59:39.414Z"
   },
   {
    "duration": 86,
    "start_time": "2021-12-11T10:59:39.657Z"
   },
   {
    "duration": 1861,
    "start_time": "2021-12-11T10:59:39.745Z"
   },
   {
    "duration": 440,
    "start_time": "2021-12-11T10:59:41.608Z"
   }
  ],
  "kernelspec": {
   "display_name": "Python 3",
   "language": "python",
   "name": "python3"
  },
  "language_info": {
   "codemirror_mode": {
    "name": "ipython",
    "version": 3
   },
   "file_extension": ".py",
   "mimetype": "text/x-python",
   "name": "python",
   "nbconvert_exporter": "python",
   "pygments_lexer": "ipython3",
   "version": "3.8.8"
  },
  "notebookId": "6f15d8a7-b22a-4c50-a11b-ee9a1dd9f860",
  "notebookPath": "taxi_orders_forecasting.ipynb",
  "toc": {
   "base_numbering": 1,
   "nav_menu": {},
   "number_sections": true,
   "sideBar": true,
   "skip_h1_title": true,
   "title_cell": "Содержание",
   "title_sidebar": "Contents",
   "toc_cell": true,
   "toc_position": {},
   "toc_section_display": true,
   "toc_window_display": false
  }
 },
 "nbformat": 4,
 "nbformat_minor": 4
}
