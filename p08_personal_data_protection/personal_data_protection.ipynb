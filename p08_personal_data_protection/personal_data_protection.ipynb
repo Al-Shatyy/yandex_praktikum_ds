{
 "cells": [
  {
   "cell_type": "markdown",
   "metadata": {
    "toc": true
   },
   "source": [
    "<h1>Содержание<span class=\"tocSkip\"></span></h1>\n",
    "<div class=\"toc\"><ul class=\"toc-item\"><li><span><a href=\"#Загрузка-данных\" data-toc-modified-id=\"Загрузка-данных-1\"><span class=\"toc-item-num\">1&nbsp;&nbsp;</span>Загрузка данных</a></span></li><li><span><a href=\"#Умножение-матриц\" data-toc-modified-id=\"Умножение-матриц-2\"><span class=\"toc-item-num\">2&nbsp;&nbsp;</span>Умножение матриц</a></span></li><li><span><a href=\"#Алгоритм-преобразования\" data-toc-modified-id=\"Алгоритм-преобразования-3\"><span class=\"toc-item-num\">3&nbsp;&nbsp;</span>Алгоритм преобразования</a></span></li><li><span><a href=\"#Проверка-алгоритма\" data-toc-modified-id=\"Проверка-алгоритма-4\"><span class=\"toc-item-num\">4&nbsp;&nbsp;</span>Проверка алгоритма</a></span></li><li><span><a href=\"#Вывод\" data-toc-modified-id=\"Вывод-5\"><span class=\"toc-item-num\">5&nbsp;&nbsp;</span>Вывод</a></span></li><li><span><a href=\"#Чек-лист-проверки\" data-toc-modified-id=\"Чек-лист-проверки-6\"><span class=\"toc-item-num\">6&nbsp;&nbsp;</span>Чек-лист проверки</a></span></li></ul></div>"
   ]
  },
  {
   "cell_type": "markdown",
   "metadata": {},
   "source": [
    "# Защита персональных данных клиентов"
   ]
  },
  {
   "cell_type": "markdown",
   "metadata": {},
   "source": [
    "**Задание**\n",
    "\n",
    ">Вам нужно защитить данные клиентов страховой компании «Хоть потоп». Разработайте такой метод преобразования данных, чтобы по ним было сложно восстановить персональную информацию. Обоснуйте корректность его работы.\n",
    "<br><br>\n",
    "Нужно защитить данные, чтобы при преобразовании качество моделей машинного обучения не ухудшилось. Подбирать наилучшую модель не требуется.\n",
    "\n",
    "**Описание данных**\n",
    "\n",
    "| features | description\n",
    "| -------- | :---------- |\n",
    "| Обучающие | Пол, Возраст, Зарплата, Члены семьи\n",
    "| Целевой | Страховые выплаты - количество выплат за последние 5 лет"
   ]
  },
  {
   "cell_type": "markdown",
   "metadata": {},
   "source": [
    "## Загрузка данных"
   ]
  },
  {
   "cell_type": "markdown",
   "metadata": {},
   "source": [
    "Импортируем необходимые библиотеки."
   ]
  },
  {
   "cell_type": "code",
   "execution_count": 1,
   "metadata": {},
   "outputs": [],
   "source": [
    "import pandas as pd\n",
    "import numpy as np\n",
    "import matplotlib.pyplot as plt\n",
    "\n",
    "from sklearn.metrics import r2_score\n",
    "from sklearn.preprocessing import MinMaxScaler\n",
    "\n",
    "from sklearn.linear_model import LinearRegression"
   ]
  },
  {
   "cell_type": "markdown",
   "metadata": {},
   "source": [
    "Загрузим файл CSV и сохраним в переменную *data*."
   ]
  },
  {
   "cell_type": "code",
   "execution_count": 3,
   "metadata": {},
   "outputs": [],
   "source": [
    "data = pd.read_csv('datasets/insurance.csv')"
   ]
  },
  {
   "cell_type": "markdown",
   "metadata": {},
   "source": [
    "Проверим загруженную таблицу, общую информацию и описание."
   ]
  },
  {
   "cell_type": "code",
   "execution_count": 4,
   "metadata": {},
   "outputs": [
    {
     "name": "stdout",
     "output_type": "stream",
     "text": [
      "<class 'pandas.core.frame.DataFrame'>\n",
      "RangeIndex: 5000 entries, 0 to 4999\n",
      "Data columns (total 5 columns):\n",
      " #   Column             Non-Null Count  Dtype  \n",
      "---  ------             --------------  -----  \n",
      " 0   Пол                5000 non-null   int64  \n",
      " 1   Возраст            5000 non-null   float64\n",
      " 2   Зарплата           5000 non-null   float64\n",
      " 3   Члены семьи        5000 non-null   int64  \n",
      " 4   Страховые выплаты  5000 non-null   int64  \n",
      "dtypes: float64(2), int64(3)\n",
      "memory usage: 195.4 KB\n"
     ]
    },
    {
     "data": {
      "text/html": [
       "<div>\n",
       "<style scoped>\n",
       "    .dataframe tbody tr th:only-of-type {\n",
       "        vertical-align: middle;\n",
       "    }\n",
       "\n",
       "    .dataframe tbody tr th {\n",
       "        vertical-align: top;\n",
       "    }\n",
       "\n",
       "    .dataframe thead th {\n",
       "        text-align: right;\n",
       "    }\n",
       "</style>\n",
       "<table border=\"1\" class=\"dataframe\">\n",
       "  <thead>\n",
       "    <tr style=\"text-align: right;\">\n",
       "      <th></th>\n",
       "      <th>Пол</th>\n",
       "      <th>Возраст</th>\n",
       "      <th>Зарплата</th>\n",
       "      <th>Члены семьи</th>\n",
       "      <th>Страховые выплаты</th>\n",
       "    </tr>\n",
       "  </thead>\n",
       "  <tbody>\n",
       "    <tr>\n",
       "      <th>0</th>\n",
       "      <td>1</td>\n",
       "      <td>41.0</td>\n",
       "      <td>49600.0</td>\n",
       "      <td>1</td>\n",
       "      <td>0</td>\n",
       "    </tr>\n",
       "    <tr>\n",
       "      <th>1</th>\n",
       "      <td>0</td>\n",
       "      <td>46.0</td>\n",
       "      <td>38000.0</td>\n",
       "      <td>1</td>\n",
       "      <td>1</td>\n",
       "    </tr>\n",
       "    <tr>\n",
       "      <th>2</th>\n",
       "      <td>0</td>\n",
       "      <td>29.0</td>\n",
       "      <td>21000.0</td>\n",
       "      <td>0</td>\n",
       "      <td>0</td>\n",
       "    </tr>\n",
       "    <tr>\n",
       "      <th>3</th>\n",
       "      <td>0</td>\n",
       "      <td>21.0</td>\n",
       "      <td>41700.0</td>\n",
       "      <td>2</td>\n",
       "      <td>0</td>\n",
       "    </tr>\n",
       "    <tr>\n",
       "      <th>4</th>\n",
       "      <td>1</td>\n",
       "      <td>28.0</td>\n",
       "      <td>26100.0</td>\n",
       "      <td>0</td>\n",
       "      <td>0</td>\n",
       "    </tr>\n",
       "  </tbody>\n",
       "</table>\n",
       "</div>"
      ],
      "text/plain": [
       "   Пол  Возраст  Зарплата  Члены семьи  Страховые выплаты\n",
       "0    1     41.0   49600.0            1                  0\n",
       "1    0     46.0   38000.0            1                  1\n",
       "2    0     29.0   21000.0            0                  0\n",
       "3    0     21.0   41700.0            2                  0\n",
       "4    1     28.0   26100.0            0                  0"
      ]
     },
     "execution_count": 4,
     "metadata": {},
     "output_type": "execute_result"
    }
   ],
   "source": [
    "data.info()\n",
    "data.head()"
   ]
  },
  {
   "cell_type": "code",
   "execution_count": 5,
   "metadata": {},
   "outputs": [
    {
     "data": {
      "text/html": [
       "<div>\n",
       "<style scoped>\n",
       "    .dataframe tbody tr th:only-of-type {\n",
       "        vertical-align: middle;\n",
       "    }\n",
       "\n",
       "    .dataframe tbody tr th {\n",
       "        vertical-align: top;\n",
       "    }\n",
       "\n",
       "    .dataframe thead th {\n",
       "        text-align: right;\n",
       "    }\n",
       "</style>\n",
       "<table border=\"1\" class=\"dataframe\">\n",
       "  <thead>\n",
       "    <tr style=\"text-align: right;\">\n",
       "      <th></th>\n",
       "      <th>Пол</th>\n",
       "      <th>Возраст</th>\n",
       "      <th>Зарплата</th>\n",
       "      <th>Члены семьи</th>\n",
       "      <th>Страховые выплаты</th>\n",
       "    </tr>\n",
       "  </thead>\n",
       "  <tbody>\n",
       "    <tr>\n",
       "      <th>count</th>\n",
       "      <td>5000.000000</td>\n",
       "      <td>5000.000000</td>\n",
       "      <td>5000.000000</td>\n",
       "      <td>5000.000000</td>\n",
       "      <td>5000.000000</td>\n",
       "    </tr>\n",
       "    <tr>\n",
       "      <th>mean</th>\n",
       "      <td>0.499000</td>\n",
       "      <td>30.952800</td>\n",
       "      <td>39916.360000</td>\n",
       "      <td>1.194200</td>\n",
       "      <td>0.148000</td>\n",
       "    </tr>\n",
       "    <tr>\n",
       "      <th>std</th>\n",
       "      <td>0.500049</td>\n",
       "      <td>8.440807</td>\n",
       "      <td>9900.083569</td>\n",
       "      <td>1.091387</td>\n",
       "      <td>0.463183</td>\n",
       "    </tr>\n",
       "    <tr>\n",
       "      <th>min</th>\n",
       "      <td>0.000000</td>\n",
       "      <td>18.000000</td>\n",
       "      <td>5300.000000</td>\n",
       "      <td>0.000000</td>\n",
       "      <td>0.000000</td>\n",
       "    </tr>\n",
       "    <tr>\n",
       "      <th>25%</th>\n",
       "      <td>0.000000</td>\n",
       "      <td>24.000000</td>\n",
       "      <td>33300.000000</td>\n",
       "      <td>0.000000</td>\n",
       "      <td>0.000000</td>\n",
       "    </tr>\n",
       "    <tr>\n",
       "      <th>50%</th>\n",
       "      <td>0.000000</td>\n",
       "      <td>30.000000</td>\n",
       "      <td>40200.000000</td>\n",
       "      <td>1.000000</td>\n",
       "      <td>0.000000</td>\n",
       "    </tr>\n",
       "    <tr>\n",
       "      <th>75%</th>\n",
       "      <td>1.000000</td>\n",
       "      <td>37.000000</td>\n",
       "      <td>46600.000000</td>\n",
       "      <td>2.000000</td>\n",
       "      <td>0.000000</td>\n",
       "    </tr>\n",
       "    <tr>\n",
       "      <th>max</th>\n",
       "      <td>1.000000</td>\n",
       "      <td>65.000000</td>\n",
       "      <td>79000.000000</td>\n",
       "      <td>6.000000</td>\n",
       "      <td>5.000000</td>\n",
       "    </tr>\n",
       "  </tbody>\n",
       "</table>\n",
       "</div>"
      ],
      "text/plain": [
       "               Пол      Возраст      Зарплата  Члены семьи  Страховые выплаты\n",
       "count  5000.000000  5000.000000   5000.000000  5000.000000        5000.000000\n",
       "mean      0.499000    30.952800  39916.360000     1.194200           0.148000\n",
       "std       0.500049     8.440807   9900.083569     1.091387           0.463183\n",
       "min       0.000000    18.000000   5300.000000     0.000000           0.000000\n",
       "25%       0.000000    24.000000  33300.000000     0.000000           0.000000\n",
       "50%       0.000000    30.000000  40200.000000     1.000000           0.000000\n",
       "75%       1.000000    37.000000  46600.000000     2.000000           0.000000\n",
       "max       1.000000    65.000000  79000.000000     6.000000           5.000000"
      ]
     },
     "execution_count": 5,
     "metadata": {},
     "output_type": "execute_result"
    }
   ],
   "source": [
    "data.describe()"
   ]
  },
  {
   "cell_type": "markdown",
   "metadata": {},
   "source": [
    "Построим гистограмму распределения целевого признака."
   ]
  },
  {
   "cell_type": "code",
   "execution_count": 13,
   "metadata": {},
   "outputs": [
    {
     "data": {
      "image/png": "[encoded data removed]",
      "text/plain": [
       "<Figure size 576x360 with 1 Axes>"
      ]
     },
     "metadata": {
      "needs_background": "light"
     },
     "output_type": "display_data"
    }
   ],
   "source": [
    "data['Страховые выплаты'].hist(figsize=(8, 5))\n",
    "plt.show()"
   ]
  },
  {
   "cell_type": "markdown",
   "metadata": {},
   "source": [
    "Данные загружены корректно. В таблице отсутствуют пропуски, типы данных приведены к численным, а значения имеют адекватные распределения."
   ]
  },
  {
   "cell_type": "markdown",
   "metadata": {},
   "source": [
    "## Умножение матриц"
   ]
  },
  {
   "cell_type": "markdown",
   "metadata": {},
   "source": [
    "Есть идея, что зашифровать данные клиентов можно с помощью умножения матрицы признаков на некую случайную матрицу. Не зная случайную матрицу, восстановить данные клиентов не получится. Нам необходимо выяснить как такой метод повлияет на предсказания линейной регрессии."
   ]
  },
  {
   "cell_type": "markdown",
   "metadata": {},
   "source": [
    "Обозначения:\n",
    "\n",
    "- $X$ — матрица признаков (нулевой столбец состоит из единиц)\n",
    "\n",
    "- $y$ — вектор целевого признака\n",
    "\n",
    "- $P$ — матрица, на которую умножаются признаки\n",
    "\n",
    "- $w$ — вектор весов линейной регрессии (нулевой элемент равен сдвигу)"
   ]
  },
  {
   "cell_type": "markdown",
   "metadata": {},
   "source": [
    "Предсказания:\n",
    "\n",
    "$$\n",
    "a = Xw\n",
    "$$\n",
    "\n",
    "Задача обучения:\n",
    "\n",
    "$$\n",
    "w = \\arg\\min_w MSE(Xw, y)\n",
    "$$\n",
    "\n",
    "Формула обучения:\n",
    "\n",
    "$$\n",
    "w = (X^T X)^{-1} X^T y\n",
    "$$"
   ]
  },
  {
   "cell_type": "markdown",
   "metadata": {},
   "source": [
    "**Задача:**  Признаки умножают на обратимую матрицу. Изменится ли качество линейной регрессии? (Её можно обучить заново.)\n",
    "- Изменится. Приведите примеры матриц.\n",
    "- Не изменится. Укажите, как связаны параметры линейной регрессии в исходной задаче и в преобразованной.\n",
    "\n",
    "**Ответ:** Не изменится\n",
    "\n",
    "**Обоснование:**"
   ]
  },
  {
   "cell_type": "markdown",
   "metadata": {},
   "source": [
    "Представим новые признаки (Z) как произведение старых признаков (X) и обратимой матрицы (R):\n",
    "\n",
    "$$Z = X*R$$\n",
    "тогда веса признаков будут равны:\n",
    "\n",
    "$$w_2 = (Z^T Z)^{-1}Z^T y$$\n",
    "\n",
    "$$w_2 = ((XR)^T XR)^{-1}(XR)^T y$$\n",
    "\n",
    "Вынесем матрицу R за скобки:\n",
    "\n",
    "$$w_2 = R^{T(-1)} R^{T} R^{-1} (X^T X)^{-1} X^T y$$\n",
    "\n",
    "В правой стороне уравнения получилось выразить w из формулы обучения. Введем ее в уравнение:\n",
    "\n",
    "$$w_2 = R^{T(-1)} R^{T} R^{-1} w$$\n",
    "\n",
    "Произведение транспонированной матрицы R на обратную ей будет равно единичной матрице E, так как матрица обратимая:\n",
    "\n",
    "$$w_2 = E R^{-1} w = R^{-1} w$$\n",
    "\n",
    "Полученное выражение устанавливает связь между двумя векторами весов. Подставим уравнение в формулу предсказаний: \n",
    "\n",
    "$$a_2 = Zw_2 = XRw_2$$\n",
    "\n",
    "$$a_2 = X R R^{-1} w$$\n",
    "\n",
    "$$a_2 = X w = a$$\n",
    "\n",
    "Таким образом мы установили, что умножение матрицы признаков на обратимую матрицу не изменяет предсказания линейной регрессии."
   ]
  },
  {
   "cell_type": "markdown",
   "metadata": {},
   "source": [
    "## Алгоритм преобразования"
   ]
  },
  {
   "cell_type": "markdown",
   "metadata": {},
   "source": [
    "**Алгоритм**\n",
    "\n",
    "Для защиты данных клиентов, матрицу признаков умножим на случайную обратимую матрицу, размером равным количетсву признаков. \n",
    "- Для создания матрицы используем функцию <code>numpy.random.normal</code>. Обратимость матрицы контролируем функцией <code>numpy.linalg.inv</code>. В случае, если созданная матрица необратимая, функция вернет ошибку. \n",
    "- Зашифрованную матрицу признаков используем для обучения модели линейной регрессии."
   ]
  },
  {
   "cell_type": "markdown",
   "metadata": {},
   "source": [
    "**Обоснование**\n",
    "\n",
    "Как показано выше умножение матрицы признаков на случайную матрицу не влияет на качество предсказательной модели, но это действие приводит к повышению защиты данных клиентов. По зашифрованной матрице восстановить исходную чрезвычайно сложно.\n",
    "\n",
    "Ниже покажем на примере, что алгоритм преобразования признаков работает для модели линейной регрессии."
   ]
  },
  {
   "cell_type": "markdown",
   "metadata": {},
   "source": [
    "Разделим таблицу на обучающие признаки и целевой признак."
   ]
  },
  {
   "cell_type": "code",
   "execution_count": 16,
   "metadata": {},
   "outputs": [],
   "source": [
    "features = data.drop('Страховые выплаты', axis=1)\n",
    "target = data.loc[:, 'Страховые выплаты']"
   ]
  },
  {
   "cell_type": "markdown",
   "metadata": {},
   "source": [
    "Функция *random_matrix* создает случайную квадратную матрицу и проверяет ее на возможность получения обратной матрицы. Если полученная матрица необратимая, то функция рекурсивно вызывает себя, пока не получит обратимую матрицу."
   ]
  },
  {
   "cell_type": "code",
   "execution_count": 17,
   "metadata": {},
   "outputs": [],
   "source": [
    "def random_matrix(shape):\n",
    "    try:\n",
    "        matrix = np.random.normal(loc=0, scale=1, size=(shape, shape))\n",
    "        inverted_matrix = np.linalg.inv(matrix)\n",
    "    except:\n",
    "        print('Матрица не обратимая!')\n",
    "        inverted_matrix = random_matrix(shape)\n",
    "    return inverted_matrix"
   ]
  },
  {
   "cell_type": "markdown",
   "metadata": {},
   "source": [
    "Масштабируем признаки методом MinMaxScaler. Применение метода также можно считать шифрованием, так как без исходного scaler крайне сложно понять как данные были изначально."
   ]
  },
  {
   "cell_type": "code",
   "execution_count": 18,
   "metadata": {},
   "outputs": [],
   "source": [
    "scaler = MinMaxScaler().fit(features)\n",
    "features_scaled = pd.DataFrame(scaler.transform(features), columns=features.columns)"
   ]
  },
  {
   "cell_type": "markdown",
   "metadata": {},
   "source": [
    "Найдем вектор весов для признаков без шифрования, преобразуем признаки и найдем тот же вектор для зашифрованных данных. Для обоих случаев получим предсказания и вычислим разницу между предсказаниями. Проведем эти операци несколько раз, чтобы убедиться в верности выводов."
   ]
  },
  {
   "cell_type": "code",
   "execution_count": 20,
   "metadata": {},
   "outputs": [
    {
     "name": "stdout",
     "output_type": "stream",
     "text": [
      "Разница в предсказаниях моделей:\n",
      "min: 3.10e-16\n",
      "max: 3.22e-12\n"
     ]
    }
   ],
   "source": [
    "difference = []\n",
    "for i in range(50):\n",
    "    w = np.linalg.inv(features_scaled.T.dot(features_scaled)).dot(features_scaled.T).dot(target)\n",
    "    a = features_scaled.dot(w)\n",
    "\n",
    "    inverted_matrix = random_matrix(features.shape[1])\n",
    "    features_crypted = features_scaled.dot(inverted_matrix)\n",
    "\n",
    "    w_1 = np.linalg.inv(features_crypted.T.dot(features_crypted)).dot(features_crypted.T).dot(target)\n",
    "    a_1 = features_crypted.dot(w_1)\n",
    "    \n",
    "    difference.append(abs(a - a_1).mean())\n",
    "\n",
    "difference = pd.Series(difference)\n",
    "print('Разница в предсказаниях моделей:\\nmin: {:.2e}\\nmax: {:.2e}'.format(difference.min(), difference.max()))"
   ]
  },
  {
   "cell_type": "markdown",
   "metadata": {},
   "source": [
    "Разница в предсказаниях близка к нулю. Преобразования матрицы признаков не влияет на предсказания модели."
   ]
  },
  {
   "cell_type": "markdown",
   "metadata": {},
   "source": [
    "Построим диаграмму весов признаков исходной матрицы и преобразованной."
   ]
  },
  {
   "cell_type": "code",
   "execution_count": 21,
   "metadata": {},
   "outputs": [
    {
     "data": {
      "image/png": "[encoded data removed]",
      "text/plain": [
       "<Figure size 432x288 with 1 Axes>"
      ]
     },
     "metadata": {
      "needs_background": "light"
     },
     "output_type": "display_data"
    }
   ],
   "source": [
    "plt.plot(w, 'ro', w_1, 'bo')\n",
    "plt.legend(labels=['original','crypted'])\n",
    "plt.title('Веса признаков без шифрования и с шифрованием')\n",
    "plt.grid()"
   ]
  },
  {
   "cell_type": "markdown",
   "metadata": {},
   "source": [
    "Внутри модели линейной регрессии умножение на обратимую матрицу приводит к перераспределению весов признаков."
   ]
  },
  {
   "cell_type": "markdown",
   "metadata": {},
   "source": [
    "## Проверка алгоритма"
   ]
  },
  {
   "cell_type": "markdown",
   "metadata": {},
   "source": [
    "Обучим модель линейной регрессии на исходных данных и на зашифрованных данных. Сравним качество предсказаний по метрике R2."
   ]
  },
  {
   "cell_type": "code",
   "execution_count": 22,
   "metadata": {},
   "outputs": [
    {
     "name": "stdout",
     "output_type": "stream",
     "text": [
      "Метрика R2:\n",
      "без шифрования: 0.42495\n",
      "с шифрованием: 0.424946\n"
     ]
    }
   ],
   "source": [
    "model = LinearRegression()\n",
    "model.fit(features_scaled, target)\n",
    "predictions = model.predict(features_scaled)\n",
    "\n",
    "inverted_matrix = random_matrix(features.shape[1])\n",
    "features_crypted = features_scaled.dot(inverted_matrix)\n",
    "\n",
    "model_1 = LinearRegression()\n",
    "model_1.fit(features_crypted, target)\n",
    "predictions_1 = model_1.predict(features_crypted)\n",
    "\n",
    "print('Метрика R2:\\nбез шифрования: {:.5f}\\nс шифрованием: {:.6f}'.format(\n",
    "    r2_score(target, predictions), r2_score(target, predictions_1)))"
   ]
  },
  {
   "cell_type": "markdown",
   "metadata": {},
   "source": [
    "Значения метрики R2 практически равны для обоих наборов данных."
   ]
  },
  {
   "cell_type": "markdown",
   "metadata": {},
   "source": [
    "## Вывод"
   ]
  },
  {
   "cell_type": "markdown",
   "metadata": {},
   "source": [
    "Для защиты данных клиентов страховой компании был предложен алгоритм шифрования данных, основанный на умножении матрицы признаков на случайную обратимую матрицу. Предложенный алгоритм был обоснован теоретически. Было обнаружено, что алгоритм не ухудшает предсказания модели, но позволяет эффективно шифровать данные клиентов.\n",
    "\n",
    "На примере модели линейной регрессии показали, что качетсво модели с шифрованием не отличается от качества модели без шифрования признаков. **Данный метод шифрования можно использовать для защиты данных клиентов.**"
   ]
  },
  {
   "cell_type": "code",
   "execution_count": null,
   "metadata": {},
   "outputs": [],
   "source": []
  }
 ],
 "metadata": {
  "ExecuteTimeLog": [
   {
    "duration": 830,
    "start_time": "2021-11-08T15:01:16.781Z"
   },
   {
    "duration": 21,
    "start_time": "2021-11-08T15:01:43.939Z"
   },
   {
    "duration": 22,
    "start_time": "2021-11-08T15:02:27.191Z"
   },
   {
    "duration": 9,
    "start_time": "2021-11-08T15:02:43.465Z"
   },
   {
    "duration": 45,
    "start_time": "2021-11-08T15:04:35.633Z"
   },
   {
    "duration": 35,
    "start_time": "2021-11-08T15:04:51.875Z"
   },
   {
    "duration": 8,
    "start_time": "2021-11-08T15:04:52.559Z"
   },
   {
    "duration": 617,
    "start_time": "2021-11-08T15:17:06.103Z"
   },
   {
    "duration": 6,
    "start_time": "2021-11-08T15:19:24.293Z"
   },
   {
    "duration": 9,
    "start_time": "2021-11-08T15:21:51.353Z"
   },
   {
    "duration": 10,
    "start_time": "2021-11-08T15:22:14.562Z"
   },
   {
    "duration": 745,
    "start_time": "2021-11-08T15:22:26.975Z"
   },
   {
    "duration": 651,
    "start_time": "2021-11-08T15:23:51.690Z"
   },
   {
    "duration": 94,
    "start_time": "2021-11-08T15:24:09.009Z"
   },
   {
    "duration": 12,
    "start_time": "2021-11-08T15:24:35.118Z"
   },
   {
    "duration": 994,
    "start_time": "2021-11-08T15:24:50.149Z"
   },
   {
    "duration": 14,
    "start_time": "2021-11-08T15:25:00.773Z"
   },
   {
    "duration": 18,
    "start_time": "2021-11-08T15:25:03.257Z"
   },
   {
    "duration": 50,
    "start_time": "2021-11-08T15:26:16.650Z"
   },
   {
    "duration": 49,
    "start_time": "2021-11-08T15:26:44.253Z"
   },
   {
    "duration": 12,
    "start_time": "2021-11-08T15:26:46.825Z"
   },
   {
    "duration": 14,
    "start_time": "2021-11-08T15:26:48.748Z"
   },
   {
    "duration": 6,
    "start_time": "2021-11-08T15:27:47.996Z"
   },
   {
    "duration": 5,
    "start_time": "2021-11-08T15:28:00.934Z"
   },
   {
    "duration": 5,
    "start_time": "2021-11-08T15:28:11.529Z"
   },
   {
    "duration": 7,
    "start_time": "2021-11-08T15:28:17.570Z"
   },
   {
    "duration": 6,
    "start_time": "2021-11-08T15:28:21.677Z"
   },
   {
    "duration": 117,
    "start_time": "2021-11-08T15:29:53.224Z"
   },
   {
    "duration": 261,
    "start_time": "2021-11-08T15:30:09.145Z"
   },
   {
    "duration": 251,
    "start_time": "2021-11-08T15:30:37.921Z"
   },
   {
    "duration": 16,
    "start_time": "2021-11-08T15:31:30.413Z"
   },
   {
    "duration": 7,
    "start_time": "2021-11-08T15:31:34.501Z"
   },
   {
    "duration": 273,
    "start_time": "2021-11-08T15:31:46.112Z"
   },
   {
    "duration": 27,
    "start_time": "2021-11-08T15:32:21.326Z"
   },
   {
    "duration": 15,
    "start_time": "2021-11-08T15:32:21.947Z"
   },
   {
    "duration": 6,
    "start_time": "2021-11-08T15:32:25.892Z"
   },
   {
    "duration": 251,
    "start_time": "2021-11-08T15:32:28.386Z"
   },
   {
    "duration": 264,
    "start_time": "2021-11-08T15:32:51.236Z"
   },
   {
    "duration": 265,
    "start_time": "2021-11-08T15:33:08.241Z"
   },
   {
    "duration": 65,
    "start_time": "2021-11-08T15:34:39.536Z"
   },
   {
    "duration": 8,
    "start_time": "2021-11-08T15:34:46.718Z"
   },
   {
    "duration": 7,
    "start_time": "2021-11-08T15:34:51.051Z"
   },
   {
    "duration": 23,
    "start_time": "2021-11-08T15:35:54.222Z"
   },
   {
    "duration": 8,
    "start_time": "2021-11-08T15:35:55.445Z"
   },
   {
    "duration": 16,
    "start_time": "2021-11-08T15:35:58.655Z"
   },
   {
    "duration": 14,
    "start_time": "2021-11-08T15:36:00.086Z"
   },
   {
    "duration": 14,
    "start_time": "2021-11-08T15:36:10.007Z"
   },
   {
    "duration": 15,
    "start_time": "2021-11-08T15:36:12.753Z"
   },
   {
    "duration": 384,
    "start_time": "2021-11-08T15:36:27.988Z"
   },
   {
    "duration": 32,
    "start_time": "2021-11-08T15:36:36.069Z"
   },
   {
    "duration": 368,
    "start_time": "2021-11-08T15:37:52.484Z"
   },
   {
    "duration": 372,
    "start_time": "2021-11-08T15:38:02.653Z"
   },
   {
    "duration": 296,
    "start_time": "2021-11-08T15:38:18.119Z"
   },
   {
    "duration": 341,
    "start_time": "2021-11-08T15:38:38.131Z"
   },
   {
    "duration": 4,
    "start_time": "2021-11-08T15:39:06.793Z"
   },
   {
    "duration": 1215,
    "start_time": "2021-11-09T12:21:55.949Z"
   },
   {
    "duration": 446,
    "start_time": "2021-11-09T13:09:52.221Z"
   },
   {
    "duration": 18,
    "start_time": "2021-11-09T13:09:56.584Z"
   },
   {
    "duration": 4,
    "start_time": "2021-11-09T13:11:11.305Z"
   },
   {
    "duration": 5,
    "start_time": "2021-11-09T13:11:15.309Z"
   },
   {
    "duration": 4,
    "start_time": "2021-11-09T13:11:26.550Z"
   },
   {
    "duration": 50,
    "start_time": "2021-11-09T13:11:39.339Z"
   },
   {
    "duration": 9,
    "start_time": "2021-11-09T13:11:39.702Z"
   },
   {
    "duration": 8,
    "start_time": "2021-11-09T13:11:40.273Z"
   },
   {
    "duration": 23,
    "start_time": "2021-11-09T13:11:42.439Z"
   },
   {
    "duration": 4,
    "start_time": "2021-11-09T13:11:47.373Z"
   },
   {
    "duration": 3,
    "start_time": "2021-11-09T13:11:49.884Z"
   },
   {
    "duration": 4,
    "start_time": "2021-11-09T13:11:50.759Z"
   },
   {
    "duration": 4,
    "start_time": "2021-11-09T13:11:51.192Z"
   },
   {
    "duration": 1105,
    "start_time": "2021-11-09T13:12:07.836Z"
   },
   {
    "duration": 1148,
    "start_time": "2021-11-09T13:13:18.251Z"
   },
   {
    "duration": 4,
    "start_time": "2021-11-09T13:13:43.050Z"
   },
   {
    "duration": 5,
    "start_time": "2021-11-09T13:13:45.500Z"
   },
   {
    "duration": 4,
    "start_time": "2021-11-09T13:15:43.789Z"
   },
   {
    "duration": 5,
    "start_time": "2021-11-09T13:15:56.589Z"
   },
   {
    "duration": 3,
    "start_time": "2021-11-09T13:16:09.521Z"
   },
   {
    "duration": 5,
    "start_time": "2021-11-09T13:16:10.779Z"
   },
   {
    "duration": 4,
    "start_time": "2021-11-09T13:16:49.231Z"
   },
   {
    "duration": 5,
    "start_time": "2021-11-09T13:16:51.729Z"
   },
   {
    "duration": 4,
    "start_time": "2021-11-09T13:19:56.712Z"
   },
   {
    "duration": 5,
    "start_time": "2021-11-09T13:20:01.016Z"
   },
   {
    "duration": 250,
    "start_time": "2021-11-09T13:20:58.623Z"
   },
   {
    "duration": 291,
    "start_time": "2021-11-09T13:21:06.227Z"
   },
   {
    "duration": 3,
    "start_time": "2021-11-09T13:21:41.949Z"
   },
   {
    "duration": 3,
    "start_time": "2021-11-09T13:21:50.348Z"
   },
   {
    "duration": 6,
    "start_time": "2021-11-09T13:22:34.028Z"
   },
   {
    "duration": 297,
    "start_time": "2021-11-09T13:24:00.332Z"
   },
   {
    "duration": 279,
    "start_time": "2021-11-09T13:24:10.766Z"
   },
   {
    "duration": 5,
    "start_time": "2021-11-09T13:24:21.211Z"
   },
   {
    "duration": 6,
    "start_time": "2021-11-09T13:24:33.901Z"
   },
   {
    "duration": 6,
    "start_time": "2021-11-09T13:24:35.658Z"
   },
   {
    "duration": 6,
    "start_time": "2021-11-09T13:24:50.343Z"
   },
   {
    "duration": 10,
    "start_time": "2021-11-09T13:26:22.477Z"
   },
   {
    "duration": 14,
    "start_time": "2021-11-09T13:26:28.737Z"
   },
   {
    "duration": 12,
    "start_time": "2021-11-09T13:26:45.752Z"
   },
   {
    "duration": 14,
    "start_time": "2021-11-09T13:27:06.882Z"
   },
   {
    "duration": 6,
    "start_time": "2021-11-09T13:27:23.071Z"
   },
   {
    "duration": 11,
    "start_time": "2021-11-09T13:27:49.245Z"
   },
   {
    "duration": 6,
    "start_time": "2021-11-09T13:28:10.808Z"
   },
   {
    "duration": 9,
    "start_time": "2021-11-09T13:28:18.532Z"
   },
   {
    "duration": 247,
    "start_time": "2021-11-09T13:29:29.644Z"
   },
   {
    "duration": 3,
    "start_time": "2021-11-09T13:29:34.304Z"
   },
   {
    "duration": 5,
    "start_time": "2021-11-09T13:29:41.031Z"
   },
   {
    "duration": 12,
    "start_time": "2021-11-09T13:29:42.875Z"
   },
   {
    "duration": 9,
    "start_time": "2021-11-09T13:29:58.187Z"
   },
   {
    "duration": 351,
    "start_time": "2021-11-09T13:30:06.763Z"
   },
   {
    "duration": 64,
    "start_time": "2021-11-09T13:30:19.400Z"
   },
   {
    "duration": 253,
    "start_time": "2021-11-09T13:30:20.266Z"
   },
   {
    "duration": 5,
    "start_time": "2021-11-09T13:30:32.157Z"
   },
   {
    "duration": 13,
    "start_time": "2021-11-09T13:30:35.797Z"
   },
   {
    "duration": 7,
    "start_time": "2021-11-09T13:31:03.235Z"
   },
   {
    "duration": 11,
    "start_time": "2021-11-09T13:31:07.705Z"
   },
   {
    "duration": 79,
    "start_time": "2021-11-09T13:31:21.190Z"
   },
   {
    "duration": 8,
    "start_time": "2021-11-09T13:31:25.701Z"
   },
   {
    "duration": 5,
    "start_time": "2021-11-09T13:31:47.022Z"
   },
   {
    "duration": 4,
    "start_time": "2021-11-09T13:31:47.331Z"
   },
   {
    "duration": 5,
    "start_time": "2021-11-09T13:31:48.089Z"
   },
   {
    "duration": 6,
    "start_time": "2021-11-09T13:31:54.673Z"
   },
   {
    "duration": 12,
    "start_time": "2021-11-09T13:31:59.241Z"
   },
   {
    "duration": 11,
    "start_time": "2021-11-09T13:32:06.476Z"
   },
   {
    "duration": 17,
    "start_time": "2021-11-09T13:32:35.293Z"
   },
   {
    "duration": 8,
    "start_time": "2021-11-09T13:32:40.230Z"
   },
   {
    "duration": 9,
    "start_time": "2021-11-09T13:32:43.231Z"
   },
   {
    "duration": 8,
    "start_time": "2021-11-09T13:32:47.783Z"
   },
   {
    "duration": 8,
    "start_time": "2021-11-09T13:32:50.459Z"
   },
   {
    "duration": 72,
    "start_time": "2021-11-09T13:33:05.400Z"
   },
   {
    "duration": 5,
    "start_time": "2021-11-09T13:33:15.161Z"
   },
   {
    "duration": 13,
    "start_time": "2021-11-09T13:33:40.083Z"
   },
   {
    "duration": 12,
    "start_time": "2021-11-09T13:34:25.168Z"
   },
   {
    "duration": 98,
    "start_time": "2021-11-09T13:34:32.966Z"
   },
   {
    "duration": 4,
    "start_time": "2021-11-09T13:35:01.291Z"
   },
   {
    "duration": 165,
    "start_time": "2021-11-09T13:35:18.806Z"
   },
   {
    "duration": 161,
    "start_time": "2021-11-09T13:35:24.117Z"
   },
   {
    "duration": 162,
    "start_time": "2021-11-09T13:35:35.965Z"
   },
   {
    "duration": 161,
    "start_time": "2021-11-09T13:36:17.071Z"
   },
   {
    "duration": 166,
    "start_time": "2021-11-09T13:36:39.343Z"
   },
   {
    "duration": 173,
    "start_time": "2021-11-09T13:36:48.073Z"
   },
   {
    "duration": 171,
    "start_time": "2021-11-09T13:37:05.213Z"
   },
   {
    "duration": 264,
    "start_time": "2021-11-09T13:37:43.424Z"
   },
   {
    "duration": 4,
    "start_time": "2021-11-09T13:40:20.777Z"
   },
   {
    "duration": 4,
    "start_time": "2021-11-09T13:40:43.131Z"
   },
   {
    "duration": 5,
    "start_time": "2021-11-09T13:40:47.335Z"
   },
   {
    "duration": 6,
    "start_time": "2021-11-09T13:40:53.962Z"
   },
   {
    "duration": 6,
    "start_time": "2021-11-09T13:40:56.024Z"
   },
   {
    "duration": 6,
    "start_time": "2021-11-09T13:40:56.898Z"
   },
   {
    "duration": 6,
    "start_time": "2021-11-09T13:40:57.633Z"
   },
   {
    "duration": 6,
    "start_time": "2021-11-09T13:40:58.335Z"
   },
   {
    "duration": 6,
    "start_time": "2021-11-09T13:40:58.943Z"
   },
   {
    "duration": 10,
    "start_time": "2021-11-09T13:40:59.494Z"
   },
   {
    "duration": 6,
    "start_time": "2021-11-09T13:41:00.039Z"
   },
   {
    "duration": 5,
    "start_time": "2021-11-09T13:41:00.622Z"
   },
   {
    "duration": 7,
    "start_time": "2021-11-09T13:41:01.213Z"
   },
   {
    "duration": 5,
    "start_time": "2021-11-09T13:41:15.154Z"
   },
   {
    "duration": 6,
    "start_time": "2021-11-09T13:41:22.519Z"
   },
   {
    "duration": 5,
    "start_time": "2021-11-09T13:41:25.487Z"
   },
   {
    "duration": 5,
    "start_time": "2021-11-09T13:41:27.727Z"
   },
   {
    "duration": 7,
    "start_time": "2021-11-09T13:41:31.393Z"
   },
   {
    "duration": 1225,
    "start_time": "2021-11-09T13:42:17.676Z"
   },
   {
    "duration": 19,
    "start_time": "2021-11-09T13:42:18.904Z"
   },
   {
    "duration": 12,
    "start_time": "2021-11-09T13:42:18.925Z"
   },
   {
    "duration": 16,
    "start_time": "2021-11-09T13:42:18.939Z"
   },
   {
    "duration": 27,
    "start_time": "2021-11-09T13:42:18.957Z"
   },
   {
    "duration": 3,
    "start_time": "2021-11-09T13:42:18.986Z"
   },
   {
    "duration": 24,
    "start_time": "2021-11-09T13:42:18.991Z"
   },
   {
    "duration": 37,
    "start_time": "2021-11-09T13:42:19.018Z"
   },
   {
    "duration": 464,
    "start_time": "2021-11-09T13:42:19.057Z"
   },
   {
    "duration": 16865,
    "start_time": "2021-11-09T13:42:02.658Z"
   },
   {
    "duration": 16862,
    "start_time": "2021-11-09T13:42:02.662Z"
   },
   {
    "duration": 25,
    "start_time": "2021-11-09T13:42:32.453Z"
   },
   {
    "duration": 12,
    "start_time": "2021-11-09T13:42:42.435Z"
   },
   {
    "duration": 191,
    "start_time": "2021-11-09T13:42:45.336Z"
   },
   {
    "duration": 7,
    "start_time": "2021-11-09T13:43:37.811Z"
   },
   {
    "duration": 14,
    "start_time": "2021-11-09T13:44:35.741Z"
   },
   {
    "duration": 7,
    "start_time": "2021-11-09T13:46:30.436Z"
   },
   {
    "duration": 5,
    "start_time": "2021-11-09T13:46:56.366Z"
   },
   {
    "duration": 5,
    "start_time": "2021-11-09T13:47:05.728Z"
   },
   {
    "duration": 13,
    "start_time": "2021-11-09T13:47:13.755Z"
   },
   {
    "duration": 12,
    "start_time": "2021-11-09T13:47:28.283Z"
   },
   {
    "duration": 9,
    "start_time": "2021-11-09T13:47:36.496Z"
   },
   {
    "duration": 3,
    "start_time": "2021-11-09T13:48:18.446Z"
   },
   {
    "duration": 5,
    "start_time": "2021-11-09T13:48:26.393Z"
   },
   {
    "duration": 4046,
    "start_time": "2021-11-09T13:50:32.811Z"
   },
   {
    "duration": 4414,
    "start_time": "2021-11-09T13:50:53.553Z"
   },
   {
    "duration": 3359,
    "start_time": "2021-11-09T13:51:14.014Z"
   },
   {
    "duration": 690,
    "start_time": "2021-11-09T13:51:40.878Z"
   },
   {
    "duration": 127,
    "start_time": "2021-11-09T13:52:03.650Z"
   },
   {
    "duration": 643,
    "start_time": "2021-11-09T13:52:30.296Z"
   },
   {
    "duration": 685,
    "start_time": "2021-11-09T13:52:47.362Z"
   },
   {
    "duration": 504,
    "start_time": "2021-11-09T13:52:56.668Z"
   },
   {
    "duration": 941,
    "start_time": "2021-11-09T13:53:06.230Z"
   },
   {
    "duration": 5766,
    "start_time": "2021-11-09T13:53:19.461Z"
   },
   {
    "duration": 589,
    "start_time": "2021-11-09T13:53:33.482Z"
   },
   {
    "duration": 581,
    "start_time": "2021-11-09T13:54:42.884Z"
   },
   {
    "duration": 191,
    "start_time": "2021-11-09T13:55:57.882Z"
   },
   {
    "duration": 321,
    "start_time": "2021-11-09T13:56:07.843Z"
   },
   {
    "duration": 2414,
    "start_time": "2021-11-09T13:56:20.257Z"
   },
   {
    "duration": 189,
    "start_time": "2021-11-09T13:56:42.935Z"
   },
   {
    "duration": 64,
    "start_time": "2021-11-09T13:56:56.202Z"
   },
   {
    "duration": 14,
    "start_time": "2021-11-09T13:57:25.493Z"
   },
   {
    "duration": 85,
    "start_time": "2021-11-09T13:58:36.187Z"
   },
   {
    "duration": 15,
    "start_time": "2021-11-09T13:58:41.927Z"
   },
   {
    "duration": 82,
    "start_time": "2021-11-09T13:58:52.682Z"
   },
   {
    "duration": 15,
    "start_time": "2021-11-09T13:59:00.923Z"
   },
   {
    "duration": 189,
    "start_time": "2021-11-09T13:59:47.377Z"
   },
   {
    "duration": 1818,
    "start_time": "2021-11-09T13:59:50.855Z"
   },
   {
    "duration": 185,
    "start_time": "2021-11-09T13:59:54.982Z"
   },
   {
    "duration": 1146,
    "start_time": "2021-11-09T14:50:52.862Z"
   },
   {
    "duration": 19,
    "start_time": "2021-11-09T14:50:54.010Z"
   },
   {
    "duration": 13,
    "start_time": "2021-11-09T14:50:54.031Z"
   },
   {
    "duration": 9,
    "start_time": "2021-11-09T14:50:54.046Z"
   },
   {
    "duration": 28,
    "start_time": "2021-11-09T14:50:54.056Z"
   },
   {
    "duration": 4,
    "start_time": "2021-11-09T14:50:54.086Z"
   },
   {
    "duration": 7,
    "start_time": "2021-11-09T14:50:54.092Z"
   },
   {
    "duration": 10,
    "start_time": "2021-11-09T14:50:54.101Z"
   },
   {
    "duration": 2551,
    "start_time": "2021-11-09T14:50:54.113Z"
   },
   {
    "duration": 298,
    "start_time": "2021-11-09T14:50:56.667Z"
   },
   {
    "duration": 15,
    "start_time": "2021-11-09T14:50:56.967Z"
   }
  ],
  "kernelspec": {
   "display_name": "Python 3 (ipykernel)",
   "language": "python",
   "name": "python3"
  },
  "language_info": {
   "codemirror_mode": {
    "name": "ipython",
    "version": 3
   },
   "file_extension": ".py",
   "mimetype": "text/x-python",
   "name": "python",
   "nbconvert_exporter": "python",
   "pygments_lexer": "ipython3",
   "version": "3.9.7"
  },
  "toc": {
   "base_numbering": 1,
   "nav_menu": {},
   "number_sections": true,
   "sideBar": true,
   "skip_h1_title": true,
   "title_cell": "Содержание",
   "title_sidebar": "Contents",
   "toc_cell": true,
   "toc_position": {},
   "toc_section_display": true,
   "toc_window_display": false
  }
 },
 "nbformat": 4,
 "nbformat_minor": 2
}
