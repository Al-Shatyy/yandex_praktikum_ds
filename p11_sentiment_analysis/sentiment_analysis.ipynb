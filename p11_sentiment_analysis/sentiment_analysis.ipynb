{
 "cells": [
  {
   "cell_type": "markdown",
   "metadata": {
    "cellId": "no4zqvt1bdpc6904cyia8v",
    "toc": true
   },
   "source": [
    "<h1>Содержание<span class=\"tocSkip\"></span></h1>\n",
    "<div class=\"toc\"><ul class=\"toc-item\"><li><ul class=\"toc-item\"><li><span><a href=\"#Общее-впечатление\" data-toc-modified-id=\"Общее-впечатление-0.1\"><span class=\"toc-item-num\">0.1&nbsp;&nbsp;</span><font color=\"orange\">Общее впечатление</font></a></span></li><li><span><a href=\"#Общее-впечатление-(ревью-2)\" data-toc-modified-id=\"Общее-впечатление-(ревью-2)-0.2\"><span class=\"toc-item-num\">0.2&nbsp;&nbsp;</span><font color=\"orange\">Общее впечатление (ревью 2)</font></a></span></li></ul></li><li><span><a href=\"#Загрузка-данных\" data-toc-modified-id=\"Загрузка-данных-1\"><span class=\"toc-item-num\">1&nbsp;&nbsp;</span>Загрузка данных</a></span></li><li><span><a href=\"#Подготовка-данных\" data-toc-modified-id=\"Подготовка-данных-2\"><span class=\"toc-item-num\">2&nbsp;&nbsp;</span>Подготовка данных</a></span></li><li><span><a href=\"#Обучение-моделей\" data-toc-modified-id=\"Обучение-моделей-3\"><span class=\"toc-item-num\">3&nbsp;&nbsp;</span>Обучение моделей</a></span></li><li><span><a href=\"#Выводы\" data-toc-modified-id=\"Выводы-4\"><span class=\"toc-item-num\">4&nbsp;&nbsp;</span>Выводы</a></span></li><li><span><a href=\"#Чек-лист-проверки\" data-toc-modified-id=\"Чек-лист-проверки-5\"><span class=\"toc-item-num\">5&nbsp;&nbsp;</span>Чек-лист проверки</a></span></li></ul></div>"
   ]
  },
  {
   "cell_type": "markdown",
   "metadata": {
    "cellId": "fe01v701fypojybw0fhm8l"
   },
   "source": [
    "# Проект для «Викишоп»"
   ]
  },
  {
   "cell_type": "markdown",
   "metadata": {
    "cellId": "1ecfngoamwyjz3u4khzw3"
   },
   "source": [
    "**Задача**\n",
    "\n",
    ">Интернет-магазин «Викишоп» запускает новый сервис. Теперь пользователи могут редактировать и дополнять описания товаров, как в вики-сообществах. То есть клиенты предлагают свои правки и комментируют изменения других. Магазину нужен инструмент, который будет искать токсичные комментарии и отправлять их на модерацию. \n",
    ">\n",
    ">**Обучите модель классифицировать комментарии на позитивные и негативные**. В вашем распоряжении набор данных с разметкой о токсичности правок.\n",
    ">\n",
    ">Постройте модель со значением метрики качества *F1* не меньше 0.75. \n",
    "\n",
    "**Описание данных**\n",
    "\n",
    "Данные находятся в файле `toxic_comments.csv`.\n",
    "\n",
    "| column | description\n",
    "| ------ | :----------\n",
    "| text | текст комментария\n",
    "| **toxic** | **целевой признак<br>1 - токсичный комментарий<br>0 - нейтральный**"
   ]
  },
  {
   "cell_type": "markdown",
   "metadata": {
    "cellId": "c3rj5zmta2sguvwq9t9a9v"
   },
   "source": [
    "## Загрузка данных"
   ]
  },
  {
   "cell_type": "markdown",
   "metadata": {
    "cellId": "5ccm0tuhymx089dmr9v0ry9"
   },
   "source": [
    "Импортируем необходимые библиотеки."
   ]
  },
  {
   "cell_type": "code",
   "execution_count": 1,
   "metadata": {
    "cellId": "ki82c484wcsh3pzk8oe7g"
   },
   "outputs": [
    {
     "name": "stderr",
     "output_type": "stream",
     "text": [
      "[nltk_data] Downloading package wordnet to /home/jupyter/nltk_data...\n",
      "[nltk_data]   Package wordnet is already up-to-date!\n",
      "[nltk_data] Downloading package stopwords to\n",
      "[nltk_data]     /home/jupyter/nltk_data...\n",
      "[nltk_data]   Package stopwords is already up-to-date!\n"
     ]
    },
    {
     "data": {
      "text/plain": [
       "True"
      ]
     },
     "metadata": {},
     "output_type": "display_data"
    }
   ],
   "source": [
    "import numpy as np\n",
    "import pandas as pd\n",
    "import nltk\n",
    "import re\n",
    "from nltk.corpus import stopwords\n",
    "from nltk.stem import WordNetLemmatizer\n",
    "\n",
    "from sklearn.feature_extraction.text import TfidfVectorizer\n",
    "from sklearn.model_selection import cross_val_score, train_test_split, GridSearchCV\n",
    "from sklearn.metrics import f1_score\n",
    "from sklearn.pipeline import Pipeline\n",
    "\n",
    "from sklearn.dummy import DummyClassifier\n",
    "from sklearn.linear_model import LogisticRegression\n",
    "from lightgbm import LGBMClassifier\n",
    "\n",
    "nltk.download('wordnet')\n",
    "nltk.download('stopwords') "
   ]
  },
  {
   "cell_type": "markdown",
   "metadata": {
    "cellId": "af2ulnu18fgkjyv8of2ora"
   },
   "source": [
    "Загрузим данные из CSV файла и сохраним их в переменной *data*. Проверим корректность загрузки данных и общую информацию."
   ]
  },
  {
   "cell_type": "code",
   "execution_count": 2,
   "metadata": {
    "cellId": "gg9u3jxrs1bu5hmjwe645b"
   },
   "outputs": [
    {
     "name": "stdout",
     "output_type": "stream",
     "text": [
      "<class 'pandas.core.frame.DataFrame'>\n",
      "RangeIndex: 159571 entries, 0 to 159570\n",
      "Data columns (total 2 columns):\n",
      "text     159571 non-null object\n",
      "toxic    159571 non-null int64\n",
      "dtypes: int64(1), object(1)\n",
      "memory usage: 2.4+ MB\n"
     ]
    },
    {
     "data": {
      "text/html": [
       "<div>\n",
       "<style scoped>\n",
       "    .dataframe tbody tr th:only-of-type {\n",
       "        vertical-align: middle;\n",
       "    }\n",
       "\n",
       "    .dataframe tbody tr th {\n",
       "        vertical-align: top;\n",
       "    }\n",
       "\n",
       "    .dataframe thead th {\n",
       "        text-align: right;\n",
       "    }\n",
       "</style>\n",
       "<table border=\"1\" class=\"dataframe\">\n",
       "  <thead>\n",
       "    <tr style=\"text-align: right;\">\n",
       "      <th></th>\n",
       "      <th>text</th>\n",
       "      <th>toxic</th>\n",
       "    </tr>\n",
       "  </thead>\n",
       "  <tbody>\n",
       "    <tr>\n",
       "      <th>0</th>\n",
       "      <td>Explanation\\nWhy the edits made under my usern...</td>\n",
       "      <td>0</td>\n",
       "    </tr>\n",
       "    <tr>\n",
       "      <th>1</th>\n",
       "      <td>D'aww! He matches this background colour I'm s...</td>\n",
       "      <td>0</td>\n",
       "    </tr>\n",
       "    <tr>\n",
       "      <th>2</th>\n",
       "      <td>Hey man, I'm really not trying to edit war. It...</td>\n",
       "      <td>0</td>\n",
       "    </tr>\n",
       "    <tr>\n",
       "      <th>3</th>\n",
       "      <td>\"\\nMore\\nI can't make any real suggestions on ...</td>\n",
       "      <td>0</td>\n",
       "    </tr>\n",
       "    <tr>\n",
       "      <th>4</th>\n",
       "      <td>You, sir, are my hero. Any chance you remember...</td>\n",
       "      <td>0</td>\n",
       "    </tr>\n",
       "  </tbody>\n",
       "</table>\n",
       "</div>"
      ],
      "text/plain": [
       "                                                text  toxic\n",
       "0  Explanation\\nWhy the edits made under my usern...      0\n",
       "1  D'aww! He matches this background colour I'm s...      0\n",
       "2  Hey man, I'm really not trying to edit war. It...      0\n",
       "3  \"\\nMore\\nI can't make any real suggestions on ...      0\n",
       "4  You, sir, are my hero. Any chance you remember...      0"
      ]
     },
     "metadata": {},
     "output_type": "display_data"
    }
   ],
   "source": [
    "data = pd.read_csv(\"datasets/toxic_comments.csv\")\n",
    "data.info()\n",
    "data.head()"
   ]
  },
  {
   "cell_type": "markdown",
   "metadata": {
    "cellId": "z8tt4ta0dsl6wtg8m7lf"
   },
   "source": [
    "Данные загружены корректно. Столбец *text* содержит текст комментария, заметим, что строки содержат знаки форматирования. Столбец *toxic* принмает одно из числовых значений: 0 или 1.\n",
    "\n",
    "Проверим распределение целевого признака."
   ]
  },
  {
   "cell_type": "code",
   "execution_count": 3,
   "metadata": {
    "cellId": "xnz74h4j2kkxodwmcrofi"
   },
   "outputs": [
    {
     "data": {
      "text/plain": [
       "0    89.83\n",
       "1    10.17\n",
       "Name: toxic, dtype: float64"
      ]
     },
     "metadata": {},
     "output_type": "display_data"
    }
   ],
   "source": [
    "data['toxic'].value_counts(normalize=True).round(4) * 100"
   ]
  },
  {
   "cell_type": "markdown",
   "metadata": {
    "cellId": "i6dm501c8rsgcg90vtn9np"
   },
   "source": [
    "Около 10% комментариев в выборке являются негативными.\n",
    "\n",
    "Данные готовы к предобработке."
   ]
  },
  {
   "cell_type": "markdown",
   "metadata": {
    "cellId": "3pgjc3vm2ydeqsohey3iq5"
   },
   "source": [
    "## Подготовка данных"
   ]
  },
  {
   "cell_type": "markdown",
   "metadata": {
    "cellId": "43c0ip4024rq7u7kq1frd"
   },
   "source": [
    "Исходные данные содержат комментарии в том виде, в каком их отправляли пользователи. Тексты содержат не только слова, но и числа, знаки пунктуации и нечитаемые символы форматирования. Для определения эмоциональной окраски текста достаточно оставить только слова.\n",
    "\n",
    "Прроведем над текстами ряд операций:\n",
    "- Приведем все слова к нижнему регистру;\n",
    "- Оставим только буквенные символы латинского алфавита;\n",
    "- Используем лемматизатор из библиотеки ntlk."
   ]
  },
  {
   "cell_type": "code",
   "execution_count": 4,
   "metadata": {
    "cellId": "xwt5kthgg7k0lnuttnanf6g"
   },
   "outputs": [],
   "source": [
    "lemmatizer = WordNetLemmatizer()\n",
    "data_lemmas = []\n",
    "\n",
    "for text in data['text']:\n",
    "    text = text.lower()\n",
    "    text = re.sub(r\"[^a-z]\", \" \", text)\n",
    "\n",
    "    lemmas = ' '.join([lemmatizer.lemmatize(word) for word in text.split()])\n",
    "    data_lemmas.append(lemmas)"
   ]
  },
  {
   "cell_type": "code",
   "execution_count": 5,
   "metadata": {
    "cellId": "8si38nsg1bc8ehieh38jum"
   },
   "outputs": [
    {
     "data": {
      "text/plain": [
       "\"Explanation\\nWhy the edits made under my username Hardcore Metallica Fan were reverted? They weren't vandalisms, just closure on some GAs after I voted at New York Dolls FAC. And please don't remove the template from the talk page since I'm retired now.89.205.38.27\""
      ]
     },
     "metadata": {},
     "output_type": "display_data"
    }
   ],
   "source": [
    "data['text'][0]"
   ]
  },
  {
   "cell_type": "code",
   "execution_count": 6,
   "metadata": {
    "cellId": "qz0psrt8ck5p70uwcmke7"
   },
   "outputs": [
    {
     "data": {
      "text/plain": [
       "'explanation why the edits made under my username hardcore metallica fan were reverted they weren t vandalism just closure on some gas after i voted at new york doll fac and please don t remove the template from the talk page since i m retired now'"
      ]
     },
     "metadata": {},
     "output_type": "display_data"
    }
   ],
   "source": [
    "data_lemmas[0]"
   ]
  },
  {
   "cell_type": "markdown",
   "metadata": {
    "cellId": "jjzblf9ugjriirtkzmpt"
   },
   "source": [
    "Получили очищенные тексты состоящие из лемматизированных слов. Заметим, что лемматизированы были только существительные."
   ]
  },
  {
   "cell_type": "markdown",
   "metadata": {
    "cellId": "3uwhx4ved111icxzmva21c"
   },
   "source": [
    "Составим из полученных лемм DataFrame и разделим его на обучающую и тестовую выборку в соотношении 90-10."
   ]
  },
  {
   "cell_type": "code",
   "execution_count": 7,
   "metadata": {
    "cellId": "y8hnh369p7o3wx7ove225k"
   },
   "outputs": [],
   "source": [
    "data_lemmas = pd.DataFrame(data_lemmas, columns=['text'])\n",
    "data_lemmas['toxic'] = data['toxic']\n",
    "train, test = train_test_split(data_lemmas, random_state=12345, train_size=0.9)"
   ]
  },
  {
   "cell_type": "markdown",
   "metadata": {
    "cellId": "wl4635cfozoxq9064umwo"
   },
   "source": [
    "Проверим распределение целевого признака в обучающей и тестовой выборках."
   ]
  },
  {
   "cell_type": "code",
   "execution_count": 8,
   "metadata": {
    "cellId": "lfhee6745tg9hzt7u8prys"
   },
   "outputs": [
    {
     "name": "stdout",
     "output_type": "stream",
     "text": [
      "Train set:\n",
      " 0    0.898623\n",
      "1    0.101377\n",
      "Name: toxic, dtype: float64\n",
      "\n",
      "Test set: 0    0.895601\n",
      "1    0.104399\n",
      "Name: toxic, dtype: float64\n"
     ]
    }
   ],
   "source": [
    "print('Train set:\\n', train['toxic'].value_counts(normalize=True))\n",
    "print('\\nTest set:', test['toxic'].value_counts(normalize=True))"
   ]
  },
  {
   "cell_type": "markdown",
   "metadata": {
    "cellId": "74k2tpfm6bmi3dp1phwaoa"
   },
   "source": [
    "В качестве признака для предсказательной модели будем использовать **TF-IDF**. Эта величина позволит выделить слова, которыми отличаются негативные комментарии из всей выборки. Чтобы уменьшить объем выборки и повысить точность предсказаний исключим из рассмотрения предлоги, самые общеупотребительные и служебные слова.\n",
    "\n",
    "Воспользуемся функцией *TfidfVectorizer* из библиотеки *sklearn*."
   ]
  },
  {
   "cell_type": "code",
   "execution_count": 9,
   "metadata": {
    "cellId": "ao6ptlp5qfpbfzn9x30xwn"
   },
   "outputs": [
    {
     "name": "stdout",
     "output_type": "stream",
     "text": [
      "Sets shapes\n",
      "Train set: (143613, 149253)\n",
      "Test set: (15958, 149253)\n"
     ]
    }
   ],
   "source": [
    "stop_words = set(stopwords.words('english'))\n",
    "vectorizer = TfidfVectorizer(stop_words=stop_words)\n",
    "\n",
    "tf_idf_train = vectorizer.fit_transform(train['text'])\n",
    "tf_idf_test = vectorizer.transform(test['text'])\n",
    "\n",
    "print('Sets shapes\\nTrain set: {}\\nTest set: {}'.format(tf_idf_train.shape, tf_idf_test.shape))"
   ]
  },
  {
   "cell_type": "markdown",
   "metadata": {
    "cellId": "f27f31wqtl8blynjwj4u5d"
   },
   "source": [
    "После векторизации в наборе данных оказалось более 149 тыс. слов. Для каждого текста был составлен вектор, состоящий из величины TF-IDF каждого слова из текста."
   ]
  },
  {
   "cell_type": "markdown",
   "metadata": {
    "cellId": "yb9ci964o687p46j5drca"
   },
   "source": [
    "## Обучение моделей"
   ]
  },
  {
   "cell_type": "markdown",
   "metadata": {
    "cellId": "oyzbqzuncml7yg6kpezf4"
   },
   "source": [
    "Для предсказания воспользуемся двумя моделями: LogisticRegression и LGBMClassifier."
   ]
  },
  {
   "cell_type": "markdown",
   "metadata": {
    "cellId": "onx8dvi7ums7jef9v3xg"
   },
   "source": [
    "Подберем параметр C для **логистической регрессии**. Мы будем использовать кросс-валидацию, для этого составим Pipiline для векторизации и обучения модели. Pipeline необходим для того, чтобы векторизация проводилась только на обучающей выборке при каждой итерации кросс-валидации. Для оценки качества модели используем метрику F1."
   ]
  },
  {
   "cell_type": "code",
   "execution_count": 10,
   "metadata": {
    "cellId": "o2r6kn8psxl39sypugpd"
   },
   "outputs": [],
   "source": [
    "def cv_grid(model, params):\n",
    "    grid = GridSearchCV(model, params, cv=3, scoring='f1', n_jobs=-1)\n",
    "    grid.fit(train['text'], train['toxic'])\n",
    "    \n",
    "    name = model.steps[1][1].__class__.__name__\n",
    "    \n",
    "    print('{}\\n{}\\nBest score: {:.4f}\\nBest param: {} - {}'.format(\n",
    "        name,\n",
    "        '-'*15,\n",
    "        grid.best_score_,\n",
    "        *list(grid.best_params_.items())[0]))\n",
    "    \n",
    "    return grid.best_estimator_.steps[1][1]"
   ]
  },
  {
   "cell_type": "code",
   "execution_count": 11,
   "metadata": {
    "cellId": "c3ha3ruog6dpwebaafs5qr"
   },
   "outputs": [
    {
     "name": "stdout",
     "output_type": "stream",
     "text": [
      "LogisticRegression\n",
      "---------------\n",
      "Best score: 0.7690\n",
      "Best param: lr__C - 10\n"
     ]
    }
   ],
   "source": [
    "params = {'lr__C': [0.1, 1, 10]}\n",
    "\n",
    "lr_pipe = Pipeline([('vectorizer', vectorizer),\n",
    "                    ('lr', LogisticRegression(solver='saga'))])\n",
    "lr_model = cv_grid(lr_pipe, params)"
   ]
  },
  {
   "cell_type": "markdown",
   "metadata": {
    "cellId": "4oifcwp8854a1oy1o27tdn"
   },
   "source": [
    "Для модели **LGBM Classifier** подберем параметр learning_rate. И получим значение метрики F1 с помощью кросс-валидации."
   ]
  },
  {
   "cell_type": "code",
   "execution_count": 12,
   "metadata": {
    "cellId": "dm4zyrlaquuczbbfw1mxe"
   },
   "outputs": [
    {
     "name": "stderr",
     "output_type": "stream",
     "text": [
      "/usr/local/lib/python3.8/dist-packages/joblib/externals/loky/process_executor.py:702: UserWarning: A worker stopped while some jobs were given to the executor. This can be caused by a too short worker timeout or by a memory leak.\n",
      "  warnings.warn(\n",
      "/usr/local/lib/python3.8/dist-packages/joblib/externals/loky/process_executor.py:702: UserWarning: A worker stopped while some jobs were given to the executor. This can be caused by a too short worker timeout or by a memory leak.\n",
      "  warnings.warn(\n"
     ]
    },
    {
     "name": "stdout",
     "output_type": "stream",
     "text": [
      "LGBMClassifier\n",
      "---------------\n",
      "Best score: 0.7428\n",
      "Best param: lgbm__learning_rate - 0.5\n"
     ]
    }
   ],
   "source": [
    "params = {'lgbm__learning_rate': [0.4, 0.5, 0.6]}\n",
    "\n",
    "lgbm_pipe = Pipeline([('vectorizer', vectorizer),\n",
    "                      ('lgbm', LGBMClassifier(n_estimators=50, max_depth=10))])\n",
    "lgbm_model = cv_grid(lgbm_pipe, params)"
   ]
  },
  {
   "cell_type": "markdown",
   "metadata": {
    "cellId": "57e26t3gmj6wtvore2mq9"
   },
   "source": [
    "Наилучшее качество предсказаний показала модель LogisticRegressor. Используем эту модель для предсказаний на тестовой выборке. Качество будем определять по метрике F1."
   ]
  },
  {
   "cell_type": "code",
   "execution_count": 13,
   "metadata": {
    "cellId": "xdl2qemjjoeknvq2wfup4"
   },
   "outputs": [
    {
     "name": "stdout",
     "output_type": "stream",
     "text": [
      "Predictions on the test set\n",
      "---------------\n",
      "F1: 0.7855\n"
     ]
    }
   ],
   "source": [
    "lr_model.fit(tf_idf_train, train['toxic'])\n",
    "predictions = lr_model.predict(tf_idf_test)\n",
    "print('Predictions on the test set\\n{}\\nF1: {:.4f}'.format('-'*15, f1_score(test['toxic'], predictions)))"
   ]
  },
  {
   "cell_type": "markdown",
   "metadata": {
    "cellId": "xhq0jrh1zlkrbedfl2lgme"
   },
   "source": [
    "Полученное значение метрики F1 больше, требуемой заказчиком 0.75."
   ]
  },
  {
   "cell_type": "markdown",
   "metadata": {
    "cellId": "wktfassb3jmgnai9r4khfo"
   },
   "source": [
    "## Выводы"
   ]
  },
  {
   "cell_type": "markdown",
   "metadata": {
    "cellId": "rdi2vxh3rmfx84n18dtp"
   },
   "source": [
    "**Исходные данные были очищены от лишней информации, лемматизированы и векторизованы методом выделения значений TF-IDF**. На основе преобразованных данных были обучены две предсказательные модели: LogisticRegression и LGBMClassifier. Качество предсказаний контролировалось метрикой F1 с помощью кросс-валидации. Лучшие показатели качества были получены у модели LogisticRegression, метрика F1 равна 0.769. \n",
    "\n",
    "Лучшая модель была использована для предсказаний на тестовой выборке данных. В результате **метрика F1 на тестовых данных равна 0.7855**. Полученное значение метрики выше, требуемой заказчиком 0.75. В результате проделанной работы была получена модель, с достаточно высокой предсказательной способностью. На основе этой модели возможна разработка инструмента для автоматической модерации комментариев пользователей. "
   ]
  },
  {
   "cell_type": "code",
   "execution_count": null,
   "metadata": {
    "cellId": "o3h18v0edlrkxaly3tcmcj"
   },
   "outputs": [],
   "source": []
  }
 ],
 "metadata": {
  "ExecuteTimeLog": [
   {
    "duration": 469,
    "start_time": "2021-12-15T19:33:18.530Z"
   },
   {
    "duration": 633,
    "start_time": "2021-12-23T14:19:02.571Z"
   },
   {
    "duration": 4087,
    "start_time": "2021-12-23T14:19:29.647Z"
   },
   {
    "duration": 1000,
    "start_time": "2021-12-23T14:21:41.016Z"
   },
   {
    "duration": 136,
    "start_time": "2021-12-23T14:21:44.554Z"
   },
   {
    "duration": 15,
    "start_time": "2021-12-23T14:21:46.572Z"
   },
   {
    "duration": 7,
    "start_time": "2021-12-23T14:21:51.575Z"
   },
   {
    "duration": 587,
    "start_time": "2021-12-23T14:22:42.584Z"
   },
   {
    "duration": 13746,
    "start_time": "2021-12-23T14:22:44.237Z"
   },
   {
    "duration": 73513,
    "start_time": "2021-12-23T14:21:44.472Z"
   },
   {
    "duration": 3433,
    "start_time": "2021-12-23T14:23:10.414Z"
   },
   {
    "duration": 623,
    "start_time": "2021-12-23T14:23:15.488Z"
   },
   {
    "duration": 5,
    "start_time": "2021-12-23T14:23:25.435Z"
   },
   {
    "duration": 5,
    "start_time": "2021-12-23T14:23:53.804Z"
   },
   {
    "duration": 34937,
    "start_time": "2021-12-23T14:24:05.456Z"
   },
   {
    "duration": 720,
    "start_time": "2021-12-23T14:26:43.676Z"
   },
   {
    "duration": 8518,
    "start_time": "2021-12-23T14:27:19.711Z"
   },
   {
    "duration": 272,
    "start_time": "2021-12-23T14:33:25.778Z"
   },
   {
    "duration": 29,
    "start_time": "2021-12-23T14:33:30.071Z"
   },
   {
    "duration": 4,
    "start_time": "2021-12-23T14:33:32.528Z"
   },
   {
    "duration": 5,
    "start_time": "2021-12-23T14:33:37.962Z"
   },
   {
    "duration": 9,
    "start_time": "2021-12-23T14:33:52.258Z"
   },
   {
    "duration": 316,
    "start_time": "2021-12-23T14:34:40.761Z"
   },
   {
    "duration": 161116,
    "start_time": "2021-12-23T14:34:55.176Z"
   },
   {
    "duration": 277,
    "start_time": "2021-12-23T14:37:38.714Z"
   },
   {
    "duration": 5,
    "start_time": "2021-12-23T14:37:52.464Z"
   },
   {
    "duration": 4,
    "start_time": "2021-12-23T14:38:17.844Z"
   },
   {
    "duration": 54423,
    "start_time": "2021-12-23T14:38:27.915Z"
   },
   {
    "duration": 579,
    "start_time": "2021-12-23T14:41:15.214Z"
   },
   {
    "duration": 285,
    "start_time": "2021-12-23T14:43:20.377Z"
   },
   {
    "duration": 3,
    "start_time": "2021-12-23T14:43:27.247Z"
   },
   {
    "duration": 2017,
    "start_time": "2021-12-23T14:43:29.339Z"
   },
   {
    "duration": 5,
    "start_time": "2021-12-23T14:43:43.755Z"
   },
   {
    "duration": 4,
    "start_time": "2021-12-23T14:47:09.721Z"
   },
   {
    "duration": 3,
    "start_time": "2021-12-23T14:47:47.975Z"
   },
   {
    "duration": 4,
    "start_time": "2021-12-23T14:47:51.449Z"
   },
   {
    "duration": 5,
    "start_time": "2021-12-23T14:47:57.592Z"
   },
   {
    "duration": 3,
    "start_time": "2021-12-23T14:48:02.831Z"
   },
   {
    "duration": 4,
    "start_time": "2021-12-23T14:48:03.379Z"
   },
   {
    "duration": 3,
    "start_time": "2021-12-23T14:48:06.782Z"
   },
   {
    "duration": 6,
    "start_time": "2021-12-23T14:48:32.835Z"
   },
   {
    "duration": 3,
    "start_time": "2021-12-23T14:48:39.793Z"
   },
   {
    "duration": 5,
    "start_time": "2021-12-23T14:48:43.370Z"
   },
   {
    "duration": 3492,
    "start_time": "2021-12-23T14:50:31.337Z"
   },
   {
    "duration": 6181,
    "start_time": "2021-12-23T14:50:34.831Z"
   },
   {
    "duration": 6,
    "start_time": "2021-12-23T14:50:47.172Z"
   },
   {
    "duration": 1573,
    "start_time": "2021-12-23T14:50:48.969Z"
   },
   {
    "duration": 5,
    "start_time": "2021-12-23T14:50:56.775Z"
   },
   {
    "duration": 4,
    "start_time": "2021-12-23T14:52:23.653Z"
   },
   {
    "duration": 3,
    "start_time": "2021-12-23T14:52:45.090Z"
   },
   {
    "duration": 5,
    "start_time": "2021-12-23T14:52:52.559Z"
   },
   {
    "duration": 4,
    "start_time": "2021-12-23T14:52:57.777Z"
   },
   {
    "duration": 4,
    "start_time": "2021-12-23T14:53:03.992Z"
   },
   {
    "duration": 4,
    "start_time": "2021-12-23T14:53:09.101Z"
   },
   {
    "duration": 4,
    "start_time": "2021-12-23T14:53:13.023Z"
   },
   {
    "duration": 3,
    "start_time": "2021-12-23T14:53:18.213Z"
   },
   {
    "duration": 3106,
    "start_time": "2021-12-23T14:58:23.228Z"
   },
   {
    "duration": 6045,
    "start_time": "2021-12-23T14:58:26.337Z"
   },
   {
    "duration": 1666,
    "start_time": "2021-12-23T15:00:32.672Z"
   },
   {
    "duration": 13,
    "start_time": "2021-12-23T15:01:16.723Z"
   },
   {
    "duration": 4,
    "start_time": "2021-12-23T15:01:25.324Z"
   },
   {
    "duration": 5,
    "start_time": "2021-12-23T15:01:30.318Z"
   },
   {
    "duration": 86,
    "start_time": "2021-12-23T15:03:30.157Z"
   },
   {
    "duration": 5,
    "start_time": "2021-12-23T15:03:32.475Z"
   },
   {
    "duration": 124,
    "start_time": "2021-12-23T15:03:49.863Z"
   },
   {
    "duration": 102,
    "start_time": "2021-12-23T15:03:58.504Z"
   },
   {
    "duration": 6,
    "start_time": "2021-12-23T15:04:01.018Z"
   },
   {
    "duration": 408,
    "start_time": "2021-12-23T15:05:55.735Z"
   },
   {
    "duration": 4,
    "start_time": "2021-12-23T15:07:07.771Z"
   },
   {
    "duration": 4,
    "start_time": "2021-12-23T15:07:20.314Z"
   },
   {
    "duration": 570,
    "start_time": "2021-12-23T15:08:01.512Z"
   },
   {
    "duration": 323,
    "start_time": "2021-12-23T15:08:38.225Z"
   },
   {
    "duration": 10,
    "start_time": "2021-12-23T15:09:10.472Z"
   },
   {
    "duration": 129,
    "start_time": "2021-12-23T15:09:13.070Z"
   },
   {
    "duration": 4,
    "start_time": "2021-12-23T15:09:16.037Z"
   },
   {
    "duration": 5,
    "start_time": "2021-12-23T15:09:25.887Z"
   },
   {
    "duration": 4,
    "start_time": "2021-12-23T15:09:27.163Z"
   },
   {
    "duration": 8,
    "start_time": "2021-12-23T15:09:57.035Z"
   },
   {
    "duration": 58,
    "start_time": "2021-12-23T15:10:18.145Z"
   },
   {
    "duration": 4,
    "start_time": "2021-12-23T15:10:19.304Z"
   },
   {
    "duration": 4,
    "start_time": "2021-12-23T15:10:19.545Z"
   },
   {
    "duration": 4,
    "start_time": "2021-12-23T15:12:24.779Z"
   },
   {
    "duration": 59,
    "start_time": "2021-12-23T15:12:30.629Z"
   },
   {
    "duration": 4,
    "start_time": "2021-12-23T15:12:33.696Z"
   },
   {
    "duration": 287,
    "start_time": "2021-12-23T15:12:49.110Z"
   },
   {
    "duration": 250,
    "start_time": "2021-12-23T15:12:57.059Z"
   },
   {
    "duration": 279,
    "start_time": "2021-12-23T15:13:00.099Z"
   },
   {
    "duration": 259,
    "start_time": "2021-12-23T15:13:02.980Z"
   },
   {
    "duration": 4,
    "start_time": "2021-12-23T15:13:08.312Z"
   },
   {
    "duration": 5,
    "start_time": "2021-12-23T15:13:14.095Z"
   },
   {
    "duration": 5,
    "start_time": "2021-12-23T15:13:30.825Z"
   },
   {
    "duration": 5,
    "start_time": "2021-12-23T15:13:33.022Z"
   },
   {
    "duration": 55,
    "start_time": "2021-12-23T15:15:30.391Z"
   },
   {
    "duration": 5,
    "start_time": "2021-12-23T15:15:32.920Z"
   },
   {
    "duration": 4,
    "start_time": "2021-12-23T15:15:36.004Z"
   },
   {
    "duration": 22,
    "start_time": "2021-12-23T15:16:15.717Z"
   },
   {
    "duration": 5,
    "start_time": "2021-12-23T15:16:16.670Z"
   },
   {
    "duration": 4,
    "start_time": "2021-12-23T15:16:17.090Z"
   },
   {
    "duration": 23,
    "start_time": "2021-12-23T15:16:27.585Z"
   },
   {
    "duration": 4,
    "start_time": "2021-12-23T15:16:28.221Z"
   },
   {
    "duration": 4,
    "start_time": "2021-12-23T15:16:28.423Z"
   },
   {
    "duration": 25504,
    "start_time": "2021-12-23T15:16:44.030Z"
   },
   {
    "duration": 4,
    "start_time": "2021-12-23T15:18:12.439Z"
   },
   {
    "duration": 268,
    "start_time": "2021-12-23T15:20:18.831Z"
   },
   {
    "duration": 260,
    "start_time": "2021-12-23T15:20:42.158Z"
   },
   {
    "duration": 4,
    "start_time": "2021-12-23T15:22:24.694Z"
   },
   {
    "duration": 37,
    "start_time": "2021-12-23T15:23:13.722Z"
   },
   {
    "duration": 29,
    "start_time": "2021-12-23T15:23:21.366Z"
   },
   {
    "duration": 40,
    "start_time": "2021-12-23T15:23:43.688Z"
   },
   {
    "duration": 304,
    "start_time": "2021-12-23T15:23:49.161Z"
   },
   {
    "duration": 24415,
    "start_time": "2021-12-23T15:23:58.729Z"
   },
   {
    "duration": 24,
    "start_time": "2021-12-23T15:24:32.399Z"
   },
   {
    "duration": 7,
    "start_time": "2021-12-23T15:24:33.223Z"
   },
   {
    "duration": 4,
    "start_time": "2021-12-23T15:24:39.916Z"
   },
   {
    "duration": 5095,
    "start_time": "2021-12-23T15:24:46.542Z"
   },
   {
    "duration": 5298,
    "start_time": "2021-12-23T15:26:28.995Z"
   },
   {
    "duration": 763,
    "start_time": "2021-12-23T15:27:28.229Z"
   },
   {
    "duration": 264,
    "start_time": "2021-12-23T15:27:29.360Z"
   },
   {
    "duration": 1761,
    "start_time": "2021-12-23T15:27:57.153Z"
   },
   {
    "duration": 677,
    "start_time": "2021-12-23T15:28:01.271Z"
   },
   {
    "duration": 7,
    "start_time": "2021-12-23T15:28:05.327Z"
   },
   {
    "duration": 24851,
    "start_time": "2021-12-23T15:28:16.040Z"
   },
   {
    "duration": 27,
    "start_time": "2021-12-23T15:28:45.069Z"
   },
   {
    "duration": 5398,
    "start_time": "2021-12-23T15:28:45.970Z"
   },
   {
    "duration": 346,
    "start_time": "2021-12-23T15:30:49.559Z"
   },
   {
    "duration": 5295,
    "start_time": "2021-12-23T15:31:18.963Z"
   },
   {
    "duration": 300,
    "start_time": "2021-12-23T15:31:33.269Z"
   },
   {
    "duration": 6,
    "start_time": "2021-12-23T15:31:40.927Z"
   },
   {
    "duration": 4,
    "start_time": "2021-12-23T15:32:00.141Z"
   },
   {
    "duration": 258,
    "start_time": "2021-12-23T15:32:23.106Z"
   },
   {
    "duration": 5,
    "start_time": "2021-12-23T15:33:18.906Z"
   },
   {
    "duration": 3,
    "start_time": "2021-12-23T15:33:40.497Z"
   },
   {
    "duration": 252,
    "start_time": "2021-12-23T15:33:44.604Z"
   },
   {
    "duration": 39,
    "start_time": "2021-12-23T15:33:51.997Z"
   },
   {
    "duration": 4,
    "start_time": "2021-12-23T15:34:00.345Z"
   },
   {
    "duration": 42,
    "start_time": "2021-12-23T15:34:04.572Z"
   },
   {
    "duration": 9099,
    "start_time": "2021-12-23T15:34:46.715Z"
   },
   {
    "duration": 267,
    "start_time": "2021-12-23T15:35:02.821Z"
   },
   {
    "duration": 7,
    "start_time": "2021-12-23T15:35:10.075Z"
   },
   {
    "duration": 634,
    "start_time": "2021-12-23T15:35:12.678Z"
   },
   {
    "duration": 23928,
    "start_time": "2021-12-23T15:35:13.314Z"
   },
   {
    "duration": 304,
    "start_time": "2021-12-23T15:35:46.216Z"
   },
   {
    "duration": 259,
    "start_time": "2021-12-23T15:35:59.539Z"
   },
   {
    "duration": 5559,
    "start_time": "2021-12-23T15:36:19.733Z"
   },
   {
    "duration": 4,
    "start_time": "2021-12-23T15:36:42.602Z"
   },
   {
    "duration": 4,
    "start_time": "2021-12-23T15:36:45.749Z"
   },
   {
    "duration": 4,
    "start_time": "2021-12-23T15:36:54.328Z"
   },
   {
    "duration": 9,
    "start_time": "2021-12-23T15:37:07.131Z"
   },
   {
    "duration": 7358,
    "start_time": "2021-12-23T15:37:10.671Z"
   },
   {
    "duration": 29,
    "start_time": "2021-12-23T15:37:45.588Z"
   },
   {
    "duration": 5772,
    "start_time": "2021-12-23T15:39:20.644Z"
   },
   {
    "duration": 5989,
    "start_time": "2021-12-23T15:41:06.064Z"
   },
   {
    "duration": 6,
    "start_time": "2021-12-23T15:42:56.316Z"
   },
   {
    "duration": 8605,
    "start_time": "2021-12-23T15:43:20.768Z"
   },
   {
    "duration": 6,
    "start_time": "2021-12-23T15:43:30.947Z"
   },
   {
    "duration": 5891,
    "start_time": "2021-12-23T15:43:47.361Z"
   },
   {
    "duration": 5,
    "start_time": "2021-12-23T15:44:15.262Z"
   },
   {
    "duration": 8,
    "start_time": "2021-12-23T15:44:18.545Z"
   },
   {
    "duration": 240,
    "start_time": "2021-12-23T15:44:28.379Z"
   },
   {
    "duration": 8,
    "start_time": "2021-12-23T15:44:33.384Z"
   },
   {
    "duration": 3,
    "start_time": "2021-12-23T15:44:55.664Z"
   },
   {
    "duration": 252,
    "start_time": "2021-12-23T15:44:57.931Z"
   },
   {
    "duration": 8443,
    "start_time": "2021-12-23T15:44:59.608Z"
   },
   {
    "duration": 8,
    "start_time": "2021-12-23T15:45:08.053Z"
   },
   {
    "duration": 25,
    "start_time": "2021-12-23T15:49:06.778Z"
   },
   {
    "duration": 282,
    "start_time": "2021-12-23T15:51:27.565Z"
   },
   {
    "duration": 90,
    "start_time": "2021-12-23T15:52:13.593Z"
   },
   {
    "duration": 9,
    "start_time": "2021-12-23T15:52:23.071Z"
   },
   {
    "duration": 5,
    "start_time": "2021-12-23T15:52:34.897Z"
   },
   {
    "duration": 19,
    "start_time": "2021-12-23T15:52:38.091Z"
   },
   {
    "duration": 25,
    "start_time": "2021-12-23T15:52:51.419Z"
   },
   {
    "duration": 33,
    "start_time": "2021-12-23T15:52:58.070Z"
   },
   {
    "duration": 47,
    "start_time": "2021-12-23T15:53:42.109Z"
   },
   {
    "duration": 9140,
    "start_time": "2021-12-23T15:56:46.638Z"
   },
   {
    "duration": 3965,
    "start_time": "2021-12-23T15:57:54.840Z"
   },
   {
    "duration": 5,
    "start_time": "2021-12-23T15:59:29.150Z"
   },
   {
    "duration": 2756,
    "start_time": "2021-12-23T16:00:05.401Z"
   },
   {
    "duration": 6,
    "start_time": "2021-12-23T16:00:08.159Z"
   },
   {
    "duration": 3623,
    "start_time": "2021-12-23T16:00:23.519Z"
   },
   {
    "duration": 8,
    "start_time": "2021-12-23T16:00:27.144Z"
   },
   {
    "duration": 7731,
    "start_time": "2021-12-23T16:04:43.745Z"
   },
   {
    "duration": 6,
    "start_time": "2021-12-23T16:04:51.478Z"
   },
   {
    "duration": 178,
    "start_time": "2021-12-23T16:19:06.802Z"
   },
   {
    "duration": 3,
    "start_time": "2021-12-23T16:19:16.962Z"
   },
   {
    "duration": 496249,
    "start_time": "2021-12-23T16:20:13.505Z"
   },
   {
    "duration": 365,
    "start_time": "2021-12-23T16:28:32.194Z"
   },
   {
    "duration": 344063,
    "start_time": "2021-12-23T16:29:16.924Z"
   },
   {
    "duration": 6,
    "start_time": "2021-12-23T16:36:39.120Z"
   },
   {
    "duration": 67081,
    "start_time": "2021-12-23T16:37:05.266Z"
   },
   {
    "duration": 7,
    "start_time": "2021-12-23T16:38:15.712Z"
   },
   {
    "duration": 313,
    "start_time": "2021-12-23T16:39:01.730Z"
   },
   {
    "duration": 511,
    "start_time": "2021-12-23T16:39:22.115Z"
   },
   {
    "duration": 14,
    "start_time": "2021-12-23T16:40:02.847Z"
   },
   {
    "duration": 652,
    "start_time": "2021-12-23T16:40:06.318Z"
   },
   {
    "duration": 1156,
    "start_time": "2021-12-23T16:42:10.739Z"
   },
   {
    "duration": 1134,
    "start_time": "2021-12-23T16:43:07.089Z"
   },
   {
    "duration": 94,
    "start_time": "2021-12-23T16:43:32.502Z"
   },
   {
    "duration": 974,
    "start_time": "2021-12-23T16:43:36.574Z"
   },
   {
    "duration": 741,
    "start_time": "2021-12-23T16:49:52.115Z"
   },
   {
    "duration": 51176,
    "start_time": "2021-12-23T16:49:53.303Z"
   },
   {
    "duration": 71,
    "start_time": "2021-12-23T16:55:15.212Z"
   },
   {
    "duration": 9184,
    "start_time": "2021-12-23T16:55:20.089Z"
   },
   {
    "duration": 9557,
    "start_time": "2021-12-23T16:55:32.960Z"
   },
   {
    "duration": 7,
    "start_time": "2021-12-23T16:55:42.519Z"
   },
   {
    "duration": 43278,
    "start_time": "2021-12-23T16:56:06.928Z"
   },
   {
    "duration": 87,
    "start_time": "2021-12-23T16:56:50.208Z"
   },
   {
    "duration": 10017,
    "start_time": "2021-12-23T16:56:50.298Z"
   },
   {
    "duration": 10359,
    "start_time": "2021-12-23T16:57:00.318Z"
   },
   {
    "duration": 8,
    "start_time": "2021-12-23T16:57:10.679Z"
   },
   {
    "duration": 45868,
    "start_time": "2021-12-23T16:57:27.853Z"
   },
   {
    "duration": 109,
    "start_time": "2021-12-23T16:58:13.724Z"
   },
   {
    "duration": 10129,
    "start_time": "2021-12-23T16:58:13.841Z"
   },
   {
    "duration": 11293,
    "start_time": "2021-12-23T16:58:23.973Z"
   },
   {
    "duration": 7,
    "start_time": "2021-12-23T16:58:35.269Z"
   },
   {
    "duration": 39083,
    "start_time": "2021-12-23T17:00:29.945Z"
   },
   {
    "duration": 28802,
    "start_time": "2021-12-23T17:01:09.030Z"
   },
   {
    "duration": 12,
    "start_time": "2021-12-23T17:01:37.834Z"
   },
   {
    "duration": 1581,
    "start_time": "2021-12-24T08:24:38.206Z"
   },
   {
    "duration": 9610,
    "start_time": "2021-12-24T08:24:39.789Z"
   },
   {
    "duration": 30873,
    "start_time": "2021-12-24T08:24:49.401Z"
   },
   {
    "duration": 57,
    "start_time": "2021-12-24T08:25:20.276Z"
   },
   {
    "duration": 25853,
    "start_time": "2021-12-24T08:25:20.334Z"
   },
   {
    "duration": 9,
    "start_time": "2021-12-24T08:26:05.731Z"
   },
   {
    "duration": 4,
    "start_time": "2021-12-24T08:26:15.540Z"
   },
   {
    "duration": 4,
    "start_time": "2021-12-24T08:26:22.724Z"
   },
   {
    "duration": 26,
    "start_time": "2021-12-24T08:26:36.384Z"
   },
   {
    "duration": 23134,
    "start_time": "2021-12-24T08:26:47.763Z"
   },
   {
    "duration": 8,
    "start_time": "2021-12-24T08:27:13.552Z"
   },
   {
    "duration": 7746,
    "start_time": "2021-12-24T08:27:26.463Z"
   },
   {
    "duration": 7,
    "start_time": "2021-12-24T08:27:43.444Z"
   },
   {
    "duration": 7640,
    "start_time": "2021-12-24T08:27:45.625Z"
   },
   {
    "duration": 44558,
    "start_time": "2021-12-24T08:28:00.685Z"
   },
   {
    "duration": 5,
    "start_time": "2021-12-24T08:28:45.245Z"
   },
   {
    "duration": 26172,
    "start_time": "2021-12-24T08:30:01.016Z"
   },
   {
    "duration": 3,
    "start_time": "2021-12-24T08:30:32.047Z"
   },
   {
    "duration": 515,
    "start_time": "2021-12-24T08:32:52.947Z"
   },
   {
    "duration": 339,
    "start_time": "2021-12-24T08:33:55.044Z"
   },
   {
    "duration": 87716,
    "start_time": "2021-12-24T08:34:32.525Z"
   },
   {
    "duration": 4,
    "start_time": "2021-12-24T08:36:23.218Z"
   },
   {
    "duration": 25594,
    "start_time": "2021-12-24T08:36:27.241Z"
   },
   {
    "duration": 31896,
    "start_time": "2021-12-24T08:37:25.258Z"
   },
   {
    "duration": 7950,
    "start_time": "2021-12-24T08:37:57.156Z"
   },
   {
    "duration": 9573,
    "start_time": "2021-12-24T08:38:35.365Z"
   },
   {
    "duration": 29679,
    "start_time": "2021-12-24T08:39:44.037Z"
   },
   {
    "duration": 3,
    "start_time": "2021-12-24T08:40:13.717Z"
   },
   {
    "duration": 6702,
    "start_time": "2021-12-24T08:40:56.712Z"
   },
   {
    "duration": 28371,
    "start_time": "2021-12-24T08:42:39.806Z"
   },
   {
    "duration": 112,
    "start_time": "2021-12-24T08:43:24.823Z"
   },
   {
    "duration": 128,
    "start_time": "2021-12-24T08:43:30.223Z"
   },
   {
    "duration": 440,
    "start_time": "2021-12-24T08:43:33.149Z"
   },
   {
    "duration": 112,
    "start_time": "2021-12-24T08:43:54.975Z"
   },
   {
    "duration": 508,
    "start_time": "2021-12-24T08:44:00.083Z"
   },
   {
    "duration": 411,
    "start_time": "2021-12-24T08:44:12.892Z"
   },
   {
    "duration": 110,
    "start_time": "2021-12-24T08:44:22.371Z"
   },
   {
    "duration": 432,
    "start_time": "2021-12-24T08:44:24.601Z"
   },
   {
    "duration": 4,
    "start_time": "2021-12-24T08:44:29.245Z"
   },
   {
    "duration": 4,
    "start_time": "2021-12-24T08:44:32.354Z"
   },
   {
    "duration": 313,
    "start_time": "2021-12-24T08:44:38.027Z"
   },
   {
    "duration": 4,
    "start_time": "2021-12-24T08:44:42.009Z"
   },
   {
    "duration": 3,
    "start_time": "2021-12-24T08:44:49.286Z"
   },
   {
    "duration": 342,
    "start_time": "2021-12-24T08:45:01.454Z"
   },
   {
    "duration": 3,
    "start_time": "2021-12-24T08:45:15.153Z"
   },
   {
    "duration": 318,
    "start_time": "2021-12-24T08:45:23.046Z"
   },
   {
    "duration": 4,
    "start_time": "2021-12-24T08:45:26.004Z"
   },
   {
    "duration": 5,
    "start_time": "2021-12-24T08:45:28.806Z"
   },
   {
    "duration": 5,
    "start_time": "2021-12-24T08:45:35.657Z"
   },
   {
    "duration": 3,
    "start_time": "2021-12-24T08:45:41.973Z"
   },
   {
    "duration": 3,
    "start_time": "2021-12-24T08:45:45.509Z"
   },
   {
    "duration": 3,
    "start_time": "2021-12-24T08:45:50.917Z"
   },
   {
    "duration": 3,
    "start_time": "2021-12-24T08:45:55.208Z"
   },
   {
    "duration": 4,
    "start_time": "2021-12-24T08:46:03.241Z"
   },
   {
    "duration": 414,
    "start_time": "2021-12-24T08:46:06.681Z"
   },
   {
    "duration": 443,
    "start_time": "2021-12-24T08:46:10.622Z"
   },
   {
    "duration": 482,
    "start_time": "2021-12-24T08:46:14.031Z"
   },
   {
    "duration": 4,
    "start_time": "2021-12-24T08:46:18.441Z"
   },
   {
    "duration": 3,
    "start_time": "2021-12-24T08:46:22.383Z"
   },
   {
    "duration": 4,
    "start_time": "2021-12-24T08:46:34.488Z"
   },
   {
    "duration": 382,
    "start_time": "2021-12-24T08:46:38.735Z"
   },
   {
    "duration": 3,
    "start_time": "2021-12-24T08:46:43.427Z"
   },
   {
    "duration": 30138,
    "start_time": "2021-12-24T08:47:25.939Z"
   },
   {
    "duration": 335,
    "start_time": "2021-12-24T08:48:42.987Z"
   },
   {
    "duration": 345,
    "start_time": "2021-12-24T08:48:56.824Z"
   },
   {
    "duration": 367,
    "start_time": "2021-12-24T08:48:59.192Z"
   },
   {
    "duration": 5,
    "start_time": "2021-12-24T08:49:07.711Z"
   },
   {
    "duration": 4,
    "start_time": "2021-12-24T08:49:19.323Z"
   },
   {
    "duration": 14,
    "start_time": "2021-12-24T08:49:31.352Z"
   },
   {
    "duration": 16,
    "start_time": "2021-12-24T08:50:16.445Z"
   },
   {
    "duration": 21,
    "start_time": "2021-12-24T08:50:21.937Z"
   },
   {
    "duration": 34977,
    "start_time": "2021-12-24T08:50:26.219Z"
   },
   {
    "duration": 14,
    "start_time": "2021-12-24T08:51:11.507Z"
   },
   {
    "duration": 68511,
    "start_time": "2021-12-24T09:05:48.035Z"
   },
   {
    "duration": 67011,
    "start_time": "2021-12-24T09:07:41.835Z"
   },
   {
    "duration": 220960,
    "start_time": "2021-12-24T09:09:34.387Z"
   },
   {
    "duration": 384,
    "start_time": "2021-12-24T09:13:22.689Z"
   },
   {
    "duration": 25,
    "start_time": "2021-12-24T09:13:26.898Z"
   },
   {
    "duration": 6,
    "start_time": "2021-12-24T09:14:06.313Z"
   },
   {
    "duration": 2500,
    "start_time": "2021-12-24T09:14:14.378Z"
   },
   {
    "duration": 12,
    "start_time": "2021-12-24T09:14:18.030Z"
   },
   {
    "duration": 491,
    "start_time": "2021-12-24T09:15:12.945Z"
   },
   {
    "duration": 32673,
    "start_time": "2021-12-24T09:15:17.310Z"
   },
   {
    "duration": 334,
    "start_time": "2021-12-24T09:15:49.985Z"
   },
   {
    "duration": 363,
    "start_time": "2021-12-24T09:16:12.650Z"
   },
   {
    "duration": 10,
    "start_time": "2021-12-24T09:16:15.891Z"
   },
   {
    "duration": 4,
    "start_time": "2021-12-24T09:16:37.363Z"
   },
   {
    "duration": 4,
    "start_time": "2021-12-24T09:16:42.225Z"
   },
   {
    "duration": 4,
    "start_time": "2021-12-24T09:16:49.058Z"
   },
   {
    "duration": 46,
    "start_time": "2021-12-24T09:17:40.771Z"
   },
   {
    "duration": 6992,
    "start_time": "2021-12-24T09:18:15.019Z"
   },
   {
    "duration": 24,
    "start_time": "2021-12-24T09:18:23.715Z"
   },
   {
    "duration": 3,
    "start_time": "2021-12-24T09:18:48.497Z"
   },
   {
    "duration": 6654,
    "start_time": "2021-12-24T09:19:30.682Z"
   },
   {
    "duration": 6695,
    "start_time": "2021-12-24T09:19:56.529Z"
   },
   {
    "duration": 26358,
    "start_time": "2021-12-24T09:20:09.022Z"
   },
   {
    "duration": 13,
    "start_time": "2021-12-24T09:20:40.571Z"
   },
   {
    "duration": 205461,
    "start_time": "2021-12-24T09:21:12.721Z"
   },
   {
    "duration": 180,
    "start_time": "2021-12-24T09:26:32.170Z"
   },
   {
    "duration": 274130,
    "start_time": "2021-12-24T09:27:21.947Z"
   },
   {
    "duration": 352,
    "start_time": "2021-12-24T09:33:21.094Z"
   },
   {
    "duration": 185694,
    "start_time": "2021-12-24T09:33:36.992Z"
   },
   {
    "duration": 502,
    "start_time": "2021-12-24T09:37:32.645Z"
   },
   {
    "duration": 221666,
    "start_time": "2021-12-24T09:37:45.262Z"
   },
   {
    "duration": 618,
    "start_time": "2021-12-24T09:43:23.627Z"
   },
   {
    "duration": 227887,
    "start_time": "2021-12-24T09:43:35.552Z"
   },
   {
    "duration": 597,
    "start_time": "2021-12-24T09:49:57.647Z"
   },
   {
    "duration": 230221,
    "start_time": "2021-12-24T09:50:07.273Z"
   },
   {
    "duration": 626,
    "start_time": "2021-12-24T09:55:03.923Z"
   },
   {
    "duration": 275,
    "start_time": "2021-12-24T09:56:27.027Z"
   },
   {
    "duration": 129212,
    "start_time": "2021-12-24T09:56:38.336Z"
   },
   {
    "duration": 553,
    "start_time": "2021-12-24T09:59:32.098Z"
   },
   {
    "duration": 289653,
    "start_time": "2021-12-24T10:00:21.492Z"
   },
   {
    "duration": 288,
    "start_time": "2021-12-24T10:06:21.347Z"
   },
   {
    "duration": 240713,
    "start_time": "2021-12-24T10:06:34.528Z"
   },
   {
    "duration": 243,
    "start_time": "2021-12-24T10:16:35.692Z"
   },
   {
    "duration": 257162,
    "start_time": "2021-12-24T10:16:50.582Z"
   },
   {
    "duration": 293,
    "start_time": "2021-12-24T10:26:05.849Z"
   },
   {
    "duration": 381812,
    "start_time": "2021-12-24T10:26:15.232Z"
   },
   {
    "duration": 250,
    "start_time": "2021-12-24T10:34:54.294Z"
   },
   {
    "duration": 376232,
    "start_time": "2021-12-24T10:35:03.517Z"
   },
   {
    "duration": 25,
    "start_time": "2021-12-24T10:42:03.930Z"
   },
   {
    "duration": 238,
    "start_time": "2021-12-24T10:42:17.107Z"
   },
   {
    "duration": 534350,
    "start_time": "2021-12-24T10:42:37.690Z"
   },
   {
    "duration": 254,
    "start_time": "2021-12-24T10:52:22.995Z"
   },
   {
    "duration": 423020,
    "start_time": "2021-12-24T10:52:31.242Z"
   },
   {
    "duration": 338,
    "start_time": "2021-12-24T11:03:13.110Z"
   },
   {
    "duration": 7,
    "start_time": "2021-12-24T11:03:37.072Z"
   },
   {
    "duration": 4,
    "start_time": "2021-12-24T11:04:12.772Z"
   },
   {
    "duration": 4,
    "start_time": "2021-12-24T11:04:18.801Z"
   },
   {
    "duration": 4,
    "start_time": "2021-12-24T11:06:42.275Z"
   },
   {
    "duration": 125,
    "start_time": "2021-12-24T11:08:51.304Z"
   },
   {
    "duration": 118,
    "start_time": "2021-12-24T11:08:58.363Z"
   },
   {
    "duration": 115,
    "start_time": "2021-12-24T11:09:10.906Z"
   },
   {
    "duration": 106,
    "start_time": "2021-12-24T11:09:22.493Z"
   },
   {
    "duration": 131,
    "start_time": "2021-12-24T11:09:41.862Z"
   },
   {
    "duration": 167,
    "start_time": "2021-12-24T11:09:48.979Z"
   },
   {
    "duration": 412,
    "start_time": "2021-12-24T11:10:38.872Z"
   },
   {
    "duration": 22,
    "start_time": "2021-12-24T11:11:00.558Z"
   },
   {
    "duration": 106,
    "start_time": "2021-12-24T11:11:25.482Z"
   },
   {
    "duration": 16,
    "start_time": "2021-12-24T11:12:09.501Z"
   },
   {
    "duration": 5837,
    "start_time": "2021-12-24T11:13:01.895Z"
   },
   {
    "duration": 328,
    "start_time": "2021-12-24T11:14:28.954Z"
   },
   {
    "duration": 334,
    "start_time": "2021-12-24T11:14:35.375Z"
   },
   {
    "duration": 4,
    "start_time": "2021-12-24T11:16:44.792Z"
   },
   {
    "duration": 4,
    "start_time": "2021-12-24T11:16:55.731Z"
   },
   {
    "duration": 5911,
    "start_time": "2021-12-24T11:17:06.189Z"
   },
   {
    "duration": 326,
    "start_time": "2021-12-24T11:18:09.807Z"
   },
   {
    "duration": 333,
    "start_time": "2021-12-24T11:18:14.722Z"
   },
   {
    "duration": 5708,
    "start_time": "2021-12-24T11:18:21.214Z"
   },
   {
    "duration": 591,
    "start_time": "2021-12-24T11:18:56.478Z"
   },
   {
    "duration": 5156,
    "start_time": "2021-12-24T11:19:05.061Z"
   },
   {
    "duration": 21068,
    "start_time": "2021-12-24T11:19:23.469Z"
   },
   {
    "duration": 44,
    "start_time": "2021-12-24T11:19:54.579Z"
   },
   {
    "duration": 41,
    "start_time": "2021-12-24T11:20:55.879Z"
   },
   {
    "duration": 4,
    "start_time": "2021-12-24T11:22:10.247Z"
   },
   {
    "duration": 344,
    "start_time": "2021-12-24T11:22:52.098Z"
   },
   {
    "duration": 19,
    "start_time": "2021-12-24T11:23:17.233Z"
   },
   {
    "duration": 10,
    "start_time": "2021-12-24T11:23:28.874Z"
   },
   {
    "duration": 9,
    "start_time": "2021-12-24T11:23:34.277Z"
   },
   {
    "duration": 9,
    "start_time": "2021-12-24T11:23:49.602Z"
   },
   {
    "duration": 8,
    "start_time": "2021-12-24T11:23:55.920Z"
   },
   {
    "duration": 4,
    "start_time": "2021-12-24T11:24:01.762Z"
   },
   {
    "duration": 8,
    "start_time": "2021-12-24T11:24:17.077Z"
   },
   {
    "duration": 9,
    "start_time": "2021-12-24T11:24:56.223Z"
   },
   {
    "duration": 329,
    "start_time": "2021-12-24T11:25:14.189Z"
   },
   {
    "duration": 8,
    "start_time": "2021-12-24T11:26:18.496Z"
   },
   {
    "duration": 4,
    "start_time": "2021-12-24T11:26:26.492Z"
   },
   {
    "duration": 3,
    "start_time": "2021-12-24T11:26:33.157Z"
   },
   {
    "duration": 4,
    "start_time": "2021-12-24T11:26:36.893Z"
   },
   {
    "duration": 5,
    "start_time": "2021-12-24T11:26:49.446Z"
   },
   {
    "duration": 355,
    "start_time": "2021-12-24T11:27:05.257Z"
   },
   {
    "duration": 8,
    "start_time": "2021-12-24T11:27:14.492Z"
   },
   {
    "duration": 8,
    "start_time": "2021-12-24T11:27:52.558Z"
   },
   {
    "duration": 9,
    "start_time": "2021-12-24T11:27:55.593Z"
   },
   {
    "duration": 4,
    "start_time": "2021-12-24T11:28:04.996Z"
   },
   {
    "duration": 6,
    "start_time": "2021-12-24T11:28:17.852Z"
   },
   {
    "duration": 7,
    "start_time": "2021-12-24T11:28:45.945Z"
   },
   {
    "duration": 10,
    "start_time": "2021-12-24T11:29:10.377Z"
   },
   {
    "duration": 9,
    "start_time": "2021-12-24T11:29:21.507Z"
   },
   {
    "duration": 10,
    "start_time": "2021-12-24T11:29:26.655Z"
   },
   {
    "duration": 6,
    "start_time": "2021-12-24T11:29:33.763Z"
   },
   {
    "duration": 8,
    "start_time": "2021-12-24T11:29:39.721Z"
   },
   {
    "duration": 6,
    "start_time": "2021-12-24T11:29:42.081Z"
   },
   {
    "duration": 10,
    "start_time": "2021-12-24T11:29:44.274Z"
   },
   {
    "duration": 5,
    "start_time": "2021-12-24T11:29:48.951Z"
   },
   {
    "duration": 8,
    "start_time": "2021-12-24T11:30:00.120Z"
   },
   {
    "duration": 9,
    "start_time": "2021-12-24T11:30:02.295Z"
   },
   {
    "duration": 27581,
    "start_time": "2021-12-24T11:35:31.132Z"
   },
   {
    "duration": 351791,
    "start_time": "2021-12-24T11:38:30.262Z"
   },
   {
    "duration": 4,
    "start_time": "2021-12-24T11:45:44.004Z"
   },
   {
    "duration": 4,
    "start_time": "2021-12-24T11:45:52.117Z"
   },
   {
    "duration": 3,
    "start_time": "2021-12-24T11:46:38.992Z"
   },
   {
    "duration": 3,
    "start_time": "2021-12-24T11:46:53.308Z"
   },
   {
    "duration": 3,
    "start_time": "2021-12-24T11:46:58.263Z"
   },
   {
    "duration": 406,
    "start_time": "2021-12-24T11:47:02.464Z"
   },
   {
    "duration": 4,
    "start_time": "2021-12-24T11:47:06.124Z"
   },
   {
    "duration": 3,
    "start_time": "2021-12-24T11:47:29.329Z"
   },
   {
    "duration": 339,
    "start_time": "2021-12-24T11:47:33.735Z"
   },
   {
    "duration": 360,
    "start_time": "2021-12-24T11:47:40.035Z"
   },
   {
    "duration": 333,
    "start_time": "2021-12-24T11:47:42.830Z"
   },
   {
    "duration": 332,
    "start_time": "2021-12-24T11:47:46.723Z"
   },
   {
    "duration": 4,
    "start_time": "2021-12-24T11:47:52.607Z"
   },
   {
    "duration": 3,
    "start_time": "2021-12-24T11:49:23.990Z"
   },
   {
    "duration": 26995,
    "start_time": "2021-12-24T11:50:12.435Z"
   },
   {
    "duration": 535824,
    "start_time": "2021-12-24T11:51:37.103Z"
   },
   {
    "duration": 11,
    "start_time": "2021-12-24T12:01:14.188Z"
   },
   {
    "duration": 11,
    "start_time": "2021-12-24T12:01:52.798Z"
   },
   {
    "duration": 1100,
    "start_time": "2021-12-24T12:02:25.384Z"
   },
   {
    "duration": 595,
    "start_time": "2021-12-24T12:02:26.486Z"
   },
   {
    "duration": 22,
    "start_time": "2021-12-24T12:02:27.085Z"
   },
   {
    "duration": 38230,
    "start_time": "2021-12-24T12:02:27.108Z"
   },
   {
    "duration": 3,
    "start_time": "2021-12-24T12:03:05.340Z"
   },
   {
    "duration": 55,
    "start_time": "2021-12-24T12:03:05.344Z"
   },
   {
    "duration": 6274,
    "start_time": "2021-12-24T12:03:05.401Z"
   },
   {
    "duration": 4,
    "start_time": "2021-12-24T12:03:11.677Z"
   },
   {
    "duration": 27239,
    "start_time": "2021-12-24T12:03:11.683Z"
   },
   {
    "duration": 620420,
    "start_time": "2021-12-24T12:03:38.927Z"
   },
   {
    "duration": 11,
    "start_time": "2021-12-24T12:13:59.349Z"
   },
   {
    "duration": 321,
    "start_time": "2021-12-25T09:30:40.728Z"
   },
   {
    "duration": 1781,
    "start_time": "2021-12-25T09:30:50.828Z"
   },
   {
    "duration": 843,
    "start_time": "2021-12-25T09:30:52.611Z"
   },
   {
    "duration": 40,
    "start_time": "2021-12-25T09:30:53.458Z"
   },
   {
    "duration": 356,
    "start_time": "2021-12-25T09:30:53.501Z"
   },
   {
    "duration": 10,
    "start_time": "2021-12-25T09:31:23.984Z"
   },
   {
    "duration": 634,
    "start_time": "2021-12-25T09:48:03.376Z"
   },
   {
    "duration": 6,
    "start_time": "2021-12-25T09:48:16.129Z"
   },
   {
    "duration": 784,
    "start_time": "2021-12-25T09:48:16.137Z"
   },
   {
    "duration": 42,
    "start_time": "2021-12-25T09:48:16.925Z"
   },
   {
    "duration": 10,
    "start_time": "2021-12-25T09:48:16.970Z"
   },
   {
    "duration": 70721,
    "start_time": "2021-12-25T09:48:16.983Z"
   },
   {
    "duration": 6,
    "start_time": "2021-12-25T09:49:27.706Z"
   },
   {
    "duration": 87,
    "start_time": "2021-12-25T09:49:27.716Z"
   },
   {
    "duration": 12201,
    "start_time": "2021-12-25T09:49:27.806Z"
   },
   {
    "duration": 4,
    "start_time": "2021-12-25T09:50:04.131Z"
   },
   {
    "duration": 6,
    "start_time": "2021-12-25T09:50:56.161Z"
   },
   {
    "duration": 587,
    "start_time": "2021-12-25T09:53:26.561Z"
   },
   {
    "duration": 4,
    "start_time": "2021-12-25T09:54:04.936Z"
   },
   {
    "duration": 147017,
    "start_time": "2021-12-25T09:54:06.985Z"
   },
   {
    "duration": 11,
    "start_time": "2021-12-25T09:57:15.609Z"
   },
   {
    "duration": 300,
    "start_time": "2021-12-25T09:57:22.407Z"
   },
   {
    "duration": 7,
    "start_time": "2021-12-25T09:57:28.341Z"
   },
   {
    "duration": 8,
    "start_time": "2021-12-25T09:57:33.499Z"
   },
   {
    "duration": 7,
    "start_time": "2021-12-25T09:57:38.466Z"
   },
   {
    "duration": 6,
    "start_time": "2021-12-25T09:57:47.002Z"
   },
   {
    "duration": 12,
    "start_time": "2021-12-25T09:58:00.419Z"
   },
   {
    "duration": 325,
    "start_time": "2021-12-25T09:58:08.161Z"
   },
   {
    "duration": 6,
    "start_time": "2021-12-25T09:58:11.742Z"
   },
   {
    "duration": 270,
    "start_time": "2021-12-25T09:58:19.797Z"
   },
   {
    "duration": 5,
    "start_time": "2021-12-25T09:58:27.901Z"
   },
   {
    "duration": 9,
    "start_time": "2021-12-25T09:59:25.848Z"
   },
   {
    "duration": 6,
    "start_time": "2021-12-25T10:00:43.977Z"
   },
   {
    "duration": 1728246,
    "start_time": "2021-12-25T10:02:15.530Z"
   },
   {
    "duration": 11228,
    "start_time": "2021-12-25T10:31:25.989Z"
   },
   {
    "duration": 1633,
    "start_time": "2021-12-25T10:31:57.477Z"
   },
   {
    "duration": 775,
    "start_time": "2021-12-25T10:31:59.113Z"
   },
   {
    "duration": 32,
    "start_time": "2021-12-25T10:31:59.891Z"
   },
   {
    "duration": 13,
    "start_time": "2021-12-25T10:31:59.926Z"
   },
   {
    "duration": 71043,
    "start_time": "2021-12-25T10:31:59.942Z"
   },
   {
    "duration": 5,
    "start_time": "2021-12-25T10:33:10.988Z"
   },
   {
    "duration": 76,
    "start_time": "2021-12-25T10:33:10.995Z"
   },
   {
    "duration": 11142,
    "start_time": "2021-12-25T10:33:32.196Z"
   },
   {
    "duration": 7,
    "start_time": "2021-12-25T10:34:00.082Z"
   },
   {
    "duration": 6,
    "start_time": "2021-12-25T10:34:05.764Z"
   },
   {
    "duration": 10514,
    "start_time": "2021-12-25T10:34:28.985Z"
   },
   {
    "duration": 6,
    "start_time": "2021-12-25T10:35:33.773Z"
   },
   {
    "duration": 148692,
    "start_time": "2021-12-25T10:35:39.283Z"
   },
   {
    "duration": 141589,
    "start_time": "2021-12-25T10:38:20.175Z"
   },
   {
    "duration": 149430,
    "start_time": "2021-12-25T10:41:09.293Z"
   },
   {
    "duration": 6,
    "start_time": "2021-12-25T10:44:33.279Z"
   },
   {
    "duration": 148535,
    "start_time": "2021-12-25T10:46:11.805Z"
   },
   {
    "duration": 1569,
    "start_time": "2021-12-25T10:49:46.157Z"
   },
   {
    "duration": 817,
    "start_time": "2021-12-25T10:49:47.728Z"
   },
   {
    "duration": 42,
    "start_time": "2021-12-25T10:49:48.548Z"
   },
   {
    "duration": 15,
    "start_time": "2021-12-25T10:49:48.593Z"
   },
   {
    "duration": 70707,
    "start_time": "2021-12-25T10:49:48.611Z"
   },
   {
    "duration": 5,
    "start_time": "2021-12-25T10:50:59.321Z"
   },
   {
    "duration": 80,
    "start_time": "2021-12-25T10:50:59.329Z"
   },
   {
    "duration": 10756,
    "start_time": "2021-12-25T10:50:59.411Z"
   },
   {
    "duration": 6,
    "start_time": "2021-12-25T10:51:10.170Z"
   },
   {
    "duration": 146251,
    "start_time": "2021-12-25T10:51:10.179Z"
   },
   {
    "duration": 667364,
    "start_time": "2021-12-25T10:53:36.433Z"
   },
   {
    "duration": 437,
    "start_time": "2021-12-25T11:04:43.800Z"
   },
   {
    "duration": 14,
    "start_time": "2021-12-25T11:08:29.848Z"
   },
   {
    "duration": 7,
    "start_time": "2021-12-25T11:08:41.102Z"
   },
   {
    "duration": 21582,
    "start_time": "2021-12-25T11:09:48.567Z"
   },
   {
    "duration": 6,
    "start_time": "2021-12-25T11:10:40.062Z"
   },
   {
    "duration": 6,
    "start_time": "2021-12-25T11:10:42.966Z"
   },
   {
    "duration": 43,
    "start_time": "2021-12-25T11:10:57.967Z"
   },
   {
    "duration": 22402,
    "start_time": "2021-12-25T11:12:45.924Z"
   },
   {
    "duration": -1382,
    "start_time": "2021-12-25T11:13:09.711Z"
   },
   {
    "duration": 12,
    "start_time": "2021-12-25T11:13:42.787Z"
   },
   {
    "duration": 7,
    "start_time": "2021-12-25T11:13:47.114Z"
   },
   {
    "duration": 6,
    "start_time": "2021-12-25T11:13:53.213Z"
   },
   {
    "duration": 7,
    "start_time": "2021-12-25T11:13:56.134Z"
   },
   {
    "duration": 4,
    "start_time": "2021-12-25T11:14:03.300Z"
   },
   {
    "duration": 11748,
    "start_time": "2021-12-25T11:14:25.021Z"
   },
   {
    "duration": 12078,
    "start_time": "2021-12-25T11:15:24.183Z"
   },
   {
    "duration": 10,
    "start_time": "2021-12-25T11:17:51.333Z"
   },
   {
    "duration": 13,
    "start_time": "2021-12-25T11:17:56.207Z"
   },
   {
    "duration": 16,
    "start_time": "2021-12-25T11:18:20.137Z"
   },
   {
    "duration": 18,
    "start_time": "2021-12-25T11:18:46.637Z"
   },
   {
    "duration": 1589,
    "start_time": "2021-12-25T11:20:24.243Z"
   },
   {
    "duration": 811,
    "start_time": "2021-12-25T11:20:25.835Z"
   },
   {
    "duration": 45,
    "start_time": "2021-12-25T11:20:26.649Z"
   },
   {
    "duration": 13,
    "start_time": "2021-12-25T11:20:26.698Z"
   },
   {
    "duration": 71042,
    "start_time": "2021-12-25T11:20:26.713Z"
   },
   {
    "duration": 9,
    "start_time": "2021-12-25T11:21:37.758Z"
   },
   {
    "duration": 63,
    "start_time": "2021-12-25T11:21:37.770Z"
   },
   {
    "duration": 44,
    "start_time": "2021-12-25T11:21:37.838Z"
   },
   {
    "duration": 11033,
    "start_time": "2021-12-25T11:21:37.886Z"
   },
   {
    "duration": 7,
    "start_time": "2021-12-25T11:21:48.922Z"
   },
   {
    "duration": 143898,
    "start_time": "2021-12-25T11:21:48.932Z"
   },
   {
    "duration": 640865,
    "start_time": "2021-12-25T11:24:12.832Z"
   },
   {
    "duration": 9860,
    "start_time": "2021-12-25T11:34:53.700Z"
   }
  ],
  "kernelspec": {
   "display_name": "Yandex DataSphere Kernel",
   "language": "python",
   "name": "python3"
  },
  "language_info": {
   "codemirror_mode": {
    "name": "ipython",
    "version": 3
   },
   "file_extension": ".py",
   "mimetype": "text/x-python",
   "name": "python",
   "nbconvert_exporter": "python",
   "pygments_lexer": "ipython3",
   "version": "3.7.7"
  },
  "notebookId": "bebc04b0-14a4-43a4-8bb4-47bae85a11da",
  "notebookPath": "sentiment_analysis.ipynb",
  "toc": {
   "base_numbering": 1,
   "nav_menu": {},
   "number_sections": true,
   "sideBar": true,
   "skip_h1_title": true,
   "title_cell": "Содержание",
   "title_sidebar": "Contents",
   "toc_cell": true,
   "toc_position": {
    "height": "calc(100% - 180px)",
    "left": "10px",
    "top": "150px",
    "width": "302.391px"
   },
   "toc_section_display": true,
   "toc_window_display": false
  }
 },
 "nbformat": 4,
 "nbformat_minor": 4
}
