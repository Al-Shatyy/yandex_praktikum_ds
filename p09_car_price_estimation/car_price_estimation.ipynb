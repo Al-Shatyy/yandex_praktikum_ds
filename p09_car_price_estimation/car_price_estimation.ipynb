{
 "cells": [
  {
   "cell_type": "markdown",
   "metadata": {
    "cellId": "aiek27yvqerifg38qmoo5"
   },
   "source": [
    "# Определение стоимости автомобилей"
   ]
  },
  {
   "cell_type": "markdown",
   "metadata": {
    "cellId": "eigoxtf2ynufysbiwbkql"
   },
   "source": [
    "**Задача**\n",
    "\n",
    ">Сервис по продаже автомобилей с пробегом «Не бит, не крашен» разрабатывает приложение для привлечения новых клиентов. В нём можно быстро узнать рыночную стоимость своего автомобиля. В вашем распоряжении исторические данные: технические характеристики, комплектации и цены автомобилей. Вам нужно построить модель для определения стоимости. \n",
    "<br><br>\n",
    "Заказчику важны:\n",
    "<br> - качество предсказания;\n",
    "<br> - скорость предсказания;\n",
    "<br> - время обучения.\n",
    "\n",
    "**Описание данных**\n",
    "\n",
    "| columns | description |\n",
    "| ------- |:---------- |\n",
    "| DateCrawled | дата скачивания анкеты из базы\n",
    "| VehicleType | тип автомобильного кузова\n",
    "| RegistrationYear | год регистрации автомобиля\n",
    "| Gearbox | тип коробки передач\n",
    "| Power | мощность (л. с.)\n",
    "| Model | модель автомобиля\n",
    "| Kilometer | пробег (км)\n",
    "| RegistrationMonth | месяц регистрации автомобиля\n",
    "| FuelType | тип топлива\n",
    "| Brand | марка автомобиля\n",
    "| NotRepaired | была машина в ремонте или нет\n",
    "| DateCreated | дата создания анкеты\n",
    "| NumberOfPictures | количество фотографий автомобиля\n",
    "| PostalCode | почтовый индекс владельца анкеты (пользователя)\n",
    "| LastSeen | дата последней активности пользователя\n",
    "| **price** | **цена (евро)**"
   ]
  },
  {
   "cell_type": "markdown",
   "metadata": {
    "cellId": "q8fklmbzpxsz7h31i2n7s9"
   },
   "source": [
    "## Подготовка данных"
   ]
  },
  {
   "cell_type": "markdown",
   "metadata": {
    "cellId": "xpoujziwtimp6fins66ci"
   },
   "source": [
    "Импортируем необходимые библиотеки."
   ]
  },
  {
   "cell_type": "code",
   "execution_count": 1,
   "metadata": {
    "cellId": "tqyw94doplg64jpvyvw1j"
   },
   "outputs": [],
   "source": [
    "#%pip install catboost\n",
    "#%pip install lightgbm"
   ]
  },
  {
   "cell_type": "code",
   "execution_count": 2,
   "metadata": {
    "cellId": "b4zd8swl0hiogzdf145nmj"
   },
   "outputs": [],
   "source": [
    "import pandas as pd\n",
    "import numpy as np\n",
    "import seaborn as sns\n",
    "import time\n",
    "import random\n",
    "import matplotlib.pyplot as plt\n",
    "\n",
    "from sklearn.preprocessing import LabelEncoder, StandardScaler\n",
    "from sklearn.model_selection import train_test_split, GridSearchCV\n",
    "from sklearn.metrics import mean_squared_error\n",
    "\n",
    "from sklearn.ensemble import RandomForestRegressor\n",
    "from sklearn.linear_model import Ridge\n",
    "from catboost import CatBoostRegressor\n",
    "from lightgbm import LGBMRegressor\n",
    "from sklearn.dummy import DummyRegressor"
   ]
  },
  {
   "cell_type": "code",
   "execution_count": 3,
   "metadata": {
    "cellId": "mv5ini32g7cx2n0ct6yz8"
   },
   "outputs": [],
   "source": [
    "pd.options.display.max_rows = 100\n",
    "sns.set_style('whitegrid', \n",
    "              {'ytick.left':True,\n",
    "               'xtick.bottom':True,\n",
    "               'xtick.color':(0.25, 0.25, 0.25), \n",
    "               'ytick.color':(0.25, 0.25, 0.25)})"
   ]
  },
  {
   "cell_type": "markdown",
   "metadata": {
    "cellId": "ssflm8e9q1a46genepa2w"
   },
   "source": [
    "Загрузим файл CSV и сохраним его в переменную *data*."
   ]
  },
  {
   "cell_type": "code",
   "execution_count": 4,
   "metadata": {
    "cellId": "dzdconi6ubls056phxeeza"
   },
   "outputs": [],
   "source": [
    "data = pd.read_csv('datasets/autos.csv')"
   ]
  },
  {
   "cell_type": "markdown",
   "metadata": {
    "cellId": "9n1g12o2ml4s68rv16odfq"
   },
   "source": [
    "Проверим правильность загрузки и общую информацию датасета."
   ]
  },
  {
   "cell_type": "code",
   "execution_count": 5,
   "metadata": {
    "cellId": "ufuefgoc82yh9962y862"
   },
   "outputs": [
    {
     "name": "stdout",
     "output_type": "stream",
     "text": [
      "<class 'pandas.core.frame.DataFrame'>\n",
      "RangeIndex: 354369 entries, 0 to 354368\n",
      "Data columns (total 16 columns):\n",
      "DateCrawled          354369 non-null object\n",
      "Price                354369 non-null int64\n",
      "VehicleType          316879 non-null object\n",
      "RegistrationYear     354369 non-null int64\n",
      "Gearbox              334536 non-null object\n",
      "Power                354369 non-null int64\n",
      "Model                334664 non-null object\n",
      "Kilometer            354369 non-null int64\n",
      "RegistrationMonth    354369 non-null int64\n",
      "FuelType             321474 non-null object\n",
      "Brand                354369 non-null object\n",
      "NotRepaired          283215 non-null object\n",
      "DateCreated          354369 non-null object\n",
      "NumberOfPictures     354369 non-null int64\n",
      "PostalCode           354369 non-null int64\n",
      "LastSeen             354369 non-null object\n",
      "dtypes: int64(7), object(9)\n",
      "memory usage: 43.3+ MB\n"
     ]
    },
    {
     "data": {
      "text/html": [
       "<div>\n",
       "<style scoped>\n",
       "    .dataframe tbody tr th:only-of-type {\n",
       "        vertical-align: middle;\n",
       "    }\n",
       "\n",
       "    .dataframe tbody tr th {\n",
       "        vertical-align: top;\n",
       "    }\n",
       "\n",
       "    .dataframe thead th {\n",
       "        text-align: right;\n",
       "    }\n",
       "</style>\n",
       "<table border=\"1\" class=\"dataframe\">\n",
       "  <thead>\n",
       "    <tr style=\"text-align: right;\">\n",
       "      <th></th>\n",
       "      <th>DateCrawled</th>\n",
       "      <th>Price</th>\n",
       "      <th>VehicleType</th>\n",
       "      <th>RegistrationYear</th>\n",
       "      <th>Gearbox</th>\n",
       "      <th>Power</th>\n",
       "      <th>Model</th>\n",
       "      <th>Kilometer</th>\n",
       "      <th>RegistrationMonth</th>\n",
       "      <th>FuelType</th>\n",
       "      <th>Brand</th>\n",
       "      <th>NotRepaired</th>\n",
       "      <th>DateCreated</th>\n",
       "      <th>NumberOfPictures</th>\n",
       "      <th>PostalCode</th>\n",
       "      <th>LastSeen</th>\n",
       "    </tr>\n",
       "  </thead>\n",
       "  <tbody>\n",
       "    <tr>\n",
       "      <td>0</td>\n",
       "      <td>2016-03-24 11:52:17</td>\n",
       "      <td>480</td>\n",
       "      <td>NaN</td>\n",
       "      <td>1993</td>\n",
       "      <td>manual</td>\n",
       "      <td>0</td>\n",
       "      <td>golf</td>\n",
       "      <td>150000</td>\n",
       "      <td>0</td>\n",
       "      <td>petrol</td>\n",
       "      <td>volkswagen</td>\n",
       "      <td>NaN</td>\n",
       "      <td>2016-03-24 00:00:00</td>\n",
       "      <td>0</td>\n",
       "      <td>70435</td>\n",
       "      <td>2016-04-07 03:16:57</td>\n",
       "    </tr>\n",
       "    <tr>\n",
       "      <td>1</td>\n",
       "      <td>2016-03-24 10:58:45</td>\n",
       "      <td>18300</td>\n",
       "      <td>coupe</td>\n",
       "      <td>2011</td>\n",
       "      <td>manual</td>\n",
       "      <td>190</td>\n",
       "      <td>NaN</td>\n",
       "      <td>125000</td>\n",
       "      <td>5</td>\n",
       "      <td>gasoline</td>\n",
       "      <td>audi</td>\n",
       "      <td>yes</td>\n",
       "      <td>2016-03-24 00:00:00</td>\n",
       "      <td>0</td>\n",
       "      <td>66954</td>\n",
       "      <td>2016-04-07 01:46:50</td>\n",
       "    </tr>\n",
       "    <tr>\n",
       "      <td>2</td>\n",
       "      <td>2016-03-14 12:52:21</td>\n",
       "      <td>9800</td>\n",
       "      <td>suv</td>\n",
       "      <td>2004</td>\n",
       "      <td>auto</td>\n",
       "      <td>163</td>\n",
       "      <td>grand</td>\n",
       "      <td>125000</td>\n",
       "      <td>8</td>\n",
       "      <td>gasoline</td>\n",
       "      <td>jeep</td>\n",
       "      <td>NaN</td>\n",
       "      <td>2016-03-14 00:00:00</td>\n",
       "      <td>0</td>\n",
       "      <td>90480</td>\n",
       "      <td>2016-04-05 12:47:46</td>\n",
       "    </tr>\n",
       "    <tr>\n",
       "      <td>3</td>\n",
       "      <td>2016-03-17 16:54:04</td>\n",
       "      <td>1500</td>\n",
       "      <td>small</td>\n",
       "      <td>2001</td>\n",
       "      <td>manual</td>\n",
       "      <td>75</td>\n",
       "      <td>golf</td>\n",
       "      <td>150000</td>\n",
       "      <td>6</td>\n",
       "      <td>petrol</td>\n",
       "      <td>volkswagen</td>\n",
       "      <td>no</td>\n",
       "      <td>2016-03-17 00:00:00</td>\n",
       "      <td>0</td>\n",
       "      <td>91074</td>\n",
       "      <td>2016-03-17 17:40:17</td>\n",
       "    </tr>\n",
       "    <tr>\n",
       "      <td>4</td>\n",
       "      <td>2016-03-31 17:25:20</td>\n",
       "      <td>3600</td>\n",
       "      <td>small</td>\n",
       "      <td>2008</td>\n",
       "      <td>manual</td>\n",
       "      <td>69</td>\n",
       "      <td>fabia</td>\n",
       "      <td>90000</td>\n",
       "      <td>7</td>\n",
       "      <td>gasoline</td>\n",
       "      <td>skoda</td>\n",
       "      <td>no</td>\n",
       "      <td>2016-03-31 00:00:00</td>\n",
       "      <td>0</td>\n",
       "      <td>60437</td>\n",
       "      <td>2016-04-06 10:17:21</td>\n",
       "    </tr>\n",
       "  </tbody>\n",
       "</table>\n",
       "</div>"
      ],
      "text/plain": [
       "           DateCrawled  Price VehicleType  RegistrationYear Gearbox  Power  \\\n",
       "0  2016-03-24 11:52:17    480         NaN              1993  manual      0   \n",
       "1  2016-03-24 10:58:45  18300       coupe              2011  manual    190   \n",
       "2  2016-03-14 12:52:21   9800         suv              2004    auto    163   \n",
       "3  2016-03-17 16:54:04   1500       small              2001  manual     75   \n",
       "4  2016-03-31 17:25:20   3600       small              2008  manual     69   \n",
       "\n",
       "   Model  Kilometer  RegistrationMonth  FuelType       Brand NotRepaired  \\\n",
       "0   golf     150000                  0    petrol  volkswagen         NaN   \n",
       "1    NaN     125000                  5  gasoline        audi         yes   \n",
       "2  grand     125000                  8  gasoline        jeep         NaN   \n",
       "3   golf     150000                  6    petrol  volkswagen          no   \n",
       "4  fabia      90000                  7  gasoline       skoda          no   \n",
       "\n",
       "           DateCreated  NumberOfPictures  PostalCode             LastSeen  \n",
       "0  2016-03-24 00:00:00                 0       70435  2016-04-07 03:16:57  \n",
       "1  2016-03-24 00:00:00                 0       66954  2016-04-07 01:46:50  \n",
       "2  2016-03-14 00:00:00                 0       90480  2016-04-05 12:47:46  \n",
       "3  2016-03-17 00:00:00                 0       91074  2016-03-17 17:40:17  \n",
       "4  2016-03-31 00:00:00                 0       60437  2016-04-06 10:17:21  "
      ]
     },
     "metadata": {},
     "output_type": "display_data"
    }
   ],
   "source": [
    "data.info()\n",
    "data.head()"
   ]
  },
  {
   "cell_type": "markdown",
   "metadata": {
    "cellId": "xlgnoeyr2xsz04t6umhxlc"
   },
   "source": [
    "Создадим новый столбец с возрастом авто, который примем как разницу между годом публикации объявления и годом регистрации авто. Если значение возраста получится отрицательным, то заменим его нулем."
   ]
  },
  {
   "cell_type": "code",
   "execution_count": 6,
   "metadata": {
    "cellId": "66ivgeqx7125d8wjg4ttj7"
   },
   "outputs": [],
   "source": [
    "data['CarAges'] = data['DateCreated'].apply(lambda x: x[:4]).astype('int') - data['RegistrationYear']"
   ]
  },
  {
   "cell_type": "code",
   "execution_count": 7,
   "metadata": {
    "cellId": "zgoppcciwlj3j3j27rzwud"
   },
   "outputs": [],
   "source": [
    "data['CarAges'] = data['CarAges'].where(data['CarAges'] >= 0, 0)\n",
    "data = data[data['CarAges'] < 107]"
   ]
  },
  {
   "cell_type": "markdown",
   "metadata": {
    "cellId": "2oqtutglnx9m6upz0o4f2q"
   },
   "source": [
    "Удалим столбцы с данными, которые не несут информации об автомобиле и заведомо не влияют на цену."
   ]
  },
  {
   "cell_type": "code",
   "execution_count": 8,
   "metadata": {
    "cellId": "0cglvfoe23cd8og8ncfnv9b"
   },
   "outputs": [],
   "source": [
    "data.drop(['DateCrawled',\n",
    "           'RegistrationMonth',\n",
    "           'DateCreated',\n",
    "           'PostalCode',\n",
    "           'LastSeen',\n",
    "           'NumberOfPictures',\n",
    "           'RegistrationYear'],\n",
    "          axis=1, inplace=True)"
   ]
  },
  {
   "cell_type": "code",
   "execution_count": 9,
   "metadata": {
    "cellId": "xvguo2bxgzga9bg8qekjyt"
   },
   "outputs": [
    {
     "data": {
      "text/plain": [
       "Price              0\n",
       "VehicleType    37424\n",
       "Gearbox        19776\n",
       "Power              0\n",
       "Model          19672\n",
       "Kilometer          0\n",
       "FuelType       32843\n",
       "Brand              0\n",
       "NotRepaired    71098\n",
       "CarAges            0\n",
       "dtype: int64"
      ]
     },
     "metadata": {},
     "output_type": "display_data"
    }
   ],
   "source": [
    "data.isna().sum()"
   ]
  },
  {
   "cell_type": "markdown",
   "metadata": {
    "cellId": "fn4xqwh4jz8qsbuje5i4l"
   },
   "source": [
    "Имеютя пропуски в пяти столбцах. Удалим из выборки объекты, у которых имеются 3 и более пропусков в данных. Таким образом уменьшим количество строк с пропусками, остальные заполним некоторыми значениями."
   ]
  },
  {
   "cell_type": "code",
   "execution_count": 10,
   "metadata": {
    "cellId": "9u94euj7oiwzwy5y5argm"
   },
   "outputs": [],
   "source": [
    "data = data[data.isna().sum(axis=1) < 3]"
   ]
  },
  {
   "cell_type": "markdown",
   "metadata": {
    "cellId": "ovty9ig55vhht9138wtnv7"
   },
   "source": [
    "Мощность авто более 1500 л.с. вероятне всего является некорректной информацией. Удалим объекты с значениями превышающими 1500 л.с."
   ]
  },
  {
   "cell_type": "code",
   "execution_count": 11,
   "metadata": {
    "cellId": "k0wxm2uhrlpwqwznkmlw"
   },
   "outputs": [
    {
     "name": "stdout",
     "output_type": "stream",
     "text": [
      "Число авто, мощностью более 1500 л.с.: 190\n"
     ]
    }
   ],
   "source": [
    "print('Число авто, мощностью более 1500 л.с.:', data[data['Power'] > 1500].shape[0])"
   ]
  },
  {
   "cell_type": "code",
   "execution_count": 12,
   "metadata": {
    "cellId": "542tmuferzm0t5h90h917vf"
   },
   "outputs": [],
   "source": [
    "data = data[data['Power'] <= 1500]"
   ]
  },
  {
   "cell_type": "markdown",
   "metadata": {
    "cellId": "eb7zoibrzw58ul0utwvr"
   },
   "source": [
    "Попробуем восстановить часть пропущенных данных. Заполним пропуски в столбцах *Gearbox* и *FuelType*, на основании данных по столбцу *VehicleType*. Создадим таблицу, в которой для каждого типа авто будет записана частота, с которой встречаются разные типы коробки передач (*Gearbox*) и типа топлива (*FuelType*)."
   ]
  },
  {
   "cell_type": "code",
   "execution_count": 13,
   "metadata": {
    "cellId": "yqxmqbpdxfdyditmydezq"
   },
   "outputs": [],
   "source": [
    "vehicle_grouped = data.groupby('VehicleType')\n",
    "vehicle_dict = {}\n",
    "\n",
    "unique_gearbox = len(data['Gearbox'].unique()) - 1\n",
    "vg_gearbox = vehicle_grouped['Gearbox'].value_counts(normalize=True)\n",
    "for index in vg_gearbox.index[::unique_gearbox]:\n",
    "    vehicle_type = index[0]\n",
    "    vehicle_dict[vehicle_type] = {}\n",
    "    vehicle_dict[vehicle_type]['Gearbox'] = [vg_gearbox[vehicle_type].index, vg_gearbox[vehicle_type].values]\n",
    "    \n",
    "unique_fuel = len(data['FuelType'].unique()) - 1\n",
    "vg_fuel = vehicle_grouped['FuelType'].value_counts(normalize=True)\n",
    "for index in vg_fuel.index[::unique_fuel]:\n",
    "    vehicle_type = index[0]\n",
    "    vehicle_dict[vehicle_type]['FuelType'] = [vg_fuel[vehicle_type].index, vg_fuel[vehicle_type].values]\n",
    "    \n",
    "# if vehicle type is missing, set 'manual' for gearbox and 'petrol' as fuel type\n",
    "vehicle_dict['nan'] = {\n",
    "    'Gearbox': [['manual'], [1]],\n",
    "    'FuelType': [['petrol'], [1]]\n",
    "}"
   ]
  },
  {
   "cell_type": "markdown",
   "metadata": {
    "cellId": "ekavfl1s8gnm5i1ljxoqq"
   },
   "source": [
    "Напишем функцию, которая на основе типа авто заполнит пропуски в столбцах *Gearbox* и *FuelType* значениями из таблицы *vehicle_dict*. Функция будет присваивать то, или иное значение с вероятностью, равной частоте появления признака в исходной выборке для данного типа авто."
   ]
  },
  {
   "cell_type": "code",
   "execution_count": 14,
   "metadata": {
    "cellId": "tjyjdurxl33yav934k5lf"
   },
   "outputs": [],
   "source": [
    "def fill_by_prob(row, column):\n",
    "    vehicle_type = str(row['VehicleType'])\n",
    "    value = row[column]\n",
    "    \n",
    "    # If value is missing, choose randomly, according to the frequency of feature\n",
    "    if type(value) == float:\n",
    "        index, weights = vehicle_dict[vehicle_type][column]\n",
    "        value = random.choices(index, weights=weights)[0]\n",
    "        \n",
    "    return value"
   ]
  },
  {
   "cell_type": "code",
   "execution_count": 15,
   "metadata": {
    "cellId": "4ewq8k5214tb7b6xla4k5q"
   },
   "outputs": [],
   "source": [
    "data['Gearbox'] = data.apply(fill_by_prob, args=['Gearbox'], axis=1)\n",
    "data['FuelType'] = data.apply(fill_by_prob, args=['FuelType'], axis=1)"
   ]
  },
  {
   "cell_type": "markdown",
   "metadata": {
    "cellId": "bg80vgzadkzgwsz9sdygr"
   },
   "source": [
    "Пропущенные значения в столбце *Model* заполним названием бренда авто (*Brand*). "
   ]
  },
  {
   "cell_type": "code",
   "execution_count": 16,
   "metadata": {
    "cellId": "5do4jn967gezss5vmfdlz"
   },
   "outputs": [],
   "source": [
    "data.loc[data['Model'].isna(), 'Model'] = data['Brand']"
   ]
  },
  {
   "cell_type": "markdown",
   "metadata": {
    "cellId": "f9adnxf3krfqguex4lxchk"
   },
   "source": [
    "Значения мощности авто, которые являются явно слишком низкими, заменим средним значением для данной модели. "
   ]
  },
  {
   "cell_type": "code",
   "execution_count": 17,
   "metadata": {
    "cellId": "gwzubo6xnw4fztcvh0yx4"
   },
   "outputs": [],
   "source": [
    "def model_power(row):\n",
    "    model = row['Model']\n",
    "    power = row['Power']\n",
    "    if power > 10:\n",
    "        return power\n",
    "    return model_dict[model]"
   ]
  },
  {
   "cell_type": "code",
   "execution_count": 18,
   "metadata": {
    "cellId": "oy7i9gl5rdt7mr1wunw4em"
   },
   "outputs": [],
   "source": [
    "model_dict = {}\n",
    "for model in data['Model'].unique():\n",
    "    model_dict[model] = round(data[data['Model']==model]['Power'].mean())"
   ]
  },
  {
   "cell_type": "code",
   "execution_count": 19,
   "metadata": {
    "cellId": "fil0bt2ektoy3ugagi9ue"
   },
   "outputs": [],
   "source": [
    "data['Power'] = data[['Model', 'Power']].apply(model_power, axis=1)"
   ]
  },
  {
   "cell_type": "markdown",
   "metadata": {
    "cellId": "cytvrchvn873lomi0xjjb8"
   },
   "source": [
    "Оставшиеся пропуски в данных заполним значением \"unknown\"."
   ]
  },
  {
   "cell_type": "code",
   "execution_count": 20,
   "metadata": {
    "cellId": "wuwhpaapupglh2rqwvk5g"
   },
   "outputs": [],
   "source": [
    "data.fillna('unknown', axis=1, inplace=True)"
   ]
  },
  {
   "cell_type": "markdown",
   "metadata": {
    "cellId": "8t0abg4c8s4zq0st8vvnoo"
   },
   "source": [
    "Целевой признак - цена авто (*Price*). Проверим распределение значений цены в выборке."
   ]
  },
  {
   "cell_type": "code",
   "execution_count": 21,
   "metadata": {
    "cellId": "n37jwooj1nwcy9zgoummk"
   },
   "outputs": [
    {
     "data": {
      "text/plain": [
       "'0.9.0'"
      ]
     },
     "metadata": {},
     "output_type": "display_data"
    }
   ],
   "source": [
    "sns.__version__"
   ]
  },
  {
   "cell_type": "code",
   "execution_count": 22,
   "metadata": {
    "cellId": "rvo279ihd5pdaz25xryaxo"
   },
   "outputs": [
    {
     "data": {
      "image/png": "[encoded data removed]",
      "text/plain": [
       "<Figure size 720x576 with 2 Axes>"
      ]
     },
     "metadata": {},
     "output_type": "display_data"
    }
   ],
   "source": [
    "fig, ax = plt.subplots(2, 1, figsize=(10, 8), gridspec_kw={'height_ratios': [2, 1]})\n",
    "\n",
    "ax[0].set_title('Распределение цены автомобилей в выборке')\n",
    "sns.distplot(data['Price'], bins=80, kde=False, ax=ax[0])\n",
    "ax[0].set_xlabel('')\n",
    "\n",
    "sns.boxplot(x=data['Price'], ax=ax[1])\n",
    "plt.show()"
   ]
  },
  {
   "cell_type": "markdown",
   "metadata": {
    "cellId": "a85z79bjlfe8p8an0r8jne"
   },
   "source": [
    "Распределение цены имеет вид похожий на логнормальное распределение. Можно заметить, что цена склонна принимать круглые значения кратные 1000."
   ]
  },
  {
   "cell_type": "markdown",
   "metadata": {
    "cellId": "90xzow3y1jh85u4w8u7d1b"
   },
   "source": [
    "### Вывод"
   ]
  },
  {
   "cell_type": "markdown",
   "metadata": {
    "cellId": "wtl9yppymudhuzi5lku598"
   },
   "source": [
    "Были загружены и исследованы исходные данные. Пропуски были заполнены разными методами, удалены явно неверные записи, удалены из выборки заведомо невлияющие на цену признаки. Изучили распределение цены авто в выборке. Данные подготовлены для дальнейшего анализа."
   ]
  },
  {
   "cell_type": "markdown",
   "metadata": {
    "cellId": "rr8gp8ha79rgfr07eb39"
   },
   "source": [
    "## Обучение моделей"
   ]
  },
  {
   "cell_type": "markdown",
   "metadata": {
    "cellId": "kov37x9oftcflnz2ldgy58"
   },
   "source": [
    "Разделим выборку на обучающую и тестовую в соотношении 7:3. Выделим в каждой выборке целевой признак в отдельную переменную."
   ]
  },
  {
   "cell_type": "code",
   "execution_count": 23,
   "metadata": {
    "cellId": "5e2w28281rbl8gqmyx1dj8"
   },
   "outputs": [],
   "source": [
    "train, test = train_test_split(data, train_size=0.7, random_state=12345)"
   ]
  },
  {
   "cell_type": "code",
   "execution_count": 24,
   "metadata": {
    "cellId": "fvsx4uyq3wqrzro4go931k"
   },
   "outputs": [],
   "source": [
    "features = train.drop(['Price'], axis=1)\n",
    "target = train['Price']\n",
    "\n",
    "test_features = test.drop(['Price'], axis=1)\n",
    "test_target = test['Price']"
   ]
  },
  {
   "cell_type": "code",
   "execution_count": 25,
   "metadata": {
    "cellId": "nr754va1sjrtvsm5hgdier"
   },
   "outputs": [
    {
     "name": "stdout",
     "output_type": "stream",
     "text": [
      "Train set: (235302, 9) \n",
      "Test set: (100844, 9)\n"
     ]
    }
   ],
   "source": [
    "print('Train set:', features.shape, '\\nTest set:', test_features.shape)"
   ]
  },
  {
   "cell_type": "markdown",
   "metadata": {
    "cellId": "cefoqinty3cw8v28w31l"
   },
   "source": [
    "Для оценки качества модели будем применять метрику RMSE."
   ]
  },
  {
   "cell_type": "code",
   "execution_count": 26,
   "metadata": {
    "cellId": "hy3umr01gerpz7cnafo58e"
   },
   "outputs": [],
   "source": [
    "def rmse(target, predictions):\n",
    "    return round(mean_squared_error(test_target, predictions) ** 0.5, 2)"
   ]
  },
  {
   "cell_type": "markdown",
   "metadata": {
    "cellId": "2djurz2p1e92wvrr5j6hsa"
   },
   "source": [
    "Создадим модель DummyRegressor. В дальнейшем будем сравнивать с ней результаты других моделей, чтобы убедиться в их эффективности."
   ]
  },
  {
   "cell_type": "code",
   "execution_count": 27,
   "metadata": {
    "cellId": "zsey3rse24i8cdzckvzxe5"
   },
   "outputs": [
    {
     "data": {
      "text/html": [
       "<div>\n",
       "<style scoped>\n",
       "    .dataframe tbody tr th:only-of-type {\n",
       "        vertical-align: middle;\n",
       "    }\n",
       "\n",
       "    .dataframe tbody tr th {\n",
       "        vertical-align: top;\n",
       "    }\n",
       "\n",
       "    .dataframe thead th {\n",
       "        text-align: right;\n",
       "    }\n",
       "</style>\n",
       "<table border=\"1\" class=\"dataframe\">\n",
       "  <thead>\n",
       "    <tr style=\"text-align: right;\">\n",
       "      <th></th>\n",
       "      <th>rmse</th>\n",
       "      <th>train_time</th>\n",
       "      <th>predict_time</th>\n",
       "    </tr>\n",
       "  </thead>\n",
       "  <tbody>\n",
       "    <tr>\n",
       "      <td>DummyRegressor</td>\n",
       "      <td>4838.49</td>\n",
       "      <td>0.004289</td>\n",
       "      <td>0.0005</td>\n",
       "    </tr>\n",
       "  </tbody>\n",
       "</table>\n",
       "</div>"
      ],
      "text/plain": [
       "                   rmse  train_time  predict_time\n",
       "DummyRegressor  4838.49    0.004289        0.0005"
      ]
     },
     "metadata": {},
     "output_type": "display_data"
    }
   ],
   "source": [
    "# Train DummyRegressor\n",
    "start = time.process_time()\n",
    "dummy_model = DummyRegressor(strategy='median')\n",
    "dummy_model.fit(features, target)\n",
    "train_time = time.process_time() - start\n",
    "\n",
    "# Dummy predict\n",
    "start = time.process_time()\n",
    "predictions = dummy_model.predict(test_features)\n",
    "predict_time = time.process_time() - start\n",
    "\n",
    "dummy_result = rmse(test_target, predictions)\n",
    "\n",
    "rmse_metrics = pd.DataFrame({'rmse': dummy_result, 'train_time': train_time, 'predict_time': predict_time}, index=['DummyRegressor'])\n",
    "rmse_metrics"
   ]
  },
  {
   "cell_type": "markdown",
   "metadata": {
    "cellId": "h0sms2y9p4e35139js2yil"
   },
   "source": [
    "### Ridge Regression"
   ]
  },
  {
   "cell_type": "markdown",
   "metadata": {
    "cellId": "u0lxvb54j8hvc7wplxu48s"
   },
   "source": [
    "Преобразуем данные в выборках. Используем LabelEncoding для категориальных переменных и стандартизуем данные с помощью StandardScaler."
   ]
  },
  {
   "cell_type": "code",
   "execution_count": 28,
   "metadata": {
    "cellId": "s4664chs9wtpgt14wx4xa"
   },
   "outputs": [],
   "source": [
    "features_scaled = features.copy()\n",
    "test_features_scaled = test_features.copy()\n",
    "\n",
    "category_columns = ['Brand', 'FuelType', 'Gearbox', 'Model', 'NotRepaired', 'VehicleType']\n",
    "encoder = LabelEncoder()\n",
    "\n",
    "for column in category_columns:\n",
    "    encoder.fit(data[column])\n",
    "    features_scaled[column] = encoder.transform(features_scaled[column])\n",
    "    test_features_scaled[column] = encoder.transform(test_features_scaled[column])"
   ]
  },
  {
   "cell_type": "code",
   "execution_count": 29,
   "metadata": {
    "cellId": "1nocxbhclrn1hc8r64k3py"
   },
   "outputs": [],
   "source": [
    "scaler = StandardScaler()\n",
    "scaler.fit(features_scaled)\n",
    "features_scaled[:] = scaler.transform(features_scaled)\n",
    "test_features_scaled[:] = scaler.transform(test_features_scaled)"
   ]
  },
  {
   "cell_type": "markdown",
   "metadata": {
    "cellId": "7rr4m4kr4irvmjs6zyjr9t"
   },
   "source": [
    "Создадим модель гребневой регрессии (*Ridge Regression*). Получим предсказания на тестовой выборке, отдельно вычислим время обучения и время предсказания модели. Запишем полученные величины в таблицу. "
   ]
  },
  {
   "cell_type": "code",
   "execution_count": 30,
   "metadata": {
    "cellId": "zbxwg7jetq2tw2zq3avyd"
   },
   "outputs": [
    {
     "data": {
      "text/html": [
       "<div>\n",
       "<style scoped>\n",
       "    .dataframe tbody tr th:only-of-type {\n",
       "        vertical-align: middle;\n",
       "    }\n",
       "\n",
       "    .dataframe tbody tr th {\n",
       "        vertical-align: top;\n",
       "    }\n",
       "\n",
       "    .dataframe thead th {\n",
       "        text-align: right;\n",
       "    }\n",
       "</style>\n",
       "<table border=\"1\" class=\"dataframe\">\n",
       "  <thead>\n",
       "    <tr style=\"text-align: right;\">\n",
       "      <th></th>\n",
       "      <th>rmse</th>\n",
       "      <th>train_time</th>\n",
       "      <th>predict_time</th>\n",
       "    </tr>\n",
       "  </thead>\n",
       "  <tbody>\n",
       "    <tr>\n",
       "      <td>DummyRegressor</td>\n",
       "      <td>4838.49</td>\n",
       "      <td>0.004289</td>\n",
       "      <td>0.00050</td>\n",
       "    </tr>\n",
       "    <tr>\n",
       "      <td>Ridge</td>\n",
       "      <td>3122.30</td>\n",
       "      <td>0.033478</td>\n",
       "      <td>0.01848</td>\n",
       "    </tr>\n",
       "  </tbody>\n",
       "</table>\n",
       "</div>"
      ],
      "text/plain": [
       "                   rmse  train_time  predict_time\n",
       "DummyRegressor  4838.49    0.004289       0.00050\n",
       "Ridge           3122.30    0.033478       0.01848"
      ]
     },
     "metadata": {},
     "output_type": "display_data"
    }
   ],
   "source": [
    "# Ridge Regressor train\n",
    "start = time.process_time()\n",
    "ridge_model = Ridge()\n",
    "ridge_model.fit(features_scaled, target)\n",
    "train_time = time.process_time() - start\n",
    "\n",
    "# Ridge Regressor predict\n",
    "start = time.process_time()\n",
    "predictions = ridge_model.predict(test_features_scaled)\n",
    "predict_time = time.process_time() - start\n",
    "\n",
    "ridge_result = rmse(test_target, predictions)\n",
    "\n",
    "rmse_metrics.loc['Ridge'] = [ridge_result, train_time, predict_time]\n",
    "rmse_metrics"
   ]
  },
  {
   "cell_type": "markdown",
   "metadata": {
    "cellId": "h3vm9qu177trtf5uyzuc"
   },
   "source": [
    "Ridge показывает значения метрики RMSE лучше медианной модели."
   ]
  },
  {
   "cell_type": "markdown",
   "metadata": {
    "cellId": "yehej1tc4gq4f1cm3jonr4"
   },
   "source": [
    "### RandomForest Regressor"
   ]
  },
  {
   "cell_type": "markdown",
   "metadata": {
    "cellId": "nok623u68jos0dosttmx9i"
   },
   "source": [
    "Используем модель случайного леса (*Random Forest*). Подберем параметры для глубины деревьев и количества оценщиков."
   ]
  },
  {
   "cell_type": "code",
   "execution_count": 31,
   "metadata": {
    "cellId": "1kxn5kck3qt97sco200ph"
   },
   "outputs": [],
   "source": [
    "def cv_result(grid):\n",
    "    df = pd.DataFrame(grid.cv_results_).iloc[:, [0, 4, 5, 10]]\n",
    "    df['mean_test_score'] = round(abs(df['mean_test_score']) ** 0.5, 2)\n",
    "    return df.sort_values('mean_test_score')"
   ]
  },
  {
   "cell_type": "code",
   "execution_count": 32,
   "metadata": {
    "cellId": "r0psqowb9icdkcuwieqzod"
   },
   "outputs": [
    {
     "name": "stdout",
     "output_type": "stream",
     "text": [
      "Fitting 3 folds for each of 6 candidates, totalling 18 fits\n"
     ]
    },
    {
     "name": "stderr",
     "output_type": "stream",
     "text": [
      "[Parallel(n_jobs=-1)]: Using backend LokyBackend with 4 concurrent workers.\n",
      "/usr/local/lib/python3.7/dist-packages/joblib/externals/loky/process_executor.py:691: UserWarning: A worker stopped while some jobs were given to the executor. This can be caused by a too short worker timeout or by a memory leak.\n",
      "  \"timeout or by a memory leak.\", UserWarning\n",
      "[Parallel(n_jobs=-1)]: Done  18 out of  18 | elapsed:  3.6min finished\n"
     ]
    },
    {
     "data": {
      "text/html": [
       "<div>\n",
       "<style scoped>\n",
       "    .dataframe tbody tr th:only-of-type {\n",
       "        vertical-align: middle;\n",
       "    }\n",
       "\n",
       "    .dataframe tbody tr th {\n",
       "        vertical-align: top;\n",
       "    }\n",
       "\n",
       "    .dataframe thead th {\n",
       "        text-align: right;\n",
       "    }\n",
       "</style>\n",
       "<table border=\"1\" class=\"dataframe\">\n",
       "  <thead>\n",
       "    <tr style=\"text-align: right;\">\n",
       "      <th></th>\n",
       "      <th>mean_fit_time</th>\n",
       "      <th>param_max_depth</th>\n",
       "      <th>param_n_estimators</th>\n",
       "      <th>mean_test_score</th>\n",
       "    </tr>\n",
       "  </thead>\n",
       "  <tbody>\n",
       "    <tr>\n",
       "      <td>3</td>\n",
       "      <td>59.664702</td>\n",
       "      <td>20</td>\n",
       "      <td>200</td>\n",
       "      <td>1712.86</td>\n",
       "    </tr>\n",
       "    <tr>\n",
       "      <td>2</td>\n",
       "      <td>26.779555</td>\n",
       "      <td>20</td>\n",
       "      <td>100</td>\n",
       "      <td>1717.20</td>\n",
       "    </tr>\n",
       "    <tr>\n",
       "      <td>5</td>\n",
       "      <td>56.507032</td>\n",
       "      <td>30</td>\n",
       "      <td>200</td>\n",
       "      <td>1727.97</td>\n",
       "    </tr>\n",
       "    <tr>\n",
       "      <td>4</td>\n",
       "      <td>34.108356</td>\n",
       "      <td>30</td>\n",
       "      <td>100</td>\n",
       "      <td>1730.95</td>\n",
       "    </tr>\n",
       "    <tr>\n",
       "      <td>1</td>\n",
       "      <td>31.296857</td>\n",
       "      <td>10</td>\n",
       "      <td>200</td>\n",
       "      <td>1955.74</td>\n",
       "    </tr>\n",
       "    <tr>\n",
       "      <td>0</td>\n",
       "      <td>17.317153</td>\n",
       "      <td>10</td>\n",
       "      <td>100</td>\n",
       "      <td>1957.77</td>\n",
       "    </tr>\n",
       "  </tbody>\n",
       "</table>\n",
       "</div>"
      ],
      "text/plain": [
       "   mean_fit_time param_max_depth param_n_estimators  mean_test_score\n",
       "3      59.664702              20                200          1712.86\n",
       "2      26.779555              20                100          1717.20\n",
       "5      56.507032              30                200          1727.97\n",
       "4      34.108356              30                100          1730.95\n",
       "1      31.296857              10                200          1955.74\n",
       "0      17.317153              10                100          1957.77"
      ]
     },
     "metadata": {},
     "output_type": "display_data"
    }
   ],
   "source": [
    "params = {\n",
    "    'n_estimators': [100, 200],\n",
    "    'max_depth': [10, 20, 30]\n",
    "}\n",
    "rf_model = RandomForestRegressor(random_state=12345, max_features='log2')\n",
    "rf_grid = GridSearchCV(rf_model,\n",
    "                       params,\n",
    "                       cv=3, \n",
    "                       scoring='neg_mean_squared_error', \n",
    "                       n_jobs=-1, \n",
    "                       refit=False,\n",
    "                       verbose=2)\n",
    "\n",
    "rf_grid.fit(features_scaled, target)\n",
    "cv_result(rf_grid)"
   ]
  },
  {
   "cell_type": "markdown",
   "metadata": {
    "cellId": "y85kvbycgqcs1k8suwplj"
   },
   "source": [
    "Лучшие показатели получились при глубине деревьев 20 и количестве оценщиков 200. Используем эти параметры, обучим модель и получим предсказания для тестовой выборки. Время выполнения операций и метрику RMSE запишем в таблицу."
   ]
  },
  {
   "cell_type": "code",
   "execution_count": 33,
   "metadata": {
    "cellId": "eo0w48pjih8tm9gg9zan2"
   },
   "outputs": [
    {
     "data": {
      "text/html": [
       "<div>\n",
       "<style scoped>\n",
       "    .dataframe tbody tr th:only-of-type {\n",
       "        vertical-align: middle;\n",
       "    }\n",
       "\n",
       "    .dataframe tbody tr th {\n",
       "        vertical-align: top;\n",
       "    }\n",
       "\n",
       "    .dataframe thead th {\n",
       "        text-align: right;\n",
       "    }\n",
       "</style>\n",
       "<table border=\"1\" class=\"dataframe\">\n",
       "  <thead>\n",
       "    <tr style=\"text-align: right;\">\n",
       "      <th></th>\n",
       "      <th>rmse</th>\n",
       "      <th>train_time</th>\n",
       "      <th>predict_time</th>\n",
       "    </tr>\n",
       "  </thead>\n",
       "  <tbody>\n",
       "    <tr>\n",
       "      <td>DummyRegressor</td>\n",
       "      <td>4838.49</td>\n",
       "      <td>0.004289</td>\n",
       "      <td>0.000500</td>\n",
       "    </tr>\n",
       "    <tr>\n",
       "      <td>Ridge</td>\n",
       "      <td>3122.30</td>\n",
       "      <td>0.033478</td>\n",
       "      <td>0.018480</td>\n",
       "    </tr>\n",
       "    <tr>\n",
       "      <td>RandomForest</td>\n",
       "      <td>1689.64</td>\n",
       "      <td>53.274468</td>\n",
       "      <td>7.289638</td>\n",
       "    </tr>\n",
       "  </tbody>\n",
       "</table>\n",
       "</div>"
      ],
      "text/plain": [
       "                   rmse  train_time  predict_time\n",
       "DummyRegressor  4838.49    0.004289      0.000500\n",
       "Ridge           3122.30    0.033478      0.018480\n",
       "RandomForest    1689.64   53.274468      7.289638"
      ]
     },
     "metadata": {},
     "output_type": "display_data"
    }
   ],
   "source": [
    "rf_model.set_params(max_depth=20, n_estimators=200)\n",
    "\n",
    "# RandomForest train\n",
    "start = time.process_time()\n",
    "rf_model.fit(features_scaled, target)\n",
    "train_time = time.process_time() - start\n",
    "\n",
    "# RandomForest predict\n",
    "start = time.process_time()\n",
    "predictions = rf_model.predict(test_features_scaled)\n",
    "predict_time = time.process_time() - start\n",
    "\n",
    "rmse_metrics.loc['RandomForest'] = [rmse(test_target, predictions), train_time, predict_time]\n",
    "rmse_metrics"
   ]
  },
  {
   "cell_type": "markdown",
   "metadata": {
    "cellId": "yeba8r0ml3hci5fluvg77"
   },
   "source": [
    "Модель случайного леса имеет большее время обучения и время предсказания, но качество модели лучше, чем у модели Ridge."
   ]
  },
  {
   "cell_type": "markdown",
   "metadata": {
    "cellId": "v6mijhzaetwdt15phatda"
   },
   "source": [
    "### CatBoostRegressor"
   ]
  },
  {
   "cell_type": "markdown",
   "metadata": {
    "cellId": "ythuljsw279ih3r6na5ar"
   },
   "source": [
    "Для моделей градиентного бустинга преобразуем категориальные признаки в обучающей и тестовой выборках в категориальный тип данных."
   ]
  },
  {
   "cell_type": "code",
   "execution_count": 34,
   "metadata": {
    "cellId": "ngwxzez1pibel77yfer05p"
   },
   "outputs": [],
   "source": [
    "features[category_columns] = features[category_columns].astype('category')\n",
    "test_features[category_columns] = test_features[category_columns].astype('category')"
   ]
  },
  {
   "cell_type": "markdown",
   "metadata": {
    "cellId": "105gnu2nmwg70g4ybhdx5i"
   },
   "source": [
    "Подберем параметры обучения для модели CatBoost."
   ]
  },
  {
   "cell_type": "code",
   "execution_count": 35,
   "metadata": {
    "cellId": "sloirumnazqe3pmbuv26q9"
   },
   "outputs": [
    {
     "name": "stderr",
     "output_type": "stream",
     "text": [
      "/usr/local/lib/python3.7/dist-packages/joblib/externals/loky/process_executor.py:691: UserWarning: A worker stopped while some jobs were given to the executor. This can be caused by a too short worker timeout or by a memory leak.\n",
      "  \"timeout or by a memory leak.\", UserWarning\n",
      "/usr/local/lib/python3.7/dist-packages/joblib/externals/loky/process_executor.py:691: UserWarning: A worker stopped while some jobs were given to the executor. This can be caused by a too short worker timeout or by a memory leak.\n",
      "  \"timeout or by a memory leak.\", UserWarning\n",
      "/usr/local/lib/python3.7/dist-packages/joblib/externals/loky/process_executor.py:691: UserWarning: A worker stopped while some jobs were given to the executor. This can be caused by a too short worker timeout or by a memory leak.\n",
      "  \"timeout or by a memory leak.\", UserWarning\n"
     ]
    },
    {
     "data": {
      "text/html": [
       "<div>\n",
       "<style scoped>\n",
       "    .dataframe tbody tr th:only-of-type {\n",
       "        vertical-align: middle;\n",
       "    }\n",
       "\n",
       "    .dataframe tbody tr th {\n",
       "        vertical-align: top;\n",
       "    }\n",
       "\n",
       "    .dataframe thead th {\n",
       "        text-align: right;\n",
       "    }\n",
       "</style>\n",
       "<table border=\"1\" class=\"dataframe\">\n",
       "  <thead>\n",
       "    <tr style=\"text-align: right;\">\n",
       "      <th></th>\n",
       "      <th>mean_fit_time</th>\n",
       "      <th>param_learning_rate</th>\n",
       "      <th>param_max_depth</th>\n",
       "      <th>mean_test_score</th>\n",
       "    </tr>\n",
       "  </thead>\n",
       "  <tbody>\n",
       "    <tr>\n",
       "      <td>3</td>\n",
       "      <td>136.689457</td>\n",
       "      <td>0.2</td>\n",
       "      <td>12</td>\n",
       "      <td>1704.47</td>\n",
       "    </tr>\n",
       "    <tr>\n",
       "      <td>1</td>\n",
       "      <td>173.318464</td>\n",
       "      <td>0.1</td>\n",
       "      <td>12</td>\n",
       "      <td>1717.59</td>\n",
       "    </tr>\n",
       "    <tr>\n",
       "      <td>2</td>\n",
       "      <td>88.619615</td>\n",
       "      <td>0.2</td>\n",
       "      <td>8</td>\n",
       "      <td>1739.73</td>\n",
       "    </tr>\n",
       "    <tr>\n",
       "      <td>0</td>\n",
       "      <td>79.806830</td>\n",
       "      <td>0.1</td>\n",
       "      <td>8</td>\n",
       "      <td>1772.40</td>\n",
       "    </tr>\n",
       "  </tbody>\n",
       "</table>\n",
       "</div>"
      ],
      "text/plain": [
       "   mean_fit_time param_learning_rate param_max_depth  mean_test_score\n",
       "3     136.689457                 0.2              12          1704.47\n",
       "1     173.318464                 0.1              12          1717.59\n",
       "2      88.619615                 0.2               8          1739.73\n",
       "0      79.806830                 0.1               8          1772.40"
      ]
     },
     "metadata": {},
     "output_type": "display_data"
    }
   ],
   "source": [
    "params = {\n",
    "    'learning_rate': [0.1, 0.2],\n",
    "    'max_depth': [8, 12]\n",
    "}\n",
    "cat_model = CatBoostRegressor(n_estimators=200,\n",
    "                              random_state=12345,\n",
    "                              loss_function='RMSE',\n",
    "                              cat_features=category_columns,\n",
    "                              verbose=200)\n",
    "cat_grid = GridSearchCV(cat_model,\n",
    "                        params,\n",
    "                        cv=3,\n",
    "                        scoring='neg_mean_squared_error',\n",
    "                        n_jobs=-1,\n",
    "                        refit=False)\n",
    "\n",
    "cat_grid.fit(features, target)\n",
    "cv_result(cat_grid)"
   ]
  },
  {
   "cell_type": "markdown",
   "metadata": {
    "cellId": "g3mj0ddgjo4t2ltra4l83"
   },
   "source": [
    "Лучшие показатели получились при глубине деревьев **12** и скорости обучения **0.2**. Используем эти параметры, обучим модель и получим предсказания для тестовой выборки. Время выполнения операций и метрику RMSE запишем в таблицу."
   ]
  },
  {
   "cell_type": "code",
   "execution_count": 36,
   "metadata": {
    "cellId": "zrsewy4cnp99g9gktz8gt"
   },
   "outputs": [
    {
     "name": "stdout",
     "output_type": "stream",
     "text": [
      "0:\tlearn: 3891.0876912\ttotal: 347ms\tremaining: 1m 9s\n",
      "25:\tlearn: 1753.9133866\ttotal: 7.48s\tremaining: 50s\n",
      "50:\tlearn: 1658.5358809\ttotal: 14.9s\tremaining: 43.4s\n",
      "75:\tlearn: 1591.2449557\ttotal: 22.7s\tremaining: 37s\n",
      "100:\tlearn: 1550.4442498\ttotal: 31.4s\tremaining: 30.7s\n",
      "125:\tlearn: 1517.9298809\ttotal: 40.2s\tremaining: 23.6s\n",
      "150:\tlearn: 1489.8416730\ttotal: 49.1s\tremaining: 15.9s\n",
      "175:\tlearn: 1466.0011349\ttotal: 58.1s\tremaining: 7.93s\n",
      "199:\tlearn: 1445.7620878\ttotal: 1m 6s\tremaining: 0us\n"
     ]
    },
    {
     "data": {
      "text/html": [
       "<div>\n",
       "<style scoped>\n",
       "    .dataframe tbody tr th:only-of-type {\n",
       "        vertical-align: middle;\n",
       "    }\n",
       "\n",
       "    .dataframe tbody tr th {\n",
       "        vertical-align: top;\n",
       "    }\n",
       "\n",
       "    .dataframe thead th {\n",
       "        text-align: right;\n",
       "    }\n",
       "</style>\n",
       "<table border=\"1\" class=\"dataframe\">\n",
       "  <thead>\n",
       "    <tr style=\"text-align: right;\">\n",
       "      <th></th>\n",
       "      <th>rmse</th>\n",
       "      <th>train_time</th>\n",
       "      <th>predict_time</th>\n",
       "    </tr>\n",
       "  </thead>\n",
       "  <tbody>\n",
       "    <tr>\n",
       "      <td>DummyRegressor</td>\n",
       "      <td>4838.49</td>\n",
       "      <td>0.004289</td>\n",
       "      <td>0.000500</td>\n",
       "    </tr>\n",
       "    <tr>\n",
       "      <td>Ridge</td>\n",
       "      <td>3122.30</td>\n",
       "      <td>0.033478</td>\n",
       "      <td>0.018480</td>\n",
       "    </tr>\n",
       "    <tr>\n",
       "      <td>RandomForest</td>\n",
       "      <td>1689.64</td>\n",
       "      <td>53.274468</td>\n",
       "      <td>7.289638</td>\n",
       "    </tr>\n",
       "    <tr>\n",
       "      <td>CatBoost</td>\n",
       "      <td>1696.79</td>\n",
       "      <td>252.701337</td>\n",
       "      <td>0.765034</td>\n",
       "    </tr>\n",
       "  </tbody>\n",
       "</table>\n",
       "</div>"
      ],
      "text/plain": [
       "                   rmse  train_time  predict_time\n",
       "DummyRegressor  4838.49    0.004289      0.000500\n",
       "Ridge           3122.30    0.033478      0.018480\n",
       "RandomForest    1689.64   53.274468      7.289638\n",
       "CatBoost        1696.79  252.701337      0.765034"
      ]
     },
     "metadata": {},
     "output_type": "display_data"
    }
   ],
   "source": [
    "cat_model.set_params(learning_rate=0.2, max_depth=12, verbose=25)\n",
    "\n",
    "# CatBoost train\n",
    "start = time.process_time()\n",
    "cat_model.fit(features, target)\n",
    "train_time = time.process_time() - start\n",
    "\n",
    "# CatBoost predict\n",
    "start = time.process_time()\n",
    "predictions = cat_model.predict(test_features)\n",
    "predict_time = time.process_time() - start\n",
    "\n",
    "rmse_metrics.loc['CatBoost'] = [rmse(test_target, predictions), train_time, predict_time]\n",
    "rmse_metrics"
   ]
  },
  {
   "cell_type": "markdown",
   "metadata": {
    "cellId": "g4r06cc4jr4g4ad67shyt"
   },
   "source": [
    "Качество модели CatBoost соответствует качеству случайного леса. Время обучения CatBoost значительно больше, чем у других моделей, но время предсказания меньше, чем у случайного леса."
   ]
  },
  {
   "cell_type": "markdown",
   "metadata": {
    "cellId": "gq5uwg1fyr7177mlig8ws"
   },
   "source": [
    "Проверим на сколько каждый признак влияет на цену авто, по результатам обучения модели CatBoost."
   ]
  },
  {
   "cell_type": "code",
   "execution_count": 37,
   "metadata": {
    "cellId": "xa7x3awnabfyvy0efavr"
   },
   "outputs": [
    {
     "data": {
      "image/png": "[encoded data removed]",
      "text/plain": [
       "<Figure size 720x360 with 1 Axes>"
      ]
     },
     "metadata": {},
     "output_type": "display_data"
    }
   ],
   "source": [
    "plt.figure(figsize=(10, 5))\n",
    "chart = sns.barplot(x=features.columns, y=cat_model.feature_importances_.tolist())\n",
    "\n",
    "for i in chart.patches:\n",
    "    y_ofset = i.get_height() + 0.4\n",
    "    chart.text(i.get_x() + 0.2, y_ofset, \\\n",
    "            str(round((i.get_height()), 1)) + '%', fontsize=10,\n",
    "                color=(0, 0, 0, 0.9))"
   ]
  },
  {
   "cell_type": "markdown",
   "metadata": {
    "cellId": "4a3tm0uvqlmjk6k89270hi"
   },
   "source": [
    "### LightGBM"
   ]
  },
  {
   "cell_type": "markdown",
   "metadata": {
    "cellId": "znm15ikndyj0c1why0uh"
   },
   "source": [
    "Подберем параметры глубины деревьев и скорости обучения для модели LightGBM."
   ]
  },
  {
   "cell_type": "code",
   "execution_count": 38,
   "metadata": {
    "cellId": "2i06xw66dk6edkkcllo248"
   },
   "outputs": [
    {
     "data": {
      "text/html": [
       "<div>\n",
       "<style scoped>\n",
       "    .dataframe tbody tr th:only-of-type {\n",
       "        vertical-align: middle;\n",
       "    }\n",
       "\n",
       "    .dataframe tbody tr th {\n",
       "        vertical-align: top;\n",
       "    }\n",
       "\n",
       "    .dataframe thead th {\n",
       "        text-align: right;\n",
       "    }\n",
       "</style>\n",
       "<table border=\"1\" class=\"dataframe\">\n",
       "  <thead>\n",
       "    <tr style=\"text-align: right;\">\n",
       "      <th></th>\n",
       "      <th>mean_fit_time</th>\n",
       "      <th>param_learning_rate</th>\n",
       "      <th>param_max_depth</th>\n",
       "      <th>mean_test_score</th>\n",
       "    </tr>\n",
       "  </thead>\n",
       "  <tbody>\n",
       "    <tr>\n",
       "      <td>5</td>\n",
       "      <td>0.949362</td>\n",
       "      <td>0.2</td>\n",
       "      <td>8</td>\n",
       "      <td>1709.36</td>\n",
       "    </tr>\n",
       "    <tr>\n",
       "      <td>8</td>\n",
       "      <td>0.877811</td>\n",
       "      <td>0.3</td>\n",
       "      <td>8</td>\n",
       "      <td>1715.03</td>\n",
       "    </tr>\n",
       "    <tr>\n",
       "      <td>4</td>\n",
       "      <td>1.056719</td>\n",
       "      <td>0.2</td>\n",
       "      <td>6</td>\n",
       "      <td>1717.76</td>\n",
       "    </tr>\n",
       "    <tr>\n",
       "      <td>7</td>\n",
       "      <td>0.962603</td>\n",
       "      <td>0.3</td>\n",
       "      <td>6</td>\n",
       "      <td>1719.72</td>\n",
       "    </tr>\n",
       "    <tr>\n",
       "      <td>2</td>\n",
       "      <td>1.193611</td>\n",
       "      <td>0.1</td>\n",
       "      <td>8</td>\n",
       "      <td>1720.75</td>\n",
       "    </tr>\n",
       "    <tr>\n",
       "      <td>1</td>\n",
       "      <td>1.195046</td>\n",
       "      <td>0.1</td>\n",
       "      <td>6</td>\n",
       "      <td>1732.52</td>\n",
       "    </tr>\n",
       "    <tr>\n",
       "      <td>3</td>\n",
       "      <td>0.914638</td>\n",
       "      <td>0.2</td>\n",
       "      <td>4</td>\n",
       "      <td>1750.59</td>\n",
       "    </tr>\n",
       "    <tr>\n",
       "      <td>6</td>\n",
       "      <td>0.869080</td>\n",
       "      <td>0.3</td>\n",
       "      <td>4</td>\n",
       "      <td>1751.42</td>\n",
       "    </tr>\n",
       "    <tr>\n",
       "      <td>0</td>\n",
       "      <td>0.900255</td>\n",
       "      <td>0.1</td>\n",
       "      <td>4</td>\n",
       "      <td>1777.67</td>\n",
       "    </tr>\n",
       "  </tbody>\n",
       "</table>\n",
       "</div>"
      ],
      "text/plain": [
       "   mean_fit_time param_learning_rate param_max_depth  mean_test_score\n",
       "5       0.949362                 0.2               8          1709.36\n",
       "8       0.877811                 0.3               8          1715.03\n",
       "4       1.056719                 0.2               6          1717.76\n",
       "7       0.962603                 0.3               6          1719.72\n",
       "2       1.193611                 0.1               8          1720.75\n",
       "1       1.195046                 0.1               6          1732.52\n",
       "3       0.914638                 0.2               4          1750.59\n",
       "6       0.869080                 0.3               4          1751.42\n",
       "0       0.900255                 0.1               4          1777.67"
      ]
     },
     "metadata": {},
     "output_type": "display_data"
    }
   ],
   "source": [
    "params = {\"max_depth\": [4, 6, 8],\n",
    "          \"learning_rate\": [0.1, 0.2, 0.3]}\n",
    "\n",
    "lgb_model = LGBMRegressor(n_estimators=200, random_state=12345)\n",
    "lgb_grid = GridSearchCV(lgb_model, params, scoring='neg_mean_squared_error', cv=3)\n",
    "lgb_grid.fit(features, target)\n",
    "cv_result(lgb_grid)"
   ]
  },
  {
   "cell_type": "markdown",
   "metadata": {
    "cellId": "zje97dnx9wm2lgr0dcp"
   },
   "source": [
    "Лучшие показатели получены при глубине деревьев **8**, скорости обучения **0.2**. Используем эти параметры, обучим модель и получим предсказания для тестовой выборки. Время выполнения операций и метрику RMSE запишем в таблицу."
   ]
  },
  {
   "cell_type": "code",
   "execution_count": 39,
   "metadata": {
    "cellId": "udhyg5t8temfse8lvv7h9",
    "scrolled": true
   },
   "outputs": [
    {
     "name": "stdout",
     "output_type": "stream",
     "text": [
      "CPU times: user 6.45 s, sys: 48 ms, total: 6.5 s\n",
      "Wall time: 1.76 s\n"
     ]
    },
    {
     "data": {
      "text/html": [
       "<div>\n",
       "<style scoped>\n",
       "    .dataframe tbody tr th:only-of-type {\n",
       "        vertical-align: middle;\n",
       "    }\n",
       "\n",
       "    .dataframe tbody tr th {\n",
       "        vertical-align: top;\n",
       "    }\n",
       "\n",
       "    .dataframe thead th {\n",
       "        text-align: right;\n",
       "    }\n",
       "</style>\n",
       "<table border=\"1\" class=\"dataframe\">\n",
       "  <thead>\n",
       "    <tr style=\"text-align: right;\">\n",
       "      <th></th>\n",
       "      <th>rmse</th>\n",
       "      <th>train_time</th>\n",
       "      <th>predict_time</th>\n",
       "    </tr>\n",
       "  </thead>\n",
       "  <tbody>\n",
       "    <tr>\n",
       "      <td>DummyRegressor</td>\n",
       "      <td>4838.49</td>\n",
       "      <td>0.004289</td>\n",
       "      <td>0.000500</td>\n",
       "    </tr>\n",
       "    <tr>\n",
       "      <td>Ridge</td>\n",
       "      <td>3122.30</td>\n",
       "      <td>0.033478</td>\n",
       "      <td>0.018480</td>\n",
       "    </tr>\n",
       "    <tr>\n",
       "      <td>RandomForest</td>\n",
       "      <td>1689.64</td>\n",
       "      <td>53.274468</td>\n",
       "      <td>7.289638</td>\n",
       "    </tr>\n",
       "    <tr>\n",
       "      <td>CatBoost</td>\n",
       "      <td>1696.79</td>\n",
       "      <td>252.701337</td>\n",
       "      <td>0.765034</td>\n",
       "    </tr>\n",
       "    <tr>\n",
       "      <td>LightGBM</td>\n",
       "      <td>1712.02</td>\n",
       "      <td>4.954667</td>\n",
       "      <td>1.535137</td>\n",
       "    </tr>\n",
       "  </tbody>\n",
       "</table>\n",
       "</div>"
      ],
      "text/plain": [
       "                   rmse  train_time  predict_time\n",
       "DummyRegressor  4838.49    0.004289      0.000500\n",
       "Ridge           3122.30    0.033478      0.018480\n",
       "RandomForest    1689.64   53.274468      7.289638\n",
       "CatBoost        1696.79  252.701337      0.765034\n",
       "LightGBM        1712.02    4.954667      1.535137"
      ]
     },
     "metadata": {},
     "output_type": "display_data"
    }
   ],
   "source": [
    "%%time\n",
    "lgb_model.set_params(max_depth=8, learning_rate=0.2)\n",
    "\n",
    "# LightGBM train\n",
    "start = time.process_time()\n",
    "lgb_model.fit(features, target, verbose=25)\n",
    "train_time = time.process_time() - start\n",
    "\n",
    "# LightGBM predict\n",
    "start = time.process_time()\n",
    "predictions = lgb_model.predict(test_features)\n",
    "predict_time = time.process_time() - start\n",
    "\n",
    "rmse_metrics.loc['LightGBM'] = [rmse(test_target, predictions), train_time, predict_time]\n",
    "rmse_metrics"
   ]
  },
  {
   "cell_type": "markdown",
   "metadata": {
    "cellId": "j9c1id1zfuxvts19mgw2d"
   },
   "source": [
    "Модель LightGBM имеет немного хуже значения RMSE, но малое время обучения и среднюю скорость предсказания. "
   ]
  },
  {
   "cell_type": "markdown",
   "metadata": {
    "cellId": "44p4b4rdidddl5rpzb3e2o"
   },
   "source": [
    "## Анализ моделей"
   ]
  },
  {
   "cell_type": "markdown",
   "metadata": {
    "cellId": "5pwe6jaf98werb0u75w4r"
   },
   "source": [
    "Построим графики результатов обучения разных моделей и сравним показатели качества - метрика RMSE, время обучения модели и время предсказания."
   ]
  },
  {
   "cell_type": "code",
   "execution_count": 40,
   "metadata": {
    "cellId": "zmnth91vrsq3g5gncjjdl4"
   },
   "outputs": [
    {
     "data": {
      "image/png": "[encoded data removed]",
      "text/plain": [
       "<Figure size 576x1152 with 3 Axes>"
      ]
     },
     "metadata": {},
     "output_type": "display_data"
    }
   ],
   "source": [
    "rmse_metrics.reset_index(inplace=True)\n",
    "fig, ax = plt.subplots(3, 1, figsize=(8, 16))\n",
    "sns.barplot(data=rmse_metrics, x='index', y='rmse', ax=ax[0])\n",
    "ax[0].set_title('Результаты обучения моделей')\n",
    "ax[0].set_xlabel('')\n",
    "sns.barplot(data=rmse_metrics, x='index', y='train_time', ax=ax[1])\n",
    "ax[1].set_xlabel('')\n",
    "sns.barplot(data=rmse_metrics, x='index', y='predict_time', ax=ax[2])\n",
    "ax[2].set_xlabel('')\n",
    "plt.show()"
   ]
  },
  {
   "cell_type": "markdown",
   "metadata": {
    "cellId": "g4ww4nk9jj6h5tqrrtupct"
   },
   "source": [
    "Проанализируем каждую модель, определим их преимущества и недостатки.\n",
    "\n",
    "Все три ансамблевые модели (RandomForest, CatBoost, LightGBM) имеют схожее качество предсказания. Однако по показателям времени выполнения в обоих метриках модель LightGBM превосходит RandomForest. В дальнейшем будем рассматривать только три модели Ridge, CatBoost и LightGBM.\n",
    "\n",
    "<table>\n",
    "    <tr>\n",
    "        <td width=150>Модель<hr></td>\n",
    "        <td width=300>Преимущества<hr></td>\n",
    "        <td width=300>Недостатки<hr></td>\n",
    "    </tr>\n",
    "    <tr>\n",
    "        <td height=50><b>Ridge</b></td>\n",
    "        <td>1. Малое время предсказания<br>2. Малое время обучения</td>\n",
    "        <td>Низкое качество предсказания</td>\n",
    "    </tr>\n",
    "    <tr>\n",
    "        <td height=50><b>CatBoost</b></td>\n",
    "        <td>1. Высокое качество предсказания<br>2. Малое время предсказания</td>\n",
    "        <td>Большое время обучения</td>\n",
    "    </tr>\n",
    "    <tr>\n",
    "        <td height=50><b>LightGBM</b></td>\n",
    "        <td>1. Высокое качество предсказания<br>2. Малое время обучения</td>\n",
    "        <td>Большое время предсказания</td>\n",
    "    </tr>\n",
    "</table>"
   ]
  },
  {
   "cell_type": "markdown",
   "metadata": {
    "cellId": "adyknhn241tqb1h9jldiwg"
   },
   "source": [
    "## Вывод"
   ]
  },
  {
   "cell_type": "markdown",
   "metadata": {
    "cellId": "cvuapucq7y8kd9hudifhkf"
   },
   "source": [
    "В ходе работы были созданы предсказательные модели, использующие различные алгоритмы обучения. В ходе обучения и предсказания, были сделаны замеры времения исполнения. Предсказания были сделаны на выделенной из исходной таблице тестовой выборке. По результатам анализа результатов можно сделать следующие выводы:\n",
    "- Из трех алгоритмов, которые рассматривали в анализе, каждая имеет свои недостатки и преимущества, отличные друг от друга;\n",
    "- Модель Ridge отличается высокой скоростью обучения и предсказания, но качество предсказаний примерну вдвое хуже остальных;\n",
    "- Модель CatBoost имеет высокое качество и корость предсказания, но время обучения модели чрезвычайно большое;\n",
    "- Модель LightGBM аналогично CatBoost имеет высокое качество, время обучения занимает доли секунды, время предсказания самое высокое из всех моделей.\n",
    "\n",
    "В условиях задачи было сказано, что для заказчика важными параметрами являются: качество предсказания, время обучения и скорость предсказания. Исходя из результатов анализа однозначно выбрать одну модель нельзя. Выбор будет зависеть от того, какой параметр имеет решающую роль для заказчика, а также не превышает ли какой либо параметр из предложенных моделей критические значения. "
   ]
  }
 ],
 "metadata": {
  "ExecuteTimeLog": [
   {
    "duration": 823,
    "start_time": "2021-11-24T07:15:48.597Z"
   },
   {
    "duration": 1135,
    "start_time": "2021-11-24T07:15:49.614Z"
   },
   {
    "duration": 45,
    "start_time": "2021-11-24T07:16:04.711Z"
   },
   {
    "duration": 175,
    "start_time": "2021-11-24T07:16:05.678Z"
   },
   {
    "duration": 166,
    "start_time": "2021-11-24T07:20:06.089Z"
   },
   {
    "duration": 158,
    "start_time": "2021-11-24T07:20:12.867Z"
   },
   {
    "duration": 20,
    "start_time": "2021-11-24T07:22:04.224Z"
   },
   {
    "duration": 48,
    "start_time": "2021-11-24T07:22:49.259Z"
   },
   {
    "duration": 49,
    "start_time": "2021-11-24T07:23:21.260Z"
   },
   {
    "duration": 46,
    "start_time": "2021-11-24T07:23:56.460Z"
   },
   {
    "duration": 35,
    "start_time": "2021-11-24T07:24:04.763Z"
   },
   {
    "duration": 122,
    "start_time": "2021-11-24T07:24:13.231Z"
   },
   {
    "duration": 518,
    "start_time": "2021-11-24T07:24:33.229Z"
   },
   {
    "duration": 1254,
    "start_time": "2021-11-24T07:24:37.860Z"
   },
   {
    "duration": 93,
    "start_time": "2021-11-24T07:24:57.506Z"
   },
   {
    "duration": 69,
    "start_time": "2021-11-24T07:26:26.311Z"
   },
   {
    "duration": 64,
    "start_time": "2021-11-24T07:26:45.997Z"
   },
   {
    "duration": 65,
    "start_time": "2021-11-24T07:26:53.393Z"
   },
   {
    "duration": 62,
    "start_time": "2021-11-24T07:27:13.222Z"
   },
   {
    "duration": 91,
    "start_time": "2021-11-24T07:27:18.665Z"
   },
   {
    "duration": 161,
    "start_time": "2021-11-24T07:28:20.953Z"
   },
   {
    "duration": 134,
    "start_time": "2021-11-24T07:33:49.500Z"
   },
   {
    "duration": 142,
    "start_time": "2021-11-24T07:34:03.731Z"
   },
   {
    "duration": 40,
    "start_time": "2021-11-24T07:36:12.420Z"
   },
   {
    "duration": 110,
    "start_time": "2021-11-24T07:36:15.883Z"
   },
   {
    "duration": 86,
    "start_time": "2021-11-24T07:36:52.083Z"
   },
   {
    "duration": 61,
    "start_time": "2021-11-24T07:37:15.937Z"
   },
   {
    "duration": 86,
    "start_time": "2021-11-24T07:37:24.780Z"
   },
   {
    "duration": 61,
    "start_time": "2021-11-24T07:37:29.866Z"
   },
   {
    "duration": 61,
    "start_time": "2021-11-24T07:37:34.551Z"
   },
   {
    "duration": 24,
    "start_time": "2021-11-24T07:39:08.939Z"
   },
   {
    "duration": 57,
    "start_time": "2021-11-24T07:39:18.541Z"
   },
   {
    "duration": 53,
    "start_time": "2021-11-24T07:40:14.005Z"
   },
   {
    "duration": 53,
    "start_time": "2021-11-24T07:40:32.405Z"
   },
   {
    "duration": 54,
    "start_time": "2021-11-24T07:46:45.731Z"
   },
   {
    "duration": 33,
    "start_time": "2021-11-24T07:52:20.177Z"
   },
   {
    "duration": 31,
    "start_time": "2021-11-24T07:52:48.259Z"
   },
   {
    "duration": 25,
    "start_time": "2021-11-24T07:52:57.527Z"
   },
   {
    "duration": 57,
    "start_time": "2021-11-24T07:53:00.553Z"
   },
   {
    "duration": 49,
    "start_time": "2021-11-24T07:54:16.216Z"
   },
   {
    "duration": 51,
    "start_time": "2021-11-24T07:54:30.944Z"
   },
   {
    "duration": 48,
    "start_time": "2021-11-24T07:54:38.790Z"
   },
   {
    "duration": 53,
    "start_time": "2021-11-24T07:54:43.057Z"
   },
   {
    "duration": 50,
    "start_time": "2021-11-24T07:54:54.181Z"
   },
   {
    "duration": 83,
    "start_time": "2021-11-24T07:56:08.265Z"
   },
   {
    "duration": 47,
    "start_time": "2021-11-24T07:56:20.914Z"
   },
   {
    "duration": 57,
    "start_time": "2021-11-24T07:56:33.327Z"
   },
   {
    "duration": 72,
    "start_time": "2021-11-24T07:56:44.447Z"
   },
   {
    "duration": 104,
    "start_time": "2021-11-24T07:56:55.042Z"
   },
   {
    "duration": 35,
    "start_time": "2021-11-24T07:58:43.079Z"
   },
   {
    "duration": 109,
    "start_time": "2021-11-24T07:59:51.017Z"
   },
   {
    "duration": 103,
    "start_time": "2021-11-24T07:59:59.775Z"
   },
   {
    "duration": 101,
    "start_time": "2021-11-24T08:00:04.160Z"
   },
   {
    "duration": 102,
    "start_time": "2021-11-24T08:00:10.397Z"
   },
   {
    "duration": 113,
    "start_time": "2021-11-24T08:00:23.599Z"
   },
   {
    "duration": 125,
    "start_time": "2021-11-24T08:00:26.978Z"
   },
   {
    "duration": 453,
    "start_time": "2021-11-24T08:00:48.687Z"
   },
   {
    "duration": 656,
    "start_time": "2021-11-24T08:01:04.265Z"
   },
   {
    "duration": 673,
    "start_time": "2021-11-24T08:01:17.504Z"
   },
   {
    "duration": 167,
    "start_time": "2021-11-24T08:01:41.952Z"
   },
   {
    "duration": 153,
    "start_time": "2021-11-24T08:01:51.939Z"
   },
   {
    "duration": 54,
    "start_time": "2021-11-24T08:02:14.200Z"
   },
   {
    "duration": 57,
    "start_time": "2021-11-24T08:02:19.086Z"
   },
   {
    "duration": 3,
    "start_time": "2021-11-24T08:02:41.696Z"
   },
   {
    "duration": 1233,
    "start_time": "2021-11-24T08:02:42.182Z"
   },
   {
    "duration": 21,
    "start_time": "2021-11-24T08:02:43.997Z"
   },
   {
    "duration": 238,
    "start_time": "2021-11-24T08:03:02.403Z"
   },
   {
    "duration": 37,
    "start_time": "2021-11-24T08:03:03.272Z"
   },
   {
    "duration": 47,
    "start_time": "2021-11-24T08:03:13.772Z"
   },
   {
    "duration": 99,
    "start_time": "2021-11-24T08:03:16.859Z"
   },
   {
    "duration": 53,
    "start_time": "2021-11-24T08:03:30.169Z"
   },
   {
    "duration": 100,
    "start_time": "2021-11-24T08:03:56.775Z"
   },
   {
    "duration": 53,
    "start_time": "2021-11-24T08:04:41.279Z"
   },
   {
    "duration": 58,
    "start_time": "2021-11-24T08:04:47.987Z"
   },
   {
    "duration": 43,
    "start_time": "2021-11-24T08:05:07.282Z"
   },
   {
    "duration": 57,
    "start_time": "2021-11-24T08:05:12.807Z"
   },
   {
    "duration": 56,
    "start_time": "2021-11-24T08:05:16.817Z"
   },
   {
    "duration": 43,
    "start_time": "2021-11-24T08:05:34.408Z"
   },
   {
    "duration": 44,
    "start_time": "2021-11-24T08:05:38.912Z"
   },
   {
    "duration": 52,
    "start_time": "2021-11-24T08:05:44.327Z"
   },
   {
    "duration": 52,
    "start_time": "2021-11-24T08:06:17.604Z"
   },
   {
    "duration": 54,
    "start_time": "2021-11-24T08:06:21.149Z"
   },
   {
    "duration": 44,
    "start_time": "2021-11-24T08:06:28.005Z"
   },
   {
    "duration": 45,
    "start_time": "2021-11-24T08:06:31.772Z"
   },
   {
    "duration": 54,
    "start_time": "2021-11-24T08:06:39.579Z"
   },
   {
    "duration": 29,
    "start_time": "2021-11-24T08:06:52.515Z"
   },
   {
    "duration": 44,
    "start_time": "2021-11-24T08:06:56.688Z"
   },
   {
    "duration": 1129,
    "start_time": "2021-11-24T08:07:23.485Z"
   },
   {
    "duration": 21,
    "start_time": "2021-11-24T08:07:24.617Z"
   },
   {
    "duration": 182,
    "start_time": "2021-11-24T08:07:33.544Z"
   },
   {
    "duration": 28,
    "start_time": "2021-11-24T08:07:48.748Z"
   },
   {
    "duration": 106,
    "start_time": "2021-11-24T08:07:49.724Z"
   },
   {
    "duration": 145,
    "start_time": "2021-11-24T08:08:08.890Z"
   },
   {
    "duration": 100,
    "start_time": "2021-11-24T08:08:13.314Z"
   },
   {
    "duration": 24,
    "start_time": "2021-11-24T08:08:22.364Z"
   },
   {
    "duration": 36,
    "start_time": "2021-11-24T08:08:57.021Z"
   },
   {
    "duration": 52,
    "start_time": "2021-11-24T08:08:58.512Z"
   },
   {
    "duration": 98,
    "start_time": "2021-11-24T08:09:03.441Z"
   },
   {
    "duration": 105,
    "start_time": "2021-11-24T08:09:10.567Z"
   },
   {
    "duration": 117,
    "start_time": "2021-11-24T08:10:21.554Z"
   },
   {
    "duration": 572,
    "start_time": "2021-11-24T08:11:05.350Z"
   },
   {
    "duration": 637,
    "start_time": "2021-11-24T08:11:28.345Z"
   },
   {
    "duration": 548,
    "start_time": "2021-11-24T08:11:38.170Z"
   },
   {
    "duration": 289,
    "start_time": "2021-11-24T08:11:58.368Z"
   },
   {
    "duration": 409,
    "start_time": "2021-11-24T08:12:01.573Z"
   },
   {
    "duration": 304,
    "start_time": "2021-11-24T08:12:24.926Z"
   },
   {
    "duration": 294,
    "start_time": "2021-11-24T08:12:38.590Z"
   },
   {
    "duration": 996,
    "start_time": "2021-11-24T08:12:52.964Z"
   },
   {
    "duration": 24436,
    "start_time": "2021-11-24T08:13:08.181Z"
   },
   {
    "duration": 5,
    "start_time": "2021-11-24T08:14:07.287Z"
   },
   {
    "duration": 29,
    "start_time": "2021-11-24T08:14:16.970Z"
   },
   {
    "duration": 55,
    "start_time": "2021-11-24T08:14:26.393Z"
   },
   {
    "duration": 109,
    "start_time": "2021-11-24T08:14:46.692Z"
   },
   {
    "duration": 111,
    "start_time": "2021-11-24T08:14:56.463Z"
   },
   {
    "duration": 104,
    "start_time": "2021-11-24T08:16:20.120Z"
   },
   {
    "duration": 109,
    "start_time": "2021-11-24T08:16:42.967Z"
   },
   {
    "duration": 7,
    "start_time": "2021-11-24T08:18:39.568Z"
   },
   {
    "duration": 6,
    "start_time": "2021-11-24T08:19:19.547Z"
   },
   {
    "duration": 100,
    "start_time": "2021-11-24T08:19:50.432Z"
   },
   {
    "duration": 99,
    "start_time": "2021-11-24T08:19:57.029Z"
   },
   {
    "duration": 100,
    "start_time": "2021-11-24T08:20:03.093Z"
   },
   {
    "duration": 389,
    "start_time": "2021-11-24T08:20:10.862Z"
   },
   {
    "duration": 330,
    "start_time": "2021-11-24T08:20:16.734Z"
   },
   {
    "duration": 6,
    "start_time": "2021-11-24T08:20:27.873Z"
   },
   {
    "duration": 410,
    "start_time": "2021-11-24T08:20:42.875Z"
   },
   {
    "duration": 322,
    "start_time": "2021-11-24T08:20:48.931Z"
   },
   {
    "duration": 26,
    "start_time": "2021-11-24T08:20:55.584Z"
   },
   {
    "duration": 28,
    "start_time": "2021-11-24T08:22:09.960Z"
   },
   {
    "duration": 682,
    "start_time": "2021-11-24T08:22:21.493Z"
   },
   {
    "duration": 29,
    "start_time": "2021-11-24T08:22:28.177Z"
   },
   {
    "duration": 404,
    "start_time": "2021-11-24T08:22:40.651Z"
   },
   {
    "duration": 483,
    "start_time": "2021-11-24T08:22:49.725Z"
   },
   {
    "duration": 29,
    "start_time": "2021-11-24T08:22:54.937Z"
   },
   {
    "duration": 26,
    "start_time": "2021-11-24T08:23:08.264Z"
   },
   {
    "duration": 28,
    "start_time": "2021-11-24T08:23:16.098Z"
   },
   {
    "duration": 319,
    "start_time": "2021-11-24T08:23:35.260Z"
   },
   {
    "duration": 28,
    "start_time": "2021-11-24T08:23:43.099Z"
   },
   {
    "duration": 99,
    "start_time": "2021-11-24T08:24:29.145Z"
   },
   {
    "duration": 98,
    "start_time": "2021-11-24T08:24:34.074Z"
   },
   {
    "duration": 99,
    "start_time": "2021-11-24T08:24:39.723Z"
   },
   {
    "duration": 102,
    "start_time": "2021-11-24T08:24:43.032Z"
   },
   {
    "duration": 103,
    "start_time": "2021-11-24T08:24:52.284Z"
   },
   {
    "duration": 102,
    "start_time": "2021-11-24T08:25:14.589Z"
   },
   {
    "duration": 397,
    "start_time": "2021-11-24T08:25:30.206Z"
   },
   {
    "duration": 127,
    "start_time": "2021-11-24T08:25:41.540Z"
   },
   {
    "duration": 100,
    "start_time": "2021-11-24T08:25:50.736Z"
   },
   {
    "duration": 424,
    "start_time": "2021-11-24T08:26:00.847Z"
   },
   {
    "duration": 101,
    "start_time": "2021-11-24T08:26:11.239Z"
   },
   {
    "duration": 112,
    "start_time": "2021-11-24T08:26:25.079Z"
   },
   {
    "duration": 111,
    "start_time": "2021-11-24T08:26:43.066Z"
   },
   {
    "duration": 104,
    "start_time": "2021-11-24T08:27:36.554Z"
   },
   {
    "duration": 101,
    "start_time": "2021-11-24T08:27:48.279Z"
   },
   {
    "duration": 4,
    "start_time": "2021-11-24T08:27:57.412Z"
   },
   {
    "duration": 6,
    "start_time": "2021-11-24T08:28:04.139Z"
   },
   {
    "duration": 7,
    "start_time": "2021-11-24T08:28:08.571Z"
   },
   {
    "duration": 98,
    "start_time": "2021-11-24T08:28:45.373Z"
   },
   {
    "duration": 297,
    "start_time": "2021-11-24T08:29:01.039Z"
   },
   {
    "duration": 6,
    "start_time": "2021-11-24T08:29:05.231Z"
   },
   {
    "duration": 7,
    "start_time": "2021-11-24T08:29:17.337Z"
   },
   {
    "duration": 6,
    "start_time": "2021-11-24T08:29:35.058Z"
   },
   {
    "duration": 6,
    "start_time": "2021-11-24T08:29:42.392Z"
   },
   {
    "duration": 16,
    "start_time": "2021-11-24T08:29:55.549Z"
   },
   {
    "duration": 11,
    "start_time": "2021-11-24T08:30:12.865Z"
   },
   {
    "duration": 15,
    "start_time": "2021-11-24T08:31:06.710Z"
   },
   {
    "duration": 16,
    "start_time": "2021-11-24T08:31:23.083Z"
   },
   {
    "duration": 30,
    "start_time": "2021-11-24T08:31:52.839Z"
   },
   {
    "duration": 28,
    "start_time": "2021-11-24T08:37:19.376Z"
   },
   {
    "duration": 315,
    "start_time": "2021-11-24T08:37:32.898Z"
   },
   {
    "duration": 336,
    "start_time": "2021-11-24T08:39:01.448Z"
   },
   {
    "duration": 5,
    "start_time": "2021-11-24T08:39:06.780Z"
   },
   {
    "duration": 6,
    "start_time": "2021-11-24T08:39:09.948Z"
   },
   {
    "duration": 672,
    "start_time": "2021-11-24T08:39:34.566Z"
   },
   {
    "duration": 154,
    "start_time": "2021-11-24T08:39:41.470Z"
   },
   {
    "duration": 4,
    "start_time": "2021-11-24T08:40:22.451Z"
   },
   {
    "duration": 146,
    "start_time": "2021-11-24T08:40:26.899Z"
   },
   {
    "duration": 632,
    "start_time": "2021-11-24T08:43:42.699Z"
   },
   {
    "duration": 566,
    "start_time": "2021-11-24T08:43:57.718Z"
   },
   {
    "duration": 101,
    "start_time": "2021-11-24T08:44:18.726Z"
   },
   {
    "duration": 163,
    "start_time": "2021-11-24T08:44:32.975Z"
   },
   {
    "duration": 165,
    "start_time": "2021-11-24T08:44:37.053Z"
   },
   {
    "duration": 100,
    "start_time": "2021-11-24T08:44:42.007Z"
   },
   {
    "duration": 98,
    "start_time": "2021-11-24T08:45:12.138Z"
   },
   {
    "duration": 107,
    "start_time": "2021-11-24T08:45:17.777Z"
   },
   {
    "duration": 29,
    "start_time": "2021-11-24T08:50:08.823Z"
   },
   {
    "duration": 57,
    "start_time": "2021-11-24T08:50:15.064Z"
   },
   {
    "duration": 39,
    "start_time": "2021-11-24T08:50:31.537Z"
   },
   {
    "duration": 297,
    "start_time": "2021-11-24T08:51:04.959Z"
   },
   {
    "duration": 4600,
    "start_time": "2021-11-24T08:52:15.476Z"
   },
   {
    "duration": 613,
    "start_time": "2021-11-24T08:52:35.781Z"
   },
   {
    "duration": 742,
    "start_time": "2021-11-24T08:52:59.548Z"
   },
   {
    "duration": 529,
    "start_time": "2021-11-24T08:53:30.804Z"
   },
   {
    "duration": 605,
    "start_time": "2021-11-24T08:53:39.262Z"
   },
   {
    "duration": 877,
    "start_time": "2021-11-24T08:54:26.464Z"
   },
   {
    "duration": 473,
    "start_time": "2021-11-24T08:54:47.837Z"
   },
   {
    "duration": 85,
    "start_time": "2021-11-24T08:55:01.196Z"
   },
   {
    "duration": 5,
    "start_time": "2021-11-24T08:55:42.228Z"
   },
   {
    "duration": 1091,
    "start_time": "2021-11-24T08:55:42.693Z"
   },
   {
    "duration": 21,
    "start_time": "2021-11-24T08:55:43.787Z"
   },
   {
    "duration": 30,
    "start_time": "2021-11-24T08:55:49.014Z"
   },
   {
    "duration": 102,
    "start_time": "2021-11-24T08:55:50.566Z"
   },
   {
    "duration": 151,
    "start_time": "2021-11-24T08:55:57.159Z"
   },
   {
    "duration": 99,
    "start_time": "2021-11-24T08:56:00.244Z"
   },
   {
    "duration": 110,
    "start_time": "2021-11-24T08:56:09.991Z"
   },
   {
    "duration": 23,
    "start_time": "2021-11-24T08:56:16.629Z"
   },
   {
    "duration": 46,
    "start_time": "2021-11-24T08:56:18.966Z"
   },
   {
    "duration": 70,
    "start_time": "2021-11-24T08:56:20.183Z"
   },
   {
    "duration": 98,
    "start_time": "2021-11-24T08:56:23.158Z"
   },
   {
    "duration": 55,
    "start_time": "2021-11-24T08:56:31.898Z"
   },
   {
    "duration": 393,
    "start_time": "2021-11-24T09:01:52.058Z"
   },
   {
    "duration": 4,
    "start_time": "2021-11-24T09:02:31.930Z"
   },
   {
    "duration": 4,
    "start_time": "2021-11-24T09:02:35.978Z"
   },
   {
    "duration": 5,
    "start_time": "2021-11-24T09:02:40.773Z"
   },
   {
    "duration": 5,
    "start_time": "2021-11-24T09:02:47.118Z"
   },
   {
    "duration": 6,
    "start_time": "2021-11-24T09:02:53.253Z"
   },
   {
    "duration": 6,
    "start_time": "2021-11-24T09:02:56.621Z"
   },
   {
    "duration": 6,
    "start_time": "2021-11-24T09:03:00.749Z"
   },
   {
    "duration": 4,
    "start_time": "2021-11-24T09:03:05.811Z"
   },
   {
    "duration": 3,
    "start_time": "2021-11-24T09:03:10.915Z"
   },
   {
    "duration": 4,
    "start_time": "2021-11-24T09:03:25.234Z"
   },
   {
    "duration": 5,
    "start_time": "2021-11-24T09:03:39.133Z"
   },
   {
    "duration": 6,
    "start_time": "2021-11-24T09:03:43.959Z"
   },
   {
    "duration": 4,
    "start_time": "2021-11-24T09:04:11.706Z"
   },
   {
    "duration": 5,
    "start_time": "2021-11-24T09:04:17.107Z"
   },
   {
    "duration": 24,
    "start_time": "2021-11-24T09:04:51.102Z"
   },
   {
    "duration": 5,
    "start_time": "2021-11-24T09:06:14.076Z"
   },
   {
    "duration": 6,
    "start_time": "2021-11-24T09:06:27.022Z"
   },
   {
    "duration": 387,
    "start_time": "2021-11-24T09:06:44.805Z"
   },
   {
    "duration": 1345,
    "start_time": "2021-11-24T09:07:00.160Z"
   },
   {
    "duration": 6,
    "start_time": "2021-11-24T09:07:14.029Z"
   },
   {
    "duration": 7,
    "start_time": "2021-11-24T09:07:20.840Z"
   },
   {
    "duration": 5,
    "start_time": "2021-11-24T09:09:39.056Z"
   },
   {
    "duration": 175,
    "start_time": "2021-11-24T09:14:31.096Z"
   },
   {
    "duration": 17,
    "start_time": "2021-11-24T09:14:36.425Z"
   },
   {
    "duration": 7,
    "start_time": "2021-11-24T09:14:52.576Z"
   },
   {
    "duration": 6,
    "start_time": "2021-11-24T09:14:56.263Z"
   },
   {
    "duration": 7,
    "start_time": "2021-11-24T09:15:07.869Z"
   },
   {
    "duration": 272,
    "start_time": "2021-11-24T09:15:20.916Z"
   },
   {
    "duration": 7,
    "start_time": "2021-11-24T09:15:22.130Z"
   },
   {
    "duration": 7,
    "start_time": "2021-11-24T09:15:24.133Z"
   },
   {
    "duration": 6,
    "start_time": "2021-11-24T09:15:26.053Z"
   },
   {
    "duration": 7,
    "start_time": "2021-11-24T09:17:27.268Z"
   },
   {
    "duration": 7,
    "start_time": "2021-11-24T09:17:50.694Z"
   },
   {
    "duration": 303,
    "start_time": "2021-11-24T09:18:16.220Z"
   },
   {
    "duration": 33,
    "start_time": "2021-11-24T09:18:35.940Z"
   },
   {
    "duration": 70,
    "start_time": "2021-11-24T09:18:44.576Z"
   },
   {
    "duration": 1190,
    "start_time": "2021-11-24T09:19:05.768Z"
   },
   {
    "duration": 5,
    "start_time": "2021-11-24T09:19:15.911Z"
   },
   {
    "duration": 159,
    "start_time": "2021-11-24T09:19:21.998Z"
   },
   {
    "duration": 62,
    "start_time": "2021-11-24T09:19:26.099Z"
   },
   {
    "duration": 107,
    "start_time": "2021-11-24T09:19:26.586Z"
   },
   {
    "duration": 175,
    "start_time": "2021-11-24T09:19:30.321Z"
   },
   {
    "duration": 22,
    "start_time": "2021-11-24T09:19:32.336Z"
   },
   {
    "duration": 36,
    "start_time": "2021-11-24T09:19:33.988Z"
   },
   {
    "duration": 54,
    "start_time": "2021-11-24T09:19:35.488Z"
   },
   {
    "duration": 6,
    "start_time": "2021-11-24T09:20:02.149Z"
   },
   {
    "duration": 349,
    "start_time": "2021-11-24T09:21:18.161Z"
   },
   {
    "duration": 28,
    "start_time": "2021-11-24T09:21:24.371Z"
   },
   {
    "duration": 24,
    "start_time": "2021-11-24T09:21:29.733Z"
   },
   {
    "duration": 26,
    "start_time": "2021-11-24T09:21:35.887Z"
   },
   {
    "duration": 27,
    "start_time": "2021-11-24T09:21:46.688Z"
   },
   {
    "duration": 227,
    "start_time": "2021-11-24T09:22:31.368Z"
   },
   {
    "duration": 1045,
    "start_time": "2021-11-24T09:23:17.694Z"
   },
   {
    "duration": 12,
    "start_time": "2021-11-24T09:23:42.294Z"
   },
   {
    "duration": 9,
    "start_time": "2021-11-24T09:23:55.687Z"
   },
   {
    "duration": 17,
    "start_time": "2021-11-24T09:24:02.304Z"
   },
   {
    "duration": 27,
    "start_time": "2021-11-24T09:25:25.617Z"
   },
   {
    "duration": 8,
    "start_time": "2021-11-24T09:26:22.730Z"
   },
   {
    "duration": 8,
    "start_time": "2021-11-24T09:26:27.680Z"
   },
   {
    "duration": 17,
    "start_time": "2021-11-24T09:26:35.145Z"
   },
   {
    "duration": 8,
    "start_time": "2021-11-24T09:26:54.878Z"
   },
   {
    "duration": 7,
    "start_time": "2021-11-24T09:27:01.842Z"
   },
   {
    "duration": 9,
    "start_time": "2021-11-24T09:27:07.811Z"
   },
   {
    "duration": 8,
    "start_time": "2021-11-24T09:27:33.787Z"
   },
   {
    "duration": 902,
    "start_time": "2021-11-24T09:27:38.903Z"
   },
   {
    "duration": 6,
    "start_time": "2021-11-24T09:28:19.662Z"
   },
   {
    "duration": 897,
    "start_time": "2021-11-24T09:28:23.872Z"
   },
   {
    "duration": 6,
    "start_time": "2021-11-24T09:29:50.708Z"
   },
   {
    "duration": 1329,
    "start_time": "2021-11-24T09:29:54.925Z"
   },
   {
    "duration": 6,
    "start_time": "2021-11-24T09:30:20.881Z"
   },
   {
    "duration": 2248,
    "start_time": "2021-11-24T09:30:24.135Z"
   },
   {
    "duration": 6,
    "start_time": "2021-11-24T09:30:59.007Z"
   },
   {
    "duration": 894,
    "start_time": "2021-11-24T09:31:03.291Z"
   },
   {
    "duration": 6,
    "start_time": "2021-11-24T09:31:38.018Z"
   },
   {
    "duration": 222,
    "start_time": "2021-11-24T09:31:38.534Z"
   },
   {
    "duration": 812,
    "start_time": "2021-11-24T09:31:43.603Z"
   },
   {
    "duration": 6,
    "start_time": "2021-11-24T09:32:06.458Z"
   },
   {
    "duration": 964,
    "start_time": "2021-11-24T09:32:10.753Z"
   },
   {
    "duration": 8,
    "start_time": "2021-11-24T09:32:40.275Z"
   },
   {
    "duration": 15,
    "start_time": "2021-11-24T09:32:50.475Z"
   },
   {
    "duration": 64,
    "start_time": "2021-11-24T09:33:59.645Z"
   },
   {
    "duration": 76,
    "start_time": "2021-11-24T09:34:31.108Z"
   },
   {
    "duration": 70,
    "start_time": "2021-11-24T09:35:34.346Z"
   },
   {
    "duration": 9,
    "start_time": "2021-11-24T09:35:57.757Z"
   },
   {
    "duration": 296,
    "start_time": "2021-11-24T09:36:17.750Z"
   },
   {
    "duration": 15,
    "start_time": "2021-11-24T09:36:19.270Z"
   },
   {
    "duration": 6,
    "start_time": "2021-11-24T09:36:38.185Z"
   },
   {
    "duration": 764,
    "start_time": "2021-11-24T09:36:51.188Z"
   },
   {
    "duration": 20,
    "start_time": "2021-11-24T09:37:19.752Z"
   },
   {
    "duration": 564,
    "start_time": "2021-11-24T09:39:34.937Z"
   },
   {
    "duration": 51,
    "start_time": "2021-11-24T09:40:29.067Z"
   },
   {
    "duration": 35694,
    "start_time": "2021-11-24T09:40:08.173Z"
   },
   {
    "duration": 44,
    "start_time": "2021-11-24T09:40:46.432Z"
   },
   {
    "duration": 210,
    "start_time": "2021-11-24T09:41:19.208Z"
   },
   {
    "duration": 21,
    "start_time": "2021-11-24T09:41:25.656Z"
   },
   {
    "duration": 257,
    "start_time": "2021-11-24T09:42:02.568Z"
   },
   {
    "duration": 767,
    "start_time": "2021-11-24T09:42:09.943Z"
   },
   {
    "duration": 8,
    "start_time": "2021-11-24T09:42:27.967Z"
   },
   {
    "duration": 822,
    "start_time": "2021-11-24T09:42:30.408Z"
   },
   {
    "duration": 6,
    "start_time": "2021-11-24T09:43:15.602Z"
   },
   {
    "duration": 786,
    "start_time": "2021-11-24T09:43:18.480Z"
   },
   {
    "duration": 6,
    "start_time": "2021-11-24T09:43:52.982Z"
   },
   {
    "duration": 6,
    "start_time": "2021-11-24T09:44:34.911Z"
   },
   {
    "duration": 17524,
    "start_time": "2021-11-24T09:44:37.214Z"
   },
   {
    "duration": 6,
    "start_time": "2021-11-24T09:44:57.705Z"
   },
   {
    "duration": 9454,
    "start_time": "2021-11-24T09:44:59.961Z"
   },
   {
    "duration": 8,
    "start_time": "2021-11-24T09:45:12.032Z"
   },
   {
    "duration": 18394,
    "start_time": "2021-11-24T09:45:14.177Z"
   },
   {
    "duration": 14324,
    "start_time": "2021-11-24T09:46:08.153Z"
   },
   {
    "duration": 8846,
    "start_time": "2021-11-24T09:46:33.344Z"
   },
   {
    "duration": 6,
    "start_time": "2021-11-24T09:47:31.275Z"
   },
   {
    "duration": 9690,
    "start_time": "2021-11-24T09:47:36.804Z"
   },
   {
    "duration": 13657,
    "start_time": "2021-11-24T09:47:56.743Z"
   },
   {
    "duration": 5,
    "start_time": "2021-11-24T09:49:37.883Z"
   },
   {
    "duration": 218,
    "start_time": "2021-11-24T09:49:53.297Z"
   },
   {
    "duration": 305,
    "start_time": "2021-11-24T09:50:07.593Z"
   },
   {
    "duration": 395,
    "start_time": "2021-11-24T09:50:16.145Z"
   },
   {
    "duration": 314,
    "start_time": "2021-11-24T09:50:33.171Z"
   },
   {
    "duration": 445,
    "start_time": "2021-11-24T09:50:58.959Z"
   },
   {
    "duration": 431,
    "start_time": "2021-11-24T09:51:12.059Z"
   },
   {
    "duration": 716,
    "start_time": "2021-11-24T09:51:26.596Z"
   },
   {
    "duration": 5,
    "start_time": "2021-11-24T09:51:46.469Z"
   },
   {
    "duration": 10256,
    "start_time": "2021-11-24T09:51:50.616Z"
   },
   {
    "duration": 10498,
    "start_time": "2021-11-24T09:52:16.195Z"
   },
   {
    "duration": 25793,
    "start_time": "2021-11-24T09:52:33.419Z"
   },
   {
    "duration": 164,
    "start_time": "2021-11-24T09:53:03.826Z"
   },
   {
    "duration": 331,
    "start_time": "2021-11-24T09:53:06.779Z"
   },
   {
    "duration": 36,
    "start_time": "2021-11-24T09:54:45.127Z"
   },
   {
    "duration": 324,
    "start_time": "2021-11-24T09:55:57.749Z"
   },
   {
    "duration": 101,
    "start_time": "2021-11-24T09:56:14.398Z"
   },
   {
    "duration": 105,
    "start_time": "2021-11-24T09:56:27.235Z"
   },
   {
    "duration": 41,
    "start_time": "2021-11-24T09:56:58.216Z"
   },
   {
    "duration": 100,
    "start_time": "2021-11-24T09:57:05.489Z"
   },
   {
    "duration": 117,
    "start_time": "2021-11-24T09:57:32.382Z"
   },
   {
    "duration": 101,
    "start_time": "2021-11-24T09:57:36.476Z"
   },
   {
    "duration": 1454,
    "start_time": "2021-11-24T09:58:34.397Z"
   },
   {
    "duration": 1163,
    "start_time": "2021-11-24T09:58:35.853Z"
   },
   {
    "duration": 27,
    "start_time": "2021-11-24T09:58:37.019Z"
   },
   {
    "duration": 250,
    "start_time": "2021-11-24T09:58:37.069Z"
   },
   {
    "duration": 46,
    "start_time": "2021-11-24T09:58:37.322Z"
   },
   {
    "duration": 139,
    "start_time": "2021-11-24T09:58:37.371Z"
   },
   {
    "duration": 195,
    "start_time": "2021-11-24T09:58:37.512Z"
   },
   {
    "duration": 39,
    "start_time": "2021-11-24T09:58:37.710Z"
   },
   {
    "duration": 7,
    "start_time": "2021-11-24T09:58:37.768Z"
   },
   {
    "duration": 281,
    "start_time": "2021-11-24T09:58:37.779Z"
   },
   {
    "duration": 6,
    "start_time": "2021-11-24T09:58:38.063Z"
   },
   {
    "duration": 20264,
    "start_time": "2021-11-24T09:58:38.071Z"
   },
   {
    "duration": 4,
    "start_time": "2021-11-24T09:58:58.338Z"
   },
   {
    "duration": 164,
    "start_time": "2021-11-24T09:58:58.345Z"
   },
   {
    "duration": 170,
    "start_time": "2021-11-24T10:00:27.638Z"
   },
   {
    "duration": 17,
    "start_time": "2021-11-24T10:04:14.599Z"
   },
   {
    "duration": 587,
    "start_time": "2021-11-24T10:04:34.593Z"
   },
   {
    "duration": 35,
    "start_time": "2021-11-24T10:04:53.530Z"
   },
   {
    "duration": 31,
    "start_time": "2021-11-24T10:07:04.553Z"
   },
   {
    "duration": 120,
    "start_time": "2021-11-24T10:09:47.805Z"
   },
   {
    "duration": 4,
    "start_time": "2021-11-24T10:10:07.742Z"
   },
   {
    "duration": 51,
    "start_time": "2021-11-24T10:10:21.294Z"
   },
   {
    "duration": 5,
    "start_time": "2021-11-24T10:11:35.890Z"
   },
   {
    "duration": 171,
    "start_time": "2021-11-24T10:12:31.560Z"
   },
   {
    "duration": 45,
    "start_time": "2021-11-24T10:12:56.041Z"
   },
   {
    "duration": 81,
    "start_time": "2021-11-24T10:13:28.432Z"
   },
   {
    "duration": 44,
    "start_time": "2021-11-24T10:14:47.913Z"
   },
   {
    "duration": 7893,
    "start_time": "2021-11-24T10:17:18.386Z"
   },
   {
    "duration": 331,
    "start_time": "2021-11-24T10:18:16.484Z"
   },
   {
    "duration": 722,
    "start_time": "2021-11-24T10:19:44.804Z"
   },
   {
    "duration": 360,
    "start_time": "2021-11-24T10:20:25.246Z"
   },
   {
    "duration": 432,
    "start_time": "2021-11-24T10:20:45.613Z"
   },
   {
    "duration": 371,
    "start_time": "2021-11-24T10:21:29.424Z"
   },
   {
    "duration": 499,
    "start_time": "2021-11-24T10:22:51.468Z"
   },
   {
    "duration": 293,
    "start_time": "2021-11-24T10:23:12.000Z"
   },
   {
    "duration": 908,
    "start_time": "2021-11-24T10:23:26.051Z"
   },
   {
    "duration": 332,
    "start_time": "2021-11-24T10:23:39.037Z"
   },
   {
    "duration": 18,
    "start_time": "2021-11-24T10:24:06.893Z"
   },
   {
    "duration": 6,
    "start_time": "2021-11-24T10:24:11.048Z"
   },
   {
    "duration": 26,
    "start_time": "2021-11-24T10:24:15.855Z"
   },
   {
    "duration": 352,
    "start_time": "2021-11-24T10:24:23.851Z"
   },
   {
    "duration": 496,
    "start_time": "2021-11-24T10:25:17.494Z"
   },
   {
    "duration": 4,
    "start_time": "2021-11-24T10:25:22.544Z"
   },
   {
    "duration": 1093,
    "start_time": "2021-11-24T10:25:22.551Z"
   },
   {
    "duration": 30,
    "start_time": "2021-11-24T10:25:23.647Z"
   },
   {
    "duration": 180,
    "start_time": "2021-11-24T10:25:23.680Z"
   },
   {
    "duration": 32,
    "start_time": "2021-11-24T10:25:23.862Z"
   },
   {
    "duration": 123,
    "start_time": "2021-11-24T10:25:23.896Z"
   },
   {
    "duration": 170,
    "start_time": "2021-11-24T10:25:24.021Z"
   },
   {
    "duration": 23,
    "start_time": "2021-11-24T10:25:24.194Z"
   },
   {
    "duration": 389,
    "start_time": "2021-11-24T10:25:24.220Z"
   },
   {
    "duration": 230,
    "start_time": "2021-11-24T10:25:24.612Z"
   },
   {
    "duration": 6,
    "start_time": "2021-11-24T10:25:24.845Z"
   },
   {
    "duration": 20868,
    "start_time": "2021-11-24T10:25:24.854Z"
   },
   {
    "duration": 3,
    "start_time": "2021-11-24T10:25:45.725Z"
   },
   {
    "duration": 102,
    "start_time": "2021-11-24T10:25:49.870Z"
   },
   {
    "duration": 126,
    "start_time": "2021-11-24T10:25:56.561Z"
   },
   {
    "duration": 41,
    "start_time": "2021-11-24T10:26:04.792Z"
   },
   {
    "duration": 26,
    "start_time": "2021-11-24T10:26:05.767Z"
   },
   {
    "duration": 5,
    "start_time": "2021-11-24T10:26:30.211Z"
   },
   {
    "duration": 1710,
    "start_time": "2021-11-24T10:26:47.619Z"
   },
   {
    "duration": 1161,
    "start_time": "2021-11-24T10:26:49.332Z"
   },
   {
    "duration": 32,
    "start_time": "2021-11-24T10:26:50.496Z"
   },
   {
    "duration": 184,
    "start_time": "2021-11-24T10:26:50.531Z"
   },
   {
    "duration": 51,
    "start_time": "2021-11-24T10:26:50.717Z"
   },
   {
    "duration": 126,
    "start_time": "2021-11-24T10:26:50.771Z"
   },
   {
    "duration": 179,
    "start_time": "2021-11-24T10:26:50.899Z"
   },
   {
    "duration": 22,
    "start_time": "2021-11-24T10:26:51.081Z"
   },
   {
    "duration": 5,
    "start_time": "2021-11-24T10:26:51.106Z"
   },
   {
    "duration": 245,
    "start_time": "2021-11-24T10:26:51.114Z"
   },
   {
    "duration": 8,
    "start_time": "2021-11-24T10:26:51.361Z"
   },
   {
    "duration": 20671,
    "start_time": "2021-11-24T10:26:51.371Z"
   },
   {
    "duration": 4,
    "start_time": "2021-11-24T10:27:12.044Z"
   },
   {
    "duration": 183,
    "start_time": "2021-11-24T10:27:12.051Z"
   },
   {
    "duration": 39,
    "start_time": "2021-11-24T10:27:28.481Z"
   },
   {
    "duration": 28,
    "start_time": "2021-11-24T10:27:31.876Z"
   },
   {
    "duration": 6,
    "start_time": "2021-11-24T10:28:31.259Z"
   },
   {
    "duration": 446,
    "start_time": "2021-11-24T10:28:39.033Z"
   },
   {
    "duration": 297,
    "start_time": "2021-11-24T10:28:45.432Z"
   },
   {
    "duration": 293,
    "start_time": "2021-11-24T10:28:54.789Z"
   },
   {
    "duration": 297,
    "start_time": "2021-11-24T10:29:01.196Z"
   },
   {
    "duration": 6,
    "start_time": "2021-11-24T10:29:09.916Z"
   },
   {
    "duration": 5,
    "start_time": "2021-11-24T10:29:19.190Z"
   },
   {
    "duration": 1272,
    "start_time": "2021-11-24T10:29:29.851Z"
   },
   {
    "duration": 57,
    "start_time": "2021-11-24T10:29:34.961Z"
   },
   {
    "duration": 173,
    "start_time": "2021-11-24T10:29:39.017Z"
   },
   {
    "duration": 25,
    "start_time": "2021-11-24T10:29:41.463Z"
   },
   {
    "duration": 7,
    "start_time": "2021-11-24T10:29:43.467Z"
   },
   {
    "duration": 20700,
    "start_time": "2021-11-24T10:29:52.517Z"
   },
   {
    "duration": 3,
    "start_time": "2021-11-24T10:30:16.554Z"
   },
   {
    "duration": 121,
    "start_time": "2021-11-24T10:30:16.794Z"
   },
   {
    "duration": 39,
    "start_time": "2021-11-24T10:30:20.268Z"
   },
   {
    "duration": 27,
    "start_time": "2021-11-24T10:30:20.912Z"
   },
   {
    "duration": 5,
    "start_time": "2021-11-24T10:30:39.406Z"
   },
   {
    "duration": 1209,
    "start_time": "2021-11-24T10:30:43.687Z"
   },
   {
    "duration": 53,
    "start_time": "2021-11-24T10:30:48.755Z"
   },
   {
    "duration": 150,
    "start_time": "2021-11-24T10:30:51.286Z"
   },
   {
    "duration": 23,
    "start_time": "2021-11-24T10:30:54.359Z"
   },
   {
    "duration": 20375,
    "start_time": "2021-11-24T10:30:58.358Z"
   },
   {
    "duration": 140,
    "start_time": "2021-11-24T10:31:26.484Z"
   },
   {
    "duration": 40,
    "start_time": "2021-11-24T10:31:29.269Z"
   },
   {
    "duration": 27,
    "start_time": "2021-11-24T10:31:29.780Z"
   },
   {
    "duration": 301,
    "start_time": "2021-11-24T10:31:41.871Z"
   },
   {
    "duration": 486,
    "start_time": "2021-11-24T10:31:53.800Z"
   },
   {
    "duration": 552,
    "start_time": "2021-11-24T10:32:19.766Z"
   },
   {
    "duration": 23,
    "start_time": "2021-11-24T10:32:46.827Z"
   },
   {
    "duration": 28,
    "start_time": "2021-11-24T10:33:03.191Z"
   },
   {
    "duration": 4,
    "start_time": "2021-11-24T10:34:05.003Z"
   },
   {
    "duration": 122,
    "start_time": "2021-11-24T10:34:33.774Z"
   },
   {
    "duration": 93,
    "start_time": "2021-11-24T10:34:40.709Z"
   },
   {
    "duration": 193,
    "start_time": "2021-11-24T10:35:04.360Z"
   },
   {
    "duration": 731,
    "start_time": "2021-11-24T10:35:49.837Z"
   },
   {
    "duration": 24,
    "start_time": "2021-11-24T10:35:55.244Z"
   },
   {
    "duration": 715,
    "start_time": "2021-11-24T10:36:38.832Z"
   },
   {
    "duration": 24,
    "start_time": "2021-11-24T10:36:41.957Z"
   },
   {
    "duration": 4,
    "start_time": "2021-11-24T10:38:06.779Z"
   },
   {
    "duration": 305,
    "start_time": "2021-11-24T10:42:03.892Z"
   },
   {
    "duration": 1620,
    "start_time": "2021-11-24T10:42:28.127Z"
   },
   {
    "duration": 1791,
    "start_time": "2021-11-24T10:42:40.258Z"
   },
   {
    "duration": 3126,
    "start_time": "2021-11-24T10:43:02.152Z"
   },
   {
    "duration": 337,
    "start_time": "2021-11-24T10:43:29.268Z"
   },
   {
    "duration": 311,
    "start_time": "2021-11-24T10:43:32.824Z"
   },
   {
    "duration": 296,
    "start_time": "2021-11-24T10:44:06.036Z"
   },
   {
    "duration": 6,
    "start_time": "2021-11-24T10:44:34.320Z"
   },
   {
    "duration": 5,
    "start_time": "2021-11-24T10:44:50.349Z"
   },
   {
    "duration": 571,
    "start_time": "2021-11-24T10:44:54.283Z"
   },
   {
    "duration": 7,
    "start_time": "2021-11-24T10:44:56.936Z"
   },
   {
    "duration": 295,
    "start_time": "2021-11-24T10:45:42.792Z"
   },
   {
    "duration": 3110,
    "start_time": "2021-11-24T10:46:16.361Z"
   },
   {
    "duration": 6,
    "start_time": "2021-11-24T10:47:39.587Z"
   },
   {
    "duration": 5,
    "start_time": "2021-11-24T10:48:04.811Z"
   },
   {
    "duration": 3,
    "start_time": "2021-11-24T10:49:02.883Z"
   },
   {
    "duration": 939,
    "start_time": "2021-11-24T10:49:11.594Z"
   },
   {
    "duration": 298,
    "start_time": "2021-11-24T10:50:01.698Z"
   },
   {
    "duration": 195,
    "start_time": "2021-11-24T10:50:06.362Z"
   },
   {
    "duration": 5,
    "start_time": "2021-11-24T10:50:09.571Z"
   },
   {
    "duration": 6,
    "start_time": "2021-11-24T10:50:20.576Z"
   },
   {
    "duration": 347,
    "start_time": "2021-11-24T10:50:37.193Z"
   },
   {
    "duration": 1583,
    "start_time": "2021-11-24T10:52:24.673Z"
   },
   {
    "duration": 5455,
    "start_time": "2021-11-24T10:52:30.424Z"
   },
   {
    "duration": 4,
    "start_time": "2021-11-24T10:52:39.859Z"
   },
   {
    "duration": 474,
    "start_time": "2021-11-24T10:52:40.414Z"
   },
   {
    "duration": 1534,
    "start_time": "2021-11-24T10:53:00.679Z"
   },
   {
    "duration": 1144,
    "start_time": "2021-11-24T10:53:02.216Z"
   },
   {
    "duration": 33,
    "start_time": "2021-11-24T10:53:03.367Z"
   },
   {
    "duration": 233,
    "start_time": "2021-11-24T10:53:03.404Z"
   },
   {
    "duration": 43,
    "start_time": "2021-11-24T10:53:03.639Z"
   },
   {
    "duration": 129,
    "start_time": "2021-11-24T10:53:03.685Z"
   },
   {
    "duration": 175,
    "start_time": "2021-11-24T10:53:03.816Z"
   },
   {
    "duration": 23,
    "start_time": "2021-11-24T10:53:03.996Z"
   },
   {
    "duration": 14,
    "start_time": "2021-11-24T10:53:04.023Z"
   },
   {
    "duration": 244,
    "start_time": "2021-11-24T10:53:04.039Z"
   },
   {
    "duration": 20885,
    "start_time": "2021-11-24T10:53:04.286Z"
   },
   {
    "duration": 4,
    "start_time": "2021-11-24T10:53:25.173Z"
   },
   {
    "duration": 165,
    "start_time": "2021-11-24T10:53:25.179Z"
   },
   {
    "duration": 3,
    "start_time": "2021-11-24T10:53:25.346Z"
   },
   {
    "duration": 47,
    "start_time": "2021-11-24T10:53:25.352Z"
   },
   {
    "duration": 565,
    "start_time": "2021-11-24T10:53:25.402Z"
   },
   {
    "duration": 20,
    "start_time": "2021-11-24T10:53:25.970Z"
   },
   {
    "duration": 735,
    "start_time": "2021-11-24T10:53:25.992Z"
   },
   {
    "duration": 42,
    "start_time": "2021-11-24T10:53:26.729Z"
   },
   {
    "duration": 3,
    "start_time": "2021-11-24T10:53:26.773Z"
   },
   {
    "duration": 21,
    "start_time": "2021-11-24T10:53:26.779Z"
   },
   {
    "duration": 655,
    "start_time": "2021-11-24T10:53:26.802Z"
   },
   {
    "duration": 350,
    "start_time": "2021-11-24T10:54:29.761Z"
   },
   {
    "duration": 294,
    "start_time": "2021-11-24T10:54:41.207Z"
   },
   {
    "duration": 5,
    "start_time": "2021-11-24T10:54:51.319Z"
   },
   {
    "duration": 287,
    "start_time": "2021-11-24T10:54:56.861Z"
   },
   {
    "duration": 3,
    "start_time": "2021-11-24T10:56:02.942Z"
   },
   {
    "duration": 3171,
    "start_time": "2021-11-24T10:56:15.004Z"
   },
   {
    "duration": 18,
    "start_time": "2021-11-24T10:56:54.736Z"
   },
   {
    "duration": 3123,
    "start_time": "2021-11-24T10:57:23.646Z"
   },
   {
    "duration": 1193,
    "start_time": "2021-11-24T12:35:25.252Z"
   },
   {
    "duration": 1170,
    "start_time": "2021-11-24T12:35:26.448Z"
   },
   {
    "duration": 18,
    "start_time": "2021-11-24T12:35:27.620Z"
   },
   {
    "duration": 143,
    "start_time": "2021-11-24T12:35:27.645Z"
   },
   {
    "duration": 24,
    "start_time": "2021-11-24T12:35:27.790Z"
   },
   {
    "duration": 92,
    "start_time": "2021-11-24T12:35:27.816Z"
   },
   {
    "duration": 124,
    "start_time": "2021-11-24T12:35:27.910Z"
   },
   {
    "duration": 33,
    "start_time": "2021-11-24T12:35:28.035Z"
   },
   {
    "duration": 5,
    "start_time": "2021-11-24T12:35:28.070Z"
   },
   {
    "duration": 191,
    "start_time": "2021-11-24T12:35:28.077Z"
   },
   {
    "duration": 12895,
    "start_time": "2021-11-24T12:35:28.270Z"
   },
   {
    "duration": 127,
    "start_time": "2021-11-24T12:35:41.167Z"
   },
   {
    "duration": 22,
    "start_time": "2021-11-24T12:35:41.296Z"
   },
   {
    "duration": 384,
    "start_time": "2021-11-24T12:35:41.320Z"
   },
   {
    "duration": 527,
    "start_time": "2021-11-24T12:35:41.705Z"
   },
   {
    "duration": 27,
    "start_time": "2021-11-24T12:35:42.235Z"
   },
   {
    "duration": 3458,
    "start_time": "2021-11-24T12:35:42.263Z"
   },
   {
    "duration": 21,
    "start_time": "2021-11-24T12:37:02.660Z"
   },
   {
    "duration": 3149,
    "start_time": "2021-11-24T12:37:26.806Z"
   },
   {
    "duration": 24,
    "start_time": "2021-11-24T12:43:33.707Z"
   },
   {
    "duration": 3,
    "start_time": "2021-11-24T12:44:08.311Z"
   },
   {
    "duration": 7983,
    "start_time": "2021-11-24T12:44:45.743Z"
   },
   {
    "duration": 270,
    "start_time": "2021-11-24T12:46:19.789Z"
   },
   {
    "duration": 295,
    "start_time": "2021-11-24T12:46:24.789Z"
   },
   {
    "duration": 77,
    "start_time": "2021-11-24T12:48:08.755Z"
   },
   {
    "duration": 29,
    "start_time": "2021-11-24T12:48:26.058Z"
   },
   {
    "duration": 49,
    "start_time": "2021-11-24T12:49:02.707Z"
   },
   {
    "duration": 7620,
    "start_time": "2021-11-24T12:49:15.753Z"
   },
   {
    "duration": 317,
    "start_time": "2021-11-24T12:50:26.779Z"
   },
   {
    "duration": 78,
    "start_time": "2021-11-24T12:50:33.987Z"
   },
   {
    "duration": 28,
    "start_time": "2021-11-24T12:50:42.218Z"
   },
   {
    "duration": 119,
    "start_time": "2021-11-24T12:51:11.831Z"
   },
   {
    "duration": 12,
    "start_time": "2021-11-24T12:51:19.258Z"
   },
   {
    "duration": 56,
    "start_time": "2021-11-24T12:51:37.687Z"
   },
   {
    "duration": 3551,
    "start_time": "2021-11-24T12:51:42.607Z"
   },
   {
    "duration": 159205,
    "start_time": "2021-11-24T12:52:23.691Z"
   },
   {
    "duration": 594201,
    "start_time": "2021-11-24T12:55:12.032Z"
   },
   {
    "duration": 5,
    "start_time": "2021-11-24T13:06:24.001Z"
   },
   {
    "duration": 441,
    "start_time": "2021-11-24T13:07:06.324Z"
   },
   {
    "duration": 462,
    "start_time": "2021-11-24T13:07:23.907Z"
   },
   {
    "duration": 5,
    "start_time": "2021-11-24T13:08:07.900Z"
   },
   {
    "duration": 7,
    "start_time": "2021-11-24T13:08:29.847Z"
   },
   {
    "duration": 5,
    "start_time": "2021-11-24T13:09:57.821Z"
   },
   {
    "duration": 5,
    "start_time": "2021-11-24T13:10:27.597Z"
   },
   {
    "duration": 27,
    "start_time": "2021-11-24T13:10:43.733Z"
   },
   {
    "duration": 12,
    "start_time": "2021-11-24T13:10:49.170Z"
   },
   {
    "duration": 1243,
    "start_time": "2021-11-24T13:12:45.202Z"
   },
   {
    "duration": 782,
    "start_time": "2021-11-24T13:12:46.447Z"
   },
   {
    "duration": 29,
    "start_time": "2021-11-24T13:12:47.231Z"
   },
   {
    "duration": 130,
    "start_time": "2021-11-24T13:12:47.262Z"
   },
   {
    "duration": 23,
    "start_time": "2021-11-24T13:12:47.394Z"
   },
   {
    "duration": 105,
    "start_time": "2021-11-24T13:12:47.419Z"
   },
   {
    "duration": 121,
    "start_time": "2021-11-24T13:12:47.525Z"
   },
   {
    "duration": 16,
    "start_time": "2021-11-24T13:12:47.648Z"
   },
   {
    "duration": 5,
    "start_time": "2021-11-24T13:12:47.667Z"
   },
   {
    "duration": 170,
    "start_time": "2021-11-24T13:12:47.674Z"
   },
   {
    "duration": 11814,
    "start_time": "2021-11-24T13:12:47.846Z"
   },
   {
    "duration": 116,
    "start_time": "2021-11-24T13:12:59.661Z"
   },
   {
    "duration": 61,
    "start_time": "2021-11-24T13:13:06.880Z"
   },
   {
    "duration": 25,
    "start_time": "2021-11-24T13:13:09.656Z"
   },
   {
    "duration": 437,
    "start_time": "2021-11-24T13:17:37.944Z"
   },
   {
    "duration": 88,
    "start_time": "2021-11-24T13:17:42.144Z"
   },
   {
    "duration": 333,
    "start_time": "2021-11-24T13:17:43.801Z"
   },
   {
    "duration": 642,
    "start_time": "2021-11-24T13:17:47.334Z"
   },
   {
    "duration": 15,
    "start_time": "2021-11-24T13:18:16.007Z"
   },
   {
    "duration": 352,
    "start_time": "2021-11-24T13:18:22.394Z"
   },
   {
    "duration": 13,
    "start_time": "2021-11-24T13:18:23.529Z"
   },
   {
    "duration": 13,
    "start_time": "2021-11-24T13:18:29.194Z"
   },
   {
    "duration": 136,
    "start_time": "2021-11-24T13:18:49.648Z"
   },
   {
    "duration": 89,
    "start_time": "2021-11-24T13:18:59.821Z"
   },
   {
    "duration": 367,
    "start_time": "2021-11-24T13:19:17.170Z"
   },
   {
    "duration": 432,
    "start_time": "2021-11-24T13:19:22.368Z"
   },
   {
    "duration": 11,
    "start_time": "2021-11-24T13:19:25.270Z"
   },
   {
    "duration": 12,
    "start_time": "2021-11-24T13:19:31.984Z"
   },
   {
    "duration": 4,
    "start_time": "2021-11-24T13:20:16.123Z"
   },
   {
    "duration": 41,
    "start_time": "2021-11-24T13:21:29.714Z"
   },
   {
    "duration": 163,
    "start_time": "2021-11-24T13:23:26.583Z"
   },
   {
    "duration": 26,
    "start_time": "2021-11-24T13:23:32.812Z"
   },
   {
    "duration": 141,
    "start_time": "2021-11-24T13:24:20.269Z"
   },
   {
    "duration": 28909,
    "start_time": "2021-11-24T13:25:39.422Z"
   },
   {
    "duration": 15971,
    "start_time": "2021-11-24T13:26:46.844Z"
   },
   {
    "duration": 15215,
    "start_time": "2021-11-24T13:27:58.457Z"
   },
   {
    "duration": 184746,
    "start_time": "2021-11-24T13:29:22.905Z"
   },
   {
    "duration": 5716,
    "start_time": "2021-11-24T13:32:55.778Z"
   },
   {
    "duration": 241260,
    "start_time": "2021-11-24T13:33:10.953Z"
   },
   {
    "duration": 7,
    "start_time": "2021-11-24T13:38:25.413Z"
   },
   {
    "duration": 1223,
    "start_time": "2021-12-01T13:03:31.278Z"
   },
   {
    "duration": 4,
    "start_time": "2021-12-01T13:03:32.503Z"
   },
   {
    "duration": 730,
    "start_time": "2021-12-01T13:03:32.509Z"
   },
   {
    "duration": 23,
    "start_time": "2021-12-01T13:03:33.241Z"
   },
   {
    "duration": 227,
    "start_time": "2021-12-01T13:03:33.266Z"
   },
   {
    "duration": 198,
    "start_time": "2021-12-01T13:03:33.495Z"
   },
   {
    "duration": 49,
    "start_time": "2021-12-01T13:03:33.695Z"
   },
   {
    "duration": 135,
    "start_time": "2021-12-01T13:03:33.747Z"
   },
   {
    "duration": 184,
    "start_time": "2021-12-01T13:03:33.885Z"
   },
   {
    "duration": 5,
    "start_time": "2021-12-01T13:03:34.071Z"
   },
   {
    "duration": 48,
    "start_time": "2021-12-01T13:03:34.078Z"
   },
   {
    "duration": 155,
    "start_time": "2021-12-01T13:03:34.127Z"
   },
   {
    "duration": 3,
    "start_time": "2021-12-01T13:03:34.283Z"
   },
   {
    "duration": 11035,
    "start_time": "2021-12-01T13:03:34.288Z"
   },
   {
    "duration": 34,
    "start_time": "2021-12-01T13:03:45.325Z"
   },
   {
    "duration": 109,
    "start_time": "2021-12-01T13:03:45.360Z"
   },
   {
    "duration": 474,
    "start_time": "2021-12-01T13:03:45.470Z"
   },
   {
    "duration": 19,
    "start_time": "2021-12-01T13:04:07.631Z"
   },
   {
    "duration": 448,
    "start_time": "2021-12-01T13:04:36.356Z"
   },
   {
    "duration": 11,
    "start_time": "2021-12-01T13:04:39.747Z"
   },
   {
    "duration": 12,
    "start_time": "2021-12-01T13:04:49.106Z"
   },
   {
    "duration": 11,
    "start_time": "2021-12-01T13:04:58.413Z"
   },
   {
    "duration": 9,
    "start_time": "2021-12-01T13:07:55.899Z"
   },
   {
    "duration": 9,
    "start_time": "2021-12-01T13:08:07.492Z"
   },
   {
    "duration": 283,
    "start_time": "2021-12-01T13:08:35.323Z"
   },
   {
    "duration": 291,
    "start_time": "2021-12-01T13:08:39.795Z"
   },
   {
    "duration": 192,
    "start_time": "2021-12-01T13:08:43.530Z"
   },
   {
    "duration": 297,
    "start_time": "2021-12-01T13:09:10.643Z"
   },
   {
    "duration": 9,
    "start_time": "2021-12-01T13:09:27.468Z"
   },
   {
    "duration": 222,
    "start_time": "2021-12-01T13:10:27.254Z"
   },
   {
    "duration": 289,
    "start_time": "2021-12-01T13:10:46.157Z"
   },
   {
    "duration": 294,
    "start_time": "2021-12-01T13:10:55.863Z"
   },
   {
    "duration": 516,
    "start_time": "2021-12-01T13:11:04.002Z"
   },
   {
    "duration": 423,
    "start_time": "2021-12-01T13:11:27.090Z"
   },
   {
    "duration": 306,
    "start_time": "2021-12-01T13:11:32.935Z"
   },
   {
    "duration": 327,
    "start_time": "2021-12-01T13:11:43.114Z"
   },
   {
    "duration": 280,
    "start_time": "2021-12-01T13:11:54.700Z"
   },
   {
    "duration": 269,
    "start_time": "2021-12-01T13:12:17.542Z"
   },
   {
    "duration": 457,
    "start_time": "2021-12-01T13:12:21.648Z"
   },
   {
    "duration": 29,
    "start_time": "2021-12-01T13:13:09.575Z"
   },
   {
    "duration": 565,
    "start_time": "2021-12-01T13:13:28.495Z"
   },
   {
    "duration": 294,
    "start_time": "2021-12-01T13:13:35.703Z"
   },
   {
    "duration": 280,
    "start_time": "2021-12-01T13:13:38.791Z"
   },
   {
    "duration": 157,
    "start_time": "2021-12-01T13:13:43.131Z"
   },
   {
    "duration": 168,
    "start_time": "2021-12-01T13:13:49.918Z"
   },
   {
    "duration": 153,
    "start_time": "2021-12-01T13:13:52.921Z"
   },
   {
    "duration": 307,
    "start_time": "2021-12-01T13:14:15.806Z"
   },
   {
    "duration": 33,
    "start_time": "2021-12-01T13:14:33.138Z"
   },
   {
    "duration": 1104,
    "start_time": "2021-12-01T13:14:40.145Z"
   },
   {
    "duration": 1392,
    "start_time": "2021-12-01T13:15:16.564Z"
   },
   {
    "duration": 1297,
    "start_time": "2021-12-01T13:15:22.722Z"
   },
   {
    "duration": 1399,
    "start_time": "2021-12-01T13:15:41.319Z"
   },
   {
    "duration": 1634,
    "start_time": "2021-12-01T13:16:20.717Z"
   },
   {
    "duration": 1344,
    "start_time": "2021-12-01T13:16:29.471Z"
   },
   {
    "duration": 1498,
    "start_time": "2021-12-01T13:17:00.990Z"
   },
   {
    "duration": 850,
    "start_time": "2021-12-01T13:17:25.386Z"
   },
   {
    "duration": 2256,
    "start_time": "2021-12-01T13:19:43.918Z"
   },
   {
    "duration": 1693,
    "start_time": "2021-12-01T13:20:08.728Z"
   },
   {
    "duration": 1659,
    "start_time": "2021-12-01T13:20:15.135Z"
   },
   {
    "duration": 1720,
    "start_time": "2021-12-01T13:21:39.960Z"
   },
   {
    "duration": 1838,
    "start_time": "2021-12-01T13:21:44.636Z"
   },
   {
    "duration": 1329,
    "start_time": "2021-12-01T13:21:50.306Z"
   },
   {
    "duration": 1492,
    "start_time": "2021-12-01T13:22:04.196Z"
   },
   {
    "duration": 1703,
    "start_time": "2021-12-01T13:22:25.058Z"
   },
   {
    "duration": 1549,
    "start_time": "2021-12-01T13:27:59.226Z"
   },
   {
    "duration": 5,
    "start_time": "2021-12-01T13:32:19.096Z"
   },
   {
    "duration": 3217,
    "start_time": "2021-12-01T13:32:31.042Z"
   },
   {
    "duration": 11,
    "start_time": "2021-12-01T13:32:42.132Z"
   },
   {
    "duration": 280,
    "start_time": "2021-12-01T13:33:56.756Z"
   },
   {
    "duration": 1630,
    "start_time": "2021-12-02T11:26:05.522Z"
   },
   {
    "duration": 4,
    "start_time": "2021-12-02T11:26:07.155Z"
   },
   {
    "duration": 1053,
    "start_time": "2021-12-02T11:26:07.162Z"
   },
   {
    "duration": 25,
    "start_time": "2021-12-02T11:26:08.218Z"
   },
   {
    "duration": 175,
    "start_time": "2021-12-02T11:26:08.245Z"
   },
   {
    "duration": 181,
    "start_time": "2021-12-02T11:26:08.422Z"
   },
   {
    "duration": 4,
    "start_time": "2021-12-02T11:26:08.606Z"
   },
   {
    "duration": 6883,
    "start_time": "2021-12-02T11:26:08.613Z"
   },
   {
    "duration": 3034,
    "start_time": "2021-12-02T11:26:18.553Z"
   },
   {
    "duration": 40,
    "start_time": "2021-12-02T11:28:04.650Z"
   },
   {
    "duration": 55,
    "start_time": "2021-12-02T11:28:14.096Z"
   },
   {
    "duration": 74,
    "start_time": "2021-12-02T11:28:32.354Z"
   },
   {
    "duration": 50,
    "start_time": "2021-12-02T11:28:34.146Z"
   },
   {
    "duration": 98,
    "start_time": "2021-12-02T11:28:36.374Z"
   },
   {
    "duration": 153,
    "start_time": "2021-12-02T11:28:44.611Z"
   },
   {
    "duration": 8,
    "start_time": "2021-12-02T11:28:45.249Z"
   },
   {
    "duration": 77,
    "start_time": "2021-12-02T11:28:48.480Z"
   },
   {
    "duration": 42,
    "start_time": "2021-12-02T11:29:36.829Z"
   },
   {
    "duration": 189,
    "start_time": "2021-12-02T11:29:39.788Z"
   },
   {
    "duration": 4,
    "start_time": "2021-12-02T11:29:42.289Z"
   },
   {
    "duration": 18064,
    "start_time": "2021-12-02T11:29:44.939Z"
   },
   {
    "duration": 73,
    "start_time": "2021-12-02T11:30:03.013Z"
   },
   {
    "duration": 260,
    "start_time": "2021-12-02T11:30:03.090Z"
   },
   {
    "duration": 763,
    "start_time": "2021-12-02T11:30:13.408Z"
   },
   {
    "duration": 135,
    "start_time": "2021-12-02T11:30:31.805Z"
   },
   {
    "duration": 34,
    "start_time": "2021-12-02T11:30:32.127Z"
   },
   {
    "duration": 4,
    "start_time": "2021-12-02T11:30:35.350Z"
   },
   {
    "duration": 21,
    "start_time": "2021-12-02T11:30:36.218Z"
   },
   {
    "duration": 516,
    "start_time": "2021-12-02T11:30:40.356Z"
   },
   {
    "duration": 554,
    "start_time": "2021-12-02T11:30:41.536Z"
   },
   {
    "duration": 147,
    "start_time": "2021-12-02T11:30:43.815Z"
   },
   {
    "duration": 5,
    "start_time": "2021-12-02T11:30:52.921Z"
   },
   {
    "duration": 404428,
    "start_time": "2021-12-02T11:30:54.433Z"
   },
   {
    "duration": 25087,
    "start_time": "2021-12-02T11:38:15.358Z"
   },
   {
    "duration": 600,
    "start_time": "2021-12-02T11:39:27.849Z"
   },
   {
    "duration": 204,
    "start_time": "2021-12-02T11:39:31.620Z"
   },
   {
    "duration": 414,
    "start_time": "2021-12-02T11:39:33.762Z"
   },
   {
    "duration": 6,
    "start_time": "2021-12-02T11:39:48.333Z"
   },
   {
    "duration": 366753,
    "start_time": "2021-12-02T11:39:51.229Z"
   },
   {
    "duration": 344,
    "start_time": "2021-12-02T11:46:08.507Z"
   },
   {
    "duration": 380501,
    "start_time": "2021-12-02T11:46:26.375Z"
   },
   {
    "duration": 21586,
    "start_time": "2021-12-02T11:52:46.879Z"
   },
   {
    "duration": 762,
    "start_time": "2021-12-02T11:53:41.543Z"
   },
   {
    "duration": 1545,
    "start_time": "2021-12-02T11:54:36.984Z"
   },
   {
    "duration": 5,
    "start_time": "2021-12-02T11:54:38.532Z"
   },
   {
    "duration": 1088,
    "start_time": "2021-12-02T11:54:38.539Z"
   },
   {
    "duration": 32,
    "start_time": "2021-12-02T11:54:39.629Z"
   },
   {
    "duration": 170,
    "start_time": "2021-12-02T11:54:39.663Z"
   },
   {
    "duration": 194,
    "start_time": "2021-12-02T11:54:39.836Z"
   },
   {
    "duration": 114,
    "start_time": "2021-12-02T11:55:28.594Z"
   },
   {
    "duration": 2880,
    "start_time": "2021-12-02T11:55:32.591Z"
   },
   {
    "duration": 46,
    "start_time": "2021-12-02T11:56:05.689Z"
   },
   {
    "duration": 102,
    "start_time": "2021-12-02T11:56:08.736Z"
   },
   {
    "duration": 144,
    "start_time": "2021-12-02T11:56:18.444Z"
   },
   {
    "duration": 8,
    "start_time": "2021-12-02T11:56:25.270Z"
   },
   {
    "duration": 45,
    "start_time": "2021-12-02T11:56:52.332Z"
   },
   {
    "duration": 861,
    "start_time": "2021-12-02T11:57:11.336Z"
   },
   {
    "duration": 13,
    "start_time": "2021-12-02T11:57:23.262Z"
   },
   {
    "duration": 17,
    "start_time": "2021-12-02T11:57:31.099Z"
   },
   {
    "duration": 130,
    "start_time": "2021-12-02T11:57:50.596Z"
   },
   {
    "duration": 34,
    "start_time": "2021-12-02T11:57:53.426Z"
   },
   {
    "duration": 18,
    "start_time": "2021-12-02T11:58:11.766Z"
   },
   {
    "duration": 401,
    "start_time": "2021-12-02T11:58:23.683Z"
   },
   {
    "duration": 530,
    "start_time": "2021-12-02T11:58:27.780Z"
   },
   {
    "duration": 413,
    "start_time": "2021-12-02T11:58:31.897Z"
   },
   {
    "duration": 404,
    "start_time": "2021-12-02T11:58:34.280Z"
   },
   {
    "duration": 427,
    "start_time": "2021-12-02T11:58:44.726Z"
   },
   {
    "duration": 403,
    "start_time": "2021-12-02T11:58:48.866Z"
   },
   {
    "duration": 790,
    "start_time": "2021-12-02T11:59:21.376Z"
   },
   {
    "duration": 683,
    "start_time": "2021-12-02T11:59:46.003Z"
   },
   {
    "duration": 414,
    "start_time": "2021-12-02T11:59:49.961Z"
   },
   {
    "duration": 679,
    "start_time": "2021-12-02T12:01:15.104Z"
   },
   {
    "duration": 669,
    "start_time": "2021-12-02T12:01:18.414Z"
   },
   {
    "duration": 133,
    "start_time": "2021-12-02T12:01:26.888Z"
   },
   {
    "duration": 504,
    "start_time": "2021-12-02T12:01:31.250Z"
   },
   {
    "duration": 95,
    "start_time": "2021-12-02T12:02:19.311Z"
   },
   {
    "duration": 318,
    "start_time": "2021-12-02T12:02:30.881Z"
   },
   {
    "duration": 4,
    "start_time": "2021-12-02T12:02:33.014Z"
   },
   {
    "duration": 18959,
    "start_time": "2021-12-02T12:02:35.248Z"
   },
   {
    "duration": 71,
    "start_time": "2021-12-02T12:02:54.210Z"
   },
   {
    "duration": 142,
    "start_time": "2021-12-02T12:02:54.284Z"
   },
   {
    "duration": 798,
    "start_time": "2021-12-02T12:03:33.774Z"
   },
   {
    "duration": 798,
    "start_time": "2021-12-02T12:04:06.228Z"
   },
   {
    "duration": 845,
    "start_time": "2021-12-02T12:04:14.825Z"
   },
   {
    "duration": 845,
    "start_time": "2021-12-02T12:04:27.772Z"
   },
   {
    "duration": 148,
    "start_time": "2021-12-02T12:05:28.231Z"
   },
   {
    "duration": 36,
    "start_time": "2021-12-02T12:05:28.607Z"
   },
   {
    "duration": 4,
    "start_time": "2021-12-02T12:05:29.694Z"
   },
   {
    "duration": 29,
    "start_time": "2021-12-02T12:05:30.434Z"
   },
   {
    "duration": 543,
    "start_time": "2021-12-02T12:05:34.246Z"
   },
   {
    "duration": 664,
    "start_time": "2021-12-02T12:05:36.577Z"
   },
   {
    "duration": 146,
    "start_time": "2021-12-02T12:05:38.815Z"
   },
   {
    "duration": 6,
    "start_time": "2021-12-02T12:05:45.706Z"
   },
   {
    "duration": 4,
    "start_time": "2021-12-02T12:06:00.366Z"
   },
   {
    "duration": 34961,
    "start_time": "2021-12-02T12:06:00.677Z"
   },
   {
    "duration": 6,
    "start_time": "2021-12-02T12:07:55.100Z"
   },
   {
    "duration": 403693,
    "start_time": "2021-12-02T12:07:57.922Z"
   },
   {
    "duration": 368,
    "start_time": "2021-12-02T12:15:09.246Z"
   },
   {
    "duration": 342,
    "start_time": "2021-12-02T12:16:05.607Z"
   },
   {
    "duration": 1524,
    "start_time": "2021-12-02T12:18:33.413Z"
   },
   {
    "duration": 5,
    "start_time": "2021-12-02T12:18:34.940Z"
   },
   {
    "duration": 1074,
    "start_time": "2021-12-02T12:18:34.948Z"
   },
   {
    "duration": 38,
    "start_time": "2021-12-02T12:18:36.025Z"
   },
   {
    "duration": 233,
    "start_time": "2021-12-02T12:18:36.066Z"
   },
   {
    "duration": 182,
    "start_time": "2021-12-02T12:18:36.303Z"
   },
   {
    "duration": 117,
    "start_time": "2021-12-02T12:18:36.489Z"
   },
   {
    "duration": 70,
    "start_time": "2021-12-02T12:18:36.609Z"
   },
   {
    "duration": 124,
    "start_time": "2021-12-02T12:18:36.681Z"
   },
   {
    "duration": 159,
    "start_time": "2021-12-02T12:18:36.807Z"
   },
   {
    "duration": 7,
    "start_time": "2021-12-02T12:18:36.968Z"
   },
   {
    "duration": 45,
    "start_time": "2021-12-02T12:18:36.978Z"
   },
   {
    "duration": 223,
    "start_time": "2021-12-02T12:18:37.025Z"
   },
   {
    "duration": 8,
    "start_time": "2021-12-02T12:18:37.251Z"
   },
   {
    "duration": 19300,
    "start_time": "2021-12-02T12:18:37.261Z"
   },
   {
    "duration": 48,
    "start_time": "2021-12-02T12:18:56.564Z"
   },
   {
    "duration": 165,
    "start_time": "2021-12-02T12:18:56.614Z"
   },
   {
    "duration": 839,
    "start_time": "2021-12-02T12:18:56.785Z"
   },
   {
    "duration": 155,
    "start_time": "2021-12-02T12:18:57.627Z"
   },
   {
    "duration": 38,
    "start_time": "2021-12-02T12:18:57.785Z"
   },
   {
    "duration": 10,
    "start_time": "2021-12-02T12:18:57.825Z"
   },
   {
    "duration": 39,
    "start_time": "2021-12-02T12:18:57.838Z"
   },
   {
    "duration": 567,
    "start_time": "2021-12-02T12:18:57.879Z"
   },
   {
    "duration": 680,
    "start_time": "2021-12-02T12:18:58.448Z"
   },
   {
    "duration": 229,
    "start_time": "2021-12-02T12:18:59.131Z"
   },
   {
    "duration": 4,
    "start_time": "2021-12-02T12:18:59.363Z"
   },
   {
    "duration": 541622,
    "start_time": "2021-12-02T12:18:59.369Z"
   },
   {
    "duration": 32362,
    "start_time": "2021-12-02T12:28:00.993Z"
   },
   {
    "duration": 220,
    "start_time": "2021-12-02T12:28:33.360Z"
   },
   {
    "duration": 2988121,
    "start_time": "2021-12-02T12:28:33.582Z"
   },
   {
    "duration": 408855,
    "start_time": "2021-12-02T13:18:21.706Z"
   },
   {
    "duration": 381,
    "start_time": "2021-12-02T13:25:10.563Z"
   },
   {
    "duration": 391530,
    "start_time": "2021-12-02T13:25:10.947Z"
   },
   {
    "duration": 17999,
    "start_time": "2021-12-02T13:31:42.479Z"
   },
   {
    "duration": 866,
    "start_time": "2021-12-02T13:32:00.481Z"
   },
   {
    "duration": 16664,
    "start_time": "2021-12-02T13:32:23.226Z"
   },
   {
    "duration": 778,
    "start_time": "2021-12-02T13:32:39.894Z"
   },
   {
    "duration": 15679,
    "start_time": "2021-12-02T13:33:15.808Z"
   },
   {
    "duration": 13,
    "start_time": "2021-12-02T13:33:52.278Z"
   },
   {
    "duration": 5,
    "start_time": "2021-12-02T13:34:18.367Z"
   },
   {
    "duration": 16314,
    "start_time": "2021-12-02T13:34:46.636Z"
   },
   {
    "duration": 11,
    "start_time": "2021-12-02T13:35:15.544Z"
   },
   {
    "duration": 13,
    "start_time": "2021-12-02T13:35:28.371Z"
   },
   {
    "duration": 11,
    "start_time": "2021-12-02T13:35:32.493Z"
   },
   {
    "duration": 5,
    "start_time": "2021-12-02T13:35:38.834Z"
   },
   {
    "duration": 17486,
    "start_time": "2021-12-02T13:35:41.101Z"
   },
   {
    "duration": 771,
    "start_time": "2021-12-02T13:36:18.995Z"
   },
   {
    "duration": 36,
    "start_time": "2021-12-02T13:46:16.952Z"
   },
   {
    "duration": 36,
    "start_time": "2021-12-02T13:46:46.352Z"
   },
   {
    "duration": 34,
    "start_time": "2021-12-02T13:46:50.189Z"
   },
   {
    "duration": 37,
    "start_time": "2021-12-02T13:47:37.469Z"
   },
   {
    "duration": 5,
    "start_time": "2021-12-02T13:49:57.375Z"
   },
   {
    "duration": 145685,
    "start_time": "2021-12-02T13:50:02.612Z"
   },
   {
    "duration": 6206,
    "start_time": "2021-12-02T13:52:59.954Z"
   },
   {
    "duration": 5838,
    "start_time": "2021-12-02T13:53:18.232Z"
   },
   {
    "duration": 6196,
    "start_time": "2021-12-02T13:54:29.123Z"
   },
   {
    "duration": 4,
    "start_time": "2021-12-02T13:54:50.923Z"
   },
   {
    "duration": 10537,
    "start_time": "2021-12-02T13:54:53.304Z"
   },
   {
    "duration": 121,
    "start_time": "2021-12-02T13:55:08.173Z"
   },
   {
    "duration": 7,
    "start_time": "2021-12-02T13:55:15.541Z"
   },
   {
    "duration": 10,
    "start_time": "2021-12-02T13:55:15.550Z"
   },
   {
    "duration": 1076,
    "start_time": "2021-12-02T13:55:15.563Z"
   },
   {
    "duration": 25,
    "start_time": "2021-12-02T13:55:16.642Z"
   },
   {
    "duration": 172,
    "start_time": "2021-12-02T13:55:16.670Z"
   },
   {
    "duration": 178,
    "start_time": "2021-12-02T13:55:16.845Z"
   },
   {
    "duration": 112,
    "start_time": "2021-12-02T13:55:17.026Z"
   },
   {
    "duration": 54,
    "start_time": "2021-12-02T13:55:17.141Z"
   },
   {
    "duration": 114,
    "start_time": "2021-12-02T13:55:17.199Z"
   },
   {
    "duration": 230,
    "start_time": "2021-12-02T13:55:17.316Z"
   },
   {
    "duration": 17,
    "start_time": "2021-12-02T13:55:17.549Z"
   },
   {
    "duration": 52,
    "start_time": "2021-12-02T13:55:17.569Z"
   },
   {
    "duration": 369,
    "start_time": "2021-12-02T13:55:17.624Z"
   },
   {
    "duration": 5,
    "start_time": "2021-12-02T13:55:17.997Z"
   },
   {
    "duration": 21319,
    "start_time": "2021-12-02T13:55:18.005Z"
   },
   {
    "duration": 57,
    "start_time": "2021-12-02T13:55:39.326Z"
   },
   {
    "duration": 4,
    "start_time": "2021-12-02T13:55:39.385Z"
   },
   {
    "duration": 6720,
    "start_time": "2021-12-02T13:55:39.391Z"
   },
   {
    "duration": 9995,
    "start_time": "2021-12-02T13:55:46.113Z"
   },
   {
    "duration": 151,
    "start_time": "2021-12-02T13:55:56.111Z"
   },
   {
    "duration": 874,
    "start_time": "2021-12-02T13:55:56.264Z"
   },
   {
    "duration": 148,
    "start_time": "2021-12-02T13:56:01.645Z"
   },
   {
    "duration": 31,
    "start_time": "2021-12-02T13:56:01.973Z"
   },
   {
    "duration": 4,
    "start_time": "2021-12-02T13:56:02.863Z"
   },
   {
    "duration": 20,
    "start_time": "2021-12-02T13:56:03.560Z"
   },
   {
    "duration": 551,
    "start_time": "2021-12-02T13:56:07.208Z"
   },
   {
    "duration": 672,
    "start_time": "2021-12-02T13:56:07.762Z"
   },
   {
    "duration": 191,
    "start_time": "2021-12-02T13:56:10.276Z"
   }
  ],
  "kernelspec": {
   "display_name": "Python 3 (ipykernel)",
   "language": "python",
   "name": "python3"
  },
  "language_info": {
   "codemirror_mode": {
    "name": "ipython",
    "version": 3
   },
   "file_extension": ".py",
   "mimetype": "text/x-python",
   "name": "python",
   "nbconvert_exporter": "python",
   "pygments_lexer": "ipython3",
   "version": "3.7.11"
  },
  "notebookId": "50283799-2370-49f0-859c-7cb81c055b7a",
  "notebookPath": "car_price_estimation.ipynb",
  "toc": {
   "base_numbering": 1,
   "nav_menu": {},
   "number_sections": true,
   "sideBar": true,
   "skip_h1_title": true,
   "title_cell": "Table of Contents",
   "title_sidebar": "Contents",
   "toc_cell": false,
   "toc_position": {},
   "toc_section_display": true,
   "toc_window_display": false
  }
 },
 "nbformat": 4,
 "nbformat_minor": 4
}
